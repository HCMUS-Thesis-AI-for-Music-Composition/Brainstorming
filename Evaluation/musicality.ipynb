{
 "cells": [
  {
   "cell_type": "code",
   "execution_count": 1,
   "metadata": {},
   "outputs": [],
   "source": [
    "hooktheory_midi_dir = \"/Users/4rr311/Documents/VectorA/KHTN/Nam4/HKII/Thesis/Brainstorming/DataCrawling/ProcessedData/midi_from_json_songs\"\n",
    "# model_output_dir = \"/Users/4rr311/Documents/VectorA/KHTN/Nam4/HKII/Thesis/Brainstorming/Evaluation/data_for_testing/model_output/topk15-t1.0-ngram0\"\n",
    "# model_output_dir = \"/Users/4rr311/Documents/VectorA/KHTN/Nam4/HKII/Thesis/Brainstorming/MIDI/Ideas/data/output/topk15-t1.0-ngram0\"\n",
    "\n",
    "model_output_dir = \"/Users/4rr311/Documents/VectorA/KHTN/Nam4/HKII/Thesis/Brainstorming/Evaluation/data_for_testing/model_output/data for visualization/lora gpt2\""
   ]
  },
  {
   "cell_type": "code",
   "execution_count": 2,
   "metadata": {},
   "outputs": [],
   "source": [
    "import pretty_midi\n",
    "import numpy as np\n",
    "from collections import Counter\n",
    "import os\n",
    "import plotly.express as px"
   ]
  },
  {
   "cell_type": "code",
   "execution_count": 3,
   "metadata": {},
   "outputs": [],
   "source": [
    "# current_idx = 0\n",
    "\n",
    "# indices_to_analyze = [\n",
    "#     0, 1, 2, 3, 4, 5, 6, 7, 8, 9,\n",
    "#     # 10, 11, 12, 13, 14, 15, 16, 17, 18, 19,\n",
    "#     # 55, 56, 57, 58, 59, 60, 61, 62, 63, 64,\n",
    "#     # 100, 101, 102, 103, 104, 105, 106, 107, 108, 109\n",
    "# ]"
   ]
  },
  {
   "cell_type": "code",
   "execution_count": 4,
   "metadata": {},
   "outputs": [],
   "source": [
    "def load_midi(file_path):\n",
    "    return pretty_midi.PrettyMIDI(file_path)\n",
    "\n",
    "def get_notes(midi_data):\n",
    "    notes = []\n",
    "    for instrument in midi_data.instruments:\n",
    "        if not instrument.is_drum:\n",
    "            for note in instrument.notes:\n",
    "                notes.append(note)\n",
    "    return sorted(notes, key=lambda note: note.start)\n",
    "\n",
    "def pitch_counts(notes):\n",
    "    pitches = [note.pitch for note in notes]\n",
    "    return dict(Counter(pitches))\n",
    "\n",
    "def pitch_class_distribution(notes):\n",
    "    pitch_classes = [note.pitch % 12 for note in notes]\n",
    "    return dict(Counter(pitch_classes))\n",
    "\n",
    "def pitch_class_transition_matrix(notes):\n",
    "    pitch_classes = [note.pitch % 12 for note in notes]\n",
    "    transition_matrix = np.zeros((12, 12))\n",
    "    for i in range(len(pitch_classes) - 1):\n",
    "        transition_matrix[pitch_classes[i], pitch_classes[i + 1]] += 1\n",
    "    return transition_matrix / transition_matrix.sum(axis=1, keepdims=True)\n",
    "\n",
    "def pitch_range(notes):\n",
    "    pitches = [note.pitch for note in notes]\n",
    "    return max(pitches) - min(pitches)\n",
    "\n",
    "def average_pitch_intervals(notes):\n",
    "    pitch_intervals = [notes[i + 1].pitch - notes[i].pitch for i in range(len(notes) - 1)]\n",
    "    return np.mean(pitch_intervals), np.std(pitch_intervals)\n",
    "\n",
    "def average_inter_onset_intervals(notes):\n",
    "    inter_onset_intervals = [notes[i + 1].start - notes[i].start for i in range(len(notes) - 1)]\n",
    "    return np.mean(inter_onset_intervals), np.std(inter_onset_intervals)\n",
    "\n",
    "def note_count(notes):\n",
    "    return len(notes)\n",
    "\n",
    "def note_length_transition_matrix(notes):\n",
    "    note_lengths = [note.end - note.start for note in notes]\n",
    "    unique_lengths = sorted(set(note_lengths))\n",
    "    length_to_idx = {length: idx for idx, length in enumerate(unique_lengths)}\n",
    "    transition_matrix = np.zeros((len(unique_lengths), len(unique_lengths)))\n",
    "    \n",
    "    for i in range(len(note_lengths) - 1):\n",
    "        current_length = note_lengths[i]\n",
    "        next_length = note_lengths[i + 1]\n",
    "        transition_matrix[length_to_idx[current_length], length_to_idx[next_length]] += 1\n",
    "    \n",
    "    return transition_matrix / transition_matrix.sum(axis=1, keepdims=True)\n",
    "\n",
    "def analyze_midi(file_path):\n",
    "    midi_data = load_midi(file_path)\n",
    "    notes = get_notes(midi_data)\n",
    "\n",
    "    analysis = {}\n",
    "    \n",
    "    if len(notes) != 0:\n",
    "        analysis = {\n",
    "            'pitch_counts': pitch_counts(notes),\n",
    "            'pitch_class_distribution': pitch_class_distribution(notes),\n",
    "            # 'pitch_class_transition_matrix': pitch_class_transition_matrix(notes),\n",
    "            # 'pitch_range': pitch_range(notes),\n",
    "            # 'average_pitch_intervals': average_pitch_intervals(notes),\n",
    "            # 'average_inter_onset_intervals': average_inter_onset_intervals(notes),\n",
    "            'note_count': note_count(notes),\n",
    "            # 'note_length_transition_matrix': note_length_transition_matrix(notes)\n",
    "        }\n",
    "    else:\n",
    "        pass\n",
    "    return analysis\n",
    "\n",
    "def analyze_midi_folder(folder_path, max_file_count=10000):\n",
    "    results = {}\n",
    "\n",
    "    current_file_count = 0\n",
    "    # Walk recursively\n",
    "    # for file_name in os.listdir(folder_path):\n",
    "    #     if file_name.endswith('.mid') or file_name.endswith('.midi'):\n",
    "    #         current_file_count += 1\n",
    "    #         if current_file_count > max_file_count:\n",
    "    #             break\n",
    "    #         else:\n",
    "    #             file_path = os.path.join(folder_path, file_name)\n",
    "    #             print(f\"Analyzing file {current_file_count} of {max_file_count} - {file_name}\")\n",
    "    #             results[file_name] = analyze_midi(file_path)\n",
    "    global current_idx\n",
    "    global indices_to_analyze\n",
    "\n",
    "    for root, dirs, files in os.walk(folder_path):\n",
    "        for file_name in files:\n",
    "            # if current_idx not in indices_to_analyze:\n",
    "            #     current_idx += 1\n",
    "            #     continue\n",
    "            # else:\n",
    "            #     current_idx += 1\n",
    "                \n",
    "            if file_name.endswith('.mid') or file_name.endswith('.midi'):\n",
    "                current_file_count += 1\n",
    "                if current_file_count > max_file_count:\n",
    "                    break\n",
    "                else:\n",
    "                    file_path = os.path.join(root, file_name)\n",
    "                    print(f\"Analyzing file {current_file_count} of {max_file_count} - {file_name}\")\n",
    "                    results[file_name] = analyze_midi(file_path)\n",
    "    \n",
    "    current_idx = 0\n",
    "    \n",
    "    return results"
   ]
  },
  {
   "cell_type": "code",
   "execution_count": 5,
   "metadata": {},
   "outputs": [],
   "source": [
    "def average_analysis_results(analysis_results):\n",
    "    average_results = {\n",
    "        \"pitch_counts\": dict[int, float](),\n",
    "        \"pitch_class_distribution\": dict[int, float](),\n",
    "        \"note_count\": int(0)\n",
    "    }\n",
    "    \n",
    "    n_files = len(analysis_results)\n",
    "\n",
    "    for file_name, analysis in analysis_results.items():\n",
    "        for key, value in analysis.items():\n",
    "            if key == 'pitch_counts':\n",
    "                for pitch, v in value.items():\n",
    "                    if pitch not in average_results[\"pitch_counts\"]:\n",
    "                        average_results[\"pitch_counts\"][pitch] = v / n_files\n",
    "                    else:\n",
    "                        average_results[\"pitch_counts\"][pitch] += v / n_files\n",
    "            elif key == 'pitch_class_distribution':\n",
    "                for pitch_class, v in value.items():\n",
    "                    if pitch_class not in average_results[\"pitch_class_distribution\"]:\n",
    "                        average_results[\"pitch_class_distribution\"][pitch_class] = v / n_files\n",
    "                    else:\n",
    "                        average_results[\"pitch_class_distribution\"][pitch_class] += v / n_files\n",
    "            elif key == 'note_count':\n",
    "                average_results[key] += value / n_files\n",
    "            else:\n",
    "                pass\n",
    "    \n",
    "    return average_results"
   ]
  },
  {
   "cell_type": "markdown",
   "metadata": {},
   "source": [
    "# Hooktheory"
   ]
  },
  {
   "cell_type": "code",
   "execution_count": 6,
   "metadata": {},
   "outputs": [
    {
     "name": "stdout",
     "output_type": "stream",
     "text": [
      "Analyzing file 1 of 100 - d_deerhunter_back-to-the-middle_Solo_AQodPXyKoDl.mid\n",
      "Analyzing file 2 of 100 - t_the-beatles_a-hard-days-night_Intro_ZwxK_QNbxed.mid\n",
      "Analyzing file 3 of 100 - n_niall-horan_still_Bridge_jDgXdDVegKl.mid\n",
      "Analyzing file 4 of 100 - a_ashe_love-is-not-enough_Pre-Chorus_yvgPQdedxYq.mid\n",
      "Analyzing file 5 of 100 - b_bryan-scary_operaland_Chorus_DpgvRAkdgad.mid\n",
      "Analyzing file 6 of 100 - j_jimmy-fontanez_urban-lullaby_Verse_Wegl_wa-mrY.mid\n",
      "Analyzing file 7 of 100 - h_hirohiko-takayama_hudsons-adventure-island-iii---thunder-clash_Instrumental_yvmrLZGzxOW.mid\n",
      "Analyzing file 8 of 100 - h_hitomi-yaida_ashita-kara-no-tegami_Intro and Verse_AaoGbakPxeQ.mid\n",
      "Analyzing file 9 of 100 - b_billy-idol_white-wedding_Chorus_eWxLdzOpxaK.mid\n",
      "Analyzing file 10 of 100 - l_lawrence_the-heartburn-song_Verse_ROmNkROngNw.mid\n",
      "Analyzing file 11 of 100 - m_miguel_goingtohell_Verse_zngREQNMmJj.mid\n",
      "Analyzing file 12 of 100 - b_bensound_elevator-bossa-nova_Intro and Verse_d_gwnZ_QmGV.mid\n",
      "Analyzing file 13 of 100 - c_coralie-clement_samba-de-mon-coeur-qui-bat_Verse_AaoGyZvkgeQ.mid\n",
      "Analyzing file 14 of 100 - n_nintendo_tetris-attack---water-stage_Verse_kwxAnkRDoKG.mid\n",
      "Analyzing file 15 of 100 - g_glenn-miller_in-the-mood_Verse_RPxepXOLgb_.mid\n",
      "Analyzing file 16 of 100 - c_clean-bandit-ft-zara-larsson_symphony_Verse_QLgnwrZPx-V.mid\n",
      "Analyzing file 17 of 100 - y_yellow-magic-orchestra_rydeen_Verse_veoYaqPGodn.mid\n",
      "Analyzing file 18 of 100 - s_scott-joplin_peacherine-rag_Outro_kwxA-dAQxKG.mid\n",
      "Analyzing file 19 of 100 - j_jeff-rosenstock_festival-song_Verse_KexEyMzKx_B.mid\n",
      "Analyzing file 20 of 100 - s_santo-and-johnny_sleep-walk_Verse_JkmZBDKZmqn.mid\n",
      "Analyzing file 21 of 100 - r_rina-sawayama_snakeskin_Intro_JNgqkbdworz.mid\n",
      "Analyzing file 22 of 100 - b_bill-wurtz_hi-im-steve_Solo 2_eWxLykMEoaK.mid\n",
      "Analyzing file 23 of 100 - t_the-beatles_all-my-loving_Solo_AQod-KArmDl.mid\n",
      "Analyzing file 24 of 100 - t_taylor-swift_wouldve-couldve-shouldve_Outro_veoYArzyodn.mid\n",
      "Analyzing file 25 of 100 - k_kevin-macleod_mining-by-moonlight_Verse_nJmB_jekgAV.mid\n",
      "Analyzing file 26 of 100 - a_ashlee-simpson_pieces-of-me_Verse__NgbnvXbgQA.mid\n",
      "Analyzing file 27 of 100 - m_michiru-yamane_castlevania-por---gaze-up-at-the-darkness_Solo 1_ZwxK_MkZxed.mid\n",
      "Analyzing file 28 of 100 - k_katy-perry_california-gurls_Chorus_JkmZkDjbgqn.mid\n",
      "Analyzing file 29 of 100 - p_paul-mccartney_keep-under-cover_Chorus_kwxA_WbWmKG.mid\n",
      "Analyzing file 30 of 100 - h_hertzdevil_stage-50_Verse_yvmrlOEZxOW.mid\n",
      "Analyzing file 31 of 100 - e_etta-james_a-sunday-kind-of-love_Pre-Outro_VMgJDbRWoqK.mid\n",
      "Analyzing file 32 of 100 - o_of-montreal_its-a-very-starry-night_Verse_nLgaZza_xYp.mid\n",
      "Analyzing file 33 of 100 - p_paty-cantu_no-fue-suficiente_Chorus_nvgywa-OokA.mid\n",
      "Analyzing file 34 of 100 - c_czeslaw-niemen_pod-papugami_Chorus_yvmraNNaoOW.mid\n",
      "Analyzing file 35 of 100 - b_brian-chard_champd-up---create-3_Intro_nvgyllb-mkA.mid\n",
      "Analyzing file 36 of 100 - b_brian-tyler_formula-1-theme_Chorus_ANmprQQOxyM.mid\n",
      "Analyzing file 37 of 100 - m_mid-air-thief_these-chains_Chorus_QLgnAJJEm-V.mid\n",
      "Analyzing file 38 of 100 - e_eric-prydz_call-on-me_Chorus_lamkpZnegDM.mid\n",
      "Analyzing file 39 of 100 - k_kevin-macleod_brightly-fancy_Verse_veoYkB-agdn.mid\n",
      "Analyzing file 40 of 100 - g_genesis_seven-stones_Intro_RzojZlBQoDe.mid\n",
      "Analyzing file 41 of 100 - k_king-crimson_i-talk-to-the-wind_Verse_dPoD_bpdxnM.mid\n",
      "Analyzing file 42 of 100 - s_silent-partner_last-call_Chorus_AQodnMPqgDl.mid\n",
      "Analyzing file 43 of 100 - r_rhythm-heaven-fever_struck-by-the-rain_Chorus_LAgQezQEgyO.mid\n",
      "Analyzing file 44 of 100 - z_zach-bryan_something-in-the-orange_Chorus_nLgaKRd_oYp.mid\n",
      "Analyzing file 45 of 100 - l_lady-gaga_marry-the-night_Outro_LAgQqKyegyO.mid\n",
      "Analyzing file 46 of 100 - p_porter-robinson_get-your-wish_Pre-Chorus_ZwxKbXJjged.mid\n",
      "Analyzing file 47 of 100 - g_gold-motel_stealing-the-moonlight_Pre-Chorus_KexEpXwvg_B.mid\n",
      "Analyzing file 48 of 100 - y_yeule_pocky-boy_Verse_jDgXlMRqgKl.mid\n",
      "Analyzing file 49 of 100 - m_michael-jackson_the-way-you-make-me-feel_Pre-Chorus_kwxAn-kQoKG.mid\n",
      "Analyzing file 50 of 100 - f_fergie_a-little-party-never-killed-nobody_Verse_kygzVRZzgKB.mid\n",
      "Analyzing file 51 of 100 - m_megan-thee-stallion-and-dua-lipa_sweetest-pie_Bridge_Weglqnz-xrY.mid\n",
      "Analyzing file 52 of 100 - j_johnny-hates-jazz_shattered-dreams_Intro_Abm_dPEJgak.mid\n",
      "Analyzing file 53 of 100 - b_black-country-new-road_the-place-where-he-inserted-the-blade_Verse_WeglrWraorY.mid\n",
      "Analyzing file 54 of 100 - a_alexandra-burke_hallelujah_Verse_JkmZZLWJmqn.mid\n",
      "Analyzing file 55 of 100 - m_men-without-hats_the-safety-dance_Chorus_yvmrZ_yZmOW.mid\n",
      "Analyzing file 56 of 100 - n_nikolai-rimsky-korsakov_flight-of-the-bumblebee_Intro and Verse_Wegl_zEYmrY.mid\n",
      "Analyzing file 57 of 100 - j_jj-lin_back-to-back_Chorus_zngRyOQVmJj.mid\n",
      "Analyzing file 58 of 100 - p_paramore_looking-up_Intro_bWgMlXRXmlX.mid\n",
      "Analyzing file 59 of 100 - n_nintendo_green-tree-memories---super-kirby-clash_Intro_bWgMQAXXglX.mid\n",
      "Analyzing file 60 of 100 - o_of-montreal_good-morning-mr-edminton_Chorus_kygzJBJbgKB.mid\n",
      "Analyzing file 61 of 100 - t_the-hush-sound_as-you-cry_Bridge_ZwxKdXMGoed.mid\n",
      "Analyzing file 62 of 100 - t_the-knife_you-take-my-breath-away_Chorus_VMgJJQLAgqK.mid\n",
      "Analyzing file 63 of 100 - l_labrinth_dotted-line---juju-man_Chorus_d_gwpl-MxGV.mid\n",
      "Analyzing file 64 of 100 - h_hololive_usada-pekora-bgm_Chorus_zngRlvOAoJj.mid\n",
      "Analyzing file 65 of 100 - a_absofacto_dissolve_Chorus_d_gwaMNroGV.mid\n",
      "Analyzing file 66 of 100 - t_the-bucketheads_the-bomb-%28these-sound-fall-into-my-mind%29_Pre-Chorus_JNgqzWOXxrz.mid\n",
      "Analyzing file 67 of 100 - t_the-divine-comedy_lost-property_Chorus_yvgPAVAAxYq.mid\n",
      "Analyzing file 68 of 100 - b_bee-gees_how-deep-is-your-love_Pre-Chorus_nLgapljbmYp.mid\n",
      "Analyzing file 69 of 100 - r_roar_just-a-fan_Chorus Lead-Out_lamkleVegDM.mid\n",
      "Analyzing file 70 of 100 - m_mayday_donts-donts_Verse_nJmB-yaAoAV.mid\n",
      "Analyzing file 71 of 100 - j_josh-woodward_prelude-no-24_Verse_eWxLJaYqmaK.mid\n",
      "Analyzing file 72 of 100 - b_bjork_venus-as-a-boy_Bridge_VMgJlMjaoqK.mid\n",
      "Analyzing file 73 of 100 - b_billy-joel_this-is-the-time_Intro_nvgyKlerokA.mid\n",
      "Analyzing file 74 of 100 - g_gorillaz_doncamatic-ft-daley_Intro_QLgnnaPEg-V.mid\n",
      "Analyzing file 75 of 100 - a_area-11_%28break%29-in-case-of_Bridge_yvgPjVZBoYq.mid\n",
      "Analyzing file 76 of 100 - j_jukebox-the-ghost_everybody-knows_Verse_nvgyE_OXgkA.mid\n",
      "Analyzing file 77 of 100 - s_setsuna-yuuki_love-live---dive_Chorus Lead-Out_veoYv-Mnmdn.mid\n",
      "Analyzing file 78 of 100 - h_henrique-lorenzi_on-the-line-%28ninjin-opening-credits-theme%29_Instrumental_bWgMkYDPolX.mid\n",
      "Analyzing file 79 of 100 - b_bruno-major_easily_Chorus_RPxeE-qaxb_.mid\n",
      "Analyzing file 80 of 100 - m_miles-davis_blue-in-green_Intro_eWxLDeJkxaK.mid\n",
      "Analyzing file 81 of 100 - e_erik-satie_gnossienne-no-1_Chorus_JNgqRrJnxrz.mid\n",
      "Analyzing file 82 of 100 - a_ariana-grande_santa-tell-me_Verse and Pre-Chorus_nJmB-PrboAV.mid\n",
      "Analyzing file 83 of 100 - p_pippin-%28new-broadway-cast%29_corner-of-the-sky_Verse_WeglpedlgrY.mid\n",
      "Analyzing file 84 of 100 - t_the-mccoys_hang-on-sloopy_Chorus_nLgaPKWZmYp.mid\n",
      "Analyzing file 85 of 100 - k_kazuma-kiryu_baka-mitai_Chorus_ZOxVvjEAxdq.mid\n",
      "Analyzing file 86 of 100 - z_zun_retrospective-kyoto_Intro and Verse_eWxLylGqoaK.mid\n",
      "Analyzing file 87 of 100 - m_magdalena-bay_you-lose_Chorus_WeglQBV-xrY.mid\n",
      "Analyzing file 88 of 100 - b_bryan-scary_dgo_Chorus_ZbgODENbxnY.mid\n",
      "Analyzing file 89 of 100 - f_fullmetal-alchemist-brotherhood_trishas-lullaby_Verse_WeglQ_bAxrY.mid\n",
      "Analyzing file 90 of 100 - g_garbage_big-bright-world_Verse_VMgJjZXDgqK.mid\n",
      "Analyzing file 91 of 100 - h_hozier_take-me-to-church_Chorus_nLgaPkrBmYp.mid\n",
      "Analyzing file 92 of 100 - b_ben-folds_the-luckiest_Verse_AQodpGJBoDl.mid\n",
      "Analyzing file 93 of 100 - m_maison-ware_save-my-soul_Chorus_yvgPjMpAoYq.mid\n",
      "Analyzing file 94 of 100 - y_yazoo_dont-go_Pre-Chorus and Chorus_nvgyjyzexkA.mid\n",
      "Analyzing file 95 of 100 - k_kali-uchis_miami_Bridge_ZbgOpQpQxnY.mid\n",
      "Analyzing file 96 of 100 - e_eisley_go-away_Intro_ZwxKbNawged.mid\n",
      "Analyzing file 97 of 100 - b_bananarama_love-truth-and-honesty_Chorus_nLgadYyEmYp.mid\n",
      "Analyzing file 98 of 100 - s_silent-partner_country-blues_Verse_YAg-P_wPmle.mid\n",
      "Analyzing file 99 of 100 - n_nintendo_versus-victory---dr-mario_Intro and Verse_LAgQenBvgyO.mid\n",
      "Analyzing file 100 of 100 - c_christopher-cross_arthurs-theme-%28best-that-you-can-do%29_Chorus_Wegl_WYJmrY.mid\n"
     ]
    }
   ],
   "source": [
    "folder_path = hooktheory_midi_dir\n",
    "n_file_to_analyze = 29038\n",
    "n_file_to_analyze = 100\n",
    "\n",
    "analysis_results = analyze_midi_folder(folder_path, n_file_to_analyze)"
   ]
  },
  {
   "cell_type": "code",
   "execution_count": 7,
   "metadata": {},
   "outputs": [
    {
     "name": "stdout",
     "output_type": "stream",
     "text": [
      "1 of 100 result - d_deerhunter_back-to-the-middle_Solo_AQodPXyKoDl.mid:\n",
      "  pitch_counts: {71: 14, 59: 2, 62: 2, 66: 16, 35: 2, 73: 6, 68: 24, 57: 2, 61: 12, 64: 14, 33: 2, 69: 2, 42: 2, 40: 2, 37: 2}\n",
      "  pitch_class_distribution: {11: 18, 2: 2, 6: 18, 1: 20, 8: 24, 9: 6, 4: 16}\n",
      "  note_count: 104\n"
     ]
    }
   ],
   "source": [
    "n_file_to_print = 1\n",
    "\n",
    "current_file = 0\n",
    "\n",
    "# Print results\n",
    "for file_name, analysis in analysis_results.items():\n",
    "    if current_file < n_file_to_print:\n",
    "        current_file += 1\n",
    "        print(f\"{current_file} of {n_file_to_analyze} result - {file_name}:\")\n",
    "\n",
    "        for key, value in analysis.items():\n",
    "            print(f\"  {key}: {value}\")\n",
    "    else:\n",
    "        break"
   ]
  },
  {
   "cell_type": "code",
   "execution_count": 8,
   "metadata": {},
   "outputs": [
    {
     "name": "stdout",
     "output_type": "stream",
     "text": [
      "Average results:\n",
      "  pitch_counts: {71: 4.09, 59: 4.319999999999999, 62: 7.209999999999999, 66: 5.18, 35: 1.4400000000000004, 73: 2.08, 68: 4.749999999999999, 57: 3.4499999999999984, 61: 4.339999999999998, 64: 5.969999999999999, 33: 1.3500000000000005, 69: 5.6099999999999985, 42: 0.39999999999999997, 40: 0.6300000000000001, 37: 0.9000000000000001, 65: 6.089999999999997, 67: 7.349999999999999, 72: 3.4899999999999993, 38: 1.0800000000000005, 60: 4.889999999999995, 77: 1.1900000000000004, 75: 1.5600000000000005, 44: 0.21000000000000002, 56: 1.6000000000000003, 63: 4.509999999999997, 32: 0.6800000000000002, 58: 3.549999999999999, 51: 0.6700000000000002, 55: 2.6399999999999992, 27: 0.48, 34: 1.3600000000000005, 36: 1.0500000000000003, 76: 1.4200000000000006, 74: 2.609999999999999, 78: 1.0900000000000003, 79: 0.9400000000000003, 81: 0.37, 82: 0.3800000000000001, 70: 3.3299999999999987, 45: 0.25, 80: 0.4700000000000001, 83: 0.19999999999999998, 85: 0.21000000000000002, 87: 0.07, 39: 0.48000000000000004, 53: 1.3300000000000005, 29: 0.76, 31: 1.3400000000000005, 41: 0.5900000000000001, 50: 0.7300000000000002, 54: 1.3300000000000003, 26: 0.6200000000000001, 52: 0.9000000000000001, 28: 0.39999999999999997, 47: 0.04, 48: 0.28, 24: 0.26, 30: 0.5800000000000001, 84: 0.26, 86: 0.08, 46: 0.14, 43: 0.3800000000000001, 88: 0.09, 89: 0.09, 91: 0.02, 49: 0.16999999999999998, 25: 0.09999999999999999, 93: 0.01}\n",
      "  pitch_class_distribution: {11: 10.089999999999996, 2: 12.329999999999995, 6: 8.58, 1: 7.799999999999995, 8: 7.709999999999996, 9: 11.039999999999997, 4: 9.410000000000002, 5: 10.049999999999997, 7: 12.669999999999995, 0: 10.229999999999999, 3: 7.769999999999999, 10: 8.759999999999996}\n",
      "  note_count: 116.44000000000007\n"
     ]
    }
   ],
   "source": [
    "average_results = average_analysis_results(analysis_results)\n",
    "\n",
    "# Print average results\n",
    "print(\"Average results:\")\n",
    "for key, value in average_results.items():\n",
    "    print(f\"  {key}: {value}\")\n",
    "\n",
    "# Save average results to file\n",
    "# with open('average_results.json', 'w') as f:\n",
    "#     json.dump(average_results, f, indent=4)\n",
    "\n",
    "# Save analysis results to file\n",
    "# with open('analysis_results.json', 'w') as f:\n",
    "#     json.dump(analysis_results, f, indent=4)"
   ]
  },
  {
   "cell_type": "code",
   "execution_count": 9,
   "metadata": {},
   "outputs": [
    {
     "data": {
      "application/vnd.plotly.v1+json": {
       "config": {
        "plotlyServerURL": "https://plot.ly"
       },
       "data": [
        {
         "alignmentgroup": "True",
         "hovertemplate": "x=%{x}<br>y=%{y}<extra></extra>",
         "legendgroup": "",
         "marker": {
          "color": "rgb(158,202,225)",
          "line": {
           "color": "rgb(8,48,107)",
           "width": 1.5
          },
          "pattern": {
           "shape": ""
          }
         },
         "name": "",
         "offsetgroup": "",
         "opacity": 0.6,
         "orientation": "h",
         "showlegend": false,
         "textposition": "auto",
         "type": "bar",
         "x": [
          4.09,
          4.319999999999999,
          7.209999999999999,
          5.18,
          1.4400000000000004,
          2.08,
          4.749999999999999,
          3.4499999999999984,
          4.339999999999998,
          5.969999999999999,
          1.3500000000000005,
          5.6099999999999985,
          0.39999999999999997,
          0.6300000000000001,
          0.9000000000000001,
          6.089999999999997,
          7.349999999999999,
          3.4899999999999993,
          1.0800000000000005,
          4.889999999999995,
          1.1900000000000004,
          1.5600000000000005,
          0.21000000000000002,
          1.6000000000000003,
          4.509999999999997,
          0.6800000000000002,
          3.549999999999999,
          0.6700000000000002,
          2.6399999999999992,
          0.48,
          1.3600000000000005,
          1.0500000000000003,
          1.4200000000000006,
          2.609999999999999,
          1.0900000000000003,
          0.9400000000000003,
          0.37,
          0.3800000000000001,
          3.3299999999999987,
          0.25,
          0.4700000000000001,
          0.19999999999999998,
          0.21000000000000002,
          0.07,
          0.48000000000000004,
          1.3300000000000005,
          0.76,
          1.3400000000000005,
          0.5900000000000001,
          0.7300000000000002,
          1.3300000000000003,
          0.6200000000000001,
          0.9000000000000001,
          0.39999999999999997,
          0.04,
          0.28,
          0.26,
          0.5800000000000001,
          0.26,
          0.08,
          0.14,
          0.3800000000000001,
          0.09,
          0.09,
          0.02,
          0.16999999999999998,
          0.09999999999999999,
          0.01
         ],
         "xaxis": "x",
         "y": [
          71,
          59,
          62,
          66,
          35,
          73,
          68,
          57,
          61,
          64,
          33,
          69,
          42,
          40,
          37,
          65,
          67,
          72,
          38,
          60,
          77,
          75,
          44,
          56,
          63,
          32,
          58,
          51,
          55,
          27,
          34,
          36,
          76,
          74,
          78,
          79,
          81,
          82,
          70,
          45,
          80,
          83,
          85,
          87,
          39,
          53,
          29,
          31,
          41,
          50,
          54,
          26,
          52,
          28,
          47,
          48,
          24,
          30,
          84,
          86,
          46,
          43,
          88,
          89,
          91,
          49,
          25,
          93
         ],
         "yaxis": "y"
        }
       ],
       "layout": {
        "autosize": false,
        "barmode": "overlay",
        "font": {
         "size": 13
        },
        "height": 1200,
        "legend": {
         "tracegroupgap": 0
        },
        "margin": {
         "t": 60
        },
        "plot_bgcolor": "white",
        "template": {
         "data": {
          "bar": [
           {
            "error_x": {
             "color": "#2a3f5f"
            },
            "error_y": {
             "color": "#2a3f5f"
            },
            "marker": {
             "line": {
              "color": "#E5ECF6",
              "width": 0.5
             },
             "pattern": {
              "fillmode": "overlay",
              "size": 10,
              "solidity": 0.2
             }
            },
            "type": "bar"
           }
          ],
          "barpolar": [
           {
            "marker": {
             "line": {
              "color": "#E5ECF6",
              "width": 0.5
             },
             "pattern": {
              "fillmode": "overlay",
              "size": 10,
              "solidity": 0.2
             }
            },
            "type": "barpolar"
           }
          ],
          "carpet": [
           {
            "aaxis": {
             "endlinecolor": "#2a3f5f",
             "gridcolor": "white",
             "linecolor": "white",
             "minorgridcolor": "white",
             "startlinecolor": "#2a3f5f"
            },
            "baxis": {
             "endlinecolor": "#2a3f5f",
             "gridcolor": "white",
             "linecolor": "white",
             "minorgridcolor": "white",
             "startlinecolor": "#2a3f5f"
            },
            "type": "carpet"
           }
          ],
          "choropleth": [
           {
            "colorbar": {
             "outlinewidth": 0,
             "ticks": ""
            },
            "type": "choropleth"
           }
          ],
          "contour": [
           {
            "colorbar": {
             "outlinewidth": 0,
             "ticks": ""
            },
            "colorscale": [
             [
              0,
              "#0d0887"
             ],
             [
              0.1111111111111111,
              "#46039f"
             ],
             [
              0.2222222222222222,
              "#7201a8"
             ],
             [
              0.3333333333333333,
              "#9c179e"
             ],
             [
              0.4444444444444444,
              "#bd3786"
             ],
             [
              0.5555555555555556,
              "#d8576b"
             ],
             [
              0.6666666666666666,
              "#ed7953"
             ],
             [
              0.7777777777777778,
              "#fb9f3a"
             ],
             [
              0.8888888888888888,
              "#fdca26"
             ],
             [
              1,
              "#f0f921"
             ]
            ],
            "type": "contour"
           }
          ],
          "contourcarpet": [
           {
            "colorbar": {
             "outlinewidth": 0,
             "ticks": ""
            },
            "type": "contourcarpet"
           }
          ],
          "heatmap": [
           {
            "colorbar": {
             "outlinewidth": 0,
             "ticks": ""
            },
            "colorscale": [
             [
              0,
              "#0d0887"
             ],
             [
              0.1111111111111111,
              "#46039f"
             ],
             [
              0.2222222222222222,
              "#7201a8"
             ],
             [
              0.3333333333333333,
              "#9c179e"
             ],
             [
              0.4444444444444444,
              "#bd3786"
             ],
             [
              0.5555555555555556,
              "#d8576b"
             ],
             [
              0.6666666666666666,
              "#ed7953"
             ],
             [
              0.7777777777777778,
              "#fb9f3a"
             ],
             [
              0.8888888888888888,
              "#fdca26"
             ],
             [
              1,
              "#f0f921"
             ]
            ],
            "type": "heatmap"
           }
          ],
          "heatmapgl": [
           {
            "colorbar": {
             "outlinewidth": 0,
             "ticks": ""
            },
            "colorscale": [
             [
              0,
              "#0d0887"
             ],
             [
              0.1111111111111111,
              "#46039f"
             ],
             [
              0.2222222222222222,
              "#7201a8"
             ],
             [
              0.3333333333333333,
              "#9c179e"
             ],
             [
              0.4444444444444444,
              "#bd3786"
             ],
             [
              0.5555555555555556,
              "#d8576b"
             ],
             [
              0.6666666666666666,
              "#ed7953"
             ],
             [
              0.7777777777777778,
              "#fb9f3a"
             ],
             [
              0.8888888888888888,
              "#fdca26"
             ],
             [
              1,
              "#f0f921"
             ]
            ],
            "type": "heatmapgl"
           }
          ],
          "histogram": [
           {
            "marker": {
             "pattern": {
              "fillmode": "overlay",
              "size": 10,
              "solidity": 0.2
             }
            },
            "type": "histogram"
           }
          ],
          "histogram2d": [
           {
            "colorbar": {
             "outlinewidth": 0,
             "ticks": ""
            },
            "colorscale": [
             [
              0,
              "#0d0887"
             ],
             [
              0.1111111111111111,
              "#46039f"
             ],
             [
              0.2222222222222222,
              "#7201a8"
             ],
             [
              0.3333333333333333,
              "#9c179e"
             ],
             [
              0.4444444444444444,
              "#bd3786"
             ],
             [
              0.5555555555555556,
              "#d8576b"
             ],
             [
              0.6666666666666666,
              "#ed7953"
             ],
             [
              0.7777777777777778,
              "#fb9f3a"
             ],
             [
              0.8888888888888888,
              "#fdca26"
             ],
             [
              1,
              "#f0f921"
             ]
            ],
            "type": "histogram2d"
           }
          ],
          "histogram2dcontour": [
           {
            "colorbar": {
             "outlinewidth": 0,
             "ticks": ""
            },
            "colorscale": [
             [
              0,
              "#0d0887"
             ],
             [
              0.1111111111111111,
              "#46039f"
             ],
             [
              0.2222222222222222,
              "#7201a8"
             ],
             [
              0.3333333333333333,
              "#9c179e"
             ],
             [
              0.4444444444444444,
              "#bd3786"
             ],
             [
              0.5555555555555556,
              "#d8576b"
             ],
             [
              0.6666666666666666,
              "#ed7953"
             ],
             [
              0.7777777777777778,
              "#fb9f3a"
             ],
             [
              0.8888888888888888,
              "#fdca26"
             ],
             [
              1,
              "#f0f921"
             ]
            ],
            "type": "histogram2dcontour"
           }
          ],
          "mesh3d": [
           {
            "colorbar": {
             "outlinewidth": 0,
             "ticks": ""
            },
            "type": "mesh3d"
           }
          ],
          "parcoords": [
           {
            "line": {
             "colorbar": {
              "outlinewidth": 0,
              "ticks": ""
             }
            },
            "type": "parcoords"
           }
          ],
          "pie": [
           {
            "automargin": true,
            "type": "pie"
           }
          ],
          "scatter": [
           {
            "fillpattern": {
             "fillmode": "overlay",
             "size": 10,
             "solidity": 0.2
            },
            "type": "scatter"
           }
          ],
          "scatter3d": [
           {
            "line": {
             "colorbar": {
              "outlinewidth": 0,
              "ticks": ""
             }
            },
            "marker": {
             "colorbar": {
              "outlinewidth": 0,
              "ticks": ""
             }
            },
            "type": "scatter3d"
           }
          ],
          "scattercarpet": [
           {
            "marker": {
             "colorbar": {
              "outlinewidth": 0,
              "ticks": ""
             }
            },
            "type": "scattercarpet"
           }
          ],
          "scattergeo": [
           {
            "marker": {
             "colorbar": {
              "outlinewidth": 0,
              "ticks": ""
             }
            },
            "type": "scattergeo"
           }
          ],
          "scattergl": [
           {
            "marker": {
             "colorbar": {
              "outlinewidth": 0,
              "ticks": ""
             }
            },
            "type": "scattergl"
           }
          ],
          "scattermapbox": [
           {
            "marker": {
             "colorbar": {
              "outlinewidth": 0,
              "ticks": ""
             }
            },
            "type": "scattermapbox"
           }
          ],
          "scatterpolar": [
           {
            "marker": {
             "colorbar": {
              "outlinewidth": 0,
              "ticks": ""
             }
            },
            "type": "scatterpolar"
           }
          ],
          "scatterpolargl": [
           {
            "marker": {
             "colorbar": {
              "outlinewidth": 0,
              "ticks": ""
             }
            },
            "type": "scatterpolargl"
           }
          ],
          "scatterternary": [
           {
            "marker": {
             "colorbar": {
              "outlinewidth": 0,
              "ticks": ""
             }
            },
            "type": "scatterternary"
           }
          ],
          "surface": [
           {
            "colorbar": {
             "outlinewidth": 0,
             "ticks": ""
            },
            "colorscale": [
             [
              0,
              "#0d0887"
             ],
             [
              0.1111111111111111,
              "#46039f"
             ],
             [
              0.2222222222222222,
              "#7201a8"
             ],
             [
              0.3333333333333333,
              "#9c179e"
             ],
             [
              0.4444444444444444,
              "#bd3786"
             ],
             [
              0.5555555555555556,
              "#d8576b"
             ],
             [
              0.6666666666666666,
              "#ed7953"
             ],
             [
              0.7777777777777778,
              "#fb9f3a"
             ],
             [
              0.8888888888888888,
              "#fdca26"
             ],
             [
              1,
              "#f0f921"
             ]
            ],
            "type": "surface"
           }
          ],
          "table": [
           {
            "cells": {
             "fill": {
              "color": "#EBF0F8"
             },
             "line": {
              "color": "white"
             }
            },
            "header": {
             "fill": {
              "color": "#C8D4E3"
             },
             "line": {
              "color": "white"
             }
            },
            "type": "table"
           }
          ]
         },
         "layout": {
          "annotationdefaults": {
           "arrowcolor": "#2a3f5f",
           "arrowhead": 0,
           "arrowwidth": 1
          },
          "autotypenumbers": "strict",
          "coloraxis": {
           "colorbar": {
            "outlinewidth": 0,
            "ticks": ""
           }
          },
          "colorscale": {
           "diverging": [
            [
             0,
             "#8e0152"
            ],
            [
             0.1,
             "#c51b7d"
            ],
            [
             0.2,
             "#de77ae"
            ],
            [
             0.3,
             "#f1b6da"
            ],
            [
             0.4,
             "#fde0ef"
            ],
            [
             0.5,
             "#f7f7f7"
            ],
            [
             0.6,
             "#e6f5d0"
            ],
            [
             0.7,
             "#b8e186"
            ],
            [
             0.8,
             "#7fbc41"
            ],
            [
             0.9,
             "#4d9221"
            ],
            [
             1,
             "#276419"
            ]
           ],
           "sequential": [
            [
             0,
             "#0d0887"
            ],
            [
             0.1111111111111111,
             "#46039f"
            ],
            [
             0.2222222222222222,
             "#7201a8"
            ],
            [
             0.3333333333333333,
             "#9c179e"
            ],
            [
             0.4444444444444444,
             "#bd3786"
            ],
            [
             0.5555555555555556,
             "#d8576b"
            ],
            [
             0.6666666666666666,
             "#ed7953"
            ],
            [
             0.7777777777777778,
             "#fb9f3a"
            ],
            [
             0.8888888888888888,
             "#fdca26"
            ],
            [
             1,
             "#f0f921"
            ]
           ],
           "sequentialminus": [
            [
             0,
             "#0d0887"
            ],
            [
             0.1111111111111111,
             "#46039f"
            ],
            [
             0.2222222222222222,
             "#7201a8"
            ],
            [
             0.3333333333333333,
             "#9c179e"
            ],
            [
             0.4444444444444444,
             "#bd3786"
            ],
            [
             0.5555555555555556,
             "#d8576b"
            ],
            [
             0.6666666666666666,
             "#ed7953"
            ],
            [
             0.7777777777777778,
             "#fb9f3a"
            ],
            [
             0.8888888888888888,
             "#fdca26"
            ],
            [
             1,
             "#f0f921"
            ]
           ]
          },
          "colorway": [
           "#636efa",
           "#EF553B",
           "#00cc96",
           "#ab63fa",
           "#FFA15A",
           "#19d3f3",
           "#FF6692",
           "#B6E880",
           "#FF97FF",
           "#FECB52"
          ],
          "font": {
           "color": "#2a3f5f"
          },
          "geo": {
           "bgcolor": "white",
           "lakecolor": "white",
           "landcolor": "#E5ECF6",
           "showlakes": true,
           "showland": true,
           "subunitcolor": "white"
          },
          "hoverlabel": {
           "align": "left"
          },
          "hovermode": "closest",
          "mapbox": {
           "style": "light"
          },
          "paper_bgcolor": "white",
          "plot_bgcolor": "#E5ECF6",
          "polar": {
           "angularaxis": {
            "gridcolor": "white",
            "linecolor": "white",
            "ticks": ""
           },
           "bgcolor": "#E5ECF6",
           "radialaxis": {
            "gridcolor": "white",
            "linecolor": "white",
            "ticks": ""
           }
          },
          "scene": {
           "xaxis": {
            "backgroundcolor": "#E5ECF6",
            "gridcolor": "white",
            "gridwidth": 2,
            "linecolor": "white",
            "showbackground": true,
            "ticks": "",
            "zerolinecolor": "white"
           },
           "yaxis": {
            "backgroundcolor": "#E5ECF6",
            "gridcolor": "white",
            "gridwidth": 2,
            "linecolor": "white",
            "showbackground": true,
            "ticks": "",
            "zerolinecolor": "white"
           },
           "zaxis": {
            "backgroundcolor": "#E5ECF6",
            "gridcolor": "white",
            "gridwidth": 2,
            "linecolor": "white",
            "showbackground": true,
            "ticks": "",
            "zerolinecolor": "white"
           }
          },
          "shapedefaults": {
           "line": {
            "color": "#2a3f5f"
           }
          },
          "ternary": {
           "aaxis": {
            "gridcolor": "white",
            "linecolor": "white",
            "ticks": ""
           },
           "baxis": {
            "gridcolor": "white",
            "linecolor": "white",
            "ticks": ""
           },
           "bgcolor": "#E5ECF6",
           "caxis": {
            "gridcolor": "white",
            "linecolor": "white",
            "ticks": ""
           }
          },
          "title": {
           "x": 0.05
          },
          "xaxis": {
           "automargin": true,
           "gridcolor": "white",
           "linecolor": "white",
           "ticks": "",
           "title": {
            "standoff": 15
           },
           "zerolinecolor": "white",
           "zerolinewidth": 2
          },
          "yaxis": {
           "automargin": true,
           "gridcolor": "white",
           "linecolor": "white",
           "ticks": "",
           "title": {
            "standoff": 15
           },
           "zerolinecolor": "white",
           "zerolinewidth": 2
          }
         }
        },
        "title": {
         "text": "Hooktheory (n = 100)"
        },
        "width": 450,
        "xaxis": {
         "anchor": "y",
         "domain": [
          0,
          1
         ],
         "gridcolor": "rgb(158,202,225)",
         "gridwidth": 1,
         "showgrid": true,
         "tickvals": [
          0,
          1,
          2,
          3,
          4,
          5,
          6,
          7,
          8
         ],
         "title": {
          "text": "Số lần xuất hiện trung bình"
         }
        },
        "yaxis": {
         "anchor": "x",
         "domain": [
          0,
          1
         ],
         "tickvals": [
          0,
          5,
          10,
          15,
          20,
          25,
          30,
          35,
          40,
          45,
          50,
          55,
          60,
          65,
          70,
          75,
          80,
          85,
          90
         ],
         "title": {
          "text": "Cao độ"
         }
        }
       }
      }
     },
     "metadata": {},
     "output_type": "display_data"
    },
    {
     "data": {
      "application/vnd.plotly.v1+json": {
       "config": {
        "plotlyServerURL": "https://plot.ly"
       },
       "data": [
        {
         "alignmentgroup": "True",
         "hovertemplate": "x=%{x}<br>y=%{y}<extra></extra>",
         "legendgroup": "",
         "marker": {
          "color": "rgb(158,202,225)",
          "line": {
           "color": "rgb(8,48,107)",
           "width": 1.5
          },
          "pattern": {
           "shape": ""
          }
         },
         "name": "",
         "offsetgroup": "",
         "opacity": 0.6,
         "orientation": "v",
         "showlegend": false,
         "textposition": "auto",
         "type": "bar",
         "x": [
          11,
          2,
          6,
          1,
          8,
          9,
          4,
          5,
          7,
          0,
          3,
          10
         ],
         "xaxis": "x",
         "y": [
          10.089999999999996,
          12.329999999999995,
          8.58,
          7.799999999999995,
          7.709999999999996,
          11.039999999999997,
          9.410000000000002,
          10.049999999999997,
          12.669999999999995,
          10.229999999999999,
          7.769999999999999,
          8.759999999999996
         ],
         "yaxis": "y"
        }
       ],
       "layout": {
        "autosize": false,
        "barmode": "relative",
        "font": {
         "size": 13
        },
        "height": 400,
        "legend": {
         "tracegroupgap": 0
        },
        "margin": {
         "t": 60
        },
        "plot_bgcolor": "white",
        "template": {
         "data": {
          "bar": [
           {
            "error_x": {
             "color": "#2a3f5f"
            },
            "error_y": {
             "color": "#2a3f5f"
            },
            "marker": {
             "line": {
              "color": "#E5ECF6",
              "width": 0.5
             },
             "pattern": {
              "fillmode": "overlay",
              "size": 10,
              "solidity": 0.2
             }
            },
            "type": "bar"
           }
          ],
          "barpolar": [
           {
            "marker": {
             "line": {
              "color": "#E5ECF6",
              "width": 0.5
             },
             "pattern": {
              "fillmode": "overlay",
              "size": 10,
              "solidity": 0.2
             }
            },
            "type": "barpolar"
           }
          ],
          "carpet": [
           {
            "aaxis": {
             "endlinecolor": "#2a3f5f",
             "gridcolor": "white",
             "linecolor": "white",
             "minorgridcolor": "white",
             "startlinecolor": "#2a3f5f"
            },
            "baxis": {
             "endlinecolor": "#2a3f5f",
             "gridcolor": "white",
             "linecolor": "white",
             "minorgridcolor": "white",
             "startlinecolor": "#2a3f5f"
            },
            "type": "carpet"
           }
          ],
          "choropleth": [
           {
            "colorbar": {
             "outlinewidth": 0,
             "ticks": ""
            },
            "type": "choropleth"
           }
          ],
          "contour": [
           {
            "colorbar": {
             "outlinewidth": 0,
             "ticks": ""
            },
            "colorscale": [
             [
              0,
              "#0d0887"
             ],
             [
              0.1111111111111111,
              "#46039f"
             ],
             [
              0.2222222222222222,
              "#7201a8"
             ],
             [
              0.3333333333333333,
              "#9c179e"
             ],
             [
              0.4444444444444444,
              "#bd3786"
             ],
             [
              0.5555555555555556,
              "#d8576b"
             ],
             [
              0.6666666666666666,
              "#ed7953"
             ],
             [
              0.7777777777777778,
              "#fb9f3a"
             ],
             [
              0.8888888888888888,
              "#fdca26"
             ],
             [
              1,
              "#f0f921"
             ]
            ],
            "type": "contour"
           }
          ],
          "contourcarpet": [
           {
            "colorbar": {
             "outlinewidth": 0,
             "ticks": ""
            },
            "type": "contourcarpet"
           }
          ],
          "heatmap": [
           {
            "colorbar": {
             "outlinewidth": 0,
             "ticks": ""
            },
            "colorscale": [
             [
              0,
              "#0d0887"
             ],
             [
              0.1111111111111111,
              "#46039f"
             ],
             [
              0.2222222222222222,
              "#7201a8"
             ],
             [
              0.3333333333333333,
              "#9c179e"
             ],
             [
              0.4444444444444444,
              "#bd3786"
             ],
             [
              0.5555555555555556,
              "#d8576b"
             ],
             [
              0.6666666666666666,
              "#ed7953"
             ],
             [
              0.7777777777777778,
              "#fb9f3a"
             ],
             [
              0.8888888888888888,
              "#fdca26"
             ],
             [
              1,
              "#f0f921"
             ]
            ],
            "type": "heatmap"
           }
          ],
          "heatmapgl": [
           {
            "colorbar": {
             "outlinewidth": 0,
             "ticks": ""
            },
            "colorscale": [
             [
              0,
              "#0d0887"
             ],
             [
              0.1111111111111111,
              "#46039f"
             ],
             [
              0.2222222222222222,
              "#7201a8"
             ],
             [
              0.3333333333333333,
              "#9c179e"
             ],
             [
              0.4444444444444444,
              "#bd3786"
             ],
             [
              0.5555555555555556,
              "#d8576b"
             ],
             [
              0.6666666666666666,
              "#ed7953"
             ],
             [
              0.7777777777777778,
              "#fb9f3a"
             ],
             [
              0.8888888888888888,
              "#fdca26"
             ],
             [
              1,
              "#f0f921"
             ]
            ],
            "type": "heatmapgl"
           }
          ],
          "histogram": [
           {
            "marker": {
             "pattern": {
              "fillmode": "overlay",
              "size": 10,
              "solidity": 0.2
             }
            },
            "type": "histogram"
           }
          ],
          "histogram2d": [
           {
            "colorbar": {
             "outlinewidth": 0,
             "ticks": ""
            },
            "colorscale": [
             [
              0,
              "#0d0887"
             ],
             [
              0.1111111111111111,
              "#46039f"
             ],
             [
              0.2222222222222222,
              "#7201a8"
             ],
             [
              0.3333333333333333,
              "#9c179e"
             ],
             [
              0.4444444444444444,
              "#bd3786"
             ],
             [
              0.5555555555555556,
              "#d8576b"
             ],
             [
              0.6666666666666666,
              "#ed7953"
             ],
             [
              0.7777777777777778,
              "#fb9f3a"
             ],
             [
              0.8888888888888888,
              "#fdca26"
             ],
             [
              1,
              "#f0f921"
             ]
            ],
            "type": "histogram2d"
           }
          ],
          "histogram2dcontour": [
           {
            "colorbar": {
             "outlinewidth": 0,
             "ticks": ""
            },
            "colorscale": [
             [
              0,
              "#0d0887"
             ],
             [
              0.1111111111111111,
              "#46039f"
             ],
             [
              0.2222222222222222,
              "#7201a8"
             ],
             [
              0.3333333333333333,
              "#9c179e"
             ],
             [
              0.4444444444444444,
              "#bd3786"
             ],
             [
              0.5555555555555556,
              "#d8576b"
             ],
             [
              0.6666666666666666,
              "#ed7953"
             ],
             [
              0.7777777777777778,
              "#fb9f3a"
             ],
             [
              0.8888888888888888,
              "#fdca26"
             ],
             [
              1,
              "#f0f921"
             ]
            ],
            "type": "histogram2dcontour"
           }
          ],
          "mesh3d": [
           {
            "colorbar": {
             "outlinewidth": 0,
             "ticks": ""
            },
            "type": "mesh3d"
           }
          ],
          "parcoords": [
           {
            "line": {
             "colorbar": {
              "outlinewidth": 0,
              "ticks": ""
             }
            },
            "type": "parcoords"
           }
          ],
          "pie": [
           {
            "automargin": true,
            "type": "pie"
           }
          ],
          "scatter": [
           {
            "fillpattern": {
             "fillmode": "overlay",
             "size": 10,
             "solidity": 0.2
            },
            "type": "scatter"
           }
          ],
          "scatter3d": [
           {
            "line": {
             "colorbar": {
              "outlinewidth": 0,
              "ticks": ""
             }
            },
            "marker": {
             "colorbar": {
              "outlinewidth": 0,
              "ticks": ""
             }
            },
            "type": "scatter3d"
           }
          ],
          "scattercarpet": [
           {
            "marker": {
             "colorbar": {
              "outlinewidth": 0,
              "ticks": ""
             }
            },
            "type": "scattercarpet"
           }
          ],
          "scattergeo": [
           {
            "marker": {
             "colorbar": {
              "outlinewidth": 0,
              "ticks": ""
             }
            },
            "type": "scattergeo"
           }
          ],
          "scattergl": [
           {
            "marker": {
             "colorbar": {
              "outlinewidth": 0,
              "ticks": ""
             }
            },
            "type": "scattergl"
           }
          ],
          "scattermapbox": [
           {
            "marker": {
             "colorbar": {
              "outlinewidth": 0,
              "ticks": ""
             }
            },
            "type": "scattermapbox"
           }
          ],
          "scatterpolar": [
           {
            "marker": {
             "colorbar": {
              "outlinewidth": 0,
              "ticks": ""
             }
            },
            "type": "scatterpolar"
           }
          ],
          "scatterpolargl": [
           {
            "marker": {
             "colorbar": {
              "outlinewidth": 0,
              "ticks": ""
             }
            },
            "type": "scatterpolargl"
           }
          ],
          "scatterternary": [
           {
            "marker": {
             "colorbar": {
              "outlinewidth": 0,
              "ticks": ""
             }
            },
            "type": "scatterternary"
           }
          ],
          "surface": [
           {
            "colorbar": {
             "outlinewidth": 0,
             "ticks": ""
            },
            "colorscale": [
             [
              0,
              "#0d0887"
             ],
             [
              0.1111111111111111,
              "#46039f"
             ],
             [
              0.2222222222222222,
              "#7201a8"
             ],
             [
              0.3333333333333333,
              "#9c179e"
             ],
             [
              0.4444444444444444,
              "#bd3786"
             ],
             [
              0.5555555555555556,
              "#d8576b"
             ],
             [
              0.6666666666666666,
              "#ed7953"
             ],
             [
              0.7777777777777778,
              "#fb9f3a"
             ],
             [
              0.8888888888888888,
              "#fdca26"
             ],
             [
              1,
              "#f0f921"
             ]
            ],
            "type": "surface"
           }
          ],
          "table": [
           {
            "cells": {
             "fill": {
              "color": "#EBF0F8"
             },
             "line": {
              "color": "white"
             }
            },
            "header": {
             "fill": {
              "color": "#C8D4E3"
             },
             "line": {
              "color": "white"
             }
            },
            "type": "table"
           }
          ]
         },
         "layout": {
          "annotationdefaults": {
           "arrowcolor": "#2a3f5f",
           "arrowhead": 0,
           "arrowwidth": 1
          },
          "autotypenumbers": "strict",
          "coloraxis": {
           "colorbar": {
            "outlinewidth": 0,
            "ticks": ""
           }
          },
          "colorscale": {
           "diverging": [
            [
             0,
             "#8e0152"
            ],
            [
             0.1,
             "#c51b7d"
            ],
            [
             0.2,
             "#de77ae"
            ],
            [
             0.3,
             "#f1b6da"
            ],
            [
             0.4,
             "#fde0ef"
            ],
            [
             0.5,
             "#f7f7f7"
            ],
            [
             0.6,
             "#e6f5d0"
            ],
            [
             0.7,
             "#b8e186"
            ],
            [
             0.8,
             "#7fbc41"
            ],
            [
             0.9,
             "#4d9221"
            ],
            [
             1,
             "#276419"
            ]
           ],
           "sequential": [
            [
             0,
             "#0d0887"
            ],
            [
             0.1111111111111111,
             "#46039f"
            ],
            [
             0.2222222222222222,
             "#7201a8"
            ],
            [
             0.3333333333333333,
             "#9c179e"
            ],
            [
             0.4444444444444444,
             "#bd3786"
            ],
            [
             0.5555555555555556,
             "#d8576b"
            ],
            [
             0.6666666666666666,
             "#ed7953"
            ],
            [
             0.7777777777777778,
             "#fb9f3a"
            ],
            [
             0.8888888888888888,
             "#fdca26"
            ],
            [
             1,
             "#f0f921"
            ]
           ],
           "sequentialminus": [
            [
             0,
             "#0d0887"
            ],
            [
             0.1111111111111111,
             "#46039f"
            ],
            [
             0.2222222222222222,
             "#7201a8"
            ],
            [
             0.3333333333333333,
             "#9c179e"
            ],
            [
             0.4444444444444444,
             "#bd3786"
            ],
            [
             0.5555555555555556,
             "#d8576b"
            ],
            [
             0.6666666666666666,
             "#ed7953"
            ],
            [
             0.7777777777777778,
             "#fb9f3a"
            ],
            [
             0.8888888888888888,
             "#fdca26"
            ],
            [
             1,
             "#f0f921"
            ]
           ]
          },
          "colorway": [
           "#636efa",
           "#EF553B",
           "#00cc96",
           "#ab63fa",
           "#FFA15A",
           "#19d3f3",
           "#FF6692",
           "#B6E880",
           "#FF97FF",
           "#FECB52"
          ],
          "font": {
           "color": "#2a3f5f"
          },
          "geo": {
           "bgcolor": "white",
           "lakecolor": "white",
           "landcolor": "#E5ECF6",
           "showlakes": true,
           "showland": true,
           "subunitcolor": "white"
          },
          "hoverlabel": {
           "align": "left"
          },
          "hovermode": "closest",
          "mapbox": {
           "style": "light"
          },
          "paper_bgcolor": "white",
          "plot_bgcolor": "#E5ECF6",
          "polar": {
           "angularaxis": {
            "gridcolor": "white",
            "linecolor": "white",
            "ticks": ""
           },
           "bgcolor": "#E5ECF6",
           "radialaxis": {
            "gridcolor": "white",
            "linecolor": "white",
            "ticks": ""
           }
          },
          "scene": {
           "xaxis": {
            "backgroundcolor": "#E5ECF6",
            "gridcolor": "white",
            "gridwidth": 2,
            "linecolor": "white",
            "showbackground": true,
            "ticks": "",
            "zerolinecolor": "white"
           },
           "yaxis": {
            "backgroundcolor": "#E5ECF6",
            "gridcolor": "white",
            "gridwidth": 2,
            "linecolor": "white",
            "showbackground": true,
            "ticks": "",
            "zerolinecolor": "white"
           },
           "zaxis": {
            "backgroundcolor": "#E5ECF6",
            "gridcolor": "white",
            "gridwidth": 2,
            "linecolor": "white",
            "showbackground": true,
            "ticks": "",
            "zerolinecolor": "white"
           }
          },
          "shapedefaults": {
           "line": {
            "color": "#2a3f5f"
           }
          },
          "ternary": {
           "aaxis": {
            "gridcolor": "white",
            "linecolor": "white",
            "ticks": ""
           },
           "baxis": {
            "gridcolor": "white",
            "linecolor": "white",
            "ticks": ""
           },
           "bgcolor": "#E5ECF6",
           "caxis": {
            "gridcolor": "white",
            "linecolor": "white",
            "ticks": ""
           }
          },
          "title": {
           "x": 0.05
          },
          "xaxis": {
           "automargin": true,
           "gridcolor": "white",
           "linecolor": "white",
           "ticks": "",
           "title": {
            "standoff": 15
           },
           "zerolinecolor": "white",
           "zerolinewidth": 2
          },
          "yaxis": {
           "automargin": true,
           "gridcolor": "white",
           "linecolor": "white",
           "ticks": "",
           "title": {
            "standoff": 15
           },
           "zerolinecolor": "white",
           "zerolinewidth": 2
          }
         }
        },
        "title": {
         "text": "Hooktheory (n = 100)"
        },
        "width": 650,
        "xaxis": {
         "anchor": "y",
         "domain": [
          0,
          1
         ],
         "tickvals": [
          0,
          1,
          2,
          3,
          4,
          5,
          6,
          7,
          8,
          9,
          10,
          11
         ],
         "title": {
          "text": "Cao độ cơ bản"
         }
        },
        "yaxis": {
         "anchor": "x",
         "domain": [
          0,
          1
         ],
         "gridcolor": "rgb(158,202,225)",
         "gridwidth": 1,
         "showgrid": true,
         "title": {
          "text": "Số lần xuất hiện trung bình"
         }
        }
       }
      }
     },
     "metadata": {},
     "output_type": "display_data"
    },
    {
     "name": "stdout",
     "output_type": "stream",
     "text": [
      "Số lượng nốt nhạc trung bình trong một đoạn nhạc từ Hooktheory (n = 100): 116.44000000000007\n"
     ]
    }
   ],
   "source": [
    "# Horizontal bar chart for pitch counts using plotly express (with y is the pitch and x is the count)\n",
    "fig = px.bar(\n",
    "    x=list(average_results['pitch_counts'].values()), \n",
    "    y=list(average_results['pitch_counts'].keys()), \n",
    "    orientation='h'\n",
    ")\n",
    "\n",
    "fig.update_layout(\n",
    "    title=f'Hooktheory (n = {n_file_to_analyze})', \n",
    "    xaxis_title='Số lần xuất hiện trung bình',\n",
    "    yaxis_title='Cao độ'\n",
    ")\n",
    "\n",
    "# Show labels 0, 5, 10, 15, ... in y-axis\n",
    "y_axis_tickvals = list(range(0, max(average_results['pitch_counts'].keys()) + 1, 5))\n",
    "fig.update_yaxes(tickvals=y_axis_tickvals)\n",
    "\n",
    "# Show labels 0, 1, 2, 3, ... in x-axis\n",
    "x_axis_tickvals = list(range(\n",
    "    0, \n",
    "    int(max(average_results['pitch_counts'].values())) + 1 + 1\n",
    "))\n",
    "fig.update_xaxes(tickvals=x_axis_tickvals)\n",
    "\n",
    "# Change the color set to make it easier to see when printed in black and white\n",
    "fig.update_traces(marker_color='rgb(158,202,225)', marker_line_color='rgb(8,48,107)', marker_line_width=1.5, opacity=0.6)\n",
    "\n",
    "# Change the background color to make it easier to see when printed in black and white\n",
    "fig.update_layout(plot_bgcolor='white')\n",
    "\n",
    "# Show the vertical grid lines\n",
    "fig.update_layout(xaxis=dict(showgrid=True, gridwidth=1, gridcolor='rgb(158,202,225)'))\n",
    "\n",
    "# Make the colums overlay the grid lines\n",
    "fig.update_layout(barmode='overlay')\n",
    "\n",
    "# Make the font size bigger\n",
    "fig.update_layout(font=dict(size=13))\n",
    "\n",
    "# Make the plot ratio x:y\n",
    "fig.update_layout(\n",
    "    autosize=False,\n",
    "    width=450,\n",
    "    height=1200,\n",
    ")\n",
    "\n",
    "fig.show()\n",
    "\n",
    "\n",
    "# Pitch class distribution\n",
    "fig = px.bar(x=list(average_results['pitch_class_distribution'].keys()), y=list(average_results['pitch_class_distribution'].values()))\n",
    "fig.update_layout(\n",
    "    title=f'Hooktheory (n = {n_file_to_analyze})', \n",
    "    yaxis_title='Số lần xuất hiện trung bình',\n",
    "    xaxis_title='Cao độ cơ bản'\n",
    ")\n",
    "\n",
    "# Show labels 0, 1, 2, 3, ... in x-axis\n",
    "x_axis_tickvals = list(range(0, max(average_results['pitch_class_distribution'].keys()) + 1))\n",
    "fig.update_xaxes(tickvals=x_axis_tickvals)\n",
    "\n",
    "# Change the color set to make it easier to see when printed in black and white\n",
    "fig.update_traces(marker_color='rgb(158,202,225)', marker_line_color='rgb(8,48,107)', marker_line_width=1.5, opacity=0.6)\n",
    "\n",
    "# Change the background color to make it easier to see when printed in black and white\n",
    "fig.update_layout(plot_bgcolor='white')\n",
    "\n",
    "# Show the horizontal grid lines\n",
    "fig.update_layout(yaxis=dict(showgrid=True, gridwidth=1, gridcolor='rgb(158,202,225)'))\n",
    "\n",
    "# Make the font size bigger\n",
    "fig.update_layout(font=dict(size=13))\n",
    "\n",
    "# Make the plot ratio x:y\n",
    "fig.update_layout(\n",
    "    autosize=False,\n",
    "    width=650,\n",
    "    height=400,\n",
    ")\n",
    "\n",
    "fig.show()\n",
    "\n",
    "# Note count\n",
    "print(f\"Số lượng nốt nhạc trung bình trong một đoạn nhạc từ Hooktheory (n = {n_file_to_analyze}): {average_results['note_count']}\")"
   ]
  },
  {
   "cell_type": "markdown",
   "metadata": {},
   "source": [
    "# Model Output"
   ]
  },
  {
   "cell_type": "code",
   "execution_count": 10,
   "metadata": {},
   "outputs": [
    {
     "name": "stdout",
     "output_type": "stream",
     "text": [
      "Analyzing file 1 of 302 - 166_2024_07_28_11_pm_164.mid\n",
      "Analyzing file 2 of 302 - 257_2024_07_29_10_am_82.mid\n",
      "Analyzing file 3 of 302 - 71_2024_07_28_09_am_69.mid\n",
      "Analyzing file 4 of 302 - 258_2024_07_29_10_am_83.mid\n",
      "Analyzing file 5 of 302 - 230_2024_07_29_06_am_55.mid\n",
      "Analyzing file 6 of 302 - 107_2024_07_28_03_pm_105.mid\n",
      "Analyzing file 7 of 302 - 52_2024_07_28_06_am_50.mid\n",
      "Analyzing file 8 of 302 - 118_2024_07_28_04_pm_116.mid\n",
      "Analyzing file 9 of 302 - 210_2024_07_29_04_am_35.mid\n",
      "Analyzing file 10 of 302 - 97_2024_07_28_01_pm_95.mid\n",
      "Analyzing file 11 of 302 - 249_2024_07_29_09_am_74.mid\n",
      "Analyzing file 12 of 302 - 0_2024_07_27_11_pm_2.mid\n",
      "Analyzing file 13 of 302 - 55_2024_07_28_07_am_53.mid\n",
      "Analyzing file 14 of 302 - 244_2024_07_29_09_am_69.mid\n",
      "Analyzing file 15 of 302 - 263_2024_07_29_11_am_88.mid\n",
      "Analyzing file 16 of 302 - 189_2024_07_29_01_am_14.mid\n",
      "Analyzing file 17 of 302 - 161_2024_07_28_10_pm_159.mid\n",
      "Analyzing file 18 of 302 - 235_2024_07_29_07_am_60.mid\n",
      "Analyzing file 19 of 302 - 101_2024_07_28_02_pm_99.mid\n",
      "Analyzing file 20 of 302 - 223_2024_07_29_05_am_48.mid\n",
      "Analyzing file 21 of 302 - 180_2024_07_29_00_am_5.mid\n",
      "Analyzing file 22 of 302 - 271_2024_07_29_01_pm_96.mid\n",
      "Analyzing file 23 of 302 - 98_2024_07_28_01_pm_96.mid\n",
      "Analyzing file 24 of 302 - 14_2024_07_28_01_am_11.mid\n",
      "Analyzing file 25 of 302 - 0_2024_07_27_11_pm_1.mid\n",
      "Analyzing file 26 of 302 - 227_2024_07_29_06_am_52.mid\n",
      "Analyzing file 27 of 302 - 136_2024_07_28_06_pm_134.mid\n",
      "Analyzing file 28 of 302 - 265_2024_07_29_11_am_90.mid\n",
      "Analyzing file 29 of 302 - 228_2024_07_29_06_am_53.mid\n",
      "Analyzing file 30 of 302 - 253_2024_07_29_10_am_78.mid\n",
      "Analyzing file 31 of 302 - 93_2024_07_28_01_pm_91.mid\n",
      "Analyzing file 32 of 302 - 36_2024_07_28_04_am_34.mid\n",
      "Analyzing file 33 of 302 - 195_2024_07_29_02_am_20.mid\n",
      "Analyzing file 34 of 302 - 208_2024_07_29_04_am_33.mid\n",
      "Analyzing file 35 of 302 - 121_2024_07_28_04_pm_119.mid\n",
      "Analyzing file 36 of 302 - 78_2024_07_28_10_am_76.mid\n",
      "Analyzing file 37 of 302 - 91_2024_07_28_01_pm_89.mid\n",
      "Analyzing file 38 of 302 - 177_2024_07_29_00_am_2.mid\n",
      "Analyzing file 39 of 302 - 179_2024_07_29_00_am_4.mid\n",
      "Analyzing file 40 of 302 - 297_2024_07_29_08_pm_11.mid\n",
      "Analyzing file 41 of 302 - 83_2024_07_28_11_am_81.mid\n",
      "Analyzing file 42 of 302 - 191_2024_07_29_01_am_16.mid\n",
      "Analyzing file 43 of 302 - 63_2024_07_28_08_am_61.mid\n",
      "Analyzing file 44 of 302 - 73_2024_07_28_10_am_71.mid\n",
      "Analyzing file 45 of 302 - 43_2024_07_28_05_am_41.mid\n",
      "Analyzing file 46 of 302 - 145_2024_07_28_08_pm_143.mid\n",
      "Analyzing file 47 of 302 - 132_2024_07_28_06_pm_130.mid\n",
      "Analyzing file 48 of 302 - 295_2024_07_29_07_pm_9.mid\n",
      "Analyzing file 49 of 302 - 261_2024_07_29_11_am_86.mid\n",
      "Analyzing file 50 of 302 - 154_2024_07_28_09_pm_152.mid\n",
      "Analyzing file 51 of 302 - 126_2024_07_28_05_pm_124.mid\n",
      "Analyzing file 52 of 302 - 221_2024_07_29_05_am_46.mid\n",
      "Analyzing file 53 of 302 - 186_2024_07_29_01_am_11.mid\n",
      "Analyzing file 54 of 302 - 275_2024_07_29_02_pm_100.mid\n",
      "Analyzing file 55 of 302 - 21_2024_07_28_02_am_19.mid\n",
      "Analyzing file 56 of 302 - 87_2024_07_28_11_am_85.mid\n",
      "Analyzing file 57 of 302 - 269_2024_07_29_01_pm_94.mid\n",
      "Analyzing file 58 of 302 - 158_2024_07_28_10_pm_156.mid\n",
      "Analyzing file 59 of 302 - 246_2024_07_29_09_am_71.mid\n",
      "Analyzing file 60 of 302 - 90_2024_07_28_12_am_88.mid\n",
      "Analyzing file 61 of 302 - 290_2024_07_29_05_pm_4.mid\n",
      "Analyzing file 62 of 302 - 298_2024_07_29_08_pm_12.mid\n",
      "Analyzing file 63 of 302 - 251_2024_07_29_10_am_76.mid\n",
      "Analyzing file 64 of 302 - 200_2024_07_29_03_am_25.mid\n",
      "Analyzing file 65 of 302 - 25_2024_07_28_02_am_23.mid\n",
      "Analyzing file 66 of 302 - 174_2024_07_28_11_pm_172.mid\n",
      "Analyzing file 67 of 302 - 241_2024_07_29_08_am_66.mid\n",
      "Analyzing file 68 of 302 - 50_2024_07_28_06_am_48.mid\n",
      "Analyzing file 69 of 302 - 104_2024_07_28_02_pm_102.mid\n",
      "Analyzing file 70 of 302 - 29_2024_07_28_03_am_27.mid\n",
      "Analyzing file 71 of 302 - 77_2024_07_28_10_am_75.mid\n",
      "Analyzing file 72 of 302 - 115_2024_07_28_03_pm_113.mid\n",
      "Analyzing file 73 of 302 - 13_2024_07_28_01_am_10.mid\n",
      "Analyzing file 74 of 302 - 120_2024_07_28_04_pm_118.mid\n",
      "Analyzing file 75 of 302 - 182_2024_07_29_00_am_7.mid\n",
      "Analyzing file 76 of 302 - 35_2024_07_28_04_am_33.mid\n",
      "Analyzing file 77 of 302 - 46_2024_07_28_06_am_44.mid\n",
      "Analyzing file 78 of 302 - 18_2024_07_28_01_am_16.mid\n",
      "Analyzing file 79 of 302 - 39_2024_07_28_05_am_37.mid\n",
      "Analyzing file 80 of 302 - 252_2024_07_29_10_am_77.mid\n",
      "Analyzing file 81 of 302 - 41_2024_07_28_05_am_39.mid\n",
      "Analyzing file 82 of 302 - 242_2024_07_29_08_am_67.mid\n",
      "Analyzing file 83 of 302 - 176_2024_07_29_00_am_1.mid\n",
      "Analyzing file 84 of 302 - 282_2024_07_29_04_pm_107.mid\n",
      "Analyzing file 85 of 302 - 245_2024_07_29_09_am_70.mid\n",
      "Analyzing file 86 of 302 - 254_2024_07_29_10_am_79.mid\n",
      "Analyzing file 87 of 302 - 133_2024_07_28_06_pm_131.mid\n",
      "Analyzing file 88 of 302 - 185_2024_07_29_01_am_10.mid\n",
      "Analyzing file 89 of 302 - 222_2024_07_29_05_am_47.mid\n",
      "Analyzing file 90 of 302 - 144_2024_07_28_08_pm_142.mid\n",
      "Analyzing file 91 of 302 - 155_2024_07_28_09_pm_153.mid\n",
      "Analyzing file 92 of 302 - 89_2024_07_28_12_am_87.mid\n",
      "Analyzing file 93 of 302 - 239_2024_07_29_07_am_64.mid\n",
      "Analyzing file 94 of 302 - 127_2024_07_28_05_pm_125.mid\n",
      "Analyzing file 95 of 302 - 262_2024_07_29_11_am_87.mid\n",
      "Analyzing file 96 of 302 - 18_2024_07_28_01_am_15.mid\n",
      "Analyzing file 97 of 302 - 94_2024_07_28_01_pm_92.mid\n",
      "Analyzing file 98 of 302 - 17_2024_07_28_01_am_14.mid\n",
      "Analyzing file 99 of 302 - 277_2024_07_29_03_pm_102.mid\n",
      "Analyzing file 100 of 302 - 56_2024_07_28_07_am_54.mid\n",
      "Analyzing file 101 of 302 - 159_2024_07_28_10_pm_157.mid\n",
      "Analyzing file 102 of 302 - 164_2024_07_28_10_pm_162.mid\n",
      "Analyzing file 103 of 302 - 30_2024_07_28_03_am_28.mid\n",
      "Analyzing file 104 of 302 - 218_2024_07_29_05_am_43.mid\n",
      "Analyzing file 105 of 302 - 217_2024_07_29_05_am_42.mid\n",
      "Analyzing file 106 of 302 - 264_2024_07_29_11_am_89.mid\n",
      "Analyzing file 107 of 302 - 49_2024_07_28_06_am_47.mid\n",
      "Analyzing file 108 of 302 - 243_2024_07_29_09_am_68.mid\n",
      "Analyzing file 109 of 302 - 105_2024_07_28_02_pm_103.mid\n",
      "Analyzing file 110 of 302 - 11_2024_07_28_00_am_8.mid\n",
      "Analyzing file 111 of 302 - 199_2024_07_29_02_am_24.mid\n",
      "Analyzing file 112 of 302 - 114_2024_07_28_03_pm_112.mid\n",
      "Analyzing file 113 of 302 - 294_2024_07_29_07_pm_8.mid\n",
      "Analyzing file 114 of 302 - 167_2024_07_28_11_pm_165.mid\n",
      "Analyzing file 115 of 302 - 64_2024_07_28_08_am_62.mid\n",
      "Analyzing file 116 of 302 - 74_2024_07_28_10_am_72.mid\n",
      "Analyzing file 117 of 302 - 196_2024_07_29_02_am_21.mid\n",
      "Analyzing file 118 of 302 - 2_2024_07_27_11_pm_4.mid\n",
      "Analyzing file 119 of 302 - 44_2024_07_28_05_am_42.mid\n",
      "Analyzing file 120 of 302 - 12_2024_07_28_00_am_9.mid\n",
      "Analyzing file 121 of 302 - 32_2024_07_28_03_am_30.mid\n",
      "Analyzing file 122 of 302 - 26_2024_07_28_02_am_24.mid\n",
      "Analyzing file 123 of 302 - 68_2024_07_28_09_am_66.mid\n",
      "Analyzing file 124 of 302 - 119_2024_07_28_04_pm_117.mid\n",
      "Analyzing file 125 of 302 - 148_2024_07_28_08_pm_146.mid\n",
      "Analyzing file 126 of 302 - 60_2024_07_28_08_am_58.mid\n",
      "Analyzing file 127 of 302 - 99_2024_07_28_02_pm_97.mid\n",
      "Analyzing file 128 of 302 - 236_2024_07_29_07_am_61.mid\n",
      "Analyzing file 129 of 302 - 84_2024_07_28_11_am_82.mid\n",
      "Analyzing file 130 of 302 - 160_2024_07_28_10_pm_158.mid\n",
      "Analyzing file 131 of 302 - 22_2024_07_28_02_am_20.mid\n",
      "Analyzing file 132 of 302 - 175_2024_07_29_00_am_0.mid\n",
      "Analyzing file 133 of 302 - 207_2024_07_29_03_am_32.mid\n",
      "Analyzing file 134 of 302 - 284_2024_07_29_04_pm_109.mid\n",
      "Analyzing file 135 of 302 - 80_2024_07_28_11_am_78.mid\n",
      "Analyzing file 136 of 302 - 178_2024_07_29_00_am_3.mid\n",
      "Analyzing file 137 of 302 - 181_2024_07_29_00_am_6.mid\n",
      "Analyzing file 138 of 302 - 67_2024_07_28_09_am_65.mid\n",
      "Analyzing file 139 of 302 - 1_2024_07_27_11_pm_3.mid\n",
      "Analyzing file 140 of 302 - 137_2024_07_28_06_pm_135.mid\n",
      "Analyzing file 141 of 302 - 260_2024_07_29_11_am_85.mid\n",
      "Analyzing file 142 of 302 - 86_2024_07_28_11_am_84.mid\n",
      "Analyzing file 143 of 302 - 20_2024_07_28_02_am_18.mid\n",
      "Analyzing file 144 of 302 - 153_2024_07_28_09_pm_151.mid\n",
      "Analyzing file 145 of 302 - 190_2024_07_29_01_am_15.mid\n",
      "Analyzing file 146 of 302 - 135_2024_07_28_06_pm_133.mid\n",
      "Analyzing file 147 of 302 - 142_2024_07_28_08_pm_140.mid\n",
      "Analyzing file 148 of 302 - 24_2024_07_28_02_am_22.mid\n",
      "Analyzing file 149 of 302 - 129_2024_07_28_05_pm_127.mid\n",
      "Analyzing file 150 of 302 - 299_2024_07_29_08_pm_13.mid\n",
      "Analyzing file 151 of 302 - 281_2024_07_29_03_pm_106.mid\n",
      "Analyzing file 152 of 302 - 224_2024_07_29_06_am_49.mid\n",
      "Analyzing file 153 of 302 - 213_2024_07_29_04_am_38.mid\n",
      "Analyzing file 154 of 302 - 51_2024_07_28_06_am_49.mid\n",
      "Analyzing file 155 of 302 - 8_2024_07_28_00_am_5.mid\n",
      "Analyzing file 156 of 302 - 6_2024_07_28_00_am_3.mid\n",
      "Analyzing file 157 of 302 - 229_2024_07_29_06_am_54.mid\n",
      "Analyzing file 158 of 302 - 276_2024_07_29_02_pm_101.mid\n",
      "Analyzing file 159 of 302 - 131_2024_07_28_05_pm_129.mid\n",
      "Analyzing file 160 of 302 - 209_2024_07_29_04_am_34.mid\n",
      "Analyzing file 161 of 302 - 28_2024_07_28_03_am_26.mid\n",
      "Analyzing file 162 of 302 - 76_2024_07_28_10_am_74.mid\n",
      "Analyzing file 163 of 302 - 194_2024_07_29_02_am_19.mid\n",
      "Analyzing file 164 of 302 - 79_2024_07_28_10_am_77.mid\n",
      "Analyzing file 165 of 302 - 27_2024_07_28_03_am_25.mid\n",
      "Analyzing file 166 of 302 - 173_2024_07_28_11_pm_171.mid\n",
      "Analyzing file 167 of 302 - 162_2024_07_28_10_pm_160.mid\n",
      "Analyzing file 168 of 302 - 112_2024_07_28_03_pm_110.mid\n",
      "Analyzing file 169 of 302 - 65_2024_07_28_09_am_63.mid\n",
      "Analyzing file 170 of 302 - 240_2024_07_29_08_am_65.mid\n",
      "Analyzing file 171 of 302 - 232_2024_07_29_07_am_57.mid\n",
      "Analyzing file 172 of 302 - 82_2024_07_28_11_am_80.mid\n",
      "Analyzing file 173 of 302 - 103_2024_07_28_02_pm_101.mid\n",
      "Analyzing file 174 of 302 - 250_2024_07_29_10_am_75.mid\n",
      "Analyzing file 175 of 302 - 296_2024_07_29_08_pm_10.mid\n",
      "Analyzing file 176 of 302 - 201_2024_07_29_03_am_26.mid\n",
      "Analyzing file 177 of 302 - 248_2024_07_29_09_am_73.mid\n",
      "Analyzing file 178 of 302 - 62_2024_07_28_08_am_60.mid\n",
      "Analyzing file 179 of 302 - 247_2024_07_29_09_am_72.mid\n",
      "Analyzing file 180 of 302 - 192_2024_07_29_02_am_17.mid\n",
      "Analyzing file 181 of 302 - 289_2024_07_29_05_pm_3.mid\n",
      "Analyzing file 182 of 302 - 141_2024_07_28_08_pm_139.mid\n",
      "Analyzing file 183 of 302 - 42_2024_07_28_05_am_40.mid\n",
      "Analyzing file 184 of 302 - 72_2024_07_28_10_am_70.mid\n",
      "Analyzing file 185 of 302 - 234_2024_07_29_07_am_59.mid\n",
      "Analyzing file 186 of 302 - 220_2024_07_29_05_am_45.mid\n",
      "Analyzing file 187 of 302 - 187_2024_07_29_01_am_12.mid\n",
      "Analyzing file 188 of 302 - 188_2024_07_29_01_am_13.mid\n",
      "Analyzing file 189 of 302 - 268_2024_07_29_01_pm_93.mid\n",
      "Analyzing file 190 of 302 - 139_2024_07_28_06_pm_137.mid\n",
      "Analyzing file 191 of 302 - 100_2024_07_28_02_pm_98.mid\n",
      "Analyzing file 192 of 302 - 122_2024_07_28_04_pm_120.mid\n",
      "Analyzing file 193 of 302 - 267_2024_07_29_01_pm_92.mid\n",
      "Analyzing file 194 of 302 - 205_2024_07_29_03_am_30.mid\n",
      "Analyzing file 195 of 302 - 272_2024_07_29_02_pm_97.mid\n",
      "Analyzing file 196 of 302 - 140_2024_07_28_07_pm_138.mid\n",
      "Analyzing file 197 of 302 - 287_2024_07_29_05_pm_1.mid\n",
      "Analyzing file 198 of 302 - 151_2024_07_28_09_pm_149.mid\n",
      "Analyzing file 199 of 302 - 211_2024_07_29_04_am_36.mid\n",
      "Analyzing file 200 of 302 - 266_2024_07_29_12_am_91.mid\n",
      "Analyzing file 201 of 302 - 92_2024_07_28_01_pm_90.mid\n",
      "Analyzing file 202 of 302 - 149_2024_07_28_09_pm_147.mid\n",
      "Analyzing file 203 of 302 - 125_2024_07_28_05_pm_123.mid\n",
      "Analyzing file 204 of 302 - 274_2024_07_29_02_pm_99.mid\n",
      "Analyzing file 205 of 302 - 231_2024_07_29_06_am_56.mid\n",
      "Analyzing file 206 of 302 - 293_2024_07_29_07_pm_7.mid\n",
      "Analyzing file 207 of 302 - 256_2024_07_29_10_am_81.mid\n",
      "Analyzing file 208 of 302 - 37_2024_07_28_04_am_35.mid\n",
      "Analyzing file 209 of 302 - 70_2024_07_28_09_am_68.mid\n",
      "Analyzing file 210 of 302 - 38_2024_07_28_04_am_36.mid\n",
      "Analyzing file 211 of 302 - 279_2024_07_29_03_pm_104.mid\n",
      "Analyzing file 212 of 302 - 146_2024_07_28_08_pm_144.mid\n",
      "Analyzing file 213 of 302 - 157_2024_07_28_09_pm_155.mid\n",
      "Analyzing file 214 of 302 - 5_2024_07_28_00_am_2.mid\n",
      "Analyzing file 215 of 302 - 226_2024_07_29_06_am_51.mid\n",
      "Analyzing file 216 of 302 - 203_2024_07_29_03_am_28.mid\n",
      "Analyzing file 217 of 302 - 110_2024_07_28_03_pm_108.mid\n",
      "Analyzing file 218 of 302 - 169_2024_07_28_11_pm_167.mid\n",
      "Analyzing file 219 of 302 - 15_2024_07_28_01_am_12.mid\n",
      "Analyzing file 220 of 302 - 96_2024_07_28_01_pm_94.mid\n",
      "Analyzing file 221 of 302 - 33_2024_07_28_04_am_31.mid\n",
      "Analyzing file 222 of 302 - 270_2024_07_29_01_pm_95.mid\n",
      "Analyzing file 223 of 302 - 54_2024_07_28_07_am_52.mid\n",
      "Analyzing file 224 of 302 - 108_2024_07_28_03_pm_106.mid\n",
      "Analyzing file 225 of 302 - 171_2024_07_28_11_pm_169.mid\n",
      "Analyzing file 226 of 302 - 117_2024_07_28_04_pm_115.mid\n",
      "Analyzing file 227 of 302 - 3_2024_07_28_00_am_0.mid\n",
      "Analyzing file 228 of 302 - 106_2024_07_28_02_pm_104.mid\n",
      "Analyzing file 229 of 302 - 237_2024_07_29_07_am_62.mid\n",
      "Analyzing file 230 of 302 - 10_2024_07_28_00_am_7.mid\n",
      "Analyzing file 231 of 302 - 23_2024_07_28_02_am_21.mid\n",
      "Analyzing file 232 of 302 - 238_2024_07_29_07_am_63.mid\n",
      "Analyzing file 233 of 302 - 123_2024_07_28_04_pm_121.mid\n",
      "Analyzing file 234 of 302 - 184_2024_07_29_01_am_9.mid\n",
      "Analyzing file 235 of 302 - 138_2024_07_28_06_pm_136.mid\n",
      "Analyzing file 236 of 302 - 81_2024_07_28_11_am_79.mid\n",
      "Analyzing file 237 of 302 - 16_2024_07_28_01_am_13.mid\n",
      "Analyzing file 238 of 302 - 283_2024_07_29_04_pm_108.mid\n",
      "Analyzing file 239 of 302 - 193_2024_07_29_02_am_18.mid\n",
      "Analyzing file 240 of 302 - 225_2024_07_29_06_am_50.mid\n",
      "Analyzing file 241 of 302 - 66_2024_07_28_09_am_64.mid\n",
      "Analyzing file 242 of 302 - 150_2024_07_28_09_pm_148.mid\n",
      "Analyzing file 243 of 302 - 300_2024_07_29_08_pm_14.mid\n",
      "Analyzing file 244 of 302 - 219_2024_07_29_05_am_44.mid\n",
      "Analyzing file 245 of 302 - 233_2024_07_29_07_am_58.mid\n",
      "Analyzing file 246 of 302 - 197_2024_07_29_02_am_22.mid\n",
      "Analyzing file 247 of 302 - 215_2024_07_29_04_am_40.mid\n",
      "Analyzing file 248 of 302 - 198_2024_07_29_02_am_23.mid\n",
      "Analyzing file 249 of 302 - 124_2024_07_28_05_pm_122.mid\n",
      "Analyzing file 250 of 302 - 147_2024_07_28_08_pm_145.mid\n",
      "Analyzing file 251 of 302 - 59_2024_07_28_08_am_57.mid\n",
      "Analyzing file 252 of 302 - 45_2024_07_28_05_am_43.mid\n",
      "Analyzing file 253 of 302 - 255_2024_07_29_10_am_80.mid\n",
      "Analyzing file 254 of 302 - 75_2024_07_28_10_am_73.mid\n",
      "Analyzing file 255 of 302 - 156_2024_07_28_09_pm_154.mid\n",
      "Analyzing file 256 of 302 - 259_2024_07_29_11_am_84.mid\n",
      "Analyzing file 257 of 302 - 212_2024_07_29_04_am_37.mid\n",
      "Analyzing file 258 of 302 - 286_2024_07_29_05_pm_0.mid\n",
      "Analyzing file 259 of 302 - 69_2024_07_28_09_am_67.mid\n",
      "Analyzing file 260 of 302 - 168_2024_07_28_11_pm_166.mid\n",
      "Analyzing file 261 of 302 - 7_2024_07_28_00_am_4.mid\n",
      "Analyzing file 262 of 302 - 111_2024_07_28_03_pm_109.mid\n",
      "Analyzing file 263 of 302 - 61_2024_07_28_08_am_59.mid\n",
      "Analyzing file 264 of 302 - 170_2024_07_28_11_pm_168.mid\n",
      "Analyzing file 265 of 302 - 109_2024_07_28_03_pm_107.mid\n",
      "Analyzing file 266 of 302 - 183_2024_07_29_01_am_8.mid\n",
      "Analyzing file 267 of 302 - 214_2024_07_29_04_am_39.mid\n",
      "Analyzing file 268 of 302 - 292_2024_07_29_07_pm_6.mid\n",
      "Analyzing file 269 of 302 - 85_2024_07_28_11_am_83.mid\n",
      "Analyzing file 270 of 302 - 206_2024_07_29_03_am_31.mid\n",
      "Analyzing file 271 of 302 - 4_2024_07_28_00_am_1.mid\n",
      "Analyzing file 272 of 302 - 116_2024_07_28_04_pm_114.mid\n",
      "Analyzing file 273 of 302 - 88_2024_07_28_12_am_86.mid\n",
      "Analyzing file 274 of 302 - 204_2024_07_29_03_am_29.mid\n",
      "Analyzing file 275 of 302 - 285_2024_07_29_04_pm_110.mid\n",
      "Analyzing file 276 of 302 - 152_2024_07_28_09_pm_150.mid\n",
      "Analyzing file 277 of 302 - 95_2024_07_28_01_pm_93.mid\n",
      "Analyzing file 278 of 302 - 9_2024_07_28_00_am_6.mid\n",
      "Analyzing file 279 of 302 - 143_2024_07_28_08_pm_141.mid\n",
      "Analyzing file 280 of 302 - 134_2024_07_28_06_pm_132.mid\n",
      "Analyzing file 281 of 302 - 57_2024_07_28_07_am_55.mid\n",
      "Analyzing file 282 of 302 - 31_2024_07_28_03_am_29.mid\n",
      "Analyzing file 283 of 302 - 128_2024_07_28_05_pm_126.mid\n",
      "Analyzing file 284 of 302 - 202_2024_07_29_03_am_27.mid\n",
      "Analyzing file 285 of 302 - 288_2024_07_29_05_pm_2.mid\n",
      "Analyzing file 286 of 302 - 130_2024_07_28_05_pm_128.mid\n",
      "Analyzing file 287 of 302 - 48_2024_07_28_06_am_46.mid\n",
      "Analyzing file 288 of 302 - 172_2024_07_28_11_pm_170.mid\n",
      "Analyzing file 289 of 302 - 278_2024_07_29_03_pm_103.mid\n",
      "Analyzing file 290 of 302 - 47_2024_07_28_06_am_45.mid\n",
      "Analyzing file 291 of 302 - 53_2024_07_28_07_am_51.mid\n",
      "Analyzing file 292 of 302 - 163_2024_07_28_10_pm_161.mid\n",
      "Analyzing file 293 of 302 - 34_2024_07_28_04_am_32.mid\n",
      "Analyzing file 294 of 302 - 216_2024_07_29_05_am_41.mid\n",
      "Analyzing file 295 of 302 - 113_2024_07_28_03_pm_111.mid\n",
      "Analyzing file 296 of 302 - 19_2024_07_28_01_am_17.mid\n",
      "Analyzing file 297 of 302 - 102_2024_07_28_02_pm_100.mid\n",
      "Analyzing file 298 of 302 - 280_2024_07_29_03_pm_105.mid\n",
      "Analyzing file 299 of 302 - 40_2024_07_28_05_am_38.mid\n",
      "Analyzing file 300 of 302 - 58_2024_07_28_07_am_56.mid\n",
      "Analyzing file 301 of 302 - 273_2024_07_29_02_pm_98.mid\n",
      "Analyzing file 302 of 302 - 291_2024_07_29_06_pm_5.mid\n"
     ]
    }
   ],
   "source": [
    "folder_path = model_output_dir\n",
    "\n",
    "# Count midi files in the folder path\n",
    "n_file_to_analyze = 0\n",
    "for root, dirs, files in os.walk(folder_path):\n",
    "    for file_name in files:\n",
    "        if file_name.endswith('.mid') or file_name.endswith('.midi'):\n",
    "            n_file_to_analyze += 1\n",
    "\n",
    "analysis_results = analyze_midi_folder(folder_path, n_file_to_analyze)"
   ]
  },
  {
   "cell_type": "code",
   "execution_count": 11,
   "metadata": {},
   "outputs": [
    {
     "name": "stdout",
     "output_type": "stream",
     "text": [
      "1 of 302 result - 166_2024_07_28_11_pm_164.mid:\n",
      "  pitch_counts: {57: 15, 50: 20, 69: 10, 53: 7, 62: 11, 60: 21, 67: 24, 72: 17, 74: 14, 59: 9, 65: 14, 52: 16, 48: 11, 45: 6, 55: 5, 36: 1, 43: 2, 77: 4, 64: 49, 70: 2, 76: 46, 38: 1, 58: 1, 44: 1, 40: 1, 56: 1, 41: 2, 93: 1, 79: 1}\n",
      "  pitch_class_distribution: {9: 32, 2: 46, 5: 27, 0: 50, 7: 32, 11: 9, 4: 112, 10: 3, 8: 2}\n",
      "  note_count: 313\n"
     ]
    }
   ],
   "source": [
    "n_file_to_print = 1\n",
    "\n",
    "current_file = 0\n",
    "\n",
    "# Print results\n",
    "for file_name, analysis in analysis_results.items():\n",
    "    if current_file < n_file_to_print:\n",
    "        current_file += 1\n",
    "        print(f\"{current_file} of {n_file_to_analyze} result - {file_name}:\")\n",
    "\n",
    "        for key, value in analysis.items():\n",
    "            print(f\"  {key}: {value}\")\n",
    "    else:\n",
    "        break"
   ]
  },
  {
   "cell_type": "code",
   "execution_count": 12,
   "metadata": {},
   "outputs": [
    {
     "name": "stdout",
     "output_type": "stream",
     "text": [
      "Average results:\n",
      "  pitch_counts: {57: 12.97350993377484, 50: 12.264900662251664, 69: 21.96026490066221, 53: 7.953642384105951, 62: 16.268211920529776, 60: 18.062913907284738, 67: 16.486754966887403, 72: 12.754966887417206, 74: 12.89735099337747, 59: 10.887417218543028, 65: 8.476821192052974, 52: 14.185430463576154, 48: 11.23841059602648, 45: 5.556291390728469, 55: 14.04966887417217, 36: 5.619205298013237, 43: 5.4238410596026405, 77: 4.291390728476817, 64: 24.13907284768208, 70: 0.7516556291390732, 76: 19.347682119205288, 38: 2.139072847682117, 58: 0.5397350993377485, 44: 0.7052980132450336, 40: 2.596026490066221, 56: 1.0364238410596032, 41: 4.3774834437086065, 93: 0.029801324503311258, 79: 4.003311258278141, 75: 0.7218543046357621, 51: 1.778145695364237, 46: 1.4834437086092727, 63: 0.5827814569536426, 87: 0.17880794701986766, 66: 1.4437086092715234, 47: 2.4205298013245025, 71: 5.834437086092711, 54: 1.0827814569536425, 61: 0.7582781456953641, 49: 0.7980132450331131, 81: 1.7086092715231782, 78: 0.380794701986755, 42: 1.8543046357615884, 73: 0.7980132450331133, 68: 1.0662251655629136, 33: 2.4271523178807928, 35: 1.4072847682119185, 83: 0.4966887417218543, 84: 0.6225165562913911, 86: 1.1920529801324504, 88: 0.35430463576158944, 37: 0.34768211920529785, 25: 0.11589403973509939, 26: 0.07284768211920532, 29: 0.049668874172185434, 39: 0.21192052980132448, 80: 0.8079470198675497, 82: 0.3112582781456954, 91: 0.12913907284768214, 32: 0.1423841059602649, 34: 0.043046357615894044, 31: 0.13576158940397354, 24: 0.05629139072847682, 85: 0.039735099337748346, 28: 0.029801324503311258, 89: 0.11589403973509935, 90: 0.056291390728476824}\n",
      "  pitch_class_distribution: {9: 44.6556291390728, 2: 44.83443708609271, 5: 25.264900662251613, 0: 48.35430463576156, 7: 40.22847682119204, 11: 21.046357615894056, 4: 60.65231788079474, 10: 3.1291390728476793, 8: 3.7582781456953596, 3: 3.4735099337748303, 6: 4.817880794701982, 1: 2.857615894039735}\n",
      "  note_count: 303.0728476821189\n"
     ]
    }
   ],
   "source": [
    "average_results = average_analysis_results(analysis_results)\n",
    "\n",
    "# Print average results\n",
    "print(\"Average results:\")\n",
    "for key, value in average_results.items():\n",
    "    print(f\"  {key}: {value}\")\n",
    "\n",
    "# Save average results to file\n",
    "# with open('average_results.json', 'w') as f:\n",
    "#     json.dump(average_results, f, indent=4)\n",
    "\n",
    "# Save analysis results to file\n",
    "# with open('analysis_results.json', 'w') as f:\n",
    "#     json.dump(analysis_results, f, indent=4)"
   ]
  },
  {
   "cell_type": "code",
   "execution_count": 13,
   "metadata": {},
   "outputs": [
    {
     "data": {
      "application/vnd.plotly.v1+json": {
       "config": {
        "plotlyServerURL": "https://plot.ly"
       },
       "data": [
        {
         "alignmentgroup": "True",
         "hovertemplate": "x=%{x}<br>y=%{y}<extra></extra>",
         "legendgroup": "",
         "marker": {
          "color": "rgb(158,202,225)",
          "line": {
           "color": "rgb(8,48,107)",
           "width": 1.5
          },
          "pattern": {
           "shape": ""
          }
         },
         "name": "",
         "offsetgroup": "",
         "opacity": 0.6,
         "orientation": "h",
         "showlegend": false,
         "textposition": "auto",
         "type": "bar",
         "x": [
          12.97350993377484,
          12.264900662251664,
          21.96026490066221,
          7.953642384105951,
          16.268211920529776,
          18.062913907284738,
          16.486754966887403,
          12.754966887417206,
          12.89735099337747,
          10.887417218543028,
          8.476821192052974,
          14.185430463576154,
          11.23841059602648,
          5.556291390728469,
          14.04966887417217,
          5.619205298013237,
          5.4238410596026405,
          4.291390728476817,
          24.13907284768208,
          0.7516556291390732,
          19.347682119205288,
          2.139072847682117,
          0.5397350993377485,
          0.7052980132450336,
          2.596026490066221,
          1.0364238410596032,
          4.3774834437086065,
          0.029801324503311258,
          4.003311258278141,
          0.7218543046357621,
          1.778145695364237,
          1.4834437086092727,
          0.5827814569536426,
          0.17880794701986766,
          1.4437086092715234,
          2.4205298013245025,
          5.834437086092711,
          1.0827814569536425,
          0.7582781456953641,
          0.7980132450331131,
          1.7086092715231782,
          0.380794701986755,
          1.8543046357615884,
          0.7980132450331133,
          1.0662251655629136,
          2.4271523178807928,
          1.4072847682119185,
          0.4966887417218543,
          0.6225165562913911,
          1.1920529801324504,
          0.35430463576158944,
          0.34768211920529785,
          0.11589403973509939,
          0.07284768211920532,
          0.049668874172185434,
          0.21192052980132448,
          0.8079470198675497,
          0.3112582781456954,
          0.12913907284768214,
          0.1423841059602649,
          0.043046357615894044,
          0.13576158940397354,
          0.05629139072847682,
          0.039735099337748346,
          0.029801324503311258,
          0.11589403973509935,
          0.056291390728476824
         ],
         "xaxis": "x",
         "y": [
          57,
          50,
          69,
          53,
          62,
          60,
          67,
          72,
          74,
          59,
          65,
          52,
          48,
          45,
          55,
          36,
          43,
          77,
          64,
          70,
          76,
          38,
          58,
          44,
          40,
          56,
          41,
          93,
          79,
          75,
          51,
          46,
          63,
          87,
          66,
          47,
          71,
          54,
          61,
          49,
          81,
          78,
          42,
          73,
          68,
          33,
          35,
          83,
          84,
          86,
          88,
          37,
          25,
          26,
          29,
          39,
          80,
          82,
          91,
          32,
          34,
          31,
          24,
          85,
          28,
          89,
          90
         ],
         "yaxis": "y"
        }
       ],
       "layout": {
        "autosize": false,
        "barmode": "overlay",
        "font": {
         "size": 13
        },
        "height": 1200,
        "legend": {
         "tracegroupgap": 0
        },
        "margin": {
         "t": 60
        },
        "plot_bgcolor": "white",
        "template": {
         "data": {
          "bar": [
           {
            "error_x": {
             "color": "#2a3f5f"
            },
            "error_y": {
             "color": "#2a3f5f"
            },
            "marker": {
             "line": {
              "color": "#E5ECF6",
              "width": 0.5
             },
             "pattern": {
              "fillmode": "overlay",
              "size": 10,
              "solidity": 0.2
             }
            },
            "type": "bar"
           }
          ],
          "barpolar": [
           {
            "marker": {
             "line": {
              "color": "#E5ECF6",
              "width": 0.5
             },
             "pattern": {
              "fillmode": "overlay",
              "size": 10,
              "solidity": 0.2
             }
            },
            "type": "barpolar"
           }
          ],
          "carpet": [
           {
            "aaxis": {
             "endlinecolor": "#2a3f5f",
             "gridcolor": "white",
             "linecolor": "white",
             "minorgridcolor": "white",
             "startlinecolor": "#2a3f5f"
            },
            "baxis": {
             "endlinecolor": "#2a3f5f",
             "gridcolor": "white",
             "linecolor": "white",
             "minorgridcolor": "white",
             "startlinecolor": "#2a3f5f"
            },
            "type": "carpet"
           }
          ],
          "choropleth": [
           {
            "colorbar": {
             "outlinewidth": 0,
             "ticks": ""
            },
            "type": "choropleth"
           }
          ],
          "contour": [
           {
            "colorbar": {
             "outlinewidth": 0,
             "ticks": ""
            },
            "colorscale": [
             [
              0,
              "#0d0887"
             ],
             [
              0.1111111111111111,
              "#46039f"
             ],
             [
              0.2222222222222222,
              "#7201a8"
             ],
             [
              0.3333333333333333,
              "#9c179e"
             ],
             [
              0.4444444444444444,
              "#bd3786"
             ],
             [
              0.5555555555555556,
              "#d8576b"
             ],
             [
              0.6666666666666666,
              "#ed7953"
             ],
             [
              0.7777777777777778,
              "#fb9f3a"
             ],
             [
              0.8888888888888888,
              "#fdca26"
             ],
             [
              1,
              "#f0f921"
             ]
            ],
            "type": "contour"
           }
          ],
          "contourcarpet": [
           {
            "colorbar": {
             "outlinewidth": 0,
             "ticks": ""
            },
            "type": "contourcarpet"
           }
          ],
          "heatmap": [
           {
            "colorbar": {
             "outlinewidth": 0,
             "ticks": ""
            },
            "colorscale": [
             [
              0,
              "#0d0887"
             ],
             [
              0.1111111111111111,
              "#46039f"
             ],
             [
              0.2222222222222222,
              "#7201a8"
             ],
             [
              0.3333333333333333,
              "#9c179e"
             ],
             [
              0.4444444444444444,
              "#bd3786"
             ],
             [
              0.5555555555555556,
              "#d8576b"
             ],
             [
              0.6666666666666666,
              "#ed7953"
             ],
             [
              0.7777777777777778,
              "#fb9f3a"
             ],
             [
              0.8888888888888888,
              "#fdca26"
             ],
             [
              1,
              "#f0f921"
             ]
            ],
            "type": "heatmap"
           }
          ],
          "heatmapgl": [
           {
            "colorbar": {
             "outlinewidth": 0,
             "ticks": ""
            },
            "colorscale": [
             [
              0,
              "#0d0887"
             ],
             [
              0.1111111111111111,
              "#46039f"
             ],
             [
              0.2222222222222222,
              "#7201a8"
             ],
             [
              0.3333333333333333,
              "#9c179e"
             ],
             [
              0.4444444444444444,
              "#bd3786"
             ],
             [
              0.5555555555555556,
              "#d8576b"
             ],
             [
              0.6666666666666666,
              "#ed7953"
             ],
             [
              0.7777777777777778,
              "#fb9f3a"
             ],
             [
              0.8888888888888888,
              "#fdca26"
             ],
             [
              1,
              "#f0f921"
             ]
            ],
            "type": "heatmapgl"
           }
          ],
          "histogram": [
           {
            "marker": {
             "pattern": {
              "fillmode": "overlay",
              "size": 10,
              "solidity": 0.2
             }
            },
            "type": "histogram"
           }
          ],
          "histogram2d": [
           {
            "colorbar": {
             "outlinewidth": 0,
             "ticks": ""
            },
            "colorscale": [
             [
              0,
              "#0d0887"
             ],
             [
              0.1111111111111111,
              "#46039f"
             ],
             [
              0.2222222222222222,
              "#7201a8"
             ],
             [
              0.3333333333333333,
              "#9c179e"
             ],
             [
              0.4444444444444444,
              "#bd3786"
             ],
             [
              0.5555555555555556,
              "#d8576b"
             ],
             [
              0.6666666666666666,
              "#ed7953"
             ],
             [
              0.7777777777777778,
              "#fb9f3a"
             ],
             [
              0.8888888888888888,
              "#fdca26"
             ],
             [
              1,
              "#f0f921"
             ]
            ],
            "type": "histogram2d"
           }
          ],
          "histogram2dcontour": [
           {
            "colorbar": {
             "outlinewidth": 0,
             "ticks": ""
            },
            "colorscale": [
             [
              0,
              "#0d0887"
             ],
             [
              0.1111111111111111,
              "#46039f"
             ],
             [
              0.2222222222222222,
              "#7201a8"
             ],
             [
              0.3333333333333333,
              "#9c179e"
             ],
             [
              0.4444444444444444,
              "#bd3786"
             ],
             [
              0.5555555555555556,
              "#d8576b"
             ],
             [
              0.6666666666666666,
              "#ed7953"
             ],
             [
              0.7777777777777778,
              "#fb9f3a"
             ],
             [
              0.8888888888888888,
              "#fdca26"
             ],
             [
              1,
              "#f0f921"
             ]
            ],
            "type": "histogram2dcontour"
           }
          ],
          "mesh3d": [
           {
            "colorbar": {
             "outlinewidth": 0,
             "ticks": ""
            },
            "type": "mesh3d"
           }
          ],
          "parcoords": [
           {
            "line": {
             "colorbar": {
              "outlinewidth": 0,
              "ticks": ""
             }
            },
            "type": "parcoords"
           }
          ],
          "pie": [
           {
            "automargin": true,
            "type": "pie"
           }
          ],
          "scatter": [
           {
            "fillpattern": {
             "fillmode": "overlay",
             "size": 10,
             "solidity": 0.2
            },
            "type": "scatter"
           }
          ],
          "scatter3d": [
           {
            "line": {
             "colorbar": {
              "outlinewidth": 0,
              "ticks": ""
             }
            },
            "marker": {
             "colorbar": {
              "outlinewidth": 0,
              "ticks": ""
             }
            },
            "type": "scatter3d"
           }
          ],
          "scattercarpet": [
           {
            "marker": {
             "colorbar": {
              "outlinewidth": 0,
              "ticks": ""
             }
            },
            "type": "scattercarpet"
           }
          ],
          "scattergeo": [
           {
            "marker": {
             "colorbar": {
              "outlinewidth": 0,
              "ticks": ""
             }
            },
            "type": "scattergeo"
           }
          ],
          "scattergl": [
           {
            "marker": {
             "colorbar": {
              "outlinewidth": 0,
              "ticks": ""
             }
            },
            "type": "scattergl"
           }
          ],
          "scattermapbox": [
           {
            "marker": {
             "colorbar": {
              "outlinewidth": 0,
              "ticks": ""
             }
            },
            "type": "scattermapbox"
           }
          ],
          "scatterpolar": [
           {
            "marker": {
             "colorbar": {
              "outlinewidth": 0,
              "ticks": ""
             }
            },
            "type": "scatterpolar"
           }
          ],
          "scatterpolargl": [
           {
            "marker": {
             "colorbar": {
              "outlinewidth": 0,
              "ticks": ""
             }
            },
            "type": "scatterpolargl"
           }
          ],
          "scatterternary": [
           {
            "marker": {
             "colorbar": {
              "outlinewidth": 0,
              "ticks": ""
             }
            },
            "type": "scatterternary"
           }
          ],
          "surface": [
           {
            "colorbar": {
             "outlinewidth": 0,
             "ticks": ""
            },
            "colorscale": [
             [
              0,
              "#0d0887"
             ],
             [
              0.1111111111111111,
              "#46039f"
             ],
             [
              0.2222222222222222,
              "#7201a8"
             ],
             [
              0.3333333333333333,
              "#9c179e"
             ],
             [
              0.4444444444444444,
              "#bd3786"
             ],
             [
              0.5555555555555556,
              "#d8576b"
             ],
             [
              0.6666666666666666,
              "#ed7953"
             ],
             [
              0.7777777777777778,
              "#fb9f3a"
             ],
             [
              0.8888888888888888,
              "#fdca26"
             ],
             [
              1,
              "#f0f921"
             ]
            ],
            "type": "surface"
           }
          ],
          "table": [
           {
            "cells": {
             "fill": {
              "color": "#EBF0F8"
             },
             "line": {
              "color": "white"
             }
            },
            "header": {
             "fill": {
              "color": "#C8D4E3"
             },
             "line": {
              "color": "white"
             }
            },
            "type": "table"
           }
          ]
         },
         "layout": {
          "annotationdefaults": {
           "arrowcolor": "#2a3f5f",
           "arrowhead": 0,
           "arrowwidth": 1
          },
          "autotypenumbers": "strict",
          "coloraxis": {
           "colorbar": {
            "outlinewidth": 0,
            "ticks": ""
           }
          },
          "colorscale": {
           "diverging": [
            [
             0,
             "#8e0152"
            ],
            [
             0.1,
             "#c51b7d"
            ],
            [
             0.2,
             "#de77ae"
            ],
            [
             0.3,
             "#f1b6da"
            ],
            [
             0.4,
             "#fde0ef"
            ],
            [
             0.5,
             "#f7f7f7"
            ],
            [
             0.6,
             "#e6f5d0"
            ],
            [
             0.7,
             "#b8e186"
            ],
            [
             0.8,
             "#7fbc41"
            ],
            [
             0.9,
             "#4d9221"
            ],
            [
             1,
             "#276419"
            ]
           ],
           "sequential": [
            [
             0,
             "#0d0887"
            ],
            [
             0.1111111111111111,
             "#46039f"
            ],
            [
             0.2222222222222222,
             "#7201a8"
            ],
            [
             0.3333333333333333,
             "#9c179e"
            ],
            [
             0.4444444444444444,
             "#bd3786"
            ],
            [
             0.5555555555555556,
             "#d8576b"
            ],
            [
             0.6666666666666666,
             "#ed7953"
            ],
            [
             0.7777777777777778,
             "#fb9f3a"
            ],
            [
             0.8888888888888888,
             "#fdca26"
            ],
            [
             1,
             "#f0f921"
            ]
           ],
           "sequentialminus": [
            [
             0,
             "#0d0887"
            ],
            [
             0.1111111111111111,
             "#46039f"
            ],
            [
             0.2222222222222222,
             "#7201a8"
            ],
            [
             0.3333333333333333,
             "#9c179e"
            ],
            [
             0.4444444444444444,
             "#bd3786"
            ],
            [
             0.5555555555555556,
             "#d8576b"
            ],
            [
             0.6666666666666666,
             "#ed7953"
            ],
            [
             0.7777777777777778,
             "#fb9f3a"
            ],
            [
             0.8888888888888888,
             "#fdca26"
            ],
            [
             1,
             "#f0f921"
            ]
           ]
          },
          "colorway": [
           "#636efa",
           "#EF553B",
           "#00cc96",
           "#ab63fa",
           "#FFA15A",
           "#19d3f3",
           "#FF6692",
           "#B6E880",
           "#FF97FF",
           "#FECB52"
          ],
          "font": {
           "color": "#2a3f5f"
          },
          "geo": {
           "bgcolor": "white",
           "lakecolor": "white",
           "landcolor": "#E5ECF6",
           "showlakes": true,
           "showland": true,
           "subunitcolor": "white"
          },
          "hoverlabel": {
           "align": "left"
          },
          "hovermode": "closest",
          "mapbox": {
           "style": "light"
          },
          "paper_bgcolor": "white",
          "plot_bgcolor": "#E5ECF6",
          "polar": {
           "angularaxis": {
            "gridcolor": "white",
            "linecolor": "white",
            "ticks": ""
           },
           "bgcolor": "#E5ECF6",
           "radialaxis": {
            "gridcolor": "white",
            "linecolor": "white",
            "ticks": ""
           }
          },
          "scene": {
           "xaxis": {
            "backgroundcolor": "#E5ECF6",
            "gridcolor": "white",
            "gridwidth": 2,
            "linecolor": "white",
            "showbackground": true,
            "ticks": "",
            "zerolinecolor": "white"
           },
           "yaxis": {
            "backgroundcolor": "#E5ECF6",
            "gridcolor": "white",
            "gridwidth": 2,
            "linecolor": "white",
            "showbackground": true,
            "ticks": "",
            "zerolinecolor": "white"
           },
           "zaxis": {
            "backgroundcolor": "#E5ECF6",
            "gridcolor": "white",
            "gridwidth": 2,
            "linecolor": "white",
            "showbackground": true,
            "ticks": "",
            "zerolinecolor": "white"
           }
          },
          "shapedefaults": {
           "line": {
            "color": "#2a3f5f"
           }
          },
          "ternary": {
           "aaxis": {
            "gridcolor": "white",
            "linecolor": "white",
            "ticks": ""
           },
           "baxis": {
            "gridcolor": "white",
            "linecolor": "white",
            "ticks": ""
           },
           "bgcolor": "#E5ECF6",
           "caxis": {
            "gridcolor": "white",
            "linecolor": "white",
            "ticks": ""
           }
          },
          "title": {
           "x": 0.05
          },
          "xaxis": {
           "automargin": true,
           "gridcolor": "white",
           "linecolor": "white",
           "ticks": "",
           "title": {
            "standoff": 15
           },
           "zerolinecolor": "white",
           "zerolinewidth": 2
          },
          "yaxis": {
           "automargin": true,
           "gridcolor": "white",
           "linecolor": "white",
           "ticks": "",
           "title": {
            "standoff": 15
           },
           "zerolinecolor": "white",
           "zerolinewidth": 2
          }
         }
        },
        "title": {
         "text": "GPT (n = 302)"
        },
        "width": 450,
        "xaxis": {
         "anchor": "y",
         "domain": [
          0,
          1
         ],
         "gridcolor": "rgb(158,202,225)",
         "gridwidth": 1,
         "showgrid": true,
         "tickvals": [
          0,
          1,
          2,
          3,
          4,
          5,
          6,
          7,
          8,
          9,
          10,
          11,
          12,
          13,
          14,
          15,
          16,
          17,
          18,
          19,
          20,
          21,
          22,
          23,
          24,
          25
         ],
         "title": {
          "text": "Số lần xuất hiện trung bình"
         }
        },
        "yaxis": {
         "anchor": "x",
         "domain": [
          0,
          1
         ],
         "tickvals": [
          0,
          5,
          10,
          15,
          20,
          25,
          30,
          35,
          40,
          45,
          50,
          55,
          60,
          65,
          70,
          75,
          80,
          85,
          90
         ],
         "title": {
          "text": "Cao độ"
         }
        }
       }
      }
     },
     "metadata": {},
     "output_type": "display_data"
    },
    {
     "data": {
      "application/vnd.plotly.v1+json": {
       "config": {
        "plotlyServerURL": "https://plot.ly"
       },
       "data": [
        {
         "alignmentgroup": "True",
         "hovertemplate": "x=%{x}<br>y=%{y}<extra></extra>",
         "legendgroup": "",
         "marker": {
          "color": "rgb(158,202,225)",
          "line": {
           "color": "rgb(8,48,107)",
           "width": 1.5
          },
          "pattern": {
           "shape": ""
          }
         },
         "name": "",
         "offsetgroup": "",
         "opacity": 0.6,
         "orientation": "v",
         "showlegend": false,
         "textposition": "auto",
         "type": "bar",
         "x": [
          9,
          2,
          5,
          0,
          7,
          11,
          4,
          10,
          8,
          3,
          6,
          1
         ],
         "xaxis": "x",
         "y": [
          44.6556291390728,
          44.83443708609271,
          25.264900662251613,
          48.35430463576156,
          40.22847682119204,
          21.046357615894056,
          60.65231788079474,
          3.1291390728476793,
          3.7582781456953596,
          3.4735099337748303,
          4.817880794701982,
          2.857615894039735
         ],
         "yaxis": "y"
        }
       ],
       "layout": {
        "autosize": false,
        "barmode": "relative",
        "font": {
         "size": 13
        },
        "height": 400,
        "legend": {
         "tracegroupgap": 0
        },
        "margin": {
         "t": 60
        },
        "plot_bgcolor": "white",
        "template": {
         "data": {
          "bar": [
           {
            "error_x": {
             "color": "#2a3f5f"
            },
            "error_y": {
             "color": "#2a3f5f"
            },
            "marker": {
             "line": {
              "color": "#E5ECF6",
              "width": 0.5
             },
             "pattern": {
              "fillmode": "overlay",
              "size": 10,
              "solidity": 0.2
             }
            },
            "type": "bar"
           }
          ],
          "barpolar": [
           {
            "marker": {
             "line": {
              "color": "#E5ECF6",
              "width": 0.5
             },
             "pattern": {
              "fillmode": "overlay",
              "size": 10,
              "solidity": 0.2
             }
            },
            "type": "barpolar"
           }
          ],
          "carpet": [
           {
            "aaxis": {
             "endlinecolor": "#2a3f5f",
             "gridcolor": "white",
             "linecolor": "white",
             "minorgridcolor": "white",
             "startlinecolor": "#2a3f5f"
            },
            "baxis": {
             "endlinecolor": "#2a3f5f",
             "gridcolor": "white",
             "linecolor": "white",
             "minorgridcolor": "white",
             "startlinecolor": "#2a3f5f"
            },
            "type": "carpet"
           }
          ],
          "choropleth": [
           {
            "colorbar": {
             "outlinewidth": 0,
             "ticks": ""
            },
            "type": "choropleth"
           }
          ],
          "contour": [
           {
            "colorbar": {
             "outlinewidth": 0,
             "ticks": ""
            },
            "colorscale": [
             [
              0,
              "#0d0887"
             ],
             [
              0.1111111111111111,
              "#46039f"
             ],
             [
              0.2222222222222222,
              "#7201a8"
             ],
             [
              0.3333333333333333,
              "#9c179e"
             ],
             [
              0.4444444444444444,
              "#bd3786"
             ],
             [
              0.5555555555555556,
              "#d8576b"
             ],
             [
              0.6666666666666666,
              "#ed7953"
             ],
             [
              0.7777777777777778,
              "#fb9f3a"
             ],
             [
              0.8888888888888888,
              "#fdca26"
             ],
             [
              1,
              "#f0f921"
             ]
            ],
            "type": "contour"
           }
          ],
          "contourcarpet": [
           {
            "colorbar": {
             "outlinewidth": 0,
             "ticks": ""
            },
            "type": "contourcarpet"
           }
          ],
          "heatmap": [
           {
            "colorbar": {
             "outlinewidth": 0,
             "ticks": ""
            },
            "colorscale": [
             [
              0,
              "#0d0887"
             ],
             [
              0.1111111111111111,
              "#46039f"
             ],
             [
              0.2222222222222222,
              "#7201a8"
             ],
             [
              0.3333333333333333,
              "#9c179e"
             ],
             [
              0.4444444444444444,
              "#bd3786"
             ],
             [
              0.5555555555555556,
              "#d8576b"
             ],
             [
              0.6666666666666666,
              "#ed7953"
             ],
             [
              0.7777777777777778,
              "#fb9f3a"
             ],
             [
              0.8888888888888888,
              "#fdca26"
             ],
             [
              1,
              "#f0f921"
             ]
            ],
            "type": "heatmap"
           }
          ],
          "heatmapgl": [
           {
            "colorbar": {
             "outlinewidth": 0,
             "ticks": ""
            },
            "colorscale": [
             [
              0,
              "#0d0887"
             ],
             [
              0.1111111111111111,
              "#46039f"
             ],
             [
              0.2222222222222222,
              "#7201a8"
             ],
             [
              0.3333333333333333,
              "#9c179e"
             ],
             [
              0.4444444444444444,
              "#bd3786"
             ],
             [
              0.5555555555555556,
              "#d8576b"
             ],
             [
              0.6666666666666666,
              "#ed7953"
             ],
             [
              0.7777777777777778,
              "#fb9f3a"
             ],
             [
              0.8888888888888888,
              "#fdca26"
             ],
             [
              1,
              "#f0f921"
             ]
            ],
            "type": "heatmapgl"
           }
          ],
          "histogram": [
           {
            "marker": {
             "pattern": {
              "fillmode": "overlay",
              "size": 10,
              "solidity": 0.2
             }
            },
            "type": "histogram"
           }
          ],
          "histogram2d": [
           {
            "colorbar": {
             "outlinewidth": 0,
             "ticks": ""
            },
            "colorscale": [
             [
              0,
              "#0d0887"
             ],
             [
              0.1111111111111111,
              "#46039f"
             ],
             [
              0.2222222222222222,
              "#7201a8"
             ],
             [
              0.3333333333333333,
              "#9c179e"
             ],
             [
              0.4444444444444444,
              "#bd3786"
             ],
             [
              0.5555555555555556,
              "#d8576b"
             ],
             [
              0.6666666666666666,
              "#ed7953"
             ],
             [
              0.7777777777777778,
              "#fb9f3a"
             ],
             [
              0.8888888888888888,
              "#fdca26"
             ],
             [
              1,
              "#f0f921"
             ]
            ],
            "type": "histogram2d"
           }
          ],
          "histogram2dcontour": [
           {
            "colorbar": {
             "outlinewidth": 0,
             "ticks": ""
            },
            "colorscale": [
             [
              0,
              "#0d0887"
             ],
             [
              0.1111111111111111,
              "#46039f"
             ],
             [
              0.2222222222222222,
              "#7201a8"
             ],
             [
              0.3333333333333333,
              "#9c179e"
             ],
             [
              0.4444444444444444,
              "#bd3786"
             ],
             [
              0.5555555555555556,
              "#d8576b"
             ],
             [
              0.6666666666666666,
              "#ed7953"
             ],
             [
              0.7777777777777778,
              "#fb9f3a"
             ],
             [
              0.8888888888888888,
              "#fdca26"
             ],
             [
              1,
              "#f0f921"
             ]
            ],
            "type": "histogram2dcontour"
           }
          ],
          "mesh3d": [
           {
            "colorbar": {
             "outlinewidth": 0,
             "ticks": ""
            },
            "type": "mesh3d"
           }
          ],
          "parcoords": [
           {
            "line": {
             "colorbar": {
              "outlinewidth": 0,
              "ticks": ""
             }
            },
            "type": "parcoords"
           }
          ],
          "pie": [
           {
            "automargin": true,
            "type": "pie"
           }
          ],
          "scatter": [
           {
            "fillpattern": {
             "fillmode": "overlay",
             "size": 10,
             "solidity": 0.2
            },
            "type": "scatter"
           }
          ],
          "scatter3d": [
           {
            "line": {
             "colorbar": {
              "outlinewidth": 0,
              "ticks": ""
             }
            },
            "marker": {
             "colorbar": {
              "outlinewidth": 0,
              "ticks": ""
             }
            },
            "type": "scatter3d"
           }
          ],
          "scattercarpet": [
           {
            "marker": {
             "colorbar": {
              "outlinewidth": 0,
              "ticks": ""
             }
            },
            "type": "scattercarpet"
           }
          ],
          "scattergeo": [
           {
            "marker": {
             "colorbar": {
              "outlinewidth": 0,
              "ticks": ""
             }
            },
            "type": "scattergeo"
           }
          ],
          "scattergl": [
           {
            "marker": {
             "colorbar": {
              "outlinewidth": 0,
              "ticks": ""
             }
            },
            "type": "scattergl"
           }
          ],
          "scattermapbox": [
           {
            "marker": {
             "colorbar": {
              "outlinewidth": 0,
              "ticks": ""
             }
            },
            "type": "scattermapbox"
           }
          ],
          "scatterpolar": [
           {
            "marker": {
             "colorbar": {
              "outlinewidth": 0,
              "ticks": ""
             }
            },
            "type": "scatterpolar"
           }
          ],
          "scatterpolargl": [
           {
            "marker": {
             "colorbar": {
              "outlinewidth": 0,
              "ticks": ""
             }
            },
            "type": "scatterpolargl"
           }
          ],
          "scatterternary": [
           {
            "marker": {
             "colorbar": {
              "outlinewidth": 0,
              "ticks": ""
             }
            },
            "type": "scatterternary"
           }
          ],
          "surface": [
           {
            "colorbar": {
             "outlinewidth": 0,
             "ticks": ""
            },
            "colorscale": [
             [
              0,
              "#0d0887"
             ],
             [
              0.1111111111111111,
              "#46039f"
             ],
             [
              0.2222222222222222,
              "#7201a8"
             ],
             [
              0.3333333333333333,
              "#9c179e"
             ],
             [
              0.4444444444444444,
              "#bd3786"
             ],
             [
              0.5555555555555556,
              "#d8576b"
             ],
             [
              0.6666666666666666,
              "#ed7953"
             ],
             [
              0.7777777777777778,
              "#fb9f3a"
             ],
             [
              0.8888888888888888,
              "#fdca26"
             ],
             [
              1,
              "#f0f921"
             ]
            ],
            "type": "surface"
           }
          ],
          "table": [
           {
            "cells": {
             "fill": {
              "color": "#EBF0F8"
             },
             "line": {
              "color": "white"
             }
            },
            "header": {
             "fill": {
              "color": "#C8D4E3"
             },
             "line": {
              "color": "white"
             }
            },
            "type": "table"
           }
          ]
         },
         "layout": {
          "annotationdefaults": {
           "arrowcolor": "#2a3f5f",
           "arrowhead": 0,
           "arrowwidth": 1
          },
          "autotypenumbers": "strict",
          "coloraxis": {
           "colorbar": {
            "outlinewidth": 0,
            "ticks": ""
           }
          },
          "colorscale": {
           "diverging": [
            [
             0,
             "#8e0152"
            ],
            [
             0.1,
             "#c51b7d"
            ],
            [
             0.2,
             "#de77ae"
            ],
            [
             0.3,
             "#f1b6da"
            ],
            [
             0.4,
             "#fde0ef"
            ],
            [
             0.5,
             "#f7f7f7"
            ],
            [
             0.6,
             "#e6f5d0"
            ],
            [
             0.7,
             "#b8e186"
            ],
            [
             0.8,
             "#7fbc41"
            ],
            [
             0.9,
             "#4d9221"
            ],
            [
             1,
             "#276419"
            ]
           ],
           "sequential": [
            [
             0,
             "#0d0887"
            ],
            [
             0.1111111111111111,
             "#46039f"
            ],
            [
             0.2222222222222222,
             "#7201a8"
            ],
            [
             0.3333333333333333,
             "#9c179e"
            ],
            [
             0.4444444444444444,
             "#bd3786"
            ],
            [
             0.5555555555555556,
             "#d8576b"
            ],
            [
             0.6666666666666666,
             "#ed7953"
            ],
            [
             0.7777777777777778,
             "#fb9f3a"
            ],
            [
             0.8888888888888888,
             "#fdca26"
            ],
            [
             1,
             "#f0f921"
            ]
           ],
           "sequentialminus": [
            [
             0,
             "#0d0887"
            ],
            [
             0.1111111111111111,
             "#46039f"
            ],
            [
             0.2222222222222222,
             "#7201a8"
            ],
            [
             0.3333333333333333,
             "#9c179e"
            ],
            [
             0.4444444444444444,
             "#bd3786"
            ],
            [
             0.5555555555555556,
             "#d8576b"
            ],
            [
             0.6666666666666666,
             "#ed7953"
            ],
            [
             0.7777777777777778,
             "#fb9f3a"
            ],
            [
             0.8888888888888888,
             "#fdca26"
            ],
            [
             1,
             "#f0f921"
            ]
           ]
          },
          "colorway": [
           "#636efa",
           "#EF553B",
           "#00cc96",
           "#ab63fa",
           "#FFA15A",
           "#19d3f3",
           "#FF6692",
           "#B6E880",
           "#FF97FF",
           "#FECB52"
          ],
          "font": {
           "color": "#2a3f5f"
          },
          "geo": {
           "bgcolor": "white",
           "lakecolor": "white",
           "landcolor": "#E5ECF6",
           "showlakes": true,
           "showland": true,
           "subunitcolor": "white"
          },
          "hoverlabel": {
           "align": "left"
          },
          "hovermode": "closest",
          "mapbox": {
           "style": "light"
          },
          "paper_bgcolor": "white",
          "plot_bgcolor": "#E5ECF6",
          "polar": {
           "angularaxis": {
            "gridcolor": "white",
            "linecolor": "white",
            "ticks": ""
           },
           "bgcolor": "#E5ECF6",
           "radialaxis": {
            "gridcolor": "white",
            "linecolor": "white",
            "ticks": ""
           }
          },
          "scene": {
           "xaxis": {
            "backgroundcolor": "#E5ECF6",
            "gridcolor": "white",
            "gridwidth": 2,
            "linecolor": "white",
            "showbackground": true,
            "ticks": "",
            "zerolinecolor": "white"
           },
           "yaxis": {
            "backgroundcolor": "#E5ECF6",
            "gridcolor": "white",
            "gridwidth": 2,
            "linecolor": "white",
            "showbackground": true,
            "ticks": "",
            "zerolinecolor": "white"
           },
           "zaxis": {
            "backgroundcolor": "#E5ECF6",
            "gridcolor": "white",
            "gridwidth": 2,
            "linecolor": "white",
            "showbackground": true,
            "ticks": "",
            "zerolinecolor": "white"
           }
          },
          "shapedefaults": {
           "line": {
            "color": "#2a3f5f"
           }
          },
          "ternary": {
           "aaxis": {
            "gridcolor": "white",
            "linecolor": "white",
            "ticks": ""
           },
           "baxis": {
            "gridcolor": "white",
            "linecolor": "white",
            "ticks": ""
           },
           "bgcolor": "#E5ECF6",
           "caxis": {
            "gridcolor": "white",
            "linecolor": "white",
            "ticks": ""
           }
          },
          "title": {
           "x": 0.05
          },
          "xaxis": {
           "automargin": true,
           "gridcolor": "white",
           "linecolor": "white",
           "ticks": "",
           "title": {
            "standoff": 15
           },
           "zerolinecolor": "white",
           "zerolinewidth": 2
          },
          "yaxis": {
           "automargin": true,
           "gridcolor": "white",
           "linecolor": "white",
           "ticks": "",
           "title": {
            "standoff": 15
           },
           "zerolinecolor": "white",
           "zerolinewidth": 2
          }
         }
        },
        "title": {
         "text": "GPT (n = 302)"
        },
        "width": 650,
        "xaxis": {
         "anchor": "y",
         "domain": [
          0,
          1
         ],
         "tickvals": [
          0,
          1,
          2,
          3,
          4,
          5,
          6,
          7,
          8,
          9,
          10,
          11
         ],
         "title": {
          "text": "Cao độ cơ bản"
         }
        },
        "yaxis": {
         "anchor": "x",
         "domain": [
          0,
          1
         ],
         "gridcolor": "rgb(158,202,225)",
         "gridwidth": 1,
         "showgrid": true,
         "title": {
          "text": "Số lần xuất hiện trung bình"
         }
        }
       }
      }
     },
     "metadata": {},
     "output_type": "display_data"
    },
    {
     "name": "stdout",
     "output_type": "stream",
     "text": [
      "Số lượng nốt nhạc trung bình trong một đoạn nhạc từ GPT (n = 302): 303.0728476821189\n"
     ]
    }
   ],
   "source": [
    "# Horizontal bar chart for pitch counts using plotly express (with y is the pitch and x is the count)\n",
    "fig = px.bar(\n",
    "    x=list(average_results['pitch_counts'].values()), \n",
    "    y=list(average_results['pitch_counts'].keys()), \n",
    "    orientation='h'\n",
    ")\n",
    "\n",
    "fig.update_layout(\n",
    "    title=f'GPT (n = {n_file_to_analyze})', \n",
    "    xaxis_title='Số lần xuất hiện trung bình',\n",
    "    yaxis_title='Cao độ'\n",
    ")\n",
    "\n",
    "# Show labels 0, 5, 10, 15, ... in y-axis\n",
    "y_axis_tickvals = list(range(0, max(average_results['pitch_counts'].keys()) + 1, 5))\n",
    "fig.update_yaxes(tickvals=y_axis_tickvals)\n",
    "\n",
    "# Show labels 0, 1, 2, 3, ... in x-axis\n",
    "x_axis_tickvals = list(range(\n",
    "    0, \n",
    "    int(max(average_results['pitch_counts'].values())) + 1 + 1\n",
    "))\n",
    "fig.update_xaxes(tickvals=x_axis_tickvals)\n",
    "\n",
    "# Change the color set to make it easier to see when printed in black and white\n",
    "fig.update_traces(marker_color='rgb(158,202,225)', marker_line_color='rgb(8,48,107)', marker_line_width=1.5, opacity=0.6)\n",
    "\n",
    "# Change the background color to make it easier to see when printed in black and white\n",
    "fig.update_layout(plot_bgcolor='white')\n",
    "\n",
    "# Show the vertical grid lines\n",
    "fig.update_layout(xaxis=dict(showgrid=True, gridwidth=1, gridcolor='rgb(158,202,225)'))\n",
    "\n",
    "# Make the colums overlay the grid lines\n",
    "fig.update_layout(barmode='overlay')\n",
    "\n",
    "# Make the font size bigger\n",
    "fig.update_layout(font=dict(size=13))\n",
    "\n",
    "# Make the plot ratio x:y\n",
    "fig.update_layout(\n",
    "    autosize=False,\n",
    "    width=450,\n",
    "    height=1200,\n",
    ")\n",
    "\n",
    "fig.show()\n",
    "\n",
    "\n",
    "# Pitch class distribution\n",
    "fig = px.bar(x=list(average_results['pitch_class_distribution'].keys()), y=list(average_results['pitch_class_distribution'].values()))\n",
    "fig.update_layout(\n",
    "    title=f'GPT (n = {n_file_to_analyze})', \n",
    "    yaxis_title='Số lần xuất hiện trung bình',\n",
    "    xaxis_title='Cao độ cơ bản'\n",
    ")\n",
    "\n",
    "# Show labels 0, 1, 2, 3, ... in x-axis\n",
    "x_axis_tickvals = list(range(0, max(average_results['pitch_class_distribution'].keys()) + 1))\n",
    "fig.update_xaxes(tickvals=x_axis_tickvals)\n",
    "\n",
    "# Change the color set to make it easier to see when printed in black and white\n",
    "fig.update_traces(marker_color='rgb(158,202,225)', marker_line_color='rgb(8,48,107)', marker_line_width=1.5, opacity=0.6)\n",
    "\n",
    "# Change the background color to make it easier to see when printed in black and white\n",
    "fig.update_layout(plot_bgcolor='white')\n",
    "\n",
    "# Show the horizontal grid lines\n",
    "fig.update_layout(yaxis=dict(showgrid=True, gridwidth=1, gridcolor='rgb(158,202,225)'))\n",
    "\n",
    "# Make the font size bigger\n",
    "fig.update_layout(font=dict(size=13))\n",
    "\n",
    "# Make the plot ratio x:y\n",
    "fig.update_layout(\n",
    "    autosize=False,\n",
    "    width=650,\n",
    "    height=400,\n",
    ")\n",
    "\n",
    "fig.show()\n",
    "\n",
    "# Note count\n",
    "print(f\"Số lượng nốt nhạc trung bình trong một đoạn nhạc từ GPT (n = {n_file_to_analyze}): {average_results['note_count']}\")"
   ]
  },
  {
   "cell_type": "markdown",
   "metadata": {},
   "source": [
    "# Model Output (C major & A minor key only)"
   ]
  },
  {
   "cell_type": "code",
   "execution_count": 14,
   "metadata": {},
   "outputs": [
    {
     "name": "stdout",
     "output_type": "stream",
     "text": [
      "{24: 0.05629139072847682, 25: 0.11589403973509939, 26: 0.07284768211920532, 28: 0.029801324503311258, 29: 0.049668874172185434, 31: 0.13576158940397354, 32: 0.1423841059602649, 33: 2.4271523178807928, 34: 0.043046357615894044, 35: 1.4072847682119185, 36: 5.619205298013237, 37: 0.34768211920529785, 38: 2.139072847682117, 39: 0.21192052980132448, 40: 2.596026490066221, 41: 4.3774834437086065, 42: 1.8543046357615884, 43: 5.4238410596026405, 44: 0.7052980132450336, 45: 5.556291390728469, 46: 1.4834437086092727, 47: 2.4205298013245025, 48: 11.23841059602648, 49: 0.7980132450331131, 50: 12.264900662251664, 51: 1.778145695364237, 52: 14.185430463576154, 53: 7.953642384105951, 54: 1.0827814569536425, 55: 14.04966887417217, 56: 1.0364238410596032, 57: 12.97350993377484, 58: 0.5397350993377485, 59: 10.887417218543028, 60: 18.062913907284738, 61: 0.7582781456953641, 62: 16.268211920529776, 63: 0.5827814569536426, 64: 24.13907284768208, 65: 8.476821192052974, 66: 1.4437086092715234, 67: 16.486754966887403, 68: 1.0662251655629136, 69: 21.96026490066221, 70: 0.7516556291390732, 71: 5.834437086092711, 72: 12.754966887417206, 73: 0.7980132450331133, 74: 12.89735099337747, 75: 0.7218543046357621, 76: 19.347682119205288, 77: 4.291390728476817, 78: 0.380794701986755, 79: 4.003311258278141, 80: 0.8079470198675497, 81: 1.7086092715231782, 82: 0.3112582781456954, 83: 0.4966887417218543, 84: 0.6225165562913911, 85: 0.039735099337748346, 86: 1.1920529801324504, 87: 0.17880794701986766, 88: 0.35430463576158944, 89: 0.11589403973509935, 90: 0.056291390728476824, 91: 0.12913907284768214, 93: 0.029801324503311258}\n",
      "{'24': 0.05629139072847682, '26': 0.07284768211920532, '28': 0.029801324503311258, '29': 0.049668874172185434, '31': 0.13576158940397354, '33': 2.4271523178807928, '35': 1.4072847682119185, '36': 5.619205298013237, '38': 2.139072847682117, '40': 2.596026490066221, '41': 4.3774834437086065, '43': 5.4238410596026405, '45': 5.556291390728469, '47': 2.4205298013245025, '48': 11.23841059602648, '50': 12.264900662251664, '52': 14.185430463576154, '53': 7.953642384105951, '55': 14.04966887417217, '57': 12.97350993377484, '59': 10.887417218543028, '60': 18.062913907284738, '62': 16.268211920529776, '64': 24.13907284768208, '65': 8.476821192052974, '67': 16.486754966887403, '69': 21.96026490066221, '71': 5.834437086092711, '72': 12.754966887417206, '74': 12.89735099337747, '76': 19.347682119205288, '77': 4.291390728476817, '79': 4.003311258278141, '81': 1.7086092715231782, '83': 0.4966887417218543, '84': 0.6225165562913911, '86': 1.1920529801324504, '88': 0.35430463576158944, '89': 0.11589403973509935, '91': 0.12913907284768214, '93': 0.029801324503311258}\n",
      "{0: 48.35430463576156, 1: 2.857615894039735, 2: 44.83443708609271, 3: 3.4735099337748303, 4: 60.65231788079474, 5: 25.264900662251613, 6: 4.817880794701982, 7: 40.22847682119204, 8: 3.7582781456953596, 9: 44.6556291390728, 10: 3.1291390728476793, 11: 21.046357615894056}\n",
      "{'0': 48.35430463576156, '2': 44.83443708609271, '4': 60.65231788079474, '5': 25.264900662251613, '7': 40.22847682119204, '9': 44.6556291390728, '11': 21.046357615894056}\n"
     ]
    }
   ],
   "source": [
    "# Select the pitches to analyze (C major scale and A minor scale)\n",
    "selected_pitchs = [\n",
    "    0, # C\n",
    "    2, # D\n",
    "    4, # E\n",
    "    5, # F\n",
    "    7, # G\n",
    "    9, # A\n",
    "    11 # B\n",
    "]\n",
    "\n",
    "# AVARAGE PITCH COUNTS\n",
    "# Sort average_results['pitch_counts'] by pitch\n",
    "average_results['pitch_counts'] = dict(sorted(average_results['pitch_counts'].items()))\n",
    "\n",
    "print(average_results['pitch_counts'])\n",
    "\n",
    "# Filter the pitch that pitch mod any of the selected pitches equals 0\n",
    "filtered_pitch_counts = {\n",
    "    str(pitch): count \n",
    "    for pitch, count in average_results['pitch_counts'].items() \n",
    "    if pitch % 12 in selected_pitchs\n",
    "}\n",
    "\n",
    "print(filtered_pitch_counts)\n",
    "\n",
    "# AVARAGE PITCH CLASS DISTRIBUTION\n",
    "# Sort average_results['pitch_class_distribution'] by pitch class\n",
    "average_results['pitch_class_distribution'] = dict(sorted(average_results['pitch_class_distribution'].items()))\n",
    "\n",
    "print(average_results['pitch_class_distribution'])\n",
    "\n",
    "# Filter the pitch class that is in the selected pitch classes\n",
    "filtered_pitch_class_distribution = {\n",
    "    str(pitch_class): count \n",
    "    for pitch_class, count in average_results['pitch_class_distribution'].items() \n",
    "    if pitch_class in selected_pitchs\n",
    "}\n",
    "\n",
    "print(filtered_pitch_class_distribution)"
   ]
  },
  {
   "cell_type": "code",
   "execution_count": 20,
   "metadata": {},
   "outputs": [
    {
     "data": {
      "application/vnd.plotly.v1+json": {
       "config": {
        "plotlyServerURL": "https://plot.ly"
       },
       "data": [
        {
         "alignmentgroup": "True",
         "hovertemplate": "x=%{x}<br>y=%{y}<extra></extra>",
         "legendgroup": "",
         "marker": {
          "color": "rgb(158,202,225)",
          "line": {
           "color": "rgb(8,48,107)",
           "width": 1.5
          },
          "pattern": {
           "shape": ""
          }
         },
         "name": "",
         "offsetgroup": "",
         "opacity": 0.6,
         "orientation": "h",
         "showlegend": false,
         "textposition": "auto",
         "type": "bar",
         "x": [
          0.05629139072847682,
          0.07284768211920532,
          0.029801324503311258,
          0.049668874172185434,
          0.13576158940397354,
          2.4271523178807928,
          1.4072847682119185,
          5.619205298013237,
          2.139072847682117,
          2.596026490066221,
          4.3774834437086065,
          5.4238410596026405,
          5.556291390728469,
          2.4205298013245025,
          11.23841059602648,
          12.264900662251664,
          14.185430463576154,
          7.953642384105951,
          14.04966887417217,
          12.97350993377484,
          10.887417218543028,
          18.062913907284738,
          16.268211920529776,
          24.13907284768208,
          8.476821192052974,
          16.486754966887403,
          21.96026490066221,
          5.834437086092711,
          12.754966887417206,
          12.89735099337747,
          19.347682119205288,
          4.291390728476817,
          4.003311258278141,
          1.7086092715231782,
          0.4966887417218543,
          0.6225165562913911,
          1.1920529801324504,
          0.35430463576158944,
          0.11589403973509935,
          0.12913907284768214,
          0.029801324503311258
         ],
         "xaxis": "x",
         "y": [
          "24",
          "26",
          "28",
          "29",
          "31",
          "33",
          "35",
          "36",
          "38",
          "40",
          "41",
          "43",
          "45",
          "47",
          "48",
          "50",
          "52",
          "53",
          "55",
          "57",
          "59",
          "60",
          "62",
          "64",
          "65",
          "67",
          "69",
          "71",
          "72",
          "74",
          "76",
          "77",
          "79",
          "81",
          "83",
          "84",
          "86",
          "88",
          "89",
          "91",
          "93"
         ],
         "yaxis": "y"
        }
       ],
       "layout": {
        "autosize": false,
        "barmode": "overlay",
        "font": {
         "size": 13
        },
        "height": 900,
        "legend": {
         "tracegroupgap": 0
        },
        "margin": {
         "t": 60
        },
        "plot_bgcolor": "white",
        "template": {
         "data": {
          "bar": [
           {
            "error_x": {
             "color": "#2a3f5f"
            },
            "error_y": {
             "color": "#2a3f5f"
            },
            "marker": {
             "line": {
              "color": "#E5ECF6",
              "width": 0.5
             },
             "pattern": {
              "fillmode": "overlay",
              "size": 10,
              "solidity": 0.2
             }
            },
            "type": "bar"
           }
          ],
          "barpolar": [
           {
            "marker": {
             "line": {
              "color": "#E5ECF6",
              "width": 0.5
             },
             "pattern": {
              "fillmode": "overlay",
              "size": 10,
              "solidity": 0.2
             }
            },
            "type": "barpolar"
           }
          ],
          "carpet": [
           {
            "aaxis": {
             "endlinecolor": "#2a3f5f",
             "gridcolor": "white",
             "linecolor": "white",
             "minorgridcolor": "white",
             "startlinecolor": "#2a3f5f"
            },
            "baxis": {
             "endlinecolor": "#2a3f5f",
             "gridcolor": "white",
             "linecolor": "white",
             "minorgridcolor": "white",
             "startlinecolor": "#2a3f5f"
            },
            "type": "carpet"
           }
          ],
          "choropleth": [
           {
            "colorbar": {
             "outlinewidth": 0,
             "ticks": ""
            },
            "type": "choropleth"
           }
          ],
          "contour": [
           {
            "colorbar": {
             "outlinewidth": 0,
             "ticks": ""
            },
            "colorscale": [
             [
              0,
              "#0d0887"
             ],
             [
              0.1111111111111111,
              "#46039f"
             ],
             [
              0.2222222222222222,
              "#7201a8"
             ],
             [
              0.3333333333333333,
              "#9c179e"
             ],
             [
              0.4444444444444444,
              "#bd3786"
             ],
             [
              0.5555555555555556,
              "#d8576b"
             ],
             [
              0.6666666666666666,
              "#ed7953"
             ],
             [
              0.7777777777777778,
              "#fb9f3a"
             ],
             [
              0.8888888888888888,
              "#fdca26"
             ],
             [
              1,
              "#f0f921"
             ]
            ],
            "type": "contour"
           }
          ],
          "contourcarpet": [
           {
            "colorbar": {
             "outlinewidth": 0,
             "ticks": ""
            },
            "type": "contourcarpet"
           }
          ],
          "heatmap": [
           {
            "colorbar": {
             "outlinewidth": 0,
             "ticks": ""
            },
            "colorscale": [
             [
              0,
              "#0d0887"
             ],
             [
              0.1111111111111111,
              "#46039f"
             ],
             [
              0.2222222222222222,
              "#7201a8"
             ],
             [
              0.3333333333333333,
              "#9c179e"
             ],
             [
              0.4444444444444444,
              "#bd3786"
             ],
             [
              0.5555555555555556,
              "#d8576b"
             ],
             [
              0.6666666666666666,
              "#ed7953"
             ],
             [
              0.7777777777777778,
              "#fb9f3a"
             ],
             [
              0.8888888888888888,
              "#fdca26"
             ],
             [
              1,
              "#f0f921"
             ]
            ],
            "type": "heatmap"
           }
          ],
          "heatmapgl": [
           {
            "colorbar": {
             "outlinewidth": 0,
             "ticks": ""
            },
            "colorscale": [
             [
              0,
              "#0d0887"
             ],
             [
              0.1111111111111111,
              "#46039f"
             ],
             [
              0.2222222222222222,
              "#7201a8"
             ],
             [
              0.3333333333333333,
              "#9c179e"
             ],
             [
              0.4444444444444444,
              "#bd3786"
             ],
             [
              0.5555555555555556,
              "#d8576b"
             ],
             [
              0.6666666666666666,
              "#ed7953"
             ],
             [
              0.7777777777777778,
              "#fb9f3a"
             ],
             [
              0.8888888888888888,
              "#fdca26"
             ],
             [
              1,
              "#f0f921"
             ]
            ],
            "type": "heatmapgl"
           }
          ],
          "histogram": [
           {
            "marker": {
             "pattern": {
              "fillmode": "overlay",
              "size": 10,
              "solidity": 0.2
             }
            },
            "type": "histogram"
           }
          ],
          "histogram2d": [
           {
            "colorbar": {
             "outlinewidth": 0,
             "ticks": ""
            },
            "colorscale": [
             [
              0,
              "#0d0887"
             ],
             [
              0.1111111111111111,
              "#46039f"
             ],
             [
              0.2222222222222222,
              "#7201a8"
             ],
             [
              0.3333333333333333,
              "#9c179e"
             ],
             [
              0.4444444444444444,
              "#bd3786"
             ],
             [
              0.5555555555555556,
              "#d8576b"
             ],
             [
              0.6666666666666666,
              "#ed7953"
             ],
             [
              0.7777777777777778,
              "#fb9f3a"
             ],
             [
              0.8888888888888888,
              "#fdca26"
             ],
             [
              1,
              "#f0f921"
             ]
            ],
            "type": "histogram2d"
           }
          ],
          "histogram2dcontour": [
           {
            "colorbar": {
             "outlinewidth": 0,
             "ticks": ""
            },
            "colorscale": [
             [
              0,
              "#0d0887"
             ],
             [
              0.1111111111111111,
              "#46039f"
             ],
             [
              0.2222222222222222,
              "#7201a8"
             ],
             [
              0.3333333333333333,
              "#9c179e"
             ],
             [
              0.4444444444444444,
              "#bd3786"
             ],
             [
              0.5555555555555556,
              "#d8576b"
             ],
             [
              0.6666666666666666,
              "#ed7953"
             ],
             [
              0.7777777777777778,
              "#fb9f3a"
             ],
             [
              0.8888888888888888,
              "#fdca26"
             ],
             [
              1,
              "#f0f921"
             ]
            ],
            "type": "histogram2dcontour"
           }
          ],
          "mesh3d": [
           {
            "colorbar": {
             "outlinewidth": 0,
             "ticks": ""
            },
            "type": "mesh3d"
           }
          ],
          "parcoords": [
           {
            "line": {
             "colorbar": {
              "outlinewidth": 0,
              "ticks": ""
             }
            },
            "type": "parcoords"
           }
          ],
          "pie": [
           {
            "automargin": true,
            "type": "pie"
           }
          ],
          "scatter": [
           {
            "fillpattern": {
             "fillmode": "overlay",
             "size": 10,
             "solidity": 0.2
            },
            "type": "scatter"
           }
          ],
          "scatter3d": [
           {
            "line": {
             "colorbar": {
              "outlinewidth": 0,
              "ticks": ""
             }
            },
            "marker": {
             "colorbar": {
              "outlinewidth": 0,
              "ticks": ""
             }
            },
            "type": "scatter3d"
           }
          ],
          "scattercarpet": [
           {
            "marker": {
             "colorbar": {
              "outlinewidth": 0,
              "ticks": ""
             }
            },
            "type": "scattercarpet"
           }
          ],
          "scattergeo": [
           {
            "marker": {
             "colorbar": {
              "outlinewidth": 0,
              "ticks": ""
             }
            },
            "type": "scattergeo"
           }
          ],
          "scattergl": [
           {
            "marker": {
             "colorbar": {
              "outlinewidth": 0,
              "ticks": ""
             }
            },
            "type": "scattergl"
           }
          ],
          "scattermapbox": [
           {
            "marker": {
             "colorbar": {
              "outlinewidth": 0,
              "ticks": ""
             }
            },
            "type": "scattermapbox"
           }
          ],
          "scatterpolar": [
           {
            "marker": {
             "colorbar": {
              "outlinewidth": 0,
              "ticks": ""
             }
            },
            "type": "scatterpolar"
           }
          ],
          "scatterpolargl": [
           {
            "marker": {
             "colorbar": {
              "outlinewidth": 0,
              "ticks": ""
             }
            },
            "type": "scatterpolargl"
           }
          ],
          "scatterternary": [
           {
            "marker": {
             "colorbar": {
              "outlinewidth": 0,
              "ticks": ""
             }
            },
            "type": "scatterternary"
           }
          ],
          "surface": [
           {
            "colorbar": {
             "outlinewidth": 0,
             "ticks": ""
            },
            "colorscale": [
             [
              0,
              "#0d0887"
             ],
             [
              0.1111111111111111,
              "#46039f"
             ],
             [
              0.2222222222222222,
              "#7201a8"
             ],
             [
              0.3333333333333333,
              "#9c179e"
             ],
             [
              0.4444444444444444,
              "#bd3786"
             ],
             [
              0.5555555555555556,
              "#d8576b"
             ],
             [
              0.6666666666666666,
              "#ed7953"
             ],
             [
              0.7777777777777778,
              "#fb9f3a"
             ],
             [
              0.8888888888888888,
              "#fdca26"
             ],
             [
              1,
              "#f0f921"
             ]
            ],
            "type": "surface"
           }
          ],
          "table": [
           {
            "cells": {
             "fill": {
              "color": "#EBF0F8"
             },
             "line": {
              "color": "white"
             }
            },
            "header": {
             "fill": {
              "color": "#C8D4E3"
             },
             "line": {
              "color": "white"
             }
            },
            "type": "table"
           }
          ]
         },
         "layout": {
          "annotationdefaults": {
           "arrowcolor": "#2a3f5f",
           "arrowhead": 0,
           "arrowwidth": 1
          },
          "autotypenumbers": "strict",
          "coloraxis": {
           "colorbar": {
            "outlinewidth": 0,
            "ticks": ""
           }
          },
          "colorscale": {
           "diverging": [
            [
             0,
             "#8e0152"
            ],
            [
             0.1,
             "#c51b7d"
            ],
            [
             0.2,
             "#de77ae"
            ],
            [
             0.3,
             "#f1b6da"
            ],
            [
             0.4,
             "#fde0ef"
            ],
            [
             0.5,
             "#f7f7f7"
            ],
            [
             0.6,
             "#e6f5d0"
            ],
            [
             0.7,
             "#b8e186"
            ],
            [
             0.8,
             "#7fbc41"
            ],
            [
             0.9,
             "#4d9221"
            ],
            [
             1,
             "#276419"
            ]
           ],
           "sequential": [
            [
             0,
             "#0d0887"
            ],
            [
             0.1111111111111111,
             "#46039f"
            ],
            [
             0.2222222222222222,
             "#7201a8"
            ],
            [
             0.3333333333333333,
             "#9c179e"
            ],
            [
             0.4444444444444444,
             "#bd3786"
            ],
            [
             0.5555555555555556,
             "#d8576b"
            ],
            [
             0.6666666666666666,
             "#ed7953"
            ],
            [
             0.7777777777777778,
             "#fb9f3a"
            ],
            [
             0.8888888888888888,
             "#fdca26"
            ],
            [
             1,
             "#f0f921"
            ]
           ],
           "sequentialminus": [
            [
             0,
             "#0d0887"
            ],
            [
             0.1111111111111111,
             "#46039f"
            ],
            [
             0.2222222222222222,
             "#7201a8"
            ],
            [
             0.3333333333333333,
             "#9c179e"
            ],
            [
             0.4444444444444444,
             "#bd3786"
            ],
            [
             0.5555555555555556,
             "#d8576b"
            ],
            [
             0.6666666666666666,
             "#ed7953"
            ],
            [
             0.7777777777777778,
             "#fb9f3a"
            ],
            [
             0.8888888888888888,
             "#fdca26"
            ],
            [
             1,
             "#f0f921"
            ]
           ]
          },
          "colorway": [
           "#636efa",
           "#EF553B",
           "#00cc96",
           "#ab63fa",
           "#FFA15A",
           "#19d3f3",
           "#FF6692",
           "#B6E880",
           "#FF97FF",
           "#FECB52"
          ],
          "font": {
           "color": "#2a3f5f"
          },
          "geo": {
           "bgcolor": "white",
           "lakecolor": "white",
           "landcolor": "#E5ECF6",
           "showlakes": true,
           "showland": true,
           "subunitcolor": "white"
          },
          "hoverlabel": {
           "align": "left"
          },
          "hovermode": "closest",
          "mapbox": {
           "style": "light"
          },
          "paper_bgcolor": "white",
          "plot_bgcolor": "#E5ECF6",
          "polar": {
           "angularaxis": {
            "gridcolor": "white",
            "linecolor": "white",
            "ticks": ""
           },
           "bgcolor": "#E5ECF6",
           "radialaxis": {
            "gridcolor": "white",
            "linecolor": "white",
            "ticks": ""
           }
          },
          "scene": {
           "xaxis": {
            "backgroundcolor": "#E5ECF6",
            "gridcolor": "white",
            "gridwidth": 2,
            "linecolor": "white",
            "showbackground": true,
            "ticks": "",
            "zerolinecolor": "white"
           },
           "yaxis": {
            "backgroundcolor": "#E5ECF6",
            "gridcolor": "white",
            "gridwidth": 2,
            "linecolor": "white",
            "showbackground": true,
            "ticks": "",
            "zerolinecolor": "white"
           },
           "zaxis": {
            "backgroundcolor": "#E5ECF6",
            "gridcolor": "white",
            "gridwidth": 2,
            "linecolor": "white",
            "showbackground": true,
            "ticks": "",
            "zerolinecolor": "white"
           }
          },
          "shapedefaults": {
           "line": {
            "color": "#2a3f5f"
           }
          },
          "ternary": {
           "aaxis": {
            "gridcolor": "white",
            "linecolor": "white",
            "ticks": ""
           },
           "baxis": {
            "gridcolor": "white",
            "linecolor": "white",
            "ticks": ""
           },
           "bgcolor": "#E5ECF6",
           "caxis": {
            "gridcolor": "white",
            "linecolor": "white",
            "ticks": ""
           }
          },
          "title": {
           "x": 0.05
          },
          "xaxis": {
           "automargin": true,
           "gridcolor": "white",
           "linecolor": "white",
           "ticks": "",
           "title": {
            "standoff": 15
           },
           "zerolinecolor": "white",
           "zerolinewidth": 2
          },
          "yaxis": {
           "automargin": true,
           "gridcolor": "white",
           "linecolor": "white",
           "ticks": "",
           "title": {
            "standoff": 15
           },
           "zerolinecolor": "white",
           "zerolinewidth": 2
          }
         }
        },
        "title": {
         "text": "GPT (n = 302)"
        },
        "width": 450,
        "xaxis": {
         "anchor": "y",
         "domain": [
          0,
          1
         ],
         "gridcolor": "rgb(158,202,225)",
         "gridwidth": 1,
         "showgrid": true,
         "tickvals": [
          0,
          1,
          2,
          3,
          4,
          5,
          6,
          7,
          8,
          9,
          10,
          11,
          12,
          13,
          14,
          15,
          16,
          17,
          18,
          19,
          20,
          21,
          22,
          23,
          24,
          25
         ],
         "title": {
          "text": "Số lần xuất hiện trung bình"
         }
        },
        "yaxis": {
         "anchor": "x",
         "domain": [
          0,
          1
         ],
         "tickvals": [
          "24",
          "26",
          "28",
          "29",
          "31",
          "33",
          "35",
          "36",
          "38",
          "40",
          "41",
          "43",
          "45",
          "47",
          "48",
          "50",
          "52",
          "53",
          "55",
          "57",
          "59",
          "60",
          "62",
          "64",
          "65",
          "67",
          "69",
          "71",
          "72",
          "74",
          "76",
          "77",
          "79",
          "81",
          "83",
          "84",
          "86",
          "88",
          "89",
          "91",
          "93"
         ],
         "title": {
          "text": "Cao độ"
         }
        }
       }
      }
     },
     "metadata": {},
     "output_type": "display_data"
    },
    {
     "data": {
      "application/vnd.plotly.v1+json": {
       "config": {
        "plotlyServerURL": "https://plot.ly"
       },
       "data": [
        {
         "alignmentgroup": "True",
         "hovertemplate": "x=%{x}<br>y=%{y}<extra></extra>",
         "legendgroup": "",
         "marker": {
          "color": "rgb(158,202,225)",
          "line": {
           "color": "rgb(8,48,107)",
           "width": 1.5
          },
          "pattern": {
           "shape": ""
          }
         },
         "name": "",
         "offsetgroup": "",
         "opacity": 0.6,
         "orientation": "v",
         "showlegend": false,
         "textposition": "auto",
         "type": "bar",
         "x": [
          "0",
          "2",
          "4",
          "5",
          "7",
          "9",
          "11"
         ],
         "xaxis": "x",
         "y": [
          48.35430463576156,
          44.83443708609271,
          60.65231788079474,
          25.264900662251613,
          40.22847682119204,
          44.6556291390728,
          21.046357615894056
         ],
         "yaxis": "y"
        }
       ],
       "layout": {
        "autosize": false,
        "barmode": "relative",
        "font": {
         "size": 13
        },
        "height": 400,
        "legend": {
         "tracegroupgap": 0
        },
        "margin": {
         "t": 60
        },
        "plot_bgcolor": "white",
        "template": {
         "data": {
          "bar": [
           {
            "error_x": {
             "color": "#2a3f5f"
            },
            "error_y": {
             "color": "#2a3f5f"
            },
            "marker": {
             "line": {
              "color": "#E5ECF6",
              "width": 0.5
             },
             "pattern": {
              "fillmode": "overlay",
              "size": 10,
              "solidity": 0.2
             }
            },
            "type": "bar"
           }
          ],
          "barpolar": [
           {
            "marker": {
             "line": {
              "color": "#E5ECF6",
              "width": 0.5
             },
             "pattern": {
              "fillmode": "overlay",
              "size": 10,
              "solidity": 0.2
             }
            },
            "type": "barpolar"
           }
          ],
          "carpet": [
           {
            "aaxis": {
             "endlinecolor": "#2a3f5f",
             "gridcolor": "white",
             "linecolor": "white",
             "minorgridcolor": "white",
             "startlinecolor": "#2a3f5f"
            },
            "baxis": {
             "endlinecolor": "#2a3f5f",
             "gridcolor": "white",
             "linecolor": "white",
             "minorgridcolor": "white",
             "startlinecolor": "#2a3f5f"
            },
            "type": "carpet"
           }
          ],
          "choropleth": [
           {
            "colorbar": {
             "outlinewidth": 0,
             "ticks": ""
            },
            "type": "choropleth"
           }
          ],
          "contour": [
           {
            "colorbar": {
             "outlinewidth": 0,
             "ticks": ""
            },
            "colorscale": [
             [
              0,
              "#0d0887"
             ],
             [
              0.1111111111111111,
              "#46039f"
             ],
             [
              0.2222222222222222,
              "#7201a8"
             ],
             [
              0.3333333333333333,
              "#9c179e"
             ],
             [
              0.4444444444444444,
              "#bd3786"
             ],
             [
              0.5555555555555556,
              "#d8576b"
             ],
             [
              0.6666666666666666,
              "#ed7953"
             ],
             [
              0.7777777777777778,
              "#fb9f3a"
             ],
             [
              0.8888888888888888,
              "#fdca26"
             ],
             [
              1,
              "#f0f921"
             ]
            ],
            "type": "contour"
           }
          ],
          "contourcarpet": [
           {
            "colorbar": {
             "outlinewidth": 0,
             "ticks": ""
            },
            "type": "contourcarpet"
           }
          ],
          "heatmap": [
           {
            "colorbar": {
             "outlinewidth": 0,
             "ticks": ""
            },
            "colorscale": [
             [
              0,
              "#0d0887"
             ],
             [
              0.1111111111111111,
              "#46039f"
             ],
             [
              0.2222222222222222,
              "#7201a8"
             ],
             [
              0.3333333333333333,
              "#9c179e"
             ],
             [
              0.4444444444444444,
              "#bd3786"
             ],
             [
              0.5555555555555556,
              "#d8576b"
             ],
             [
              0.6666666666666666,
              "#ed7953"
             ],
             [
              0.7777777777777778,
              "#fb9f3a"
             ],
             [
              0.8888888888888888,
              "#fdca26"
             ],
             [
              1,
              "#f0f921"
             ]
            ],
            "type": "heatmap"
           }
          ],
          "heatmapgl": [
           {
            "colorbar": {
             "outlinewidth": 0,
             "ticks": ""
            },
            "colorscale": [
             [
              0,
              "#0d0887"
             ],
             [
              0.1111111111111111,
              "#46039f"
             ],
             [
              0.2222222222222222,
              "#7201a8"
             ],
             [
              0.3333333333333333,
              "#9c179e"
             ],
             [
              0.4444444444444444,
              "#bd3786"
             ],
             [
              0.5555555555555556,
              "#d8576b"
             ],
             [
              0.6666666666666666,
              "#ed7953"
             ],
             [
              0.7777777777777778,
              "#fb9f3a"
             ],
             [
              0.8888888888888888,
              "#fdca26"
             ],
             [
              1,
              "#f0f921"
             ]
            ],
            "type": "heatmapgl"
           }
          ],
          "histogram": [
           {
            "marker": {
             "pattern": {
              "fillmode": "overlay",
              "size": 10,
              "solidity": 0.2
             }
            },
            "type": "histogram"
           }
          ],
          "histogram2d": [
           {
            "colorbar": {
             "outlinewidth": 0,
             "ticks": ""
            },
            "colorscale": [
             [
              0,
              "#0d0887"
             ],
             [
              0.1111111111111111,
              "#46039f"
             ],
             [
              0.2222222222222222,
              "#7201a8"
             ],
             [
              0.3333333333333333,
              "#9c179e"
             ],
             [
              0.4444444444444444,
              "#bd3786"
             ],
             [
              0.5555555555555556,
              "#d8576b"
             ],
             [
              0.6666666666666666,
              "#ed7953"
             ],
             [
              0.7777777777777778,
              "#fb9f3a"
             ],
             [
              0.8888888888888888,
              "#fdca26"
             ],
             [
              1,
              "#f0f921"
             ]
            ],
            "type": "histogram2d"
           }
          ],
          "histogram2dcontour": [
           {
            "colorbar": {
             "outlinewidth": 0,
             "ticks": ""
            },
            "colorscale": [
             [
              0,
              "#0d0887"
             ],
             [
              0.1111111111111111,
              "#46039f"
             ],
             [
              0.2222222222222222,
              "#7201a8"
             ],
             [
              0.3333333333333333,
              "#9c179e"
             ],
             [
              0.4444444444444444,
              "#bd3786"
             ],
             [
              0.5555555555555556,
              "#d8576b"
             ],
             [
              0.6666666666666666,
              "#ed7953"
             ],
             [
              0.7777777777777778,
              "#fb9f3a"
             ],
             [
              0.8888888888888888,
              "#fdca26"
             ],
             [
              1,
              "#f0f921"
             ]
            ],
            "type": "histogram2dcontour"
           }
          ],
          "mesh3d": [
           {
            "colorbar": {
             "outlinewidth": 0,
             "ticks": ""
            },
            "type": "mesh3d"
           }
          ],
          "parcoords": [
           {
            "line": {
             "colorbar": {
              "outlinewidth": 0,
              "ticks": ""
             }
            },
            "type": "parcoords"
           }
          ],
          "pie": [
           {
            "automargin": true,
            "type": "pie"
           }
          ],
          "scatter": [
           {
            "fillpattern": {
             "fillmode": "overlay",
             "size": 10,
             "solidity": 0.2
            },
            "type": "scatter"
           }
          ],
          "scatter3d": [
           {
            "line": {
             "colorbar": {
              "outlinewidth": 0,
              "ticks": ""
             }
            },
            "marker": {
             "colorbar": {
              "outlinewidth": 0,
              "ticks": ""
             }
            },
            "type": "scatter3d"
           }
          ],
          "scattercarpet": [
           {
            "marker": {
             "colorbar": {
              "outlinewidth": 0,
              "ticks": ""
             }
            },
            "type": "scattercarpet"
           }
          ],
          "scattergeo": [
           {
            "marker": {
             "colorbar": {
              "outlinewidth": 0,
              "ticks": ""
             }
            },
            "type": "scattergeo"
           }
          ],
          "scattergl": [
           {
            "marker": {
             "colorbar": {
              "outlinewidth": 0,
              "ticks": ""
             }
            },
            "type": "scattergl"
           }
          ],
          "scattermapbox": [
           {
            "marker": {
             "colorbar": {
              "outlinewidth": 0,
              "ticks": ""
             }
            },
            "type": "scattermapbox"
           }
          ],
          "scatterpolar": [
           {
            "marker": {
             "colorbar": {
              "outlinewidth": 0,
              "ticks": ""
             }
            },
            "type": "scatterpolar"
           }
          ],
          "scatterpolargl": [
           {
            "marker": {
             "colorbar": {
              "outlinewidth": 0,
              "ticks": ""
             }
            },
            "type": "scatterpolargl"
           }
          ],
          "scatterternary": [
           {
            "marker": {
             "colorbar": {
              "outlinewidth": 0,
              "ticks": ""
             }
            },
            "type": "scatterternary"
           }
          ],
          "surface": [
           {
            "colorbar": {
             "outlinewidth": 0,
             "ticks": ""
            },
            "colorscale": [
             [
              0,
              "#0d0887"
             ],
             [
              0.1111111111111111,
              "#46039f"
             ],
             [
              0.2222222222222222,
              "#7201a8"
             ],
             [
              0.3333333333333333,
              "#9c179e"
             ],
             [
              0.4444444444444444,
              "#bd3786"
             ],
             [
              0.5555555555555556,
              "#d8576b"
             ],
             [
              0.6666666666666666,
              "#ed7953"
             ],
             [
              0.7777777777777778,
              "#fb9f3a"
             ],
             [
              0.8888888888888888,
              "#fdca26"
             ],
             [
              1,
              "#f0f921"
             ]
            ],
            "type": "surface"
           }
          ],
          "table": [
           {
            "cells": {
             "fill": {
              "color": "#EBF0F8"
             },
             "line": {
              "color": "white"
             }
            },
            "header": {
             "fill": {
              "color": "#C8D4E3"
             },
             "line": {
              "color": "white"
             }
            },
            "type": "table"
           }
          ]
         },
         "layout": {
          "annotationdefaults": {
           "arrowcolor": "#2a3f5f",
           "arrowhead": 0,
           "arrowwidth": 1
          },
          "autotypenumbers": "strict",
          "coloraxis": {
           "colorbar": {
            "outlinewidth": 0,
            "ticks": ""
           }
          },
          "colorscale": {
           "diverging": [
            [
             0,
             "#8e0152"
            ],
            [
             0.1,
             "#c51b7d"
            ],
            [
             0.2,
             "#de77ae"
            ],
            [
             0.3,
             "#f1b6da"
            ],
            [
             0.4,
             "#fde0ef"
            ],
            [
             0.5,
             "#f7f7f7"
            ],
            [
             0.6,
             "#e6f5d0"
            ],
            [
             0.7,
             "#b8e186"
            ],
            [
             0.8,
             "#7fbc41"
            ],
            [
             0.9,
             "#4d9221"
            ],
            [
             1,
             "#276419"
            ]
           ],
           "sequential": [
            [
             0,
             "#0d0887"
            ],
            [
             0.1111111111111111,
             "#46039f"
            ],
            [
             0.2222222222222222,
             "#7201a8"
            ],
            [
             0.3333333333333333,
             "#9c179e"
            ],
            [
             0.4444444444444444,
             "#bd3786"
            ],
            [
             0.5555555555555556,
             "#d8576b"
            ],
            [
             0.6666666666666666,
             "#ed7953"
            ],
            [
             0.7777777777777778,
             "#fb9f3a"
            ],
            [
             0.8888888888888888,
             "#fdca26"
            ],
            [
             1,
             "#f0f921"
            ]
           ],
           "sequentialminus": [
            [
             0,
             "#0d0887"
            ],
            [
             0.1111111111111111,
             "#46039f"
            ],
            [
             0.2222222222222222,
             "#7201a8"
            ],
            [
             0.3333333333333333,
             "#9c179e"
            ],
            [
             0.4444444444444444,
             "#bd3786"
            ],
            [
             0.5555555555555556,
             "#d8576b"
            ],
            [
             0.6666666666666666,
             "#ed7953"
            ],
            [
             0.7777777777777778,
             "#fb9f3a"
            ],
            [
             0.8888888888888888,
             "#fdca26"
            ],
            [
             1,
             "#f0f921"
            ]
           ]
          },
          "colorway": [
           "#636efa",
           "#EF553B",
           "#00cc96",
           "#ab63fa",
           "#FFA15A",
           "#19d3f3",
           "#FF6692",
           "#B6E880",
           "#FF97FF",
           "#FECB52"
          ],
          "font": {
           "color": "#2a3f5f"
          },
          "geo": {
           "bgcolor": "white",
           "lakecolor": "white",
           "landcolor": "#E5ECF6",
           "showlakes": true,
           "showland": true,
           "subunitcolor": "white"
          },
          "hoverlabel": {
           "align": "left"
          },
          "hovermode": "closest",
          "mapbox": {
           "style": "light"
          },
          "paper_bgcolor": "white",
          "plot_bgcolor": "#E5ECF6",
          "polar": {
           "angularaxis": {
            "gridcolor": "white",
            "linecolor": "white",
            "ticks": ""
           },
           "bgcolor": "#E5ECF6",
           "radialaxis": {
            "gridcolor": "white",
            "linecolor": "white",
            "ticks": ""
           }
          },
          "scene": {
           "xaxis": {
            "backgroundcolor": "#E5ECF6",
            "gridcolor": "white",
            "gridwidth": 2,
            "linecolor": "white",
            "showbackground": true,
            "ticks": "",
            "zerolinecolor": "white"
           },
           "yaxis": {
            "backgroundcolor": "#E5ECF6",
            "gridcolor": "white",
            "gridwidth": 2,
            "linecolor": "white",
            "showbackground": true,
            "ticks": "",
            "zerolinecolor": "white"
           },
           "zaxis": {
            "backgroundcolor": "#E5ECF6",
            "gridcolor": "white",
            "gridwidth": 2,
            "linecolor": "white",
            "showbackground": true,
            "ticks": "",
            "zerolinecolor": "white"
           }
          },
          "shapedefaults": {
           "line": {
            "color": "#2a3f5f"
           }
          },
          "ternary": {
           "aaxis": {
            "gridcolor": "white",
            "linecolor": "white",
            "ticks": ""
           },
           "baxis": {
            "gridcolor": "white",
            "linecolor": "white",
            "ticks": ""
           },
           "bgcolor": "#E5ECF6",
           "caxis": {
            "gridcolor": "white",
            "linecolor": "white",
            "ticks": ""
           }
          },
          "title": {
           "x": 0.05
          },
          "xaxis": {
           "automargin": true,
           "gridcolor": "white",
           "linecolor": "white",
           "ticks": "",
           "title": {
            "standoff": 15
           },
           "zerolinecolor": "white",
           "zerolinewidth": 2
          },
          "yaxis": {
           "automargin": true,
           "gridcolor": "white",
           "linecolor": "white",
           "ticks": "",
           "title": {
            "standoff": 15
           },
           "zerolinecolor": "white",
           "zerolinewidth": 2
          }
         }
        },
        "title": {
         "text": "GPT (n = 302)"
        },
        "width": 650,
        "xaxis": {
         "anchor": "y",
         "domain": [
          0,
          1
         ],
         "title": {
          "text": "Cao độ cơ bản"
         }
        },
        "yaxis": {
         "anchor": "x",
         "domain": [
          0,
          1
         ],
         "gridcolor": "rgb(158,202,225)",
         "gridwidth": 1,
         "showgrid": true,
         "title": {
          "text": "Số lần xuất hiện trung bình"
         }
        }
       }
      }
     },
     "metadata": {},
     "output_type": "display_data"
    }
   ],
   "source": [
    "# Horizontal bar chart for filtered pitch counts using plotly express (with y is the pitch and x is the count)\n",
    "fig = px.bar(\n",
    "    x=list(filtered_pitch_counts.values()), \n",
    "    y=list(filtered_pitch_counts.keys()), \n",
    "    orientation='h'\n",
    ")\n",
    "\n",
    "fig.update_layout(\n",
    "    title=f'GPT (n = {n_file_to_analyze})', \n",
    "    xaxis_title='Số lần xuất hiện trung bình',\n",
    "    yaxis_title='Cao độ'\n",
    ")\n",
    "\n",
    "# Show labels 0, 5, 10, 15, ... in y-axis in string format\n",
    "# y_axis_tickvals = list(range(0, max(filtered_pitch_counts.keys()) + 1, 5))\n",
    "y_axis_tickvals = list(map(str, [x for x in filtered_pitch_counts.keys()]))\n",
    "\n",
    "fig.update_yaxes(tickvals=y_axis_tickvals)\n",
    "\n",
    "# Show labels 0, 1, 2, 3, ... in x-axis\n",
    "x_axis_tickvals = list(range(\n",
    "    0, \n",
    "    int(max(filtered_pitch_counts.values())) + 1 + 1\n",
    "))\n",
    "\n",
    "fig.update_xaxes(tickvals=x_axis_tickvals)\n",
    "\n",
    "# Change the color set to make it easier to see when printed in black and white\n",
    "fig.update_traces(marker_color='rgb(158,202,225)', marker_line_color='rgb(8,48,107)', marker_line_width=1.5, opacity=0.6)\n",
    "\n",
    "# Change the background color to make it easier to see when printed in black and white\n",
    "fig.update_layout(plot_bgcolor='white')\n",
    "\n",
    "# Show the vertical grid lines\n",
    "fig.update_layout(xaxis=dict(showgrid=True, gridwidth=1, gridcolor='rgb(158,202,225)'))\n",
    "\n",
    "# Make the columns overlay the grid lines\n",
    "fig.update_layout(barmode='overlay')\n",
    "\n",
    "# Make the font size bigger\n",
    "fig.update_layout(font=dict(size=13))\n",
    "\n",
    "# Make the plot ratio x:y\n",
    "fig.update_layout(\n",
    "    autosize=False,\n",
    "    width=450,\n",
    "    height=900,\n",
    ")\n",
    "\n",
    "fig.show()\n",
    "\n",
    "# Filtered pitch class distribution\n",
    "fig = px.bar(\n",
    "    x=list(filtered_pitch_class_distribution.keys()),\n",
    "    y=list(filtered_pitch_class_distribution.values())\n",
    ")\n",
    "\n",
    "fig.update_layout(\n",
    "    title=f'GPT (n = {n_file_to_analyze})', \n",
    "    yaxis_title='Số lần xuất hiện trung bình',\n",
    "    xaxis_title='Cao độ cơ bản'\n",
    ")\n",
    "\n",
    "# Show labels 0, 1, 2, 3, ... in x-axis\n",
    "# x_axis_tickvals = list(range(0, max(filtered_pitch_class_distribution.keys()) + 1))\n",
    "\n",
    "# fig.update_xaxes(tickvals=x_axis_tickvals)\n",
    "\n",
    "# Change the color set to make it easier to see when printed in black and white\n",
    "fig.update_traces(marker_color='rgb(158,202,225)', marker_line_color='rgb(8,48,107)', marker_line_width=1.5, opacity=0.6)\n",
    "\n",
    "# Change the background color to make it easier to see when printed in black and white\n",
    "fig.update_layout(plot_bgcolor='white')\n",
    "\n",
    "# Show the horizontal grid lines\n",
    "fig.update_layout(yaxis=dict(showgrid=True, gridwidth=1, gridcolor='rgb(158,202,225)'))\n",
    "\n",
    "# Make the font size bigger\n",
    "fig.update_layout(font=dict(size=13))\n",
    "\n",
    "# Make the plot ratio x:y\n",
    "fig.update_layout(\n",
    "    autosize=False,\n",
    "    width=650,\n",
    "    height=400,\n",
    ")\n",
    "\n",
    "fig.show()"
   ]
  }
 ],
 "metadata": {
  "kernelspec": {
   "display_name": "Python 3",
   "language": "python",
   "name": "python3"
  },
  "language_info": {
   "codemirror_mode": {
    "name": "ipython",
    "version": 3
   },
   "file_extension": ".py",
   "mimetype": "text/x-python",
   "name": "python",
   "nbconvert_exporter": "python",
   "pygments_lexer": "ipython3",
   "version": "3.10.10"
  }
 },
 "nbformat": 4,
 "nbformat_minor": 2
}
