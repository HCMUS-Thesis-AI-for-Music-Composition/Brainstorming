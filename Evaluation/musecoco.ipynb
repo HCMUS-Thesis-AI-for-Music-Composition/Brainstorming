{
  "cells": [
    {
      "cell_type": "code",
      "execution_count": 1,
      "metadata": {},
      "outputs": [],
      "source": [
        "# CHANGE YOUR PATH HERE\n",
        "topk15_t1_0_ngram0_dir = \"/Users/4rr311/Documents/VectorA/KHTN/Nam4/HKII/Thesis/Brainstorming/Evaluation/data_for_testing/model_output/topk15-t1.0-ngram0\"\n",
        "topk15_t1_0_ngram0_midi_dir = \"/Users/4rr311/Documents/VectorA/KHTN/Nam4/HKII/Thesis/Brainstorming/MIDI/Ideas/data/output/topk15-t1.0-ngram0\""
      ]
    },
    {
      "cell_type": "code",
      "execution_count": 2,
      "metadata": {},
      "outputs": [],
      "source": [
        "MIDI_parent_path = \"/Users/4rr311/Documents/VectorA/KHTN/Nam4/HKII/Thesis/Brainstorming/MIDI\"\n",
        "midi_lib_path = \"/Users/4rr311/Documents/VectorA/KHTN/Nam4/HKII/Thesis/Brainstorming/MIDI/midi_lib\"\n",
        "midiprocessor_path = \"/Users/4rr311/Documents/VectorA/KHTN/Nam4/HKII/Thesis/Brainstorming/MIDI/midi_lib/musecoco_original_libs\""
      ]
    },
    {
      "cell_type": "code",
      "execution_count": 3,
      "metadata": {},
      "outputs": [],
      "source": [
        "import sys\n",
        "\n",
        "sys.path.append(midiprocessor_path)\n",
        "sys.path.append(midi_lib_path)\n",
        "sys.path.append(MIDI_parent_path)"
      ]
    },
    {
      "cell_type": "code",
      "execution_count": 4,
      "metadata": {},
      "outputs": [],
      "source": [
        "import os, argparse, random, json, pickle\n",
        "import numpy as np\n",
        "from tqdm.auto import tqdm\n",
        "from transformers import set_seed\n",
        "from tqdm import tqdm\n",
        "from copy import deepcopy\n",
        "\n",
        "from musecoco_original_libs.midi_data_extractor.data_extractor import DataExtractor\n",
        "from musecoco_original_libs.midiprocessor.midi_encoding import MidiEncoder\n",
        "\n",
        "import midi_file_utils as mfu"
      ]
    },
    {
      "cell_type": "code",
      "execution_count": 5,
      "metadata": {},
      "outputs": [],
      "source": [
        "# Delete all midi files in topk15_t1_0_ngram0_dir (recursively)\n",
        "for root, dirs, files in os.walk(topk15_t1_0_ngram0_dir):\n",
        "    for file in files:\n",
        "        if file.endswith(\".mid\"):\n",
        "            os.remove(os.path.join(root, file))"
      ]
    },
    {
      "cell_type": "code",
      "execution_count": 6,
      "metadata": {},
      "outputs": [],
      "source": [
        "# Listing all midi in topk15_t1_0_ngram0_midi_dir\n",
        "midi_files = os.listdir(topk15_t1_0_ngram0_midi_dir)\n",
        "\n",
        "for file in midi_files:\n",
        "    file_name = file.split(\"/\")[-1]\n",
        "\n",
        "    idx = file_name.split(\"_\")[0]\n",
        "    file_name = file_name.split(\"_\")[1]\n",
        "\n",
        "    old_path = f\"{topk15_t1_0_ngram0_midi_dir}/{idx}_{file_name}\"\n",
        "    new_path = f\"{topk15_t1_0_ngram0_dir}/{idx}/midi/{file_name}\"\n",
        "\n",
        "    # Copy midi file to the right place (with the right name) if the new path's parent folder exists\n",
        "    if os.path.exists(f\"{topk15_t1_0_ngram0_dir}/{idx}\"):\n",
        "        os.system(f\"cp {old_path} {new_path}\")\n",
        "    else:\n",
        "        pass\n",
        "    "
      ]
    },
    {
      "cell_type": "code",
      "execution_count": 7,
      "metadata": {},
      "outputs": [
        {
          "data": {
            "text/plain": [
              "'/Users/4rr311/Documents/VectorA/KHTN/Nam4/HKII/Thesis/Brainstorming/Evaluation'"
            ]
          },
          "execution_count": 7,
          "metadata": {},
          "output_type": "execute_result"
        }
      ],
      "source": [
        "%pwd"
      ]
    },
    {
      "cell_type": "code",
      "execution_count": 8,
      "metadata": {},
      "outputs": [
        {
          "name": "stdout",
          "output_type": "stream",
          "text": [
            "/Users/4rr311/Documents/VectorA/KHTN/Nam4/HKII/Thesis/Brainstorming/MIDI/midi_lib/musecoco_original_libs\n"
          ]
        }
      ],
      "source": [
        "%cd \"/Users/4rr311/Documents/VectorA/KHTN/Nam4/HKII/Thesis/Brainstorming/MIDI/midi_lib/musecoco_original_libs\""
      ]
    },
    {
      "cell_type": "code",
      "execution_count": 9,
      "metadata": {},
      "outputs": [
        {
          "name": "stdout",
          "output_type": "stream",
          "text": [
            "Extract attributes: 100%|█████████████████████| 134/134 [01:54<00:00,  1.17it/s]\n",
            "Comput Accuracy: 100%|██████████████████████| 133/133 [00:00<00:00, 2812.20it/s]\n",
            "ASA: 0.3409673208453695\n"
          ]
        }
      ],
      "source": [
        "!python3 eval_acc_v3.py --root \"/Users/4rr311/Documents/VectorA/KHTN/Nam4/HKII/Thesis/Brainstorming/Evaluation/data_for_testing/model_output/topk15-t1.0-ngram0/\" --output \"/Users/4rr311/Documents/VectorA/KHTN/Nam4/HKII/Thesis/Brainstorming/Evaluation/data_for_testing/runtime_output\""
      ]
    },
    {
      "cell_type": "code",
      "execution_count": 10,
      "metadata": {},
      "outputs": [
        {
          "ename": "Exception",
          "evalue": "STOP HERE",
          "output_type": "error",
          "traceback": [
            "\u001b[0;31m---------------------------------------------------------------------------\u001b[0m",
            "\u001b[0;31mException\u001b[0m                                 Traceback (most recent call last)",
            "Cell \u001b[0;32mIn[10], line 1\u001b[0m\n\u001b[0;32m----> 1\u001b[0m \u001b[38;5;28;01mraise\u001b[39;00m \u001b[38;5;167;01mException\u001b[39;00m(\u001b[38;5;124m\"\u001b[39m\u001b[38;5;124mSTOP HERE\u001b[39m\u001b[38;5;124m\"\u001b[39m)\n",
            "\u001b[0;31mException\u001b[0m: STOP HERE"
          ]
        }
      ],
      "source": [
        "raise Exception(\"STOP HERE\")"
      ]
    },
    {
      "cell_type": "code",
      "execution_count": null,
      "metadata": {
        "id": "AuQcX7pSSppr"
      },
      "outputs": [],
      "source": [
        "midi_encoder = MidiEncoder(\"REMIGEN2\")\n"
      ]
    },
    {
      "cell_type": "code",
      "execution_count": null,
      "metadata": {
        "id": "Z-UvW5j1TsEG"
      },
      "outputs": [],
      "source": [
        "path = \"/content/drive/MyDrive/2-attribute2music_model/generation/0505/linear_mask2-xl-truncated_2560-checkpoint_best/infer_test/topk15-t1.0-ngram0\""
      ]
    },
    {
      "cell_type": "code",
      "execution_count": null,
      "metadata": {
        "colab": {
          "base_uri": "https://localhost:8080/"
        },
        "id": "8kpmFBIYSaT3",
        "outputId": "03f0664e-8b16-4ca9-be3e-e328b95f2183"
      },
      "outputs": [
        {
          "data": {
            "text/plain": [
              "['Using_pred_labels!.txt', '2', '3', '0']"
            ]
          },
          "execution_count": 7,
          "metadata": {},
          "output_type": "execute_result"
        }
      ],
      "source": [
        "os.listdir(path)"
      ]
    },
    {
      "cell_type": "code",
      "execution_count": null,
      "metadata": {
        "id": "mlQQuTTkVlQb"
      },
      "outputs": [],
      "source": [
        "I1s2 = [\"I1s2_piano\", \"I1s2_keyboard\", \"I1s2_percussion\", \"I1s2_organ\", \"I1s2_guitar\", \"I1s2_bass\", \"I1s2_violin\", \"I1s2_viola\", \"I1s2_cello\", \"I1s2_harp\", \"I1s2_strings\", \"I1s2_voice\", \"I1s2_trumpet\", \"I1s2_trombone\", \"I1s2_tuba\", \"I1s2_horn\", \"I1s2_brass\", \"I1s2_sax\", \"I1s2_oboe\", \"I1s2_bassoon\", \"I1s2_clarinet\", \"I1s2_piccolo\", \"I1s2_flute\", \"I1s2_pipe\", \"I1s2_synthesizer\", \"I1s2_ethnic_instruments\", \"I1s2_sound_effects\", \"I1s2_drum\"]\n",
        "S4 = [\"S4_new_age\", \"S4_electronic\", \"S4_rap\", \"S4_religious\", \"S4_international\", \"S4_easy_listening\", \"S4_avant_garde\", \"S4_rnb\", \"S4_latin\", \"S4_children\", \"S4_jazz\", \"S4_classical\", \"S4_comedy_spoken\", \"S4_pop_rock\", \"S4_reggae\", \"S4_stage\", \"S4_folk\", \"S4_blues\", \"S4_vocal\", \"S4_holiday\", \"S4_country\", \"S4_symphony\"]\n"
      ]
    },
    {
      "cell_type": "code",
      "execution_count": null,
      "metadata": {
        "id": "ndh1sx3gUADl"
      },
      "outputs": [],
      "source": [
        "import os\n",
        "list_infer=  os.listdir(path)\n",
        "all_infer = {}\n",
        "for ele in list_infer:\n",
        "  if (ele !=\"Using_pred_labels!.txt\"):\n",
        "    all_infer[ele] = {}\n",
        "    infer_path = os.path.join(path, ele, \"infer_command.json\")\n",
        "    infer = json.load(open(infer_path))\n",
        "    labels = infer[\"pred_labels\"]\n",
        "    temp_1 = {}\n",
        "    for idx, instrument in enumerate(I1s2):\n",
        "        temp_1[instrument] = labels['I1s2'][idx]\n",
        "    labels.pop('I1s2')\n",
        "    all_infer[ele][\"I1s2\"] = temp_1\n",
        "    temp_2 = {}\n",
        "    for idx, artist in enumerate(S4):\n",
        "        temp_2[artist] = labels['S4'][idx]\n",
        "    labels.pop('S4')\n",
        "    # midi_song_info[ele] = deepcopy(t)\n",
        "    # allinfermidivector[num] = {}\n",
        "    all_infer[ele][\"S4\"] = temp_2\n",
        "    midipath = os.path.join(path, ele, \"remi\")\n",
        "    all_midiname = os.listdir(midipath)\n",
        "    all_infer[ele][\"S4\"] = temp_2\n",
        "    all_infer[ele][\"song\"] = {}\n",
        "    for file in all_midiname:\n",
        "      with open(os.path.join(path, ele, f\"remi/{file}\")) as f:\n",
        "        text = f.readlines()\n",
        "        all_infer[ele][\"song\"][file] = text[0]\n"
      ]
    },
    {
      "cell_type": "code",
      "execution_count": null,
      "metadata": {
        "id": "mjUsq30msaEo"
      },
      "outputs": [],
      "source": [
        "# att_dict"
      ]
    },
    {
      "cell_type": "code",
      "execution_count": null,
      "metadata": {
        "colab": {
          "base_uri": "https://localhost:8080/",
          "height": 120
        },
        "id": "_90pXKNZtoxg",
        "outputId": "9197c441-812d-4d6d-ba36-c23c2db9bac8"
      },
      "outputs": [
        {
          "data": {
            "application/vnd.google.colaboratory.intrinsic+json": {
              "type": "string"
            },
            "text/plain": [
              "\"\\nI1s2_0_0 I1s2_1_2 I1s2_2_2 I1s2_3_2 I1s2_4_0 I1s2_5_0 I1s2_6_0 I1s2_7_2 I1s2_8_2 I1s2_9_2 I1s2_10_2 I1s2_11_2 I1s2_12_2 I1s2_13_2\\nI1s2_14_2 I1s2_15_2 I1s2_16_2 I1s2_17_2 I1s2_18_2 I1s2_19_2 I1s2_20_2 I1s2_21_2 I1s2_22_2 I1s2_23_2 I1s2_24_0 I1s2_25_2 I1s2_26_2\\nI1s2_27_0 I4_28 C1_4 R1_2 R3_3 S2s1_17 S4_0_2 S4_1_2 S4_2_2 S4_3_2 S4_4_2 S4_5_2 S4_6_2 S4_7_2 S4_8_2 S4_9_2 S4_10_2 S4_11_2 S4_12_2\\nS4_13_2 S4_14_2 S4_15_2 S4_16_2 S4_17_2 S4_18_2 S4_19_2 S4_20_2 S4_21_2 B1s1_3 TS1s1_0 K1_2 T1s1_1 P4_12 ST1_14 EM1_4 TM1_2\\n\\n{'I1s2': (11, 4),\\n 'I4': (11, False),\\n 'C1': None,\\n 'R1': None,\\n 'R3': 1,\\n 'S2s1': {'artist': None},\\n 'S4': {'genre': None},\\n 'B1s1': (16, 3),\\n 'TS1s1': (4, 4),\\n 'K1': 'major',\\n 'T1s1': (114.03503592196344, 1),\\n 'P4': 3,\\n 'ST1': {'piece_structure': None},\\n 'EM1': {'emotion': None},\\n 'TM1': (33.45463058047076, 2)}\\n\""
            ]
          },
          "execution_count": 11,
          "metadata": {},
          "output_type": "execute_result"
        }
      ],
      "source": [
        "\"\"\"\n",
        "I1s2_0_0 I1s2_1_2 I1s2_2_2 I1s2_3_2 I1s2_4_0 I1s2_5_0 I1s2_6_0 I1s2_7_2 I1s2_8_2 I1s2_9_2 I1s2_10_2 I1s2_11_2 I1s2_12_2 I1s2_13_2\n",
        "I1s2_14_2 I1s2_15_2 I1s2_16_2 I1s2_17_2 I1s2_18_2 I1s2_19_2 I1s2_20_2 I1s2_21_2 I1s2_22_2 I1s2_23_2 I1s2_24_0 I1s2_25_2 I1s2_26_2\n",
        "I1s2_27_0 I4_28 C1_4 R1_2 R3_3 S2s1_17 S4_0_2 S4_1_2 S4_2_2 S4_3_2 S4_4_2 S4_5_2 S4_6_2 S4_7_2 S4_8_2 S4_9_2 S4_10_2 S4_11_2 S4_12_2\n",
        "S4_13_2 S4_14_2 S4_15_2 S4_16_2 S4_17_2 S4_18_2 S4_19_2 S4_20_2 S4_21_2 B1s1_3 TS1s1_0 K1_2 T1s1_1 P4_12 ST1_14 EM1_4 TM1_2\n",
        "\n",
        "{'I1s2': (11, 4),\n",
        " 'I4': (11, False),\n",
        " 'C1': None,\n",
        " 'R1': None,\n",
        " 'R3': 1,\n",
        " 'S2s1': {'artist': None},\n",
        " 'S4': {'genre': None},\n",
        " 'B1s1': (16, 3),\n",
        " 'TS1s1': (4, 4),\n",
        " 'K1': 'major',\n",
        " 'T1s1': (114.03503592196344, 1),\n",
        " 'P4': 3,\n",
        " 'ST1': {'piece_structure': None},\n",
        " 'EM1': {'emotion': None},\n",
        " 'TM1': (33.45463058047076, 2)}\n",
        "\"\"\""
      ]
    },
    {
      "cell_type": "code",
      "execution_count": null,
      "metadata": {
        "colab": {
          "base_uri": "https://localhost:8080/"
        },
        "id": "7EZhCxgzZfSS",
        "outputId": "e07ac38c-7ea6-46e1-f51a-3515c8e8003f"
      },
      "outputs": [
        {
          "data": {
            "text/plain": [
              "{'2': {'I1s2': {'I1s2_piano': [1, 0, 0],\n",
              "   'I1s2_keyboard': [0, 0, 1],\n",
              "   'I1s2_percussion': [0, 0, 1],\n",
              "   'I1s2_organ': [0, 0, 1],\n",
              "   'I1s2_guitar': [0, 0, 1],\n",
              "   'I1s2_bass': [0, 0, 1],\n",
              "   'I1s2_violin': [0, 0, 1],\n",
              "   'I1s2_viola': [0, 0, 1],\n",
              "   'I1s2_cello': [0, 0, 1],\n",
              "   'I1s2_harp': [0, 0, 1],\n",
              "   'I1s2_strings': [0, 0, 1],\n",
              "   'I1s2_voice': [1, 0, 0],\n",
              "   'I1s2_trumpet': [0, 0, 1],\n",
              "   'I1s2_trombone': [0, 0, 1],\n",
              "   'I1s2_tuba': [0, 0, 1],\n",
              "   'I1s2_horn': [0, 0, 1],\n",
              "   'I1s2_brass': [0, 0, 1],\n",
              "   'I1s2_sax': [0, 0, 1],\n",
              "   'I1s2_oboe': [0, 0, 1],\n",
              "   'I1s2_bassoon': [0, 0, 1],\n",
              "   'I1s2_clarinet': [0, 0, 1],\n",
              "   'I1s2_piccolo': [0, 0, 1],\n",
              "   'I1s2_flute': [0, 0, 1],\n",
              "   'I1s2_pipe': [0, 0, 1],\n",
              "   'I1s2_synthesizer': [0, 0, 1],\n",
              "   'I1s2_ethnic_instruments': [0, 0, 1],\n",
              "   'I1s2_sound_effects': [0, 0, 1],\n",
              "   'I1s2_drum': [1, 0, 0]},\n",
              "  'S4': {'S4_new_age': [0, 0, 1],\n",
              "   'S4_electronic': [0, 0, 1],\n",
              "   'S4_rap': [0, 0, 1],\n",
              "   'S4_religious': [0, 0, 1],\n",
              "   'S4_international': [0, 0, 1],\n",
              "   'S4_easy_listening': [0, 0, 1],\n",
              "   'S4_avant_garde': [0, 0, 1],\n",
              "   'S4_rnb': [0, 0, 1],\n",
              "   'S4_latin': [0, 0, 1],\n",
              "   'S4_children': [0, 0, 1],\n",
              "   'S4_jazz': [0, 0, 1],\n",
              "   'S4_classical': [0, 0, 1],\n",
              "   'S4_comedy_spoken': [0, 0, 1],\n",
              "   'S4_pop_rock': [0, 0, 1],\n",
              "   'S4_reggae': [0, 0, 1],\n",
              "   'S4_stage': [0, 0, 1],\n",
              "   'S4_folk': [0, 0, 1],\n",
              "   'S4_blues': [0, 0, 1],\n",
              "   'S4_vocal': [0, 0, 1],\n",
              "   'S4_holiday': [0, 0, 1],\n",
              "   'S4_country': [0, 0, 1],\n",
              "   'S4_symphony': [0, 0, 1]},\n",
              "  'song': {'0.txt': 'I1s2_0_0 I1s2_1_2 I1s2_2_2 I1s2_3_2 I1s2_4_2 I1s2_5_2 I1s2_6_2 I1s2_7_2 I1s2_8_2 I1s2_9_2 I1s2_10_2 I1s2_11_0 I1s2_12_2 I1s2_13_2 I1s2_14_2 I1s2_15_2 I1s2_16_2 I1s2_17_2 I1s2_18_2 I1s2_19_2 I1s2_20_2 I1s2_21_2 I1s2_22_2 I1s2_23_2 I1s2_24_2 I1s2_25_2 I1s2_26_2 I1s2_27_0 I4_28 C1_4 R1_2 R3_2 S2s1_17 S4_0_2 S4_1_2 S4_2_2 S4_3_2 S4_4_2 S4_5_2 S4_6_2 S4_7_2 S4_8_2 S4_9_2 S4_10_2 S4_11_2 S4_12_2 S4_13_2 S4_14_2 S4_15_2 S4_16_2 S4_17_2 S4_18_2 S4_19_2 S4_20_2 S4_21_2 B1s1_4 TS1s1_0 K1_1 T1s1_1 P4_5 ST1_14 EM1_0 TM1_2 <sep> s-9 o-0 t-35 i-0 p-78 d-23 v-20 p-52 d-42 v-20 o-42 t-35 i-0 p-78 d-6 v-20 i-60 p-64 d-6 v-20 b-1 s-9 o-0 t-35 i-0 p-86 d-11 v-20 i-60 p-72 d-12 v-20 o-12 t-35 i-0 p-86 d-11 v-20 i-60 p-72 d-12 v-20 o-24 t-35 i-0 p-84 d-11 v-20 i-60 p-70 d-12 v-20 o-36 t-35 i-0 p-81 d-11 v-20 i-60 p-67 d-12 v-20 b-1 s-9 o-0 t-35 i-0 p-83 d-23 v-20 i-60 p-69 d-24 v-20 o-36 t-35 i-0 p-74 d-6 v-20 i-60 p-60 d-6 v-20 o-42 t-35 i-0 p-74 d-6 v-20 i-60 p-60 d-6 v-20 b-1 s-9 o-0 t-35 i-0 p-74 d-11 v-20 i-60 p-60 d-12 v-20 o-12 t-35 i-0 p-83 d-11 v-20 i-60 p-69 d-12 v-20 o-24 t-35 i-0 p-81 d-11 v-20 i-60 p-67 d-12 v-20 o-36 t-35 i-0 p-79 d-11 v-20 i-60 p-65 d-12 v-20 b-1 s-9 o-0 t-35 i-0 p-74 d-23 v-20 i-60 p-60 d-24 v-20 o-36 t-35 i-0 p-74 d-6 v-20 i-60 p-60 d-6 v-20 o-42 t-35 i-0 p-74 d-6 v-20 i-60 p-60 d-6 v-20 b-1 s-9 o-0 t-35 i-0 p-74 d-11 v-20 i-60 p-60 d-12 v-20 o-12 t-35 i-0 p-83 d-11 v-20 i-60 p-69 d-12 v-20 o-24 t-35 i-0 p-81 d-11 v-20 i-60 p-67 d-12 v-20 o-36 t-35 i-0 p-79 d-11 v-20 i-60 p-65 d-12 v-20 b-1 s-9 o-0 t-35 i-0 p-76 d-23 v-20 i-60 p-62 d-24 v-20 o-42 t-35 i-0 p-76 d-6 v-20 i-60 p-62 d-6 v-20 b-1 s-9 o-0 t-35 i-0 p-76 d-11 v-20 i-60 p-62 d-12 v-20 o-12 t-35 i-0 p-84 d-11 v-20 i-60 p-70 d-12 v-20 o-24 t-35 i-0 p-83 d-11 v-20 i-60 p-69 d-12 v-20 o-36 t-35 i-0 p-81 d-11 v-20 i-60 p-67 d-12 v-20 b-1 s-9 o-0 t-35 i-0 p-86 d-11 v-20 i-60 p-72 d-12 v-20 o-12 t-35 i-0 p-86 d-11 v-20 i-60 p-72 d-12 v-20 o-24 t-35 i-0 p-86 d-14 v-20 i-60 p-72 d-15 v-20 o-42 t-35 i-0 p-86 d-6 v-20 i-60 p-72 d-6 v-20 b-1 s-9 o-0 t-35 i-0 p-88 d-11 v-20 i-60 p-74 d-12 v-20 o-12 t-35 i-0 p-86 d-11 v-20 i-60 p-72 d-12 v-20 o-24 t-35 i-0 p-84 d-11 v-20 i-60 p-70 d-12 v-20 o-36 t-35 i-0 p-81 d-11 v-20 i-60 p-67 d-12 v-20 b-1 s-9 o-0 t-35 i-0 p-79 d-23 v-20 i-60 p-65 d-24 v-20 o-36 t-35 i-0 p-86 d-11 v-20 i-60 p-72 d-12 v-20 b-1 s-9 o-0 t-35 i-0 p-83 d-11 v-20 i-60 p-69 d-12 v-20 o-12 t-35 i-0 p-83 d-11 v-20 i-60 p-69 d-12 v-20 o-24 t-35 i-0 p-83 d-17 v-20 i-60 p-69 d-18 v-20 b-1 s-9 o-0 t-35 i-0 p-83 d-11 v-20 i-60 p-69 d-12 v-20 o-12 t-35 i-0 p-83 d-11 v-20 i-60 p-69 d-12 v-20 o-24 t-35 i-0 p-83 d-17 v-20 i-60 p-69 d-18 v-20 b-1 s-9 o-0 t-35 i-0 p-83 d-11 v-20 i-60 p-69 d-12 v-20 o-12 t-35 i-0 p-86 d-11 v-20 i-60 p-72 d-12 v-20 o-24 t-35 i-0 p-79 d-14 v-20 i-60 p-65 d-15 v-20 o-42 t-35 i-0 p-81 d-6 v-20 i-60 p-67 d-6 v-20 b-1 s-9 o-0 t-35 i-0 p-83 d-23 v-20 i-60 p-69 d-24 v-20 b-1 s-9 o-0 t-35 i-0 p-84 d-11 v-20 i-60 p-70 d-12 v-20 o-12 t-35 i-0 p-84 d-11 v-20 i-60 p-70 d-12 v-20 o-24 t-35 i-0 p-84 d-14 v-20 i-60 p-70 d-15 v-20 o-42 t-35 i-0 p-84 d-6 v-20 i-60 p-70 d-6 v-20 b-1',\n",
              "   '1.txt': 'I1s2_0_0 I1s2_1_2 I1s2_2_2 I1s2_3_2 I1s2_4_2 I1s2_5_2 I1s2_6_2 I1s2_7_2 I1s2_8_2 I1s2_9_2 I1s2_10_2 I1s2_11_0 I1s2_12_2 I1s2_13_2 I1s2_14_2 I1s2_15_2 I1s2_16_2 I1s2_17_2 I1s2_18_2 I1s2_19_2 I1s2_20_2 I1s2_21_2 I1s2_22_2 I1s2_23_2 I1s2_24_2 I1s2_25_2 I1s2_26_2 I1s2_27_0 I4_28 C1_4 R1_2 R3_2 S2s1_17 S4_0_2 S4_1_2 S4_2_2 S4_3_2 S4_4_2 S4_5_2 S4_6_2 S4_7_2 S4_8_2 S4_9_2 S4_10_2 S4_11_2 S4_12_2 S4_13_2 S4_14_2 S4_15_2 S4_16_2 S4_17_2 S4_18_2 S4_19_2 S4_20_2 S4_21_2 B1s1_4 TS1s1_0 K1_1 T1s1_1 P4_5 ST1_14 EM1_0 TM1_2 <sep> s-9 o-0 t-35 i-0 p-78 d-23 v-20 p-52 d-42 v-20 o-42 t-35 i-0 p-78 d-6 v-20 i-60 p-64 d-6 v-20 b-1 s-9 o-0 t-35 i-0 p-86 d-11 v-20 i-60 p-72 d-12 v-20 o-12 t-35 i-0 p-86 d-11 v-20 i-60 p-72 d-12 v-20 o-24 t-35 i-0 p-84 d-11 v-20 i-60 p-70 d-12 v-20 o-36 t-35 i-0 p-81 d-11 v-20 i-60 p-67 d-12 v-20 b-1 s-9 o-0 t-35 i-0 p-83 d-23 v-20 i-60 p-69 d-24 v-20 o-36 t-35 i-0 p-74 d-6 v-20 i-60 p-60 d-6 v-20 o-42 t-35 i-0 p-74 d-6 v-20 i-60 p-60 d-6 v-20 b-1 s-9 o-0 t-35 i-0 p-74 d-11 v-20 i-60 p-60 d-12 v-20 o-12 t-35 i-0 p-83 d-11 v-20 i-60 p-69 d-12 v-20 o-24 t-35 i-0 p-81 d-11 v-20 i-60 p-67 d-12 v-20 o-36 t-35 i-0 p-79 d-11 v-20 i-60 p-65 d-12 v-20 b-1 s-9 o-0 t-35 i-0 p-74 d-23 v-20 i-60 p-60 d-24 v-20 o-36 t-35 i-0 p-74 d-6 v-20 i-60 p-60 d-6 v-20 o-42 t-35 i-0 p-74 d-6 v-20 i-60 p-60 d-6 v-20 b-1 s-9 o-0 t-35 i-0 p-74 d-11 v-20 i-60 p-60 d-12 v-20 o-12 t-35 i-0 p-83 d-11 v-20 i-60 p-69 d-12 v-20 o-24 t-35 i-0 p-81 d-11 v-20 i-60 p-67 d-12 v-20 o-36 t-35 i-0 p-79 d-11 v-20 i-60 p-65 d-12 v-20 b-1 s-9 o-0 t-35 i-0 p-76 d-23 v-20 i-60 p-62 d-24 v-20 o-42 t-35 i-0 p-76 d-6 v-20 i-60 p-62 d-6 v-20 b-1 s-9 o-0 t-35 i-0 p-76 d-11 v-20 i-60 p-62 d-12 v-20 o-12 t-35 i-0 p-84 d-11 v-20 i-60 p-70 d-12 v-20 o-24 t-35 i-0 p-83 d-11 v-20 i-60 p-69 d-12 v-20 o-36 t-35 i-0 p-81 d-11 v-20 i-60 p-67 d-12 v-20 b-1 s-9 o-0 t-35 i-0 p-86 d-11 v-20 i-60 p-72 d-12 v-20 o-12 t-35 i-0 p-86 d-11 v-20 i-60 p-72 d-12 v-20 o-24 t-35 i-0 p-86 d-14 v-20 i-60 p-72 d-15 v-20 o-42 t-35 i-0 p-86 d-6 v-20 i-60 p-72 d-6 v-20 b-1 s-9 o-0 t-35 i-0 p-88 d-11 v-20 i-60 p-74 d-12 v-20 o-12 t-35 i-0 p-86 d-11 v-20 i-60 p-72 d-12 v-20 o-24 t-35 i-0 p-84 d-11 v-20 i-60 p-70 d-12 v-20 o-36 t-35 i-0 p-81 d-11 v-20 i-60 p-67 d-12 v-20 b-1 s-9 o-0 t-35 i-0 p-79 d-23 v-20 i-60 p-65 d-24 v-20 o-36 t-35 i-0 p-86 d-11 v-20 i-60 p-72 d-12 v-20 b-1 s-9 o-0 t-35 i-0 p-83 d-11 v-20 i-60 p-69 d-12 v-20 o-12 t-35 i-0 p-83 d-11 v-20 i-60 p-69 d-12 v-20 o-24 t-35 i-0 p-83 d-17 v-20 i-60 p-69 d-18 v-20 b-1 s-9 o-0 t-35 i-0 p-83 d-11 v-20 i-60 p-69 d-12 v-20 o-12 t-35 i-0 p-83 d-11 v-20 i-60 p-69 d-12 v-20 o-24 t-35 i-0 p-83 d-17 v-20 i-60 p-69 d-18 v-20 b-1 s-9 o-0 t-35 i-0 p-83 d-11 v-20 i-60 p-69 d-12 v-20 o-12 t-35 i-0 p-86 d-11 v-20 i-60 p-72 d-12 v-20 o-24 t-35 i-0 p-79 d-14 v-20 i-60 p-65 d-15 v-20 o-42 t-35 i-0 p-81 d-6 v-20 i-60 p-67 d-6 v-20 b-1 s-9 o-0 t-35 i-0 p-83 d-23 v-20 i-60 p-69 d-24 v-20 b-1 s-9 o-0 t-35 i-0 p-84 d-11 v-20 i-60 p-70 d-12 v-20 o-12 t-35 i-0 p-84 d-11 v-20 i-60 p-70 d-12 v-20 o-24 t-35 i-0 p-84 d-14 v-20 i-60 p-70 d-15 v-20 o-42 t-35 i-0 p-84 d-6 v-20 i-60 p-70 d-6 v-20 b-1'}},\n",
              " '3': {'I1s2': {'I1s2_piano': [1, 0, 0],\n",
              "   'I1s2_keyboard': [0, 0, 1],\n",
              "   'I1s2_percussion': [0, 0, 1],\n",
              "   'I1s2_organ': [0, 0, 1],\n",
              "   'I1s2_guitar': [0, 0, 1],\n",
              "   'I1s2_bass': [0, 0, 1],\n",
              "   'I1s2_violin': [0, 0, 1],\n",
              "   'I1s2_viola': [0, 0, 1],\n",
              "   'I1s2_cello': [0, 0, 1],\n",
              "   'I1s2_harp': [0, 0, 1],\n",
              "   'I1s2_strings': [0, 0, 1],\n",
              "   'I1s2_voice': [1, 0, 0],\n",
              "   'I1s2_trumpet': [0, 0, 1],\n",
              "   'I1s2_trombone': [0, 0, 1],\n",
              "   'I1s2_tuba': [0, 0, 1],\n",
              "   'I1s2_horn': [0, 0, 1],\n",
              "   'I1s2_brass': [0, 0, 1],\n",
              "   'I1s2_sax': [0, 0, 1],\n",
              "   'I1s2_oboe': [0, 0, 1],\n",
              "   'I1s2_bassoon': [0, 0, 1],\n",
              "   'I1s2_clarinet': [0, 0, 1],\n",
              "   'I1s2_piccolo': [0, 0, 1],\n",
              "   'I1s2_flute': [0, 0, 1],\n",
              "   'I1s2_pipe': [0, 0, 1],\n",
              "   'I1s2_synthesizer': [0, 0, 1],\n",
              "   'I1s2_ethnic_instruments': [0, 0, 1],\n",
              "   'I1s2_sound_effects': [0, 0, 1],\n",
              "   'I1s2_drum': [1, 0, 0]},\n",
              "  'S4': {'S4_new_age': [0, 0, 1],\n",
              "   'S4_electronic': [0, 0, 1],\n",
              "   'S4_rap': [0, 0, 1],\n",
              "   'S4_religious': [0, 0, 1],\n",
              "   'S4_international': [0, 0, 1],\n",
              "   'S4_easy_listening': [0, 0, 1],\n",
              "   'S4_avant_garde': [0, 0, 1],\n",
              "   'S4_rnb': [0, 0, 1],\n",
              "   'S4_latin': [0, 0, 1],\n",
              "   'S4_children': [0, 0, 1],\n",
              "   'S4_jazz': [0, 0, 1],\n",
              "   'S4_classical': [0, 0, 1],\n",
              "   'S4_comedy_spoken': [0, 0, 1],\n",
              "   'S4_pop_rock': [0, 0, 1],\n",
              "   'S4_reggae': [0, 0, 1],\n",
              "   'S4_stage': [0, 0, 1],\n",
              "   'S4_folk': [0, 0, 1],\n",
              "   'S4_blues': [0, 0, 1],\n",
              "   'S4_vocal': [0, 0, 1],\n",
              "   'S4_holiday': [0, 0, 1],\n",
              "   'S4_country': [0, 0, 1],\n",
              "   'S4_symphony': [0, 0, 1]},\n",
              "  'song': {'0.txt': 'I1s2_0_0 I1s2_1_2 I1s2_2_2 I1s2_3_2 I1s2_4_2 I1s2_5_2 I1s2_6_2 I1s2_7_2 I1s2_8_2 I1s2_9_2 I1s2_10_2 I1s2_11_0 I1s2_12_2 I1s2_13_2 I1s2_14_2 I1s2_15_2 I1s2_16_2 I1s2_17_2 I1s2_18_2 I1s2_19_2 I1s2_20_2 I1s2_21_2 I1s2_22_2 I1s2_23_2 I1s2_24_2 I1s2_25_2 I1s2_26_2 I1s2_27_0 I4_28 C1_4 R1_2 R3_2 S2s1_17 S4_0_2 S4_1_2 S4_2_2 S4_3_2 S4_4_2 S4_5_2 S4_6_2 S4_7_2 S4_8_2 S4_9_2 S4_10_2 S4_11_2 S4_12_2 S4_13_2 S4_14_2 S4_15_2 S4_16_2 S4_17_2 S4_18_2 S4_19_2 S4_20_2 S4_21_2 B1s1_3 TS1s1_0 K1_2 T1s1_3 P4_12 ST1_14 EM1_0 TM1_2 <sep> s-9 o-0 t-35 i-0 p-78 d-23 v-20 p-52 d-42 v-20 o-42 t-35 i-0 p-78 d-6 v-20 i-60 p-64 d-6 v-20 b-1 s-9 o-0 t-35 i-0 p-86 d-11 v-20 i-60 p-72 d-12 v-20 o-12 t-35 i-0 p-86 d-11 v-20 i-60 p-72 d-12 v-20 o-24 t-35 i-0 p-84 d-11 v-20 i-60 p-70 d-12 v-20 o-36 t-35 i-0 p-81 d-11 v-20 i-60 p-67 d-12 v-20 b-1 s-9 o-0 t-35 i-0 p-83 d-23 v-20 i-60 p-69 d-24 v-20 o-36 t-35 i-0 p-74 d-6 v-20 i-60 p-60 d-6 v-20 o-42 t-35 i-0 p-74 d-6 v-20 i-60 p-60 d-6 v-20 b-1 s-9 o-0 t-35 i-0 p-74 d-11 v-20 i-60 p-60 d-12 v-20 o-12 t-35 i-0 p-83 d-11 v-20 i-60 p-69 d-12 v-20 o-24 t-35 i-0 p-81 d-11 v-20 i-60 p-67 d-12 v-20 o-36 t-35 i-0 p-79 d-11 v-20 i-60 p-65 d-12 v-20 b-1 s-9 o-0 t-35 i-0 p-74 d-23 v-20 i-60 p-60 d-24 v-20 o-36 t-35 i-0 p-74 d-6 v-20 i-60 p-60 d-6 v-20 o-42 t-35 i-0 p-74 d-6 v-20 i-60 p-60 d-6 v-20 b-1 s-9 o-0 t-35 i-0 p-74 d-11 v-20 i-60 p-60 d-12 v-20 o-12 t-35 i-0 p-83 d-11 v-20 i-60 p-69 d-12 v-20 o-24 t-35 i-0 p-81 d-11 v-20 i-60 p-67 d-12 v-20 o-36 t-35 i-0 p-79 d-11 v-20 i-60 p-65 d-12 v-20 b-1 s-9 o-0 t-35 i-0 p-76 d-23 v-20 i-60 p-62 d-24 v-20 o-42 t-35 i-0 p-76 d-6 v-20 i-60 p-62 d-6 v-20 b-1 s-9 o-0 t-35 i-0 p-76 d-11 v-20 i-60 p-62 d-12 v-20 o-12 t-35 i-0 p-84 d-11 v-20 i-60 p-70 d-12 v-20 o-24 t-35 i-0 p-83 d-11 v-20 i-60 p-69 d-12 v-20 o-36 t-35 i-0 p-81 d-11 v-20 i-60 p-67 d-12 v-20 b-1 s-9 o-0 t-35 i-0 p-86 d-11 v-20 i-60 p-72 d-12 v-20 o-12 t-35 i-0 p-86 d-11 v-20 i-60 p-72 d-12 v-20 o-24 t-35 i-0 p-86 d-14 v-20 i-60 p-72 d-15 v-20 o-42 t-35 i-0 p-86 d-6 v-20 i-60 p-72 d-6 v-20 b-1 s-9 o-0 t-35 i-0 p-88 d-11 v-20 i-60 p-74 d-12 v-20 o-12 t-35 i-0 p-86 d-11 v-20 i-60 p-72 d-12 v-20 o-24 t-35 i-0 p-84 d-11 v-20 i-60 p-70 d-12 v-20 o-36 t-35 i-0 p-81 d-11 v-20 i-60 p-67 d-12 v-20 b-1 s-9 o-0 t-35 i-0 p-79 d-23 v-20 i-60 p-65 d-24 v-20 o-36 t-35 i-0 p-86 d-11 v-20 i-60 p-72 d-12 v-20 b-1 s-9 o-0 t-35 i-0 p-83 d-11 v-20 i-60 p-69 d-12 v-20 o-12 t-35 i-0 p-83 d-11 v-20 i-60 p-69 d-12 v-20 o-24 t-35 i-0 p-83 d-17 v-20 i-60 p-69 d-18 v-20 b-1 s-9 o-0 t-35 i-0 p-83 d-11 v-20 i-60 p-69 d-12 v-20 o-12 t-35 i-0 p-83 d-11 v-20 i-60 p-69 d-12 v-20 o-24 t-35 i-0 p-83 d-17 v-20 i-60 p-69 d-18 v-20 b-1 s-9 o-0 t-35 i-0 p-83 d-11 v-20 i-60 p-69 d-12 v-20 o-12 t-35 i-0 p-86 d-11 v-20 i-60 p-72 d-12 v-20 o-24 t-35 i-0 p-79 d-14 v-20 i-60 p-65 d-15 v-20 o-42 t-35 i-0 p-81 d-6 v-20 i-60 p-67 d-6 v-20 b-1 s-9 o-0 t-35 i-0 p-83 d-23 v-20 i-60 p-69 d-24 v-20 b-1 s-9 o-0 t-35 i-0 p-84 d-11 v-20 i-60 p-70 d-12 v-20 o-12 t-35 i-0 p-84 d-11 v-20 i-60 p-70 d-12 v-20 o-24 t-35 i-0 p-84 d-14 v-20 i-60 p-70 d-15 v-20 o-42 t-35 i-0 p-84 d-6 v-20 i-60 p-70 d-6 v-20 b-1',\n",
              "   '1.txt': 'I1s2_0_0 I1s2_1_2 I1s2_2_2 I1s2_3_2 I1s2_4_2 I1s2_5_2 I1s2_6_2 I1s2_7_2 I1s2_8_2 I1s2_9_2 I1s2_10_2 I1s2_11_0 I1s2_12_2 I1s2_13_2 I1s2_14_2 I1s2_15_2 I1s2_16_2 I1s2_17_2 I1s2_18_2 I1s2_19_2 I1s2_20_2 I1s2_21_2 I1s2_22_2 I1s2_23_2 I1s2_24_2 I1s2_25_2 I1s2_26_2 I1s2_27_0 I4_28 C1_4 R1_2 R3_2 S2s1_17 S4_0_2 S4_1_2 S4_2_2 S4_3_2 S4_4_2 S4_5_2 S4_6_2 S4_7_2 S4_8_2 S4_9_2 S4_10_2 S4_11_2 S4_12_2 S4_13_2 S4_14_2 S4_15_2 S4_16_2 S4_17_2 S4_18_2 S4_19_2 S4_20_2 S4_21_2 B1s1_3 TS1s1_0 K1_2 T1s1_3 P4_12 ST1_14 EM1_0 TM1_2 <sep> s-9 o-0 t-35 i-0 p-78 d-23 v-20 p-52 d-42 v-20 o-42 t-35 i-0 p-78 d-6 v-20 i-60 p-64 d-6 v-20 b-1 s-9 o-0 t-35 i-0 p-86 d-11 v-20 i-60 p-72 d-12 v-20 o-12 t-35 i-0 p-86 d-11 v-20 i-60 p-72 d-12 v-20 o-24 t-35 i-0 p-84 d-11 v-20 i-60 p-70 d-12 v-20 o-36 t-35 i-0 p-81 d-11 v-20 i-60 p-67 d-12 v-20 b-1 s-9 o-0 t-35 i-0 p-83 d-23 v-20 i-60 p-69 d-24 v-20 o-36 t-35 i-0 p-74 d-6 v-20 i-60 p-60 d-6 v-20 o-42 t-35 i-0 p-74 d-6 v-20 i-60 p-60 d-6 v-20 b-1 s-9 o-0 t-35 i-0 p-74 d-11 v-20 i-60 p-60 d-12 v-20 o-12 t-35 i-0 p-83 d-11 v-20 i-60 p-69 d-12 v-20 o-24 t-35 i-0 p-81 d-11 v-20 i-60 p-67 d-12 v-20 o-36 t-35 i-0 p-79 d-11 v-20 i-60 p-65 d-12 v-20 b-1 s-9 o-0 t-35 i-0 p-74 d-23 v-20 i-60 p-60 d-24 v-20 o-36 t-35 i-0 p-74 d-6 v-20 i-60 p-60 d-6 v-20 o-42 t-35 i-0 p-74 d-6 v-20 i-60 p-60 d-6 v-20 b-1 s-9 o-0 t-35 i-0 p-74 d-11 v-20 i-60 p-60 d-12 v-20 o-12 t-35 i-0 p-83 d-11 v-20 i-60 p-69 d-12 v-20 o-24 t-35 i-0 p-81 d-11 v-20 i-60 p-67 d-12 v-20 o-36 t-35 i-0 p-79 d-11 v-20 i-60 p-65 d-12 v-20 b-1 s-9 o-0 t-35 i-0 p-76 d-23 v-20 i-60 p-62 d-24 v-20 o-42 t-35 i-0 p-76 d-6 v-20 i-60 p-62 d-6 v-20 b-1 s-9 o-0 t-35 i-0 p-76 d-11 v-20 i-60 p-62 d-12 v-20 o-12 t-35 i-0 p-84 d-11 v-20 i-60 p-70 d-12 v-20 o-24 t-35 i-0 p-83 d-11 v-20 i-60 p-69 d-12 v-20 o-36 t-35 i-0 p-81 d-11 v-20 i-60 p-67 d-12 v-20 b-1 s-9 o-0 t-35 i-0 p-86 d-11 v-20 i-60 p-72 d-12 v-20 o-12 t-35 i-0 p-86 d-11 v-20 i-60 p-72 d-12 v-20 o-24 t-35 i-0 p-86 d-14 v-20 i-60 p-72 d-15 v-20 o-42 t-35 i-0 p-86 d-6 v-20 i-60 p-72 d-6 v-20 b-1 s-9 o-0 t-35 i-0 p-88 d-11 v-20 i-60 p-74 d-12 v-20 o-12 t-35 i-0 p-86 d-11 v-20 i-60 p-72 d-12 v-20 o-24 t-35 i-0 p-84 d-11 v-20 i-60 p-70 d-12 v-20 o-36 t-35 i-0 p-81 d-11 v-20 i-60 p-67 d-12 v-20 b-1 s-9 o-0 t-35 i-0 p-79 d-23 v-20 i-60 p-65 d-24 v-20 o-36 t-35 i-0 p-86 d-11 v-20 i-60 p-72 d-12 v-20 b-1 s-9 o-0 t-35 i-0 p-83 d-11 v-20 i-60 p-69 d-12 v-20 o-12 t-35 i-0 p-83 d-11 v-20 i-60 p-69 d-12 v-20 o-24 t-35 i-0 p-83 d-17 v-20 i-60 p-69 d-18 v-20 b-1 s-9 o-0 t-35 i-0 p-83 d-11 v-20 i-60 p-69 d-12 v-20 o-12 t-35 i-0 p-83 d-11 v-20 i-60 p-69 d-12 v-20 o-24 t-35 i-0 p-83 d-17 v-20 i-60 p-69 d-18 v-20 b-1 s-9 o-0 t-35 i-0 p-83 d-11 v-20 i-60 p-69 d-12 v-20 o-12 t-35 i-0 p-86 d-11 v-20 i-60 p-72 d-12 v-20 o-24 t-35 i-0 p-79 d-14 v-20 i-60 p-65 d-15 v-20 o-42 t-35 i-0 p-81 d-6 v-20 i-60 p-67 d-6 v-20 b-1 s-9 o-0 t-35 i-0 p-83 d-23 v-20 i-60 p-69 d-24 v-20 b-1 s-9 o-0 t-35 i-0 p-84 d-11 v-20 i-60 p-70 d-12 v-20 o-12 t-35 i-0 p-84 d-11 v-20 i-60 p-70 d-12 v-20 o-24 t-35 i-0 p-84 d-14 v-20 i-60 p-70 d-15 v-20 o-42 t-35 i-0 p-84 d-6 v-20 i-60 p-70 d-6 v-20 b-1'}},\n",
              " '0': {'I1s2': {'I1s2_piano': [1, 0, 0],\n",
              "   'I1s2_keyboard': [0, 0, 1],\n",
              "   'I1s2_percussion': [0, 0, 1],\n",
              "   'I1s2_organ': [0, 0, 1],\n",
              "   'I1s2_guitar': [1, 0, 0],\n",
              "   'I1s2_bass': [1, 0, 0],\n",
              "   'I1s2_violin': [1, 0, 0],\n",
              "   'I1s2_viola': [0, 0, 1],\n",
              "   'I1s2_cello': [0, 0, 1],\n",
              "   'I1s2_harp': [0, 0, 1],\n",
              "   'I1s2_strings': [0, 0, 1],\n",
              "   'I1s2_voice': [0, 0, 1],\n",
              "   'I1s2_trumpet': [0, 0, 1],\n",
              "   'I1s2_trombone': [0, 0, 1],\n",
              "   'I1s2_tuba': [0, 0, 1],\n",
              "   'I1s2_horn': [0, 0, 1],\n",
              "   'I1s2_brass': [0, 0, 1],\n",
              "   'I1s2_sax': [0, 0, 1],\n",
              "   'I1s2_oboe': [0, 0, 1],\n",
              "   'I1s2_bassoon': [0, 0, 1],\n",
              "   'I1s2_clarinet': [0, 0, 1],\n",
              "   'I1s2_piccolo': [0, 0, 1],\n",
              "   'I1s2_flute': [0, 0, 1],\n",
              "   'I1s2_pipe': [0, 0, 1],\n",
              "   'I1s2_synthesizer': [1, 0, 0],\n",
              "   'I1s2_ethnic_instruments': [0, 0, 1],\n",
              "   'I1s2_sound_effects': [0, 0, 1],\n",
              "   'I1s2_drum': [1, 0, 0]},\n",
              "  'S4': {'S4_new_age': [0, 0, 1],\n",
              "   'S4_electronic': [0, 0, 1],\n",
              "   'S4_rap': [0, 0, 1],\n",
              "   'S4_religious': [0, 0, 1],\n",
              "   'S4_international': [0, 0, 1],\n",
              "   'S4_easy_listening': [0, 0, 1],\n",
              "   'S4_avant_garde': [0, 0, 1],\n",
              "   'S4_rnb': [0, 0, 1],\n",
              "   'S4_latin': [0, 0, 1],\n",
              "   'S4_children': [0, 0, 1],\n",
              "   'S4_jazz': [0, 0, 1],\n",
              "   'S4_classical': [0, 0, 1],\n",
              "   'S4_comedy_spoken': [0, 0, 1],\n",
              "   'S4_pop_rock': [0, 0, 1],\n",
              "   'S4_reggae': [0, 0, 1],\n",
              "   'S4_stage': [0, 0, 1],\n",
              "   'S4_folk': [0, 0, 1],\n",
              "   'S4_blues': [0, 0, 1],\n",
              "   'S4_vocal': [0, 0, 1],\n",
              "   'S4_holiday': [0, 0, 1],\n",
              "   'S4_country': [0, 0, 1],\n",
              "   'S4_symphony': [0, 0, 1]},\n",
              "  'song': {'0.txt': 'I1s2_0_0 I1s2_1_2 I1s2_2_2 I1s2_3_2 I1s2_4_0 I1s2_5_0 I1s2_6_0 I1s2_7_2 I1s2_8_2 I1s2_9_2 I1s2_10_2 I1s2_11_2 I1s2_12_2 I1s2_13_2 I1s2_14_2 I1s2_15_2 I1s2_16_2 I1s2_17_2 I1s2_18_2 I1s2_19_2 I1s2_20_2 I1s2_21_2 I1s2_22_2 I1s2_23_2 I1s2_24_0 I1s2_25_2 I1s2_26_2 I1s2_27_0 I4_28 C1_4 R1_2 R3_3 S2s1_17 S4_0_2 S4_1_2 S4_2_2 S4_3_2 S4_4_2 S4_5_2 S4_6_2 S4_7_2 S4_8_2 S4_9_2 S4_10_2 S4_11_2 S4_12_2 S4_13_2 S4_14_2 S4_15_2 S4_16_2 S4_17_2 S4_18_2 S4_19_2 S4_20_2 S4_21_2 B1s1_3 TS1s1_0 K1_2 T1s1_1 P4_12 ST1_14 EM1_4 TM1_2 <sep> s-9 o-0 t-34 i-25 p-41 d-6 v-20 o-6 t-34 i-25 p-48 d-6 v-20 o-12 t-34 i-25 p-53 d-6 v-20 i-52 p-52 d-15 v-20 p-55 d-6 v-20 o-18 t-34 i-25 p-48 d-6 v-20 o-24 t-34 i-25 p-53 d-6 v-20 o-30 t-34 i-25 p-48 d-6 v-20 i-52 p-50 d-6 v-20 o-42 t-34 i-25 p-53 d-6 v-20 o-42 t-34 i-25 p-48 d-6 v-20 o-6 t-34 i-25 p-53 d-6 v-20 o-42 t-34 i-25 p-33 d-6 v-20 o-6 t-34 i-25 p-40 d-6 v-20 o-12 t-34 i-25 p-45 d-6 v-20 o-42 t-34 i-25 p-40 d-6 v-20 o-18 t-34 i-25 p-40 d-6 v-20 o-24 t-34 i-25 p-45 d-6 v-20 o-30 t-34 i-25 p-40 d-6 v-20 i-52 p-50 d-6 v-20 p-43 d-6 v-20 o-36 t-34 i-25 p-45 d-6 v-20 o-42 t-34 i-25 p-40 d-6 v-20 b-1 s-9 o-0 t-34 i-25 p-35 d-6 v-20 o-6 t-34 i-25 p-43 d-6 v-20 o-12 t-34 i-25 p-47 d-6 v-20 i-52 p-50 d-15 v-20 p-43 d-15 v-20 o-18 t-34 i-25 p-43 d-6 v-20 o-24 t-34 i-25 p-47 d-6 v-20 o-30 t-34 i-25 p-43 d-6 v-20 i-52 p-50 d-6 v-20 p-43 d-6 v-20 o-36 t-34 i-25 p-47 d-6 v-20 o-42 t-34 i-25 p-43 d-6 v-20 b-1 s-9 o-0 t-34 i-25 p-41 d-6 v-20 o-6 t-34 i-25 p-45 d-6 v-20 o-12 t-34 i-25 p-48 d-6 v-20 i-52 p-50 d-18 v-20 p-43 d-18 v-20 o-18 t-34 i-25 p-45 d-6 v-20 o-24 t-34 i-25 p-43 d-6 v-20 o-30 t-34 i-25 p-47 d-6 v-20 o-36 t-34 i-25 p-50 d-6 v-20 i-52 p-47 d-6 v-20 p-47 d-6 v-20 o-42 t-34 i-25 p-47 d-6 v-20 i-52 p-48 d-12 v-20 p-40 d-12 v-20 b-1 s-9 o-42 t-34 i-52 p-43 d-6 v-20 b-1 s-9 o-0 t-34 i-52 p-52 d-12 v-20 o-12 t-34 i-52 p-52 d-6 v-20 o-18 t-34 i-52 p-52 d-6 v-20 o-24 t-34 i-52 p-50 d-12 v-20 o-36 t-34 i-52 p-48 d-3 v-20 o-39 t-34 i-52 p-45 d-6 v-20 o-45 t-34 i-52 p-48 d-12 v-20 b-1 s-9 o-12 t-34 i-52 p-48 d-6 v-20 o-18 t-34 i-52 p-45 d-3 v-20 o-21 t-34 i-52 p-52 d-12 v-20 o-42 t-34 i-52 p-43 d-6 v-20 b-1 s-9 o-0 t-34 i-52 p-52 d-12 v-20 o-12 t-34 i-52 p-52 d-3 v-20 o-15 t-34 i-52 p-52 d-6 v-20 o-21 t-34 i-52 p-50 d-12 v-20 o-36 t-34 i-52 p-48 d-6 v-20 o-42 t-34 i-52 p-48 d-6 v-20 b-1 s-9 o-12 t-34 i-52 p-48 d-6 v-20 o-18 t-34 i-52 p-43 d-3 v-20 o-21 t-34 i-52 p-43 d-12 v-20 o-39 t-34 i-52 p-45 d-3 v-20 o-42 t-34 i-52 p-45 d-6 v-20 b-1 s-9 o-0 t-34 i-52 p-52 d-6 v-20 p-48 d-6 v-20 o-6 t-34 i-52 p-52 d-6 v-20 p-48 d-6 v-20 o-12 t-34 i-52 p-52 d-6 v-20 p-48 d-6 v-20 o-18 t-34 i-52 p-55 d-3 v-20 p-48 d-3 v-20 o-21 t-34 i-52 p-55 d-13 v-20 p-48 d-13 v-20 o-36 t-34 i-52 p-53 d-6 v-20 o-42 t-34 i-52 p-52 d-6 v-20 b-1 s-9 o-0 t-34 i-52 p-50 d-6 v-20 o-6 t-34 i-52 p-48 d-3 v-20 o-9 t-34 i-52 p-50 d-6 v-20 o-15 t-34 i-52 p-52 d-6 v-20 o-21 t-34 i-52 p-50 d-6 v-20 o-36 t-34 i-52 p-43 d-6 v-20 o-42 t-34 i-52 p-43 d-6 v-20 b-1 s-9 o-0 t-34 i-52 p-52 d-6 v-20 p-52 d-6 v-20 p-48 d-6 v-20 p-45 d-6 v-20 o-6 t-34 i-52 p-52 d-6 v-20 p-52 d-6 v-20 p-48 d-6 v-20 p-45 d-6 v-20 o-24 t-34 i-52 p-50 d-12 v-20 p-50 d-12 v-20 p-47 d-12 v-20 o-42 t-34 i-52 p-48 d-6 v-20 p-48 d-6 v-20 p-48 d-6 v-20 p-48 d-6 v-20 p-36 d-6 v-20 b-1 s-9 o-0 t-34 i-52 p-48 d-18 v-20 p-48 d-18 v-20 p-48 d-18 v-20 p-36 d-18 v-20 o-42 t-34 i-52 p-43 d-6 v-20 p-43 d-6 v-20 b-1 s-9 o-0 t-34 i-52 p-52 d-6 v-20 o-12 t-34 i-52 p-52 d-6 v-20 p-36 d-6 v-20 o-6 t-34 i-52 p-52 d-6 v-20 p-36 d-6 v-20 p-36 d-6 v-20 o-12 t-34 i-52 p-52 d-3 v-20 p-43 d-3 v-20 p-36 d-3 v-20 o-15 t-34 i-52 p-52 d-6 v-20 p-43 d-6 v-20 p-36 d-6 v-20 o-21 t-34 i-52 p-50 d-13 v-20 p-43 d-13 v-20 p-36 d-13 v-20 o-42 t-34 i-52 p-48 d-6 v-20 p-48 d-6 v-20 p-36 d-6 v-20 b-1 s-9 o-0 t-34 i-52 p-48 d-6 v-20 p-43 d-6 v-20 p-36 d-6 v-20 o-6 t-34 i-52 p-48 d-6 v-20 p-41 d-6 v-20 p-36 d-6 v-20 o-12 t-34 i-52 p-48 d-3 v-20 p-43 d-3 v-20 p-36 d-3 v-20 o-15 t-34 i-52 p-48 d-6 v-20 p-45 d-6 v-20 p-36 d-6 v-20 o-21 t-34 i-52 p-52 d-6 v-20 p-48 d-6 v-20 p-36 d-6 v-20 o-30 t-34 i-52 p-52 d-6 v-20 p-43 d-6 v-20 p-36 d-6 v-20 o-36 t-34 i-52 p-52 d-6 v-20 p-38 d-6 v-20 p-38 d-6 v-20 o-42 t-34 i-52 p-52 d-12 v-20 p-45 d-12 v-20 p-40 d-6 v-20 b-1 s-9 o-0 t-34 i-52 p-41 d-24 v-20 o-6 t-34 i-52 p-52 d-6 v-20 p-45 d-6 v-20 o-12 t-34 i-52 p-52 d-3 v-20 p-45 d-3 v-20 o-15 t-34 i-52 p-52 d-6 v-20 p-45 d-6 v-20 o-21 t-34 i-52 p-50 d-13 v-20 p-45 d-13 v-20 o-42 t-34 i-52 p-48 d-6 v-20 p-48 d-6 v-20 p-36 d-6 v-20 b-1',\n",
              "   '1.txt': 'I1s2_0_0 I1s2_1_2 I1s2_2_2 I1s2_3_2 I1s2_4_0 I1s2_5_0 I1s2_6_0 I1s2_7_2 I1s2_8_2 I1s2_9_2 I1s2_10_2 I1s2_11_2 I1s2_12_2 I1s2_13_2 I1s2_14_2 I1s2_15_2 I1s2_16_2 I1s2_17_2 I1s2_18_2 I1s2_19_2 I1s2_20_2 I1s2_21_2 I1s2_22_2 I1s2_23_2 I1s2_24_0 I1s2_25_2 I1s2_26_2 I1s2_27_0 I4_28 C1_4 R1_2 R3_3 S2s1_17 S4_0_2 S4_1_2 S4_2_2 S4_3_2 S4_4_2 S4_5_2 S4_6_2 S4_7_2 S4_8_2 S4_9_2 S4_10_2 S4_11_2 S4_12_2 S4_13_2 S4_14_2 S4_15_2 S4_16_2 S4_17_2 S4_18_2 S4_19_2 S4_20_2 S4_21_2 B1s1_3 TS1s1_0 K1_2 T1s1_1 P4_12 ST1_14 EM1_4 TM1_2 <sep> s-9 o-0 t-34 i-25 p-41 d-6 v-20 o-6 t-34 i-25 p-48 d-6 v-20 o-12 t-34 i-25 p-53 d-6 v-20 p-60 d-15 v-20 p-43 d-15 v-20 o-18 t-34 i-25 p-48 d-6 v-20 o-24 t-34 i-25 p-53 d-6 v-20 o-30 t-34 i-25 p-48 d-6 v-20 i-52 p-50 d-6 v-20 p-43 d-6 v-20 o-36 t-34 i-25 p-53 d-6 v-20 o-42 t-34 i-25 p-48 d-6 v-20 b-1 s-9 o-0 t-34 i-25 p-33 d-6 v-20 o-6 t-34 i-25 p-40 d-6 v-20 o-12 t-34 i-25 p-45 d-6 v-20 i-52 p-50 d-15 v-20 p-43 d-15 v-20 o-18 t-34 i-25 p-40 d-6 v-20 o-24 t-34 i-25 p-45 d-6 v-20 o-30 t-34 i-25 p-40 d-6 v-20 i-52 p-50 d-6 v-20 p-43 d-6 v-20 o-36 t-34 i-25 p-45 d-6 v-20 o-42 t-34 i-25 p-40 d-6 v-20 b-1 s-9 o-0 t-34 i-25 p-35 d-6 v-20 o-6 t-34 i-25 p-43 d-6 v-20 o-12 t-34 i-25 p-47 d-6 v-20 i-52 p-50 d-15 v-20 p-43 d-15 v-20 o-18 t-34 i-25 p-43 d-6 v-20 o-24 t-34 i-25 p-47 d-6 v-20 o-30 t-34 i-25 p-43 d-6 v-20 i-52 p-50 d-6 v-20 p-43 d-6 v-20 o-36 t-34 i-25 p-47 d-6 v-20 o-42 t-34 i-25 p-43 d-6 v-20 b-1 s-9 o-0 t-34 i-25 p-41 d-6 v-20 o-6 t-34 i-25 p-45 d-6 v-20 o-12 t-34 i-25 p-48 d-6 v-20 i-52 p-50 d-18 v-20 p-43 d-18 v-20 o-18 t-34 i-25 p-45 d-6 v-20 o-24 t-34 i-25 p-43 d-6 v-20 o-30 t-34 i-25 p-47 d-6 v-20 o-36 t-34 i-25 p-50 d-6 v-20 i-52 p-47 d-6 v-20 p-47 d-6 v-20 o-42 t-34 i-25 p-47 d-6 v-20 i-52 p-48 d-12 v-20 p-40 d-12 v-20 b-1 s-9 o-42 t-34 i-52 p-43 d-6 v-20 b-1 s-9 o-0 t-34 i-52 p-52 d-12 v-20 o-12 t-34 i-52 p-52 d-6 v-20 o-18 t-34 i-52 p-52 d-6 v-20 o-24 t-34 i-52 p-50 d-12 v-20 o-36 t-34 i-52 p-48 d-3 v-20 o-39 t-34 i-52 p-45 d-6 v-20 o-45 t-34 i-52 p-48 d-12 v-20 b-1 s-9 o-12 t-34 i-52 p-48 d-6 v-20 o-18 t-34 i-52 p-45 d-3 v-20 o-21 t-34 i-52 p-52 d-12 v-20 o-42 t-34 i-52 p-43 d-6 v-20 b-1 s-9 o-0 t-34 i-52 p-52 d-12 v-20 o-12 t-34 i-52 p-52 d-3 v-20 o-15 t-34 i-52 p-52 d-6 v-20 o-21 t-34 i-52 p-50 d-12 v-20 o-36 t-34 i-52 p-48 d-6 v-20 o-42 t-34 i-52 p-48 d-6 v-20 b-1 s-9 o-12 t-34 i-52 p-48 d-6 v-20 o-18 t-34 i-52 p-43 d-3 v-20 o-21 t-34 i-52 p-43 d-12 v-20 o-39 t-34 i-52 p-45 d-3 v-20 o-42 t-34 i-52 p-45 d-6 v-20 b-1 s-9 o-0 t-34 i-52 p-52 d-6 v-20 p-48 d-6 v-20 o-6 t-34 i-52 p-52 d-6 v-20 p-48 d-6 v-20 o-12 t-34 i-52 p-52 d-6 v-20 p-48 d-6 v-20 o-18 t-34 i-52 p-55 d-3 v-20 p-48 d-3 v-20 o-21 t-34 i-52 p-55 d-13 v-20 p-48 d-13 v-20 o-36 t-34 i-52 p-53 d-6 v-20 o-42 t-34 i-52 p-52 d-6 v-20 b-1 s-9 o-0 t-34 i-52 p-50 d-6 v-20 o-6 t-34 i-52 p-48 d-3 v-20 o-9 t-34 i-52 p-50 d-6 v-20 o-15 t-34 i-52 p-52 d-6 v-20 o-21 t-34 i-52 p-50 d-6 v-20 o-36 t-34 i-52 p-43 d-6 v-20 o-42 t-34 i-52 p-43 d-6 v-20 b-1 s-9 o-0 t-34 i-52 p-52 d-6 v-20 p-52 d-6 v-20 p-48 d-6 v-20 p-45 d-6 v-20 o-6 t-34 i-52 p-52 d-6 v-20 p-52 d-6 v-20 p-48 d-6 v-20 p-45 d-6 v-20 o-24 t-34 i-52 p-50 d-12 v-20 p-50 d-12 v-20 p-47 d-12 v-20 p-43 d-12 v-20 o-42 t-34 i-52 p-48 d-6 v-20 p-48 d-6 v-20 p-48 d-6 v-20 p-36 d-6 v-20 b-1 s-9 o-0 t-34 i-52 p-48 d-18 v-20 p-48 d-18 v-20 p-48 d-18 v-20 p-36 d-18 v-20 o-42 t-34 i-52 p-43 d-6 v-20 p-43 d-6 v-20 p-43 d-6 v-20 b-1 s-9 o-0 t-34 i-52 p-52 d-6 v-20 p-43 d-6 v-20 p-36 d-6 v-20 o-6 t-34 i-52 p-52 d-6 v-20 p-43 d-6 v-20 p-36 d-6 v-20 o-12 t-34 i-52 p-52 d-3 v-20 p-43 d-3 v-20 p-36 d-3 v-20 o-15 t-34 i-52 p-52 d-6 v-20 p-43 d-6 v-20 p-36 d-6 v-20 o-21 t-34 i-52 p-50 d-13 v-20 p-43 d-13 v-20 p-36 d-13 v-20 o-42 t-34 i-52 p-48 d-6 v-20 p-48 d-6 v-20 p-36 d-6 v-20 b-1 s-9 o-0 t-34 i-52 p-48 d-6 v-20 p-43 d-6 v-20 p-36 d-6 v-20 o-6 t-34 i-52 p-48 d-6 v-20 p-41 d-6 v-20 p-36 d-6 v-20 o-12 t-34 i-52 p-48 d-3 v-20 p-43 d-3 v-20 p-36 d-3 v-20 o-15 t-34 i-52 p-48 d-6 v-20 p-45 d-6 v-20 p-36 d-6 v-20 o-21 t-34 i-52 p-52 d-6 v-20 p-48 d-6 v-20 p-36 d-6 v-20 o-30 t-34 i-52 p-52 d-6 v-20 p-43 d-6 v-20 p-36 d-6 v-20 o-36 t-34 i-52 p-52 d-6 v-20 p-43 d-6 v-20 p-38 d-6 v-20 o-42 t-34 i-52 p-52 d-12 v-20 p-45 d-12 v-20 p-40 d-6 v-20 b-1 s-9 o-0 t-34 i-52 p-41 d-24 v-20 o-6 t-34 i-52 p-52 d-6 v-20 p-45 d-6 v-20 o-12 t-34 i-52 p-52 d-3 v-20 p-45 d-3 v-20 o-15 t-34 i-52 p-52 d-6 v-20 p-45 d-6 v-20 o-21 t-34 i-52 p-50 d-13 v-20 p-45 d-13 v-20 o-42 t-34 i-52 p-48 d-6 v-20 p-48 d-6 v-20 p-36 d-6 v-20 b-1'}}}"
            ]
          },
          "execution_count": 12,
          "metadata": {},
          "output_type": "execute_result"
        }
      ],
      "source": [
        "all_infer"
      ]
    },
    {
      "cell_type": "markdown",
      "metadata": {
        "id": "nSHapbBJw4Ij"
      },
      "source": []
    },
    {
      "cell_type": "code",
      "execution_count": null,
      "metadata": {
        "colab": {
          "base_uri": "https://localhost:8080/"
        },
        "id": "VoYxZ3dJbQpj",
        "outputId": "1678f258-3aa7-4767-b687-076b7ff9ce99"
      },
      "outputs": [
        {
          "data": {
            "text/plain": [
              "dict_keys(['2', '3', '0'])"
            ]
          },
          "execution_count": 13,
          "metadata": {},
          "output_type": "execute_result"
        }
      ],
      "source": [
        "all_infer.keys()"
      ]
    },
    {
      "cell_type": "code",
      "execution_count": null,
      "metadata": {
        "colab": {
          "base_uri": "https://localhost:8080/"
        },
        "id": "uHl8ofUhbTl_",
        "outputId": "d1351e7f-09a9-47eb-fdbc-42e0d0dcebe0"
      },
      "outputs": [
        {
          "name": "stdout",
          "output_type": "stream",
          "text": [
            "2\n",
            "3\n",
            "0\n"
          ]
        }
      ],
      "source": [
        "for midiname in all_infer.keys():\n",
        "  print(midiname)"
      ]
    },
    {
      "cell_type": "code",
      "execution_count": null,
      "metadata": {
        "colab": {
          "base_uri": "https://localhost:8080/"
        },
        "id": "Vs-uaajjeV0M",
        "outputId": "ed8fa32a-7333-4907-fbc6-509e8748e60e"
      },
      "outputs": [
        {
          "data": {
            "text/plain": [
              "{'I1s2': (0, 6),\n",
              " 'I4': (6, False),\n",
              " 'C1': None,\n",
              " 'R1': None,\n",
              " 'R3': 1,\n",
              " 'S2s1': {'artist': None},\n",
              " 'S4': {'genre': None},\n",
              " 'B1s1': (11, 2),\n",
              " 'TS1s1': 'other',\n",
              " 'K1': 'major',\n",
              " 'T1s1': (71.83757109179986, 0),\n",
              " 'P4': 4,\n",
              " 'ST1': {'piece_structure': None},\n",
              " 'EM1': {'emotion': None},\n",
              " 'TM1': (53.94113332490336, 3)}"
            ]
          },
          "execution_count": 15,
          "metadata": {},
          "output_type": "execute_result"
        }
      ],
      "source": [
        "\"\"\"\n",
        "doi path o day\n",
        "\"\"\"\n",
        "extractor = DataExtractor(encoding_method='REMIGEN2', attribute_list_version='v3')\n",
        "att_dict = extractor.extract(\n",
        "    midi_dir=\"/content\",\n",
        "    midi_path=\"a_a-great-big-world_say-something_Intro_jDgXQ_WExKl.mid\",\n",
        "    cut_method='none',\n",
        "    pos_info_path=None,\n",
        "    structure_func=None,\n",
        "    emotion_func=None,\n",
        ")[3][\"pieces\"][0][\"values\"]\n",
        "\n",
        "att_dict"
      ]
    },
    {
      "cell_type": "code",
      "execution_count": null,
      "metadata": {
        "colab": {
          "base_uri": "https://localhost:8080/"
        },
        "id": "4cPGDkZYhrjX",
        "outputId": "8c40d1c4-05f0-48c3-f578-a85ae7679144"
      },
      "outputs": [
        {
          "data": {
            "text/plain": [
              "{'I1s2_piano': [1, 0, 0],\n",
              " 'I1s2_keyboard': [0, 0, 1],\n",
              " 'I1s2_percussion': [0, 0, 1],\n",
              " 'I1s2_organ': [0, 0, 1],\n",
              " 'I1s2_guitar': [1, 0, 0],\n",
              " 'I1s2_bass': [1, 0, 0],\n",
              " 'I1s2_violin': [1, 0, 0],\n",
              " 'I1s2_viola': [0, 0, 1],\n",
              " 'I1s2_cello': [0, 0, 1],\n",
              " 'I1s2_harp': [0, 0, 1],\n",
              " 'I1s2_strings': [0, 0, 1],\n",
              " 'I1s2_voice': [0, 0, 1],\n",
              " 'I1s2_trumpet': [0, 0, 1],\n",
              " 'I1s2_trombone': [0, 0, 1],\n",
              " 'I1s2_tuba': [0, 0, 1],\n",
              " 'I1s2_horn': [0, 0, 1],\n",
              " 'I1s2_brass': [0, 0, 1],\n",
              " 'I1s2_sax': [0, 0, 1],\n",
              " 'I1s2_oboe': [0, 0, 1],\n",
              " 'I1s2_bassoon': [0, 0, 1],\n",
              " 'I1s2_clarinet': [0, 0, 1],\n",
              " 'I1s2_piccolo': [0, 0, 1],\n",
              " 'I1s2_flute': [0, 0, 1],\n",
              " 'I1s2_pipe': [0, 0, 1],\n",
              " 'I1s2_synthesizer': [1, 0, 0],\n",
              " 'I1s2_ethnic_instruments': [0, 0, 1],\n",
              " 'I1s2_sound_effects': [0, 0, 1],\n",
              " 'I1s2_drum': [1, 0, 0]}"
            ]
          },
          "execution_count": 16,
          "metadata": {},
          "output_type": "execute_result"
        }
      ],
      "source": [
        "all_infer[\"0\"][\"I1s2\"]"
      ]
    },
    {
      "cell_type": "code",
      "execution_count": null,
      "metadata": {
        "colab": {
          "base_uri": "https://localhost:8080/"
        },
        "id": "a4XLpDzegpKc",
        "outputId": "dbde31fd-125f-41a3-db95-9bbaed4e9f5b"
      },
      "outputs": [
        {
          "data": {
            "text/plain": [
              "{'I1s2': (0, 6),\n",
              " 'I4': (6, False),\n",
              " 'C1': None,\n",
              " 'R1': None,\n",
              " 'R3': 1,\n",
              " 'S2s1': {'artist': None},\n",
              " 'S4': {'genre': None},\n",
              " 'B1s1': (11, 2),\n",
              " 'TS1s1': 'other',\n",
              " 'K1': 'major',\n",
              " 'T1s1': (71.83757109179986, 0),\n",
              " 'P4': 4,\n",
              " 'ST1': {'piece_structure': None},\n",
              " 'EM1': {'emotion': None},\n",
              " 'TM1': (53.94113332490336, 3)}"
            ]
          },
          "execution_count": 17,
          "metadata": {},
          "output_type": "execute_result"
        }
      ],
      "source": [
        "att_dict"
      ]
    },
    {
      "cell_type": "code",
      "execution_count": null,
      "metadata": {
        "id": "qxitH0OtiBzm"
      },
      "outputs": [],
      "source": []
    },
    {
      "cell_type": "code",
      "execution_count": null,
      "metadata": {
        "colab": {
          "base_uri": "https://localhost:8080/"
        },
        "id": "MpFDQTlogU1-",
        "outputId": "e53492fb-b7e2-4513-fc4b-9f3e30570687"
      },
      "outputs": [
        {
          "data": {
            "text/plain": [
              "{'I1s2': None,\n",
              " 'I4': None,\n",
              " 'C1': None,\n",
              " 'R1': None,\n",
              " 'R3': None,\n",
              " 'S2s1': None,\n",
              " 'S4': None,\n",
              " 'B1s1': None,\n",
              " 'TS1s1': None,\n",
              " 'K1': None,\n",
              " 'T1s1': None,\n",
              " 'P4': None,\n",
              " 'ST1': None,\n",
              " 'EM1': None,\n",
              " 'TM1': None}"
            ]
          },
          "execution_count": 18,
          "metadata": {},
          "output_type": "execute_result"
        }
      ],
      "source": [
        "gen_vector = {}\n",
        "for att, value in att_dict.items():\n",
        "  try:\n",
        "      if att in [\"S2s1\", \"S4\", \"EM1\"]:\n",
        "          gen_vector[att] = gen_unit_dict[att].get_vector(use=False)\n",
        "      elif value!=None and value!=(None, None):\n",
        "          gen_vector[att] = gen_unit_dict[att].get_vector(use=True)\n",
        "      else:\n",
        "          gen_vector[att] = gen_unit_dict[att].get_vector(use=False)\n",
        "  except:\n",
        "      gen_vector[att] = None\n",
        "gen_vector"
      ]
    },
    {
      "cell_type": "code",
      "execution_count": null,
      "metadata": {
        "colab": {
          "base_uri": "https://localhost:8080/"
        },
        "id": "X63ok4Saoa3h",
        "outputId": "ae53fd79-b985-4aaa-c559-b9e305ccbdf0"
      },
      "outputs": [
        {
          "name": "stdout",
          "output_type": "stream",
          "text": [
            "I1s2\n",
            "None\n",
            "I4\n",
            "None\n",
            "C1\n",
            "None\n",
            "R1\n",
            "None\n",
            "R3\n",
            "None\n",
            "S2s1\n",
            "None\n",
            "S4\n",
            "None\n",
            "B1s1\n",
            "None\n",
            "TS1s1\n",
            "None\n",
            "K1\n",
            "None\n",
            "T1s1\n",
            "None\n",
            "P4\n",
            "None\n",
            "ST1\n",
            "None\n",
            "EM1\n",
            "None\n",
            "TM1\n",
            "None\n"
          ]
        },
        {
          "data": {
            "text/plain": [
              "15"
            ]
          },
          "execution_count": 19,
          "metadata": {},
          "output_type": "execute_result"
        }
      ],
      "source": [
        "cnt = 0\n",
        "allcnt = 0\n",
        "cntna = 0\n",
        "for att, vector in gen_vector.items():\n",
        "  print(att)\n",
        "  print(vector)\n",
        "  if vector==None:\n",
        "      cntna += 1\n",
        "      continue\n",
        "  elif (att ==\"I1s2\"):\n",
        "    pass\n",
        "  elif att in [\"S2s1\", \"S4\", \"EM1\"]:\n",
        "    pass\n",
        "  elif att == \"B1s1\":\n",
        "    pass\n",
        "  else:\n",
        "    pass\n",
        "cntna"
      ]
    },
    {
      "cell_type": "code",
      "execution_count": null,
      "metadata": {
        "colab": {
          "base_uri": "https://localhost:8080/",
          "height": 207
        },
        "id": "yEC_Q4wbnDtG",
        "outputId": "74043727-0b6b-4333-b4fa-a7cf757a7abe"
      },
      "outputs": [
        {
          "ename": "NameError",
          "evalue": "name 'key_order' is not defined",
          "output_type": "error",
          "traceback": [
            "\u001b[0;31m---------------------------------------------------------------------------\u001b[0m",
            "\u001b[0;31mNameError\u001b[0m                                 Traceback (most recent call last)",
            "\u001b[0;32m<ipython-input-20-93c7ca6bed09>\u001b[0m in \u001b[0;36m<cell line: 2>\u001b[0;34m()\u001b[0m\n\u001b[1;32m      1\u001b[0m \u001b[0mallacc\u001b[0m \u001b[0;34m=\u001b[0m \u001b[0;34m{\u001b[0m\u001b[0;34m}\u001b[0m\u001b[0;34m\u001b[0m\u001b[0;34m\u001b[0m\u001b[0m\n\u001b[0;32m----> 2\u001b[0;31m \u001b[0;32mfor\u001b[0m \u001b[0mkey\u001b[0m \u001b[0;32min\u001b[0m \u001b[0mkey_order\u001b[0m\u001b[0;34m:\u001b[0m\u001b[0;34m\u001b[0m\u001b[0;34m\u001b[0m\u001b[0m\n\u001b[0m\u001b[1;32m      3\u001b[0m     \u001b[0mallacc\u001b[0m\u001b[0;34m[\u001b[0m\u001b[0mkey\u001b[0m\u001b[0;34m]\u001b[0m \u001b[0;34m=\u001b[0m \u001b[0;34m[\u001b[0m\u001b[0;36m0\u001b[0m\u001b[0;34m,\u001b[0m\u001b[0;36m0\u001b[0m\u001b[0;34m]\u001b[0m\u001b[0;34m\u001b[0m\u001b[0;34m\u001b[0m\u001b[0m\n\u001b[1;32m      4\u001b[0m \u001b[0;32mfor\u001b[0m \u001b[0mnum\u001b[0m\u001b[0;34m,\u001b[0m \u001b[0mmidiinfo\u001b[0m \u001b[0;32min\u001b[0m \u001b[0mallinfermidivector\u001b[0m\u001b[0;34m.\u001b[0m\u001b[0mitems\u001b[0m\u001b[0;34m(\u001b[0m\u001b[0;34m)\u001b[0m\u001b[0;34m:\u001b[0m\u001b[0;34m\u001b[0m\u001b[0;34m\u001b[0m\u001b[0m\n\u001b[1;32m      5\u001b[0m     \u001b[0;32mfor\u001b[0m \u001b[0mmidiname\u001b[0m\u001b[0;34m,\u001b[0m \u001b[0minfos\u001b[0m \u001b[0;32min\u001b[0m \u001b[0mmidiinfo\u001b[0m\u001b[0;34m.\u001b[0m\u001b[0mitems\u001b[0m\u001b[0;34m(\u001b[0m\u001b[0;34m)\u001b[0m\u001b[0;34m:\u001b[0m\u001b[0;34m\u001b[0m\u001b[0;34m\u001b[0m\u001b[0m\n",
            "\u001b[0;31mNameError\u001b[0m: name 'key_order' is not defined"
          ]
        }
      ],
      "source": [
        "allacc = {}\n",
        "for key in key_order:\n",
        "    allacc[key] = [0,0]\n",
        "for num, midiinfo in allinfermidivector.items():\n",
        "    for midiname, infos in midiinfo.items():\n",
        "        if infos['acc']==None:\n",
        "            continue\n",
        "        for att, ifacc in infos['acc'].items():\n",
        "            if ifacc!=\"NA\":\n",
        "                allacc[att][1] += 1\n",
        "            if ifacc == 1:\n",
        "                allacc[att][0] += 1\n",
        "\n",
        "for k in allacc.keys():\n",
        "    if allacc[k][1] == 0:\n",
        "        allacc[k].append(float(\"nan\"))\n",
        "    else:\n",
        "        allacc[k].append(allacc[k][0] / allacc[k][1])"
      ]
    }
  ],
  "metadata": {
    "colab": {
      "provenance": []
    },
    "kernelspec": {
      "display_name": "Python 3",
      "name": "python3"
    },
    "language_info": {
      "codemirror_mode": {
        "name": "ipython",
        "version": 3
      },
      "file_extension": ".py",
      "mimetype": "text/x-python",
      "name": "python",
      "nbconvert_exporter": "python",
      "pygments_lexer": "ipython3",
      "version": "3.10.10"
    }
  },
  "nbformat": 4,
  "nbformat_minor": 0
}
