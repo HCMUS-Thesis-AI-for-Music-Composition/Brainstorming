{
  "cells": [
    {
      "cell_type": "code",
      "execution_count": null,
      "metadata": {},
      "outputs": [],
      "source": [
        "# CHANGE YOUR PATH HERE\n",
        "topk15_t1_0_ngram0_dir = \"/Users/4rr311/Documents/VectorA/KHTN/Nam4/HKII/Thesis/Brainstorming/Evaluation/data_for_testing/model_output/topk15-t1.0-ngram0\"\n",
        "topk15_t1_0_ngram0_backup_dir = \"/Users/4rr311/Documents/VectorA/KHTN/Nam4/HKII/Thesis/Brainstorming/Evaluation/data_for_testing/model_output/topk15-t1.0-ngram0_backup\"\n",
        "topk15_t1_0_ngram0_midi_dir = \"/Users/4rr311/Documents/VectorA/KHTN/Nam4/HKII/Thesis/Brainstorming/MIDI/Ideas/data/output/topk15-t1.0-ngram0\""
      ]
    },
    {
      "cell_type": "code",
      "execution_count": null,
      "metadata": {},
      "outputs": [],
      "source": [
        "MIDI_parent_path = \"/Users/4rr311/Documents/VectorA/KHTN/Nam4/HKII/Thesis/Brainstorming/MIDI\"\n",
        "midi_lib_path = \"/Users/4rr311/Documents/VectorA/KHTN/Nam4/HKII/Thesis/Brainstorming/MIDI/midi_lib\"\n",
        "midiprocessor_path = \"/Users/4rr311/Documents/VectorA/KHTN/Nam4/HKII/Thesis/Brainstorming/MIDI/midi_lib/musecoco_original_libs\""
      ]
    },
    {
      "cell_type": "code",
      "execution_count": null,
      "metadata": {},
      "outputs": [],
      "source": [
        "import sys\n",
        "\n",
        "sys.path.append(midiprocessor_path)\n",
        "sys.path.append(midi_lib_path)\n",
        "sys.path.append(MIDI_parent_path)"
      ]
    },
    {
      "cell_type": "code",
      "execution_count": null,
      "metadata": {},
      "outputs": [],
      "source": [
        "import os, argparse, random, json, pickle\n",
        "import numpy as np\n",
        "from tqdm.auto import tqdm\n",
        "from transformers import set_seed\n",
        "from tqdm import tqdm\n",
        "from copy import deepcopy\n",
        "\n",
        "from musecoco_original_libs.midi_data_extractor.data_extractor import DataExtractor\n",
        "from musecoco_original_libs.midiprocessor.midi_encoding import MidiEncoder\n",
        "\n",
        "import midi_file_utils as mfu"
      ]
    },
    {
      "cell_type": "code",
      "execution_count": null,
      "metadata": {},
      "outputs": [],
      "source": [
        "success_file_path_indices = ['103', '106', '11', '111', '12', '126', '127', '128', '129', '132', '133', '14', '15', '16', '20', '21', '26', '27', '28', '29', '33', '36', '37', '42', '43', '47', '49', '50', '52', '53', '55', '56', '59', '6', '61', '62', '63', '65', '66', '69', '7', '70', '71', '72', '74', '75', '77', '81', '83', '84', '88', '89', '90', '95', '97', '98', '99']\n",
        "\n",
        "print(len(success_file_path_indices))"
      ]
    },
    {
      "cell_type": "code",
      "execution_count": null,
      "metadata": {},
      "outputs": [],
      "source": [
        "# Delete all midi files in topk15_t1_0_ngram0_dir (recursively)\n",
        "for root, dirs, files in os.walk(topk15_t1_0_ngram0_dir):\n",
        "    for file in files:\n",
        "        if file.endswith(\".mid\"):\n",
        "            os.remove(os.path.join(root, file))"
      ]
    },
    {
      "cell_type": "code",
      "execution_count": null,
      "metadata": {},
      "outputs": [],
      "source": [
        "# Listing all midi in topk15_t1_0_ngram0_midi_dir\n",
        "midi_files = os.listdir(topk15_t1_0_ngram0_midi_dir)\n",
        "\n",
        "for file in midi_files:\n",
        "    file_name = file.split(\"/\")[-1]\n",
        "\n",
        "    idx = file_name.split(\"_\")[0]\n",
        "    file_name = file_name.split(\"_\")[1]\n",
        "\n",
        "    if str(idx) not in success_file_path_indices:\n",
        "        continue\n",
        "    else:\n",
        "        pass\n",
        "\n",
        "    old_path = f\"{topk15_t1_0_ngram0_midi_dir}/{idx}_{file_name}\"\n",
        "    new_path = f\"{topk15_t1_0_ngram0_dir}/{idx}/midi/{file_name}\"\n",
        "\n",
        "    # Copy midi file to the right place (with the right name) if the new path's parent folder exists\n",
        "    if os.path.exists(f\"{topk15_t1_0_ngram0_dir}/{idx}\"):\n",
        "        os.system(f\"cp {old_path} {new_path}\")\n",
        "    else:\n",
        "        pass\n",
        "    "
      ]
    },
    {
      "cell_type": "code",
      "execution_count": null,
      "metadata": {},
      "outputs": [],
      "source": [
        "# Listing all folder in topk15_t1_0_ngram0_dir\n",
        "folders = os.listdir(topk15_t1_0_ngram0_dir)\n",
        "\n",
        "# Count midi files in each folder\n",
        "for folder in folders:\n",
        "    if \"DS_Store\" in folder:\n",
        "        continue\n",
        "    else:\n",
        "        pass\n",
        "    \n",
        "    folder_path = f\"{topk15_t1_0_ngram0_dir}/{folder}/midi\"\n",
        "    midi_files = os.listdir(folder_path)\n",
        "    \n",
        "    n_midi_files = len(midi_files)\n",
        "\n",
        "    # If n_midi_files = 0, move the folder to topk15_t1_0_ngram0_backup_dir\n",
        "    if n_midi_files == 0:\n",
        "        os.system(f\"mv {topk15_t1_0_ngram0_dir}/{folder} {topk15_t1_0_ngram0_backup_dir}\")\n",
        "    else:\n",
        "        pass"
      ]
    },
    {
      "cell_type": "code",
      "execution_count": null,
      "metadata": {},
      "outputs": [],
      "source": [
        "%pwd"
      ]
    },
    {
      "cell_type": "code",
      "execution_count": null,
      "metadata": {},
      "outputs": [],
      "source": [
        "%cd \"/Users/4rr311/Documents/VectorA/KHTN/Nam4/HKII/Thesis/Brainstorming/MIDI/midi_lib/musecoco_original_libs\""
      ]
    },
    {
      "cell_type": "code",
      "execution_count": null,
      "metadata": {},
      "outputs": [],
      "source": [
        "print(\"/Users/4rr311/Documents/VectorA/KHTN/Nam4/HKII/Thesis/Brainstorming/Evaluation/data_for_testing/model_output/topk15-t1.0-ngram0/\")"
      ]
    },
    {
      "cell_type": "code",
      "execution_count": null,
      "metadata": {},
      "outputs": [],
      "source": [
        "!python3 eval_acc_v3.py --root \"/Users/4rr311/Documents/VectorA/KHTN/Nam4/HKII/Thesis/Brainstorming/Evaluation/data_for_testing/model_output/topk15-t1.0-ngram0/\" --output \"/Users/4rr311/Documents/VectorA/KHTN/Nam4/HKII/Thesis/Brainstorming/Evaluation/data_for_testing/runtime_output\"\n",
        "\n",
        "# Before ignoring TM1: ASA: 0.49137931034482774\n",
        "# After ignoring TM1: ASA: 0.5462962962962963\n"
      ]
    },
    {
      "cell_type": "code",
      "execution_count": null,
      "metadata": {},
      "outputs": [],
      "source": [
        "raise Exception(\"STOP HERE\")"
      ]
    },
    {
      "cell_type": "code",
      "execution_count": null,
      "metadata": {
        "id": "AuQcX7pSSppr"
      },
      "outputs": [],
      "source": [
        "midi_encoder = MidiEncoder(\"REMIGEN2\")\n"
      ]
    },
    {
      "cell_type": "code",
      "execution_count": null,
      "metadata": {
        "id": "Z-UvW5j1TsEG"
      },
      "outputs": [],
      "source": [
        "path = \"/content/drive/MyDrive/2-attribute2music_model/generation/0505/linear_mask2-xl-truncated_2560-checkpoint_best/infer_test/topk15-t1.0-ngram0\""
      ]
    },
    {
      "cell_type": "code",
      "execution_count": null,
      "metadata": {
        "colab": {
          "base_uri": "https://localhost:8080/"
        },
        "id": "8kpmFBIYSaT3",
        "outputId": "03f0664e-8b16-4ca9-be3e-e328b95f2183"
      },
      "outputs": [],
      "source": [
        "os.listdir(path)"
      ]
    },
    {
      "cell_type": "code",
      "execution_count": null,
      "metadata": {
        "id": "mlQQuTTkVlQb"
      },
      "outputs": [],
      "source": [
        "I1s2 = [\"I1s2_piano\", \"I1s2_keyboard\", \"I1s2_percussion\", \"I1s2_organ\", \"I1s2_guitar\", \"I1s2_bass\", \"I1s2_violin\", \"I1s2_viola\", \"I1s2_cello\", \"I1s2_harp\", \"I1s2_strings\", \"I1s2_voice\", \"I1s2_trumpet\", \"I1s2_trombone\", \"I1s2_tuba\", \"I1s2_horn\", \"I1s2_brass\", \"I1s2_sax\", \"I1s2_oboe\", \"I1s2_bassoon\", \"I1s2_clarinet\", \"I1s2_piccolo\", \"I1s2_flute\", \"I1s2_pipe\", \"I1s2_synthesizer\", \"I1s2_ethnic_instruments\", \"I1s2_sound_effects\", \"I1s2_drum\"]\n",
        "S4 = [\"S4_new_age\", \"S4_electronic\", \"S4_rap\", \"S4_religious\", \"S4_international\", \"S4_easy_listening\", \"S4_avant_garde\", \"S4_rnb\", \"S4_latin\", \"S4_children\", \"S4_jazz\", \"S4_classical\", \"S4_comedy_spoken\", \"S4_pop_rock\", \"S4_reggae\", \"S4_stage\", \"S4_folk\", \"S4_blues\", \"S4_vocal\", \"S4_holiday\", \"S4_country\", \"S4_symphony\"]\n"
      ]
    },
    {
      "cell_type": "code",
      "execution_count": null,
      "metadata": {
        "id": "ndh1sx3gUADl"
      },
      "outputs": [],
      "source": [
        "import os\n",
        "list_infer=  os.listdir(path)\n",
        "all_infer = {}\n",
        "for ele in list_infer:\n",
        "  if (ele !=\"Using_pred_labels!.txt\"):\n",
        "    all_infer[ele] = {}\n",
        "    infer_path = os.path.join(path, ele, \"infer_command.json\")\n",
        "    infer = json.load(open(infer_path))\n",
        "    labels = infer[\"pred_labels\"]\n",
        "    temp_1 = {}\n",
        "    for idx, instrument in enumerate(I1s2):\n",
        "        temp_1[instrument] = labels['I1s2'][idx]\n",
        "    labels.pop('I1s2')\n",
        "    all_infer[ele][\"I1s2\"] = temp_1\n",
        "    temp_2 = {}\n",
        "    for idx, artist in enumerate(S4):\n",
        "        temp_2[artist] = labels['S4'][idx]\n",
        "    labels.pop('S4')\n",
        "    # midi_song_info[ele] = deepcopy(t)\n",
        "    # allinfermidivector[num] = {}\n",
        "    all_infer[ele][\"S4\"] = temp_2\n",
        "    midipath = os.path.join(path, ele, \"remi\")\n",
        "    all_midiname = os.listdir(midipath)\n",
        "    all_infer[ele][\"S4\"] = temp_2\n",
        "    all_infer[ele][\"song\"] = {}\n",
        "    for file in all_midiname:\n",
        "      with open(os.path.join(path, ele, f\"remi/{file}\")) as f:\n",
        "        text = f.readlines()\n",
        "        all_infer[ele][\"song\"][file] = text[0]\n"
      ]
    },
    {
      "cell_type": "code",
      "execution_count": null,
      "metadata": {
        "id": "mjUsq30msaEo"
      },
      "outputs": [],
      "source": [
        "# att_dict"
      ]
    },
    {
      "cell_type": "code",
      "execution_count": null,
      "metadata": {
        "colab": {
          "base_uri": "https://localhost:8080/",
          "height": 120
        },
        "id": "_90pXKNZtoxg",
        "outputId": "9197c441-812d-4d6d-ba36-c23c2db9bac8"
      },
      "outputs": [],
      "source": [
        "\"\"\"\n",
        "I1s2_0_0 I1s2_1_2 I1s2_2_2 I1s2_3_2 I1s2_4_0 I1s2_5_0 I1s2_6_0 I1s2_7_2 I1s2_8_2 I1s2_9_2 I1s2_10_2 I1s2_11_2 I1s2_12_2 I1s2_13_2\n",
        "I1s2_14_2 I1s2_15_2 I1s2_16_2 I1s2_17_2 I1s2_18_2 I1s2_19_2 I1s2_20_2 I1s2_21_2 I1s2_22_2 I1s2_23_2 I1s2_24_0 I1s2_25_2 I1s2_26_2\n",
        "I1s2_27_0 I4_28 C1_4 R1_2 R3_3 S2s1_17 S4_0_2 S4_1_2 S4_2_2 S4_3_2 S4_4_2 S4_5_2 S4_6_2 S4_7_2 S4_8_2 S4_9_2 S4_10_2 S4_11_2 S4_12_2\n",
        "S4_13_2 S4_14_2 S4_15_2 S4_16_2 S4_17_2 S4_18_2 S4_19_2 S4_20_2 S4_21_2 B1s1_3 TS1s1_0 K1_2 T1s1_1 P4_12 ST1_14 EM1_4 TM1_2\n",
        "\n",
        "{'I1s2': (11, 4),\n",
        " 'I4': (11, False),\n",
        " 'C1': None,\n",
        " 'R1': None,\n",
        " 'R3': 1,\n",
        " 'S2s1': {'artist': None},\n",
        " 'S4': {'genre': None},\n",
        " 'B1s1': (16, 3),\n",
        " 'TS1s1': (4, 4),\n",
        " 'K1': 'major',\n",
        " 'T1s1': (114.03503592196344, 1),\n",
        " 'P4': 3,\n",
        " 'ST1': {'piece_structure': None},\n",
        " 'EM1': {'emotion': None},\n",
        " 'TM1': (33.45463058047076, 2)}\n",
        "\"\"\""
      ]
    },
    {
      "cell_type": "code",
      "execution_count": null,
      "metadata": {
        "colab": {
          "base_uri": "https://localhost:8080/"
        },
        "id": "7EZhCxgzZfSS",
        "outputId": "e07ac38c-7ea6-46e1-f51a-3515c8e8003f"
      },
      "outputs": [],
      "source": [
        "all_infer"
      ]
    },
    {
      "cell_type": "markdown",
      "metadata": {
        "id": "nSHapbBJw4Ij"
      },
      "source": []
    },
    {
      "cell_type": "code",
      "execution_count": null,
      "metadata": {
        "colab": {
          "base_uri": "https://localhost:8080/"
        },
        "id": "VoYxZ3dJbQpj",
        "outputId": "1678f258-3aa7-4767-b687-076b7ff9ce99"
      },
      "outputs": [],
      "source": [
        "all_infer.keys()"
      ]
    },
    {
      "cell_type": "code",
      "execution_count": null,
      "metadata": {
        "colab": {
          "base_uri": "https://localhost:8080/"
        },
        "id": "uHl8ofUhbTl_",
        "outputId": "d1351e7f-09a9-47eb-fdbc-42e0d0dcebe0"
      },
      "outputs": [],
      "source": [
        "for midiname in all_infer.keys():\n",
        "  print(midiname)"
      ]
    },
    {
      "cell_type": "code",
      "execution_count": null,
      "metadata": {
        "colab": {
          "base_uri": "https://localhost:8080/"
        },
        "id": "Vs-uaajjeV0M",
        "outputId": "ed8fa32a-7333-4907-fbc6-509e8748e60e"
      },
      "outputs": [],
      "source": [
        "\"\"\"\n",
        "doi path o day\n",
        "\"\"\"\n",
        "extractor = DataExtractor(encoding_method='REMIGEN2', attribute_list_version='v3')\n",
        "att_dict = extractor.extract(\n",
        "    midi_dir=\"/content\",\n",
        "    midi_path=\"a_a-great-big-world_say-something_Intro_jDgXQ_WExKl.mid\",\n",
        "    cut_method='none',\n",
        "    pos_info_path=None,\n",
        "    structure_func=None,\n",
        "    emotion_func=None,\n",
        ")[3][\"pieces\"][0][\"values\"]\n",
        "\n",
        "att_dict"
      ]
    },
    {
      "cell_type": "code",
      "execution_count": null,
      "metadata": {
        "colab": {
          "base_uri": "https://localhost:8080/"
        },
        "id": "4cPGDkZYhrjX",
        "outputId": "8c40d1c4-05f0-48c3-f578-a85ae7679144"
      },
      "outputs": [],
      "source": [
        "all_infer[\"0\"][\"I1s2\"]"
      ]
    },
    {
      "cell_type": "code",
      "execution_count": null,
      "metadata": {
        "colab": {
          "base_uri": "https://localhost:8080/"
        },
        "id": "a4XLpDzegpKc",
        "outputId": "dbde31fd-125f-41a3-db95-9bbaed4e9f5b"
      },
      "outputs": [],
      "source": [
        "att_dict"
      ]
    },
    {
      "cell_type": "code",
      "execution_count": null,
      "metadata": {
        "id": "qxitH0OtiBzm"
      },
      "outputs": [],
      "source": []
    },
    {
      "cell_type": "code",
      "execution_count": null,
      "metadata": {
        "colab": {
          "base_uri": "https://localhost:8080/"
        },
        "id": "MpFDQTlogU1-",
        "outputId": "e53492fb-b7e2-4513-fc4b-9f3e30570687"
      },
      "outputs": [],
      "source": [
        "gen_vector = {}\n",
        "for att, value in att_dict.items():\n",
        "  try:\n",
        "      if att in [\"S2s1\", \"S4\", \"EM1\"]:\n",
        "          gen_vector[att] = gen_unit_dict[att].get_vector(use=False)\n",
        "      elif value!=None and value!=(None, None):\n",
        "          gen_vector[att] = gen_unit_dict[att].get_vector(use=True)\n",
        "      else:\n",
        "          gen_vector[att] = gen_unit_dict[att].get_vector(use=False)\n",
        "  except:\n",
        "      gen_vector[att] = None\n",
        "gen_vector"
      ]
    },
    {
      "cell_type": "code",
      "execution_count": null,
      "metadata": {
        "colab": {
          "base_uri": "https://localhost:8080/"
        },
        "id": "X63ok4Saoa3h",
        "outputId": "ae53fd79-b985-4aaa-c559-b9e305ccbdf0"
      },
      "outputs": [],
      "source": [
        "cnt = 0\n",
        "allcnt = 0\n",
        "cntna = 0\n",
        "for att, vector in gen_vector.items():\n",
        "  print(att)\n",
        "  print(vector)\n",
        "  if vector==None:\n",
        "      cntna += 1\n",
        "      continue\n",
        "  elif (att ==\"I1s2\"):\n",
        "    pass\n",
        "  elif att in [\"S2s1\", \"S4\", \"EM1\"]:\n",
        "    pass\n",
        "  elif att == \"B1s1\":\n",
        "    pass\n",
        "  else:\n",
        "    pass\n",
        "cntna"
      ]
    },
    {
      "cell_type": "code",
      "execution_count": null,
      "metadata": {
        "colab": {
          "base_uri": "https://localhost:8080/",
          "height": 207
        },
        "id": "yEC_Q4wbnDtG",
        "outputId": "74043727-0b6b-4333-b4fa-a7cf757a7abe"
      },
      "outputs": [],
      "source": [
        "allacc = {}\n",
        "for key in key_order:\n",
        "    allacc[key] = [0,0]\n",
        "for num, midiinfo in allinfermidivector.items():\n",
        "    for midiname, infos in midiinfo.items():\n",
        "        if infos['acc']==None:\n",
        "            continue\n",
        "        for att, ifacc in infos['acc'].items():\n",
        "            if ifacc!=\"NA\":\n",
        "                allacc[att][1] += 1\n",
        "            if ifacc == 1:\n",
        "                allacc[att][0] += 1\n",
        "\n",
        "for k in allacc.keys():\n",
        "    if allacc[k][1] == 0:\n",
        "        allacc[k].append(float(\"nan\"))\n",
        "    else:\n",
        "        allacc[k].append(allacc[k][0] / allacc[k][1])"
      ]
    }
  ],
  "metadata": {
    "colab": {
      "provenance": []
    },
    "kernelspec": {
      "display_name": "Python 3",
      "name": "python3"
    },
    "language_info": {
      "codemirror_mode": {
        "name": "ipython",
        "version": 3
      },
      "file_extension": ".py",
      "mimetype": "text/x-python",
      "name": "python",
      "nbconvert_exporter": "python",
      "pygments_lexer": "ipython3",
      "version": "3.10.10"
    }
  },
  "nbformat": 4,
  "nbformat_minor": 0
}
