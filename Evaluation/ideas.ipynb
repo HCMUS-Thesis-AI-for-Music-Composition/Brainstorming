{
 "cells": [
  {
   "cell_type": "code",
   "execution_count": 1,
   "metadata": {},
   "outputs": [],
   "source": [
    "import eval_lib.eval_utils as eut\n",
    "import eval_lib.eval_config as ec"
   ]
  },
  {
   "cell_type": "code",
   "execution_count": 2,
   "metadata": {},
   "outputs": [],
   "source": [
    "import sys\n",
    "sys.path.append(ec.midi_lib_dir)\n",
    "\n",
    "import midi_file_utils as mfu\n",
    "from converter.midi_file_object_to_midi_dto import midi_file_object_to_midi_dto_converter"
   ]
  },
  {
   "cell_type": "code",
   "execution_count": 3,
   "metadata": {},
   "outputs": [],
   "source": [
    "midi_file_path = '../Evaluation/data_for_testing/GapLaiNamTa60.mid'"
   ]
  },
  {
   "cell_type": "code",
   "execution_count": 4,
   "metadata": {},
   "outputs": [
    {
     "name": "stdout",
     "output_type": "stream",
     "text": [
      "SORTED\n",
      "NOTES IN MIDI:  {0, 2, 3, 6, 7, 9, 10}\n",
      "MIDI NOTE NUMBERS:  [0, 2, 3, 6, 7, 9, 10]\n",
      "SORTED MIDI NOTE NUMBERS:  [0, 2, 3, 6, 7, 9, 10]\n",
      "MIDI NOTE NUMBERS BEFORE INTERVALS CAL:  [0, 2, 3, 6, 7, 9, 10]\n",
      "Intervals:  [2, 1, 3, 1, 2, 1, 2]\n",
      "G harmonic_minor\n"
     ]
    }
   ],
   "source": [
    "midi_file_obj = mfu.read_midi_file(midi_file_path)\n",
    "midi_dto = midi_file_object_to_midi_dto_converter(midi_file_obj)\n",
    "\n",
    "ks = eut.midi_key_signature_detector(midi_dto)\n",
    "print(eut.based_midi_note_numbers[ks[0]][0], ks[1])"
   ]
  },
  {
   "cell_type": "code",
   "execution_count": 5,
   "metadata": {},
   "outputs": [
    {
     "name": "stdout",
     "output_type": "stream",
     "text": [
      "[<dto.Note.NoteDTO object at 0x1070de380>, <dto.Note.NoteDTO object at 0x1070de3b0>, <dto.Note.NoteDTO object at 0x1070de410>, <dto.Note.NoteDTO object at 0x1070de470>, <dto.Note.NoteDTO object at 0x1070de4d0>, <dto.Note.NoteDTO object at 0x1070de530>, <dto.Note.NoteDTO object at 0x1070de590>, <dto.Note.NoteDTO object at 0x1070de5f0>, <dto.Note.NoteDTO object at 0x1070de650>, <dto.Note.NoteDTO object at 0x1070de6b0>, <dto.Note.NoteDTO object at 0x1070de710>, <dto.Note.NoteDTO object at 0x1070de770>, <dto.Note.NoteDTO object at 0x1070de7d0>, <dto.Note.NoteDTO object at 0x1070de830>, <dto.Note.NoteDTO object at 0x1070de890>, <dto.Note.NoteDTO object at 0x1070de8f0>, <dto.Note.NoteDTO object at 0x1070de950>, <dto.Note.NoteDTO object at 0x1070de9b0>, <dto.Note.NoteDTO object at 0x1070dea10>, <dto.Note.NoteDTO object at 0x1070dea70>, <dto.Note.NoteDTO object at 0x1070dead0>, <dto.Note.NoteDTO object at 0x1070deb30>, <dto.Note.NoteDTO object at 0x1070deb90>, <dto.Note.NoteDTO object at 0x1070debf0>, <dto.Note.NoteDTO object at 0x1070dec50>, <dto.Note.NoteDTO object at 0x1070decb0>, <dto.Note.NoteDTO object at 0x1070ded10>, <dto.Note.NoteDTO object at 0x1070ded70>, <dto.Note.NoteDTO object at 0x1070dedd0>, <dto.Note.NoteDTO object at 0x1070dee30>, <dto.Note.NoteDTO object at 0x1070dee90>, <dto.Note.NoteDTO object at 0x1070deef0>, <dto.Note.NoteDTO object at 0x1070def50>, <dto.Note.NoteDTO object at 0x1070defb0>, <dto.Note.NoteDTO object at 0x1070df010>, <dto.Note.NoteDTO object at 0x1070df070>, <dto.Note.NoteDTO object at 0x1070df0d0>, <dto.Note.NoteDTO object at 0x1070df130>, <dto.Note.NoteDTO object at 0x1070df190>, <dto.Note.NoteDTO object at 0x1070df1f0>, <dto.Note.NoteDTO object at 0x1070df250>, <dto.Note.NoteDTO object at 0x1070df2b0>, <dto.Note.NoteDTO object at 0x1070df310>, <dto.Note.NoteDTO object at 0x1070df370>, <dto.Note.NoteDTO object at 0x1070df3d0>, <dto.Note.NoteDTO object at 0x1070df430>, <dto.Note.NoteDTO object at 0x1070df490>, <dto.Note.NoteDTO object at 0x1070df4f0>, <dto.Note.NoteDTO object at 0x1070df550>, <dto.Note.NoteDTO object at 0x1070df5b0>, <dto.Note.NoteDTO object at 0x1070df610>, <dto.Note.NoteDTO object at 0x1070df670>, <dto.Note.NoteDTO object at 0x1070df6d0>, <dto.Note.NoteDTO object at 0x1070df730>, <dto.Note.NoteDTO object at 0x1070df790>, <dto.Note.NoteDTO object at 0x1070df7f0>, <dto.Note.NoteDTO object at 0x1070df850>, <dto.Note.NoteDTO object at 0x1070df8b0>, <dto.Note.NoteDTO object at 0x1070df910>, <dto.Note.NoteDTO object at 0x1070df970>, <dto.Note.NoteDTO object at 0x1070df9d0>, <dto.Note.NoteDTO object at 0x1070dfa30>, <dto.Note.NoteDTO object at 0x1070dfa90>, <dto.Note.NoteDTO object at 0x1070dfaf0>, <dto.Note.NoteDTO object at 0x1070dfb50>, <dto.Note.NoteDTO object at 0x1070dfbb0>, <dto.Note.NoteDTO object at 0x1070dfc10>, <dto.Note.NoteDTO object at 0x1070dfc70>, <dto.Note.NoteDTO object at 0x1070dfcd0>, <dto.Note.NoteDTO object at 0x1070dfd30>, <dto.Note.NoteDTO object at 0x1070dfd90>, <dto.Note.NoteDTO object at 0x1070dfdf0>, <dto.Note.NoteDTO object at 0x1070dfe50>, <dto.Note.NoteDTO object at 0x1070dfeb0>, <dto.Note.NoteDTO object at 0x1070dff10>, <dto.Note.NoteDTO object at 0x1070dff70>, <dto.Note.NoteDTO object at 0x1070dffd0>, <dto.Note.NoteDTO object at 0x107124070>, <dto.Note.NoteDTO object at 0x1071240d0>, <dto.Note.NoteDTO object at 0x1071242b0>, <dto.Note.NoteDTO object at 0x107124130>, <dto.Note.NoteDTO object at 0x107124190>, <dto.Note.NoteDTO object at 0x1071241f0>, <dto.Note.NoteDTO object at 0x107124250>, <dto.Note.NoteDTO object at 0x107124310>, <dto.Note.NoteDTO object at 0x107124370>, <dto.Note.NoteDTO object at 0x1071243d0>, <dto.Note.NoteDTO object at 0x107124430>, <dto.Note.NoteDTO object at 0x107124490>, <dto.Note.NoteDTO object at 0x1071244f0>, <dto.Note.NoteDTO object at 0x107124550>, <dto.Note.NoteDTO object at 0x1071245b0>, <dto.Note.NoteDTO object at 0x107124610>, <dto.Note.NoteDTO object at 0x107124670>, <dto.Note.NoteDTO object at 0x107124790>, <dto.Note.NoteDTO object at 0x1071246d0>, <dto.Note.NoteDTO object at 0x107124730>, <dto.Note.NoteDTO object at 0x1071247f0>, <dto.Note.NoteDTO object at 0x107124850>, <dto.Note.NoteDTO object at 0x1071248b0>, <dto.Note.NoteDTO object at 0x107124910>, <dto.Note.NoteDTO object at 0x107124970>, <dto.Note.NoteDTO object at 0x1071249d0>, <dto.Note.NoteDTO object at 0x107124a30>, <dto.Note.NoteDTO object at 0x107124a90>, <dto.Note.NoteDTO object at 0x107124af0>, <dto.Note.NoteDTO object at 0x107124b50>, <dto.Note.NoteDTO object at 0x107124bb0>, <dto.Note.NoteDTO object at 0x107124c10>, <dto.Note.NoteDTO object at 0x107124c70>, <dto.Note.NoteDTO object at 0x107124cd0>, <dto.Note.NoteDTO object at 0x107124d30>, <dto.Note.NoteDTO object at 0x107124d90>, <dto.Note.NoteDTO object at 0x107124df0>, <dto.Note.NoteDTO object at 0x107124e50>, <dto.Note.NoteDTO object at 0x107124eb0>, <dto.Note.NoteDTO object at 0x107124f10>, <dto.Note.NoteDTO object at 0x107124f70>, <dto.Note.NoteDTO object at 0x107124fd0>, <dto.Note.NoteDTO object at 0x107125030>, <dto.Note.NoteDTO object at 0x107125090>, <dto.Note.NoteDTO object at 0x1071250f0>, <dto.Note.NoteDTO object at 0x107125150>, <dto.Note.NoteDTO object at 0x1071251b0>, <dto.Note.NoteDTO object at 0x107125210>, <dto.Note.NoteDTO object at 0x107125270>, <dto.Note.NoteDTO object at 0x1071252d0>, <dto.Note.NoteDTO object at 0x107125330>, <dto.Note.NoteDTO object at 0x107125390>, <dto.Note.NoteDTO object at 0x1071253f0>, <dto.Note.NoteDTO object at 0x107125450>, <dto.Note.NoteDTO object at 0x1071254b0>, <dto.Note.NoteDTO object at 0x107125510>, <dto.Note.NoteDTO object at 0x107125570>, <dto.Note.NoteDTO object at 0x1071255d0>, <dto.Note.NoteDTO object at 0x107125630>, <dto.Note.NoteDTO object at 0x107125690>, <dto.Note.NoteDTO object at 0x1071256f0>, <dto.Note.NoteDTO object at 0x107125750>, <dto.Note.NoteDTO object at 0x1071257b0>, <dto.Note.NoteDTO object at 0x107125810>, <dto.Note.NoteDTO object at 0x107125870>, <dto.Note.NoteDTO object at 0x1071258d0>, <dto.Note.NoteDTO object at 0x107125930>, <dto.Note.NoteDTO object at 0x107125990>, <dto.Note.NoteDTO object at 0x1071259f0>, <dto.Note.NoteDTO object at 0x107125a50>, <dto.Note.NoteDTO object at 0x107125ab0>, <dto.Note.NoteDTO object at 0x107125b10>, <dto.Note.NoteDTO object at 0x107125b70>, <dto.Note.NoteDTO object at 0x107125bd0>, <dto.Note.NoteDTO object at 0x107125c30>, <dto.Note.NoteDTO object at 0x107125c90>, <dto.Note.NoteDTO object at 0x107125cf0>, <dto.Note.NoteDTO object at 0x107125d50>, <dto.Note.NoteDTO object at 0x107125db0>, <dto.Note.NoteDTO object at 0x107125e10>, <dto.Note.NoteDTO object at 0x107125e70>, <dto.Note.NoteDTO object at 0x107125ed0>, <dto.Note.NoteDTO object at 0x107125f30>, <dto.Note.NoteDTO object at 0x107125f90>, <dto.Note.NoteDTO object at 0x107125ff0>, <dto.Note.NoteDTO object at 0x107126050>, <dto.Note.NoteDTO object at 0x1071260b0>, <dto.Note.NoteDTO object at 0x107126110>, <dto.Note.NoteDTO object at 0x107126170>, <dto.Note.NoteDTO object at 0x1071261d0>, <dto.Note.NoteDTO object at 0x107126260>, <dto.Note.NoteDTO object at 0x1071262c0>, <dto.Note.NoteDTO object at 0x107126320>, <dto.Note.NoteDTO object at 0x107126380>, <dto.Note.NoteDTO object at 0x1071263e0>, <dto.Note.NoteDTO object at 0x107126440>, <dto.Note.NoteDTO object at 0x1071264a0>, <dto.Note.NoteDTO object at 0x107126500>, <dto.Note.NoteDTO object at 0x107126560>, <dto.Note.NoteDTO object at 0x1071265c0>, <dto.Note.NoteDTO object at 0x107126620>, <dto.Note.NoteDTO object at 0x107126680>, <dto.Note.NoteDTO object at 0x1071266e0>, <dto.Note.NoteDTO object at 0x107126740>, <dto.Note.NoteDTO object at 0x1071267a0>, <dto.Note.NoteDTO object at 0x107126800>, <dto.Note.NoteDTO object at 0x107126860>, <dto.Note.NoteDTO object at 0x1071268c0>, <dto.Note.NoteDTO object at 0x107126920>, <dto.Note.NoteDTO object at 0x107126980>, <dto.Note.NoteDTO object at 0x1071269e0>, <dto.Note.NoteDTO object at 0x107126a40>, <dto.Note.NoteDTO object at 0x107126aa0>, <dto.Note.NoteDTO object at 0x107126b00>, <dto.Note.NoteDTO object at 0x107126b60>, <dto.Note.NoteDTO object at 0x107126bc0>, <dto.Note.NoteDTO object at 0x107126c20>, <dto.Note.NoteDTO object at 0x107126c80>, <dto.Note.NoteDTO object at 0x107126ce0>, <dto.Note.NoteDTO object at 0x107126d40>, <dto.Note.NoteDTO object at 0x107126da0>, <dto.Note.NoteDTO object at 0x107126e00>, <dto.Note.NoteDTO object at 0x107126e60>, <dto.Note.NoteDTO object at 0x107126ec0>, <dto.Note.NoteDTO object at 0x107126f20>, <dto.Note.NoteDTO object at 0x107126f80>, <dto.Note.NoteDTO object at 0x107126fe0>, <dto.Note.NoteDTO object at 0x107127040>, <dto.Note.NoteDTO object at 0x1071270a0>, <dto.Note.NoteDTO object at 0x107127100>, <dto.Note.NoteDTO object at 0x107127160>, <dto.Note.NoteDTO object at 0x1071271c0>, <dto.Note.NoteDTO object at 0x107127220>, <dto.Note.NoteDTO object at 0x107127280>, <dto.Note.NoteDTO object at 0x1071272e0>, <dto.Note.NoteDTO object at 0x107127340>, <dto.Note.NoteDTO object at 0x1071273a0>, <dto.Note.NoteDTO object at 0x107127400>, <dto.Note.NoteDTO object at 0x107127460>, <dto.Note.NoteDTO object at 0x1071274c0>, <dto.Note.NoteDTO object at 0x107127520>, <dto.Note.NoteDTO object at 0x107127580>, <dto.Note.NoteDTO object at 0x1071275e0>, <dto.Note.NoteDTO object at 0x107127640>, <dto.Note.NoteDTO object at 0x1071276a0>, <dto.Note.NoteDTO object at 0x107127700>, <dto.Note.NoteDTO object at 0x107127760>, <dto.Note.NoteDTO object at 0x1071277c0>, <dto.Note.NoteDTO object at 0x107127820>, <dto.Note.NoteDTO object at 0x107127880>, <dto.Note.NoteDTO object at 0x1071278e0>, <dto.Note.NoteDTO object at 0x107127940>, <dto.Note.NoteDTO object at 0x1071279a0>, <dto.Note.NoteDTO object at 0x107127a00>, <dto.Note.NoteDTO object at 0x107127a60>, <dto.Note.NoteDTO object at 0x107127ac0>, <dto.Note.NoteDTO object at 0x107127b20>, <dto.Note.NoteDTO object at 0x107127b80>, <dto.Note.NoteDTO object at 0x107127be0>, <dto.Note.NoteDTO object at 0x107127c40>, <dto.Note.NoteDTO object at 0x107127ca0>, <dto.Note.NoteDTO object at 0x107127d00>, <dto.Note.NoteDTO object at 0x107127d60>, <dto.Note.NoteDTO object at 0x107127dc0>, <dto.Note.NoteDTO object at 0x107127e20>, <dto.Note.NoteDTO object at 0x107127e80>, <dto.Note.NoteDTO object at 0x107127ee0>, <dto.Note.NoteDTO object at 0x107127f40>, <dto.Note.NoteDTO object at 0x107127fa0>, <dto.Note.NoteDTO object at 0x10716c040>, <dto.Note.NoteDTO object at 0x10716c0a0>, <dto.Note.NoteDTO object at 0x10716c100>, <dto.Note.NoteDTO object at 0x10716c160>, <dto.Note.NoteDTO object at 0x10716c1c0>, <dto.Note.NoteDTO object at 0x10716c220>, <dto.Note.NoteDTO object at 0x10716c280>, <dto.Note.NoteDTO object at 0x10716c2e0>, <dto.Note.NoteDTO object at 0x10716c340>, <dto.Note.NoteDTO object at 0x10716c3a0>, <dto.Note.NoteDTO object at 0x10716c400>, <dto.Note.NoteDTO object at 0x10716c460>, <dto.Note.NoteDTO object at 0x10716c4c0>, <dto.Note.NoteDTO object at 0x10716c520>, <dto.Note.NoteDTO object at 0x10716c580>, <dto.Note.NoteDTO object at 0x10716c5e0>, <dto.Note.NoteDTO object at 0x10716c640>, <dto.Note.NoteDTO object at 0x10716c6a0>, <dto.Note.NoteDTO object at 0x10716c700>, <dto.Note.NoteDTO object at 0x10716c760>, <dto.Note.NoteDTO object at 0x10716c7c0>, <dto.Note.NoteDTO object at 0x10716c820>, <dto.Note.NoteDTO object at 0x10716c880>, <dto.Note.NoteDTO object at 0x10716c8e0>, <dto.Note.NoteDTO object at 0x10716c940>, <dto.Note.NoteDTO object at 0x10716c9a0>, <dto.Note.NoteDTO object at 0x10716ca00>, <dto.Note.NoteDTO object at 0x10716ca60>, <dto.Note.NoteDTO object at 0x10716cac0>, <dto.Note.NoteDTO object at 0x10716cb20>, <dto.Note.NoteDTO object at 0x10716cb80>, <dto.Note.NoteDTO object at 0x10716cbe0>, <dto.Note.NoteDTO object at 0x10716cc40>, <dto.Note.NoteDTO object at 0x10716cca0>, <dto.Note.NoteDTO object at 0x10716cd00>, <dto.Note.NoteDTO object at 0x10716cd60>, <dto.Note.NoteDTO object at 0x10716cdc0>, <dto.Note.NoteDTO object at 0x10716ce20>, <dto.Note.NoteDTO object at 0x10716ce80>, <dto.Note.NoteDTO object at 0x10716cee0>, <dto.Note.NoteDTO object at 0x10716cf40>, <dto.Note.NoteDTO object at 0x10716cfa0>, <dto.Note.NoteDTO object at 0x10716d000>, <dto.Note.NoteDTO object at 0x10716d060>, <dto.Note.NoteDTO object at 0x10716d0c0>, <dto.Note.NoteDTO object at 0x10716d120>, <dto.Note.NoteDTO object at 0x10716d180>, <dto.Note.NoteDTO object at 0x10716d1e0>, <dto.Note.NoteDTO object at 0x10716d240>, <dto.Note.NoteDTO object at 0x10716d2a0>, <dto.Note.NoteDTO object at 0x10716d300>, <dto.Note.NoteDTO object at 0x10716d360>, <dto.Note.NoteDTO object at 0x10716d3c0>, <dto.Note.NoteDTO object at 0x10716d420>, <dto.Note.NoteDTO object at 0x10716d480>, <dto.Note.NoteDTO object at 0x10716d4e0>, <dto.Note.NoteDTO object at 0x10716d540>, <dto.Note.NoteDTO object at 0x10716d5a0>, <dto.Note.NoteDTO object at 0x10716d600>, <dto.Note.NoteDTO object at 0x10716d660>, <dto.Note.NoteDTO object at 0x10716d6c0>, <dto.Note.NoteDTO object at 0x10716d720>, <dto.Note.NoteDTO object at 0x10716d780>, <dto.Note.NoteDTO object at 0x10716d7e0>, <dto.Note.NoteDTO object at 0x10716d840>, <dto.Note.NoteDTO object at 0x10716d8a0>, <dto.Note.NoteDTO object at 0x10716d900>, <dto.Note.NoteDTO object at 0x10716d960>, <dto.Note.NoteDTO object at 0x10716d9c0>, <dto.Note.NoteDTO object at 0x10716da20>, <dto.Note.NoteDTO object at 0x10716da80>, <dto.Note.NoteDTO object at 0x10716dae0>, <dto.Note.NoteDTO object at 0x10716db40>, <dto.Note.NoteDTO object at 0x10716dba0>, <dto.Note.NoteDTO object at 0x10716dc00>, <dto.Note.NoteDTO object at 0x10716dc60>, <dto.Note.NoteDTO object at 0x10716dcc0>, <dto.Note.NoteDTO object at 0x10716dd20>, <dto.Note.NoteDTO object at 0x10716dd80>, <dto.Note.NoteDTO object at 0x10716dde0>, <dto.Note.NoteDTO object at 0x10716de40>, <dto.Note.NoteDTO object at 0x10716dea0>, <dto.Note.NoteDTO object at 0x10716df00>, <dto.Note.NoteDTO object at 0x10716df60>, <dto.Note.NoteDTO object at 0x10716dfc0>, <dto.Note.NoteDTO object at 0x10716e020>, <dto.Note.NoteDTO object at 0x10716e080>, <dto.Note.NoteDTO object at 0x10716e0e0>, <dto.Note.NoteDTO object at 0x10716e140>, <dto.Note.NoteDTO object at 0x10716e1a0>, <dto.Note.NoteDTO object at 0x10716e200>, <dto.Note.NoteDTO object at 0x10716e260>, <dto.Note.NoteDTO object at 0x10716e2c0>, <dto.Note.NoteDTO object at 0x10716e320>, <dto.Note.NoteDTO object at 0x10716e380>, <dto.Note.NoteDTO object at 0x10716e3e0>, <dto.Note.NoteDTO object at 0x10716e440>, <dto.Note.NoteDTO object at 0x10716e4a0>, <dto.Note.NoteDTO object at 0x10716e500>, <dto.Note.NoteDTO object at 0x10716e560>, <dto.Note.NoteDTO object at 0x10716e5c0>, <dto.Note.NoteDTO object at 0x10716e620>, <dto.Note.NoteDTO object at 0x10716e680>, <dto.Note.NoteDTO object at 0x10716e6e0>, <dto.Note.NoteDTO object at 0x10716e740>, <dto.Note.NoteDTO object at 0x10716e7a0>, <dto.Note.NoteDTO object at 0x10716e800>, <dto.Note.NoteDTO object at 0x10716e860>, <dto.Note.NoteDTO object at 0x10716e8c0>, <dto.Note.NoteDTO object at 0x10716e920>, <dto.Note.NoteDTO object at 0x10716e980>, <dto.Note.NoteDTO object at 0x10716e9e0>, <dto.Note.NoteDTO object at 0x10716ea40>, <dto.Note.NoteDTO object at 0x10716eaa0>, <dto.Note.NoteDTO object at 0x10716eb00>, <dto.Note.NoteDTO object at 0x10716eb60>, <dto.Note.NoteDTO object at 0x10716ebc0>, <dto.Note.NoteDTO object at 0x10716ec20>, <dto.Note.NoteDTO object at 0x10716ec80>, <dto.Note.NoteDTO object at 0x10716ece0>, <dto.Note.NoteDTO object at 0x10716ed40>, <dto.Note.NoteDTO object at 0x10716eda0>, <dto.Note.NoteDTO object at 0x10716ee00>, <dto.Note.NoteDTO object at 0x10716ee60>, <dto.Note.NoteDTO object at 0x10716eec0>, <dto.Note.NoteDTO object at 0x10716ef20>, <dto.Note.NoteDTO object at 0x10716ef80>, <dto.Note.NoteDTO object at 0x10716efe0>, <dto.Note.NoteDTO object at 0x10716f040>, <dto.Note.NoteDTO object at 0x10716f0a0>, <dto.Note.NoteDTO object at 0x10716f100>, <dto.Note.NoteDTO object at 0x10716f160>, <dto.Note.NoteDTO object at 0x10716f1c0>, <dto.Note.NoteDTO object at 0x10716f220>, <dto.Note.NoteDTO object at 0x10716f280>, <dto.Note.NoteDTO object at 0x10716f2e0>, <dto.Note.NoteDTO object at 0x10716f340>, <dto.Note.NoteDTO object at 0x10716f3a0>, <dto.Note.NoteDTO object at 0x10716f400>, <dto.Note.NoteDTO object at 0x10716f460>, <dto.Note.NoteDTO object at 0x10716f4c0>, <dto.Note.NoteDTO object at 0x10716f520>, <dto.Note.NoteDTO object at 0x10716f580>, <dto.Note.NoteDTO object at 0x10716f5e0>, <dto.Note.NoteDTO object at 0x10716f640>, <dto.Note.NoteDTO object at 0x10716f6a0>, <dto.Note.NoteDTO object at 0x10716f700>, <dto.Note.NoteDTO object at 0x10716f760>, <dto.Note.NoteDTO object at 0x10716f7c0>, <dto.Note.NoteDTO object at 0x10716f820>, <dto.Note.NoteDTO object at 0x10716f880>, <dto.Note.NoteDTO object at 0x10716f8e0>, <dto.Note.NoteDTO object at 0x10716f940>, <dto.Note.NoteDTO object at 0x10716f9a0>, <dto.Note.NoteDTO object at 0x10716fa00>, <dto.Note.NoteDTO object at 0x10716fa60>, <dto.Note.NoteDTO object at 0x10716fac0>, <dto.Note.NoteDTO object at 0x10716fb20>, <dto.Note.NoteDTO object at 0x10716fb80>, <dto.Note.NoteDTO object at 0x10716fbe0>, <dto.Note.NoteDTO object at 0x10716fc40>, <dto.Note.NoteDTO object at 0x10716fca0>, <dto.Note.NoteDTO object at 0x10716fd00>, <dto.Note.NoteDTO object at 0x10716fd60>, <dto.Note.NoteDTO object at 0x10716fdc0>, <dto.Note.NoteDTO object at 0x10716fe50>, <dto.Note.NoteDTO object at 0x10716fe80>, <dto.Note.NoteDTO object at 0x106fb0070>, <dto.Note.NoteDTO object at 0x106fb00d0>, <dto.Note.NoteDTO object at 0x106fb0130>, <dto.Note.NoteDTO object at 0x106fb0190>, <dto.Note.NoteDTO object at 0x106fb01f0>, <dto.Note.NoteDTO object at 0x106fb0250>, <dto.Note.NoteDTO object at 0x106fb02b0>, <dto.Note.NoteDTO object at 0x106fb0310>, <dto.Note.NoteDTO object at 0x106fb0370>, <dto.Note.NoteDTO object at 0x106fb03d0>, <dto.Note.NoteDTO object at 0x106fb0430>, <dto.Note.NoteDTO object at 0x106fb0490>, <dto.Note.NoteDTO object at 0x106fb04f0>, <dto.Note.NoteDTO object at 0x106fb0550>, <dto.Note.NoteDTO object at 0x106fb05b0>, <dto.Note.NoteDTO object at 0x106fb0610>, <dto.Note.NoteDTO object at 0x106fb0670>, <dto.Note.NoteDTO object at 0x106fb06d0>, <dto.Note.NoteDTO object at 0x106fb0730>, <dto.Note.NoteDTO object at 0x106fb0790>, <dto.Note.NoteDTO object at 0x106fb07f0>, <dto.Note.NoteDTO object at 0x106fb0850>, <dto.Note.NoteDTO object at 0x106fb08b0>, <dto.Note.NoteDTO object at 0x106fb0910>, <dto.Note.NoteDTO object at 0x106fb0970>, <dto.Note.NoteDTO object at 0x106fb09d0>, <dto.Note.NoteDTO object at 0x106fb0a30>, <dto.Note.NoteDTO object at 0x106fb0a90>, <dto.Note.NoteDTO object at 0x106fb0af0>, <dto.Note.NoteDTO object at 0x106fb0b50>, <dto.Note.NoteDTO object at 0x106fb0bb0>, <dto.Note.NoteDTO object at 0x106fb0c10>, <dto.Note.NoteDTO object at 0x106fb0c70>, <dto.Note.NoteDTO object at 0x106fb0cd0>, <dto.Note.NoteDTO object at 0x106fb0d30>, <dto.Note.NoteDTO object at 0x106fb0d90>, <dto.Note.NoteDTO object at 0x106fb0df0>, <dto.Note.NoteDTO object at 0x106fb0e50>, <dto.Note.NoteDTO object at 0x106fb0eb0>, <dto.Note.NoteDTO object at 0x106fb0f10>, <dto.Note.NoteDTO object at 0x106fb0f70>, <dto.Note.NoteDTO object at 0x106fb0fd0>, <dto.Note.NoteDTO object at 0x106fb1030>, <dto.Note.NoteDTO object at 0x106fb1090>, <dto.Note.NoteDTO object at 0x106fb10f0>, <dto.Note.NoteDTO object at 0x106fb1150>, <dto.Note.NoteDTO object at 0x106fb11b0>, <dto.Note.NoteDTO object at 0x106fb1210>, <dto.Note.NoteDTO object at 0x106fb1270>, <dto.Note.NoteDTO object at 0x106fb12d0>, <dto.Note.NoteDTO object at 0x106fb1330>, <dto.Note.NoteDTO object at 0x106fb1390>, <dto.Note.NoteDTO object at 0x106fb13f0>, <dto.Note.NoteDTO object at 0x106fb1450>, <dto.Note.NoteDTO object at 0x106fb14b0>, <dto.Note.NoteDTO object at 0x106fb1510>, <dto.Note.NoteDTO object at 0x106fb1570>, <dto.Note.NoteDTO object at 0x106fb15d0>, <dto.Note.NoteDTO object at 0x106fb1630>, <dto.Note.NoteDTO object at 0x106fb1690>, <dto.Note.NoteDTO object at 0x106fb16f0>, <dto.Note.NoteDTO object at 0x106fb1750>, <dto.Note.NoteDTO object at 0x106fb17b0>, <dto.Note.NoteDTO object at 0x106fb1810>, <dto.Note.NoteDTO object at 0x106fb1870>, <dto.Note.NoteDTO object at 0x106fb18d0>, <dto.Note.NoteDTO object at 0x106fb1930>, <dto.Note.NoteDTO object at 0x106fb1990>, <dto.Note.NoteDTO object at 0x106fb19f0>, <dto.Note.NoteDTO object at 0x106fb1a50>, <dto.Note.NoteDTO object at 0x106fb1ab0>, <dto.Note.NoteDTO object at 0x106fb1b10>, <dto.Note.NoteDTO object at 0x106fb1b70>, <dto.Note.NoteDTO object at 0x106fb1bd0>, <dto.Note.NoteDTO object at 0x106fb1c30>, <dto.Note.NoteDTO object at 0x106fb1c90>, <dto.Note.NoteDTO object at 0x106fb1d20>, <dto.Note.NoteDTO object at 0x106fb1d80>, <dto.Note.NoteDTO object at 0x106fb1de0>, <dto.Note.NoteDTO object at 0x106fb1e40>, <dto.Note.NoteDTO object at 0x106fb1ea0>, <dto.Note.NoteDTO object at 0x106fb1f00>, <dto.Note.NoteDTO object at 0x106fb1f60>, <dto.Note.NoteDTO object at 0x106fb1fc0>, <dto.Note.NoteDTO object at 0x106fb2020>, <dto.Note.NoteDTO object at 0x106fb2080>, <dto.Note.NoteDTO object at 0x106fb20e0>, <dto.Note.NoteDTO object at 0x106fb2140>, <dto.Note.NoteDTO object at 0x106fb21a0>, <dto.Note.NoteDTO object at 0x106fb2200>, <dto.Note.NoteDTO object at 0x106fb2260>, <dto.Note.NoteDTO object at 0x106fb22c0>, <dto.Note.NoteDTO object at 0x106fb2320>, <dto.Note.NoteDTO object at 0x106fb2380>, <dto.Note.NoteDTO object at 0x106fb23e0>, <dto.Note.NoteDTO object at 0x106fb2440>, <dto.Note.NoteDTO object at 0x106fb24a0>, <dto.Note.NoteDTO object at 0x106fb2500>, <dto.Note.NoteDTO object at 0x106fb2560>, <dto.Note.NoteDTO object at 0x106fb25f0>, <dto.Note.NoteDTO object at 0x106fb2680>, <dto.Note.NoteDTO object at 0x106fb26e0>, <dto.Note.NoteDTO object at 0x106fb2620>, <dto.Note.NoteDTO object at 0x106fb2770>, <dto.Note.NoteDTO object at 0x106fb2860>, <dto.Note.NoteDTO object at 0x106fb28c0>, <dto.Note.NoteDTO object at 0x106fb2800>, <dto.Note.NoteDTO object at 0x106fb29b0>, <dto.Note.NoteDTO object at 0x106fb2a10>, <dto.Note.NoteDTO object at 0x106fb2a70>, <dto.Note.NoteDTO object at 0x106fb2ad0>, <dto.Note.NoteDTO object at 0x106fb2b30>, <dto.Note.NoteDTO object at 0x106fb2b90>, <dto.Note.NoteDTO object at 0x106fb2950>, <dto.Note.NoteDTO object at 0x106fb2c80>, <dto.Note.NoteDTO object at 0x106fb2ce0>, <dto.Note.NoteDTO object at 0x106fb2d40>, <dto.Note.NoteDTO object at 0x106fb2da0>, <dto.Note.NoteDTO object at 0x106fb2e00>, <dto.Note.NoteDTO object at 0x106fb2e60>, <dto.Note.NoteDTO object at 0x106fb2ec0>, <dto.Note.NoteDTO object at 0x106fb2f20>, <dto.Note.NoteDTO object at 0x106fb2f80>, <dto.Note.NoteDTO object at 0x106fb2fe0>, <dto.Note.NoteDTO object at 0x106fb3040>, <dto.Note.NoteDTO object at 0x106fb30a0>, <dto.Note.NoteDTO object at 0x106fb3100>, <dto.Note.NoteDTO object at 0x106fb3190>, <dto.Note.NoteDTO object at 0x106fb31f0>, <dto.Note.NoteDTO object at 0x106fb3250>, <dto.Note.NoteDTO object at 0x106fb32b0>, <dto.Note.NoteDTO object at 0x106fb3310>, <dto.Note.NoteDTO object at 0x106fb3370>, <dto.Note.NoteDTO object at 0x106fb33d0>, <dto.Note.NoteDTO object at 0x106fb3430>, <dto.Note.NoteDTO object at 0x106fb3490>, <dto.Note.NoteDTO object at 0x106fb34f0>, <dto.Note.NoteDTO object at 0x106fb3550>, <dto.Note.NoteDTO object at 0x106fb35b0>, <dto.Note.NoteDTO object at 0x106fb3610>, <dto.Note.NoteDTO object at 0x106fb3670>, <dto.Note.NoteDTO object at 0x106fb36d0>, <dto.Note.NoteDTO object at 0x106fb3730>, <dto.Note.NoteDTO object at 0x106fb3790>, <dto.Note.NoteDTO object at 0x106fb37f0>, <dto.Note.NoteDTO object at 0x106fb3850>, <dto.Note.NoteDTO object at 0x106fb38b0>, <dto.Note.NoteDTO object at 0x106fb3910>, <dto.Note.NoteDTO object at 0x106fb3970>, <dto.Note.NoteDTO object at 0x106fb39d0>, <dto.Note.NoteDTO object at 0x106fb3a30>, <dto.Note.NoteDTO object at 0x106fb3a90>, <dto.Note.NoteDTO object at 0x106fb3af0>, <dto.Note.NoteDTO object at 0x106fb3b50>, <dto.Note.NoteDTO object at 0x106fb3bb0>, <dto.Note.NoteDTO object at 0x106fb3c10>, <dto.Note.NoteDTO object at 0x106fb3c70>, <dto.Note.NoteDTO object at 0x106fb3cd0>, <dto.Note.NoteDTO object at 0x106fb3d30>, <dto.Note.NoteDTO object at 0x106fb3d90>, <dto.Note.NoteDTO object at 0x106fb3df0>, <dto.Note.NoteDTO object at 0x106fb3e50>]\n",
      "{'C major': [0, 2, 4, 5, 7, 9, 11], 'A minor': [9, 11, 0, 2, 4, 5, 7], 'A harmonic minor': [9, 11, 0, 2, 4, 5, 8]}\n"
     ]
    }
   ],
   "source": [
    "print(midi_dto.instruments[0].notes)\n",
    "print(eut.key_signature_prototypes)"
   ]
  },
  {
   "cell_type": "code",
   "execution_count": 6,
   "metadata": {},
   "outputs": [
    {
     "name": "stdout",
     "output_type": "stream",
     "text": [
      "[2, 9, 11, 0, 19, 4, 65]\n",
      "MIDI NOTE NUMBERS:  [0, 65, 2, 4, 9, 11, 19]\n",
      "SORTED MIDI NOTE NUMBERS:  [0, 2, 4, 5, 7, 9, 11]\n",
      "MIDI NOTE NUMBERS BEFORE INTERVALS CAL:  [0, 2, 4, 5, 7, 9, 11]\n",
      "Intervals:  [2, 2, 1, 2, 2, 2, 1]\n",
      "C\n",
      "major\n"
     ]
    }
   ],
   "source": [
    "a_minor = [2, 9, 11, 0, 7 + 12, 4, (5 + 12 * 5)]\n",
    "# a_minor = [8, 5, 9, 11, 0, 2, 4]\n",
    "# a_minor = [2, 5, 4, 9, 11, 0, 8]\n",
    "# a_minor = [9, 11, 0, 2, 4, 5, 7]\n",
    "# a_minor = [x + 12 for x in a_minor]\n",
    "\n",
    "print(a_minor)\n",
    "\n",
    "key = eut.key_signature_from_midi_note_numbers(a_minor)\n",
    "print(eut.based_midi_note_numbers[key[0]][0])\n",
    "print(key[1])"
   ]
  },
  {
   "cell_type": "code",
   "execution_count": 7,
   "metadata": {},
   "outputs": [
    {
     "name": "stdout",
     "output_type": "stream",
     "text": [
      "[0, 1, 2, 3, 4, 5]\n",
      "[3, 4, 5, 0, 1, 2]\n"
     ]
    }
   ],
   "source": [
    "midi_note_numbers = [0, 1, 2, 3, 4, 5]\n",
    "print(str(midi_note_numbers))\n",
    "root_note_idx = 3\n",
    "\n",
    "midi_note_numbers = midi_note_numbers[root_note_idx:] + midi_note_numbers[:root_note_idx]\n",
    "print(midi_note_numbers)"
   ]
  }
 ],
 "metadata": {
  "kernelspec": {
   "display_name": "Python 3",
   "language": "python",
   "name": "python3"
  },
  "language_info": {
   "codemirror_mode": {
    "name": "ipython",
    "version": 3
   },
   "file_extension": ".py",
   "mimetype": "text/x-python",
   "name": "python",
   "nbconvert_exporter": "python",
   "pygments_lexer": "ipython3",
   "version": "3.10.10"
  }
 },
 "nbformat": 4,
 "nbformat_minor": 2
}
