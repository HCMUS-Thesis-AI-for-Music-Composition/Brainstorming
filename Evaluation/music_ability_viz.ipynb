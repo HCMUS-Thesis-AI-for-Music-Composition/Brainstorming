{
 "cells": [
  {
   "cell_type": "code",
   "execution_count": 1,
   "metadata": {},
   "outputs": [],
   "source": [
    "hooktheory_midi_dir = \"/Users/4rr311/Documents/VectorA/KHTN/Nam4/HKII/Thesis/Brainstorming/DataCrawling/ProcessedData/midi_from_json_songs\"\n",
    "# model_output_dir = \"/Users/4rr311/Documents/VectorA/KHTN/Nam4/HKII/Thesis/Brainstorming/Evaluation/data_for_testing/model_output/topk15-t1.0-ngram0\"\n",
    "# model_output_dir = \"/Users/4rr311/Documents/VectorA/KHTN/Nam4/HKII/Thesis/Brainstorming/MIDI/Ideas/data/output/topk15-t1.0-ngram0\"\n",
    "\n",
    "# model_output_dir = \"/Users/4rr311/Documents/VectorA/KHTN/Nam4/HKII/Thesis/Brainstorming/Evaluation/data_for_testing/model_output/data for visualization/lora gpt2\"\n",
    "model_output_dir = \"/Users/4rr311/Documents/VectorA/KHTN/Nam4/HKII/Thesis/Brainstorming/Evaluation/data_for_testing/model_output/data for visualization/musecoco arch/midi\""
   ]
  },
  {
   "cell_type": "code",
   "execution_count": 2,
   "metadata": {},
   "outputs": [],
   "source": [
    "import pretty_midi\n",
    "import numpy as np\n",
    "from collections import Counter\n",
    "import os\n",
    "import plotly.express as px"
   ]
  },
  {
   "cell_type": "code",
   "execution_count": 3,
   "metadata": {},
   "outputs": [],
   "source": [
    "# current_idx = 0\n",
    "\n",
    "# indices_to_analyze = [\n",
    "#     0, 1, 2, 3, 4, 5, 6, 7, 8, 9,\n",
    "#     # 10, 11, 12, 13, 14, 15, 16, 17, 18, 19,\n",
    "#     # 55, 56, 57, 58, 59, 60, 61, 62, 63, 64,\n",
    "#     # 100, 101, 102, 103, 104, 105, 106, 107, 108, 109\n",
    "# ]"
   ]
  },
  {
   "cell_type": "code",
   "execution_count": 4,
   "metadata": {},
   "outputs": [],
   "source": [
    "def load_midi(file_path):\n",
    "    return pretty_midi.PrettyMIDI(file_path)\n",
    "\n",
    "def get_notes(midi_data):\n",
    "    notes = []\n",
    "    for instrument in midi_data.instruments:\n",
    "        if not instrument.is_drum:\n",
    "            for note in instrument.notes:\n",
    "                notes.append(note)\n",
    "    return sorted(notes, key=lambda note: note.start)\n",
    "\n",
    "def pitch_counts(notes):\n",
    "    pitches = [note.pitch for note in notes]\n",
    "    return dict(Counter(pitches))\n",
    "\n",
    "def pitch_class_distribution(notes):\n",
    "    pitch_classes = [note.pitch % 12 for note in notes]\n",
    "    return dict(Counter(pitch_classes))\n",
    "\n",
    "def pitch_class_transition_matrix(notes):\n",
    "    pitch_classes = [note.pitch % 12 for note in notes]\n",
    "    transition_matrix = np.zeros((12, 12))\n",
    "    for i in range(len(pitch_classes) - 1):\n",
    "        transition_matrix[pitch_classes[i], pitch_classes[i + 1]] += 1\n",
    "    return transition_matrix / transition_matrix.sum(axis=1, keepdims=True)\n",
    "\n",
    "def pitch_range(notes):\n",
    "    pitches = [note.pitch for note in notes]\n",
    "    return max(pitches) - min(pitches)\n",
    "\n",
    "def average_pitch_intervals(notes):\n",
    "    pitch_intervals = [notes[i + 1].pitch - notes[i].pitch for i in range(len(notes) - 1)]\n",
    "    return np.mean(pitch_intervals), np.std(pitch_intervals)\n",
    "\n",
    "def average_inter_onset_intervals(notes):\n",
    "    inter_onset_intervals = [notes[i + 1].start - notes[i].start for i in range(len(notes) - 1)]\n",
    "    return np.mean(inter_onset_intervals), np.std(inter_onset_intervals)\n",
    "\n",
    "def note_count(notes):\n",
    "    return len(notes)\n",
    "\n",
    "def note_length_transition_matrix(notes):\n",
    "    note_lengths = [note.end - note.start for note in notes]\n",
    "    unique_lengths = sorted(set(note_lengths))\n",
    "    length_to_idx = {length: idx for idx, length in enumerate(unique_lengths)}\n",
    "    transition_matrix = np.zeros((len(unique_lengths), len(unique_lengths)))\n",
    "    \n",
    "    for i in range(len(note_lengths) - 1):\n",
    "        current_length = note_lengths[i]\n",
    "        next_length = note_lengths[i + 1]\n",
    "        transition_matrix[length_to_idx[current_length], length_to_idx[next_length]] += 1\n",
    "    \n",
    "    return transition_matrix / transition_matrix.sum(axis=1, keepdims=True)\n",
    "\n",
    "def analyze_midi(file_path):\n",
    "    midi_data = load_midi(file_path)\n",
    "    notes = get_notes(midi_data)\n",
    "\n",
    "    analysis = {}\n",
    "    \n",
    "    if len(notes) != 0:\n",
    "        analysis = {\n",
    "            'pitch_counts': pitch_counts(notes),\n",
    "            'pitch_class_distribution': pitch_class_distribution(notes),\n",
    "            # 'pitch_class_transition_matrix': pitch_class_transition_matrix(notes),\n",
    "            # 'pitch_range': pitch_range(notes),\n",
    "            # 'average_pitch_intervals': average_pitch_intervals(notes),\n",
    "            # 'average_inter_onset_intervals': average_inter_onset_intervals(notes),\n",
    "            'note_count': note_count(notes),\n",
    "            # 'note_length_transition_matrix': note_length_transition_matrix(notes)\n",
    "        }\n",
    "    else:\n",
    "        pass\n",
    "    return analysis\n",
    "\n",
    "def analyze_midi_folder(folder_path, max_file_count=10000):\n",
    "    results = {}\n",
    "\n",
    "    current_file_count = 0\n",
    "    # Walk recursively\n",
    "    # for file_name in os.listdir(folder_path):\n",
    "    #     if file_name.endswith('.mid') or file_name.endswith('.midi'):\n",
    "    #         current_file_count += 1\n",
    "    #         if current_file_count > max_file_count:\n",
    "    #             break\n",
    "    #         else:\n",
    "    #             file_path = os.path.join(folder_path, file_name)\n",
    "    #             print(f\"Analyzing file {current_file_count} of {max_file_count} - {file_name}\")\n",
    "    #             results[file_name] = analyze_midi(file_path)\n",
    "    global current_idx\n",
    "    global indices_to_analyze\n",
    "\n",
    "    for root, dirs, files in os.walk(folder_path):\n",
    "        for file_name in files:\n",
    "            # if current_idx not in indices_to_analyze:\n",
    "            #     current_idx += 1\n",
    "            #     continue\n",
    "            # else:\n",
    "            #     current_idx += 1\n",
    "                \n",
    "            if file_name.endswith('.mid') or file_name.endswith('.midi'):\n",
    "                current_file_count += 1\n",
    "                if current_file_count > max_file_count:\n",
    "                    break\n",
    "                else:\n",
    "                    file_path = os.path.join(root, file_name)\n",
    "                    print(f\"Analyzing file {current_file_count} of {max_file_count} - {file_name}\")\n",
    "                    results[file_name] = analyze_midi(file_path)\n",
    "    \n",
    "    current_idx = 0\n",
    "    \n",
    "    return results"
   ]
  },
  {
   "cell_type": "code",
   "execution_count": 5,
   "metadata": {},
   "outputs": [],
   "source": [
    "def average_analysis_results(analysis_results):\n",
    "    average_results = {\n",
    "        \"pitch_counts\": dict[int, float](),\n",
    "        \"pitch_class_distribution\": dict[int, float](),\n",
    "        \"note_count\": int(0)\n",
    "    }\n",
    "    \n",
    "    n_files = len(analysis_results)\n",
    "\n",
    "    for file_name, analysis in analysis_results.items():\n",
    "        for key, value in analysis.items():\n",
    "            if key == 'pitch_counts':\n",
    "                for pitch, v in value.items():\n",
    "                    if pitch not in average_results[\"pitch_counts\"]:\n",
    "                        average_results[\"pitch_counts\"][pitch] = v / n_files\n",
    "                    else:\n",
    "                        average_results[\"pitch_counts\"][pitch] += v / n_files\n",
    "            elif key == 'pitch_class_distribution':\n",
    "                for pitch_class, v in value.items():\n",
    "                    if pitch_class not in average_results[\"pitch_class_distribution\"]:\n",
    "                        average_results[\"pitch_class_distribution\"][pitch_class] = v / n_files\n",
    "                    else:\n",
    "                        average_results[\"pitch_class_distribution\"][pitch_class] += v / n_files\n",
    "            elif key == 'note_count':\n",
    "                average_results[key] += value / n_files\n",
    "            else:\n",
    "                pass\n",
    "    \n",
    "    return average_results"
   ]
  },
  {
   "cell_type": "markdown",
   "metadata": {},
   "source": [
    "# Hooktheory"
   ]
  },
  {
   "cell_type": "code",
   "execution_count": 6,
   "metadata": {},
   "outputs": [
    {
     "name": "stdout",
     "output_type": "stream",
     "text": [
      "Analyzing file 1 of 100 - d_deerhunter_back-to-the-middle_Solo_AQodPXyKoDl.mid\n",
      "Analyzing file 2 of 100 - t_the-beatles_a-hard-days-night_Intro_ZwxK_QNbxed.mid\n",
      "Analyzing file 3 of 100 - n_niall-horan_still_Bridge_jDgXdDVegKl.mid\n",
      "Analyzing file 4 of 100 - a_ashe_love-is-not-enough_Pre-Chorus_yvgPQdedxYq.mid\n",
      "Analyzing file 5 of 100 - b_bryan-scary_operaland_Chorus_DpgvRAkdgad.mid\n",
      "Analyzing file 6 of 100 - j_jimmy-fontanez_urban-lullaby_Verse_Wegl_wa-mrY.mid\n",
      "Analyzing file 7 of 100 - h_hirohiko-takayama_hudsons-adventure-island-iii---thunder-clash_Instrumental_yvmrLZGzxOW.mid\n",
      "Analyzing file 8 of 100 - h_hitomi-yaida_ashita-kara-no-tegami_Intro and Verse_AaoGbakPxeQ.mid\n",
      "Analyzing file 9 of 100 - b_billy-idol_white-wedding_Chorus_eWxLdzOpxaK.mid\n",
      "Analyzing file 10 of 100 - l_lawrence_the-heartburn-song_Verse_ROmNkROngNw.mid\n",
      "Analyzing file 11 of 100 - m_miguel_goingtohell_Verse_zngREQNMmJj.mid\n",
      "Analyzing file 12 of 100 - b_bensound_elevator-bossa-nova_Intro and Verse_d_gwnZ_QmGV.mid\n",
      "Analyzing file 13 of 100 - c_coralie-clement_samba-de-mon-coeur-qui-bat_Verse_AaoGyZvkgeQ.mid\n",
      "Analyzing file 14 of 100 - n_nintendo_tetris-attack---water-stage_Verse_kwxAnkRDoKG.mid\n",
      "Analyzing file 15 of 100 - g_glenn-miller_in-the-mood_Verse_RPxepXOLgb_.mid\n",
      "Analyzing file 16 of 100 - c_clean-bandit-ft-zara-larsson_symphony_Verse_QLgnwrZPx-V.mid\n",
      "Analyzing file 17 of 100 - y_yellow-magic-orchestra_rydeen_Verse_veoYaqPGodn.mid\n",
      "Analyzing file 18 of 100 - s_scott-joplin_peacherine-rag_Outro_kwxA-dAQxKG.mid\n",
      "Analyzing file 19 of 100 - j_jeff-rosenstock_festival-song_Verse_KexEyMzKx_B.mid\n",
      "Analyzing file 20 of 100 - s_santo-and-johnny_sleep-walk_Verse_JkmZBDKZmqn.mid\n",
      "Analyzing file 21 of 100 - r_rina-sawayama_snakeskin_Intro_JNgqkbdworz.mid\n",
      "Analyzing file 22 of 100 - b_bill-wurtz_hi-im-steve_Solo 2_eWxLykMEoaK.mid\n",
      "Analyzing file 23 of 100 - t_the-beatles_all-my-loving_Solo_AQod-KArmDl.mid\n",
      "Analyzing file 24 of 100 - t_taylor-swift_wouldve-couldve-shouldve_Outro_veoYArzyodn.mid\n",
      "Analyzing file 25 of 100 - k_kevin-macleod_mining-by-moonlight_Verse_nJmB_jekgAV.mid\n",
      "Analyzing file 26 of 100 - a_ashlee-simpson_pieces-of-me_Verse__NgbnvXbgQA.mid\n",
      "Analyzing file 27 of 100 - m_michiru-yamane_castlevania-por---gaze-up-at-the-darkness_Solo 1_ZwxK_MkZxed.mid\n",
      "Analyzing file 28 of 100 - k_katy-perry_california-gurls_Chorus_JkmZkDjbgqn.mid\n",
      "Analyzing file 29 of 100 - p_paul-mccartney_keep-under-cover_Chorus_kwxA_WbWmKG.mid\n",
      "Analyzing file 30 of 100 - h_hertzdevil_stage-50_Verse_yvmrlOEZxOW.mid\n",
      "Analyzing file 31 of 100 - e_etta-james_a-sunday-kind-of-love_Pre-Outro_VMgJDbRWoqK.mid\n",
      "Analyzing file 32 of 100 - o_of-montreal_its-a-very-starry-night_Verse_nLgaZza_xYp.mid\n",
      "Analyzing file 33 of 100 - p_paty-cantu_no-fue-suficiente_Chorus_nvgywa-OokA.mid\n",
      "Analyzing file 34 of 100 - c_czeslaw-niemen_pod-papugami_Chorus_yvmraNNaoOW.mid\n",
      "Analyzing file 35 of 100 - b_brian-chard_champd-up---create-3_Intro_nvgyllb-mkA.mid\n",
      "Analyzing file 36 of 100 - b_brian-tyler_formula-1-theme_Chorus_ANmprQQOxyM.mid\n",
      "Analyzing file 37 of 100 - m_mid-air-thief_these-chains_Chorus_QLgnAJJEm-V.mid\n",
      "Analyzing file 38 of 100 - e_eric-prydz_call-on-me_Chorus_lamkpZnegDM.mid\n",
      "Analyzing file 39 of 100 - k_kevin-macleod_brightly-fancy_Verse_veoYkB-agdn.mid\n",
      "Analyzing file 40 of 100 - g_genesis_seven-stones_Intro_RzojZlBQoDe.mid\n",
      "Analyzing file 41 of 100 - k_king-crimson_i-talk-to-the-wind_Verse_dPoD_bpdxnM.mid\n",
      "Analyzing file 42 of 100 - s_silent-partner_last-call_Chorus_AQodnMPqgDl.mid\n",
      "Analyzing file 43 of 100 - r_rhythm-heaven-fever_struck-by-the-rain_Chorus_LAgQezQEgyO.mid\n",
      "Analyzing file 44 of 100 - z_zach-bryan_something-in-the-orange_Chorus_nLgaKRd_oYp.mid\n",
      "Analyzing file 45 of 100 - l_lady-gaga_marry-the-night_Outro_LAgQqKyegyO.mid\n",
      "Analyzing file 46 of 100 - p_porter-robinson_get-your-wish_Pre-Chorus_ZwxKbXJjged.mid\n",
      "Analyzing file 47 of 100 - g_gold-motel_stealing-the-moonlight_Pre-Chorus_KexEpXwvg_B.mid\n",
      "Analyzing file 48 of 100 - y_yeule_pocky-boy_Verse_jDgXlMRqgKl.mid\n",
      "Analyzing file 49 of 100 - m_michael-jackson_the-way-you-make-me-feel_Pre-Chorus_kwxAn-kQoKG.mid\n",
      "Analyzing file 50 of 100 - f_fergie_a-little-party-never-killed-nobody_Verse_kygzVRZzgKB.mid\n",
      "Analyzing file 51 of 100 - m_megan-thee-stallion-and-dua-lipa_sweetest-pie_Bridge_Weglqnz-xrY.mid\n",
      "Analyzing file 52 of 100 - j_johnny-hates-jazz_shattered-dreams_Intro_Abm_dPEJgak.mid\n",
      "Analyzing file 53 of 100 - b_black-country-new-road_the-place-where-he-inserted-the-blade_Verse_WeglrWraorY.mid\n",
      "Analyzing file 54 of 100 - a_alexandra-burke_hallelujah_Verse_JkmZZLWJmqn.mid\n",
      "Analyzing file 55 of 100 - m_men-without-hats_the-safety-dance_Chorus_yvmrZ_yZmOW.mid\n",
      "Analyzing file 56 of 100 - n_nikolai-rimsky-korsakov_flight-of-the-bumblebee_Intro and Verse_Wegl_zEYmrY.mid\n",
      "Analyzing file 57 of 100 - j_jj-lin_back-to-back_Chorus_zngRyOQVmJj.mid\n",
      "Analyzing file 58 of 100 - p_paramore_looking-up_Intro_bWgMlXRXmlX.mid\n",
      "Analyzing file 59 of 100 - n_nintendo_green-tree-memories---super-kirby-clash_Intro_bWgMQAXXglX.mid\n",
      "Analyzing file 60 of 100 - o_of-montreal_good-morning-mr-edminton_Chorus_kygzJBJbgKB.mid\n",
      "Analyzing file 61 of 100 - t_the-hush-sound_as-you-cry_Bridge_ZwxKdXMGoed.mid\n",
      "Analyzing file 62 of 100 - t_the-knife_you-take-my-breath-away_Chorus_VMgJJQLAgqK.mid\n",
      "Analyzing file 63 of 100 - l_labrinth_dotted-line---juju-man_Chorus_d_gwpl-MxGV.mid\n",
      "Analyzing file 64 of 100 - h_hololive_usada-pekora-bgm_Chorus_zngRlvOAoJj.mid\n",
      "Analyzing file 65 of 100 - a_absofacto_dissolve_Chorus_d_gwaMNroGV.mid\n",
      "Analyzing file 66 of 100 - t_the-bucketheads_the-bomb-%28these-sound-fall-into-my-mind%29_Pre-Chorus_JNgqzWOXxrz.mid\n",
      "Analyzing file 67 of 100 - t_the-divine-comedy_lost-property_Chorus_yvgPAVAAxYq.mid\n",
      "Analyzing file 68 of 100 - b_bee-gees_how-deep-is-your-love_Pre-Chorus_nLgapljbmYp.mid\n",
      "Analyzing file 69 of 100 - r_roar_just-a-fan_Chorus Lead-Out_lamkleVegDM.mid\n",
      "Analyzing file 70 of 100 - m_mayday_donts-donts_Verse_nJmB-yaAoAV.mid\n",
      "Analyzing file 71 of 100 - j_josh-woodward_prelude-no-24_Verse_eWxLJaYqmaK.mid\n",
      "Analyzing file 72 of 100 - b_bjork_venus-as-a-boy_Bridge_VMgJlMjaoqK.mid\n",
      "Analyzing file 73 of 100 - b_billy-joel_this-is-the-time_Intro_nvgyKlerokA.mid\n",
      "Analyzing file 74 of 100 - g_gorillaz_doncamatic-ft-daley_Intro_QLgnnaPEg-V.mid\n",
      "Analyzing file 75 of 100 - a_area-11_%28break%29-in-case-of_Bridge_yvgPjVZBoYq.mid\n",
      "Analyzing file 76 of 100 - j_jukebox-the-ghost_everybody-knows_Verse_nvgyE_OXgkA.mid\n",
      "Analyzing file 77 of 100 - s_setsuna-yuuki_love-live---dive_Chorus Lead-Out_veoYv-Mnmdn.mid\n",
      "Analyzing file 78 of 100 - h_henrique-lorenzi_on-the-line-%28ninjin-opening-credits-theme%29_Instrumental_bWgMkYDPolX.mid\n",
      "Analyzing file 79 of 100 - b_bruno-major_easily_Chorus_RPxeE-qaxb_.mid\n",
      "Analyzing file 80 of 100 - m_miles-davis_blue-in-green_Intro_eWxLDeJkxaK.mid\n",
      "Analyzing file 81 of 100 - e_erik-satie_gnossienne-no-1_Chorus_JNgqRrJnxrz.mid\n",
      "Analyzing file 82 of 100 - a_ariana-grande_santa-tell-me_Verse and Pre-Chorus_nJmB-PrboAV.mid\n",
      "Analyzing file 83 of 100 - p_pippin-%28new-broadway-cast%29_corner-of-the-sky_Verse_WeglpedlgrY.mid\n",
      "Analyzing file 84 of 100 - t_the-mccoys_hang-on-sloopy_Chorus_nLgaPKWZmYp.mid\n",
      "Analyzing file 85 of 100 - k_kazuma-kiryu_baka-mitai_Chorus_ZOxVvjEAxdq.mid\n",
      "Analyzing file 86 of 100 - z_zun_retrospective-kyoto_Intro and Verse_eWxLylGqoaK.mid\n",
      "Analyzing file 87 of 100 - m_magdalena-bay_you-lose_Chorus_WeglQBV-xrY.mid\n",
      "Analyzing file 88 of 100 - b_bryan-scary_dgo_Chorus_ZbgODENbxnY.mid\n",
      "Analyzing file 89 of 100 - f_fullmetal-alchemist-brotherhood_trishas-lullaby_Verse_WeglQ_bAxrY.mid\n",
      "Analyzing file 90 of 100 - g_garbage_big-bright-world_Verse_VMgJjZXDgqK.mid\n",
      "Analyzing file 91 of 100 - h_hozier_take-me-to-church_Chorus_nLgaPkrBmYp.mid\n",
      "Analyzing file 92 of 100 - b_ben-folds_the-luckiest_Verse_AQodpGJBoDl.mid\n",
      "Analyzing file 93 of 100 - m_maison-ware_save-my-soul_Chorus_yvgPjMpAoYq.mid\n",
      "Analyzing file 94 of 100 - y_yazoo_dont-go_Pre-Chorus and Chorus_nvgyjyzexkA.mid\n",
      "Analyzing file 95 of 100 - k_kali-uchis_miami_Bridge_ZbgOpQpQxnY.mid\n",
      "Analyzing file 96 of 100 - e_eisley_go-away_Intro_ZwxKbNawged.mid\n",
      "Analyzing file 97 of 100 - b_bananarama_love-truth-and-honesty_Chorus_nLgadYyEmYp.mid\n",
      "Analyzing file 98 of 100 - s_silent-partner_country-blues_Verse_YAg-P_wPmle.mid\n",
      "Analyzing file 99 of 100 - n_nintendo_versus-victory---dr-mario_Intro and Verse_LAgQenBvgyO.mid\n",
      "Analyzing file 100 of 100 - c_christopher-cross_arthurs-theme-%28best-that-you-can-do%29_Chorus_Wegl_WYJmrY.mid\n"
     ]
    }
   ],
   "source": [
    "folder_path = hooktheory_midi_dir\n",
    "n_file_to_analyze = 29038\n",
    "n_file_to_analyze = 100\n",
    "\n",
    "analysis_results = analyze_midi_folder(folder_path, n_file_to_analyze)"
   ]
  },
  {
   "cell_type": "code",
   "execution_count": 7,
   "metadata": {},
   "outputs": [
    {
     "name": "stdout",
     "output_type": "stream",
     "text": [
      "1 of 100 result - d_deerhunter_back-to-the-middle_Solo_AQodPXyKoDl.mid:\n",
      "  pitch_counts: {71: 14, 59: 2, 62: 2, 66: 16, 35: 2, 73: 6, 68: 24, 57: 2, 61: 12, 64: 14, 33: 2, 69: 2, 42: 2, 40: 2, 37: 2}\n",
      "  pitch_class_distribution: {11: 18, 2: 2, 6: 18, 1: 20, 8: 24, 9: 6, 4: 16}\n",
      "  note_count: 104\n"
     ]
    }
   ],
   "source": [
    "n_file_to_print = 1\n",
    "\n",
    "current_file = 0\n",
    "\n",
    "# Print results\n",
    "for file_name, analysis in analysis_results.items():\n",
    "    if current_file < n_file_to_print:\n",
    "        current_file += 1\n",
    "        print(f\"{current_file} of {n_file_to_analyze} result - {file_name}:\")\n",
    "\n",
    "        for key, value in analysis.items():\n",
    "            print(f\"  {key}: {value}\")\n",
    "    else:\n",
    "        break"
   ]
  },
  {
   "cell_type": "code",
   "execution_count": 8,
   "metadata": {},
   "outputs": [
    {
     "name": "stdout",
     "output_type": "stream",
     "text": [
      "Average results:\n",
      "  pitch_counts: {71: 4.09, 59: 4.319999999999999, 62: 7.209999999999999, 66: 5.18, 35: 1.4400000000000004, 73: 2.08, 68: 4.749999999999999, 57: 3.4499999999999984, 61: 4.339999999999998, 64: 5.969999999999999, 33: 1.3500000000000005, 69: 5.6099999999999985, 42: 0.39999999999999997, 40: 0.6300000000000001, 37: 0.9000000000000001, 65: 6.089999999999997, 67: 7.349999999999999, 72: 3.4899999999999993, 38: 1.0800000000000005, 60: 4.889999999999995, 77: 1.1900000000000004, 75: 1.5600000000000005, 44: 0.21000000000000002, 56: 1.6000000000000003, 63: 4.509999999999997, 32: 0.6800000000000002, 58: 3.549999999999999, 51: 0.6700000000000002, 55: 2.6399999999999992, 27: 0.48, 34: 1.3600000000000005, 36: 1.0500000000000003, 76: 1.4200000000000006, 74: 2.609999999999999, 78: 1.0900000000000003, 79: 0.9400000000000003, 81: 0.37, 82: 0.3800000000000001, 70: 3.3299999999999987, 45: 0.25, 80: 0.4700000000000001, 83: 0.19999999999999998, 85: 0.21000000000000002, 87: 0.07, 39: 0.48000000000000004, 53: 1.3300000000000005, 29: 0.76, 31: 1.3400000000000005, 41: 0.5900000000000001, 50: 0.7300000000000002, 54: 1.3300000000000003, 26: 0.6200000000000001, 52: 0.9000000000000001, 28: 0.39999999999999997, 47: 0.04, 48: 0.28, 24: 0.26, 30: 0.5800000000000001, 84: 0.26, 86: 0.08, 46: 0.14, 43: 0.3800000000000001, 88: 0.09, 89: 0.09, 91: 0.02, 49: 0.16999999999999998, 25: 0.09999999999999999, 93: 0.01}\n",
      "  pitch_class_distribution: {11: 10.089999999999996, 2: 12.329999999999995, 6: 8.58, 1: 7.799999999999995, 8: 7.709999999999996, 9: 11.039999999999997, 4: 9.410000000000002, 5: 10.049999999999997, 7: 12.669999999999995, 0: 10.229999999999999, 3: 7.769999999999999, 10: 8.759999999999996}\n",
      "  note_count: 116.44000000000007\n"
     ]
    }
   ],
   "source": [
    "average_results = average_analysis_results(analysis_results)\n",
    "\n",
    "# Print average results\n",
    "print(\"Average results:\")\n",
    "for key, value in average_results.items():\n",
    "    print(f\"  {key}: {value}\")\n",
    "\n",
    "# Save average results to file\n",
    "# with open('average_results.json', 'w') as f:\n",
    "#     json.dump(average_results, f, indent=4)\n",
    "\n",
    "# Save analysis results to file\n",
    "# with open('analysis_results.json', 'w') as f:\n",
    "#     json.dump(analysis_results, f, indent=4)"
   ]
  },
  {
   "cell_type": "code",
   "execution_count": 9,
   "metadata": {},
   "outputs": [
    {
     "data": {
      "application/vnd.plotly.v1+json": {
       "config": {
        "plotlyServerURL": "https://plot.ly"
       },
       "data": [
        {
         "alignmentgroup": "True",
         "hovertemplate": "x=%{x}<br>y=%{y}<extra></extra>",
         "legendgroup": "",
         "marker": {
          "color": "rgb(158,202,225)",
          "line": {
           "color": "rgb(8,48,107)",
           "width": 1.5
          },
          "pattern": {
           "shape": ""
          }
         },
         "name": "",
         "offsetgroup": "",
         "opacity": 0.6,
         "orientation": "h",
         "showlegend": false,
         "textposition": "auto",
         "type": "bar",
         "x": [
          4.09,
          4.319999999999999,
          7.209999999999999,
          5.18,
          1.4400000000000004,
          2.08,
          4.749999999999999,
          3.4499999999999984,
          4.339999999999998,
          5.969999999999999,
          1.3500000000000005,
          5.6099999999999985,
          0.39999999999999997,
          0.6300000000000001,
          0.9000000000000001,
          6.089999999999997,
          7.349999999999999,
          3.4899999999999993,
          1.0800000000000005,
          4.889999999999995,
          1.1900000000000004,
          1.5600000000000005,
          0.21000000000000002,
          1.6000000000000003,
          4.509999999999997,
          0.6800000000000002,
          3.549999999999999,
          0.6700000000000002,
          2.6399999999999992,
          0.48,
          1.3600000000000005,
          1.0500000000000003,
          1.4200000000000006,
          2.609999999999999,
          1.0900000000000003,
          0.9400000000000003,
          0.37,
          0.3800000000000001,
          3.3299999999999987,
          0.25,
          0.4700000000000001,
          0.19999999999999998,
          0.21000000000000002,
          0.07,
          0.48000000000000004,
          1.3300000000000005,
          0.76,
          1.3400000000000005,
          0.5900000000000001,
          0.7300000000000002,
          1.3300000000000003,
          0.6200000000000001,
          0.9000000000000001,
          0.39999999999999997,
          0.04,
          0.28,
          0.26,
          0.5800000000000001,
          0.26,
          0.08,
          0.14,
          0.3800000000000001,
          0.09,
          0.09,
          0.02,
          0.16999999999999998,
          0.09999999999999999,
          0.01
         ],
         "xaxis": "x",
         "y": [
          71,
          59,
          62,
          66,
          35,
          73,
          68,
          57,
          61,
          64,
          33,
          69,
          42,
          40,
          37,
          65,
          67,
          72,
          38,
          60,
          77,
          75,
          44,
          56,
          63,
          32,
          58,
          51,
          55,
          27,
          34,
          36,
          76,
          74,
          78,
          79,
          81,
          82,
          70,
          45,
          80,
          83,
          85,
          87,
          39,
          53,
          29,
          31,
          41,
          50,
          54,
          26,
          52,
          28,
          47,
          48,
          24,
          30,
          84,
          86,
          46,
          43,
          88,
          89,
          91,
          49,
          25,
          93
         ],
         "yaxis": "y"
        }
       ],
       "layout": {
        "autosize": false,
        "barmode": "overlay",
        "font": {
         "size": 13
        },
        "height": 1200,
        "legend": {
         "tracegroupgap": 0
        },
        "margin": {
         "t": 60
        },
        "plot_bgcolor": "white",
        "template": {
         "data": {
          "bar": [
           {
            "error_x": {
             "color": "#2a3f5f"
            },
            "error_y": {
             "color": "#2a3f5f"
            },
            "marker": {
             "line": {
              "color": "#E5ECF6",
              "width": 0.5
             },
             "pattern": {
              "fillmode": "overlay",
              "size": 10,
              "solidity": 0.2
             }
            },
            "type": "bar"
           }
          ],
          "barpolar": [
           {
            "marker": {
             "line": {
              "color": "#E5ECF6",
              "width": 0.5
             },
             "pattern": {
              "fillmode": "overlay",
              "size": 10,
              "solidity": 0.2
             }
            },
            "type": "barpolar"
           }
          ],
          "carpet": [
           {
            "aaxis": {
             "endlinecolor": "#2a3f5f",
             "gridcolor": "white",
             "linecolor": "white",
             "minorgridcolor": "white",
             "startlinecolor": "#2a3f5f"
            },
            "baxis": {
             "endlinecolor": "#2a3f5f",
             "gridcolor": "white",
             "linecolor": "white",
             "minorgridcolor": "white",
             "startlinecolor": "#2a3f5f"
            },
            "type": "carpet"
           }
          ],
          "choropleth": [
           {
            "colorbar": {
             "outlinewidth": 0,
             "ticks": ""
            },
            "type": "choropleth"
           }
          ],
          "contour": [
           {
            "colorbar": {
             "outlinewidth": 0,
             "ticks": ""
            },
            "colorscale": [
             [
              0,
              "#0d0887"
             ],
             [
              0.1111111111111111,
              "#46039f"
             ],
             [
              0.2222222222222222,
              "#7201a8"
             ],
             [
              0.3333333333333333,
              "#9c179e"
             ],
             [
              0.4444444444444444,
              "#bd3786"
             ],
             [
              0.5555555555555556,
              "#d8576b"
             ],
             [
              0.6666666666666666,
              "#ed7953"
             ],
             [
              0.7777777777777778,
              "#fb9f3a"
             ],
             [
              0.8888888888888888,
              "#fdca26"
             ],
             [
              1,
              "#f0f921"
             ]
            ],
            "type": "contour"
           }
          ],
          "contourcarpet": [
           {
            "colorbar": {
             "outlinewidth": 0,
             "ticks": ""
            },
            "type": "contourcarpet"
           }
          ],
          "heatmap": [
           {
            "colorbar": {
             "outlinewidth": 0,
             "ticks": ""
            },
            "colorscale": [
             [
              0,
              "#0d0887"
             ],
             [
              0.1111111111111111,
              "#46039f"
             ],
             [
              0.2222222222222222,
              "#7201a8"
             ],
             [
              0.3333333333333333,
              "#9c179e"
             ],
             [
              0.4444444444444444,
              "#bd3786"
             ],
             [
              0.5555555555555556,
              "#d8576b"
             ],
             [
              0.6666666666666666,
              "#ed7953"
             ],
             [
              0.7777777777777778,
              "#fb9f3a"
             ],
             [
              0.8888888888888888,
              "#fdca26"
             ],
             [
              1,
              "#f0f921"
             ]
            ],
            "type": "heatmap"
           }
          ],
          "heatmapgl": [
           {
            "colorbar": {
             "outlinewidth": 0,
             "ticks": ""
            },
            "colorscale": [
             [
              0,
              "#0d0887"
             ],
             [
              0.1111111111111111,
              "#46039f"
             ],
             [
              0.2222222222222222,
              "#7201a8"
             ],
             [
              0.3333333333333333,
              "#9c179e"
             ],
             [
              0.4444444444444444,
              "#bd3786"
             ],
             [
              0.5555555555555556,
              "#d8576b"
             ],
             [
              0.6666666666666666,
              "#ed7953"
             ],
             [
              0.7777777777777778,
              "#fb9f3a"
             ],
             [
              0.8888888888888888,
              "#fdca26"
             ],
             [
              1,
              "#f0f921"
             ]
            ],
            "type": "heatmapgl"
           }
          ],
          "histogram": [
           {
            "marker": {
             "pattern": {
              "fillmode": "overlay",
              "size": 10,
              "solidity": 0.2
             }
            },
            "type": "histogram"
           }
          ],
          "histogram2d": [
           {
            "colorbar": {
             "outlinewidth": 0,
             "ticks": ""
            },
            "colorscale": [
             [
              0,
              "#0d0887"
             ],
             [
              0.1111111111111111,
              "#46039f"
             ],
             [
              0.2222222222222222,
              "#7201a8"
             ],
             [
              0.3333333333333333,
              "#9c179e"
             ],
             [
              0.4444444444444444,
              "#bd3786"
             ],
             [
              0.5555555555555556,
              "#d8576b"
             ],
             [
              0.6666666666666666,
              "#ed7953"
             ],
             [
              0.7777777777777778,
              "#fb9f3a"
             ],
             [
              0.8888888888888888,
              "#fdca26"
             ],
             [
              1,
              "#f0f921"
             ]
            ],
            "type": "histogram2d"
           }
          ],
          "histogram2dcontour": [
           {
            "colorbar": {
             "outlinewidth": 0,
             "ticks": ""
            },
            "colorscale": [
             [
              0,
              "#0d0887"
             ],
             [
              0.1111111111111111,
              "#46039f"
             ],
             [
              0.2222222222222222,
              "#7201a8"
             ],
             [
              0.3333333333333333,
              "#9c179e"
             ],
             [
              0.4444444444444444,
              "#bd3786"
             ],
             [
              0.5555555555555556,
              "#d8576b"
             ],
             [
              0.6666666666666666,
              "#ed7953"
             ],
             [
              0.7777777777777778,
              "#fb9f3a"
             ],
             [
              0.8888888888888888,
              "#fdca26"
             ],
             [
              1,
              "#f0f921"
             ]
            ],
            "type": "histogram2dcontour"
           }
          ],
          "mesh3d": [
           {
            "colorbar": {
             "outlinewidth": 0,
             "ticks": ""
            },
            "type": "mesh3d"
           }
          ],
          "parcoords": [
           {
            "line": {
             "colorbar": {
              "outlinewidth": 0,
              "ticks": ""
             }
            },
            "type": "parcoords"
           }
          ],
          "pie": [
           {
            "automargin": true,
            "type": "pie"
           }
          ],
          "scatter": [
           {
            "fillpattern": {
             "fillmode": "overlay",
             "size": 10,
             "solidity": 0.2
            },
            "type": "scatter"
           }
          ],
          "scatter3d": [
           {
            "line": {
             "colorbar": {
              "outlinewidth": 0,
              "ticks": ""
             }
            },
            "marker": {
             "colorbar": {
              "outlinewidth": 0,
              "ticks": ""
             }
            },
            "type": "scatter3d"
           }
          ],
          "scattercarpet": [
           {
            "marker": {
             "colorbar": {
              "outlinewidth": 0,
              "ticks": ""
             }
            },
            "type": "scattercarpet"
           }
          ],
          "scattergeo": [
           {
            "marker": {
             "colorbar": {
              "outlinewidth": 0,
              "ticks": ""
             }
            },
            "type": "scattergeo"
           }
          ],
          "scattergl": [
           {
            "marker": {
             "colorbar": {
              "outlinewidth": 0,
              "ticks": ""
             }
            },
            "type": "scattergl"
           }
          ],
          "scattermapbox": [
           {
            "marker": {
             "colorbar": {
              "outlinewidth": 0,
              "ticks": ""
             }
            },
            "type": "scattermapbox"
           }
          ],
          "scatterpolar": [
           {
            "marker": {
             "colorbar": {
              "outlinewidth": 0,
              "ticks": ""
             }
            },
            "type": "scatterpolar"
           }
          ],
          "scatterpolargl": [
           {
            "marker": {
             "colorbar": {
              "outlinewidth": 0,
              "ticks": ""
             }
            },
            "type": "scatterpolargl"
           }
          ],
          "scatterternary": [
           {
            "marker": {
             "colorbar": {
              "outlinewidth": 0,
              "ticks": ""
             }
            },
            "type": "scatterternary"
           }
          ],
          "surface": [
           {
            "colorbar": {
             "outlinewidth": 0,
             "ticks": ""
            },
            "colorscale": [
             [
              0,
              "#0d0887"
             ],
             [
              0.1111111111111111,
              "#46039f"
             ],
             [
              0.2222222222222222,
              "#7201a8"
             ],
             [
              0.3333333333333333,
              "#9c179e"
             ],
             [
              0.4444444444444444,
              "#bd3786"
             ],
             [
              0.5555555555555556,
              "#d8576b"
             ],
             [
              0.6666666666666666,
              "#ed7953"
             ],
             [
              0.7777777777777778,
              "#fb9f3a"
             ],
             [
              0.8888888888888888,
              "#fdca26"
             ],
             [
              1,
              "#f0f921"
             ]
            ],
            "type": "surface"
           }
          ],
          "table": [
           {
            "cells": {
             "fill": {
              "color": "#EBF0F8"
             },
             "line": {
              "color": "white"
             }
            },
            "header": {
             "fill": {
              "color": "#C8D4E3"
             },
             "line": {
              "color": "white"
             }
            },
            "type": "table"
           }
          ]
         },
         "layout": {
          "annotationdefaults": {
           "arrowcolor": "#2a3f5f",
           "arrowhead": 0,
           "arrowwidth": 1
          },
          "autotypenumbers": "strict",
          "coloraxis": {
           "colorbar": {
            "outlinewidth": 0,
            "ticks": ""
           }
          },
          "colorscale": {
           "diverging": [
            [
             0,
             "#8e0152"
            ],
            [
             0.1,
             "#c51b7d"
            ],
            [
             0.2,
             "#de77ae"
            ],
            [
             0.3,
             "#f1b6da"
            ],
            [
             0.4,
             "#fde0ef"
            ],
            [
             0.5,
             "#f7f7f7"
            ],
            [
             0.6,
             "#e6f5d0"
            ],
            [
             0.7,
             "#b8e186"
            ],
            [
             0.8,
             "#7fbc41"
            ],
            [
             0.9,
             "#4d9221"
            ],
            [
             1,
             "#276419"
            ]
           ],
           "sequential": [
            [
             0,
             "#0d0887"
            ],
            [
             0.1111111111111111,
             "#46039f"
            ],
            [
             0.2222222222222222,
             "#7201a8"
            ],
            [
             0.3333333333333333,
             "#9c179e"
            ],
            [
             0.4444444444444444,
             "#bd3786"
            ],
            [
             0.5555555555555556,
             "#d8576b"
            ],
            [
             0.6666666666666666,
             "#ed7953"
            ],
            [
             0.7777777777777778,
             "#fb9f3a"
            ],
            [
             0.8888888888888888,
             "#fdca26"
            ],
            [
             1,
             "#f0f921"
            ]
           ],
           "sequentialminus": [
            [
             0,
             "#0d0887"
            ],
            [
             0.1111111111111111,
             "#46039f"
            ],
            [
             0.2222222222222222,
             "#7201a8"
            ],
            [
             0.3333333333333333,
             "#9c179e"
            ],
            [
             0.4444444444444444,
             "#bd3786"
            ],
            [
             0.5555555555555556,
             "#d8576b"
            ],
            [
             0.6666666666666666,
             "#ed7953"
            ],
            [
             0.7777777777777778,
             "#fb9f3a"
            ],
            [
             0.8888888888888888,
             "#fdca26"
            ],
            [
             1,
             "#f0f921"
            ]
           ]
          },
          "colorway": [
           "#636efa",
           "#EF553B",
           "#00cc96",
           "#ab63fa",
           "#FFA15A",
           "#19d3f3",
           "#FF6692",
           "#B6E880",
           "#FF97FF",
           "#FECB52"
          ],
          "font": {
           "color": "#2a3f5f"
          },
          "geo": {
           "bgcolor": "white",
           "lakecolor": "white",
           "landcolor": "#E5ECF6",
           "showlakes": true,
           "showland": true,
           "subunitcolor": "white"
          },
          "hoverlabel": {
           "align": "left"
          },
          "hovermode": "closest",
          "mapbox": {
           "style": "light"
          },
          "paper_bgcolor": "white",
          "plot_bgcolor": "#E5ECF6",
          "polar": {
           "angularaxis": {
            "gridcolor": "white",
            "linecolor": "white",
            "ticks": ""
           },
           "bgcolor": "#E5ECF6",
           "radialaxis": {
            "gridcolor": "white",
            "linecolor": "white",
            "ticks": ""
           }
          },
          "scene": {
           "xaxis": {
            "backgroundcolor": "#E5ECF6",
            "gridcolor": "white",
            "gridwidth": 2,
            "linecolor": "white",
            "showbackground": true,
            "ticks": "",
            "zerolinecolor": "white"
           },
           "yaxis": {
            "backgroundcolor": "#E5ECF6",
            "gridcolor": "white",
            "gridwidth": 2,
            "linecolor": "white",
            "showbackground": true,
            "ticks": "",
            "zerolinecolor": "white"
           },
           "zaxis": {
            "backgroundcolor": "#E5ECF6",
            "gridcolor": "white",
            "gridwidth": 2,
            "linecolor": "white",
            "showbackground": true,
            "ticks": "",
            "zerolinecolor": "white"
           }
          },
          "shapedefaults": {
           "line": {
            "color": "#2a3f5f"
           }
          },
          "ternary": {
           "aaxis": {
            "gridcolor": "white",
            "linecolor": "white",
            "ticks": ""
           },
           "baxis": {
            "gridcolor": "white",
            "linecolor": "white",
            "ticks": ""
           },
           "bgcolor": "#E5ECF6",
           "caxis": {
            "gridcolor": "white",
            "linecolor": "white",
            "ticks": ""
           }
          },
          "title": {
           "x": 0.05
          },
          "xaxis": {
           "automargin": true,
           "gridcolor": "white",
           "linecolor": "white",
           "ticks": "",
           "title": {
            "standoff": 15
           },
           "zerolinecolor": "white",
           "zerolinewidth": 2
          },
          "yaxis": {
           "automargin": true,
           "gridcolor": "white",
           "linecolor": "white",
           "ticks": "",
           "title": {
            "standoff": 15
           },
           "zerolinecolor": "white",
           "zerolinewidth": 2
          }
         }
        },
        "title": {
         "text": "Hooktheory (n = 100)"
        },
        "width": 450,
        "xaxis": {
         "anchor": "y",
         "domain": [
          0,
          1
         ],
         "gridcolor": "rgb(158,202,225)",
         "gridwidth": 1,
         "showgrid": true,
         "tickvals": [
          0,
          1,
          2,
          3,
          4,
          5,
          6,
          7,
          8
         ],
         "title": {
          "text": "Số lần xuất hiện trung bình"
         }
        },
        "yaxis": {
         "anchor": "x",
         "domain": [
          0,
          1
         ],
         "tickvals": [
          0,
          5,
          10,
          15,
          20,
          25,
          30,
          35,
          40,
          45,
          50,
          55,
          60,
          65,
          70,
          75,
          80,
          85,
          90
         ],
         "title": {
          "text": "Cao độ"
         }
        }
       }
      }
     },
     "metadata": {},
     "output_type": "display_data"
    },
    {
     "data": {
      "application/vnd.plotly.v1+json": {
       "config": {
        "plotlyServerURL": "https://plot.ly"
       },
       "data": [
        {
         "alignmentgroup": "True",
         "hovertemplate": "x=%{x}<br>y=%{y}<extra></extra>",
         "legendgroup": "",
         "marker": {
          "color": "rgb(158,202,225)",
          "line": {
           "color": "rgb(8,48,107)",
           "width": 1.5
          },
          "pattern": {
           "shape": ""
          }
         },
         "name": "",
         "offsetgroup": "",
         "opacity": 0.6,
         "orientation": "v",
         "showlegend": false,
         "textposition": "auto",
         "type": "bar",
         "x": [
          11,
          2,
          6,
          1,
          8,
          9,
          4,
          5,
          7,
          0,
          3,
          10
         ],
         "xaxis": "x",
         "y": [
          10.089999999999996,
          12.329999999999995,
          8.58,
          7.799999999999995,
          7.709999999999996,
          11.039999999999997,
          9.410000000000002,
          10.049999999999997,
          12.669999999999995,
          10.229999999999999,
          7.769999999999999,
          8.759999999999996
         ],
         "yaxis": "y"
        }
       ],
       "layout": {
        "autosize": false,
        "barmode": "relative",
        "font": {
         "size": 13
        },
        "height": 400,
        "legend": {
         "tracegroupgap": 0
        },
        "margin": {
         "t": 60
        },
        "plot_bgcolor": "white",
        "template": {
         "data": {
          "bar": [
           {
            "error_x": {
             "color": "#2a3f5f"
            },
            "error_y": {
             "color": "#2a3f5f"
            },
            "marker": {
             "line": {
              "color": "#E5ECF6",
              "width": 0.5
             },
             "pattern": {
              "fillmode": "overlay",
              "size": 10,
              "solidity": 0.2
             }
            },
            "type": "bar"
           }
          ],
          "barpolar": [
           {
            "marker": {
             "line": {
              "color": "#E5ECF6",
              "width": 0.5
             },
             "pattern": {
              "fillmode": "overlay",
              "size": 10,
              "solidity": 0.2
             }
            },
            "type": "barpolar"
           }
          ],
          "carpet": [
           {
            "aaxis": {
             "endlinecolor": "#2a3f5f",
             "gridcolor": "white",
             "linecolor": "white",
             "minorgridcolor": "white",
             "startlinecolor": "#2a3f5f"
            },
            "baxis": {
             "endlinecolor": "#2a3f5f",
             "gridcolor": "white",
             "linecolor": "white",
             "minorgridcolor": "white",
             "startlinecolor": "#2a3f5f"
            },
            "type": "carpet"
           }
          ],
          "choropleth": [
           {
            "colorbar": {
             "outlinewidth": 0,
             "ticks": ""
            },
            "type": "choropleth"
           }
          ],
          "contour": [
           {
            "colorbar": {
             "outlinewidth": 0,
             "ticks": ""
            },
            "colorscale": [
             [
              0,
              "#0d0887"
             ],
             [
              0.1111111111111111,
              "#46039f"
             ],
             [
              0.2222222222222222,
              "#7201a8"
             ],
             [
              0.3333333333333333,
              "#9c179e"
             ],
             [
              0.4444444444444444,
              "#bd3786"
             ],
             [
              0.5555555555555556,
              "#d8576b"
             ],
             [
              0.6666666666666666,
              "#ed7953"
             ],
             [
              0.7777777777777778,
              "#fb9f3a"
             ],
             [
              0.8888888888888888,
              "#fdca26"
             ],
             [
              1,
              "#f0f921"
             ]
            ],
            "type": "contour"
           }
          ],
          "contourcarpet": [
           {
            "colorbar": {
             "outlinewidth": 0,
             "ticks": ""
            },
            "type": "contourcarpet"
           }
          ],
          "heatmap": [
           {
            "colorbar": {
             "outlinewidth": 0,
             "ticks": ""
            },
            "colorscale": [
             [
              0,
              "#0d0887"
             ],
             [
              0.1111111111111111,
              "#46039f"
             ],
             [
              0.2222222222222222,
              "#7201a8"
             ],
             [
              0.3333333333333333,
              "#9c179e"
             ],
             [
              0.4444444444444444,
              "#bd3786"
             ],
             [
              0.5555555555555556,
              "#d8576b"
             ],
             [
              0.6666666666666666,
              "#ed7953"
             ],
             [
              0.7777777777777778,
              "#fb9f3a"
             ],
             [
              0.8888888888888888,
              "#fdca26"
             ],
             [
              1,
              "#f0f921"
             ]
            ],
            "type": "heatmap"
           }
          ],
          "heatmapgl": [
           {
            "colorbar": {
             "outlinewidth": 0,
             "ticks": ""
            },
            "colorscale": [
             [
              0,
              "#0d0887"
             ],
             [
              0.1111111111111111,
              "#46039f"
             ],
             [
              0.2222222222222222,
              "#7201a8"
             ],
             [
              0.3333333333333333,
              "#9c179e"
             ],
             [
              0.4444444444444444,
              "#bd3786"
             ],
             [
              0.5555555555555556,
              "#d8576b"
             ],
             [
              0.6666666666666666,
              "#ed7953"
             ],
             [
              0.7777777777777778,
              "#fb9f3a"
             ],
             [
              0.8888888888888888,
              "#fdca26"
             ],
             [
              1,
              "#f0f921"
             ]
            ],
            "type": "heatmapgl"
           }
          ],
          "histogram": [
           {
            "marker": {
             "pattern": {
              "fillmode": "overlay",
              "size": 10,
              "solidity": 0.2
             }
            },
            "type": "histogram"
           }
          ],
          "histogram2d": [
           {
            "colorbar": {
             "outlinewidth": 0,
             "ticks": ""
            },
            "colorscale": [
             [
              0,
              "#0d0887"
             ],
             [
              0.1111111111111111,
              "#46039f"
             ],
             [
              0.2222222222222222,
              "#7201a8"
             ],
             [
              0.3333333333333333,
              "#9c179e"
             ],
             [
              0.4444444444444444,
              "#bd3786"
             ],
             [
              0.5555555555555556,
              "#d8576b"
             ],
             [
              0.6666666666666666,
              "#ed7953"
             ],
             [
              0.7777777777777778,
              "#fb9f3a"
             ],
             [
              0.8888888888888888,
              "#fdca26"
             ],
             [
              1,
              "#f0f921"
             ]
            ],
            "type": "histogram2d"
           }
          ],
          "histogram2dcontour": [
           {
            "colorbar": {
             "outlinewidth": 0,
             "ticks": ""
            },
            "colorscale": [
             [
              0,
              "#0d0887"
             ],
             [
              0.1111111111111111,
              "#46039f"
             ],
             [
              0.2222222222222222,
              "#7201a8"
             ],
             [
              0.3333333333333333,
              "#9c179e"
             ],
             [
              0.4444444444444444,
              "#bd3786"
             ],
             [
              0.5555555555555556,
              "#d8576b"
             ],
             [
              0.6666666666666666,
              "#ed7953"
             ],
             [
              0.7777777777777778,
              "#fb9f3a"
             ],
             [
              0.8888888888888888,
              "#fdca26"
             ],
             [
              1,
              "#f0f921"
             ]
            ],
            "type": "histogram2dcontour"
           }
          ],
          "mesh3d": [
           {
            "colorbar": {
             "outlinewidth": 0,
             "ticks": ""
            },
            "type": "mesh3d"
           }
          ],
          "parcoords": [
           {
            "line": {
             "colorbar": {
              "outlinewidth": 0,
              "ticks": ""
             }
            },
            "type": "parcoords"
           }
          ],
          "pie": [
           {
            "automargin": true,
            "type": "pie"
           }
          ],
          "scatter": [
           {
            "fillpattern": {
             "fillmode": "overlay",
             "size": 10,
             "solidity": 0.2
            },
            "type": "scatter"
           }
          ],
          "scatter3d": [
           {
            "line": {
             "colorbar": {
              "outlinewidth": 0,
              "ticks": ""
             }
            },
            "marker": {
             "colorbar": {
              "outlinewidth": 0,
              "ticks": ""
             }
            },
            "type": "scatter3d"
           }
          ],
          "scattercarpet": [
           {
            "marker": {
             "colorbar": {
              "outlinewidth": 0,
              "ticks": ""
             }
            },
            "type": "scattercarpet"
           }
          ],
          "scattergeo": [
           {
            "marker": {
             "colorbar": {
              "outlinewidth": 0,
              "ticks": ""
             }
            },
            "type": "scattergeo"
           }
          ],
          "scattergl": [
           {
            "marker": {
             "colorbar": {
              "outlinewidth": 0,
              "ticks": ""
             }
            },
            "type": "scattergl"
           }
          ],
          "scattermapbox": [
           {
            "marker": {
             "colorbar": {
              "outlinewidth": 0,
              "ticks": ""
             }
            },
            "type": "scattermapbox"
           }
          ],
          "scatterpolar": [
           {
            "marker": {
             "colorbar": {
              "outlinewidth": 0,
              "ticks": ""
             }
            },
            "type": "scatterpolar"
           }
          ],
          "scatterpolargl": [
           {
            "marker": {
             "colorbar": {
              "outlinewidth": 0,
              "ticks": ""
             }
            },
            "type": "scatterpolargl"
           }
          ],
          "scatterternary": [
           {
            "marker": {
             "colorbar": {
              "outlinewidth": 0,
              "ticks": ""
             }
            },
            "type": "scatterternary"
           }
          ],
          "surface": [
           {
            "colorbar": {
             "outlinewidth": 0,
             "ticks": ""
            },
            "colorscale": [
             [
              0,
              "#0d0887"
             ],
             [
              0.1111111111111111,
              "#46039f"
             ],
             [
              0.2222222222222222,
              "#7201a8"
             ],
             [
              0.3333333333333333,
              "#9c179e"
             ],
             [
              0.4444444444444444,
              "#bd3786"
             ],
             [
              0.5555555555555556,
              "#d8576b"
             ],
             [
              0.6666666666666666,
              "#ed7953"
             ],
             [
              0.7777777777777778,
              "#fb9f3a"
             ],
             [
              0.8888888888888888,
              "#fdca26"
             ],
             [
              1,
              "#f0f921"
             ]
            ],
            "type": "surface"
           }
          ],
          "table": [
           {
            "cells": {
             "fill": {
              "color": "#EBF0F8"
             },
             "line": {
              "color": "white"
             }
            },
            "header": {
             "fill": {
              "color": "#C8D4E3"
             },
             "line": {
              "color": "white"
             }
            },
            "type": "table"
           }
          ]
         },
         "layout": {
          "annotationdefaults": {
           "arrowcolor": "#2a3f5f",
           "arrowhead": 0,
           "arrowwidth": 1
          },
          "autotypenumbers": "strict",
          "coloraxis": {
           "colorbar": {
            "outlinewidth": 0,
            "ticks": ""
           }
          },
          "colorscale": {
           "diverging": [
            [
             0,
             "#8e0152"
            ],
            [
             0.1,
             "#c51b7d"
            ],
            [
             0.2,
             "#de77ae"
            ],
            [
             0.3,
             "#f1b6da"
            ],
            [
             0.4,
             "#fde0ef"
            ],
            [
             0.5,
             "#f7f7f7"
            ],
            [
             0.6,
             "#e6f5d0"
            ],
            [
             0.7,
             "#b8e186"
            ],
            [
             0.8,
             "#7fbc41"
            ],
            [
             0.9,
             "#4d9221"
            ],
            [
             1,
             "#276419"
            ]
           ],
           "sequential": [
            [
             0,
             "#0d0887"
            ],
            [
             0.1111111111111111,
             "#46039f"
            ],
            [
             0.2222222222222222,
             "#7201a8"
            ],
            [
             0.3333333333333333,
             "#9c179e"
            ],
            [
             0.4444444444444444,
             "#bd3786"
            ],
            [
             0.5555555555555556,
             "#d8576b"
            ],
            [
             0.6666666666666666,
             "#ed7953"
            ],
            [
             0.7777777777777778,
             "#fb9f3a"
            ],
            [
             0.8888888888888888,
             "#fdca26"
            ],
            [
             1,
             "#f0f921"
            ]
           ],
           "sequentialminus": [
            [
             0,
             "#0d0887"
            ],
            [
             0.1111111111111111,
             "#46039f"
            ],
            [
             0.2222222222222222,
             "#7201a8"
            ],
            [
             0.3333333333333333,
             "#9c179e"
            ],
            [
             0.4444444444444444,
             "#bd3786"
            ],
            [
             0.5555555555555556,
             "#d8576b"
            ],
            [
             0.6666666666666666,
             "#ed7953"
            ],
            [
             0.7777777777777778,
             "#fb9f3a"
            ],
            [
             0.8888888888888888,
             "#fdca26"
            ],
            [
             1,
             "#f0f921"
            ]
           ]
          },
          "colorway": [
           "#636efa",
           "#EF553B",
           "#00cc96",
           "#ab63fa",
           "#FFA15A",
           "#19d3f3",
           "#FF6692",
           "#B6E880",
           "#FF97FF",
           "#FECB52"
          ],
          "font": {
           "color": "#2a3f5f"
          },
          "geo": {
           "bgcolor": "white",
           "lakecolor": "white",
           "landcolor": "#E5ECF6",
           "showlakes": true,
           "showland": true,
           "subunitcolor": "white"
          },
          "hoverlabel": {
           "align": "left"
          },
          "hovermode": "closest",
          "mapbox": {
           "style": "light"
          },
          "paper_bgcolor": "white",
          "plot_bgcolor": "#E5ECF6",
          "polar": {
           "angularaxis": {
            "gridcolor": "white",
            "linecolor": "white",
            "ticks": ""
           },
           "bgcolor": "#E5ECF6",
           "radialaxis": {
            "gridcolor": "white",
            "linecolor": "white",
            "ticks": ""
           }
          },
          "scene": {
           "xaxis": {
            "backgroundcolor": "#E5ECF6",
            "gridcolor": "white",
            "gridwidth": 2,
            "linecolor": "white",
            "showbackground": true,
            "ticks": "",
            "zerolinecolor": "white"
           },
           "yaxis": {
            "backgroundcolor": "#E5ECF6",
            "gridcolor": "white",
            "gridwidth": 2,
            "linecolor": "white",
            "showbackground": true,
            "ticks": "",
            "zerolinecolor": "white"
           },
           "zaxis": {
            "backgroundcolor": "#E5ECF6",
            "gridcolor": "white",
            "gridwidth": 2,
            "linecolor": "white",
            "showbackground": true,
            "ticks": "",
            "zerolinecolor": "white"
           }
          },
          "shapedefaults": {
           "line": {
            "color": "#2a3f5f"
           }
          },
          "ternary": {
           "aaxis": {
            "gridcolor": "white",
            "linecolor": "white",
            "ticks": ""
           },
           "baxis": {
            "gridcolor": "white",
            "linecolor": "white",
            "ticks": ""
           },
           "bgcolor": "#E5ECF6",
           "caxis": {
            "gridcolor": "white",
            "linecolor": "white",
            "ticks": ""
           }
          },
          "title": {
           "x": 0.05
          },
          "xaxis": {
           "automargin": true,
           "gridcolor": "white",
           "linecolor": "white",
           "ticks": "",
           "title": {
            "standoff": 15
           },
           "zerolinecolor": "white",
           "zerolinewidth": 2
          },
          "yaxis": {
           "automargin": true,
           "gridcolor": "white",
           "linecolor": "white",
           "ticks": "",
           "title": {
            "standoff": 15
           },
           "zerolinecolor": "white",
           "zerolinewidth": 2
          }
         }
        },
        "title": {
         "text": "Hooktheory (n = 100)"
        },
        "width": 650,
        "xaxis": {
         "anchor": "y",
         "domain": [
          0,
          1
         ],
         "tickvals": [
          0,
          1,
          2,
          3,
          4,
          5,
          6,
          7,
          8,
          9,
          10,
          11
         ],
         "title": {
          "text": "Cao độ cơ bản"
         }
        },
        "yaxis": {
         "anchor": "x",
         "domain": [
          0,
          1
         ],
         "gridcolor": "rgb(158,202,225)",
         "gridwidth": 1,
         "showgrid": true,
         "title": {
          "text": "Số lần xuất hiện trung bình"
         }
        }
       }
      }
     },
     "metadata": {},
     "output_type": "display_data"
    },
    {
     "name": "stdout",
     "output_type": "stream",
     "text": [
      "Số lượng nốt nhạc trung bình trong một đoạn nhạc từ Hooktheory (n = 100): 116.44000000000007\n"
     ]
    }
   ],
   "source": [
    "# Horizontal bar chart for pitch counts using plotly express (with y is the pitch and x is the count)\n",
    "fig = px.bar(\n",
    "    x=list(average_results['pitch_counts'].values()), \n",
    "    y=list(average_results['pitch_counts'].keys()), \n",
    "    orientation='h'\n",
    ")\n",
    "\n",
    "fig.update_layout(\n",
    "    title=f'Hooktheory (n = {n_file_to_analyze})', \n",
    "    xaxis_title='Số lần xuất hiện trung bình',\n",
    "    yaxis_title='Cao độ'\n",
    ")\n",
    "\n",
    "# Show labels 0, 5, 10, 15, ... in y-axis\n",
    "y_axis_tickvals = list(range(0, max(average_results['pitch_counts'].keys()) + 1, 5))\n",
    "fig.update_yaxes(tickvals=y_axis_tickvals)\n",
    "\n",
    "# Show labels 0, 1, 2, 3, ... in x-axis\n",
    "x_axis_tickvals = list(range(\n",
    "    0, \n",
    "    int(max(average_results['pitch_counts'].values())) + 1 + 1\n",
    "))\n",
    "fig.update_xaxes(tickvals=x_axis_tickvals)\n",
    "\n",
    "# Change the color set to make it easier to see when printed in black and white\n",
    "fig.update_traces(marker_color='rgb(158,202,225)', marker_line_color='rgb(8,48,107)', marker_line_width=1.5, opacity=0.6)\n",
    "\n",
    "# Change the background color to make it easier to see when printed in black and white\n",
    "fig.update_layout(plot_bgcolor='white')\n",
    "\n",
    "# Show the vertical grid lines\n",
    "fig.update_layout(xaxis=dict(showgrid=True, gridwidth=1, gridcolor='rgb(158,202,225)'))\n",
    "\n",
    "# Make the colums overlay the grid lines\n",
    "fig.update_layout(barmode='overlay')\n",
    "\n",
    "# Make the font size bigger\n",
    "fig.update_layout(font=dict(size=13))\n",
    "\n",
    "# Make the plot ratio x:y\n",
    "fig.update_layout(\n",
    "    autosize=False,\n",
    "    width=450,\n",
    "    height=1200,\n",
    ")\n",
    "\n",
    "fig.show()\n",
    "\n",
    "\n",
    "# Pitch class distribution\n",
    "fig = px.bar(x=list(average_results['pitch_class_distribution'].keys()), y=list(average_results['pitch_class_distribution'].values()))\n",
    "fig.update_layout(\n",
    "    title=f'Hooktheory (n = {n_file_to_analyze})', \n",
    "    yaxis_title='Số lần xuất hiện trung bình',\n",
    "    xaxis_title='Cao độ cơ bản'\n",
    ")\n",
    "\n",
    "# Show labels 0, 1, 2, 3, ... in x-axis\n",
    "x_axis_tickvals = list(range(0, max(average_results['pitch_class_distribution'].keys()) + 1))\n",
    "fig.update_xaxes(tickvals=x_axis_tickvals)\n",
    "\n",
    "# Change the color set to make it easier to see when printed in black and white\n",
    "fig.update_traces(marker_color='rgb(158,202,225)', marker_line_color='rgb(8,48,107)', marker_line_width=1.5, opacity=0.6)\n",
    "\n",
    "# Change the background color to make it easier to see when printed in black and white\n",
    "fig.update_layout(plot_bgcolor='white')\n",
    "\n",
    "# Show the horizontal grid lines\n",
    "fig.update_layout(yaxis=dict(showgrid=True, gridwidth=1, gridcolor='rgb(158,202,225)'))\n",
    "\n",
    "# Make the font size bigger\n",
    "fig.update_layout(font=dict(size=13))\n",
    "\n",
    "# Make the plot ratio x:y\n",
    "fig.update_layout(\n",
    "    autosize=False,\n",
    "    width=650,\n",
    "    height=400,\n",
    ")\n",
    "\n",
    "fig.show()\n",
    "\n",
    "# Note count\n",
    "print(f\"Số lượng nốt nhạc trung bình trong một đoạn nhạc từ Hooktheory (n = {n_file_to_analyze}): {average_results['note_count']}\")"
   ]
  },
  {
   "cell_type": "markdown",
   "metadata": {},
   "source": [
    "# Model Output"
   ]
  },
  {
   "cell_type": "code",
   "execution_count": 10,
   "metadata": {},
   "outputs": [
    {
     "name": "stdout",
     "output_type": "stream",
     "text": [
      "Analyzing file 1 of 302 - musecoco_2024_07_31_12_am_85.mid\n",
      "Analyzing file 2 of 302 - musecoco_2024_07_31_12_am_91.mid\n",
      "Analyzing file 3 of 302 - musecoco_2024_07_31_12_am_46.mid\n",
      "Analyzing file 4 of 302 - musecoco_2024_07_31_12_am_52.mid\n",
      "Analyzing file 5 of 302 - musecoco_2024_07_31_12_am_221.mid\n",
      "Analyzing file 6 of 302 - musecoco_2024_07_31_12_am_235.mid\n",
      "Analyzing file 7 of 302 - musecoco_2024_07_31_12_am_209.mid\n",
      "Analyzing file 8 of 302 - musecoco_2024_07_31_12_am_157.mid\n",
      "Analyzing file 9 of 302 - musecoco_2024_07_31_12_am_143.mid\n",
      "Analyzing file 10 of 302 - musecoco_2024_07_31_12_am_194.mid\n",
      "Analyzing file 11 of 302 - musecoco_2024_07_31_12_am_180.mid\n",
      "Analyzing file 12 of 302 - musecoco_2024_07_31_12_am_181.mid\n",
      "Analyzing file 13 of 302 - musecoco_2024_07_31_12_am_195.mid\n",
      "Analyzing file 14 of 302 - musecoco_2024_07_31_12_am_142.mid\n",
      "Analyzing file 15 of 302 - musecoco_2024_07_31_12_am_156.mid\n",
      "Analyzing file 16 of 302 - musecoco_2024_07_31_12_am_208.mid\n",
      "Analyzing file 17 of 302 - musecoco_2024_07_31_12_am_234.mid\n",
      "Analyzing file 18 of 302 - musecoco_2024_07_31_12_am_220.mid\n",
      "Analyzing file 19 of 302 - musecoco_2024_07_31_12_am_53.mid\n",
      "Analyzing file 20 of 302 - musecoco_2024_07_31_12_am_47.mid\n",
      "Analyzing file 21 of 302 - musecoco_2024_07_31_12_am_90.mid\n",
      "Analyzing file 22 of 302 - musecoco_2024_07_31_12_am_84.mid\n",
      "Analyzing file 23 of 302 - musecoco_2024_07_31_12_am_92.mid\n",
      "Analyzing file 24 of 302 - musecoco_2024_07_31_12_am_86.mid\n",
      "Analyzing file 25 of 302 - musecoco_2024_07_31_12_am_51.mid\n",
      "Analyzing file 26 of 302 - musecoco_2024_07_31_12_am_45.mid\n",
      "Analyzing file 27 of 302 - musecoco_2024_07_31_12_am_79.mid\n",
      "Analyzing file 28 of 302 - musecoco_2024_07_31_12_am_236.mid\n",
      "Analyzing file 29 of 302 - musecoco_2024_07_31_12_am_222.mid\n",
      "Analyzing file 30 of 302 - musecoco_2024_07_31_12_am_140.mid\n",
      "Analyzing file 31 of 302 - musecoco_2024_07_31_12_am_154.mid\n",
      "Analyzing file 32 of 302 - musecoco_2024_07_31_12_am_168.mid\n",
      "Analyzing file 33 of 302 - musecoco_2024_07_31_12_am_183.mid\n",
      "Analyzing file 34 of 302 - musecoco_2024_07_31_12_am_197.mid\n",
      "Analyzing file 35 of 302 - musecoco_2024_07_31_12_am_196.mid\n",
      "Analyzing file 36 of 302 - musecoco_2024_07_31_12_am_182.mid\n",
      "Analyzing file 37 of 302 - musecoco_2024_07_31_12_am_169.mid\n",
      "Analyzing file 38 of 302 - musecoco_2024_07_31_12_am_155.mid\n",
      "Analyzing file 39 of 302 - musecoco_2024_07_31_12_am_141.mid\n",
      "Analyzing file 40 of 302 - musecoco_2024_07_31_12_am_223.mid\n",
      "Analyzing file 41 of 302 - musecoco_2024_07_31_12_am_237.mid\n",
      "Analyzing file 42 of 302 - musecoco_2024_07_31_12_am_78.mid\n",
      "Analyzing file 43 of 302 - musecoco_2024_07_31_12_am_44.mid\n",
      "Analyzing file 44 of 302 - musecoco_2024_07_31_12_am_50.mid\n",
      "Analyzing file 45 of 302 - musecoco_2024_07_31_12_am_87.mid\n",
      "Analyzing file 46 of 302 - musecoco_2024_07_31_12_am_93.mid\n",
      "Analyzing file 47 of 302 - musecoco_2024_07_31_12_am_97.mid\n",
      "Analyzing file 48 of 302 - musecoco_2024_07_31_12_am_83.mid\n",
      "Analyzing file 49 of 302 - musecoco_2024_07_31_12_am_68.mid\n",
      "Analyzing file 50 of 302 - musecoco_2024_07_31_12_am_54.mid\n",
      "Analyzing file 51 of 302 - musecoco_2024_07_31_12_am_40.mid\n",
      "Analyzing file 52 of 302 - musecoco_2024_07_31_12_am_9.mid\n",
      "Analyzing file 53 of 302 - musecoco_2024_07_31_12_am_233.mid\n",
      "Analyzing file 54 of 302 - musecoco_2024_07_31_12_am_227.mid\n",
      "Analyzing file 55 of 302 - musecoco_2024_07_31_12_am_179.mid\n",
      "Analyzing file 56 of 302 - musecoco_2024_07_31_12_am_145.mid\n",
      "Analyzing file 57 of 302 - musecoco_2024_07_31_12_am_151.mid\n",
      "Analyzing file 58 of 302 - musecoco_2024_07_31_12_am_186.mid\n",
      "Analyzing file 59 of 302 - musecoco_2024_07_31_12_am_192.mid\n",
      "Analyzing file 60 of 302 - musecoco_2024_07_31_12_am_193.mid\n",
      "Analyzing file 61 of 302 - musecoco_2024_07_31_12_am_187.mid\n",
      "Analyzing file 62 of 302 - musecoco_2024_07_31_12_am_150.mid\n",
      "Analyzing file 63 of 302 - musecoco_2024_07_31_12_am_144.mid\n",
      "Analyzing file 64 of 302 - musecoco_2024_07_31_12_am_178.mid\n",
      "Analyzing file 65 of 302 - musecoco_2024_07_31_12_am_226.mid\n",
      "Analyzing file 66 of 302 - musecoco_2024_07_31_12_am_232.mid\n",
      "Analyzing file 67 of 302 - musecoco_2024_07_31_12_am_8.mid\n",
      "Analyzing file 68 of 302 - musecoco_2024_07_31_12_am_41.mid\n",
      "Analyzing file 69 of 302 - musecoco_2024_07_31_12_am_55.mid\n",
      "Analyzing file 70 of 302 - musecoco_2024_07_31_12_am_69.mid\n",
      "Analyzing file 71 of 302 - musecoco_2024_07_31_12_am_82.mid\n",
      "Analyzing file 72 of 302 - musecoco_2024_07_31_12_am_96.mid\n",
      "Analyzing file 73 of 302 - musecoco_2024_07_31_12_am_80.mid\n",
      "Analyzing file 74 of 302 - musecoco_2024_07_31_12_am_94.mid\n",
      "Analyzing file 75 of 302 - musecoco_2024_07_31_12_am_43.mid\n",
      "Analyzing file 76 of 302 - musecoco_2024_07_31_12_am_57.mid\n",
      "Analyzing file 77 of 302 - musecoco_2024_07_31_12_am_218.mid\n",
      "Analyzing file 78 of 302 - musecoco_2024_07_31_12_am_224.mid\n",
      "Analyzing file 79 of 302 - musecoco_2024_07_31_12_am_230.mid\n",
      "Analyzing file 80 of 302 - musecoco_2024_07_31_12_am_152.mid\n",
      "Analyzing file 81 of 302 - musecoco_2024_07_31_12_am_146.mid\n",
      "Analyzing file 82 of 302 - musecoco_2024_07_31_12_am_191.mid\n",
      "Analyzing file 83 of 302 - musecoco_2024_07_31_12_am_185.mid\n",
      "Analyzing file 84 of 302 - musecoco_2024_07_31_12_am_184.mid\n",
      "Analyzing file 85 of 302 - musecoco_2024_07_31_12_am_190.mid\n",
      "Analyzing file 86 of 302 - musecoco_2024_07_31_12_am_147.mid\n",
      "Analyzing file 87 of 302 - musecoco_2024_07_31_12_am_153.mid\n",
      "Analyzing file 88 of 302 - musecoco_2024_07_31_12_am_231.mid\n",
      "Analyzing file 89 of 302 - musecoco_2024_07_31_12_am_225.mid\n",
      "Analyzing file 90 of 302 - musecoco_2024_07_31_12_am_219.mid\n",
      "Analyzing file 91 of 302 - musecoco_2024_07_31_12_am_56.mid\n",
      "Analyzing file 92 of 302 - musecoco_2024_07_31_12_am_42.mid\n",
      "Analyzing file 93 of 302 - musecoco_2024_07_31_12_am_95.mid\n",
      "Analyzing file 94 of 302 - musecoco_2024_07_31_12_am_81.mid\n",
      "Analyzing file 95 of 302 - musecoco_2024_07_31_12_am_25.mid\n",
      "Analyzing file 96 of 302 - musecoco_2024_07_31_12_am_31.mid\n",
      "Analyzing file 97 of 302 - musecoco_2024_07_31_12_am_19.mid\n",
      "Analyzing file 98 of 302 - musecoco_2024_07_31_12_am_242.mid\n",
      "Analyzing file 99 of 302 - musecoco_2024_07_31_12_am_256.mid\n",
      "Analyzing file 100 of 302 - musecoco_2024_07_31_12_am_281.mid\n",
      "Analyzing file 101 of 302 - musecoco_2024_07_31_12_am_295.mid\n",
      "Analyzing file 102 of 302 - musecoco_2024_07_31_12_am_134.mid\n",
      "Analyzing file 103 of 302 - musecoco_2024_07_31_12_am_120.mid\n",
      "Analyzing file 104 of 302 - musecoco_2024_07_31_12_am_108.mid\n",
      "Analyzing file 105 of 302 - musecoco_2024_07_31_12_am_109.mid\n",
      "Analyzing file 106 of 302 - musecoco_2024_07_31_12_am_121.mid\n",
      "Analyzing file 107 of 302 - musecoco_2024_07_31_12_am_135.mid\n",
      "Analyzing file 108 of 302 - musecoco_2024_07_31_12_am_294.mid\n",
      "Analyzing file 109 of 302 - musecoco_2024_07_31_12_am_280.mid\n",
      "Analyzing file 110 of 302 - musecoco_2024_07_31_12_am_257.mid\n",
      "Analyzing file 111 of 302 - musecoco_2024_07_31_12_am_243.mid\n",
      "Analyzing file 112 of 302 - musecoco_2024_07_31_12_am_18.mid\n",
      "Analyzing file 113 of 302 - musecoco_2024_07_31_12_am_30.mid\n",
      "Analyzing file 114 of 302 - musecoco_2024_07_31_12_am_24.mid\n",
      "Analyzing file 115 of 302 - musecoco_2024_07_31_12_am_32.mid\n",
      "Analyzing file 116 of 302 - musecoco_2024_07_31_12_am_26.mid\n",
      "Analyzing file 117 of 302 - musecoco_2024_07_31_12_am_255.mid\n",
      "Analyzing file 118 of 302 - musecoco_2024_07_31_12_am_241.mid\n",
      "Analyzing file 119 of 302 - musecoco_2024_07_31_12_am_269.mid\n",
      "Analyzing file 120 of 302 - musecoco_2024_07_31_12_am_296.mid\n",
      "Analyzing file 121 of 302 - musecoco_2024_07_31_12_am_282.mid\n",
      "Analyzing file 122 of 302 - musecoco_2024_07_31_12_am_123.mid\n",
      "Analyzing file 123 of 302 - musecoco_2024_07_31_12_am_137.mid\n",
      "Analyzing file 124 of 302 - musecoco_2024_07_31_12_am_136.mid\n",
      "Analyzing file 125 of 302 - musecoco_2024_07_31_12_am_122.mid\n",
      "Analyzing file 126 of 302 - musecoco_2024_07_31_12_am_283.mid\n",
      "Analyzing file 127 of 302 - musecoco_2024_07_31_12_am_297.mid\n",
      "Analyzing file 128 of 302 - musecoco_2024_07_31_12_am_268.mid\n",
      "Analyzing file 129 of 302 - musecoco_2024_07_31_12_am_240.mid\n",
      "Analyzing file 130 of 302 - musecoco_2024_07_31_12_am_254.mid\n",
      "Analyzing file 131 of 302 - musecoco_2024_07_31_12_am_27.mid\n",
      "Analyzing file 132 of 302 - musecoco_2024_07_31_12_am_33.mid\n",
      "Analyzing file 133 of 302 - musecoco_2024_07_31_12_am_37.mid\n",
      "Analyzing file 134 of 302 - musecoco_2024_07_31_12_am_23.mid\n",
      "Analyzing file 135 of 302 - musecoco_2024_07_31_12_am_278.mid\n",
      "Analyzing file 136 of 302 - musecoco_2024_07_31_12_am_250.mid\n",
      "Analyzing file 137 of 302 - musecoco_2024_07_31_12_am_244.mid\n",
      "Analyzing file 138 of 302 - musecoco_2024_07_31_12_am_293.mid\n",
      "Analyzing file 139 of 302 - musecoco_2024_07_31_12_am_287.mid\n",
      "Analyzing file 140 of 302 - musecoco_2024_07_31_12_am_126.mid\n",
      "Analyzing file 141 of 302 - musecoco_2024_07_31_12_am_132.mid\n",
      "Analyzing file 142 of 302 - musecoco_2024_07_31_12_am_133.mid\n",
      "Analyzing file 143 of 302 - musecoco_2024_07_31_12_am_127.mid\n",
      "Analyzing file 144 of 302 - musecoco_2024_07_31_12_am_286.mid\n",
      "Analyzing file 145 of 302 - musecoco_2024_07_31_12_am_292.mid\n",
      "Analyzing file 146 of 302 - musecoco_2024_07_31_12_am_245.mid\n",
      "Analyzing file 147 of 302 - musecoco_2024_07_31_12_am_251.mid\n",
      "Analyzing file 148 of 302 - musecoco_2024_07_31_12_am_279.mid\n",
      "Analyzing file 149 of 302 - musecoco_2024_07_31_12_am_22.mid\n",
      "Analyzing file 150 of 302 - musecoco_2024_07_31_12_am_36.mid\n",
      "Analyzing file 151 of 302 - musecoco_2024_07_31_12_am_20.mid\n",
      "Analyzing file 152 of 302 - musecoco_2024_07_31_12_am_34.mid\n",
      "Analyzing file 153 of 302 - musecoco_2024_07_31_12_am_247.mid\n",
      "Analyzing file 154 of 302 - musecoco_2024_07_31_12_am_253.mid\n",
      "Analyzing file 155 of 302 - musecoco_2024_07_31_12_am_284.mid\n",
      "Analyzing file 156 of 302 - musecoco_2024_07_31_12_am_290.mid\n",
      "Analyzing file 157 of 302 - musecoco_2024_07_31_12_am_119.mid\n",
      "Analyzing file 158 of 302 - musecoco_2024_07_31_12_am_131.mid\n",
      "Analyzing file 159 of 302 - musecoco_2024_07_31_12_am_125.mid\n",
      "Analyzing file 160 of 302 - musecoco_2024_07_31_12_am_124.mid\n",
      "Analyzing file 161 of 302 - musecoco_2024_07_31_12_am_130.mid\n",
      "Analyzing file 162 of 302 - musecoco_2024_07_31_12_am_118.mid\n",
      "Analyzing file 163 of 302 - musecoco_2024_07_31_12_am_291.mid\n",
      "Analyzing file 164 of 302 - musecoco_2024_07_31_12_am_285.mid\n",
      "Analyzing file 165 of 302 - musecoco_2024_07_31_12_am_252.mid\n",
      "Analyzing file 166 of 302 - musecoco_2024_07_31_12_am_246.mid\n",
      "Analyzing file 167 of 302 - musecoco_2024_07_31_12_am_35.mid\n",
      "Analyzing file 168 of 302 - musecoco_2024_07_31_12_am_21.mid\n",
      "Analyzing file 169 of 302 - musecoco_2024_07_31_12_am_10.mid\n",
      "Analyzing file 170 of 302 - musecoco_2024_07_31_12_am_38.mid\n",
      "Analyzing file 171 of 302 - musecoco_2024_07_31_12_am_263.mid\n",
      "Analyzing file 172 of 302 - musecoco_2024_07_31_12_am_277.mid\n",
      "Analyzing file 173 of 302 - musecoco_2024_07_31_12_am_288.mid\n",
      "Analyzing file 174 of 302 - musecoco_2024_07_31_12_am_115.mid\n",
      "Analyzing file 175 of 302 - musecoco_2024_07_31_12_am_101.mid\n",
      "Analyzing file 176 of 302 - musecoco_2024_07_31_12_am_129.mid\n",
      "Analyzing file 177 of 302 - musecoco_2024_07_31_12_am_128.mid\n",
      "Analyzing file 178 of 302 - musecoco_2024_07_31_12_am_100.mid\n",
      "Analyzing file 179 of 302 - musecoco_2024_07_31_12_am_114.mid\n",
      "Analyzing file 180 of 302 - musecoco_2024_07_31_12_am_289.mid\n",
      "Analyzing file 181 of 302 - musecoco_2024_07_31_12_am_276.mid\n",
      "Analyzing file 182 of 302 - musecoco_2024_07_31_12_am_262.mid\n",
      "Analyzing file 183 of 302 - musecoco_2024_07_31_12_am_39.mid\n",
      "Analyzing file 184 of 302 - musecoco_2024_07_31_12_am_11.mid\n",
      "Analyzing file 185 of 302 - musecoco_2024_07_31_12_am_13.mid\n",
      "Analyzing file 186 of 302 - musecoco_2024_07_31_12_am_274.mid\n",
      "Analyzing file 187 of 302 - musecoco_2024_07_31_12_am_260.mid\n",
      "Analyzing file 188 of 302 - musecoco_2024_07_31_12_am_248.mid\n",
      "Analyzing file 189 of 302 - musecoco_2024_07_31_12_am_300.mid\n",
      "Analyzing file 190 of 302 - musecoco_2024_07_31_12_am_102.mid\n",
      "Analyzing file 191 of 302 - musecoco_2024_07_31_12_am_116.mid\n",
      "Analyzing file 192 of 302 - musecoco_2024_07_31_12_am_117.mid\n",
      "Analyzing file 193 of 302 - musecoco_2024_07_31_12_am_103.mid\n",
      "Analyzing file 194 of 302 - musecoco_2024_07_31_12_am_301.mid\n",
      "Analyzing file 195 of 302 - musecoco_2024_07_31_12_am_249.mid\n",
      "Analyzing file 196 of 302 - musecoco_2024_07_31_12_am_261.mid\n",
      "Analyzing file 197 of 302 - musecoco_2024_07_31_12_am_275.mid\n",
      "Analyzing file 198 of 302 - musecoco_2024_07_31_12_am_12.mid\n",
      "Analyzing file 199 of 302 - musecoco_2024_07_31_12_am_16.mid\n",
      "Analyzing file 200 of 302 - musecoco_2024_07_31_12_am_259.mid\n",
      "Analyzing file 201 of 302 - musecoco_2024_07_31_12_am_271.mid\n",
      "Analyzing file 202 of 302 - musecoco_2024_07_31_12_am_265.mid\n",
      "Analyzing file 203 of 302 - musecoco_2024_07_31_12_am_107.mid\n",
      "Analyzing file 204 of 302 - musecoco_2024_07_31_12_am_113.mid\n",
      "Analyzing file 205 of 302 - musecoco_2024_07_31_12_am_112.mid\n",
      "Analyzing file 206 of 302 - musecoco_2024_07_31_12_am_106.mid\n",
      "Analyzing file 207 of 302 - musecoco_2024_07_31_12_am_264.mid\n",
      "Analyzing file 208 of 302 - musecoco_2024_07_31_12_am_270.mid\n",
      "Analyzing file 209 of 302 - musecoco_2024_07_31_12_am_258.mid\n",
      "Analyzing file 210 of 302 - musecoco_2024_07_31_12_am_17.mid\n",
      "Analyzing file 211 of 302 - musecoco_2024_07_31_12_am_29.mid\n",
      "Analyzing file 212 of 302 - musecoco_2024_07_31_12_am_15.mid\n",
      "Analyzing file 213 of 302 - musecoco_2024_07_31_12_am_266.mid\n",
      "Analyzing file 214 of 302 - musecoco_2024_07_31_12_am_272.mid\n",
      "Analyzing file 215 of 302 - musecoco_2024_07_31_12_am_299.mid\n",
      "Analyzing file 216 of 302 - musecoco_2024_07_31_12_am_138.mid\n",
      "Analyzing file 217 of 302 - musecoco_2024_07_31_12_am_110.mid\n",
      "Analyzing file 218 of 302 - musecoco_2024_07_31_12_am_104.mid\n",
      "Analyzing file 219 of 302 - musecoco_2024_07_31_12_am_105.mid\n",
      "Analyzing file 220 of 302 - musecoco_2024_07_31_12_am_111.mid\n",
      "Analyzing file 221 of 302 - musecoco_2024_07_31_12_am_139.mid\n",
      "Analyzing file 222 of 302 - musecoco_2024_07_31_12_am_298.mid\n",
      "Analyzing file 223 of 302 - musecoco_2024_07_31_12_am_273.mid\n",
      "Analyzing file 224 of 302 - musecoco_2024_07_31_12_am_267.mid\n",
      "Analyzing file 225 of 302 - musecoco_2024_07_31_12_am_14.mid\n",
      "Analyzing file 226 of 302 - musecoco_2024_07_31_12_am_28.mid\n",
      "Analyzing file 227 of 302 - musecoco_2024_07_31_12_am_98.mid\n",
      "Analyzing file 228 of 302 - musecoco_2024_07_31_12_am_67.mid\n",
      "Analyzing file 229 of 302 - musecoco_2024_07_31_12_am_73.mid\n",
      "Analyzing file 230 of 302 - musecoco_2024_07_31_12_am_200.mid\n",
      "Analyzing file 231 of 302 - musecoco_2024_07_31_12_am_214.mid\n",
      "Analyzing file 232 of 302 - musecoco_2024_07_31_12_am_6.mid\n",
      "Analyzing file 233 of 302 - musecoco_2024_07_31_12_am_228.mid\n",
      "Analyzing file 234 of 302 - musecoco_2024_07_31_12_am_176.mid\n",
      "Analyzing file 235 of 302 - musecoco_2024_07_31_12_am_162.mid\n",
      "Analyzing file 236 of 302 - musecoco_2024_07_31_12_am_189.mid\n",
      "Analyzing file 237 of 302 - musecoco_2024_07_31_12_am_188.mid\n",
      "Analyzing file 238 of 302 - musecoco_2024_07_31_12_am_163.mid\n",
      "Analyzing file 239 of 302 - musecoco_2024_07_31_12_am_177.mid\n",
      "Analyzing file 240 of 302 - musecoco_2024_07_31_12_am_229.mid\n",
      "Analyzing file 241 of 302 - musecoco_2024_07_31_12_am_7.mid\n",
      "Analyzing file 242 of 302 - musecoco_2024_07_31_12_am_215.mid\n",
      "Analyzing file 243 of 302 - musecoco_2024_07_31_12_am_201.mid\n",
      "Analyzing file 244 of 302 - musecoco_2024_07_31_12_am_72.mid\n",
      "Analyzing file 245 of 302 - musecoco_2024_07_31_12_am_66.mid\n",
      "Analyzing file 246 of 302 - musecoco_2024_07_31_12_am_99.mid\n",
      "Analyzing file 247 of 302 - musecoco_2024_07_31_12_am_70.mid\n",
      "Analyzing file 248 of 302 - musecoco_2024_07_31_12_am_64.mid\n",
      "Analyzing file 249 of 302 - musecoco_2024_07_31_12_am_58.mid\n",
      "Analyzing file 250 of 302 - musecoco_2024_07_31_12_am_217.mid\n",
      "Analyzing file 251 of 302 - musecoco_2024_07_31_12_am_5.mid\n",
      "Analyzing file 252 of 302 - musecoco_2024_07_31_12_am_203.mid\n",
      "Analyzing file 253 of 302 - musecoco_2024_07_31_12_am_161.mid\n",
      "Analyzing file 254 of 302 - musecoco_2024_07_31_12_am_175.mid\n",
      "Analyzing file 255 of 302 - musecoco_2024_07_31_12_am_149.mid\n",
      "Analyzing file 256 of 302 - musecoco_2024_07_31_12_am_148.mid\n",
      "Analyzing file 257 of 302 - musecoco_2024_07_31_12_am_174.mid\n",
      "Analyzing file 258 of 302 - musecoco_2024_07_31_12_am_160.mid\n",
      "Analyzing file 259 of 302 - musecoco_2024_07_31_12_am_202.mid\n",
      "Analyzing file 260 of 302 - musecoco_2024_07_31_12_am_4.mid\n",
      "Analyzing file 261 of 302 - musecoco_2024_07_31_12_am_216.mid\n",
      "Analyzing file 262 of 302 - musecoco_2024_07_31_12_am_59.mid\n",
      "Analyzing file 263 of 302 - musecoco_2024_07_31_12_am_65.mid\n",
      "Analyzing file 264 of 302 - musecoco_2024_07_31_12_am_71.mid\n",
      "Analyzing file 265 of 302 - musecoco_2024_07_31_12_am_49.mid\n",
      "Analyzing file 266 of 302 - musecoco_2024_07_31_12_am_75.mid\n",
      "Analyzing file 267 of 302 - musecoco_2024_07_31_12_am_61.mid\n",
      "Analyzing file 268 of 302 - musecoco_2024_07_31_12_am_212.mid\n",
      "Analyzing file 269 of 302 - musecoco_2024_07_31_12_am_0.mid\n",
      "Analyzing file 270 of 302 - musecoco_2024_07_31_12_am_206.mid\n",
      "Analyzing file 271 of 302 - musecoco_2024_07_31_12_am_158.mid\n",
      "Analyzing file 272 of 302 - musecoco_2024_07_31_12_am_164.mid\n",
      "Analyzing file 273 of 302 - musecoco_2024_07_31_12_am_170.mid\n",
      "Analyzing file 274 of 302 - musecoco_2024_07_31_12_am_171.mid\n",
      "Analyzing file 275 of 302 - musecoco_2024_07_31_12_am_165.mid\n",
      "Analyzing file 276 of 302 - musecoco_2024_07_31_12_am_159.mid\n",
      "Analyzing file 277 of 302 - musecoco_2024_07_31_12_am_207.mid\n",
      "Analyzing file 278 of 302 - musecoco_2024_07_31_12_am_1.mid\n",
      "Analyzing file 279 of 302 - musecoco_2024_07_31_12_am_213.mid\n",
      "Analyzing file 280 of 302 - musecoco_2024_07_31_12_am_60.mid\n",
      "Analyzing file 281 of 302 - musecoco_2024_07_31_12_am_74.mid\n",
      "Analyzing file 282 of 302 - musecoco_2024_07_31_12_am_48.mid\n",
      "Analyzing file 283 of 302 - musecoco_2024_07_31_12_am_89.mid\n",
      "Analyzing file 284 of 302 - musecoco_2024_07_31_12_am_62.mid\n",
      "Analyzing file 285 of 302 - musecoco_2024_07_31_12_am_76.mid\n",
      "Analyzing file 286 of 302 - musecoco_2024_07_31_12_am_239.mid\n",
      "Analyzing file 287 of 302 - musecoco_2024_07_31_12_am_205.mid\n",
      "Analyzing file 288 of 302 - musecoco_2024_07_31_12_am_211.mid\n",
      "Analyzing file 289 of 302 - musecoco_2024_07_31_12_am_3.mid\n",
      "Analyzing file 290 of 302 - musecoco_2024_07_31_12_am_173.mid\n",
      "Analyzing file 291 of 302 - musecoco_2024_07_31_12_am_167.mid\n",
      "Analyzing file 292 of 302 - musecoco_2024_07_31_12_am_198.mid\n",
      "Analyzing file 293 of 302 - musecoco_2024_07_31_12_am_199.mid\n",
      "Analyzing file 294 of 302 - musecoco_2024_07_31_12_am_166.mid\n",
      "Analyzing file 295 of 302 - musecoco_2024_07_31_12_am_172.mid\n",
      "Analyzing file 296 of 302 - musecoco_2024_07_31_12_am_2.mid\n",
      "Analyzing file 297 of 302 - musecoco_2024_07_31_12_am_210.mid\n",
      "Analyzing file 298 of 302 - musecoco_2024_07_31_12_am_204.mid\n",
      "Analyzing file 299 of 302 - musecoco_2024_07_31_12_am_238.mid\n",
      "Analyzing file 300 of 302 - musecoco_2024_07_31_12_am_77.mid\n",
      "Analyzing file 301 of 302 - musecoco_2024_07_31_12_am_63.mid\n",
      "Analyzing file 302 of 302 - musecoco_2024_07_31_12_am_88.mid\n"
     ]
    }
   ],
   "source": [
    "folder_path = model_output_dir\n",
    "\n",
    "# Count midi files in the folder path\n",
    "n_file_to_analyze = 0\n",
    "for root, dirs, files in os.walk(folder_path):\n",
    "    for file_name in files:\n",
    "        if file_name.endswith('.mid') or file_name.endswith('.midi'):\n",
    "            n_file_to_analyze += 1\n",
    "\n",
    "analysis_results = analyze_midi_folder(folder_path, n_file_to_analyze)"
   ]
  },
  {
   "cell_type": "code",
   "execution_count": 11,
   "metadata": {},
   "outputs": [
    {
     "name": "stdout",
     "output_type": "stream",
     "text": [
      "1 of 302 result - musecoco_2024_07_31_12_am_85.mid:\n",
      "  pitch_counts: {72: 7, 60: 14, 62: 11, 74: 3, 52: 9, 78: 1, 67: 10, 65: 5, 43: 10, 64: 6, 69: 8, 48: 5, 79: 3, 76: 5, 50: 2, 59: 9, 77: 3, 66: 1, 53: 2, 55: 5, 36: 1, 56: 2, 40: 3, 58: 1, 70: 1, 71: 1, 81: 2, 47: 3, 41: 2, 54: 1, 57: 2, 88: 7, 84: 1, 45: 1}\n",
      "  pitch_class_distribution: {0: 28, 2: 16, 4: 30, 6: 3, 7: 28, 5: 12, 9: 13, 11: 13, 8: 2, 10: 2}\n",
      "  note_count: 147\n"
     ]
    }
   ],
   "source": [
    "n_file_to_print = 1\n",
    "\n",
    "current_file = 0\n",
    "\n",
    "# Print results\n",
    "for file_name, analysis in analysis_results.items():\n",
    "    if current_file < n_file_to_print:\n",
    "        current_file += 1\n",
    "        print(f\"{current_file} of {n_file_to_analyze} result - {file_name}:\")\n",
    "\n",
    "        for key, value in analysis.items():\n",
    "            print(f\"  {key}: {value}\")\n",
    "    else:\n",
    "        break"
   ]
  },
  {
   "cell_type": "code",
   "execution_count": 12,
   "metadata": {},
   "outputs": [
    {
     "name": "stdout",
     "output_type": "stream",
     "text": [
      "Average results:\n",
      "  pitch_counts: {72: 5.834437086092727, 60: 11.58278145695367, 62: 9.182119205298012, 74: 4.254966887417224, 52: 7.692052980132458, 78: 0.7880794701986775, 67: 11.185430463576179, 65: 4.37748344370861, 43: 9.152317880794698, 64: 6.314569536423854, 69: 6.1920529801324555, 48: 5.615894039735119, 79: 2.0529801324503296, 76: 4.096026490066228, 50: 4.2119205298013265, 59: 8.0496688741722, 77: 3.6225165562913926, 66: 1.0231788079470225, 53: 2.5430463576158937, 55: 6.284768211920546, 36: 1.5629139072847646, 56: 1.1854304635761592, 40: 1.281456953642384, 58: 1.036423841059605, 70: 0.5165562913907293, 71: 1.8509933774834424, 81: 1.4867549668874176, 47: 1.6887417218542982, 41: 2.513245033112579, 54: 0.16556291390728473, 57: 3.3642384105960286, 88: 4.201986754966884, 84: 0.42715231788079494, 45: 1.3377483443708602, 33: 0.5993377483443723, 68: 0.08609271523178812, 61: 0.07284768211920534, 37: 0.009933774834437087, 73: 0.20198675496688728, 46: 0.04966887417218545, 83: 0.7086092715231803, 63: 0.4205298013245037, 51: 0.06953642384105964, 44: 0.019867549668874173, 35: 0.013245033112582781, 38: 0.026490066225165563, 86: 0.09271523178807953, 42: 0.0033112582781456954, 75: 0.06291390728476823, 32: 0.009933774834437087, 25: 0.0033112582781456954, 34: 0.0033112582781456954, 80: 0.006622516556291391, 82: 0.009933774834437087, 49: 0.009933774834437087, 31: 0.0033112582781456954, 39: 0.006622516556291391, 29: 0.0033112582781456954}\n",
      "  pitch_class_distribution: {0: 25.0231788079471, 2: 17.76821192052981, 4: 23.586092715231835, 6: 1.980132450331125, 7: 28.678807947019983, 5: 13.059602649006653, 9: 12.980132450331153, 11: 12.311258278145722, 8: 1.3079470198675487, 10: 1.6158940397350965, 1: 0.29801324503311255, 3: 0.5596026490066234}\n",
      "  note_count: 139.16887417218544\n"
     ]
    }
   ],
   "source": [
    "average_results = average_analysis_results(analysis_results)\n",
    "\n",
    "# Print average results\n",
    "print(\"Average results:\")\n",
    "for key, value in average_results.items():\n",
    "    print(f\"  {key}: {value}\")\n",
    "\n",
    "# Save average results to file\n",
    "# with open('average_results.json', 'w') as f:\n",
    "#     json.dump(average_results, f, indent=4)\n",
    "\n",
    "# Save analysis results to file\n",
    "# with open('analysis_results.json', 'w') as f:\n",
    "#     json.dump(analysis_results, f, indent=4)"
   ]
  },
  {
   "cell_type": "code",
   "execution_count": 13,
   "metadata": {},
   "outputs": [
    {
     "data": {
      "application/vnd.plotly.v1+json": {
       "config": {
        "plotlyServerURL": "https://plot.ly"
       },
       "data": [
        {
         "alignmentgroup": "True",
         "hovertemplate": "x=%{x}<br>y=%{y}<extra></extra>",
         "legendgroup": "",
         "marker": {
          "color": "rgb(158,202,225)",
          "line": {
           "color": "rgb(8,48,107)",
           "width": 1.5
          },
          "pattern": {
           "shape": ""
          }
         },
         "name": "",
         "offsetgroup": "",
         "opacity": 0.6,
         "orientation": "h",
         "showlegend": false,
         "textposition": "auto",
         "type": "bar",
         "x": [
          5.834437086092727,
          11.58278145695367,
          9.182119205298012,
          4.254966887417224,
          7.692052980132458,
          0.7880794701986775,
          11.185430463576179,
          4.37748344370861,
          9.152317880794698,
          6.314569536423854,
          6.1920529801324555,
          5.615894039735119,
          2.0529801324503296,
          4.096026490066228,
          4.2119205298013265,
          8.0496688741722,
          3.6225165562913926,
          1.0231788079470225,
          2.5430463576158937,
          6.284768211920546,
          1.5629139072847646,
          1.1854304635761592,
          1.281456953642384,
          1.036423841059605,
          0.5165562913907293,
          1.8509933774834424,
          1.4867549668874176,
          1.6887417218542982,
          2.513245033112579,
          0.16556291390728473,
          3.3642384105960286,
          4.201986754966884,
          0.42715231788079494,
          1.3377483443708602,
          0.5993377483443723,
          0.08609271523178812,
          0.07284768211920534,
          0.009933774834437087,
          0.20198675496688728,
          0.04966887417218545,
          0.7086092715231803,
          0.4205298013245037,
          0.06953642384105964,
          0.019867549668874173,
          0.013245033112582781,
          0.026490066225165563,
          0.09271523178807953,
          0.0033112582781456954,
          0.06291390728476823,
          0.009933774834437087,
          0.0033112582781456954,
          0.0033112582781456954,
          0.006622516556291391,
          0.009933774834437087,
          0.009933774834437087,
          0.0033112582781456954,
          0.006622516556291391,
          0.0033112582781456954
         ],
         "xaxis": "x",
         "y": [
          72,
          60,
          62,
          74,
          52,
          78,
          67,
          65,
          43,
          64,
          69,
          48,
          79,
          76,
          50,
          59,
          77,
          66,
          53,
          55,
          36,
          56,
          40,
          58,
          70,
          71,
          81,
          47,
          41,
          54,
          57,
          88,
          84,
          45,
          33,
          68,
          61,
          37,
          73,
          46,
          83,
          63,
          51,
          44,
          35,
          38,
          86,
          42,
          75,
          32,
          25,
          34,
          80,
          82,
          49,
          31,
          39,
          29
         ],
         "yaxis": "y"
        }
       ],
       "layout": {
        "autosize": false,
        "barmode": "overlay",
        "font": {
         "size": 13
        },
        "height": 1200,
        "legend": {
         "tracegroupgap": 0
        },
        "margin": {
         "t": 60
        },
        "plot_bgcolor": "white",
        "template": {
         "data": {
          "bar": [
           {
            "error_x": {
             "color": "#2a3f5f"
            },
            "error_y": {
             "color": "#2a3f5f"
            },
            "marker": {
             "line": {
              "color": "#E5ECF6",
              "width": 0.5
             },
             "pattern": {
              "fillmode": "overlay",
              "size": 10,
              "solidity": 0.2
             }
            },
            "type": "bar"
           }
          ],
          "barpolar": [
           {
            "marker": {
             "line": {
              "color": "#E5ECF6",
              "width": 0.5
             },
             "pattern": {
              "fillmode": "overlay",
              "size": 10,
              "solidity": 0.2
             }
            },
            "type": "barpolar"
           }
          ],
          "carpet": [
           {
            "aaxis": {
             "endlinecolor": "#2a3f5f",
             "gridcolor": "white",
             "linecolor": "white",
             "minorgridcolor": "white",
             "startlinecolor": "#2a3f5f"
            },
            "baxis": {
             "endlinecolor": "#2a3f5f",
             "gridcolor": "white",
             "linecolor": "white",
             "minorgridcolor": "white",
             "startlinecolor": "#2a3f5f"
            },
            "type": "carpet"
           }
          ],
          "choropleth": [
           {
            "colorbar": {
             "outlinewidth": 0,
             "ticks": ""
            },
            "type": "choropleth"
           }
          ],
          "contour": [
           {
            "colorbar": {
             "outlinewidth": 0,
             "ticks": ""
            },
            "colorscale": [
             [
              0,
              "#0d0887"
             ],
             [
              0.1111111111111111,
              "#46039f"
             ],
             [
              0.2222222222222222,
              "#7201a8"
             ],
             [
              0.3333333333333333,
              "#9c179e"
             ],
             [
              0.4444444444444444,
              "#bd3786"
             ],
             [
              0.5555555555555556,
              "#d8576b"
             ],
             [
              0.6666666666666666,
              "#ed7953"
             ],
             [
              0.7777777777777778,
              "#fb9f3a"
             ],
             [
              0.8888888888888888,
              "#fdca26"
             ],
             [
              1,
              "#f0f921"
             ]
            ],
            "type": "contour"
           }
          ],
          "contourcarpet": [
           {
            "colorbar": {
             "outlinewidth": 0,
             "ticks": ""
            },
            "type": "contourcarpet"
           }
          ],
          "heatmap": [
           {
            "colorbar": {
             "outlinewidth": 0,
             "ticks": ""
            },
            "colorscale": [
             [
              0,
              "#0d0887"
             ],
             [
              0.1111111111111111,
              "#46039f"
             ],
             [
              0.2222222222222222,
              "#7201a8"
             ],
             [
              0.3333333333333333,
              "#9c179e"
             ],
             [
              0.4444444444444444,
              "#bd3786"
             ],
             [
              0.5555555555555556,
              "#d8576b"
             ],
             [
              0.6666666666666666,
              "#ed7953"
             ],
             [
              0.7777777777777778,
              "#fb9f3a"
             ],
             [
              0.8888888888888888,
              "#fdca26"
             ],
             [
              1,
              "#f0f921"
             ]
            ],
            "type": "heatmap"
           }
          ],
          "heatmapgl": [
           {
            "colorbar": {
             "outlinewidth": 0,
             "ticks": ""
            },
            "colorscale": [
             [
              0,
              "#0d0887"
             ],
             [
              0.1111111111111111,
              "#46039f"
             ],
             [
              0.2222222222222222,
              "#7201a8"
             ],
             [
              0.3333333333333333,
              "#9c179e"
             ],
             [
              0.4444444444444444,
              "#bd3786"
             ],
             [
              0.5555555555555556,
              "#d8576b"
             ],
             [
              0.6666666666666666,
              "#ed7953"
             ],
             [
              0.7777777777777778,
              "#fb9f3a"
             ],
             [
              0.8888888888888888,
              "#fdca26"
             ],
             [
              1,
              "#f0f921"
             ]
            ],
            "type": "heatmapgl"
           }
          ],
          "histogram": [
           {
            "marker": {
             "pattern": {
              "fillmode": "overlay",
              "size": 10,
              "solidity": 0.2
             }
            },
            "type": "histogram"
           }
          ],
          "histogram2d": [
           {
            "colorbar": {
             "outlinewidth": 0,
             "ticks": ""
            },
            "colorscale": [
             [
              0,
              "#0d0887"
             ],
             [
              0.1111111111111111,
              "#46039f"
             ],
             [
              0.2222222222222222,
              "#7201a8"
             ],
             [
              0.3333333333333333,
              "#9c179e"
             ],
             [
              0.4444444444444444,
              "#bd3786"
             ],
             [
              0.5555555555555556,
              "#d8576b"
             ],
             [
              0.6666666666666666,
              "#ed7953"
             ],
             [
              0.7777777777777778,
              "#fb9f3a"
             ],
             [
              0.8888888888888888,
              "#fdca26"
             ],
             [
              1,
              "#f0f921"
             ]
            ],
            "type": "histogram2d"
           }
          ],
          "histogram2dcontour": [
           {
            "colorbar": {
             "outlinewidth": 0,
             "ticks": ""
            },
            "colorscale": [
             [
              0,
              "#0d0887"
             ],
             [
              0.1111111111111111,
              "#46039f"
             ],
             [
              0.2222222222222222,
              "#7201a8"
             ],
             [
              0.3333333333333333,
              "#9c179e"
             ],
             [
              0.4444444444444444,
              "#bd3786"
             ],
             [
              0.5555555555555556,
              "#d8576b"
             ],
             [
              0.6666666666666666,
              "#ed7953"
             ],
             [
              0.7777777777777778,
              "#fb9f3a"
             ],
             [
              0.8888888888888888,
              "#fdca26"
             ],
             [
              1,
              "#f0f921"
             ]
            ],
            "type": "histogram2dcontour"
           }
          ],
          "mesh3d": [
           {
            "colorbar": {
             "outlinewidth": 0,
             "ticks": ""
            },
            "type": "mesh3d"
           }
          ],
          "parcoords": [
           {
            "line": {
             "colorbar": {
              "outlinewidth": 0,
              "ticks": ""
             }
            },
            "type": "parcoords"
           }
          ],
          "pie": [
           {
            "automargin": true,
            "type": "pie"
           }
          ],
          "scatter": [
           {
            "fillpattern": {
             "fillmode": "overlay",
             "size": 10,
             "solidity": 0.2
            },
            "type": "scatter"
           }
          ],
          "scatter3d": [
           {
            "line": {
             "colorbar": {
              "outlinewidth": 0,
              "ticks": ""
             }
            },
            "marker": {
             "colorbar": {
              "outlinewidth": 0,
              "ticks": ""
             }
            },
            "type": "scatter3d"
           }
          ],
          "scattercarpet": [
           {
            "marker": {
             "colorbar": {
              "outlinewidth": 0,
              "ticks": ""
             }
            },
            "type": "scattercarpet"
           }
          ],
          "scattergeo": [
           {
            "marker": {
             "colorbar": {
              "outlinewidth": 0,
              "ticks": ""
             }
            },
            "type": "scattergeo"
           }
          ],
          "scattergl": [
           {
            "marker": {
             "colorbar": {
              "outlinewidth": 0,
              "ticks": ""
             }
            },
            "type": "scattergl"
           }
          ],
          "scattermapbox": [
           {
            "marker": {
             "colorbar": {
              "outlinewidth": 0,
              "ticks": ""
             }
            },
            "type": "scattermapbox"
           }
          ],
          "scatterpolar": [
           {
            "marker": {
             "colorbar": {
              "outlinewidth": 0,
              "ticks": ""
             }
            },
            "type": "scatterpolar"
           }
          ],
          "scatterpolargl": [
           {
            "marker": {
             "colorbar": {
              "outlinewidth": 0,
              "ticks": ""
             }
            },
            "type": "scatterpolargl"
           }
          ],
          "scatterternary": [
           {
            "marker": {
             "colorbar": {
              "outlinewidth": 0,
              "ticks": ""
             }
            },
            "type": "scatterternary"
           }
          ],
          "surface": [
           {
            "colorbar": {
             "outlinewidth": 0,
             "ticks": ""
            },
            "colorscale": [
             [
              0,
              "#0d0887"
             ],
             [
              0.1111111111111111,
              "#46039f"
             ],
             [
              0.2222222222222222,
              "#7201a8"
             ],
             [
              0.3333333333333333,
              "#9c179e"
             ],
             [
              0.4444444444444444,
              "#bd3786"
             ],
             [
              0.5555555555555556,
              "#d8576b"
             ],
             [
              0.6666666666666666,
              "#ed7953"
             ],
             [
              0.7777777777777778,
              "#fb9f3a"
             ],
             [
              0.8888888888888888,
              "#fdca26"
             ],
             [
              1,
              "#f0f921"
             ]
            ],
            "type": "surface"
           }
          ],
          "table": [
           {
            "cells": {
             "fill": {
              "color": "#EBF0F8"
             },
             "line": {
              "color": "white"
             }
            },
            "header": {
             "fill": {
              "color": "#C8D4E3"
             },
             "line": {
              "color": "white"
             }
            },
            "type": "table"
           }
          ]
         },
         "layout": {
          "annotationdefaults": {
           "arrowcolor": "#2a3f5f",
           "arrowhead": 0,
           "arrowwidth": 1
          },
          "autotypenumbers": "strict",
          "coloraxis": {
           "colorbar": {
            "outlinewidth": 0,
            "ticks": ""
           }
          },
          "colorscale": {
           "diverging": [
            [
             0,
             "#8e0152"
            ],
            [
             0.1,
             "#c51b7d"
            ],
            [
             0.2,
             "#de77ae"
            ],
            [
             0.3,
             "#f1b6da"
            ],
            [
             0.4,
             "#fde0ef"
            ],
            [
             0.5,
             "#f7f7f7"
            ],
            [
             0.6,
             "#e6f5d0"
            ],
            [
             0.7,
             "#b8e186"
            ],
            [
             0.8,
             "#7fbc41"
            ],
            [
             0.9,
             "#4d9221"
            ],
            [
             1,
             "#276419"
            ]
           ],
           "sequential": [
            [
             0,
             "#0d0887"
            ],
            [
             0.1111111111111111,
             "#46039f"
            ],
            [
             0.2222222222222222,
             "#7201a8"
            ],
            [
             0.3333333333333333,
             "#9c179e"
            ],
            [
             0.4444444444444444,
             "#bd3786"
            ],
            [
             0.5555555555555556,
             "#d8576b"
            ],
            [
             0.6666666666666666,
             "#ed7953"
            ],
            [
             0.7777777777777778,
             "#fb9f3a"
            ],
            [
             0.8888888888888888,
             "#fdca26"
            ],
            [
             1,
             "#f0f921"
            ]
           ],
           "sequentialminus": [
            [
             0,
             "#0d0887"
            ],
            [
             0.1111111111111111,
             "#46039f"
            ],
            [
             0.2222222222222222,
             "#7201a8"
            ],
            [
             0.3333333333333333,
             "#9c179e"
            ],
            [
             0.4444444444444444,
             "#bd3786"
            ],
            [
             0.5555555555555556,
             "#d8576b"
            ],
            [
             0.6666666666666666,
             "#ed7953"
            ],
            [
             0.7777777777777778,
             "#fb9f3a"
            ],
            [
             0.8888888888888888,
             "#fdca26"
            ],
            [
             1,
             "#f0f921"
            ]
           ]
          },
          "colorway": [
           "#636efa",
           "#EF553B",
           "#00cc96",
           "#ab63fa",
           "#FFA15A",
           "#19d3f3",
           "#FF6692",
           "#B6E880",
           "#FF97FF",
           "#FECB52"
          ],
          "font": {
           "color": "#2a3f5f"
          },
          "geo": {
           "bgcolor": "white",
           "lakecolor": "white",
           "landcolor": "#E5ECF6",
           "showlakes": true,
           "showland": true,
           "subunitcolor": "white"
          },
          "hoverlabel": {
           "align": "left"
          },
          "hovermode": "closest",
          "mapbox": {
           "style": "light"
          },
          "paper_bgcolor": "white",
          "plot_bgcolor": "#E5ECF6",
          "polar": {
           "angularaxis": {
            "gridcolor": "white",
            "linecolor": "white",
            "ticks": ""
           },
           "bgcolor": "#E5ECF6",
           "radialaxis": {
            "gridcolor": "white",
            "linecolor": "white",
            "ticks": ""
           }
          },
          "scene": {
           "xaxis": {
            "backgroundcolor": "#E5ECF6",
            "gridcolor": "white",
            "gridwidth": 2,
            "linecolor": "white",
            "showbackground": true,
            "ticks": "",
            "zerolinecolor": "white"
           },
           "yaxis": {
            "backgroundcolor": "#E5ECF6",
            "gridcolor": "white",
            "gridwidth": 2,
            "linecolor": "white",
            "showbackground": true,
            "ticks": "",
            "zerolinecolor": "white"
           },
           "zaxis": {
            "backgroundcolor": "#E5ECF6",
            "gridcolor": "white",
            "gridwidth": 2,
            "linecolor": "white",
            "showbackground": true,
            "ticks": "",
            "zerolinecolor": "white"
           }
          },
          "shapedefaults": {
           "line": {
            "color": "#2a3f5f"
           }
          },
          "ternary": {
           "aaxis": {
            "gridcolor": "white",
            "linecolor": "white",
            "ticks": ""
           },
           "baxis": {
            "gridcolor": "white",
            "linecolor": "white",
            "ticks": ""
           },
           "bgcolor": "#E5ECF6",
           "caxis": {
            "gridcolor": "white",
            "linecolor": "white",
            "ticks": ""
           }
          },
          "title": {
           "x": 0.05
          },
          "xaxis": {
           "automargin": true,
           "gridcolor": "white",
           "linecolor": "white",
           "ticks": "",
           "title": {
            "standoff": 15
           },
           "zerolinecolor": "white",
           "zerolinewidth": 2
          },
          "yaxis": {
           "automargin": true,
           "gridcolor": "white",
           "linecolor": "white",
           "ticks": "",
           "title": {
            "standoff": 15
           },
           "zerolinecolor": "white",
           "zerolinewidth": 2
          }
         }
        },
        "title": {
         "text": "Model output (n = 302)"
        },
        "width": 450,
        "xaxis": {
         "anchor": "y",
         "domain": [
          0,
          1
         ],
         "gridcolor": "rgb(158,202,225)",
         "gridwidth": 1,
         "showgrid": true,
         "tickvals": [
          0,
          1,
          2,
          3,
          4,
          5,
          6,
          7,
          8,
          9,
          10,
          11,
          12
         ],
         "title": {
          "text": "Số lần xuất hiện trung bình"
         }
        },
        "yaxis": {
         "anchor": "x",
         "domain": [
          0,
          1
         ],
         "tickvals": [
          0,
          5,
          10,
          15,
          20,
          25,
          30,
          35,
          40,
          45,
          50,
          55,
          60,
          65,
          70,
          75,
          80,
          85
         ],
         "title": {
          "text": "Cao độ"
         }
        }
       }
      }
     },
     "metadata": {},
     "output_type": "display_data"
    },
    {
     "data": {
      "application/vnd.plotly.v1+json": {
       "config": {
        "plotlyServerURL": "https://plot.ly"
       },
       "data": [
        {
         "alignmentgroup": "True",
         "hovertemplate": "x=%{x}<br>y=%{y}<extra></extra>",
         "legendgroup": "",
         "marker": {
          "color": "rgb(158,202,225)",
          "line": {
           "color": "rgb(8,48,107)",
           "width": 1.5
          },
          "pattern": {
           "shape": ""
          }
         },
         "name": "",
         "offsetgroup": "",
         "opacity": 0.6,
         "orientation": "v",
         "showlegend": false,
         "textposition": "auto",
         "type": "bar",
         "x": [
          0,
          2,
          4,
          6,
          7,
          5,
          9,
          11,
          8,
          10,
          1,
          3
         ],
         "xaxis": "x",
         "y": [
          25.0231788079471,
          17.76821192052981,
          23.586092715231835,
          1.980132450331125,
          28.678807947019983,
          13.059602649006653,
          12.980132450331153,
          12.311258278145722,
          1.3079470198675487,
          1.6158940397350965,
          0.29801324503311255,
          0.5596026490066234
         ],
         "yaxis": "y"
        }
       ],
       "layout": {
        "autosize": false,
        "barmode": "relative",
        "font": {
         "size": 13
        },
        "height": 400,
        "legend": {
         "tracegroupgap": 0
        },
        "margin": {
         "t": 60
        },
        "plot_bgcolor": "white",
        "template": {
         "data": {
          "bar": [
           {
            "error_x": {
             "color": "#2a3f5f"
            },
            "error_y": {
             "color": "#2a3f5f"
            },
            "marker": {
             "line": {
              "color": "#E5ECF6",
              "width": 0.5
             },
             "pattern": {
              "fillmode": "overlay",
              "size": 10,
              "solidity": 0.2
             }
            },
            "type": "bar"
           }
          ],
          "barpolar": [
           {
            "marker": {
             "line": {
              "color": "#E5ECF6",
              "width": 0.5
             },
             "pattern": {
              "fillmode": "overlay",
              "size": 10,
              "solidity": 0.2
             }
            },
            "type": "barpolar"
           }
          ],
          "carpet": [
           {
            "aaxis": {
             "endlinecolor": "#2a3f5f",
             "gridcolor": "white",
             "linecolor": "white",
             "minorgridcolor": "white",
             "startlinecolor": "#2a3f5f"
            },
            "baxis": {
             "endlinecolor": "#2a3f5f",
             "gridcolor": "white",
             "linecolor": "white",
             "minorgridcolor": "white",
             "startlinecolor": "#2a3f5f"
            },
            "type": "carpet"
           }
          ],
          "choropleth": [
           {
            "colorbar": {
             "outlinewidth": 0,
             "ticks": ""
            },
            "type": "choropleth"
           }
          ],
          "contour": [
           {
            "colorbar": {
             "outlinewidth": 0,
             "ticks": ""
            },
            "colorscale": [
             [
              0,
              "#0d0887"
             ],
             [
              0.1111111111111111,
              "#46039f"
             ],
             [
              0.2222222222222222,
              "#7201a8"
             ],
             [
              0.3333333333333333,
              "#9c179e"
             ],
             [
              0.4444444444444444,
              "#bd3786"
             ],
             [
              0.5555555555555556,
              "#d8576b"
             ],
             [
              0.6666666666666666,
              "#ed7953"
             ],
             [
              0.7777777777777778,
              "#fb9f3a"
             ],
             [
              0.8888888888888888,
              "#fdca26"
             ],
             [
              1,
              "#f0f921"
             ]
            ],
            "type": "contour"
           }
          ],
          "contourcarpet": [
           {
            "colorbar": {
             "outlinewidth": 0,
             "ticks": ""
            },
            "type": "contourcarpet"
           }
          ],
          "heatmap": [
           {
            "colorbar": {
             "outlinewidth": 0,
             "ticks": ""
            },
            "colorscale": [
             [
              0,
              "#0d0887"
             ],
             [
              0.1111111111111111,
              "#46039f"
             ],
             [
              0.2222222222222222,
              "#7201a8"
             ],
             [
              0.3333333333333333,
              "#9c179e"
             ],
             [
              0.4444444444444444,
              "#bd3786"
             ],
             [
              0.5555555555555556,
              "#d8576b"
             ],
             [
              0.6666666666666666,
              "#ed7953"
             ],
             [
              0.7777777777777778,
              "#fb9f3a"
             ],
             [
              0.8888888888888888,
              "#fdca26"
             ],
             [
              1,
              "#f0f921"
             ]
            ],
            "type": "heatmap"
           }
          ],
          "heatmapgl": [
           {
            "colorbar": {
             "outlinewidth": 0,
             "ticks": ""
            },
            "colorscale": [
             [
              0,
              "#0d0887"
             ],
             [
              0.1111111111111111,
              "#46039f"
             ],
             [
              0.2222222222222222,
              "#7201a8"
             ],
             [
              0.3333333333333333,
              "#9c179e"
             ],
             [
              0.4444444444444444,
              "#bd3786"
             ],
             [
              0.5555555555555556,
              "#d8576b"
             ],
             [
              0.6666666666666666,
              "#ed7953"
             ],
             [
              0.7777777777777778,
              "#fb9f3a"
             ],
             [
              0.8888888888888888,
              "#fdca26"
             ],
             [
              1,
              "#f0f921"
             ]
            ],
            "type": "heatmapgl"
           }
          ],
          "histogram": [
           {
            "marker": {
             "pattern": {
              "fillmode": "overlay",
              "size": 10,
              "solidity": 0.2
             }
            },
            "type": "histogram"
           }
          ],
          "histogram2d": [
           {
            "colorbar": {
             "outlinewidth": 0,
             "ticks": ""
            },
            "colorscale": [
             [
              0,
              "#0d0887"
             ],
             [
              0.1111111111111111,
              "#46039f"
             ],
             [
              0.2222222222222222,
              "#7201a8"
             ],
             [
              0.3333333333333333,
              "#9c179e"
             ],
             [
              0.4444444444444444,
              "#bd3786"
             ],
             [
              0.5555555555555556,
              "#d8576b"
             ],
             [
              0.6666666666666666,
              "#ed7953"
             ],
             [
              0.7777777777777778,
              "#fb9f3a"
             ],
             [
              0.8888888888888888,
              "#fdca26"
             ],
             [
              1,
              "#f0f921"
             ]
            ],
            "type": "histogram2d"
           }
          ],
          "histogram2dcontour": [
           {
            "colorbar": {
             "outlinewidth": 0,
             "ticks": ""
            },
            "colorscale": [
             [
              0,
              "#0d0887"
             ],
             [
              0.1111111111111111,
              "#46039f"
             ],
             [
              0.2222222222222222,
              "#7201a8"
             ],
             [
              0.3333333333333333,
              "#9c179e"
             ],
             [
              0.4444444444444444,
              "#bd3786"
             ],
             [
              0.5555555555555556,
              "#d8576b"
             ],
             [
              0.6666666666666666,
              "#ed7953"
             ],
             [
              0.7777777777777778,
              "#fb9f3a"
             ],
             [
              0.8888888888888888,
              "#fdca26"
             ],
             [
              1,
              "#f0f921"
             ]
            ],
            "type": "histogram2dcontour"
           }
          ],
          "mesh3d": [
           {
            "colorbar": {
             "outlinewidth": 0,
             "ticks": ""
            },
            "type": "mesh3d"
           }
          ],
          "parcoords": [
           {
            "line": {
             "colorbar": {
              "outlinewidth": 0,
              "ticks": ""
             }
            },
            "type": "parcoords"
           }
          ],
          "pie": [
           {
            "automargin": true,
            "type": "pie"
           }
          ],
          "scatter": [
           {
            "fillpattern": {
             "fillmode": "overlay",
             "size": 10,
             "solidity": 0.2
            },
            "type": "scatter"
           }
          ],
          "scatter3d": [
           {
            "line": {
             "colorbar": {
              "outlinewidth": 0,
              "ticks": ""
             }
            },
            "marker": {
             "colorbar": {
              "outlinewidth": 0,
              "ticks": ""
             }
            },
            "type": "scatter3d"
           }
          ],
          "scattercarpet": [
           {
            "marker": {
             "colorbar": {
              "outlinewidth": 0,
              "ticks": ""
             }
            },
            "type": "scattercarpet"
           }
          ],
          "scattergeo": [
           {
            "marker": {
             "colorbar": {
              "outlinewidth": 0,
              "ticks": ""
             }
            },
            "type": "scattergeo"
           }
          ],
          "scattergl": [
           {
            "marker": {
             "colorbar": {
              "outlinewidth": 0,
              "ticks": ""
             }
            },
            "type": "scattergl"
           }
          ],
          "scattermapbox": [
           {
            "marker": {
             "colorbar": {
              "outlinewidth": 0,
              "ticks": ""
             }
            },
            "type": "scattermapbox"
           }
          ],
          "scatterpolar": [
           {
            "marker": {
             "colorbar": {
              "outlinewidth": 0,
              "ticks": ""
             }
            },
            "type": "scatterpolar"
           }
          ],
          "scatterpolargl": [
           {
            "marker": {
             "colorbar": {
              "outlinewidth": 0,
              "ticks": ""
             }
            },
            "type": "scatterpolargl"
           }
          ],
          "scatterternary": [
           {
            "marker": {
             "colorbar": {
              "outlinewidth": 0,
              "ticks": ""
             }
            },
            "type": "scatterternary"
           }
          ],
          "surface": [
           {
            "colorbar": {
             "outlinewidth": 0,
             "ticks": ""
            },
            "colorscale": [
             [
              0,
              "#0d0887"
             ],
             [
              0.1111111111111111,
              "#46039f"
             ],
             [
              0.2222222222222222,
              "#7201a8"
             ],
             [
              0.3333333333333333,
              "#9c179e"
             ],
             [
              0.4444444444444444,
              "#bd3786"
             ],
             [
              0.5555555555555556,
              "#d8576b"
             ],
             [
              0.6666666666666666,
              "#ed7953"
             ],
             [
              0.7777777777777778,
              "#fb9f3a"
             ],
             [
              0.8888888888888888,
              "#fdca26"
             ],
             [
              1,
              "#f0f921"
             ]
            ],
            "type": "surface"
           }
          ],
          "table": [
           {
            "cells": {
             "fill": {
              "color": "#EBF0F8"
             },
             "line": {
              "color": "white"
             }
            },
            "header": {
             "fill": {
              "color": "#C8D4E3"
             },
             "line": {
              "color": "white"
             }
            },
            "type": "table"
           }
          ]
         },
         "layout": {
          "annotationdefaults": {
           "arrowcolor": "#2a3f5f",
           "arrowhead": 0,
           "arrowwidth": 1
          },
          "autotypenumbers": "strict",
          "coloraxis": {
           "colorbar": {
            "outlinewidth": 0,
            "ticks": ""
           }
          },
          "colorscale": {
           "diverging": [
            [
             0,
             "#8e0152"
            ],
            [
             0.1,
             "#c51b7d"
            ],
            [
             0.2,
             "#de77ae"
            ],
            [
             0.3,
             "#f1b6da"
            ],
            [
             0.4,
             "#fde0ef"
            ],
            [
             0.5,
             "#f7f7f7"
            ],
            [
             0.6,
             "#e6f5d0"
            ],
            [
             0.7,
             "#b8e186"
            ],
            [
             0.8,
             "#7fbc41"
            ],
            [
             0.9,
             "#4d9221"
            ],
            [
             1,
             "#276419"
            ]
           ],
           "sequential": [
            [
             0,
             "#0d0887"
            ],
            [
             0.1111111111111111,
             "#46039f"
            ],
            [
             0.2222222222222222,
             "#7201a8"
            ],
            [
             0.3333333333333333,
             "#9c179e"
            ],
            [
             0.4444444444444444,
             "#bd3786"
            ],
            [
             0.5555555555555556,
             "#d8576b"
            ],
            [
             0.6666666666666666,
             "#ed7953"
            ],
            [
             0.7777777777777778,
             "#fb9f3a"
            ],
            [
             0.8888888888888888,
             "#fdca26"
            ],
            [
             1,
             "#f0f921"
            ]
           ],
           "sequentialminus": [
            [
             0,
             "#0d0887"
            ],
            [
             0.1111111111111111,
             "#46039f"
            ],
            [
             0.2222222222222222,
             "#7201a8"
            ],
            [
             0.3333333333333333,
             "#9c179e"
            ],
            [
             0.4444444444444444,
             "#bd3786"
            ],
            [
             0.5555555555555556,
             "#d8576b"
            ],
            [
             0.6666666666666666,
             "#ed7953"
            ],
            [
             0.7777777777777778,
             "#fb9f3a"
            ],
            [
             0.8888888888888888,
             "#fdca26"
            ],
            [
             1,
             "#f0f921"
            ]
           ]
          },
          "colorway": [
           "#636efa",
           "#EF553B",
           "#00cc96",
           "#ab63fa",
           "#FFA15A",
           "#19d3f3",
           "#FF6692",
           "#B6E880",
           "#FF97FF",
           "#FECB52"
          ],
          "font": {
           "color": "#2a3f5f"
          },
          "geo": {
           "bgcolor": "white",
           "lakecolor": "white",
           "landcolor": "#E5ECF6",
           "showlakes": true,
           "showland": true,
           "subunitcolor": "white"
          },
          "hoverlabel": {
           "align": "left"
          },
          "hovermode": "closest",
          "mapbox": {
           "style": "light"
          },
          "paper_bgcolor": "white",
          "plot_bgcolor": "#E5ECF6",
          "polar": {
           "angularaxis": {
            "gridcolor": "white",
            "linecolor": "white",
            "ticks": ""
           },
           "bgcolor": "#E5ECF6",
           "radialaxis": {
            "gridcolor": "white",
            "linecolor": "white",
            "ticks": ""
           }
          },
          "scene": {
           "xaxis": {
            "backgroundcolor": "#E5ECF6",
            "gridcolor": "white",
            "gridwidth": 2,
            "linecolor": "white",
            "showbackground": true,
            "ticks": "",
            "zerolinecolor": "white"
           },
           "yaxis": {
            "backgroundcolor": "#E5ECF6",
            "gridcolor": "white",
            "gridwidth": 2,
            "linecolor": "white",
            "showbackground": true,
            "ticks": "",
            "zerolinecolor": "white"
           },
           "zaxis": {
            "backgroundcolor": "#E5ECF6",
            "gridcolor": "white",
            "gridwidth": 2,
            "linecolor": "white",
            "showbackground": true,
            "ticks": "",
            "zerolinecolor": "white"
           }
          },
          "shapedefaults": {
           "line": {
            "color": "#2a3f5f"
           }
          },
          "ternary": {
           "aaxis": {
            "gridcolor": "white",
            "linecolor": "white",
            "ticks": ""
           },
           "baxis": {
            "gridcolor": "white",
            "linecolor": "white",
            "ticks": ""
           },
           "bgcolor": "#E5ECF6",
           "caxis": {
            "gridcolor": "white",
            "linecolor": "white",
            "ticks": ""
           }
          },
          "title": {
           "x": 0.05
          },
          "xaxis": {
           "automargin": true,
           "gridcolor": "white",
           "linecolor": "white",
           "ticks": "",
           "title": {
            "standoff": 15
           },
           "zerolinecolor": "white",
           "zerolinewidth": 2
          },
          "yaxis": {
           "automargin": true,
           "gridcolor": "white",
           "linecolor": "white",
           "ticks": "",
           "title": {
            "standoff": 15
           },
           "zerolinecolor": "white",
           "zerolinewidth": 2
          }
         }
        },
        "title": {
         "text": "Model output (n = 302)"
        },
        "width": 650,
        "xaxis": {
         "anchor": "y",
         "domain": [
          0,
          1
         ],
         "tickvals": [
          0,
          1,
          2,
          3,
          4,
          5,
          6,
          7,
          8,
          9,
          10,
          11
         ],
         "title": {
          "text": "Cao độ cơ bản"
         }
        },
        "yaxis": {
         "anchor": "x",
         "domain": [
          0,
          1
         ],
         "gridcolor": "rgb(158,202,225)",
         "gridwidth": 1,
         "showgrid": true,
         "title": {
          "text": "Số lần xuất hiện trung bình"
         }
        }
       }
      }
     },
     "metadata": {},
     "output_type": "display_data"
    },
    {
     "name": "stdout",
     "output_type": "stream",
     "text": [
      "Số lượng nốt nhạc trung bình trong một đoạn nhạc từ Model output (n = 302): 139.16887417218544\n"
     ]
    }
   ],
   "source": [
    "# Horizontal bar chart for pitch counts using plotly express (with y is the pitch and x is the count)\n",
    "fig = px.bar(\n",
    "    x=list(average_results['pitch_counts'].values()), \n",
    "    y=list(average_results['pitch_counts'].keys()), \n",
    "    orientation='h'\n",
    ")\n",
    "\n",
    "fig.update_layout(\n",
    "    title=f'Model output (n = {n_file_to_analyze})', \n",
    "    xaxis_title='Số lần xuất hiện trung bình',\n",
    "    yaxis_title='Cao độ'\n",
    ")\n",
    "\n",
    "# Show labels 0, 5, 10, 15, ... in y-axis\n",
    "y_axis_tickvals = list(range(0, max(average_results['pitch_counts'].keys()) + 1, 5))\n",
    "fig.update_yaxes(tickvals=y_axis_tickvals)\n",
    "\n",
    "# Show labels 0, 1, 2, 3, ... in x-axis\n",
    "x_axis_tickvals = list(range(\n",
    "    0, \n",
    "    int(max(average_results['pitch_counts'].values())) + 1 + 1\n",
    "))\n",
    "fig.update_xaxes(tickvals=x_axis_tickvals)\n",
    "\n",
    "# Change the color set to make it easier to see when printed in black and white\n",
    "fig.update_traces(marker_color='rgb(158,202,225)', marker_line_color='rgb(8,48,107)', marker_line_width=1.5, opacity=0.6)\n",
    "\n",
    "# Change the background color to make it easier to see when printed in black and white\n",
    "fig.update_layout(plot_bgcolor='white')\n",
    "\n",
    "# Show the vertical grid lines\n",
    "fig.update_layout(xaxis=dict(showgrid=True, gridwidth=1, gridcolor='rgb(158,202,225)'))\n",
    "\n",
    "# Make the colums overlay the grid lines\n",
    "fig.update_layout(barmode='overlay')\n",
    "\n",
    "# Make the font size bigger\n",
    "fig.update_layout(font=dict(size=13))\n",
    "\n",
    "# Make the plot ratio x:y\n",
    "fig.update_layout(\n",
    "    autosize=False,\n",
    "    width=450,\n",
    "    height=1200,\n",
    ")\n",
    "\n",
    "fig.show()\n",
    "\n",
    "\n",
    "# Pitch class distribution\n",
    "fig = px.bar(x=list(average_results['pitch_class_distribution'].keys()), y=list(average_results['pitch_class_distribution'].values()))\n",
    "fig.update_layout(\n",
    "    title=f'Model output (n = {n_file_to_analyze})', \n",
    "    yaxis_title='Số lần xuất hiện trung bình',\n",
    "    xaxis_title='Cao độ cơ bản'\n",
    ")\n",
    "\n",
    "# Show labels 0, 1, 2, 3, ... in x-axis\n",
    "x_axis_tickvals = list(range(0, max(average_results['pitch_class_distribution'].keys()) + 1))\n",
    "fig.update_xaxes(tickvals=x_axis_tickvals)\n",
    "\n",
    "# Change the color set to make it easier to see when printed in black and white\n",
    "fig.update_traces(marker_color='rgb(158,202,225)', marker_line_color='rgb(8,48,107)', marker_line_width=1.5, opacity=0.6)\n",
    "\n",
    "# Change the background color to make it easier to see when printed in black and white\n",
    "fig.update_layout(plot_bgcolor='white')\n",
    "\n",
    "# Show the horizontal grid lines\n",
    "fig.update_layout(yaxis=dict(showgrid=True, gridwidth=1, gridcolor='rgb(158,202,225)'))\n",
    "\n",
    "# Make the font size bigger\n",
    "fig.update_layout(font=dict(size=13))\n",
    "\n",
    "# Make the plot ratio x:y\n",
    "fig.update_layout(\n",
    "    autosize=False,\n",
    "    width=650,\n",
    "    height=400,\n",
    ")\n",
    "\n",
    "fig.show()\n",
    "\n",
    "# Note count\n",
    "print(f\"Số lượng nốt nhạc trung bình trong một đoạn nhạc từ Model output (n = {n_file_to_analyze}): {average_results['note_count']}\")"
   ]
  },
  {
   "cell_type": "markdown",
   "metadata": {},
   "source": [
    "# Model Output (C major & A minor key only)"
   ]
  },
  {
   "cell_type": "code",
   "execution_count": 14,
   "metadata": {},
   "outputs": [
    {
     "name": "stdout",
     "output_type": "stream",
     "text": [
      "{25: 0.0033112582781456954, 29: 0.0033112582781456954, 31: 0.0033112582781456954, 32: 0.009933774834437087, 33: 0.5993377483443723, 34: 0.0033112582781456954, 35: 0.013245033112582781, 36: 1.5629139072847646, 37: 0.009933774834437087, 38: 0.026490066225165563, 39: 0.006622516556291391, 40: 1.281456953642384, 41: 2.513245033112579, 42: 0.0033112582781456954, 43: 9.152317880794698, 44: 0.019867549668874173, 45: 1.3377483443708602, 46: 0.04966887417218545, 47: 1.6887417218542982, 48: 5.615894039735119, 49: 0.009933774834437087, 50: 4.2119205298013265, 51: 0.06953642384105964, 52: 7.692052980132458, 53: 2.5430463576158937, 54: 0.16556291390728473, 55: 6.284768211920546, 56: 1.1854304635761592, 57: 3.3642384105960286, 58: 1.036423841059605, 59: 8.0496688741722, 60: 11.58278145695367, 61: 0.07284768211920534, 62: 9.182119205298012, 63: 0.4205298013245037, 64: 6.314569536423854, 65: 4.37748344370861, 66: 1.0231788079470225, 67: 11.185430463576179, 68: 0.08609271523178812, 69: 6.1920529801324555, 70: 0.5165562913907293, 71: 1.8509933774834424, 72: 5.834437086092727, 73: 0.20198675496688728, 74: 4.254966887417224, 75: 0.06291390728476823, 76: 4.096026490066228, 77: 3.6225165562913926, 78: 0.7880794701986775, 79: 2.0529801324503296, 80: 0.006622516556291391, 81: 1.4867549668874176, 82: 0.009933774834437087, 83: 0.7086092715231803, 84: 0.42715231788079494, 86: 0.09271523178807953, 88: 4.201986754966884}\n",
      "{'29': 0.0033112582781456954, '31': 0.0033112582781456954, '33': 0.5993377483443723, '35': 0.013245033112582781, '36': 1.5629139072847646, '38': 0.026490066225165563, '40': 1.281456953642384, '41': 2.513245033112579, '43': 9.152317880794698, '45': 1.3377483443708602, '47': 1.6887417218542982, '48': 5.615894039735119, '50': 4.2119205298013265, '52': 7.692052980132458, '53': 2.5430463576158937, '55': 6.284768211920546, '57': 3.3642384105960286, '59': 8.0496688741722, '60': 11.58278145695367, '62': 9.182119205298012, '64': 6.314569536423854, '65': 4.37748344370861, '67': 11.185430463576179, '69': 6.1920529801324555, '71': 1.8509933774834424, '72': 5.834437086092727, '74': 4.254966887417224, '76': 4.096026490066228, '77': 3.6225165562913926, '79': 2.0529801324503296, '81': 1.4867549668874176, '83': 0.7086092715231803, '84': 0.42715231788079494, '86': 0.09271523178807953, '88': 4.201986754966884}\n",
      "{0: 25.0231788079471, 1: 0.29801324503311255, 2: 17.76821192052981, 3: 0.5596026490066234, 4: 23.586092715231835, 5: 13.059602649006653, 6: 1.980132450331125, 7: 28.678807947019983, 8: 1.3079470198675487, 9: 12.980132450331153, 10: 1.6158940397350965, 11: 12.311258278145722}\n",
      "{'0': 25.0231788079471, '2': 17.76821192052981, '4': 23.586092715231835, '5': 13.059602649006653, '7': 28.678807947019983, '9': 12.980132450331153, '11': 12.311258278145722}\n"
     ]
    }
   ],
   "source": [
    "# Select the pitches to analyze (C major scale and A minor scale)\n",
    "selected_pitchs = [\n",
    "    0, # C\n",
    "    2, # D\n",
    "    4, # E\n",
    "    5, # F\n",
    "    7, # G\n",
    "    9, # A\n",
    "    11 # B\n",
    "]\n",
    "\n",
    "# AVARAGE PITCH COUNTS\n",
    "# Sort average_results['pitch_counts'] by pitch\n",
    "average_results['pitch_counts'] = dict(sorted(average_results['pitch_counts'].items()))\n",
    "\n",
    "print(average_results['pitch_counts'])\n",
    "\n",
    "# Filter the pitch that pitch mod any of the selected pitches equals 0\n",
    "filtered_pitch_counts = {\n",
    "    str(pitch): count \n",
    "    for pitch, count in average_results['pitch_counts'].items() \n",
    "    if pitch % 12 in selected_pitchs\n",
    "}\n",
    "\n",
    "print(filtered_pitch_counts)\n",
    "\n",
    "# AVARAGE PITCH CLASS DISTRIBUTION\n",
    "# Sort average_results['pitch_class_distribution'] by pitch class\n",
    "average_results['pitch_class_distribution'] = dict(sorted(average_results['pitch_class_distribution'].items()))\n",
    "\n",
    "print(average_results['pitch_class_distribution'])\n",
    "\n",
    "# Filter the pitch class that is in the selected pitch classes\n",
    "filtered_pitch_class_distribution = {\n",
    "    str(pitch_class): count \n",
    "    for pitch_class, count in average_results['pitch_class_distribution'].items() \n",
    "    if pitch_class in selected_pitchs\n",
    "}\n",
    "\n",
    "print(filtered_pitch_class_distribution)"
   ]
  },
  {
   "cell_type": "code",
   "execution_count": 15,
   "metadata": {},
   "outputs": [
    {
     "data": {
      "application/vnd.plotly.v1+json": {
       "config": {
        "plotlyServerURL": "https://plot.ly"
       },
       "data": [
        {
         "alignmentgroup": "True",
         "hovertemplate": "x=%{x}<br>y=%{y}<extra></extra>",
         "legendgroup": "",
         "marker": {
          "color": "rgb(158,202,225)",
          "line": {
           "color": "rgb(8,48,107)",
           "width": 1.5
          },
          "pattern": {
           "shape": ""
          }
         },
         "name": "",
         "offsetgroup": "",
         "opacity": 0.6,
         "orientation": "h",
         "showlegend": false,
         "textposition": "auto",
         "type": "bar",
         "x": [
          0.0033112582781456954,
          0.0033112582781456954,
          0.5993377483443723,
          0.013245033112582781,
          1.5629139072847646,
          0.026490066225165563,
          1.281456953642384,
          2.513245033112579,
          9.152317880794698,
          1.3377483443708602,
          1.6887417218542982,
          5.615894039735119,
          4.2119205298013265,
          7.692052980132458,
          2.5430463576158937,
          6.284768211920546,
          3.3642384105960286,
          8.0496688741722,
          11.58278145695367,
          9.182119205298012,
          6.314569536423854,
          4.37748344370861,
          11.185430463576179,
          6.1920529801324555,
          1.8509933774834424,
          5.834437086092727,
          4.254966887417224,
          4.096026490066228,
          3.6225165562913926,
          2.0529801324503296,
          1.4867549668874176,
          0.7086092715231803,
          0.42715231788079494,
          0.09271523178807953,
          4.201986754966884
         ],
         "xaxis": "x",
         "y": [
          "29",
          "31",
          "33",
          "35",
          "36",
          "38",
          "40",
          "41",
          "43",
          "45",
          "47",
          "48",
          "50",
          "52",
          "53",
          "55",
          "57",
          "59",
          "60",
          "62",
          "64",
          "65",
          "67",
          "69",
          "71",
          "72",
          "74",
          "76",
          "77",
          "79",
          "81",
          "83",
          "84",
          "86",
          "88"
         ],
         "yaxis": "y"
        }
       ],
       "layout": {
        "autosize": false,
        "barmode": "overlay",
        "font": {
         "size": 13
        },
        "height": 850,
        "legend": {
         "tracegroupgap": 0
        },
        "margin": {
         "t": 60
        },
        "plot_bgcolor": "white",
        "template": {
         "data": {
          "bar": [
           {
            "error_x": {
             "color": "#2a3f5f"
            },
            "error_y": {
             "color": "#2a3f5f"
            },
            "marker": {
             "line": {
              "color": "#E5ECF6",
              "width": 0.5
             },
             "pattern": {
              "fillmode": "overlay",
              "size": 10,
              "solidity": 0.2
             }
            },
            "type": "bar"
           }
          ],
          "barpolar": [
           {
            "marker": {
             "line": {
              "color": "#E5ECF6",
              "width": 0.5
             },
             "pattern": {
              "fillmode": "overlay",
              "size": 10,
              "solidity": 0.2
             }
            },
            "type": "barpolar"
           }
          ],
          "carpet": [
           {
            "aaxis": {
             "endlinecolor": "#2a3f5f",
             "gridcolor": "white",
             "linecolor": "white",
             "minorgridcolor": "white",
             "startlinecolor": "#2a3f5f"
            },
            "baxis": {
             "endlinecolor": "#2a3f5f",
             "gridcolor": "white",
             "linecolor": "white",
             "minorgridcolor": "white",
             "startlinecolor": "#2a3f5f"
            },
            "type": "carpet"
           }
          ],
          "choropleth": [
           {
            "colorbar": {
             "outlinewidth": 0,
             "ticks": ""
            },
            "type": "choropleth"
           }
          ],
          "contour": [
           {
            "colorbar": {
             "outlinewidth": 0,
             "ticks": ""
            },
            "colorscale": [
             [
              0,
              "#0d0887"
             ],
             [
              0.1111111111111111,
              "#46039f"
             ],
             [
              0.2222222222222222,
              "#7201a8"
             ],
             [
              0.3333333333333333,
              "#9c179e"
             ],
             [
              0.4444444444444444,
              "#bd3786"
             ],
             [
              0.5555555555555556,
              "#d8576b"
             ],
             [
              0.6666666666666666,
              "#ed7953"
             ],
             [
              0.7777777777777778,
              "#fb9f3a"
             ],
             [
              0.8888888888888888,
              "#fdca26"
             ],
             [
              1,
              "#f0f921"
             ]
            ],
            "type": "contour"
           }
          ],
          "contourcarpet": [
           {
            "colorbar": {
             "outlinewidth": 0,
             "ticks": ""
            },
            "type": "contourcarpet"
           }
          ],
          "heatmap": [
           {
            "colorbar": {
             "outlinewidth": 0,
             "ticks": ""
            },
            "colorscale": [
             [
              0,
              "#0d0887"
             ],
             [
              0.1111111111111111,
              "#46039f"
             ],
             [
              0.2222222222222222,
              "#7201a8"
             ],
             [
              0.3333333333333333,
              "#9c179e"
             ],
             [
              0.4444444444444444,
              "#bd3786"
             ],
             [
              0.5555555555555556,
              "#d8576b"
             ],
             [
              0.6666666666666666,
              "#ed7953"
             ],
             [
              0.7777777777777778,
              "#fb9f3a"
             ],
             [
              0.8888888888888888,
              "#fdca26"
             ],
             [
              1,
              "#f0f921"
             ]
            ],
            "type": "heatmap"
           }
          ],
          "heatmapgl": [
           {
            "colorbar": {
             "outlinewidth": 0,
             "ticks": ""
            },
            "colorscale": [
             [
              0,
              "#0d0887"
             ],
             [
              0.1111111111111111,
              "#46039f"
             ],
             [
              0.2222222222222222,
              "#7201a8"
             ],
             [
              0.3333333333333333,
              "#9c179e"
             ],
             [
              0.4444444444444444,
              "#bd3786"
             ],
             [
              0.5555555555555556,
              "#d8576b"
             ],
             [
              0.6666666666666666,
              "#ed7953"
             ],
             [
              0.7777777777777778,
              "#fb9f3a"
             ],
             [
              0.8888888888888888,
              "#fdca26"
             ],
             [
              1,
              "#f0f921"
             ]
            ],
            "type": "heatmapgl"
           }
          ],
          "histogram": [
           {
            "marker": {
             "pattern": {
              "fillmode": "overlay",
              "size": 10,
              "solidity": 0.2
             }
            },
            "type": "histogram"
           }
          ],
          "histogram2d": [
           {
            "colorbar": {
             "outlinewidth": 0,
             "ticks": ""
            },
            "colorscale": [
             [
              0,
              "#0d0887"
             ],
             [
              0.1111111111111111,
              "#46039f"
             ],
             [
              0.2222222222222222,
              "#7201a8"
             ],
             [
              0.3333333333333333,
              "#9c179e"
             ],
             [
              0.4444444444444444,
              "#bd3786"
             ],
             [
              0.5555555555555556,
              "#d8576b"
             ],
             [
              0.6666666666666666,
              "#ed7953"
             ],
             [
              0.7777777777777778,
              "#fb9f3a"
             ],
             [
              0.8888888888888888,
              "#fdca26"
             ],
             [
              1,
              "#f0f921"
             ]
            ],
            "type": "histogram2d"
           }
          ],
          "histogram2dcontour": [
           {
            "colorbar": {
             "outlinewidth": 0,
             "ticks": ""
            },
            "colorscale": [
             [
              0,
              "#0d0887"
             ],
             [
              0.1111111111111111,
              "#46039f"
             ],
             [
              0.2222222222222222,
              "#7201a8"
             ],
             [
              0.3333333333333333,
              "#9c179e"
             ],
             [
              0.4444444444444444,
              "#bd3786"
             ],
             [
              0.5555555555555556,
              "#d8576b"
             ],
             [
              0.6666666666666666,
              "#ed7953"
             ],
             [
              0.7777777777777778,
              "#fb9f3a"
             ],
             [
              0.8888888888888888,
              "#fdca26"
             ],
             [
              1,
              "#f0f921"
             ]
            ],
            "type": "histogram2dcontour"
           }
          ],
          "mesh3d": [
           {
            "colorbar": {
             "outlinewidth": 0,
             "ticks": ""
            },
            "type": "mesh3d"
           }
          ],
          "parcoords": [
           {
            "line": {
             "colorbar": {
              "outlinewidth": 0,
              "ticks": ""
             }
            },
            "type": "parcoords"
           }
          ],
          "pie": [
           {
            "automargin": true,
            "type": "pie"
           }
          ],
          "scatter": [
           {
            "fillpattern": {
             "fillmode": "overlay",
             "size": 10,
             "solidity": 0.2
            },
            "type": "scatter"
           }
          ],
          "scatter3d": [
           {
            "line": {
             "colorbar": {
              "outlinewidth": 0,
              "ticks": ""
             }
            },
            "marker": {
             "colorbar": {
              "outlinewidth": 0,
              "ticks": ""
             }
            },
            "type": "scatter3d"
           }
          ],
          "scattercarpet": [
           {
            "marker": {
             "colorbar": {
              "outlinewidth": 0,
              "ticks": ""
             }
            },
            "type": "scattercarpet"
           }
          ],
          "scattergeo": [
           {
            "marker": {
             "colorbar": {
              "outlinewidth": 0,
              "ticks": ""
             }
            },
            "type": "scattergeo"
           }
          ],
          "scattergl": [
           {
            "marker": {
             "colorbar": {
              "outlinewidth": 0,
              "ticks": ""
             }
            },
            "type": "scattergl"
           }
          ],
          "scattermapbox": [
           {
            "marker": {
             "colorbar": {
              "outlinewidth": 0,
              "ticks": ""
             }
            },
            "type": "scattermapbox"
           }
          ],
          "scatterpolar": [
           {
            "marker": {
             "colorbar": {
              "outlinewidth": 0,
              "ticks": ""
             }
            },
            "type": "scatterpolar"
           }
          ],
          "scatterpolargl": [
           {
            "marker": {
             "colorbar": {
              "outlinewidth": 0,
              "ticks": ""
             }
            },
            "type": "scatterpolargl"
           }
          ],
          "scatterternary": [
           {
            "marker": {
             "colorbar": {
              "outlinewidth": 0,
              "ticks": ""
             }
            },
            "type": "scatterternary"
           }
          ],
          "surface": [
           {
            "colorbar": {
             "outlinewidth": 0,
             "ticks": ""
            },
            "colorscale": [
             [
              0,
              "#0d0887"
             ],
             [
              0.1111111111111111,
              "#46039f"
             ],
             [
              0.2222222222222222,
              "#7201a8"
             ],
             [
              0.3333333333333333,
              "#9c179e"
             ],
             [
              0.4444444444444444,
              "#bd3786"
             ],
             [
              0.5555555555555556,
              "#d8576b"
             ],
             [
              0.6666666666666666,
              "#ed7953"
             ],
             [
              0.7777777777777778,
              "#fb9f3a"
             ],
             [
              0.8888888888888888,
              "#fdca26"
             ],
             [
              1,
              "#f0f921"
             ]
            ],
            "type": "surface"
           }
          ],
          "table": [
           {
            "cells": {
             "fill": {
              "color": "#EBF0F8"
             },
             "line": {
              "color": "white"
             }
            },
            "header": {
             "fill": {
              "color": "#C8D4E3"
             },
             "line": {
              "color": "white"
             }
            },
            "type": "table"
           }
          ]
         },
         "layout": {
          "annotationdefaults": {
           "arrowcolor": "#2a3f5f",
           "arrowhead": 0,
           "arrowwidth": 1
          },
          "autotypenumbers": "strict",
          "coloraxis": {
           "colorbar": {
            "outlinewidth": 0,
            "ticks": ""
           }
          },
          "colorscale": {
           "diverging": [
            [
             0,
             "#8e0152"
            ],
            [
             0.1,
             "#c51b7d"
            ],
            [
             0.2,
             "#de77ae"
            ],
            [
             0.3,
             "#f1b6da"
            ],
            [
             0.4,
             "#fde0ef"
            ],
            [
             0.5,
             "#f7f7f7"
            ],
            [
             0.6,
             "#e6f5d0"
            ],
            [
             0.7,
             "#b8e186"
            ],
            [
             0.8,
             "#7fbc41"
            ],
            [
             0.9,
             "#4d9221"
            ],
            [
             1,
             "#276419"
            ]
           ],
           "sequential": [
            [
             0,
             "#0d0887"
            ],
            [
             0.1111111111111111,
             "#46039f"
            ],
            [
             0.2222222222222222,
             "#7201a8"
            ],
            [
             0.3333333333333333,
             "#9c179e"
            ],
            [
             0.4444444444444444,
             "#bd3786"
            ],
            [
             0.5555555555555556,
             "#d8576b"
            ],
            [
             0.6666666666666666,
             "#ed7953"
            ],
            [
             0.7777777777777778,
             "#fb9f3a"
            ],
            [
             0.8888888888888888,
             "#fdca26"
            ],
            [
             1,
             "#f0f921"
            ]
           ],
           "sequentialminus": [
            [
             0,
             "#0d0887"
            ],
            [
             0.1111111111111111,
             "#46039f"
            ],
            [
             0.2222222222222222,
             "#7201a8"
            ],
            [
             0.3333333333333333,
             "#9c179e"
            ],
            [
             0.4444444444444444,
             "#bd3786"
            ],
            [
             0.5555555555555556,
             "#d8576b"
            ],
            [
             0.6666666666666666,
             "#ed7953"
            ],
            [
             0.7777777777777778,
             "#fb9f3a"
            ],
            [
             0.8888888888888888,
             "#fdca26"
            ],
            [
             1,
             "#f0f921"
            ]
           ]
          },
          "colorway": [
           "#636efa",
           "#EF553B",
           "#00cc96",
           "#ab63fa",
           "#FFA15A",
           "#19d3f3",
           "#FF6692",
           "#B6E880",
           "#FF97FF",
           "#FECB52"
          ],
          "font": {
           "color": "#2a3f5f"
          },
          "geo": {
           "bgcolor": "white",
           "lakecolor": "white",
           "landcolor": "#E5ECF6",
           "showlakes": true,
           "showland": true,
           "subunitcolor": "white"
          },
          "hoverlabel": {
           "align": "left"
          },
          "hovermode": "closest",
          "mapbox": {
           "style": "light"
          },
          "paper_bgcolor": "white",
          "plot_bgcolor": "#E5ECF6",
          "polar": {
           "angularaxis": {
            "gridcolor": "white",
            "linecolor": "white",
            "ticks": ""
           },
           "bgcolor": "#E5ECF6",
           "radialaxis": {
            "gridcolor": "white",
            "linecolor": "white",
            "ticks": ""
           }
          },
          "scene": {
           "xaxis": {
            "backgroundcolor": "#E5ECF6",
            "gridcolor": "white",
            "gridwidth": 2,
            "linecolor": "white",
            "showbackground": true,
            "ticks": "",
            "zerolinecolor": "white"
           },
           "yaxis": {
            "backgroundcolor": "#E5ECF6",
            "gridcolor": "white",
            "gridwidth": 2,
            "linecolor": "white",
            "showbackground": true,
            "ticks": "",
            "zerolinecolor": "white"
           },
           "zaxis": {
            "backgroundcolor": "#E5ECF6",
            "gridcolor": "white",
            "gridwidth": 2,
            "linecolor": "white",
            "showbackground": true,
            "ticks": "",
            "zerolinecolor": "white"
           }
          },
          "shapedefaults": {
           "line": {
            "color": "#2a3f5f"
           }
          },
          "ternary": {
           "aaxis": {
            "gridcolor": "white",
            "linecolor": "white",
            "ticks": ""
           },
           "baxis": {
            "gridcolor": "white",
            "linecolor": "white",
            "ticks": ""
           },
           "bgcolor": "#E5ECF6",
           "caxis": {
            "gridcolor": "white",
            "linecolor": "white",
            "ticks": ""
           }
          },
          "title": {
           "x": 0.05
          },
          "xaxis": {
           "automargin": true,
           "gridcolor": "white",
           "linecolor": "white",
           "ticks": "",
           "title": {
            "standoff": 15
           },
           "zerolinecolor": "white",
           "zerolinewidth": 2
          },
          "yaxis": {
           "automargin": true,
           "gridcolor": "white",
           "linecolor": "white",
           "ticks": "",
           "title": {
            "standoff": 15
           },
           "zerolinecolor": "white",
           "zerolinewidth": 2
          }
         }
        },
        "title": {
         "text": "Model output (n = 302)"
        },
        "width": 450,
        "xaxis": {
         "anchor": "y",
         "domain": [
          0,
          1
         ],
         "gridcolor": "rgb(158,202,225)",
         "gridwidth": 1,
         "showgrid": true,
         "tickvals": [
          0,
          5,
          10
         ],
         "title": {
          "text": "Average count"
         }
        },
        "yaxis": {
         "anchor": "x",
         "domain": [
          0,
          1
         ],
         "tickvals": [
          "29",
          "31",
          "33",
          "35",
          "36",
          "38",
          "40",
          "41",
          "43",
          "45",
          "47",
          "48",
          "50",
          "52",
          "53",
          "55",
          "57",
          "59",
          "60",
          "62",
          "64",
          "65",
          "67",
          "69",
          "71",
          "72",
          "74",
          "76",
          "77",
          "79",
          "81",
          "83",
          "84",
          "86",
          "88"
         ],
         "title": {
          "text": "Pitch"
         }
        }
       }
      }
     },
     "metadata": {},
     "output_type": "display_data"
    },
    {
     "data": {
      "application/vnd.plotly.v1+json": {
       "config": {
        "plotlyServerURL": "https://plot.ly"
       },
       "data": [
        {
         "alignmentgroup": "True",
         "hovertemplate": "x=%{x}<br>y=%{y}<extra></extra>",
         "legendgroup": "",
         "marker": {
          "color": "rgb(158,202,225)",
          "line": {
           "color": "rgb(8,48,107)",
           "width": 1.5
          },
          "pattern": {
           "shape": ""
          }
         },
         "name": "",
         "offsetgroup": "",
         "opacity": 0.6,
         "orientation": "v",
         "showlegend": false,
         "textposition": "auto",
         "type": "bar",
         "x": [
          "0",
          "2",
          "4",
          "5",
          "7",
          "9",
          "11"
         ],
         "xaxis": "x",
         "y": [
          25.0231788079471,
          17.76821192052981,
          23.586092715231835,
          13.059602649006653,
          28.678807947019983,
          12.980132450331153,
          12.311258278145722
         ],
         "yaxis": "y"
        }
       ],
       "layout": {
        "autosize": false,
        "barmode": "relative",
        "font": {
         "size": 13
        },
        "height": 400,
        "legend": {
         "tracegroupgap": 0
        },
        "margin": {
         "t": 60
        },
        "plot_bgcolor": "white",
        "template": {
         "data": {
          "bar": [
           {
            "error_x": {
             "color": "#2a3f5f"
            },
            "error_y": {
             "color": "#2a3f5f"
            },
            "marker": {
             "line": {
              "color": "#E5ECF6",
              "width": 0.5
             },
             "pattern": {
              "fillmode": "overlay",
              "size": 10,
              "solidity": 0.2
             }
            },
            "type": "bar"
           }
          ],
          "barpolar": [
           {
            "marker": {
             "line": {
              "color": "#E5ECF6",
              "width": 0.5
             },
             "pattern": {
              "fillmode": "overlay",
              "size": 10,
              "solidity": 0.2
             }
            },
            "type": "barpolar"
           }
          ],
          "carpet": [
           {
            "aaxis": {
             "endlinecolor": "#2a3f5f",
             "gridcolor": "white",
             "linecolor": "white",
             "minorgridcolor": "white",
             "startlinecolor": "#2a3f5f"
            },
            "baxis": {
             "endlinecolor": "#2a3f5f",
             "gridcolor": "white",
             "linecolor": "white",
             "minorgridcolor": "white",
             "startlinecolor": "#2a3f5f"
            },
            "type": "carpet"
           }
          ],
          "choropleth": [
           {
            "colorbar": {
             "outlinewidth": 0,
             "ticks": ""
            },
            "type": "choropleth"
           }
          ],
          "contour": [
           {
            "colorbar": {
             "outlinewidth": 0,
             "ticks": ""
            },
            "colorscale": [
             [
              0,
              "#0d0887"
             ],
             [
              0.1111111111111111,
              "#46039f"
             ],
             [
              0.2222222222222222,
              "#7201a8"
             ],
             [
              0.3333333333333333,
              "#9c179e"
             ],
             [
              0.4444444444444444,
              "#bd3786"
             ],
             [
              0.5555555555555556,
              "#d8576b"
             ],
             [
              0.6666666666666666,
              "#ed7953"
             ],
             [
              0.7777777777777778,
              "#fb9f3a"
             ],
             [
              0.8888888888888888,
              "#fdca26"
             ],
             [
              1,
              "#f0f921"
             ]
            ],
            "type": "contour"
           }
          ],
          "contourcarpet": [
           {
            "colorbar": {
             "outlinewidth": 0,
             "ticks": ""
            },
            "type": "contourcarpet"
           }
          ],
          "heatmap": [
           {
            "colorbar": {
             "outlinewidth": 0,
             "ticks": ""
            },
            "colorscale": [
             [
              0,
              "#0d0887"
             ],
             [
              0.1111111111111111,
              "#46039f"
             ],
             [
              0.2222222222222222,
              "#7201a8"
             ],
             [
              0.3333333333333333,
              "#9c179e"
             ],
             [
              0.4444444444444444,
              "#bd3786"
             ],
             [
              0.5555555555555556,
              "#d8576b"
             ],
             [
              0.6666666666666666,
              "#ed7953"
             ],
             [
              0.7777777777777778,
              "#fb9f3a"
             ],
             [
              0.8888888888888888,
              "#fdca26"
             ],
             [
              1,
              "#f0f921"
             ]
            ],
            "type": "heatmap"
           }
          ],
          "heatmapgl": [
           {
            "colorbar": {
             "outlinewidth": 0,
             "ticks": ""
            },
            "colorscale": [
             [
              0,
              "#0d0887"
             ],
             [
              0.1111111111111111,
              "#46039f"
             ],
             [
              0.2222222222222222,
              "#7201a8"
             ],
             [
              0.3333333333333333,
              "#9c179e"
             ],
             [
              0.4444444444444444,
              "#bd3786"
             ],
             [
              0.5555555555555556,
              "#d8576b"
             ],
             [
              0.6666666666666666,
              "#ed7953"
             ],
             [
              0.7777777777777778,
              "#fb9f3a"
             ],
             [
              0.8888888888888888,
              "#fdca26"
             ],
             [
              1,
              "#f0f921"
             ]
            ],
            "type": "heatmapgl"
           }
          ],
          "histogram": [
           {
            "marker": {
             "pattern": {
              "fillmode": "overlay",
              "size": 10,
              "solidity": 0.2
             }
            },
            "type": "histogram"
           }
          ],
          "histogram2d": [
           {
            "colorbar": {
             "outlinewidth": 0,
             "ticks": ""
            },
            "colorscale": [
             [
              0,
              "#0d0887"
             ],
             [
              0.1111111111111111,
              "#46039f"
             ],
             [
              0.2222222222222222,
              "#7201a8"
             ],
             [
              0.3333333333333333,
              "#9c179e"
             ],
             [
              0.4444444444444444,
              "#bd3786"
             ],
             [
              0.5555555555555556,
              "#d8576b"
             ],
             [
              0.6666666666666666,
              "#ed7953"
             ],
             [
              0.7777777777777778,
              "#fb9f3a"
             ],
             [
              0.8888888888888888,
              "#fdca26"
             ],
             [
              1,
              "#f0f921"
             ]
            ],
            "type": "histogram2d"
           }
          ],
          "histogram2dcontour": [
           {
            "colorbar": {
             "outlinewidth": 0,
             "ticks": ""
            },
            "colorscale": [
             [
              0,
              "#0d0887"
             ],
             [
              0.1111111111111111,
              "#46039f"
             ],
             [
              0.2222222222222222,
              "#7201a8"
             ],
             [
              0.3333333333333333,
              "#9c179e"
             ],
             [
              0.4444444444444444,
              "#bd3786"
             ],
             [
              0.5555555555555556,
              "#d8576b"
             ],
             [
              0.6666666666666666,
              "#ed7953"
             ],
             [
              0.7777777777777778,
              "#fb9f3a"
             ],
             [
              0.8888888888888888,
              "#fdca26"
             ],
             [
              1,
              "#f0f921"
             ]
            ],
            "type": "histogram2dcontour"
           }
          ],
          "mesh3d": [
           {
            "colorbar": {
             "outlinewidth": 0,
             "ticks": ""
            },
            "type": "mesh3d"
           }
          ],
          "parcoords": [
           {
            "line": {
             "colorbar": {
              "outlinewidth": 0,
              "ticks": ""
             }
            },
            "type": "parcoords"
           }
          ],
          "pie": [
           {
            "automargin": true,
            "type": "pie"
           }
          ],
          "scatter": [
           {
            "fillpattern": {
             "fillmode": "overlay",
             "size": 10,
             "solidity": 0.2
            },
            "type": "scatter"
           }
          ],
          "scatter3d": [
           {
            "line": {
             "colorbar": {
              "outlinewidth": 0,
              "ticks": ""
             }
            },
            "marker": {
             "colorbar": {
              "outlinewidth": 0,
              "ticks": ""
             }
            },
            "type": "scatter3d"
           }
          ],
          "scattercarpet": [
           {
            "marker": {
             "colorbar": {
              "outlinewidth": 0,
              "ticks": ""
             }
            },
            "type": "scattercarpet"
           }
          ],
          "scattergeo": [
           {
            "marker": {
             "colorbar": {
              "outlinewidth": 0,
              "ticks": ""
             }
            },
            "type": "scattergeo"
           }
          ],
          "scattergl": [
           {
            "marker": {
             "colorbar": {
              "outlinewidth": 0,
              "ticks": ""
             }
            },
            "type": "scattergl"
           }
          ],
          "scattermapbox": [
           {
            "marker": {
             "colorbar": {
              "outlinewidth": 0,
              "ticks": ""
             }
            },
            "type": "scattermapbox"
           }
          ],
          "scatterpolar": [
           {
            "marker": {
             "colorbar": {
              "outlinewidth": 0,
              "ticks": ""
             }
            },
            "type": "scatterpolar"
           }
          ],
          "scatterpolargl": [
           {
            "marker": {
             "colorbar": {
              "outlinewidth": 0,
              "ticks": ""
             }
            },
            "type": "scatterpolargl"
           }
          ],
          "scatterternary": [
           {
            "marker": {
             "colorbar": {
              "outlinewidth": 0,
              "ticks": ""
             }
            },
            "type": "scatterternary"
           }
          ],
          "surface": [
           {
            "colorbar": {
             "outlinewidth": 0,
             "ticks": ""
            },
            "colorscale": [
             [
              0,
              "#0d0887"
             ],
             [
              0.1111111111111111,
              "#46039f"
             ],
             [
              0.2222222222222222,
              "#7201a8"
             ],
             [
              0.3333333333333333,
              "#9c179e"
             ],
             [
              0.4444444444444444,
              "#bd3786"
             ],
             [
              0.5555555555555556,
              "#d8576b"
             ],
             [
              0.6666666666666666,
              "#ed7953"
             ],
             [
              0.7777777777777778,
              "#fb9f3a"
             ],
             [
              0.8888888888888888,
              "#fdca26"
             ],
             [
              1,
              "#f0f921"
             ]
            ],
            "type": "surface"
           }
          ],
          "table": [
           {
            "cells": {
             "fill": {
              "color": "#EBF0F8"
             },
             "line": {
              "color": "white"
             }
            },
            "header": {
             "fill": {
              "color": "#C8D4E3"
             },
             "line": {
              "color": "white"
             }
            },
            "type": "table"
           }
          ]
         },
         "layout": {
          "annotationdefaults": {
           "arrowcolor": "#2a3f5f",
           "arrowhead": 0,
           "arrowwidth": 1
          },
          "autotypenumbers": "strict",
          "coloraxis": {
           "colorbar": {
            "outlinewidth": 0,
            "ticks": ""
           }
          },
          "colorscale": {
           "diverging": [
            [
             0,
             "#8e0152"
            ],
            [
             0.1,
             "#c51b7d"
            ],
            [
             0.2,
             "#de77ae"
            ],
            [
             0.3,
             "#f1b6da"
            ],
            [
             0.4,
             "#fde0ef"
            ],
            [
             0.5,
             "#f7f7f7"
            ],
            [
             0.6,
             "#e6f5d0"
            ],
            [
             0.7,
             "#b8e186"
            ],
            [
             0.8,
             "#7fbc41"
            ],
            [
             0.9,
             "#4d9221"
            ],
            [
             1,
             "#276419"
            ]
           ],
           "sequential": [
            [
             0,
             "#0d0887"
            ],
            [
             0.1111111111111111,
             "#46039f"
            ],
            [
             0.2222222222222222,
             "#7201a8"
            ],
            [
             0.3333333333333333,
             "#9c179e"
            ],
            [
             0.4444444444444444,
             "#bd3786"
            ],
            [
             0.5555555555555556,
             "#d8576b"
            ],
            [
             0.6666666666666666,
             "#ed7953"
            ],
            [
             0.7777777777777778,
             "#fb9f3a"
            ],
            [
             0.8888888888888888,
             "#fdca26"
            ],
            [
             1,
             "#f0f921"
            ]
           ],
           "sequentialminus": [
            [
             0,
             "#0d0887"
            ],
            [
             0.1111111111111111,
             "#46039f"
            ],
            [
             0.2222222222222222,
             "#7201a8"
            ],
            [
             0.3333333333333333,
             "#9c179e"
            ],
            [
             0.4444444444444444,
             "#bd3786"
            ],
            [
             0.5555555555555556,
             "#d8576b"
            ],
            [
             0.6666666666666666,
             "#ed7953"
            ],
            [
             0.7777777777777778,
             "#fb9f3a"
            ],
            [
             0.8888888888888888,
             "#fdca26"
            ],
            [
             1,
             "#f0f921"
            ]
           ]
          },
          "colorway": [
           "#636efa",
           "#EF553B",
           "#00cc96",
           "#ab63fa",
           "#FFA15A",
           "#19d3f3",
           "#FF6692",
           "#B6E880",
           "#FF97FF",
           "#FECB52"
          ],
          "font": {
           "color": "#2a3f5f"
          },
          "geo": {
           "bgcolor": "white",
           "lakecolor": "white",
           "landcolor": "#E5ECF6",
           "showlakes": true,
           "showland": true,
           "subunitcolor": "white"
          },
          "hoverlabel": {
           "align": "left"
          },
          "hovermode": "closest",
          "mapbox": {
           "style": "light"
          },
          "paper_bgcolor": "white",
          "plot_bgcolor": "#E5ECF6",
          "polar": {
           "angularaxis": {
            "gridcolor": "white",
            "linecolor": "white",
            "ticks": ""
           },
           "bgcolor": "#E5ECF6",
           "radialaxis": {
            "gridcolor": "white",
            "linecolor": "white",
            "ticks": ""
           }
          },
          "scene": {
           "xaxis": {
            "backgroundcolor": "#E5ECF6",
            "gridcolor": "white",
            "gridwidth": 2,
            "linecolor": "white",
            "showbackground": true,
            "ticks": "",
            "zerolinecolor": "white"
           },
           "yaxis": {
            "backgroundcolor": "#E5ECF6",
            "gridcolor": "white",
            "gridwidth": 2,
            "linecolor": "white",
            "showbackground": true,
            "ticks": "",
            "zerolinecolor": "white"
           },
           "zaxis": {
            "backgroundcolor": "#E5ECF6",
            "gridcolor": "white",
            "gridwidth": 2,
            "linecolor": "white",
            "showbackground": true,
            "ticks": "",
            "zerolinecolor": "white"
           }
          },
          "shapedefaults": {
           "line": {
            "color": "#2a3f5f"
           }
          },
          "ternary": {
           "aaxis": {
            "gridcolor": "white",
            "linecolor": "white",
            "ticks": ""
           },
           "baxis": {
            "gridcolor": "white",
            "linecolor": "white",
            "ticks": ""
           },
           "bgcolor": "#E5ECF6",
           "caxis": {
            "gridcolor": "white",
            "linecolor": "white",
            "ticks": ""
           }
          },
          "title": {
           "x": 0.05
          },
          "xaxis": {
           "automargin": true,
           "gridcolor": "white",
           "linecolor": "white",
           "ticks": "",
           "title": {
            "standoff": 15
           },
           "zerolinecolor": "white",
           "zerolinewidth": 2
          },
          "yaxis": {
           "automargin": true,
           "gridcolor": "white",
           "linecolor": "white",
           "ticks": "",
           "title": {
            "standoff": 15
           },
           "zerolinecolor": "white",
           "zerolinewidth": 2
          }
         }
        },
        "title": {
         "text": "Model output (n = 302)"
        },
        "width": 550,
        "xaxis": {
         "anchor": "y",
         "domain": [
          0,
          1
         ],
         "title": {
          "text": "Pitch class"
         }
        },
        "yaxis": {
         "anchor": "x",
         "domain": [
          0,
          1
         ],
         "gridcolor": "rgb(158,202,225)",
         "gridwidth": 1,
         "showgrid": true,
         "title": {
          "text": "Average count"
         }
        }
       }
      }
     },
     "metadata": {},
     "output_type": "display_data"
    }
   ],
   "source": [
    "# Horizontal bar chart for filtered pitch counts using plotly express (with y is the pitch and x is the count)\n",
    "fig = px.bar(\n",
    "    x=list(filtered_pitch_counts.values()), \n",
    "    y=list(filtered_pitch_counts.keys()), \n",
    "    orientation='h'\n",
    ")\n",
    "\n",
    "fig.update_layout(\n",
    "    title=f'Model output (n = {n_file_to_analyze})', \n",
    "    xaxis_title='Average count',\n",
    "    yaxis_title='Pitch'\n",
    ")\n",
    "\n",
    "# Show labels 0, 5, 10, 15, ... in y-axis in string format\n",
    "# y_axis_tickvals = list(range(0, max(filtered_pitch_counts.keys()) + 1, 5))\n",
    "y_axis_tickvals = list(map(str, [x for x in filtered_pitch_counts.keys()]))\n",
    "\n",
    "fig.update_yaxes(tickvals=y_axis_tickvals)\n",
    "\n",
    "# Show labels 0, 1, 2, 3, ... in x-axis\n",
    "# x_axis_tickvals = list(range(\n",
    "#     0, \n",
    "#     int(max(filtered_pitch_counts.values())) + 1 + 1\n",
    "# ))\n",
    "# Show 0, 5, 10, 15, ... in x-axis\n",
    "x_axis_tickvals = list(range(0, int(max(filtered_pitch_counts.values())) + 2, 5))\n",
    "\n",
    "fig.update_xaxes(tickvals=x_axis_tickvals)\n",
    "\n",
    "# Change the color set to make it easier to see when printed in black and white\n",
    "fig.update_traces(marker_color='rgb(158,202,225)', marker_line_color='rgb(8,48,107)', marker_line_width=1.5, opacity=0.6)\n",
    "\n",
    "# Change the background color to make it easier to see when printed in black and white\n",
    "fig.update_layout(plot_bgcolor='white')\n",
    "\n",
    "# Show the vertical grid lines\n",
    "fig.update_layout(xaxis=dict(showgrid=True, gridwidth=1, gridcolor='rgb(158,202,225)'))\n",
    "\n",
    "# Make the columns overlay the grid lines\n",
    "fig.update_layout(barmode='overlay')\n",
    "\n",
    "# Make the font size bigger\n",
    "fig.update_layout(font=dict(size=13))\n",
    "\n",
    "# Make the plot ratio x:y\n",
    "fig.update_layout(\n",
    "    autosize=False,\n",
    "    width=450,\n",
    "    height=850,\n",
    ")\n",
    "\n",
    "fig.show()\n",
    "\n",
    "# Filtered pitch class distribution\n",
    "fig = px.bar(\n",
    "    x=list(filtered_pitch_class_distribution.keys()),\n",
    "    y=list(filtered_pitch_class_distribution.values())\n",
    ")\n",
    "\n",
    "fig.update_layout(\n",
    "    title=f'Model output (n = {n_file_to_analyze})', \n",
    "    # yaxis_title='Số lần xuất hiện trung bình',\n",
    "    yaxis_title='Average count',\n",
    "    xaxis_title='Pitch class'\n",
    ")\n",
    "\n",
    "# Show labels 0, 1, 2, 3, ... in x-axis\n",
    "# x_axis_tickvals = list(range(0, max(filtered_pitch_class_distribution.keys()) + 1))\n",
    "\n",
    "# fig.update_xaxes(tickvals=x_axis_tickvals)\n",
    "\n",
    "# Change the color set to make it easier to see when printed in black and white\n",
    "fig.update_traces(marker_color='rgb(158,202,225)', marker_line_color='rgb(8,48,107)', marker_line_width=1.5, opacity=0.6)\n",
    "\n",
    "# Change the background color to make it easier to see when printed in black and white\n",
    "fig.update_layout(plot_bgcolor='white')\n",
    "\n",
    "# Show the horizontal grid lines\n",
    "fig.update_layout(yaxis=dict(showgrid=True, gridwidth=1, gridcolor='rgb(158,202,225)'))\n",
    "\n",
    "# Make the font size bigger\n",
    "fig.update_layout(font=dict(size=13))\n",
    "\n",
    "# Make the plot ratio x:y\n",
    "fig.update_layout(\n",
    "    autosize=False,\n",
    "    width=550,\n",
    "    height=400,\n",
    ")\n",
    "\n",
    "fig.show()"
   ]
  }
 ],
 "metadata": {
  "kernelspec": {
   "display_name": "Python 3",
   "language": "python",
   "name": "python3"
  },
  "language_info": {
   "codemirror_mode": {
    "name": "ipython",
    "version": 3
   },
   "file_extension": ".py",
   "mimetype": "text/x-python",
   "name": "python",
   "nbconvert_exporter": "python",
   "pygments_lexer": "ipython3",
   "version": "3.10.10"
  }
 },
 "nbformat": 4,
 "nbformat_minor": 2
}
