{
 "cells": [
  {
   "cell_type": "code",
   "execution_count": 3,
   "metadata": {},
   "outputs": [],
   "source": [
    "# Lớp chứa các hằng số đại diện cho các hệ điều hành\n",
    "class Platform:\n",
    "    WINDOWS = \"windows\"\n",
    "    MACOS = \"macos\""
   ]
  },
  {
   "cell_type": "code",
   "execution_count": 4,
   "metadata": {},
   "outputs": [],
   "source": [
    "platform = Platform.WINDOWS\n",
    "# platform = Platform.MACOS"
   ]
  },
  {
   "cell_type": "code",
   "execution_count": 1,
   "metadata": {},
   "outputs": [],
   "source": [
    "# !pip install selenium"
   ]
  },
  {
   "cell_type": "code",
   "execution_count": 19,
   "metadata": {},
   "outputs": [],
   "source": [
    "song_url = \"https://www.hooktheory.com/theorytab/view/jay-hardway/stardust\"\n",
    "root_directory = \"D:/Vector A/0. KHTN/Nam 4/HKII/Thesis/Brainstorming\""
   ]
  },
  {
   "cell_type": "code",
   "execution_count": 5,
   "metadata": {},
   "outputs": [],
   "source": [
    "from selenium import webdriver\n",
    "from selenium.webdriver.common.keys import Keys\n",
    "from selenium.webdriver.common.by import By\n",
    "\n",
    "import time\n",
    "import os\n",
    "\n",
    "from selenium import webdriver\n",
    "from bs4 import BeautifulSoup\n",
    "\n",
    "import pandas as pd\n",
    "\n",
    "import subprocess\n",
    "\n",
    "import re"
   ]
  },
  {
   "cell_type": "markdown",
   "metadata": {},
   "source": [
    "## Microsoft Edge Remote Debugging Port (tránh bị nhận diện phần mềm automation)"
   ]
  },
  {
   "cell_type": "code",
   "execution_count": 7,
   "metadata": {},
   "outputs": [],
   "source": [
    "macos_browser_data_dir = \"/Users/4rr311/Documents/VectorA/KHTN/Nam4/HKII/Thesis/Brainstorming/DataCrawling/browser_instance_data\"\n",
    "windows_browser_data_dir = \"D:/Vector A/0. KHTN/Nam 4/HKII/Thesis/Brainstorming/DataCrawling/browser_instance_data\"\n",
    "\n",
    "browser_instance_data_dir = macos_browser_data_dir if platform == Platform.MACOS else windows_browser_data_dir\n",
    "\n",
    "port_to_run_browser = 40000\n",
    "\n",
    "def open_browser_in_remote_debugging_mode(port, data_dir, platform=Platform.WINDOWS):\n",
    "    macos_command = f'''open -na \"Microsoft Edge.app\" --args\n",
    "                        --remote-debugging-port={port}\n",
    "                        --user-data-dir=\"{data_dir}\"'''\n",
    "\n",
    "    windows_command = f'''start msedge.exe \n",
    "                        --remote-debugging-port={port} \n",
    "                        --user-data-dir=\"{data_dir}'''\n",
    "\n",
    "    command = macos_command if platform == Platform.MACOS else windows_command\n",
    "    \n",
    "    os.system(command.replace(\"\\n\", \" \"))\n",
    "\n",
    "open_browser_in_remote_debugging_mode(port_to_run_browser, browser_instance_data_dir, platform)"
   ]
  },
  {
   "cell_type": "markdown",
   "metadata": {},
   "source": [
    "## Relative to Absolute path"
   ]
  },
  {
   "cell_type": "code",
   "execution_count": 23,
   "metadata": {},
   "outputs": [],
   "source": [
    "def relative_to_absolute_path(relative_path, root_path=root_directory):\n",
    "    absolute_path = f\"{root_path}/{relative_path}\"\n",
    "    return absolute_path"
   ]
  },
  {
   "cell_type": "markdown",
   "metadata": {},
   "source": [
    "## Kết nối Selenium đến trình duyệt Edge ở port được mở"
   ]
  },
  {
   "cell_type": "code",
   "execution_count": 6,
   "metadata": {},
   "outputs": [
    {
     "ename": "WebDriverException",
     "evalue": "Message: unknown error: cannot connect to microsoft edge at localhost:40000\nfrom unknown error: unable to discover open pages\nStacktrace:\n\tGetHandleVerifier [0x00007FF67D0EAD02+60770]\n\tMicrosoft::Applications::Events::ILogConfiguration::operator* [0x00007FF67D0784B2+228274]\n\t(No symbol) [0x00007FF67CE8ADBB]\n\t(No symbol) [0x00007FF67CEC8924]\n\t(No symbol) [0x00007FF67CEBD483]\n\t(No symbol) [0x00007FF67CF07299]\n\t(No symbol) [0x00007FF67CEFC143]\n\t(No symbol) [0x00007FF67CECD4A8]\n\t(No symbol) [0x00007FF67CECC317]\n\t(No symbol) [0x00007FF67CECD041]\n\tMicrosoft::Applications::Events::EventProperty::to_string [0x00007FF67D29B47C+1039884]\n\t(No symbol) [0x00007FF67CF50D65]\n\tMicrosoft::Applications::Events::EventProperty::~EventProperty [0x00007FF67CFEA82C+36956]\n\tMicrosoft::Applications::Events::EventProperty::~EventProperty [0x00007FF67CFE2352+2946]\n\tMicrosoft::Applications::Events::EventProperty::to_string [0x00007FF67D299EC3+1034323]\n\tMicrosoft::Applications::Events::ILogConfiguration::operator* [0x00007FF67D082418+269080]\n\tMicrosoft::Applications::Events::ILogConfiguration::operator* [0x00007FF67D07D0F4+247796]\n\tMicrosoft::Applications::Events::ILogConfiguration::operator* [0x00007FF67D07D222+248098]\n\tMicrosoft::Applications::Events::ILogConfiguration::operator* [0x00007FF67D073911+208913]\n\tBaseThreadInitThunk [0x00007FFD7907257D+29]\n\tRtlUserThreadStart [0x00007FFD7A58AA58+40]\n",
     "output_type": "error",
     "traceback": [
      "\u001b[1;31m---------------------------------------------------------------------------\u001b[0m",
      "\u001b[1;31mWebDriverException\u001b[0m                        Traceback (most recent call last)",
      "Cell \u001b[1;32mIn[6], line 5\u001b[0m\n\u001b[0;32m      2\u001b[0m options\u001b[38;5;241m.\u001b[39madd_experimental_option(\u001b[38;5;124m\"\u001b[39m\u001b[38;5;124mdebuggerAddress\u001b[39m\u001b[38;5;124m\"\u001b[39m, \u001b[38;5;124mf\u001b[39m\u001b[38;5;124m\"\u001b[39m\u001b[38;5;124mlocalhost:\u001b[39m\u001b[38;5;132;01m{\u001b[39;00mport_to_run_browser\u001b[38;5;132;01m}\u001b[39;00m\u001b[38;5;124m\"\u001b[39m)\n\u001b[0;32m      3\u001b[0m \u001b[38;5;66;03m# options.add_argument(\"headless\") # Chạy Selenium ở chế độ headless (không hiển thị giao diện browser)\u001b[39;00m\n\u001b[1;32m----> 5\u001b[0m browser \u001b[38;5;241m=\u001b[39m \u001b[43mwebdriver\u001b[49m\u001b[38;5;241;43m.\u001b[39;49m\u001b[43mEdge\u001b[49m\u001b[43m(\u001b[49m\u001b[43moptions\u001b[49m\u001b[38;5;241;43m=\u001b[39;49m\u001b[43moptions\u001b[49m\u001b[43m)\u001b[49m\n\u001b[0;32m      6\u001b[0m browser\u001b[38;5;241m.\u001b[39mmaximize_window() \u001b[38;5;66;03m# Phóng to cửa sổ trình duyệt\u001b[39;00m\n",
      "File \u001b[1;32mc:\\Users\\Vector A\\AppData\\Local\\Programs\\Python\\Python310\\lib\\site-packages\\selenium\\webdriver\\edge\\webdriver.py:45\u001b[0m, in \u001b[0;36mWebDriver.__init__\u001b[1;34m(self, options, service, keep_alive)\u001b[0m\n\u001b[0;32m     42\u001b[0m service \u001b[38;5;241m=\u001b[39m service \u001b[38;5;28;01mif\u001b[39;00m service \u001b[38;5;28;01melse\u001b[39;00m Service()\n\u001b[0;32m     43\u001b[0m options \u001b[38;5;241m=\u001b[39m options \u001b[38;5;28;01mif\u001b[39;00m options \u001b[38;5;28;01melse\u001b[39;00m Options()\n\u001b[1;32m---> 45\u001b[0m \u001b[38;5;28;43msuper\u001b[39;49m\u001b[43m(\u001b[49m\u001b[43m)\u001b[49m\u001b[38;5;241;43m.\u001b[39;49m\u001b[38;5;21;43m__init__\u001b[39;49m\u001b[43m(\u001b[49m\n\u001b[0;32m     46\u001b[0m \u001b[43m    \u001b[49m\u001b[43mbrowser_name\u001b[49m\u001b[38;5;241;43m=\u001b[39;49m\u001b[43mDesiredCapabilities\u001b[49m\u001b[38;5;241;43m.\u001b[39;49m\u001b[43mEDGE\u001b[49m\u001b[43m[\u001b[49m\u001b[38;5;124;43m\"\u001b[39;49m\u001b[38;5;124;43mbrowserName\u001b[39;49m\u001b[38;5;124;43m\"\u001b[39;49m\u001b[43m]\u001b[49m\u001b[43m,\u001b[49m\n\u001b[0;32m     47\u001b[0m \u001b[43m    \u001b[49m\u001b[43mvendor_prefix\u001b[49m\u001b[38;5;241;43m=\u001b[39;49m\u001b[38;5;124;43m\"\u001b[39;49m\u001b[38;5;124;43mms\u001b[39;49m\u001b[38;5;124;43m\"\u001b[39;49m\u001b[43m,\u001b[49m\n\u001b[0;32m     48\u001b[0m \u001b[43m    \u001b[49m\u001b[43moptions\u001b[49m\u001b[38;5;241;43m=\u001b[39;49m\u001b[43moptions\u001b[49m\u001b[43m,\u001b[49m\n\u001b[0;32m     49\u001b[0m \u001b[43m    \u001b[49m\u001b[43mservice\u001b[49m\u001b[38;5;241;43m=\u001b[39;49m\u001b[43mservice\u001b[49m\u001b[43m,\u001b[49m\n\u001b[0;32m     50\u001b[0m \u001b[43m    \u001b[49m\u001b[43mkeep_alive\u001b[49m\u001b[38;5;241;43m=\u001b[39;49m\u001b[43mkeep_alive\u001b[49m\u001b[43m,\u001b[49m\n\u001b[0;32m     51\u001b[0m \u001b[43m\u001b[49m\u001b[43m)\u001b[49m\n",
      "File \u001b[1;32mc:\\Users\\Vector A\\AppData\\Local\\Programs\\Python\\Python310\\lib\\site-packages\\selenium\\webdriver\\chromium\\webdriver.py:61\u001b[0m, in \u001b[0;36mChromiumDriver.__init__\u001b[1;34m(self, browser_name, vendor_prefix, options, service, keep_alive)\u001b[0m\n\u001b[0;32m     52\u001b[0m executor \u001b[38;5;241m=\u001b[39m ChromiumRemoteConnection(\n\u001b[0;32m     53\u001b[0m     remote_server_addr\u001b[38;5;241m=\u001b[39m\u001b[38;5;28mself\u001b[39m\u001b[38;5;241m.\u001b[39mservice\u001b[38;5;241m.\u001b[39mservice_url,\n\u001b[0;32m     54\u001b[0m     browser_name\u001b[38;5;241m=\u001b[39mbrowser_name,\n\u001b[1;32m   (...)\u001b[0m\n\u001b[0;32m     57\u001b[0m     ignore_proxy\u001b[38;5;241m=\u001b[39moptions\u001b[38;5;241m.\u001b[39m_ignore_local_proxy,\n\u001b[0;32m     58\u001b[0m )\n\u001b[0;32m     60\u001b[0m \u001b[38;5;28;01mtry\u001b[39;00m:\n\u001b[1;32m---> 61\u001b[0m     \u001b[38;5;28;43msuper\u001b[39;49m\u001b[43m(\u001b[49m\u001b[43m)\u001b[49m\u001b[38;5;241;43m.\u001b[39;49m\u001b[38;5;21;43m__init__\u001b[39;49m\u001b[43m(\u001b[49m\u001b[43mcommand_executor\u001b[49m\u001b[38;5;241;43m=\u001b[39;49m\u001b[43mexecutor\u001b[49m\u001b[43m,\u001b[49m\u001b[43m \u001b[49m\u001b[43moptions\u001b[49m\u001b[38;5;241;43m=\u001b[39;49m\u001b[43moptions\u001b[49m\u001b[43m)\u001b[49m\n\u001b[0;32m     62\u001b[0m \u001b[38;5;28;01mexcept\u001b[39;00m \u001b[38;5;167;01mException\u001b[39;00m:\n\u001b[0;32m     63\u001b[0m     \u001b[38;5;28mself\u001b[39m\u001b[38;5;241m.\u001b[39mquit()\n",
      "File \u001b[1;32mc:\\Users\\Vector A\\AppData\\Local\\Programs\\Python\\Python310\\lib\\site-packages\\selenium\\webdriver\\remote\\webdriver.py:208\u001b[0m, in \u001b[0;36mWebDriver.__init__\u001b[1;34m(self, command_executor, keep_alive, file_detector, options)\u001b[0m\n\u001b[0;32m    206\u001b[0m \u001b[38;5;28mself\u001b[39m\u001b[38;5;241m.\u001b[39m_authenticator_id \u001b[38;5;241m=\u001b[39m \u001b[38;5;28;01mNone\u001b[39;00m\n\u001b[0;32m    207\u001b[0m \u001b[38;5;28mself\u001b[39m\u001b[38;5;241m.\u001b[39mstart_client()\n\u001b[1;32m--> 208\u001b[0m \u001b[38;5;28;43mself\u001b[39;49m\u001b[38;5;241;43m.\u001b[39;49m\u001b[43mstart_session\u001b[49m\u001b[43m(\u001b[49m\u001b[43mcapabilities\u001b[49m\u001b[43m)\u001b[49m\n",
      "File \u001b[1;32mc:\\Users\\Vector A\\AppData\\Local\\Programs\\Python\\Python310\\lib\\site-packages\\selenium\\webdriver\\remote\\webdriver.py:292\u001b[0m, in \u001b[0;36mWebDriver.start_session\u001b[1;34m(self, capabilities)\u001b[0m\n\u001b[0;32m    285\u001b[0m \u001b[38;5;124;03m\"\"\"Creates a new session with the desired capabilities.\u001b[39;00m\n\u001b[0;32m    286\u001b[0m \n\u001b[0;32m    287\u001b[0m \u001b[38;5;124;03m:Args:\u001b[39;00m\n\u001b[0;32m    288\u001b[0m \u001b[38;5;124;03m - capabilities - a capabilities dict to start the session with.\u001b[39;00m\n\u001b[0;32m    289\u001b[0m \u001b[38;5;124;03m\"\"\"\u001b[39;00m\n\u001b[0;32m    291\u001b[0m caps \u001b[38;5;241m=\u001b[39m _create_caps(capabilities)\n\u001b[1;32m--> 292\u001b[0m response \u001b[38;5;241m=\u001b[39m \u001b[38;5;28;43mself\u001b[39;49m\u001b[38;5;241;43m.\u001b[39;49m\u001b[43mexecute\u001b[49m\u001b[43m(\u001b[49m\u001b[43mCommand\u001b[49m\u001b[38;5;241;43m.\u001b[39;49m\u001b[43mNEW_SESSION\u001b[49m\u001b[43m,\u001b[49m\u001b[43m \u001b[49m\u001b[43mcaps\u001b[49m\u001b[43m)\u001b[49m[\u001b[38;5;124m\"\u001b[39m\u001b[38;5;124mvalue\u001b[39m\u001b[38;5;124m\"\u001b[39m]\n\u001b[0;32m    293\u001b[0m \u001b[38;5;28mself\u001b[39m\u001b[38;5;241m.\u001b[39msession_id \u001b[38;5;241m=\u001b[39m response\u001b[38;5;241m.\u001b[39mget(\u001b[38;5;124m\"\u001b[39m\u001b[38;5;124msessionId\u001b[39m\u001b[38;5;124m\"\u001b[39m)\n\u001b[0;32m    294\u001b[0m \u001b[38;5;28mself\u001b[39m\u001b[38;5;241m.\u001b[39mcaps \u001b[38;5;241m=\u001b[39m response\u001b[38;5;241m.\u001b[39mget(\u001b[38;5;124m\"\u001b[39m\u001b[38;5;124mcapabilities\u001b[39m\u001b[38;5;124m\"\u001b[39m)\n",
      "File \u001b[1;32mc:\\Users\\Vector A\\AppData\\Local\\Programs\\Python\\Python310\\lib\\site-packages\\selenium\\webdriver\\remote\\webdriver.py:347\u001b[0m, in \u001b[0;36mWebDriver.execute\u001b[1;34m(self, driver_command, params)\u001b[0m\n\u001b[0;32m    345\u001b[0m response \u001b[38;5;241m=\u001b[39m \u001b[38;5;28mself\u001b[39m\u001b[38;5;241m.\u001b[39mcommand_executor\u001b[38;5;241m.\u001b[39mexecute(driver_command, params)\n\u001b[0;32m    346\u001b[0m \u001b[38;5;28;01mif\u001b[39;00m response:\n\u001b[1;32m--> 347\u001b[0m     \u001b[38;5;28;43mself\u001b[39;49m\u001b[38;5;241;43m.\u001b[39;49m\u001b[43merror_handler\u001b[49m\u001b[38;5;241;43m.\u001b[39;49m\u001b[43mcheck_response\u001b[49m\u001b[43m(\u001b[49m\u001b[43mresponse\u001b[49m\u001b[43m)\u001b[49m\n\u001b[0;32m    348\u001b[0m     response[\u001b[38;5;124m\"\u001b[39m\u001b[38;5;124mvalue\u001b[39m\u001b[38;5;124m\"\u001b[39m] \u001b[38;5;241m=\u001b[39m \u001b[38;5;28mself\u001b[39m\u001b[38;5;241m.\u001b[39m_unwrap_value(response\u001b[38;5;241m.\u001b[39mget(\u001b[38;5;124m\"\u001b[39m\u001b[38;5;124mvalue\u001b[39m\u001b[38;5;124m\"\u001b[39m, \u001b[38;5;28;01mNone\u001b[39;00m))\n\u001b[0;32m    349\u001b[0m     \u001b[38;5;28;01mreturn\u001b[39;00m response\n",
      "File \u001b[1;32mc:\\Users\\Vector A\\AppData\\Local\\Programs\\Python\\Python310\\lib\\site-packages\\selenium\\webdriver\\remote\\errorhandler.py:229\u001b[0m, in \u001b[0;36mErrorHandler.check_response\u001b[1;34m(self, response)\u001b[0m\n\u001b[0;32m    227\u001b[0m         alert_text \u001b[38;5;241m=\u001b[39m value[\u001b[38;5;124m\"\u001b[39m\u001b[38;5;124malert\u001b[39m\u001b[38;5;124m\"\u001b[39m]\u001b[38;5;241m.\u001b[39mget(\u001b[38;5;124m\"\u001b[39m\u001b[38;5;124mtext\u001b[39m\u001b[38;5;124m\"\u001b[39m)\n\u001b[0;32m    228\u001b[0m     \u001b[38;5;28;01mraise\u001b[39;00m exception_class(message, screen, stacktrace, alert_text)  \u001b[38;5;66;03m# type: ignore[call-arg]  # mypy is not smart enough here\u001b[39;00m\n\u001b[1;32m--> 229\u001b[0m \u001b[38;5;28;01mraise\u001b[39;00m exception_class(message, screen, stacktrace)\n",
      "\u001b[1;31mWebDriverException\u001b[0m: Message: unknown error: cannot connect to microsoft edge at localhost:40000\nfrom unknown error: unable to discover open pages\nStacktrace:\n\tGetHandleVerifier [0x00007FF67D0EAD02+60770]\n\tMicrosoft::Applications::Events::ILogConfiguration::operator* [0x00007FF67D0784B2+228274]\n\t(No symbol) [0x00007FF67CE8ADBB]\n\t(No symbol) [0x00007FF67CEC8924]\n\t(No symbol) [0x00007FF67CEBD483]\n\t(No symbol) [0x00007FF67CF07299]\n\t(No symbol) [0x00007FF67CEFC143]\n\t(No symbol) [0x00007FF67CECD4A8]\n\t(No symbol) [0x00007FF67CECC317]\n\t(No symbol) [0x00007FF67CECD041]\n\tMicrosoft::Applications::Events::EventProperty::to_string [0x00007FF67D29B47C+1039884]\n\t(No symbol) [0x00007FF67CF50D65]\n\tMicrosoft::Applications::Events::EventProperty::~EventProperty [0x00007FF67CFEA82C+36956]\n\tMicrosoft::Applications::Events::EventProperty::~EventProperty [0x00007FF67CFE2352+2946]\n\tMicrosoft::Applications::Events::EventProperty::to_string [0x00007FF67D299EC3+1034323]\n\tMicrosoft::Applications::Events::ILogConfiguration::operator* [0x00007FF67D082418+269080]\n\tMicrosoft::Applications::Events::ILogConfiguration::operator* [0x00007FF67D07D0F4+247796]\n\tMicrosoft::Applications::Events::ILogConfiguration::operator* [0x00007FF67D07D222+248098]\n\tMicrosoft::Applications::Events::ILogConfiguration::operator* [0x00007FF67D073911+208913]\n\tBaseThreadInitThunk [0x00007FFD7907257D+29]\n\tRtlUserThreadStart [0x00007FFD7A58AA58+40]\n"
     ]
    }
   ],
   "source": [
    "options = webdriver.EdgeOptions()\n",
    "options.add_experimental_option(\"debuggerAddress\", f\"localhost:{port_to_run_browser}\")\n",
    "# options.add_argument(\"headless\") # Chạy Selenium ở chế độ headless (không hiển thị giao diện browser)\n",
    "\n",
    "browser = webdriver.Edge(options=options)\n",
    "browser.maximize_window() # Phóng to cửa sổ trình duyệt"
   ]
  },
  {
   "cell_type": "markdown",
   "metadata": {},
   "source": [
    "## Scroll xuống cuối trang với nhiều lần scroll cách nhau n giây"
   ]
  },
  {
   "cell_type": "code",
   "execution_count": null,
   "metadata": {},
   "outputs": [],
   "source": [
    "def scroll_to_bottom(webdriver_instance=browser, scroll_pause_time = 0.5):\n",
    "    # Get the screen height of the web\n",
    "    screen_height = browser.execute_script(\"return window.screen.height;\") \n",
    "    i = 1\n",
    "\n",
    "    while True:\n",
    "        # Scroll one screen height each time\n",
    "        browser.execute_script(f\"window.scrollTo(0, {screen_height}*{i});\")\n",
    "        time.sleep(scroll_pause_time)\n",
    "        \n",
    "        # Cập nhật scroll_height sau mỗi lần scroll, vì scroll_height có thể thay đổi sau khi scroll trang\n",
    "        scroll_height = browser.execute_script(\"return document.body.scrollHeight;\")\n",
    "\n",
    "        i += 1\n",
    "        if (screen_height) * i > scroll_height:\n",
    "            break"
   ]
  },
  {
   "cell_type": "markdown",
   "metadata": {},
   "source": [
    "## Lấy page source"
   ]
  },
  {
   "cell_type": "code",
   "execution_count": null,
   "metadata": {},
   "outputs": [],
   "source": [
    "def get_html_content(url, webdriver_instance = browser):\n",
    "    webdriver_instance.get(url)\n",
    "\n",
    "    scroll_to_bottom(webdriver_instance)\n",
    "    \n",
    "    contents = webdriver_instance.page_source\n",
    "\n",
    "    return contents"
   ]
  },
  {
   "cell_type": "markdown",
   "metadata": {},
   "source": [
    "## Lấy page source tại đoạn nhạc được chỉ định"
   ]
  },
  {
   "cell_type": "code",
   "execution_count": null,
   "metadata": {},
   "outputs": [],
   "source": [
    "def get_specific_part_of_a_song(html_content, part_of_the_song):\n",
    "    \"\"\"\n",
    "    Lấy thông tin đoạn được chỉ định của bài hát cho trước\n",
    "    :param html_content: nội dung html của trang web chứa bài hát\n",
    "    :param part_of_the_song: đoạn cần lấy. Ví dụ: \"Intro and Verse\", \"Chorus\", v.v.\n",
    "    :return: thẻ svg chứa phần của bài hát cần tìm\n",
    "    \"\"\"\n",
    "\n",
    "    soup = BeautifulSoup(html_content, 'html.parser')\n",
    "\n",
    "    h2 = soup.find('h2', string=part_of_the_song)\n",
    "\n",
    "    svg = None\n",
    "\n",
    "    if h2 and h2.parent.parent.parent.name == 'div':\n",
    "        div = h2.parent.parent.parent.find_next_sibling(\"div\")\n",
    "        svg = div.find('svg', {'data-type': 'score'})\n",
    "    else:\n",
    "        pass\n",
    "    \n",
    "    return svg"
   ]
  },
  {
   "cell_type": "code",
   "execution_count": null,
   "metadata": {},
   "outputs": [],
   "source": [
    "html_content = get_html_content(song_url, browser)\n",
    "print(html_content)\n",
    "\n",
    "# Save to file\n",
    "def save_to_file(html_content, file_path):\n",
    "    with open(file_path, \"w\") as f:\n",
    "        f.write(html_content)\n",
    "\n",
    "save_to_file(\n",
    "    html_content, \n",
    "    relative_to_absolute_path(\"DataCrawling/html/Stardust.html\")\n",
    ")"
   ]
  },
  {
   "cell_type": "code",
   "execution_count": null,
   "metadata": {},
   "outputs": [],
   "source": [
    "# Chạy thử get_next_div với url của bài hát\n",
    "chorus_svg = get_specific_part_of_a_song(\n",
    "    get_html_content(song_url, browser), \n",
    "    \"Chorus\"\n",
    ")\n",
    "\n",
    "# Kiểm tra kết quả\n",
    "print(chorus_svg.prettify())\n",
    "\n",
    "# Lưu nội dung html vào file\n",
    "save_to_file(\n",
    "    chorus_svg.prettify(), \n",
    "    relative_to_absolute_path(\"DataCrawling/html/Stardust - Chorus.html\")\n",
    ")\n"
   ]
  },
  {
   "cell_type": "code",
   "execution_count": null,
   "metadata": {},
   "outputs": [],
   "source": [
    "# Lấy thẻ g có data-type đúng bằng note-staff\n",
    "note_staff_g = chorus_svg.find('g', {'data-type': 'note-staff '})\n",
    "\n",
    "# Xoá các thẻ g trong note_staff_g\n",
    "for g in note_staff_g.find_all('g'):\n",
    "    g.decompose()\n",
    "\n",
    "# Prettyfy thẻ g in ra màn hình và lưu vào file\n",
    "save_to_file(\n",
    "    note_staff_g.prettify(), \n",
    "    relative_to_absolute_path(\"DataCrawling/html/Chorus - note-staff.html\")\n",
    ")\n",
    "\n",
    "# Lấy tất cả thẻ rect trừ thẻ rect đầu tiên\n",
    "rects = note_staff_g.find_all('rect')[1:]\n",
    "\n",
    "# Đưa thông tin các thẻ rect vào dataframe với các cột lần lượt là các thuộc tính x, y, width, height, opacity\n",
    "df = pd.DataFrame(\n",
    "    data=[[rect[\"x\"], rect[\"y\"], rect[\"width\"], rect[\"height\"], rect[\"opacity\"]] for rect in rects],\n",
    "    columns=[\"x\", \"y\", \"width\", \"height\", \"opacity\"]\n",
    ")\n",
    "\n",
    "# In dataframe\n",
    "df"
   ]
  },
  {
   "cell_type": "code",
   "execution_count": 24,
   "metadata": {},
   "outputs": [
    {
     "name": "stdout",
     "output_type": "stream",
     "text": [
      "<g data-type=\"note-staff \">\n",
      " <rect fill=\"rgb(255 255 255)\" height=\"108\" opacity=\"1\" width=\"353.5\" x=\"35\" y=\"40\">\n",
      "  <title>\n",
      "   Add a note or drag select\n",
      "  </title>\n",
      " </rect>\n",
      " <rect fill=\"#4800FF\" height=\"10\" opacity=\"1\" stroke=\"000000\" stroke-width=\"0\" style=\"pointer-events: none;\" width=\"9.046875\" x=\"36\" y=\"133\">\n",
      "  <title>\n",
      "  </title>\n",
      " </rect>\n",
      " <rect fill=\"#B800E5\" height=\"10\" opacity=\"1\" stroke=\"000000\" stroke-width=\"0\" style=\"pointer-events: none;\" width=\"9.046875\" x=\"47.046875\" y=\"122\">\n",
      "  <title>\n",
      "  </title>\n",
      " </rect>\n",
      " <rect fill=\"#B800E5\" height=\"10\" opacity=\"1\" stroke=\"000000\" stroke-width=\"0\" style=\"pointer-events: none;\" width=\"9.046875\" x=\"58.09375\" y=\"122\">\n",
      "  <title>\n",
      "  </title>\n",
      " </rect>\n",
      " <rect fill=\"#aaa\" height=\"10\" opacity=\"0\" stroke=\"000000\" stroke-width=\"0\" style=\"pointer-events: none;\" width=\"9.046875\" x=\"69.140625\" y=\"122\">\n",
      "  <title>\n",
      "  </title>\n",
      " </rect>\n",
      " <rect fill=\"#ff0000\" height=\"10\" opacity=\"1\" stroke=\"000000\" stroke-width=\"0\" style=\"pointer-events: none;\" width=\"9.046875\" x=\"80.1875\" y=\"100\">\n",
      "  <title>\n",
      "  </title>\n",
      " </rect>\n",
      " <rect fill=\"#aaa\" height=\"10\" opacity=\"0\" stroke=\"000000\" stroke-width=\"0\" style=\"pointer-events: none;\" width=\"9.046875\" x=\"91.234375\" y=\"122\">\n",
      "  <title>\n",
      "  </title>\n",
      " </rect>\n",
      " <rect fill=\"#FF00CB\" height=\"10\" opacity=\"1\" stroke=\"000000\" stroke-width=\"0\" style=\"pointer-events: none;\" width=\"9.046875\" x=\"102.28125\" y=\"111\">\n",
      "  <title>\n",
      "  </title>\n",
      " </rect>\n",
      " <rect fill=\"#B800E5\" height=\"10\" opacity=\"1\" stroke=\"000000\" stroke-width=\"0\" style=\"pointer-events: none;\" width=\"9.046875\" x=\"113.328125\" y=\"122\">\n",
      "  <title>\n",
      "  </title>\n",
      " </rect>\n",
      " <rect fill=\"#4800FF\" height=\"10\" opacity=\"1\" stroke=\"000000\" stroke-width=\"0\" style=\"pointer-events: none;\" width=\"9.046875\" x=\"124.375\" y=\"133\">\n",
      "  <title>\n",
      "  </title>\n",
      " </rect>\n",
      " <rect fill=\"#B800E5\" height=\"10\" opacity=\"1\" stroke=\"000000\" stroke-width=\"0\" style=\"pointer-events: none;\" width=\"9.046875\" x=\"135.421875\" y=\"122\">\n",
      "  <title>\n",
      "  </title>\n",
      " </rect>\n",
      " <rect fill=\"#4800FF\" height=\"10\" opacity=\"1\" stroke=\"000000\" stroke-width=\"0\" style=\"pointer-events: none;\" width=\"9.046875\" x=\"146.46875\" y=\"133\">\n",
      "  <title>\n",
      "  </title>\n",
      " </rect>\n",
      " <rect fill=\"#aaa\" height=\"10\" opacity=\"0\" stroke=\"000000\" stroke-width=\"0\" style=\"pointer-events: none;\" width=\"9.046875\" x=\"157.515625\" y=\"122\">\n",
      "  <title>\n",
      "  </title>\n",
      " </rect>\n",
      " <rect fill=\"#B800E5\" height=\"10\" opacity=\"1\" stroke=\"000000\" stroke-width=\"0\" style=\"pointer-events: none;\" width=\"9.046875\" x=\"168.5625\" y=\"122\">\n",
      "  <title>\n",
      "  </title>\n",
      " </rect>\n",
      " <rect fill=\"#aaa\" height=\"10\" opacity=\"0\" stroke=\"000000\" stroke-width=\"0\" style=\"pointer-events: none;\" width=\"9.046875\" x=\"179.609375\" y=\"122\">\n",
      "  <title>\n",
      "  </title>\n",
      " </rect>\n",
      " <rect fill=\"#FF00CB\" height=\"10\" opacity=\"1\" stroke=\"000000\" stroke-width=\"0\" style=\"pointer-events: none;\" width=\"9.046875\" x=\"190.65625\" y=\"111\">\n",
      "  <title>\n",
      "  </title>\n",
      " </rect>\n",
      " <rect fill=\"#ff0000\" height=\"10\" opacity=\"1\" stroke=\"000000\" stroke-width=\"0\" style=\"pointer-events: none;\" width=\"9.046875\" x=\"201.703125\" y=\"100\">\n",
      "  <title>\n",
      "  </title>\n",
      " </rect>\n",
      " <rect fill=\"#EFE600\" height=\"10\" opacity=\"1\" stroke=\"000000\" stroke-width=\"0\" style=\"pointer-events: none;\" width=\"20.09375\" x=\"212.75\" y=\"78\">\n",
      "  <title>\n",
      "  </title>\n",
      " </rect>\n",
      " <rect fill=\"#EFE600\" height=\"10\" opacity=\"1\" stroke=\"000000\" stroke-width=\"0\" style=\"pointer-events: none;\" width=\"9.046875\" x=\"234.84375\" y=\"78\">\n",
      "  <title>\n",
      "  </title>\n",
      " </rect>\n",
      " <rect fill=\"#B800E5\" height=\"10\" opacity=\"1\" stroke=\"000000\" stroke-width=\"0\" style=\"pointer-events: none;\" width=\"9.046875\" x=\"245.890625\" y=\"122\">\n",
      "  <title>\n",
      "  </title>\n",
      " </rect>\n",
      " <rect fill=\"#EFE600\" height=\"10\" opacity=\"1\" stroke=\"000000\" stroke-width=\"0\" style=\"pointer-events: none;\" width=\"20.09375\" x=\"256.9375\" y=\"78\">\n",
      "  <title>\n",
      "  </title>\n",
      " </rect>\n",
      " <rect fill=\"#EFE600\" height=\"10\" opacity=\"1\" stroke=\"000000\" stroke-width=\"0\" style=\"pointer-events: none;\" width=\"9.046875\" x=\"279.03125\" y=\"78\">\n",
      "  <title>\n",
      "  </title>\n",
      " </rect>\n",
      " <rect fill=\"#B800E5\" height=\"10\" opacity=\"1\" stroke=\"000000\" stroke-width=\"0\" style=\"pointer-events: none;\" width=\"9.046875\" x=\"290.078125\" y=\"122\">\n",
      "  <title>\n",
      "  </title>\n",
      " </rect>\n",
      " <rect fill=\"#ffb014\" height=\"10\" opacity=\"1\" stroke=\"000000\" stroke-width=\"0\" style=\"pointer-events: none;\" width=\"20.09375\" x=\"301.125\" y=\"89\">\n",
      "  <title>\n",
      "  </title>\n",
      " </rect>\n",
      " <rect fill=\"#ffb014\" height=\"10\" opacity=\"1\" stroke=\"000000\" stroke-width=\"0\" style=\"pointer-events: none;\" width=\"9.046875\" x=\"323.21875\" y=\"89\">\n",
      "  <title>\n",
      "  </title>\n",
      " </rect>\n",
      " <rect fill=\"#B800E5\" height=\"10\" opacity=\"1\" stroke=\"000000\" stroke-width=\"0\" style=\"pointer-events: none;\" width=\"9.046875\" x=\"334.265625\" y=\"122\">\n",
      "  <title>\n",
      "  </title>\n",
      " </rect>\n",
      " <rect fill=\"#aaa\" height=\"10\" opacity=\"0\" stroke=\"000000\" stroke-width=\"0\" style=\"pointer-events: none;\" width=\"3.5234375\" x=\"345.3125\" y=\"122\">\n",
      "  <title>\n",
      "  </title>\n",
      " </rect>\n",
      " <rect fill=\"#ffb014\" height=\"10\" opacity=\"1\" stroke=\"000000\" stroke-width=\"0\" style=\"pointer-events: none;\" width=\"9.046875\" x=\"350.8359375\" y=\"89\">\n",
      "  <title>\n",
      "  </title>\n",
      " </rect>\n",
      " <rect fill=\"#aaa\" height=\"10\" opacity=\"0\" stroke=\"000000\" stroke-width=\"0\" style=\"pointer-events: none;\" width=\"3.5234375\" x=\"361.8828125\" y=\"122\">\n",
      "  <title>\n",
      "  </title>\n",
      " </rect>\n",
      " <rect fill=\"#FF00CB\" height=\"10\" opacity=\"1\" stroke=\"000000\" stroke-width=\"0\" style=\"pointer-events: none;\" width=\"9.046875\" x=\"367.40625\" y=\"111\">\n",
      "  <title>\n",
      "  </title>\n",
      " </rect>\n",
      " <rect fill=\"#ff0000\" height=\"10\" opacity=\"1\" stroke=\"000000\" stroke-width=\"0\" style=\"pointer-events: none;\" width=\"9.046875\" x=\"378.453125\" y=\"100\">\n",
      "  <title>\n",
      "  </title>\n",
      " </rect>\n",
      "</g>\n"
     ]
    }
   ],
   "source": [
    "def html_file_to_beautiful_soup(file_path):\n",
    "    with open(file_path, \"r\") as f:\n",
    "        html_content = f.read()\n",
    "        soup = BeautifulSoup(html_content, 'html.parser')\n",
    "        return soup\n",
    "    \n",
    "html_content = html_file_to_beautiful_soup(relative_to_absolute_path(\"DataCrawling/html/Chorus - note-staff.html\"))\n",
    "print(html_content.prettify())"
   ]
  },
  {
   "cell_type": "code",
   "execution_count": null,
   "metadata": {},
   "outputs": [],
   "source": [
    "browser.quit()"
   ]
  },
  {
   "cell_type": "code",
   "execution_count": 9,
   "metadata": {},
   "outputs": [
    {
     "name": "stdout",
     "output_type": "stream",
     "text": [
      "23200\n"
     ]
    }
   ],
   "source": [
    "def windows_get_PID_of_process_running_on_port(port):\n",
    "    command = f\"netstat -a -n -o | findstr :{port}\"\n",
    "\n",
    "    result = subprocess.run(command, shell=True, capture_output=True, text=True)\n",
    "\n",
    "    #   TCP    127.0.0.1:40000        0.0.0.0:0              LISTENING       6920\n",
    "    regex_pattern = r\"\\s+TCP\\s+127.0.0.1:\\d+\\s+\\d+.\\d+.\\d+.\\d+:\\d+\\s+LISTENING\\s+(.+)\"\n",
    "\n",
    "    match = re.search(regex_pattern, result.stdout)\n",
    "\n",
    "    pid = None\n",
    "\n",
    "    if match:\n",
    "        pid = match.group(1).replace(\" \", \"\")\n",
    "    else:\n",
    "        pid = None\n",
    "\n",
    "    return pid\n",
    "\n",
    "print(windows_get_PID_of_process_running_on_port(port_to_run_browser))"
   ]
  },
  {
   "cell_type": "code",
   "execution_count": 10,
   "metadata": {},
   "outputs": [
    {
     "name": "stdout",
     "output_type": "stream",
     "text": [
      "SUCCESS: The process with PID 23200 has been terminated.\n",
      "\n"
     ]
    }
   ],
   "source": [
    "def kill_process_running_on_port(port, platform=Platform.WINDOWS):\n",
    "    result = None\n",
    "\n",
    "    if platform == Platform.MACOS:\n",
    "        result = os.system(f\"lsof -ti tcp:{port} | xargs kill -9\")\n",
    "    else:\n",
    "        pid = windows_get_PID_of_process_running_on_port(port)\n",
    "\n",
    "        if pid:\n",
    "            result = subprocess.run(\n",
    "                f\"taskkill /PID {pid} /F\", \n",
    "                shell=True, \n",
    "                capture_output=True, \n",
    "                text=True\n",
    "            ).stdout\n",
    "        else:\n",
    "            result = f\"No process is running on port {port}\"\n",
    "\n",
    "    return result\n",
    "\n",
    "print(kill_process_running_on_port(port_to_run_browser, Platform.WINDOWS))"
   ]
  }
 ],
 "metadata": {
  "kernelspec": {
   "display_name": "Python 3",
   "language": "python",
   "name": "python3"
  },
  "language_info": {
   "codemirror_mode": {
    "name": "ipython",
    "version": 3
   },
   "file_extension": ".py",
   "mimetype": "text/x-python",
   "name": "python",
   "nbconvert_exporter": "python",
   "pygments_lexer": "ipython3",
   "version": "3.10.7"
  }
 },
 "nbformat": 4,
 "nbformat_minor": 2
}
