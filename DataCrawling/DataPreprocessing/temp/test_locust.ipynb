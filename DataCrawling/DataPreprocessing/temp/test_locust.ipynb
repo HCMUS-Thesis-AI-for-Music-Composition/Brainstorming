{
 "cells": [
  {
   "cell_type": "code",
   "execution_count": null,
   "metadata": {},
   "outputs": [],
   "source": [
    "import random\n",
    "from locust import HttpUser, task\n",
    "from locust.event import EventHook\n",
    "\n",
    "from selenium import webdriver\n",
    "\n",
    "import platform as python_platform\n",
    "import time\n",
    "import os\n",
    "\n",
    "import selenium_utils\n",
    "import utils"
   ]
  },
  {
   "cell_type": "code",
   "execution_count": null,
   "metadata": {},
   "outputs": [],
   "source": []
  },
  {
   "cell_type": "code",
   "execution_count": null,
   "metadata": {},
   "outputs": [],
   "source": [
    "class Downloader(HttpUser):\n",
    "    host = \"https://api.hooktheory.com/v1/songs/public/\"\n",
    "\n",
    "    # @task\n",
    "    # def download(self):\n",
    "    #     song_id = random.randint(1, 1000000)\n",
    "    #     self.client.get(f\"{self.host}{song_id}\")\n",
    "\n",
    "    def on_start(self):\n",
    "        # Initialize the shared resource, like a Python list\n",
    "        self.my_list = [1, 2, 3, 4, 5]\n",
    "\n",
    "    @task\n",
    "    def access_list(self):\n",
    "        # Thêm giá trị tăng dần vào list (nếu đã có giá trị thì cộng thêm 1)\n",
    "        self.my_list.append(self.my_list[-1] + 1)\n",
    "        print(self.my_list)\n",
    "\n"
   ]
  }
 ],
 "metadata": {
  "language_info": {
   "name": "python"
  }
 },
 "nbformat": 4,
 "nbformat_minor": 2
}
