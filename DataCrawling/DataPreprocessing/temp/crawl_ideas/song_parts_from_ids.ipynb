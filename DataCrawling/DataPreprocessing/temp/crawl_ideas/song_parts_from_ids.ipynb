{
 "cells": [
  {
   "cell_type": "code",
   "execution_count": 23,
   "metadata": {},
   "outputs": [
    {
     "name": "stdout",
     "output_type": "stream",
     "text": [
      "Requirement already satisfied: xmltodict in c:\\users\\vector a\\appdata\\local\\programs\\python\\python310\\lib\\site-packages (0.13.0)\n"
     ]
    },
    {
     "name": "stderr",
     "output_type": "stream",
     "text": [
      "\n",
      "[notice] A new release of pip is available: 23.3.2 -> 24.0\n",
      "[notice] To update, run: python.exe -m pip install --upgrade pip\n"
     ]
    }
   ],
   "source": [
    "!pip install xmltodict"
   ]
  },
  {
   "cell_type": "code",
   "execution_count": 24,
   "metadata": {},
   "outputs": [],
   "source": [
    "import platform as python_platform\n",
    "\n",
    "class Platform:\n",
    "    WINDOWS = \"Windows\"\n",
    "    MACOS = \"Darwin\"\n",
    "\n",
    "platform = python_platform.system()\n",
    "\n",
    "windows_root_directory = \"D:/Vector A/0. KHTN/Nam 4/HKII/Thesis/Brainstorming/DataCrawling\"\n",
    "mac_root_directory = \"/Users/4rr311/Documents/VectorA/KHTN/Nam4/HKII/Thesis/Brainstorming/DataCrawling\"\n",
    "\n",
    "root_directory = windows_root_directory if platform == Platform.WINDOWS else mac_root_directory"
   ]
  },
  {
   "cell_type": "code",
   "execution_count": 25,
   "metadata": {},
   "outputs": [],
   "source": [
    "import os\n",
    "from os.path import join, getsize\n",
    "\n",
    "import sys\n",
    "sys.path.append(root_directory)\n",
    "\n",
    "from requests import Request, Session\n",
    "from requests.exceptions import ConnectionError, Timeout, TooManyRedirects\n",
    "# from requests_html import HTMLSession\n",
    "\n",
    "import random\n",
    "import time\n",
    "import re\n",
    "\n",
    "import xmltodict\n",
    "\n",
    "import os\n",
    "import json\n",
    "import threading\n",
    "\n",
    "import file_utils as fu"
   ]
  },
  {
   "cell_type": "code",
   "execution_count": 26,
   "metadata": {},
   "outputs": [],
   "source": [
    "class ResponseType:\n",
    "    JSON = \"json\"\n",
    "    XML = \"xml\"\n",
    "    UNKNOWN = \"unknown\""
   ]
  },
  {
   "cell_type": "code",
   "execution_count": 27,
   "metadata": {},
   "outputs": [],
   "source": [
    "def copy_folder_structure(source, destination):\n",
    "    '''Copy the structure of the source directory to the destination directory'''\n",
    "    for root, dirs, files in os.walk(source):\n",
    "        for dir in dirs:\n",
    "            new_dir = f\"{destination}/{root.replace(source, '')}/{dir}\"\n",
    "            \n",
    "            regex_pattern = r\"\\/{2,}\"            \n",
    "            new_dir = re.sub(regex_pattern, \"/\", new_dir)\n",
    "\n",
    "            os.makedirs(new_dir, exist_ok=True)"
   ]
  },
  {
   "cell_type": "code",
   "execution_count": 28,
   "metadata": {},
   "outputs": [],
   "source": [
    "# song_ids_of_song_parts_dir = fu.relative_to_absolute_path(\n",
    "#     \"DataPreprocessing/song_id_of_song_parts\",\n",
    "#     root_path=root_directory\n",
    "# )\n",
    "\n",
    "# song_parts_from_ids_dir = fu.relative_to_absolute_path(\n",
    "#     \"DataPreprocessing/song_parts_from_ids\",\n",
    "#     root_path=root_directory\n",
    "# )\n",
    "\n",
    "# copy_folder_structure(\n",
    "#     source=song_ids_of_song_parts_dir,\n",
    "#     destination=song_parts_from_ids_dir\n",
    "# )"
   ]
  },
  {
   "cell_type": "code",
   "execution_count": 29,
   "metadata": {},
   "outputs": [],
   "source": [
    "def response_data_parser(response_json):\n",
    "    metadata = None\n",
    "    main_data_type = None\n",
    "    main_data = None\n",
    "\n",
    "    if \"jsonData\" in response_json and response_json[\"jsonData\"] is not None:\n",
    "        main_data_type = ResponseType.JSON\n",
    "        main_data = response_json[\"jsonData\"]\n",
    "    elif \"xmlData\" in response_json and response_json[\"xmlData\"] is not None:\n",
    "        main_data_type = ResponseType.XML\n",
    "        print(response_json[\"xmlData\"])\n",
    "        main_data = xmltodict.parse(response_json[\"xmlData\"].replace(\"%20\", \"\"))\n",
    "        # # main_data = json.loads(response_json[\"xmlData\"])\n",
    "        # import xml.etree.ElementTree as ET\n",
    "\n",
    "\n",
    "        # xmlstr = ET.fromstring(response_json[\"xmlData\"])\n",
    "\n",
    "\n",
    "        # main_data = xmltodict.parse(xmlstr)\n",
    "    else:\n",
    "        main_data_type = ResponseType.UNKNOWN\n",
    "        main_data = response_json\n",
    "\n",
    "        print(f\"WARNING: response_data_parser: Unknown response type: {response_json}\")\n",
    "\n",
    "    try:\n",
    "        del response_json[\"jsonData\"]\n",
    "        del response_json[\"xmlData\"]\n",
    "    except:\n",
    "        print(f\"WARNING: response_data_parser: Unable to delete jsonData or xmlData from response_json: {response_json}\")\n",
    "\n",
    "    metadata = response_json\n",
    "\n",
    "    return metadata, main_data_type, main_data"
   ]
  },
  {
   "cell_type": "code",
   "execution_count": 30,
   "metadata": {},
   "outputs": [],
   "source": [
    "def make_request(url, parameters: dict = {}, headers: dict = {}):\n",
    "    session = Session()\n",
    "    session.headers.update(headers)\n",
    "    \n",
    "    status_code = None\n",
    "    metadata = None\n",
    "    main_data_type = None\n",
    "    main_data = None\n",
    "    \n",
    "    try:\n",
    "        response = session.get(url, params=parameters)\n",
    "        status_code = response.status_code\n",
    "\n",
    "        print(\"DEBUG\")\n",
    "        print(response.json())\n",
    "        print(\"DEBUG\")\n",
    "\n",
    "        if status_code != 200:\n",
    "            print(f\"-----------> FAIL: make_request - status_code: {status_code}\")\n",
    "        else:        \n",
    "            if response.headers['Content-Type'] == 'application/json; charset=UTF-8':\n",
    "                metadata, main_data_type, main_data = response_data_parser(response.json())\n",
    "            else:\n",
    "                print(f\"-----------> FAIL: make_request - unknown format: {url}\")\n",
    "        \n",
    "    except (ConnectionError, Timeout, TooManyRedirects) as e:\n",
    "        print(e)\n",
    "\n",
    "    return {\n",
    "        'status_code' : status_code,\n",
    "        'metadata' : metadata,\n",
    "        'main_data_type' : main_data_type,\n",
    "        'main_data' : main_data # Tương ứng với phần jsonData hoặc xmlData\n",
    "    }"
   ]
  },
  {
   "cell_type": "code",
   "execution_count": 31,
   "metadata": {},
   "outputs": [],
   "source": [
    "# lock = threading.Lock()\n",
    "\n",
    "# thread_per_batch = 10\n",
    "\n",
    "# thread_list = []"
   ]
  },
  {
   "cell_type": "code",
   "execution_count": 32,
   "metadata": {},
   "outputs": [],
   "source": [
    "# def make_request_in_thread_mode(song_part_url, song_url):\n",
    "#     # Add join to all the threads that are still running\n",
    "#     for thread in thread_list:\n",
    "#         thread.join()\n",
    "\n",
    "#     while threading.active_count() > thread_per_batch:\n",
    "#         # Random sleep time from 1000 to 2000 milliseconds\n",
    "#         time_to_sleep = random.randint(1000, 2000) / 1000\n",
    "#         time.sleep(time_to_sleep)\n",
    "    \n",
    "#     current_number_of_threads = threading.active_count()\n",
    "#     if (current_number_of_threads > thread_per_batch):\n",
    "#         print(f\"WARNING: current_number_of_threads: {current_number_of_threads} - {song_part_url}\")\n",
    "    \n",
    "#     thread = threading.Thread(target=make_request, args=song_part_url)\n",
    "#     thread.start()\n",
    "\n",
    "#     result = thread.result\n",
    "\n",
    "    \n",
    "\n",
    "#     return request_result"
   ]
  },
  {
   "cell_type": "code",
   "execution_count": 33,
   "metadata": {},
   "outputs": [
    {
     "name": "stdout",
     "output_type": "stream",
     "text": [
      "DEBUG\n",
      "{'ID': 173680, 'user_id': 103696, 'dateModified': '2015-03-05 14:05:35+00:00', 'HTID': 'zbx25Fez3DZr', 'artist': 'Arthur', 'song': 'Beginning of time', 'section': 'Chorus', 'revision': 0, 'chords': None, 'youTubeID': '', 'xmlData': '', 'dotDNAbin': None, 'xmlType': 'file', 'SIF': ',6-1,rest-1,rest-1,rest-1,4-1,rest-1,rest-1,rest-1,1-1,rest-1,rest-1,rest-1,5-1,rest-1,rest-1,rest-1,6-1,rest-1,rest-1,rest-1,4-1,rest-1,rest-1,rest-1,1-1,rest-1,rest-1,rest-1,5-1,rest-1,rest-1,rest-1,rest-1,rest-1,rest-1,rest-1,6-0.5,rest-0.5,6-0.5,rest-0.5,6-0.5,rest-0.5,6-0.5,rest-0.5,4-0.5,rest-0.5,4-0.5,rest-0.5,4-0.5,rest-0.5,4-0.5,rest-0.5,1-0.5,rest-0.5,1-0.5,rest-0.5,1-0.5,rest-0.5,1-0.5,rest-0.5,5-0.5,rest-0.5,5-0.5,rest-0.5,5-0.5,rest-0.5,5-0.5,rest-0.5,6-0.5,rest-0.5,6-0.5,rest-0.5,6-0.5,rest-0.5,6-0.5,rest-0.5,4-0.5,rest-0.5,4-0.5,rest-0.5,4-0.5,rest-0.5,4-0.5,rest-0.5,1-0.5,rest-0.5,1-0.5,rest-0.5,1-0.5,rest-0.5,1-0.5,rest-0.5,5-0.5,rest-0.5,5-0.5,rest-0.5,5-0.5,rest-0.5,5-0.5,rest-0.5,rest-4,rest-4,6-1,rest-1,6-1,rest-1,4-1,rest-1,4-1,rest-1,1-1,rest-1,1-1,rest-1,5-1,rest-1,5-1,rest-1,6-1,rest-1,6-1,rest-1,4-1,rest-1,4-1,rest-1,1-1,rest-1,1-1,rest-1,5-1,rest-1,5-1,rest-1,rest-4,rest-4,6-4,4-4,1-4,5-4,6-4,4-4,1-4,5-4,6-4,4-4,1-4,5-4,6-4,4-4,1-4,5-4,rest-4,6-0.5,rest-1,rest-1,rest-1.5,4-0.5,rest-1,rest-1,rest-1,1-0.5,rest-1,rest-1,rest-1.5,5-0.5,rest-1.5,rest-1,rest-1,6-1,rest-1,rest-1,rest-1,4-1,rest-1,rest-1,rest-1,1-1,rest-1,rest-1,rest-1,5-1,rest-1,rest-1,rest-1,6-1,rest-1,rest-1,rest-1,4-1,rest-1,rest-1,rest-1,1-1,rest-1,rest-1,rest-1,5-1,rest-1,rest-1,rest-1,rest-4,6-4,4-4,1-4,5-4,6-4,4-4,1-4,5-4,rest-1,rest-1,rest-1,rest-1,6-1,rest-1,6-1,', 'SInE': ',6-1,rest-1,rest-1,rest-1,4-1,rest-1,rest-1,rest-1,1-1,rest-1,rest-1,rest-1,5-1,rest-1,rest-1,rest-1,6-1,rest-1,rest-1,rest-1,4-1,rest-1,rest-1,rest-1,1-1,rest-1,rest-1,rest-1,5-1,rest-1,rest-1,rest-1,rest-1,rest-1,rest-1,rest-1,6-0.5,rest-0.5,6-0.5,rest-0.5,6-0.5,rest-0.5,6-0.5,rest-0.5,4-0.5,rest-0.5,4-0.5,rest-0.5,4-0.5,rest-0.5,4-0.5,rest-0.5,1-0.5,rest-0.5,1-0.5,rest-0.5,1-0.5,rest-0.5,1-0.5,rest-0.5,5-0.5,rest-0.5,5-0.5,rest-0.5,5-0.5,rest-0.5,5-0.5,rest-0.5,6-0.5,rest-0.5,6-0.5,rest-0.5,6-0.5,rest-0.5,6-0.5,rest-0.5,4-0.5,rest-0.5,4-0.5,rest-0.5,4-0.5,rest-0.5,4-0.5,rest-0.5,1-0.5,rest-0.5,1-0.5,rest-0.5,1-0.5,rest-0.5,1-0.5,rest-0.5,5-0.5,rest-0.5,5-0.5,rest-0.5,5-0.5,rest-0.5,5-0.5,rest-0.5,rest-4,rest-4,6-1,rest-1,6-1,rest-1,4-1,rest-1,4-1,rest-1,1-1,rest-1,1-1,rest-1,5-1,rest-1,5-1,rest-1,6-1,rest-1,6-1,rest-1,4-1,rest-1,4-1,rest-1,1-1,rest-1,1-1,rest-1,5-1,rest-1,5-1,rest-1,rest-4,rest-4,6-4,4-4,1-4,5-4,6-4,4-4,1-4,5-4,6-4,4-4,1-4,5-4,6-4,4-4,1-4,5-4,rest-4,6-0.5,rest-1,rest-1,rest-1.5,4-0.5,rest-1,rest-1,rest-1,1-0.5,rest-1,rest-1,rest-1.5,5-0.5,rest-1.5,rest-1,rest-1,6-1,rest-1,rest-1,rest-1,4-1,rest-1,rest-1,rest-1,1-1,rest-1,rest-1,rest-1,5-1,rest-1,rest-1,rest-1,6-1,rest-1,rest-1,rest-1,4-1,rest-1,rest-1,rest-1,1-1,rest-1,rest-1,rest-1,5-1,rest-1,rest-1,rest-1,rest-4,6-4,4-4,1-4,5-4,6-4,4-4,1-4,5-4,rest-1,rest-1,rest-1,rest-1,6-1,rest-1,6-1,', 'SInD': ',6,rest,rest,rest,4,rest,rest,rest,1,rest,rest,rest,5,rest,rest,rest,6,rest,rest,rest,4,rest,rest,rest,1,rest,rest,rest,5,rest,rest,rest,rest,rest,rest,rest,6,rest,6,rest,6,rest,6,rest,4,rest,4,rest,4,rest,4,rest,1,rest,1,rest,1,rest,1,rest,5,rest,5,rest,5,rest,5,rest,6,rest,6,rest,6,rest,6,rest,4,rest,4,rest,4,rest,4,rest,1,rest,1,rest,1,rest,1,rest,5,rest,5,rest,5,rest,5,rest,rest,rest,6,rest,6,rest,4,rest,4,rest,1,rest,1,rest,5,rest,5,rest,6,rest,6,rest,4,rest,4,rest,1,rest,1,rest,5,rest,5,rest,rest,rest,6,4,1,5,6,4,1,5,6,4,1,5,6,4,1,5,rest,6,rest,rest,rest,4,rest,rest,rest,1,rest,rest,rest,5,rest,rest,rest,6,rest,rest,rest,4,rest,rest,rest,1,rest,rest,rest,5,rest,rest,rest,6,rest,rest,rest,4,rest,rest,rest,1,rest,rest,rest,5,rest,rest,rest,rest,6,4,1,5,6,4,1,5,rest,rest,rest,rest,6,rest,6,', 'SInED': ',6,rest,rest,rest,4,rest,rest,rest,1,rest,rest,rest,5,rest,rest,rest,6,rest,rest,rest,4,rest,rest,rest,1,rest,rest,rest,5,rest,rest,rest,rest,rest,rest,rest,6,rest,6,rest,6,rest,6,rest,4,rest,4,rest,4,rest,4,rest,1,rest,1,rest,1,rest,1,rest,5,rest,5,rest,5,rest,5,rest,6,rest,6,rest,6,rest,6,rest,4,rest,4,rest,4,rest,4,rest,1,rest,1,rest,1,rest,1,rest,5,rest,5,rest,5,rest,5,rest,rest,rest,6,rest,6,rest,4,rest,4,rest,1,rest,1,rest,5,rest,5,rest,6,rest,6,rest,4,rest,4,rest,1,rest,1,rest,5,rest,5,rest,rest,rest,6,4,1,5,6,4,1,5,6,4,1,5,6,4,1,5,rest,6,rest,rest,rest,4,rest,rest,rest,1,rest,rest,rest,5,rest,rest,rest,6,rest,rest,rest,4,rest,rest,rest,1,rest,rest,rest,5,rest,rest,rest,6,rest,rest,rest,4,rest,rest,rest,1,rest,rest,rest,5,rest,rest,rest,rest,6,4,1,5,6,4,1,5,rest,rest,rest,rest,6,rest,6,', 'SInA': ',6,rest,rest,rest,4,rest,rest,rest,1,rest,rest,rest,5,rest,rest,rest,6,rest,rest,rest,4,rest,rest,rest,1,rest,rest,rest,5,rest,rest,rest,rest,rest,rest,rest,6,rest,6,rest,6,rest,6,rest,4,rest,4,rest,4,rest,4,rest,1,rest,1,rest,1,rest,1,rest,5,rest,5,rest,5,rest,5,rest,6,rest,6,rest,6,rest,6,rest,4,rest,4,rest,4,rest,4,rest,1,rest,1,rest,1,rest,1,rest,5,rest,5,rest,5,rest,5,rest,rest,rest,6,rest,6,rest,4,rest,4,rest,1,rest,1,rest,5,rest,5,rest,6,rest,6,rest,4,rest,4,rest,1,rest,1,rest,5,rest,5,rest,rest,rest,6,4,1,5,6,4,1,5,6,4,1,5,6,4,1,5,rest,6,rest,rest,rest,4,rest,rest,rest,1,rest,rest,rest,5,rest,rest,rest,6,rest,rest,rest,4,rest,rest,rest,1,rest,rest,rest,5,rest,rest,rest,6,rest,rest,rest,4,rest,rest,rest,1,rest,rest,rest,5,rest,rest,rest,rest,6,4,1,5,6,4,1,5,rest,rest,rest,rest,6,rest,6,', 'beatsInMeasure': '4', 'songKey': 'C', 'isPrivate': '0', 'views': 0, 'hasMelody': '1', 'hasChords': '1', 'isAnalysis': 0, 'voteup': 0, 'votedown': 0, 'score': 0, 'songURL': 'beginning-of-time', 'artistURL': 'arthur', 'sectionURL': 'chorus', 'editComments': 'This is actually a variation of a song, not a chorus.', 'visible': 1, 'wikiorder': 1, 'bIsPaired': 0, 'YouTubeVideoID': None, 'bpm': 160, 'mode': 1, 'borrowedFixed': '0', 'SInEDFixed': '0', 'user_id_editor': 21423, 'jsonData': None}\n",
      "DEBUG\n",
      "\n"
     ]
    },
    {
     "ename": "ExpatError",
     "evalue": "no element found: line 1, column 0",
     "output_type": "error",
     "traceback": [
      "\u001b[1;31m---------------------------------------------------------------------------\u001b[0m",
      "\u001b[1;31mExpatError\u001b[0m                                Traceback (most recent call last)",
      "Cell \u001b[1;32mIn[33], line 13\u001b[0m\n\u001b[0;32m     10\u001b[0m test_url \u001b[38;5;241m=\u001b[39m debug_url\n\u001b[0;32m     11\u001b[0m test_url \u001b[38;5;241m=\u001b[39m debug_url_2\n\u001b[1;32m---> 13\u001b[0m result \u001b[38;5;241m=\u001b[39m \u001b[43mmake_request\u001b[49m\u001b[43m(\u001b[49m\u001b[43mtest_url\u001b[49m\u001b[43m)\u001b[49m\n\u001b[0;32m     14\u001b[0m \u001b[38;5;28mprint\u001b[39m(\u001b[38;5;124mf\u001b[39m\u001b[38;5;124m\"\u001b[39m\u001b[38;5;124mstatus_code: \u001b[39m\u001b[38;5;132;01m{\u001b[39;00mresult[\u001b[38;5;124m'\u001b[39m\u001b[38;5;124mstatus_code\u001b[39m\u001b[38;5;124m'\u001b[39m]\u001b[38;5;132;01m}\u001b[39;00m\u001b[38;5;124m\"\u001b[39m)\n\u001b[0;32m     15\u001b[0m \u001b[38;5;28mprint\u001b[39m(\u001b[38;5;124mf\u001b[39m\u001b[38;5;124m\"\u001b[39m\u001b[38;5;124mmetadata: \u001b[39m\u001b[38;5;132;01m{\u001b[39;00mresult[\u001b[38;5;124m'\u001b[39m\u001b[38;5;124mmetadata\u001b[39m\u001b[38;5;124m'\u001b[39m]\u001b[38;5;132;01m}\u001b[39;00m\u001b[38;5;124m\"\u001b[39m)\n",
      "Cell \u001b[1;32mIn[30], line 22\u001b[0m, in \u001b[0;36mmake_request\u001b[1;34m(url, parameters, headers)\u001b[0m\n\u001b[0;32m     20\u001b[0m \u001b[38;5;28;01melse\u001b[39;00m:        \n\u001b[0;32m     21\u001b[0m     \u001b[38;5;28;01mif\u001b[39;00m response\u001b[38;5;241m.\u001b[39mheaders[\u001b[38;5;124m'\u001b[39m\u001b[38;5;124mContent-Type\u001b[39m\u001b[38;5;124m'\u001b[39m] \u001b[38;5;241m==\u001b[39m \u001b[38;5;124m'\u001b[39m\u001b[38;5;124mapplication/json; charset=UTF-8\u001b[39m\u001b[38;5;124m'\u001b[39m:\n\u001b[1;32m---> 22\u001b[0m         metadata, main_data_type, main_data \u001b[38;5;241m=\u001b[39m \u001b[43mresponse_data_parser\u001b[49m\u001b[43m(\u001b[49m\u001b[43mresponse\u001b[49m\u001b[38;5;241;43m.\u001b[39;49m\u001b[43mjson\u001b[49m\u001b[43m(\u001b[49m\u001b[43m)\u001b[49m\u001b[43m)\u001b[49m\n\u001b[0;32m     23\u001b[0m     \u001b[38;5;28;01melse\u001b[39;00m:\n\u001b[0;32m     24\u001b[0m         \u001b[38;5;28mprint\u001b[39m(\u001b[38;5;124mf\u001b[39m\u001b[38;5;124m\"\u001b[39m\u001b[38;5;124m-----------> FAIL: make_request - unknown format: \u001b[39m\u001b[38;5;132;01m{\u001b[39;00murl\u001b[38;5;132;01m}\u001b[39;00m\u001b[38;5;124m\"\u001b[39m)\n",
      "Cell \u001b[1;32mIn[29], line 12\u001b[0m, in \u001b[0;36mresponse_data_parser\u001b[1;34m(response_json)\u001b[0m\n\u001b[0;32m     10\u001b[0m     main_data_type \u001b[38;5;241m=\u001b[39m ResponseType\u001b[38;5;241m.\u001b[39mXML\n\u001b[0;32m     11\u001b[0m     \u001b[38;5;28mprint\u001b[39m(response_json[\u001b[38;5;124m\"\u001b[39m\u001b[38;5;124mxmlData\u001b[39m\u001b[38;5;124m\"\u001b[39m])\n\u001b[1;32m---> 12\u001b[0m     main_data \u001b[38;5;241m=\u001b[39m \u001b[43mxmltodict\u001b[49m\u001b[38;5;241;43m.\u001b[39;49m\u001b[43mparse\u001b[49m\u001b[43m(\u001b[49m\u001b[43mresponse_json\u001b[49m\u001b[43m[\u001b[49m\u001b[38;5;124;43m\"\u001b[39;49m\u001b[38;5;124;43mxmlData\u001b[39;49m\u001b[38;5;124;43m\"\u001b[39;49m\u001b[43m]\u001b[49m\u001b[38;5;241;43m.\u001b[39;49m\u001b[43mreplace\u001b[49m\u001b[43m(\u001b[49m\u001b[38;5;124;43m\"\u001b[39;49m\u001b[38;5;124;43m%\u001b[39;49m\u001b[38;5;124;43m20\u001b[39;49m\u001b[38;5;124;43m\"\u001b[39;49m\u001b[43m,\u001b[49m\u001b[43m \u001b[49m\u001b[38;5;124;43m\"\u001b[39;49m\u001b[38;5;124;43m\"\u001b[39;49m\u001b[43m)\u001b[49m\u001b[43m)\u001b[49m\n\u001b[0;32m     13\u001b[0m     \u001b[38;5;66;03m# # main_data = json.loads(response_json[\"xmlData\"])\u001b[39;00m\n\u001b[0;32m     14\u001b[0m     \u001b[38;5;66;03m# import xml.etree.ElementTree as ET\u001b[39;00m\n\u001b[0;32m     15\u001b[0m \n\u001b[1;32m   (...)\u001b[0m\n\u001b[0;32m     20\u001b[0m     \u001b[38;5;66;03m# main_data = xmltodict.parse(xmlstr)\u001b[39;00m\n\u001b[0;32m     21\u001b[0m \u001b[38;5;28;01melse\u001b[39;00m:\n\u001b[0;32m     22\u001b[0m     main_data_type \u001b[38;5;241m=\u001b[39m ResponseType\u001b[38;5;241m.\u001b[39mUNKNOWN\n",
      "File \u001b[1;32mc:\\Users\\Vector A\\AppData\\Local\\Programs\\Python\\Python310\\lib\\site-packages\\xmltodict.py:378\u001b[0m, in \u001b[0;36mparse\u001b[1;34m(xml_input, encoding, expat, process_namespaces, namespace_separator, disable_entities, process_comments, **kwargs)\u001b[0m\n\u001b[0;32m    376\u001b[0m     parser\u001b[38;5;241m.\u001b[39mParse(\u001b[38;5;124mb\u001b[39m\u001b[38;5;124m'\u001b[39m\u001b[38;5;124m'\u001b[39m,\u001b[38;5;28;01mTrue\u001b[39;00m)\n\u001b[0;32m    377\u001b[0m \u001b[38;5;28;01melse\u001b[39;00m:\n\u001b[1;32m--> 378\u001b[0m     \u001b[43mparser\u001b[49m\u001b[38;5;241;43m.\u001b[39;49m\u001b[43mParse\u001b[49m\u001b[43m(\u001b[49m\u001b[43mxml_input\u001b[49m\u001b[43m,\u001b[49m\u001b[43m \u001b[49m\u001b[38;5;28;43;01mTrue\u001b[39;49;00m\u001b[43m)\u001b[49m\n\u001b[0;32m    379\u001b[0m \u001b[38;5;28;01mreturn\u001b[39;00m handler\u001b[38;5;241m.\u001b[39mitem\n",
      "\u001b[1;31mExpatError\u001b[0m: no element found: line 1, column 0"
     ]
    }
   ],
   "source": [
    "json_url = \"https://api.hooktheory.com/v1/songs/public/jDgXpWlLgKl\"\n",
    "xml_url = \"https://api.hooktheory.com/v1/songs/public/lamknK_AoDM\"\n",
    "xml_url_2 = \"https://api.hooktheory.com/v1/songs/public/ZwxKJrPGged\"\n",
    "debug_url = \"https://api.hooktheory.com/v1/songs/public/yvgPnJOAoYq\"\n",
    "debug_url_2 = \"https://api.hooktheory.com/v1/songs/public/nLgaejbdgYp\"\n",
    "\n",
    "test_url = xml_url\n",
    "test_url = json_url\n",
    "test_url = xml_url_2\n",
    "test_url = debug_url\n",
    "test_url = debug_url_2\n",
    "\n",
    "result = make_request(test_url)\n",
    "print(f\"status_code: {result['status_code']}\")\n",
    "print(f\"metadata: {result['metadata']}\")\n",
    "print(f\"main_data_type: {result['main_data_type']}\")\n",
    "print(f\"main_data: {result['main_data']}\")"
   ]
  },
  {
   "cell_type": "code",
   "execution_count": null,
   "metadata": {},
   "outputs": [],
   "source": [
    "# # {\n",
    "# #     \"artist_name\": \"ZZ Top\",\n",
    "# #     \"artist_link\": \"https://www.hooktheory.com/theorytab/artists/z/zz-top\",\n",
    "# #     \"song_name\": \"Sharp Dressed Man\",\n",
    "# #     \"link\": \"https://www.hooktheory.com/theorytab/view/zz-top/sharp-dressed-man\",\n",
    "# #     \"metrics\": {\n",
    "# #         \"Chord Complexity\": \"26\",\n",
    "# #         \"Melodic Complexity\": \"30\",\n",
    "# #         \"Chord-Melody Tension\": \"95\",\n",
    "# #         \"Chord Progression Novelty\": \"27\",\n",
    "# #         \"Chord Bass Melody\": \"38\"\n",
    "# #     },\n",
    "# #     \"metrics_conclusion\": \" Sharp Dressed Man has higher complexity than the average song  in terms Chord-Melody Tension. \",\n",
    "# #     \"key_conclusion\": \" Sharp Dressed Man is written in the key of C Dorian.  \\n\\nAccording to the Theorytab database, it is the 4th most popular key among Dorian keys and     the 33rd most popular  among all keys. The C Dorian scale is similar to the C Minor scale except that its 6th note is a half step higher (A).  Chord progressions in Dorian have a characteristic sound due to the major quality of the chord built on the 4th scale degree. \\n\\nSee the C Dorian Cheat Sheet for popular chords, chord progressions, downloadable midi files and more!\",\n",
    "# #     \"song_parts\": [\n",
    "# #         {\n",
    "# #             \"id\" : \"nJmB_pZdgAV\",\n",
    "# #             \"metadata\": {...<json-data>...},\n",
    "# #             \"main_data_type\": \"xml\",\n",
    "# #             \"json_path\": \"/Users/4rr311/Documents/VectorA/KHTN/Nam4/HKII/Thesis/Brainstorming/DataCrawling/DataPreprocessing/song_parts_from_ids/ZZ Top/<song-name>/<id>.json\"\n",
    "# #         },\n",
    "# #         {\n",
    "# #             ...\n",
    "# #         },\n",
    "# #         ...\n",
    "# #     ]\n",
    "# # }\n",
    "\n",
    "\n",
    "# def aggregate_song_parts_data(song_parts_json_response_list, song_id_of_song_parts_dict: dict):\n",
    "#     '''Gom nhóm dữ liệu của các phần nhạc của một bài hát'''\n",
    "    \n",
    "#     song_parts_data = []\n",
    "#     threads = []\n",
    "    \n",
    "#     for song_part_json_response in song_parts_json_response_list:\n",
    "#         song_part_id = song_part_json_response['id']\n",
    "#         song_part_metadata = song_part_json_response['metadata']\n",
    "        \n",
    "#         song_part_data = {\n",
    "#             'id' : song_part_id,\n",
    "#             'metadata' : song_part_metadata,\n",
    "#             'json_path' : song_id_of_song_parts_dict[song_part_id]\n",
    "#         }\n",
    "        \n",
    "#         song_parts_data.append(song_part_data)\n",
    "    \n",
    "#     # Thay key \"song_parts_ids\" trong song_parts_json_response_list thành \"song_parts\"\n",
    "#     song_id_of_song_parts_dict[\"song_parts\"] = song_parts_data\n",
    "#     del song_id_of_song_parts_dict[\"song_parts_ids\"]\n",
    "\n",
    "#     return song_id_of_song_parts_dict\n",
    "    "
   ]
  },
  {
   "cell_type": "code",
   "execution_count": null,
   "metadata": {},
   "outputs": [],
   "source": [
    "# # Ví dụ về threading và callback \n",
    "\n",
    "# def callback_function(result):\n",
    "#     print(f\"callback_function: {result}\")\n",
    "\n",
    "# def calculate_square(number, callback):\n",
    "#     time.sleep(number)\n",
    "#     result = number * number\n",
    "#     callback(result)\n",
    "\n",
    "# def calculate_cube(number, callback):\n",
    "#     time.sleep(1)\n",
    "#     result = number * number * number\n",
    "#     callback(result)\n",
    "\n",
    "# thread1 = threading.Thread(target=calculate_square, args=(5, callback_function))\n",
    "# thread1.start()\n",
    "\n",
    "# thread2 = threading.Thread(target=calculate_cube, args=(10, callback_function))\n",
    "# thread2.start()\n",
    "\n",
    "# thread1.join()\n",
    "# thread2.join()  "
   ]
  },
  {
   "cell_type": "code",
   "execution_count": null,
   "metadata": {},
   "outputs": [],
   "source": [
    "# test_file_path = '/Users/4rr311/Documents/VectorA/KHTN/Nam4/HKII/Thesis/Brainstorming/DataCrawling/DataPreprocessing/song_parts_from_ids/test.json'\n",
    "# # Lưu data vào file json\n",
    "# with open(test_file_path, 'w') as file:\n",
    "#     file.write(result['data'])\n",
    "\n",
    "# print(test_file_path)\n"
   ]
  },
  {
   "cell_type": "code",
   "execution_count": null,
   "metadata": {},
   "outputs": [],
   "source": [
    "# print(type(result['data']))\n",
    "\n",
    "# x = json.loads(result['data'])\n",
    "# print(type(x))\n",
    "\n",
    "# print(f\"jsonData: {x['jsonData']}\")\n",
    "\n",
    "# z = xmltodict.parse(x['xmlData'])\n",
    "# print(type(z))\n",
    "\n",
    "# y = json.dumps(xmltodict.parse(x['xmlData']))\n",
    "# print(type(y))\n",
    "\n",
    "# print(y)\n",
    "\n"
   ]
  },
  {
   "cell_type": "code",
   "execution_count": null,
   "metadata": {},
   "outputs": [],
   "source": [
    "# t = {\"a\" : 1, \"b\" : 2}\n",
    "# print(t)\n",
    "\n",
    "# k = t.pop(\"g\")\n",
    "# print(k)\n",
    "# print(t)"
   ]
  }
 ],
 "metadata": {
  "kernelspec": {
   "display_name": "Python 3",
   "language": "python",
   "name": "python3"
  },
  "language_info": {
   "codemirror_mode": {
    "name": "ipython",
    "version": 3
   },
   "file_extension": ".py",
   "mimetype": "text/x-python",
   "name": "python",
   "nbconvert_exporter": "python",
   "pygments_lexer": "ipython3",
   "version": "3.10.7"
  }
 },
 "nbformat": 4,
 "nbformat_minor": 2
}
