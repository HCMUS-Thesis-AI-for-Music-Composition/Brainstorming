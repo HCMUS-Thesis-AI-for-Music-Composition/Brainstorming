{
 "cells": [
  {
   "cell_type": "code",
   "execution_count": 74,
   "metadata": {},
   "outputs": [
    {
     "name": "stdout",
     "output_type": "stream",
     "text": [
      "Requirement already satisfied: xmltodict in /Library/Frameworks/Python.framework/Versions/3.10/lib/python3.10/site-packages (0.13.0)\n",
      "\n",
      "\u001b[1m[\u001b[0m\u001b[34;49mnotice\u001b[0m\u001b[1;39;49m]\u001b[0m\u001b[39;49m A new release of pip is available: \u001b[0m\u001b[31;49m23.3.2\u001b[0m\u001b[39;49m -> \u001b[0m\u001b[32;49m24.0\u001b[0m\n",
      "\u001b[1m[\u001b[0m\u001b[34;49mnotice\u001b[0m\u001b[1;39;49m]\u001b[0m\u001b[39;49m To update, run: \u001b[0m\u001b[32;49mpip install --upgrade pip\u001b[0m\n"
     ]
    }
   ],
   "source": [
    "!pip install xmltodict"
   ]
  },
  {
   "cell_type": "code",
   "execution_count": 75,
   "metadata": {},
   "outputs": [],
   "source": [
    "import platform as python_platform\n",
    "\n",
    "class Platform:\n",
    "    WINDOWS = \"Windows\"\n",
    "    MACOS = \"Darwin\"\n",
    "\n",
    "platform = python_platform.system()\n",
    "\n",
    "windows_root_directory = \"D:/Vector A/0. KHTN/Nam 4/HKII/Thesis/Brainstorming/DataCrawling\"\n",
    "mac_root_directory = \"/Users/4rr311/Documents/VectorA/KHTN/Nam4/HKII/Thesis/Brainstorming/DataCrawling\"\n",
    "\n",
    "root_directory = windows_root_directory if platform == Platform.WINDOWS else mac_root_directory"
   ]
  },
  {
   "cell_type": "code",
   "execution_count": 76,
   "metadata": {},
   "outputs": [],
   "source": [
    "import os\n",
    "from os.path import join, getsize\n",
    "\n",
    "import sys\n",
    "sys.path.append(root_directory)\n",
    "\n",
    "from requests import Request, Session\n",
    "from requests.exceptions import ConnectionError, Timeout, TooManyRedirects\n",
    "# from requests_html import HTMLSession\n",
    "\n",
    "import random\n",
    "import time\n",
    "import re\n",
    "\n",
    "import xmltodict\n",
    "\n",
    "import os\n",
    "import json\n",
    "import threading\n",
    "\n",
    "import file_utils as fu"
   ]
  },
  {
   "cell_type": "code",
   "execution_count": 77,
   "metadata": {},
   "outputs": [],
   "source": [
    "class ResponseType:\n",
    "    JSON = \"json\"\n",
    "    XML = \"xml\"\n",
    "    UNKNOWN = \"unknown\""
   ]
  },
  {
   "cell_type": "code",
   "execution_count": 78,
   "metadata": {},
   "outputs": [],
   "source": [
    "def copy_folder_structure(source, destination):\n",
    "    '''Copy the structure of the source directory to the destination directory'''\n",
    "    for root, dirs, files in os.walk(source):\n",
    "        for dir in dirs:\n",
    "            new_dir = f\"{destination}/{root.replace(source, '')}/{dir}\"\n",
    "            \n",
    "            regex_pattern = r\"\\/{2,}\"            \n",
    "            new_dir = re.sub(regex_pattern, \"/\", new_dir)\n",
    "\n",
    "            os.makedirs(new_dir, exist_ok=True)"
   ]
  },
  {
   "cell_type": "code",
   "execution_count": 79,
   "metadata": {},
   "outputs": [],
   "source": [
    "song_ids_of_song_parts_dir = fu.relative_to_absolute_path(\n",
    "    \"DataPreprocessing/song_id_of_song_parts\",\n",
    "    root_path=root_directory\n",
    ")\n",
    "\n",
    "song_parts_from_ids_dir = fu.relative_to_absolute_path(\n",
    "    \"DataPreprocessing/song_parts_from_ids\",\n",
    "    root_path=root_directory\n",
    ")\n",
    "\n",
    "copy_folder_structure(\n",
    "    source=song_ids_of_song_parts_dir,\n",
    "    destination=song_parts_from_ids_dir\n",
    ")"
   ]
  },
  {
   "cell_type": "code",
   "execution_count": 80,
   "metadata": {},
   "outputs": [],
   "source": [
    "def response_data_parser(response_json):\n",
    "    metadata = None\n",
    "    main_data_type = None\n",
    "    main_data = None\n",
    "\n",
    "    if \"jsonData\" in response_json and response_json[\"jsonData\"] is not None:\n",
    "        main_data_type = ResponseType.JSON\n",
    "        main_data = response_json[\"jsonData\"]\n",
    "    elif \"xmlData\" in response_json and response_json[\"xmlData\"] is not None:\n",
    "        main_data_type = ResponseType.XML\n",
    "        main_data = xmltodict.parse(response_json[\"xmlData\"])\n",
    "    else:\n",
    "        main_data_type = ResponseType.UNKNOWN\n",
    "        main_data = response_json\n",
    "\n",
    "        print(f\"WARNING: response_data_parser: Unknown response type: {response_json}\")\n",
    "\n",
    "    try:\n",
    "        del response_json[\"jsonData\"]\n",
    "        del response_json[\"xmlData\"]\n",
    "    except:\n",
    "        print(f\"WARNING: response_data_parser: Unable to delete jsonData or xmlData from response_json: {response_json}\")\n",
    "\n",
    "    metadata = response_json\n",
    "\n",
    "    return metadata, main_data_type, main_data"
   ]
  },
  {
   "cell_type": "code",
   "execution_count": 81,
   "metadata": {},
   "outputs": [],
   "source": [
    "def make_request(url, parameters: dict = None, headers: dict = None):\n",
    "    session = Session()\n",
    "    session.headers.update(headers)\n",
    "    \n",
    "    status_code = None\n",
    "    metadata = None\n",
    "    main_data_type = None\n",
    "    main_data = None\n",
    "    \n",
    "    try:\n",
    "        response = session.get(url, params=parameters)\n",
    "        status_code = response.status_code\n",
    "\n",
    "        if status_code != 200:\n",
    "            print(f\"-----------> FAIL: make_request - status_code: {status_code}\")\n",
    "        else:        \n",
    "            if response.headers['Content-Type'] == 'application/json; charset=UTF-8':\n",
    "                metadata, main_data_type, main_data = response_data_parser(response.json())\n",
    "            else:\n",
    "                print(f\"-----------> FAIL: make_request - unknown format: {url}\")\n",
    "        \n",
    "    except (ConnectionError, Timeout, TooManyRedirects) as e:\n",
    "        print(e)\n",
    "\n",
    "    return {\n",
    "        'status_code' : status_code,\n",
    "        'metadata' : metadata,\n",
    "        'main_data_type' : main_data_type,\n",
    "        'main_data' : main_data # Tương ứng với phần jsonData hoặc xmlData\n",
    "    }"
   ]
  },
  {
   "cell_type": "code",
   "execution_count": null,
   "metadata": {},
   "outputs": [],
   "source": [
    "lock = threading.Lock()\n",
    "\n",
    "thread_per_batch = 10\n",
    "\n",
    "thread_list = []"
   ]
  },
  {
   "cell_type": "code",
   "execution_count": null,
   "metadata": {},
   "outputs": [],
   "source": [
    "def make_request_in_thread_mode(song_part_url, song_url):\n",
    "    # Add join to all the threads that are still running\n",
    "    for thread in thread_list:\n",
    "        thread.join()\n",
    "\n",
    "    while threading.active_count() > thread_per_batch:\n",
    "        # Random sleep time from 1000 to 2000 milliseconds\n",
    "        time_to_sleep = random.randint(1000, 2000) / 1000\n",
    "        time.sleep(time_to_sleep)\n",
    "    \n",
    "    current_number_of_threads = threading.active_count()\n",
    "    if (current_number_of_threads > thread_per_batch):\n",
    "        print(f\"WARNING: current_number_of_threads: {current_number_of_threads} - {song_part_url}\")\n",
    "    \n",
    "    thread = threading.Thread(target=make_request, args=song_part_url)\n",
    "    thread.start()\n",
    "\n",
    "    result = thread.result\n",
    "\n",
    "    \n",
    "\n",
    "    return request_result"
   ]
  },
  {
   "cell_type": "code",
   "execution_count": 86,
   "metadata": {},
   "outputs": [
    {
     "name": "stdout",
     "output_type": "stream",
     "text": [
      "status_code: 200\n",
      "metadata: {'ID': 133315, 'user_id': 103696, 'dateModified': '2018-07-31 12:44:48+00:00', 'HTID': 'ogmC3LVRvUiD', 'artist': 'Armin van Buuren', 'song': 'This Is What It Feels Like', 'section': 'Chorus', 'revision': 1, 'chords': None, 'youTubeID': 'MS1a-SQd79w', 'dotDNAbin': None, 'xmlType': 'file', 'SIF': ',6-4,4-2,1-6,56-2,6-4,4-2,1-6,36-2,6-4,4-2,1-8,5-2,6-2,4-2,1-8,', 'SInE': ',6-4,4-2,1-6,56-2,6-4,4-2,1-6,36-2,6-4,4-2,1-8,5-2,6-2,4-2,1-8,', 'SInD': ',6,4,1,56,6,4,1,36,6,4,1,5,6,4,1,', 'SInED': ',6,4,1,56,6,4,1,36,6,4,1,5,6,4,1,', 'SInA': ',6,4,1,5,6,4,1,3,6,4,1,5,6,4,1,', 'beatsInMeasure': '4', 'songKey': 'F', 'isPrivate': '1', 'views': 0, 'hasMelody': '1', 'hasChords': '1', 'isAnalysis': 1, 'voteup': 0, 'votedown': 0, 'score': 0, 'songURL': 'this-is-what-it-feels-like', 'artistURL': 'armin-van-buuren', 'sectionURL': 'chorus', 'editComments': 'Fixed the synchronization.', 'visible': 1, 'wikiorder': 1, 'bIsPaired': 0, 'YouTubeVideoID': None, 'bpm': 128, 'mode': 6, 'borrowedFixed': '0', 'SInEDFixed': '0', 'user_id_editor': 12279}\n",
      "main_data_type: xml\n",
      "data: {'super': {'meta': {'artist': 'Armin van Buuren', 'title': 'This Is What It Feels Like', 'beats_in_measure': '4', 'BPM': '128', 'key': 'F', 'YouTubeID': 'MS1a-SQd79w', 'mode': '6', 'sections': {'_Chorus': {'global_start': '77.39', 'section_duration': '29.55', 'active_start': '1.84', 'active_stop': '27.7'}}}, 'sections': {'_Chorus': {'segment': [{'instrument': None, 'rhythm': None, 'lyrics': None, 'notes': {'note': [{'start_beat_abs': '0', 'start_measure': '1', 'start_beat': '1', 'note_length': '3', 'scale_degree': 'rest', 'octave': '0', 'isRest': '1'}, {'start_beat_abs': '3', 'start_measure': '1', 'start_beat': '4', 'note_length': '0.5', 'scale_degree': '3', 'octave': '1', 'isRest': '0'}, {'start_beat_abs': '3.5', 'start_measure': '1', 'start_beat': '4.5', 'note_length': '0.5', 'scale_degree': '2', 'octave': '1', 'isRest': '0'}, {'start_beat_abs': '4', 'start_measure': '2', 'start_beat': '1', 'note_length': '1.5', 'scale_degree': '1', 'octave': '1', 'isRest': '0'}, {'start_beat_abs': '5.5', 'start_measure': '2', 'start_beat': '2.5', 'note_length': '1.5', 'scale_degree': '7', 'octave': '0', 'isRest': '0'}, {'start_beat_abs': '7', 'start_measure': '2', 'start_beat': '4', 'note_length': '4', 'scale_degree': '5', 'octave': '0', 'isRest': '0'}, {'start_beat_abs': '11', 'start_measure': '3', 'start_beat': '4', 'note_length': '1', 'scale_degree': 'rest', 'octave': '0', 'isRest': '1'}, {'start_beat_abs': '12', 'start_measure': '4', 'start_beat': '1', 'note_length': '4', 'scale_degree': 'rest', 'octave': '0', 'isRest': '1'}, {'start_beat_abs': '16', 'start_measure': '5', 'start_beat': '1', 'note_length': '1', 'scale_degree': 'rest', 'octave': '0', 'isRest': '1'}, {'start_beat_abs': '17', 'start_measure': '5', 'start_beat': '2', 'note_length': '0.5', 'scale_degree': '3', 'octave': '1', 'isRest': '0'}, {'start_beat_abs': '17.5', 'start_measure': '5', 'start_beat': '2.5', 'note_length': '0.5', 'scale_degree': '2', 'octave': '1', 'isRest': '0'}, {'start_beat_abs': '18', 'start_measure': '5', 'start_beat': '3', 'note_length': '1.5', 'scale_degree': '1', 'octave': '1', 'isRest': '0'}, {'start_beat_abs': '19.5', 'start_measure': '5', 'start_beat': '4.5', 'note_length': '3.5', 'scale_degree': '7', 'octave': '0', 'isRest': '0'}, {'start_beat_abs': '23', 'start_measure': '6', 'start_beat': '4', 'note_length': '1', 'scale_degree': 'rest', 'octave': '0', 'isRest': '1'}, {'start_beat_abs': '24', 'start_measure': '7', 'start_beat': '1', 'note_length': '4', 'scale_degree': 'rest', 'octave': '0', 'isRest': '1'}]}, 'chords': {'chord': [{'sd': '1', 'fb': None, 'sec': None, 'sus': None, 'pedal': None, 'alternate': None, 'borrowed': None, 'chord_duration': '4', 'start_measure': '1', 'start_beat': '1', 'start_beat_abs': '0', 'isRest': '0'}, {'sd': '6', 'fb': None, 'sec': None, 'sus': None, 'pedal': None, 'alternate': None, 'borrowed': None, 'chord_duration': '2', 'start_measure': '2', 'start_beat': '1', 'start_beat_abs': '4', 'isRest': '0'}, {'sd': '3', 'fb': None, 'sec': None, 'sus': None, 'pedal': None, 'alternate': None, 'borrowed': None, 'chord_duration': '6', 'start_measure': '2', 'start_beat': '3', 'start_beat_abs': '6', 'isRest': '0'}, {'sd': '7', 'fb': '6', 'sec': None, 'sus': None, 'pedal': None, 'alternate': None, 'borrowed': None, 'chord_duration': '2', 'start_measure': '4', 'start_beat': '1', 'start_beat_abs': '12', 'isRest': '0'}, {'sd': '1', 'fb': None, 'sec': None, 'sus': None, 'pedal': None, 'alternate': None, 'borrowed': None, 'chord_duration': '4', 'start_measure': '4', 'start_beat': '3', 'start_beat_abs': '14', 'isRest': '0'}, {'sd': '6', 'fb': None, 'sec': None, 'sus': None, 'pedal': None, 'alternate': None, 'borrowed': None, 'chord_duration': '2', 'start_measure': '5', 'start_beat': '3', 'start_beat_abs': '18', 'isRest': '0'}, {'sd': '3', 'fb': None, 'sec': None, 'sus': None, 'pedal': None, 'alternate': None, 'borrowed': None, 'chord_duration': '6', 'start_measure': '6', 'start_beat': '1', 'start_beat_abs': '20', 'isRest': '0'}, {'sd': '5', 'fb': '6', 'sec': None, 'sus': None, 'pedal': None, 'alternate': None, 'borrowed': None, 'chord_duration': '2', 'start_measure': '7', 'start_beat': '3', 'start_beat_abs': '26', 'isRest': '0'}]}, 'numMeasures': '7'}, {'instrument': None, 'rhythm': None, 'lyrics': None, 'notes': {'note': [{'start_beat_abs': '0', 'start_measure': '1', 'start_beat': '1', 'note_length': '3', 'scale_degree': 'rest', 'octave': '0', 'isRest': '1'}, {'start_beat_abs': '3', 'start_measure': '1', 'start_beat': '4', 'note_length': '0.5', 'scale_degree': '3', 'octave': '1', 'isRest': '0'}, {'start_beat_abs': '3.5', 'start_measure': '1', 'start_beat': '4.5', 'note_length': '0.5', 'scale_degree': '2', 'octave': '1', 'isRest': '0'}, {'start_beat_abs': '4', 'start_measure': '2', 'start_beat': '1', 'note_length': '1.5', 'scale_degree': '1', 'octave': '1', 'isRest': '0'}, {'start_beat_abs': '5.5', 'start_measure': '2', 'start_beat': '2.5', 'note_length': '1.5', 'scale_degree': '7', 'octave': '0', 'isRest': '0'}, {'start_beat_abs': '7', 'start_measure': '2', 'start_beat': '4', 'note_length': '4', 'scale_degree': '5', 'octave': '0', 'isRest': '0'}, {'start_beat_abs': '11', 'start_measure': '3', 'start_beat': '4', 'note_length': '1', 'scale_degree': 'rest', 'octave': '0', 'isRest': '1'}, {'start_beat_abs': '12', 'start_measure': '4', 'start_beat': '1', 'note_length': '4', 'scale_degree': 'rest', 'octave': '0', 'isRest': '1'}, {'start_beat_abs': '16', 'start_measure': '5', 'start_beat': '1', 'note_length': '1', 'scale_degree': 'rest', 'octave': '0', 'isRest': '1'}, {'start_beat_abs': '17', 'start_measure': '5', 'start_beat': '2', 'note_length': '0.5', 'scale_degree': '3', 'octave': '1', 'isRest': '0'}, {'start_beat_abs': '17.5', 'start_measure': '5', 'start_beat': '2.5', 'note_length': '0.5', 'scale_degree': '2', 'octave': '1', 'isRest': '0'}, {'start_beat_abs': '18', 'start_measure': '5', 'start_beat': '3', 'note_length': '1.5', 'scale_degree': '1', 'octave': '1', 'isRest': '0'}, {'start_beat_abs': '19.5', 'start_measure': '5', 'start_beat': '4.5', 'note_length': '3.5', 'scale_degree': '7', 'octave': '0', 'isRest': '0'}, {'start_beat_abs': '23', 'start_measure': '6', 'start_beat': '4', 'note_length': '1', 'scale_degree': 'rest', 'octave': '0', 'isRest': '1'}, {'start_beat_abs': '24', 'start_measure': '7', 'start_beat': '1', 'note_length': '4', 'scale_degree': 'rest', 'octave': '0', 'isRest': '1'}]}, 'chords': {'chord': [{'sd': '1', 'fb': None, 'sec': None, 'sus': None, 'pedal': None, 'alternate': None, 'borrowed': None, 'chord_duration': '4', 'start_measure': '1', 'start_beat': '1', 'start_beat_abs': '0', 'isRest': '0'}, {'sd': '6', 'fb': None, 'sec': None, 'sus': None, 'pedal': None, 'alternate': None, 'borrowed': None, 'chord_duration': '2', 'start_measure': '2', 'start_beat': '1', 'start_beat_abs': '4', 'isRest': '0'}, {'sd': '3', 'fb': None, 'sec': None, 'sus': None, 'pedal': None, 'alternate': None, 'borrowed': None, 'chord_duration': '8', 'start_measure': '2', 'start_beat': '3', 'start_beat_abs': '6', 'isRest': '0'}, {'sd': '7', 'fb': None, 'sec': None, 'sus': None, 'pedal': None, 'alternate': None, 'borrowed': None, 'chord_duration': '2', 'start_measure': '4', 'start_beat': '3', 'start_beat_abs': '14', 'isRest': '0'}, {'sd': '1', 'fb': None, 'sec': None, 'sus': None, 'pedal': None, 'alternate': None, 'borrowed': None, 'chord_duration': '2', 'start_measure': '5', 'start_beat': '1', 'start_beat_abs': '16', 'isRest': '0'}, {'sd': '6', 'fb': None, 'sec': None, 'sus': None, 'pedal': None, 'alternate': None, 'borrowed': None, 'chord_duration': '2', 'start_measure': '5', 'start_beat': '3', 'start_beat_abs': '18', 'isRest': '0'}, {'sd': '3', 'fb': None, 'sec': None, 'sus': None, 'pedal': None, 'alternate': None, 'borrowed': None, 'chord_duration': '8', 'start_measure': '6', 'start_beat': '1', 'start_beat_abs': '20', 'isRest': '0'}]}, 'numMeasures': '7'}]}}}}\n"
     ]
    }
   ],
   "source": [
    "json_url = \"https://api.hooktheory.com/v1/songs/public/jDgXpWlLgKl\"\n",
    "xml_url = \"https://api.hooktheory.com/v1/songs/public/lamknK_AoDM\"\n",
    "xml_url_2 = \"https://api.hooktheory.com/v1/songs/public/ZwxKJrPGged\"\n",
    "\n",
    "test_url = xml_url\n",
    "test_url = json_url\n",
    "test_url = xml_url_2\n",
    "\n",
    "result = make_request(test_url)\n",
    "print(f\"status_code: {result['status_code']}\")\n",
    "print(f\"metadata: {result['metadata']}\")\n",
    "print(f\"main_data_type: {result['main_data_type']}\")\n",
    "print(f\"main_data: {result['data']}\")"
   ]
  },
  {
   "cell_type": "code",
   "execution_count": 83,
   "metadata": {},
   "outputs": [],
   "source": [
    "# {\n",
    "#     \"artist_name\": \"ZZ Top\",\n",
    "#     \"artist_link\": \"https://www.hooktheory.com/theorytab/artists/z/zz-top\",\n",
    "#     \"song_name\": \"Sharp Dressed Man\",\n",
    "#     \"link\": \"https://www.hooktheory.com/theorytab/view/zz-top/sharp-dressed-man\",\n",
    "#     \"metrics\": {\n",
    "#         \"Chord Complexity\": \"26\",\n",
    "#         \"Melodic Complexity\": \"30\",\n",
    "#         \"Chord-Melody Tension\": \"95\",\n",
    "#         \"Chord Progression Novelty\": \"27\",\n",
    "#         \"Chord Bass Melody\": \"38\"\n",
    "#     },\n",
    "#     \"metrics_conclusion\": \" Sharp Dressed Man has higher complexity than the average song  in terms Chord-Melody Tension. \",\n",
    "#     \"key_conclusion\": \" Sharp Dressed Man is written in the key of C Dorian.  \\n\\nAccording to the Theorytab database, it is the 4th most popular key among Dorian keys and     the 33rd most popular  among all keys. The C Dorian scale is similar to the C Minor scale except that its 6th note is a half step higher (A).  Chord progressions in Dorian have a characteristic sound due to the major quality of the chord built on the 4th scale degree. \\n\\nSee the C Dorian Cheat Sheet for popular chords, chord progressions, downloadable midi files and more!\",\n",
    "#     \"song_parts\": [\n",
    "#         {\n",
    "#             \"id\" : \"nJmB_pZdgAV\",\n",
    "#             \"metadata\": {...<json-data>...},\n",
    "#             \"main_data_type\": \"xml\",\n",
    "#             \"json_path\": \"/Users/4rr311/Documents/VectorA/KHTN/Nam4/HKII/Thesis/Brainstorming/DataCrawling/DataPreprocessing/song_parts_from_ids/ZZ Top/<song-name>/<id>.json\"\n",
    "#         },\n",
    "#         {\n",
    "#             ...\n",
    "#         },\n",
    "#         ...\n",
    "#     ]\n",
    "# }\n",
    "\n",
    "\n",
    "def aggregate_song_parts_data(song_parts_json_response_list, song_id_of_song_parts_dict: dict):\n",
    "    '''Gom nhóm dữ liệu của các phần nhạc của một bài hát'''\n",
    "    \n",
    "    song_parts_data = []\n",
    "    threads = []\n",
    "    \n",
    "    for song_part_json_response in song_parts_json_response_list:\n",
    "        song_part_id = song_part_json_response['id']\n",
    "        song_part_metadata = song_part_json_response['metadata']\n",
    "        \n",
    "        song_part_data = {\n",
    "            'id' : song_part_id,\n",
    "            'metadata' : song_part_metadata,\n",
    "            'json_path' : song_id_of_song_parts_dict[song_part_id]\n",
    "        }\n",
    "        \n",
    "        song_parts_data.append(song_part_data)\n",
    "    \n",
    "    # Thay key \"song_parts_ids\" trong song_parts_json_response_list thành \"song_parts\"\n",
    "    song_id_of_song_parts_dict[\"song_parts\"] = song_parts_data\n",
    "    del song_id_of_song_parts_dict[\"song_parts_ids\"]\n",
    "\n",
    "    return song_id_of_song_parts_dict\n",
    "    "
   ]
  },
  {
   "cell_type": "code",
   "execution_count": 92,
   "metadata": {},
   "outputs": [
    {
     "name": "stdout",
     "output_type": "stream",
     "text": [
      "callback_function: 1000\n",
      "callback_function: 25\n"
     ]
    }
   ],
   "source": [
    "# Ví dụ về threading và callback \n",
    "\n",
    "def callback_function(result):\n",
    "    print(f\"callback_function: {result}\")\n",
    "\n",
    "def calculate_square(number, callback):\n",
    "    time.sleep(number)\n",
    "    result = number * number\n",
    "    callback(result)\n",
    "\n",
    "def calculate_cube(number, callback):\n",
    "    time.sleep(1)\n",
    "    result = number * number * number\n",
    "    callback(result)\n",
    "\n",
    "thread1 = threading.Thread(target=calculate_square, args=(5, callback_function))\n",
    "thread1.start()\n",
    "\n",
    "thread2 = threading.Thread(target=calculate_cube, args=(10, callback_function))\n",
    "thread2.start()\n",
    "\n",
    "thread1.join()\n",
    "thread2.join()  "
   ]
  },
  {
   "cell_type": "code",
   "execution_count": 84,
   "metadata": {},
   "outputs": [
    {
     "name": "stdout",
     "output_type": "stream",
     "text": [
      "/Users/4rr311/Documents/VectorA/KHTN/Nam4/HKII/Thesis/Brainstorming/DataCrawling/DataPreprocessing/song_parts_from_ids/test.json\n"
     ]
    }
   ],
   "source": [
    "test_file_path = '/Users/4rr311/Documents/VectorA/KHTN/Nam4/HKII/Thesis/Brainstorming/DataCrawling/DataPreprocessing/song_parts_from_ids/test.json'\n",
    "# Lưu data vào file json\n",
    "with open(test_file_path, 'w') as file:\n",
    "    file.write(result['data'])\n",
    "\n",
    "print(test_file_path)\n"
   ]
  },
  {
   "cell_type": "code",
   "execution_count": 85,
   "metadata": {},
   "outputs": [
    {
     "name": "stdout",
     "output_type": "stream",
     "text": [
      "<class 'str'>\n",
      "<class 'dict'>\n"
     ]
    },
    {
     "ename": "KeyError",
     "evalue": "'jsonData'",
     "output_type": "error",
     "traceback": [
      "\u001b[0;31m---------------------------------------------------------------------------\u001b[0m",
      "\u001b[0;31mKeyError\u001b[0m                                  Traceback (most recent call last)",
      "Cell \u001b[0;32mIn[85], line 6\u001b[0m\n\u001b[1;32m      3\u001b[0m x \u001b[38;5;241m=\u001b[39m json\u001b[38;5;241m.\u001b[39mloads(result[\u001b[38;5;124m'\u001b[39m\u001b[38;5;124mdata\u001b[39m\u001b[38;5;124m'\u001b[39m])\n\u001b[1;32m      4\u001b[0m \u001b[38;5;28mprint\u001b[39m(\u001b[38;5;28mtype\u001b[39m(x))\n\u001b[0;32m----> 6\u001b[0m \u001b[38;5;28mprint\u001b[39m(\u001b[38;5;124mf\u001b[39m\u001b[38;5;124m\"\u001b[39m\u001b[38;5;124mjsonData: \u001b[39m\u001b[38;5;132;01m{\u001b[39;00m\u001b[43mx\u001b[49m\u001b[43m[\u001b[49m\u001b[38;5;124;43m'\u001b[39;49m\u001b[38;5;124;43mjsonData\u001b[39;49m\u001b[38;5;124;43m'\u001b[39;49m\u001b[43m]\u001b[49m\u001b[38;5;132;01m}\u001b[39;00m\u001b[38;5;124m\"\u001b[39m)\n\u001b[1;32m      8\u001b[0m z \u001b[38;5;241m=\u001b[39m xmltodict\u001b[38;5;241m.\u001b[39mparse(x[\u001b[38;5;124m'\u001b[39m\u001b[38;5;124mxmlData\u001b[39m\u001b[38;5;124m'\u001b[39m])\n\u001b[1;32m      9\u001b[0m \u001b[38;5;28mprint\u001b[39m(\u001b[38;5;28mtype\u001b[39m(z))\n",
      "\u001b[0;31mKeyError\u001b[0m: 'jsonData'"
     ]
    }
   ],
   "source": [
    "print(type(result['data']))\n",
    "\n",
    "x = json.loads(result['data'])\n",
    "print(type(x))\n",
    "\n",
    "print(f\"jsonData: {x['jsonData']}\")\n",
    "\n",
    "z = xmltodict.parse(x['xmlData'])\n",
    "print(type(z))\n",
    "\n",
    "y = json.dumps(xmltodict.parse(x['xmlData']))\n",
    "print(type(y))\n",
    "\n",
    "print(y)\n",
    "\n"
   ]
  },
  {
   "cell_type": "code",
   "execution_count": null,
   "metadata": {},
   "outputs": [],
   "source": [
    "t = {\"a\" : 1, \"b\" : 2}\n",
    "print(t)\n",
    "\n",
    "k = t.pop(\"g\")\n",
    "print(k)\n",
    "print(t)"
   ]
  }
 ],
 "metadata": {
  "kernelspec": {
   "display_name": "Python 3",
   "language": "python",
   "name": "python3"
  },
  "language_info": {
   "codemirror_mode": {
    "name": "ipython",
    "version": 3
   },
   "file_extension": ".py",
   "mimetype": "text/x-python",
   "name": "python",
   "nbconvert_exporter": "python",
   "pygments_lexer": "ipython3",
   "version": "3.10.10"
  }
 },
 "nbformat": 4,
 "nbformat_minor": 2
}
