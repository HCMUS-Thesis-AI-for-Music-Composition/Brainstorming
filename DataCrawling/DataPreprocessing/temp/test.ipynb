{
 "cells": [
  {
   "cell_type": "code",
   "execution_count": null,
   "metadata": {},
   "outputs": [],
   "source": [
    "def call_data_from_api(url):\n",
    "    print(f'calling data from api {url}')\n",
    "    return 'data from file'\n",
    "\n",
    "api_to_call_list = [\n",
    "    {\n",
    "        \"username\": \"user1\",\n",
    "        \"api_urls\": [\n",
    "            \"https://api1.com\",\n",
    "            \"https://api2.com\"\n",
    "        ]\n",
    "    },\n",
    "    {\n",
    "        \"username\": \"user2\",\n",
    "        \"api_urls\": [\n",
    "            \"https://api3.com\",\n",
    "            \"https://api4.com\",\n",
    "            \"https://api5.com\",\n",
    "            \"https://api6.com\"\n",
    "        ]\n",
    "    },\n",
    "    {\n",
    "        \"username\": \"user3\",\n",
    "        \"api_urls\": [\n",
    "            \"https://api9.com\"\n",
    "        ]\n",
    "    }\n",
    "]\n",
    "\n",
    "def get_data_from_api(api_to_call_list_item):\n",
    "    username = api_to_call_list_item['username']\n",
    "    api_urls = api_to_call_list_item['api_urls']\n",
    "    \n",
    "    data_list = []\n",
    "    \n",
    "    # Gọi api bằng multi-threading\n",
    "    import threading\n",
    "    threads = []\n",
    "    for url in api_urls:\n",
    "        t = threading.Thread(target=call_data_from_api, args=(url,))\n",
    "        t.start()\n",
    "        threads.append(t)\n",
    "\n",
    "    return data_list"
   ]
  }
 ],
 "metadata": {
  "language_info": {
   "name": "python"
  }
 },
 "nbformat": 4,
 "nbformat_minor": 2
}
