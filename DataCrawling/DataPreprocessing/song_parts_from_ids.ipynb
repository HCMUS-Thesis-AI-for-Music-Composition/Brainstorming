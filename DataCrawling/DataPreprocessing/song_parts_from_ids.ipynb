{
 "cells": [
  {
   "cell_type": "code",
   "execution_count": 60,
   "metadata": {},
   "outputs": [],
   "source": [
    "import platform as python_platform\n",
    "\n",
    "class Platform:\n",
    "    WINDOWS = \"Windows\"\n",
    "    MACOS = \"Darwin\"\n",
    "\n",
    "platform = python_platform.system()\n",
    "\n",
    "windows_root_directory = \"D:/Vector A/0. KHTN/Nam 4/HKII/Thesis/Brainstorming/DataCrawling\"\n",
    "mac_root_directory = \"/Users/4rr311/Documents/VectorA/KHTN/Nam4/HKII/Thesis/Brainstorming/DataCrawling\"\n",
    "\n",
    "root_directory = windows_root_directory if platform == Platform.WINDOWS else mac_root_directory"
   ]
  },
  {
   "cell_type": "code",
   "execution_count": 61,
   "metadata": {},
   "outputs": [],
   "source": [
    "import os\n",
    "from os.path import join, getsize\n",
    "\n",
    "import sys\n",
    "sys.path.append(root_directory)\n",
    "\n",
    "from requests import Request, Session\n",
    "from requests.exceptions import ConnectionError, Timeout, TooManyRedirects\n",
    "# from requests_html import HTMLSession\n",
    "\n",
    "from datetime import date, timedelta\n",
    "import datetime\n",
    "from datetime import timezone\n",
    "import time\n",
    "\n",
    "import pandas as pd\n",
    "\n",
    "from pathlib import Path\n",
    "import os\n",
    "import json\n",
    "import threading\n",
    "\n",
    "import file_utils as fu"
   ]
  },
  {
   "cell_type": "code",
   "execution_count": 62,
   "metadata": {},
   "outputs": [],
   "source": [
    "class ResponseType:\n",
    "    JSON = \"json\"\n",
    "    XML = \"xml\""
   ]
  },
  {
   "cell_type": "code",
   "execution_count": 63,
   "metadata": {},
   "outputs": [],
   "source": [
    "def copy_folder_structure(source, destination):\n",
    "    '''Copy the structure of the source directory to the destination directory'''\n",
    "    for root, dirs, files in os.walk(source):\n",
    "        for dir in dirs:\n",
    "            new_dir = f\"{destination}/{root.replace(source, '')}/{dir}\"\n",
    "            \n",
    "            regex_pattern = r\"\\/{2,}\"            \n",
    "            new_dir = re.sub(regex_pattern, \"/\", new_dir)\n",
    "\n",
    "            os.makedirs(new_dir, exist_ok=True)"
   ]
  },
  {
   "cell_type": "code",
   "execution_count": 64,
   "metadata": {},
   "outputs": [],
   "source": [
    "song_ids_of_song_parts_dir = fu.relative_to_absolute_path(\n",
    "    \"DataPreprocessing/song_id_of_song_parts\",\n",
    "    root_path=root_directory\n",
    ")\n",
    "\n",
    "song_parts_from_ids_dir = fu.relative_to_absolute_path(\n",
    "    \"DataPreprocessing/song_parts_from_ids\",\n",
    "    root_path=root_directory\n",
    ")\n",
    "\n",
    "copy_folder_structure(\n",
    "    source=song_ids_of_song_parts_dir,\n",
    "    destination=song_parts_from_ids_dir\n",
    ")"
   ]
  },
  {
   "cell_type": "code",
   "execution_count": 65,
   "metadata": {},
   "outputs": [],
   "source": [
    "def make_request(url, dict_parameters={}, dict_headers={}):\n",
    "    session = Session()\n",
    "    session.headers.update(dict_headers)\n",
    "    \n",
    "    status_code = None\n",
    "    data_type = None\n",
    "    data = None\n",
    "    \n",
    "    try:\n",
    "        response = session.get(url, params=dict_parameters)\n",
    "        \n",
    "        # Kiểm tra response trả về ở dạng json hay xml\n",
    "        if response.headers['Content-Type'] == 'application/json; charset=utf-8':\n",
    "            data_type = ResponseType.JSON\n",
    "            data = response.json()\n",
    "        else:\n",
    "            data_type = ResponseType.XML\n",
    "            data = response.text\n",
    "        \n",
    "        status_code = response.status_code\n",
    "    except (ConnectionError, Timeout, TooManyRedirects) as e:\n",
    "        status_code = response.status_code\n",
    "        print(e)\n",
    "\n",
    "    return {\n",
    "        'status_code' : status_code,\n",
    "        'data_type' : data_type,\n",
    "        'data' : data\n",
    "    }"
   ]
  },
  {
   "cell_type": "code",
   "execution_count": 66,
   "metadata": {},
   "outputs": [
    {
     "name": "stdout",
     "output_type": "stream",
     "text": [
      "{'status_code': 200, 'data_type': 'xml', 'data': '{\"ID\":133315,\"user_id\":103696,\"dateModified\":\"2018-07-31 12:44:48+00:00\",\"HTID\":\"ogmC3LVRvUiD\",\"artist\":\"Armin van Buuren\",\"song\":\"This Is What It Feels Like\",\"section\":\"Chorus\",\"revision\":1,\"chords\":null,\"youTubeID\":\"MS1a-SQd79w\",\"xmlData\":\"<super>\\\\n  <meta>\\\\n    <artist>Armin van Buuren</artist>\\\\n    <title>This Is What It Feels Like</title>\\\\n    <beats_in_measure>4</beats_in_measure>\\\\n    <BPM>128</BPM>\\\\n    <key>F</key>\\\\n    <YouTubeID>MS1a-SQd79w</YouTubeID>\\\\n    <mode>6</mode>\\\\n    <sections>\\\\n      <_Chorus>\\\\n        <global_start>77.39</global_start>\\\\n        <section_duration>29.55</section_duration>\\\\n        <active_start>1.84</active_start>\\\\n        <active_stop>27.7</active_stop>\\\\n      </_Chorus>\\\\n    </sections>\\\\n  </meta>\\\\n  <sections>\\\\n    <_Chorus>\\\\n      <segment>\\\\n        <instrument/>\\\\n        <rhythm/>\\\\n        <lyrics/>\\\\n        <notes>\\\\n          <note>\\\\n            <start_beat_abs>0</start_beat_abs>\\\\n            <start_measure>1</start_measure>\\\\n            <start_beat>1</start_beat>\\\\n            <note_length>3</note_length>\\\\n            <scale_degree>rest</scale_degree>\\\\n            <octave>0</octave>\\\\n            <isRest>1</isRest>\\\\n          </note>\\\\n          <note>\\\\n            <start_beat_abs>3</start_beat_abs>\\\\n            <start_measure>1</start_measure>\\\\n            <start_beat>4</start_beat>\\\\n            <note_length>0.5</note_length>\\\\n            <scale_degree>3</scale_degree>\\\\n            <octave>1</octave>\\\\n            <isRest>0</isRest>\\\\n          </note>\\\\n          <note>\\\\n            <start_beat_abs>3.5</start_beat_abs>\\\\n            <start_measure>1</start_measure>\\\\n            <start_beat>4.5</start_beat>\\\\n            <note_length>0.5</note_length>\\\\n            <scale_degree>2</scale_degree>\\\\n            <octave>1</octave>\\\\n            <isRest>0</isRest>\\\\n          </note>\\\\n          <note>\\\\n            <start_beat_abs>4</start_beat_abs>\\\\n            <start_measure>2</start_measure>\\\\n            <start_beat>1</start_beat>\\\\n            <note_length>1.5</note_length>\\\\n            <scale_degree>1</scale_degree>\\\\n            <octave>1</octave>\\\\n            <isRest>0</isRest>\\\\n          </note>\\\\n          <note>\\\\n            <start_beat_abs>5.5</start_beat_abs>\\\\n            <start_measure>2</start_measure>\\\\n            <start_beat>2.5</start_beat>\\\\n            <note_length>1.5</note_length>\\\\n            <scale_degree>7</scale_degree>\\\\n            <octave>0</octave>\\\\n            <isRest>0</isRest>\\\\n          </note>\\\\n          <note>\\\\n            <start_beat_abs>7</start_beat_abs>\\\\n            <start_measure>2</start_measure>\\\\n            <start_beat>4</start_beat>\\\\n            <note_length>4</note_length>\\\\n            <scale_degree>5</scale_degree>\\\\n            <octave>0</octave>\\\\n            <isRest>0</isRest>\\\\n          </note>\\\\n          <note>\\\\n            <start_beat_abs>11</start_beat_abs>\\\\n            <start_measure>3</start_measure>\\\\n            <start_beat>4</start_beat>\\\\n            <note_length>1</note_length>\\\\n            <scale_degree>rest</scale_degree>\\\\n            <octave>0</octave>\\\\n            <isRest>1</isRest>\\\\n          </note>\\\\n          <note>\\\\n            <start_beat_abs>12</start_beat_abs>\\\\n            <start_measure>4</start_measure>\\\\n            <start_beat>1</start_beat>\\\\n            <note_length>4</note_length>\\\\n            <scale_degree>rest</scale_degree>\\\\n            <octave>0</octave>\\\\n            <isRest>1</isRest>\\\\n          </note>\\\\n          <note>\\\\n            <start_beat_abs>16</start_beat_abs>\\\\n            <start_measure>5</start_measure>\\\\n            <start_beat>1</start_beat>\\\\n            <note_length>1</note_length>\\\\n            <scale_degree>rest</scale_degree>\\\\n            <octave>0</octave>\\\\n            <isRest>1</isRest>\\\\n          </note>\\\\n          <note>\\\\n            <start_beat_abs>17</start_beat_abs>\\\\n            <start_measure>5</start_measure>\\\\n            <start_beat>2</start_beat>\\\\n            <note_length>0.5</note_length>\\\\n            <scale_degree>3</scale_degree>\\\\n            <octave>1</octave>\\\\n            <isRest>0</isRest>\\\\n          </note>\\\\n          <note>\\\\n            <start_beat_abs>17.5</start_beat_abs>\\\\n            <start_measure>5</start_measure>\\\\n            <start_beat>2.5</start_beat>\\\\n            <note_length>0.5</note_length>\\\\n            <scale_degree>2</scale_degree>\\\\n            <octave>1</octave>\\\\n            <isRest>0</isRest>\\\\n          </note>\\\\n          <note>\\\\n            <start_beat_abs>18</start_beat_abs>\\\\n            <start_measure>5</start_measure>\\\\n            <start_beat>3</start_beat>\\\\n            <note_length>1.5</note_length>\\\\n            <scale_degree>1</scale_degree>\\\\n            <octave>1</octave>\\\\n            <isRest>0</isRest>\\\\n          </note>\\\\n          <note>\\\\n            <start_beat_abs>19.5</start_beat_abs>\\\\n            <start_measure>5</start_measure>\\\\n            <start_beat>4.5</start_beat>\\\\n            <note_length>3.5</note_length>\\\\n            <scale_degree>7</scale_degree>\\\\n            <octave>0</octave>\\\\n            <isRest>0</isRest>\\\\n          </note>\\\\n          <note>\\\\n            <start_beat_abs>23</start_beat_abs>\\\\n            <start_measure>6</start_measure>\\\\n            <start_beat>4</start_beat>\\\\n            <note_length>1</note_length>\\\\n            <scale_degree>rest</scale_degree>\\\\n            <octave>0</octave>\\\\n            <isRest>1</isRest>\\\\n          </note>\\\\n          <note>\\\\n            <start_beat_abs>24</start_beat_abs>\\\\n            <start_measure>7</start_measure>\\\\n            <start_beat>1</start_beat>\\\\n            <note_length>4</note_length>\\\\n            <scale_degree>rest</scale_degree>\\\\n            <octave>0</octave>\\\\n            <isRest>1</isRest>\\\\n          </note>\\\\n        </notes>\\\\n        <chords>\\\\n          <chord>\\\\n            <sd>1</sd>\\\\n            <fb/>\\\\n            <sec/>\\\\n            <sus/>\\\\n            <pedal/>\\\\n            <alternate/>\\\\n            <borrowed/>\\\\n            <chord_duration>4</chord_duration>\\\\n            <start_measure>1</start_measure>\\\\n            <start_beat>1</start_beat>\\\\n            <start_beat_abs>0</start_beat_abs>\\\\n            <isRest>0</isRest>\\\\n          </chord>\\\\n          <chord>\\\\n            <sd>6</sd>\\\\n            <fb/>\\\\n            <sec/>\\\\n            <sus/>\\\\n            <pedal/>\\\\n            <alternate/>\\\\n            <borrowed/>\\\\n            <chord_duration>2</chord_duration>\\\\n            <start_measure>2</start_measure>\\\\n            <start_beat>1</start_beat>\\\\n            <start_beat_abs>4</start_beat_abs>\\\\n            <isRest>0</isRest>\\\\n          </chord>\\\\n          <chord>\\\\n            <sd>3</sd>\\\\n            <fb/>\\\\n            <sec/>\\\\n            <sus/>\\\\n            <pedal/>\\\\n            <alternate/>\\\\n            <borrowed/>\\\\n            <chord_duration>6</chord_duration>\\\\n            <start_measure>2</start_measure>\\\\n            <start_beat>3</start_beat>\\\\n            <start_beat_abs>6</start_beat_abs>\\\\n            <isRest>0</isRest>\\\\n          </chord>\\\\n          <chord>\\\\n            <sd>7</sd>\\\\n            <fb>6</fb>\\\\n            <sec/>\\\\n            <sus/>\\\\n            <pedal/>\\\\n            <alternate/>\\\\n            <borrowed/>\\\\n            <chord_duration>2</chord_duration>\\\\n            <start_measure>4</start_measure>\\\\n            <start_beat>1</start_beat>\\\\n            <start_beat_abs>12</start_beat_abs>\\\\n            <isRest>0</isRest>\\\\n          </chord>\\\\n          <chord>\\\\n            <sd>1</sd>\\\\n            <fb/>\\\\n            <sec/>\\\\n            <sus/>\\\\n            <pedal/>\\\\n            <alternate/>\\\\n            <borrowed/>\\\\n            <chord_duration>4</chord_duration>\\\\n            <start_measure>4</start_measure>\\\\n            <start_beat>3</start_beat>\\\\n            <start_beat_abs>14</start_beat_abs>\\\\n            <isRest>0</isRest>\\\\n          </chord>\\\\n          <chord>\\\\n            <sd>6</sd>\\\\n            <fb/>\\\\n            <sec/>\\\\n            <sus/>\\\\n            <pedal/>\\\\n            <alternate/>\\\\n            <borrowed/>\\\\n            <chord_duration>2</chord_duration>\\\\n            <start_measure>5</start_measure>\\\\n            <start_beat>3</start_beat>\\\\n            <start_beat_abs>18</start_beat_abs>\\\\n            <isRest>0</isRest>\\\\n          </chord>\\\\n          <chord>\\\\n            <sd>3</sd>\\\\n            <fb/>\\\\n            <sec/>\\\\n            <sus/>\\\\n            <pedal/>\\\\n            <alternate/>\\\\n            <borrowed/>\\\\n            <chord_duration>6</chord_duration>\\\\n            <start_measure>6</start_measure>\\\\n            <start_beat>1</start_beat>\\\\n            <start_beat_abs>20</start_beat_abs>\\\\n            <isRest>0</isRest>\\\\n          </chord>\\\\n          <chord>\\\\n            <sd>5</sd>\\\\n            <fb>6</fb>\\\\n            <sec/>\\\\n            <sus/>\\\\n            <pedal/>\\\\n            <alternate/>\\\\n            <borrowed/>\\\\n            <chord_duration>2</chord_duration>\\\\n            <start_measure>7</start_measure>\\\\n            <start_beat>3</start_beat>\\\\n            <start_beat_abs>26</start_beat_abs>\\\\n            <isRest>0</isRest>\\\\n          </chord>\\\\n        </chords>\\\\n        <numMeasures>7</numMeasures>\\\\n      </segment>\\\\n      <segment>\\\\n        <instrument/>\\\\n        <rhythm/>\\\\n        <lyrics/>\\\\n        <notes>\\\\n          <note>\\\\n            <start_beat_abs>0</start_beat_abs>\\\\n            <start_measure>1</start_measure>\\\\n            <start_beat>1</start_beat>\\\\n            <note_length>3</note_length>\\\\n            <scale_degree>rest</scale_degree>\\\\n            <octave>0</octave>\\\\n            <isRest>1</isRest>\\\\n          </note>\\\\n          <note>\\\\n            <start_beat_abs>3</start_beat_abs>\\\\n            <start_measure>1</start_measure>\\\\n            <start_beat>4</start_beat>\\\\n            <note_length>0.5</note_length>\\\\n            <scale_degree>3</scale_degree>\\\\n            <octave>1</octave>\\\\n            <isRest>0</isRest>\\\\n          </note>\\\\n          <note>\\\\n            <start_beat_abs>3.5</start_beat_abs>\\\\n            <start_measure>1</start_measure>\\\\n            <start_beat>4.5</start_beat>\\\\n            <note_length>0.5</note_length>\\\\n            <scale_degree>2</scale_degree>\\\\n            <octave>1</octave>\\\\n            <isRest>0</isRest>\\\\n          </note>\\\\n          <note>\\\\n            <start_beat_abs>4</start_beat_abs>\\\\n            <start_measure>2</start_measure>\\\\n            <start_beat>1</start_beat>\\\\n            <note_length>1.5</note_length>\\\\n            <scale_degree>1</scale_degree>\\\\n            <octave>1</octave>\\\\n            <isRest>0</isRest>\\\\n          </note>\\\\n          <note>\\\\n            <start_beat_abs>5.5</start_beat_abs>\\\\n            <start_measure>2</start_measure>\\\\n            <start_beat>2.5</start_beat>\\\\n            <note_length>1.5</note_length>\\\\n            <scale_degree>7</scale_degree>\\\\n            <octave>0</octave>\\\\n            <isRest>0</isRest>\\\\n          </note>\\\\n          <note>\\\\n            <start_beat_abs>7</start_beat_abs>\\\\n            <start_measure>2</start_measure>\\\\n            <start_beat>4</start_beat>\\\\n            <note_length>4</note_length>\\\\n            <scale_degree>5</scale_degree>\\\\n            <octave>0</octave>\\\\n            <isRest>0</isRest>\\\\n          </note>\\\\n          <note>\\\\n            <start_beat_abs>11</start_beat_abs>\\\\n            <start_measure>3</start_measure>\\\\n            <start_beat>4</start_beat>\\\\n            <note_length>1</note_length>\\\\n            <scale_degree>rest</scale_degree>\\\\n            <octave>0</octave>\\\\n            <isRest>1</isRest>\\\\n          </note>\\\\n          <note>\\\\n            <start_beat_abs>12</start_beat_abs>\\\\n            <start_measure>4</start_measure>\\\\n            <start_beat>1</start_beat>\\\\n            <note_length>4</note_length>\\\\n            <scale_degree>rest</scale_degree>\\\\n            <octave>0</octave>\\\\n            <isRest>1</isRest>\\\\n          </note>\\\\n          <note>\\\\n            <start_beat_abs>16</start_beat_abs>\\\\n            <start_measure>5</start_measure>\\\\n            <start_beat>1</start_beat>\\\\n            <note_length>1</note_length>\\\\n            <scale_degree>rest</scale_degree>\\\\n            <octave>0</octave>\\\\n            <isRest>1</isRest>\\\\n          </note>\\\\n          <note>\\\\n            <start_beat_abs>17</start_beat_abs>\\\\n            <start_measure>5</start_measure>\\\\n            <start_beat>2</start_beat>\\\\n            <note_length>0.5</note_length>\\\\n            <scale_degree>3</scale_degree>\\\\n            <octave>1</octave>\\\\n            <isRest>0</isRest>\\\\n          </note>\\\\n          <note>\\\\n            <start_beat_abs>17.5</start_beat_abs>\\\\n            <start_measure>5</start_measure>\\\\n            <start_beat>2.5</start_beat>\\\\n            <note_length>0.5</note_length>\\\\n            <scale_degree>2</scale_degree>\\\\n            <octave>1</octave>\\\\n            <isRest>0</isRest>\\\\n          </note>\\\\n          <note>\\\\n            <start_beat_abs>18</start_beat_abs>\\\\n            <start_measure>5</start_measure>\\\\n            <start_beat>3</start_beat>\\\\n            <note_length>1.5</note_length>\\\\n            <scale_degree>1</scale_degree>\\\\n            <octave>1</octave>\\\\n            <isRest>0</isRest>\\\\n          </note>\\\\n          <note>\\\\n            <start_beat_abs>19.5</start_beat_abs>\\\\n            <start_measure>5</start_measure>\\\\n            <start_beat>4.5</start_beat>\\\\n            <note_length>3.5</note_length>\\\\n            <scale_degree>7</scale_degree>\\\\n            <octave>0</octave>\\\\n            <isRest>0</isRest>\\\\n          </note>\\\\n          <note>\\\\n            <start_beat_abs>23</start_beat_abs>\\\\n            <start_measure>6</start_measure>\\\\n            <start_beat>4</start_beat>\\\\n            <note_length>1</note_length>\\\\n            <scale_degree>rest</scale_degree>\\\\n            <octave>0</octave>\\\\n            <isRest>1</isRest>\\\\n          </note>\\\\n          <note>\\\\n            <start_beat_abs>24</start_beat_abs>\\\\n            <start_measure>7</start_measure>\\\\n            <start_beat>1</start_beat>\\\\n            <note_length>4</note_length>\\\\n            <scale_degree>rest</scale_degree>\\\\n            <octave>0</octave>\\\\n            <isRest>1</isRest>\\\\n          </note>\\\\n        </notes>\\\\n        <chords>\\\\n          <chord>\\\\n            <sd>1</sd>\\\\n            <fb/>\\\\n            <sec/>\\\\n            <sus/>\\\\n            <pedal/>\\\\n            <alternate/>\\\\n            <borrowed/>\\\\n            <chord_duration>4</chord_duration>\\\\n            <start_measure>1</start_measure>\\\\n            <start_beat>1</start_beat>\\\\n            <start_beat_abs>0</start_beat_abs>\\\\n            <isRest>0</isRest>\\\\n          </chord>\\\\n          <chord>\\\\n            <sd>6</sd>\\\\n            <fb/>\\\\n            <sec/>\\\\n            <sus/>\\\\n            <pedal/>\\\\n            <alternate/>\\\\n            <borrowed/>\\\\n            <chord_duration>2</chord_duration>\\\\n            <start_measure>2</start_measure>\\\\n            <start_beat>1</start_beat>\\\\n            <start_beat_abs>4</start_beat_abs>\\\\n            <isRest>0</isRest>\\\\n          </chord>\\\\n          <chord>\\\\n            <sd>3</sd>\\\\n            <fb/>\\\\n            <sec/>\\\\n            <sus/>\\\\n            <pedal/>\\\\n            <alternate/>\\\\n            <borrowed/>\\\\n            <chord_duration>8</chord_duration>\\\\n            <start_measure>2</start_measure>\\\\n            <start_beat>3</start_beat>\\\\n            <start_beat_abs>6</start_beat_abs>\\\\n            <isRest>0</isRest>\\\\n          </chord>\\\\n          <chord>\\\\n            <sd>7</sd>\\\\n            <fb/>\\\\n            <sec/>\\\\n            <sus/>\\\\n            <pedal/>\\\\n            <alternate/>\\\\n            <borrowed/>\\\\n            <chord_duration>2</chord_duration>\\\\n            <start_measure>4</start_measure>\\\\n            <start_beat>3</start_beat>\\\\n            <start_beat_abs>14</start_beat_abs>\\\\n            <isRest>0</isRest>\\\\n          </chord>\\\\n          <chord>\\\\n            <sd>1</sd>\\\\n            <fb/>\\\\n            <sec/>\\\\n            <sus/>\\\\n            <pedal/>\\\\n            <alternate/>\\\\n            <borrowed/>\\\\n            <chord_duration>2</chord_duration>\\\\n            <start_measure>5</start_measure>\\\\n            <start_beat>1</start_beat>\\\\n            <start_beat_abs>16</start_beat_abs>\\\\n            <isRest>0</isRest>\\\\n          </chord>\\\\n          <chord>\\\\n            <sd>6</sd>\\\\n            <fb/>\\\\n            <sec/>\\\\n            <sus/>\\\\n            <pedal/>\\\\n            <alternate/>\\\\n            <borrowed/>\\\\n            <chord_duration>2</chord_duration>\\\\n            <start_measure>5</start_measure>\\\\n            <start_beat>3</start_beat>\\\\n            <start_beat_abs>18</start_beat_abs>\\\\n            <isRest>0</isRest>\\\\n          </chord>\\\\n          <chord>\\\\n            <sd>3</sd>\\\\n            <fb/>\\\\n            <sec/>\\\\n            <sus/>\\\\n            <pedal/>\\\\n            <alternate/>\\\\n            <borrowed/>\\\\n            <chord_duration>8</chord_duration>\\\\n            <start_measure>6</start_measure>\\\\n            <start_beat>1</start_beat>\\\\n            <start_beat_abs>20</start_beat_abs>\\\\n            <isRest>0</isRest>\\\\n          </chord>\\\\n        </chords>\\\\n        <numMeasures>7</numMeasures>\\\\n      </segment>\\\\n    </_Chorus>\\\\n  </sections>\\\\n</super>\",\"dotDNAbin\":null,\"xmlType\":\"file\",\"SIF\":\",6-4,4-2,1-6,56-2,6-4,4-2,1-6,36-2,6-4,4-2,1-8,5-2,6-2,4-2,1-8,\",\"SInE\":\",6-4,4-2,1-6,56-2,6-4,4-2,1-6,36-2,6-4,4-2,1-8,5-2,6-2,4-2,1-8,\",\"SInD\":\",6,4,1,56,6,4,1,36,6,4,1,5,6,4,1,\",\"SInED\":\",6,4,1,56,6,4,1,36,6,4,1,5,6,4,1,\",\"SInA\":\",6,4,1,5,6,4,1,3,6,4,1,5,6,4,1,\",\"beatsInMeasure\":\"4\",\"songKey\":\"F\",\"isPrivate\":\"1\",\"views\":0,\"hasMelody\":\"1\",\"hasChords\":\"1\",\"isAnalysis\":1,\"voteup\":0,\"votedown\":0,\"score\":0,\"songURL\":\"this-is-what-it-feels-like\",\"artistURL\":\"armin-van-buuren\",\"sectionURL\":\"chorus\",\"editComments\":\"Fixed the synchronization.\",\"visible\":1,\"wikiorder\":1,\"bIsPaired\":0,\"YouTubeVideoID\":null,\"bpm\":128,\"mode\":6,\"borrowedFixed\":\"0\",\"SInEDFixed\":\"0\",\"user_id_editor\":12279,\"jsonData\":null}'}\n"
     ]
    }
   ],
   "source": [
    "# https://api.hooktheory.com/v1/songs/public/jDgXpWlLgKl\n",
    "result = make_request(\"https://api.hooktheory.com/v1/songs/public/ZwxKJrPGged\")\n",
    "print(result)\n"
   ]
  },
  {
   "cell_type": "code",
   "execution_count": 68,
   "metadata": {},
   "outputs": [
    {
     "name": "stdout",
     "output_type": "stream",
     "text": [
      "/Users/4rr311/Documents/VectorA/KHTN/Nam4/HKII/Thesis/Brainstorming/DataCrawling/DataPreprocessing/song_parts_from_ids/test.json\n"
     ]
    }
   ],
   "source": [
    "test_file_path = '/Users/4rr311/Documents/VectorA/KHTN/Nam4/HKII/Thesis/Brainstorming/DataCrawling/DataPreprocessing/song_parts_from_ids/test.json'\n",
    "# Lưu data vào file json\n",
    "with open(test_file_path, 'w') as file:\n",
    "    file.write(result['data'])\n",
    "\n",
    "print(test_file_path)\n"
   ]
  }
 ],
 "metadata": {
  "kernelspec": {
   "display_name": "Python 3",
   "language": "python",
   "name": "python3"
  },
  "language_info": {
   "codemirror_mode": {
    "name": "ipython",
    "version": 3
   },
   "file_extension": ".py",
   "mimetype": "text/x-python",
   "name": "python",
   "nbconvert_exporter": "python",
   "pygments_lexer": "ipython3",
   "version": "3.10.10"
  }
 },
 "nbformat": 4,
 "nbformat_minor": 2
}
