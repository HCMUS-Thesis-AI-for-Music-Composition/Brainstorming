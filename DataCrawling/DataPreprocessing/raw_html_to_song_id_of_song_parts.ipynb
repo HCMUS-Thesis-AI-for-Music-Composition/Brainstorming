{
 "cells": [
  {
   "cell_type": "code",
   "execution_count": 45,
   "metadata": {},
   "outputs": [],
   "source": [
    "import platform as python_platform\n",
    "\n",
    "class Platform:\n",
    "    WINDOWS = \"Windows\"\n",
    "    MACOS = \"Darwin\"\n",
    "\n",
    "platform = python_platform.system()\n",
    "\n",
    "windows_root_directory = \"D:/Vector A/0. KHTN/Nam 4/HKII/Thesis/Brainstorming/DataCrawling\"\n",
    "mac_root_directory = \"/Users/4rr311/Documents/VectorA/KHTN/Nam4/HKII/Thesis/Brainstorming/DataCrawling\"\n",
    "\n",
    "root_directory = windows_root_directory if platform == Platform.WINDOWS else mac_root_directory"
   ]
  },
  {
   "cell_type": "code",
   "execution_count": 46,
   "metadata": {},
   "outputs": [],
   "source": [
    "import os\n",
    "from os.path import join, getsize\n",
    "import re\n",
    "\n",
    "import sys\n",
    "sys.path.append(root_directory)\n",
    "import random\n",
    "\n",
    "from bs4 import BeautifulSoup\n",
    "\n",
    "import file_utils as fu"
   ]
  },
  {
   "cell_type": "code",
   "execution_count": 47,
   "metadata": {},
   "outputs": [],
   "source": [
    "def copy_folder_structure(source, destination):\n",
    "    '''Copy the structure of the source directory to the destination directory'''\n",
    "    for root, dirs, files in os.walk(source):\n",
    "        for dir in dirs:\n",
    "            new_dir = f\"{destination}/{root.replace(source, '')}/{dir}\"\n",
    "            \n",
    "            regex_pattern = r\"\\/{2,}\"            \n",
    "            new_dir = re.sub(regex_pattern, \"/\", new_dir)\n",
    "\n",
    "            os.makedirs(new_dir, exist_ok=True)"
   ]
  },
  {
   "cell_type": "code",
   "execution_count": 48,
   "metadata": {},
   "outputs": [],
   "source": [
    "song_id_of_song_parts_dir = fu.relative_to_absolute_path(\n",
    "    \"DataPreprocessing/song_id_of_song_parts\",\n",
    "    root_path=root_directory\n",
    ")\n",
    "\n",
    "raw_html_dir = fu.relative_to_absolute_path(\n",
    "    \"GetAllSongHTML/song_list/raw_html\",\n",
    "    root_path=root_directory\n",
    ")\n",
    "\n",
    "copy_folder_structure(\n",
    "    source=raw_html_dir, \n",
    "    destination=song_id_of_song_parts_dir\n",
    ")"
   ]
  },
  {
   "cell_type": "code",
   "execution_count": 49,
   "metadata": {},
   "outputs": [],
   "source": [
    "def extract_metrics_and_conclusion_from_html(html_raw_content):\n",
    "    '''\n",
    "        Trích xuất thông tin về metrics và các kết luận từ nội dung HTML của một bài hát\n",
    "    '''\n",
    "    metrics = {}\n",
    "    metrics_conclusion = \"\"\n",
    "    key_conclusion = \"\"\n",
    "\n",
    "    soup = BeautifulSoup(html_raw_content, \"html.parser\")\n",
    "\n",
    "    # Tìm thẻ h3 có thuộc tính text chứa chuỗi ký tự, trong đó có chuỗi ký tự \"Chord And Melody Metrics\" bằng CSS Selector\n",
    "    h3 = soup.find(\n",
    "        \"h3\",\n",
    "        string=lambda text: \"Chord And Melody Metrics\" in text    \n",
    "    )\n",
    "\n",
    "    # Lấy các thẻ div chứa thông tin về metrics\n",
    "    metric_divs = h3.find_next_sibling(\"div\").find_all(\"div\")\n",
    "\n",
    "    for div in metric_divs:\n",
    "        h5 = div.find(\"h5\")\n",
    "        h2 = div.find(\"h2\")\n",
    "\n",
    "        metrics[h5.text] = h2.text\n",
    "\n",
    "    metrics_conclusion_p = h3.find_next_sibling(\"p\")\n",
    "    metrics_conclusion = metrics_conclusion_p.text\n",
    "    \n",
    "    try:\n",
    "        key_conclusion_p = h3.parent.parent.find_next_sibling(\"div\").find(\"p\")\n",
    "        key_conclusion = key_conclusion_p.text\n",
    "    except:\n",
    "        pass\n",
    "    \n",
    "    return metrics, metrics_conclusion, key_conclusion"
   ]
  },
  {
   "cell_type": "code",
   "execution_count": 50,
   "metadata": {},
   "outputs": [],
   "source": [
    "def extract_all_a_hrefs_from_html(html_raw_content, text_of_a_tag=\"Open In Hookpad\"):\n",
    "    '''\n",
    "        Trả về href của các thẻ a có text thoả text_of_a_tag là chuỗi ký tự con\n",
    "    '''\n",
    "    # Ví dụ:\n",
    "    # <h2 class=\"margin-0\">\n",
    "    #     <a class=\"\" href=\"https://hookpad.hooktheory.com?idOfSong=JkmZRne-mqn&amp;enableYouTube=false&amp;openBandEditorOnInit=true\">\n",
    "    #         Open In Hookpad\n",
    "    #     </a>\n",
    "    # </h2>\n",
    "\n",
    "    soup = BeautifulSoup(html_raw_content, \"html.parser\")\n",
    "    \n",
    "    a_tags = soup.find_all(\"a\", string=text_of_a_tag)\n",
    "\n",
    "    hrefs = [a.get(\"href\") for a in a_tags]\n",
    "\n",
    "    return hrefs"
   ]
  },
  {
   "cell_type": "code",
   "execution_count": 51,
   "metadata": {},
   "outputs": [
    {
     "name": "stdout",
     "output_type": "stream",
     "text": [
      "['Weglnna-orY']\n"
     ]
    }
   ],
   "source": [
    "def extract_song_part_ids_from_hrefs(open_in_hookpad_hrefs):\n",
    "    '''\n",
    "        Trả về song part id từ href của thẻ a \"Open In Hookpad\"\n",
    "    '''\n",
    "    # Ví dụ về href: https://hookpad.hooktheory.com?idOfSong=Weglnna-orY&amp;enableYouTube=false&amp;openBandEditorOnInit=true\n",
    "\n",
    "    song_part_ids = []\n",
    "    \n",
    "    for href in open_in_hookpad_hrefs:\n",
    "        song_part_id = \"\"\n",
    "\n",
    "        # Tìm chuỗi \"idOfSong=\" trong href\n",
    "        idOfSong_index = href.find(\"idOfSong=\")\n",
    "        if idOfSong_index != -1:\n",
    "            # Tìm chuỗi \"idOfSong=\" và lấy phần sau nó\n",
    "            song_part_id = href[idOfSong_index + len(\"idOfSong=\"):]\n",
    "\n",
    "            # Tìm chuỗi \"&\" trong phần sau \"idOfSong=\" và lấy phần trước nó\n",
    "            and_index = song_part_id.find(\"&\")\n",
    "            if and_index != -1:\n",
    "                song_part_id = song_part_id[:and_index]\n",
    "            else:\n",
    "                print(f\"extract_song_part_ids_from_hrefs: Cannot find '&' in {href}\")\n",
    "        else:\n",
    "            print(f\"extract_song_part_ids_from_hrefs: Cannot find 'idOfSong=' in {href}\")\n",
    "\n",
    "        if song_part_id != \"\":\n",
    "            song_part_ids.append(song_part_id)\n",
    "        else:\n",
    "            print(f\"extract_song_part_ids_from_hrefs: Cannot extract song part id from {href}\")\n",
    "\n",
    "    return song_part_ids\n",
    "\n",
    "print(extract_song_part_ids_from_hrefs(\n",
    "    [\"https://hookpad.hooktheory.com?idOfSong=Weglnna-orY&amp;enableYouTube=false&amp;openBandEditorOnInit=true\"]\n",
    "))"
   ]
  },
  {
   "cell_type": "code",
   "execution_count": 52,
   "metadata": {},
   "outputs": [],
   "source": [
    "def extract_song_parts_ids(html_raw_content):\n",
    "    '''\n",
    "        Trả về song part id từ nội dung HTML của một bài hát\n",
    "    '''\n",
    "    text_of_a_tag = \"Open In Hookpad\"\n",
    "    \n",
    "    hrefs = extract_all_a_hrefs_from_html(\n",
    "        html_raw_content, \n",
    "        text_of_a_tag\n",
    "    )\n",
    "    \n",
    "    song_part_ids = extract_song_part_ids_from_hrefs(hrefs)\n",
    "\n",
    "    return song_part_ids"
   ]
  },
  {
   "cell_type": "code",
   "execution_count": 53,
   "metadata": {},
   "outputs": [],
   "source": [
    "def get_song_json_list_by_alphabet(letter: str):\n",
    "    '''\n",
    "        Trả về danh sách các bài hát có tên nghệ sĩ bắt đầu bằng chữ cái letter trong thư mục song_list_link_by_artist/json\n",
    "    '''\n",
    "\n",
    "    song_list_link_by_artist_json_dir = fu.relative_to_absolute_path(\n",
    "        \"GetAllSongHTML/song_list_link_by_artist/json\",\n",
    "        root_path=root_directory\n",
    "    )\n",
    "\n",
    "    song_json_file_by_letter = f\"{song_list_link_by_artist_json_dir}/{letter.lower()}.json\"\n",
    "\n",
    "    song_json_items = fu.read_data_from_json_file(song_json_file_by_letter)\n",
    "\n",
    "    return song_json_items"
   ]
  },
  {
   "cell_type": "code",
   "execution_count": 54,
   "metadata": {},
   "outputs": [],
   "source": [
    "def song_link_to_raw_html_file_path(song_link: str):\n",
    "    relative_file_path = fu.song_link_to_relative_html_file_path(song_link)\n",
    "\n",
    "    absolute_file_path = fu.relative_to_absolute_path(\n",
    "        f\"GetAllSongHTML/song_list/raw_html/{relative_file_path}\",\n",
    "        root_path=root_directory\n",
    "    )\n",
    "\n",
    "    return absolute_file_path"
   ]
  },
  {
   "cell_type": "code",
   "execution_count": null,
   "metadata": {},
   "outputs": [],
   "source": []
  },
  {
   "cell_type": "code",
   "execution_count": 55,
   "metadata": {},
   "outputs": [
    {
     "name": "stdout",
     "output_type": "stream",
     "text": [
      "{'artist_name': 'April', 'artist_link': 'https://www.hooktheory.com/theorytab/artists/a/april', 'song_name': 'Oh My Mistake', 'link': 'https://www.hooktheory.com/theorytab/view/april/oh-my-mistake'}\n",
      "/Users/4rr311/Documents/VectorA/KHTN/Nam4/HKII/Thesis/Brainstorming/DataCrawling/GetAllSongHTML/song_list/raw_html/a/april/oh-my-mistake.html\n",
      "\n",
      "Metrics: {'Chord Complexity': '66', 'Melodic Complexity': '40', 'Chord-Melody Tension': '31', 'Chord Progression Novelty': '39', 'Chord Bass Melody': '0'}\n",
      "\n",
      "Metrics Conclusion:  Oh My Mistake has higher complexity than the average song  in terms Chord Complexity. \n",
      "\n",
      "Key Conclusion:  Oh My Mistake is written in the key of B♭ Major.  \n",
      "\n",
      "According to the Theorytab database, it is the 8th most popular key among Major keys and     the 12th most popular  among all keys. Major keys, along with minor keys, are a common choice for popular songs.  The three most important chords, built off the 1st, 4th and 5th scale degrees are all major chords (B♭ Major, E♭ Major, and F Major).\n",
      "\n",
      "See the B♭ Major Cheat Sheet for popular chords, chord progressions, downloadable midi files and more!\n",
      "\n",
      "Song Parts ID: ['RPxeEaMLxb_', 'ZOxVjWYAxdq', 'nLgaWQploYp']\n"
     ]
    }
   ],
   "source": [
    "song_json_list = get_song_json_list_by_alphabet(\"a\")\n",
    "\n",
    "song_index = random.randint(0, len(song_json_list) - 1)\n",
    "\n",
    "link = song_link_to_raw_html_file_path(\n",
    "    get_song_json_list_by_alphabet(\"a\")[song_index][\"link\"]\n",
    ")\n",
    "\n",
    "print(get_song_json_list_by_alphabet(\"a\")[song_index])\n",
    "print(link)\n",
    "\n",
    "html_raw_content = fu.read_data_from_html_file(link)\n",
    "\n",
    "metrics, metrics_conclusion, key_conclusion = extract_metrics_and_conclusion_from_html(\n",
    "    html_raw_content\n",
    ")\n",
    "\n",
    "song_id_of_song_parts_dir = extract_song_parts_ids(html_raw_content)\n",
    "\n",
    "print()\n",
    "print(f\"Metrics: {metrics}\")\n",
    "print()\n",
    "print(f\"Metrics Conclusion: {metrics_conclusion}\")\n",
    "print()\n",
    "print(f\"Key Conclusion: {key_conclusion}\")\n",
    "print()\n",
    "print(f\"Song Parts ID: {song_id_of_song_parts_dir}\")"
   ]
  }
 ],
 "metadata": {
  "kernelspec": {
   "display_name": "Python 3",
   "language": "python",
   "name": "python3"
  },
  "language_info": {
   "codemirror_mode": {
    "name": "ipython",
    "version": 3
   },
   "file_extension": ".py",
   "mimetype": "text/x-python",
   "name": "python",
   "nbconvert_exporter": "python",
   "pygments_lexer": "ipython3",
   "version": "3.10.10"
  }
 },
 "nbformat": 4,
 "nbformat_minor": 2
}
