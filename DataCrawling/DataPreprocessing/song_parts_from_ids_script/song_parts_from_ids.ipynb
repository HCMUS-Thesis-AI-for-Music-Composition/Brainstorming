{
 "cells": [
  {
   "cell_type": "code",
   "execution_count": 1,
   "metadata": {},
   "outputs": [
    {
     "name": "stdout",
     "output_type": "stream",
     "text": [
      "Collecting xmltodict"
     ]
    },
    {
     "name": "stderr",
     "output_type": "stream",
     "text": [
      "\n",
      "[notice] A new release of pip is available: 23.3.2 -> 24.0\n",
      "[notice] To update, run: python.exe -m pip install --upgrade pip\n"
     ]
    },
    {
     "name": "stdout",
     "output_type": "stream",
     "text": [
      "\n",
      "  Downloading xmltodict-0.13.0-py2.py3-none-any.whl (10.0 kB)\n",
      "Installing collected packages: xmltodict\n",
      "Successfully installed xmltodict-0.13.0\n"
     ]
    }
   ],
   "source": [
    "!pip install xmltodict"
   ]
  },
  {
   "cell_type": "code",
   "execution_count": 2,
   "metadata": {},
   "outputs": [
    {
     "ename": "KeyboardInterrupt",
     "evalue": "",
     "output_type": "error",
     "traceback": [
      "\u001b[1;31m---------------------------------------------------------------------------\u001b[0m",
      "\u001b[1;31mKeyboardInterrupt\u001b[0m                         Traceback (most recent call last)",
      "Cell \u001b[1;32mIn[2], line 28\u001b[0m\n\u001b[0;32m     24\u001b[0m song_parts_list \u001b[38;5;241m=\u001b[39m []\n\u001b[0;32m     26\u001b[0m \u001b[38;5;28;01mfor\u001b[39;00m letter_to_crawl \u001b[38;5;129;01min\u001b[39;00m \u001b[38;5;28mrange\u001b[39m(\u001b[38;5;28mord\u001b[39m(start_letter), \u001b[38;5;28mord\u001b[39m(end_letter) \u001b[38;5;241m+\u001b[39m \u001b[38;5;241m1\u001b[39m):\n\u001b[0;32m     27\u001b[0m     song_parts_list\u001b[38;5;241m.\u001b[39mextend(\n\u001b[1;32m---> 28\u001b[0m         \u001b[43mut\u001b[49m\u001b[38;5;241;43m.\u001b[39;49m\u001b[43mread_song_id_of_song_parts_list\u001b[49m\u001b[43m(\u001b[49m\n\u001b[0;32m     29\u001b[0m \u001b[43m            \u001b[49m\u001b[38;5;28;43mchr\u001b[39;49m\u001b[43m(\u001b[49m\u001b[43mletter_to_crawl\u001b[49m\u001b[43m)\u001b[49m\n\u001b[0;32m     30\u001b[0m \u001b[43m        \u001b[49m\u001b[43m)\u001b[49m\n\u001b[0;32m     31\u001b[0m     )\n",
      "File \u001b[1;32md:\\Vector A\\0. KHTN\\Nam 4\\HKII\\Thesis\\Brainstorming\\DataCrawling\\DataPreprocessing\\song_parts_from_ids_script\\utils.py:52\u001b[0m, in \u001b[0;36mread_song_id_of_song_parts_list\u001b[1;34m(letter)\u001b[0m\n\u001b[0;32m     48\u001b[0m         \u001b[38;5;28;01mfor\u001b[39;00m song \u001b[38;5;129;01min\u001b[39;00m os\u001b[38;5;241m.\u001b[39mlistdir(artist_dir):\n\u001b[0;32m     49\u001b[0m             absolute_song_file_path \u001b[38;5;241m=\u001b[39m fu\u001b[38;5;241m.\u001b[39mrelative_to_absolute_path(song, artist_dir)\n\u001b[0;32m     51\u001b[0m             song_id_of_song_parts_list\u001b[38;5;241m.\u001b[39mappend(\n\u001b[1;32m---> 52\u001b[0m                 \u001b[43mfu\u001b[49m\u001b[38;5;241;43m.\u001b[39;49m\u001b[43mread_data_from_json_file\u001b[49m\u001b[43m(\u001b[49m\u001b[43mabsolute_song_file_path\u001b[49m\u001b[43m)\u001b[49m\n\u001b[0;32m     53\u001b[0m             )\n\u001b[0;32m     55\u001b[0m \u001b[38;5;28;01mreturn\u001b[39;00m song_id_of_song_parts_list\n",
      "File \u001b[1;32mD:\\Vector A/0. KHTN/Nam 4/HKII/Thesis/Brainstorming/DataCrawling\\file_utils.py:20\u001b[0m, in \u001b[0;36mread_data_from_json_file\u001b[1;34m(file_name)\u001b[0m\n\u001b[0;32m     19\u001b[0m \u001b[38;5;28;01mdef\u001b[39;00m \u001b[38;5;21mread_data_from_json_file\u001b[39m(file_name):\n\u001b[1;32m---> 20\u001b[0m     \u001b[38;5;28;01mwith\u001b[39;00m \u001b[38;5;28;43mopen\u001b[39;49m\u001b[43m(\u001b[49m\u001b[43mfile_name\u001b[49m\u001b[43m,\u001b[49m\u001b[43m \u001b[49m\u001b[43mencoding\u001b[49m\u001b[38;5;241;43m=\u001b[39;49m\u001b[38;5;124;43m'\u001b[39;49m\u001b[38;5;124;43mutf-8\u001b[39;49m\u001b[38;5;124;43m'\u001b[39;49m\u001b[43m)\u001b[49m \u001b[38;5;28;01mas\u001b[39;00m json_file:\n\u001b[0;32m     21\u001b[0m         data \u001b[38;5;241m=\u001b[39m json\u001b[38;5;241m.\u001b[39mload(json_file)\n\u001b[0;32m     22\u001b[0m     \u001b[38;5;28;01mreturn\u001b[39;00m data\n",
      "File \u001b[1;32mc:\\Users\\Vector A\\AppData\\Local\\Programs\\Python\\Python310\\lib\\codecs.py:309\u001b[0m, in \u001b[0;36mBufferedIncrementalDecoder.__init__\u001b[1;34m(self, errors)\u001b[0m\n\u001b[0;32m    303\u001b[0m \u001b[38;5;28;01mclass\u001b[39;00m \u001b[38;5;21;01mBufferedIncrementalDecoder\u001b[39;00m(IncrementalDecoder):\n\u001b[0;32m    304\u001b[0m     \u001b[38;5;124;03m\"\"\"\u001b[39;00m\n\u001b[0;32m    305\u001b[0m \u001b[38;5;124;03m    This subclass of IncrementalDecoder can be used as the baseclass for an\u001b[39;00m\n\u001b[0;32m    306\u001b[0m \u001b[38;5;124;03m    incremental decoder if the decoder must be able to handle incomplete\u001b[39;00m\n\u001b[0;32m    307\u001b[0m \u001b[38;5;124;03m    byte sequences.\u001b[39;00m\n\u001b[0;32m    308\u001b[0m \u001b[38;5;124;03m    \"\"\"\u001b[39;00m\n\u001b[1;32m--> 309\u001b[0m     \u001b[38;5;28;01mdef\u001b[39;00m \u001b[38;5;21m__init__\u001b[39m(\u001b[38;5;28mself\u001b[39m, errors\u001b[38;5;241m=\u001b[39m\u001b[38;5;124m'\u001b[39m\u001b[38;5;124mstrict\u001b[39m\u001b[38;5;124m'\u001b[39m):\n\u001b[0;32m    310\u001b[0m         IncrementalDecoder\u001b[38;5;241m.\u001b[39m\u001b[38;5;21m__init__\u001b[39m(\u001b[38;5;28mself\u001b[39m, errors)\n\u001b[0;32m    311\u001b[0m         \u001b[38;5;66;03m# undecoded input that is kept between calls to decode()\u001b[39;00m\n",
      "\u001b[1;31mKeyboardInterrupt\u001b[0m: "
     ]
    }
   ],
   "source": [
    "from requests import Session\n",
    "\n",
    "import threading\n",
    "import random\n",
    "import time\n",
    "import os\n",
    "\n",
    "import utils as ut\n",
    "import html_utils as hu\n",
    "\n",
    "try:\n",
    "    ut.fu.copy_folder_structure(\n",
    "        ut.song_ids_of_song_parts_dir,\n",
    "        ut.song_parts_from_ids_dir\n",
    "    )\n",
    "except Exception as e:\n",
    "    print(e)\n",
    "\n",
    "time_to_sleep_between_song_parts = random.uniform(2, 5)\n",
    "\n",
    "start_letter = 'a'\n",
    "end_letter = 'z'\n",
    "\n",
    "song_parts_list = []"
   ]
  },
  {
   "cell_type": "code",
   "execution_count": null,
   "metadata": {},
   "outputs": [],
   "source": [
    "lock = threading.Lock()\n",
    "\n",
    "thread_per_batch = 10\n",
    "\n",
    "thread_list = []\n",
    "\n",
    "total_saved = 0"
   ]
  },
  {
   "cell_type": "code",
   "execution_count": null,
   "metadata": {},
   "outputs": [],
   "source": [
    "class Downloader():\n",
    "    host = \"https://api.hooktheory.com/v1/songs/public/\"\n",
    "    song_parts_item = None\n",
    "    client = None\n",
    "\n",
    "    json_file_path = None\n",
    "    song_link = None\n",
    "\n",
    "    def __init__(self):\n",
    "        self.client = Session()\n",
    "\n",
    "\n",
    "        time_to_sleep = random.uniform(0, 1)\n",
    "        time.sleep(time_to_sleep)\n",
    "        global song_parts_list\n",
    "        \n",
    "        with lock:\n",
    "            if len(song_parts_list) > 0:\n",
    "                self.song_parts_item = song_parts_list.pop(0)\n",
    "\n",
    "                self.song_link = self.song_parts_item[\"link\"]\n",
    "                self.json_file_path = ut.fu.song_link_to_relative_html_file_path(self.song_link)\n",
    "                self.json_file_path = self.json_file_path.replace(\".html\", \".json\")\n",
    "\n",
    "                self.json_file_path = ut.fu.relative_to_absolute_path(\n",
    "                    relative_path = self.json_file_path,\n",
    "                    root_path = ut.song_parts_from_ids_dir\n",
    "                )\n",
    "            else:\n",
    "                self.song_parts_item = None\n",
    "\n",
    "    def download(self):\n",
    "        global time_to_sleep_between_song_parts\n",
    "\n",
    "        song_part_ids = list(self.song_parts_item[\"song_parts_ids\"])\n",
    "\n",
    "        song_entire_data = dict(self.song_parts_item)\n",
    "\n",
    "        song_entire_data[\"song_parts\"] = []\n",
    "        del song_entire_data[\"song_parts_ids\"]\n",
    "\n",
    "        for song_part_id in song_part_ids:\n",
    "            song_part_url = f\"{self.host}{song_part_id}\"\n",
    "            response = hu.make_request(self.client, song_part_url)\n",
    "\n",
    "            if response[\"status_code\"] == 200:\n",
    "                song_entire_data[\"song_parts\"].append(\n",
    "                    {\n",
    "                        \"song_part_id\": song_part_id,\n",
    "                        \"metadata\": response[\"metadata\"],\n",
    "                        \"main_data_type\": response[\"main_data_type\"],\n",
    "                        \"main_data\": response[\"main_data\"]\n",
    "                    }\n",
    "                )\n",
    "\n",
    "                time.sleep(time_to_sleep_between_song_parts)\n",
    "            else:\n",
    "                error_message = f\"FAIL: download - status_code: {response['status_code']}, url: {song_part_url}\"\n",
    "                print(error_message)\n",
    "                print()\n",
    "                break\n",
    "\n",
    "        n_part_downloaded = len(song_entire_data[\"song_parts\"])\n",
    "        n_part_total = len(song_part_ids)\n",
    "\n",
    "        if n_part_downloaded == n_part_total:\n",
    "            global total_saved\n",
    "            with lock:\n",
    "                total_saved += 1\n",
    "                print(f\"--------> TOTAL SAVED: {total_saved}\")\n",
    "\n",
    "            ut.fu.write_data_to_json_file(\n",
    "                song_entire_data,\n",
    "                self.json_file_path\n",
    "            )\n",
    "\n",
    "            print(f\"SUCCESS: {self.song_link}\")\n",
    "            print(f\"--------> SAVED: {self.json_file_path}\")\n",
    "            print()\n",
    "        else:\n",
    "            print(f\"ACK: {n_part_downloaded}/{n_part_total} part(s) downloaded - {self.song_link}\")\n",
    "            global song_parts_list\n",
    "\n",
    "            with lock:\n",
    "                song_parts_list.append(self.song_parts_item)\n",
    "            \n",
    "            print(f\"--------> APPENDED BACK: {self.song_link}\")\n",
    "            print()\n",
    "\n",
    "    def download_song_parts(self):\n",
    "        if self.song_parts_item is not None:\n",
    "            # Nếu file đã tồn tại và file size > 10 KB thì skip\n",
    "            if os.path.exists(self.json_file_path) and os.path.getsize(self.json_file_path) > 10000:\n",
    "                print(f\"SKIP: {self.json_file_path}\")\n",
    "                print()\n",
    "            else:\n",
    "                print(f\"GETTING: {self.song_parts_item['link']}\")\n",
    "                self.download()\n",
    "        else:\n",
    "            print(\"INFO: download_song_parts - No more song to handle\")\n",
    "            print()\n",
    "            self.environment.runner.quit()"
   ]
  },
  {
   "cell_type": "code",
   "execution_count": null,
   "metadata": {},
   "outputs": [],
   "source": [
    "for letter_to_crawl in range(ord(start_letter), ord(end_letter) + 1):\n",
    "    song_parts_list.extend(\n",
    "        ut.read_song_id_of_song_parts_list(\n",
    "            chr(letter_to_crawl)\n",
    "        )\n",
    "    )\n",
    "\n",
    "    while len(song_parts_list) > 0:\n",
    "        for i in range(thread_per_batch):\n",
    "            downloader = Downloader()\n",
    "            thread = threading.Thread(target=downloader.download_song_parts)\n",
    "            thread_list.append(thread)\n",
    "            thread.start()\n",
    "            time.sleep(0.5)\n",
    "\n",
    "        for thread in thread_list:\n",
    "            thread.join()\n",
    "\n",
    "        thread_list.clear()\n",
    "\n",
    "        time.sleep(5)\n",
    "\n",
    "    print()\n",
    "    print(f\"--------> LETTER {chr(letter_to_crawl)} DONE\")\n",
    "    print()"
   ]
  }
 ],
 "metadata": {
  "kernelspec": {
   "display_name": "Python 3",
   "language": "python",
   "name": "python3"
  },
  "language_info": {
   "codemirror_mode": {
    "name": "ipython",
    "version": 3
   },
   "file_extension": ".py",
   "mimetype": "text/x-python",
   "name": "python",
   "nbconvert_exporter": "python",
   "pygments_lexer": "ipython3",
   "version": "3.10.7"
  }
 },
 "nbformat": 4,
 "nbformat_minor": 2
}
