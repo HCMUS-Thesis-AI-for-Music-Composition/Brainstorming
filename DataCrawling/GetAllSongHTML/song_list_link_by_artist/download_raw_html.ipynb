{
 "cells": [
  {
   "cell_type": "code",
   "execution_count": 2,
   "metadata": {},
   "outputs": [],
   "source": [
    "root_directory = \"D:/Vector A/0. KHTN/Nam 4/HKII/Thesis/Brainstorming/DataCrawling\""
   ]
  },
  {
   "cell_type": "code",
   "execution_count": 3,
   "metadata": {},
   "outputs": [],
   "source": [
    "import sys\n",
    "sys.path.append(root_directory)\n",
    "\n",
    "import os\n",
    "from os.path import join, getsize\n",
    "\n",
    "import requests\n",
    "\n",
    "import file_utils as fu"
   ]
  },
  {
   "cell_type": "code",
   "execution_count": 4,
   "metadata": {},
   "outputs": [
    {
     "name": "stdout",
     "output_type": "stream",
     "text": [
      "['https://www.hooktheory.com/theorytab/artists/a', 'https://www.hooktheory.com/theorytab/artists/b', 'https://www.hooktheory.com/theorytab/artists/c', 'https://www.hooktheory.com/theorytab/artists/d', 'https://www.hooktheory.com/theorytab/artists/e', 'https://www.hooktheory.com/theorytab/artists/f', 'https://www.hooktheory.com/theorytab/artists/g', 'https://www.hooktheory.com/theorytab/artists/h', 'https://www.hooktheory.com/theorytab/artists/i', 'https://www.hooktheory.com/theorytab/artists/j', 'https://www.hooktheory.com/theorytab/artists/k', 'https://www.hooktheory.com/theorytab/artists/l', 'https://www.hooktheory.com/theorytab/artists/m', 'https://www.hooktheory.com/theorytab/artists/n', 'https://www.hooktheory.com/theorytab/artists/o', 'https://www.hooktheory.com/theorytab/artists/p', 'https://www.hooktheory.com/theorytab/artists/q', 'https://www.hooktheory.com/theorytab/artists/r', 'https://www.hooktheory.com/theorytab/artists/s', 'https://www.hooktheory.com/theorytab/artists/t', 'https://www.hooktheory.com/theorytab/artists/u', 'https://www.hooktheory.com/theorytab/artists/v', 'https://www.hooktheory.com/theorytab/artists/w', 'https://www.hooktheory.com/theorytab/artists/x', 'https://www.hooktheory.com/theorytab/artists/y', 'https://www.hooktheory.com/theorytab/artists/z']\n"
     ]
    }
   ],
   "source": [
    "artist_list_link_by_alphabet = [\n",
    "    f\"https://www.hooktheory.com/theorytab/artists/{chr(i)}\" \n",
    "    for i in range(ord('a'), ord('z') + 1)\n",
    "]\n",
    "\n",
    "print(artist_list_link_by_alphabet)"
   ]
  },
  {
   "cell_type": "code",
   "execution_count": 14,
   "metadata": {},
   "outputs": [],
   "source": [
    "\n",
    "def get_html_content(url, file_path):\n",
    "    response = requests.get(url)\n",
    "    with open(file_path, \"w\", encoding='utf-8') as f:\n",
    "        f.write(response.text)\n",
    "\n",
    "for link in artist_list_link_by_alphabet:\n",
    "    get_html_content(\n",
    "        link, \n",
    "        fu.relative_to_absolute_path(\n",
    "            f\"GetAllSongHTML/artist_list_link_by_alphabet/raw_html/artist_list_{link[-1]}.html\", \n",
    "            root_path=root_directory\n",
    "        )\n",
    "    )"
   ]
  },
  {
   "cell_type": "code",
   "execution_count": 5,
   "metadata": {},
   "outputs": [
    {
     "name": "stdout",
     "output_type": "stream",
     "text": [
      "artist_list_a.html -> size in byte: 379213\n",
      "artist_list_b.html -> size in byte: 377959\n",
      "artist_list_c.html -> size in byte: 377570\n",
      "artist_list_d.html -> size in byte: 363597\n",
      "artist_list_e.html -> size in byte: 212215\n",
      "artist_list_f.html -> size in byte: 215660\n",
      "artist_list_g.html -> size in byte: 233156\n",
      "artist_list_h.html -> size in byte: 225379\n",
      "artist_list_i.html -> size in byte: 136656\n",
      "artist_list_j.html -> size in byte: 380155\n",
      "artist_list_k.html -> size in byte: 288399\n",
      "artist_list_l.html -> size in byte: 299161\n",
      "artist_list_m.html -> size in byte: 381451\n",
      "artist_list_n.html -> size in byte: 238155\n",
      "artist_list_o.html -> size in byte: 120892\n",
      "artist_list_p.html -> size in byte: 257737\n",
      "artist_list_q.html -> size in byte: 53020\n",
      "artist_list_r.html -> size in byte: 287778\n",
      "artist_list_s.html -> size in byte: 378524\n",
      "artist_list_t.html -> size in byte: 381374\n",
      "artist_list_u.html -> size in byte: 75791\n",
      "artist_list_v.html -> size in byte: 107557\n",
      "artist_list_w.html -> size in byte: 152264\n",
      "artist_list_x.html -> size in byte: 50183\n",
      "artist_list_y.html -> size in byte: 138678\n",
      "artist_list_z.html -> size in byte: 74395\n"
     ]
    }
   ],
   "source": [
    "raw_html_folder = fu.relative_to_absolute_path(\n",
    "    \"GetAllSongHTML/artist_list_link_by_alphabet/raw_html\", \n",
    "    root_path=root_directory\n",
    ")\n",
    "\n",
    "for root, dirs, files in os.walk(raw_html_folder):\n",
    "    for file in files:\n",
    "        print(file, end=\" -> size in byte: \")\n",
    "        print(getsize(join(root, file)))"
   ]
  }
 ],
 "metadata": {
  "kernelspec": {
   "display_name": "Python 3",
   "language": "python",
   "name": "python3"
  },
  "language_info": {
   "codemirror_mode": {
    "name": "ipython",
    "version": 3
   },
   "file_extension": ".py",
   "mimetype": "text/x-python",
   "name": "python",
   "nbconvert_exporter": "python",
   "pygments_lexer": "ipython3",
   "version": "3.10.7"
  }
 },
 "nbformat": 4,
 "nbformat_minor": 2
}
