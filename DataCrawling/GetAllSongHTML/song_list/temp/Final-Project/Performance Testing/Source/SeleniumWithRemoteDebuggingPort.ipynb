{
 "cells": [
  {
   "cell_type": "markdown",
   "metadata": {},
   "source": [
    "**NHÓM C2**"
   ]
  },
  {
   "cell_type": "markdown",
   "metadata": {},
   "source": [
    "# Code phụ: Selenium trên ứng dụng Firefly III\n",
    "\n",
    "Mục đích: Minh hoạ việc tạo Asset Account và kiểm tra kết quả tạo tự động bằng Selenium với demo riêng biệt trước khi tích hợp vào Locust"
   ]
  },
  {
   "cell_type": "markdown",
   "metadata": {},
   "source": [
    "**Môi trường thực thi:**\n",
    "\n",
    "- MacOS Sonoma 14.0\n",
    "- CPU Apple M1\n",
    "- Python 3.10.10\n",
    "- Trình duyệt Microsoft Edge Version 118.0.2088.76 (Official build) (arm64)"
   ]
  },
  {
   "cell_type": "markdown",
   "metadata": {},
   "source": [
    "## Cài đặt Selenium"
   ]
  },
  {
   "cell_type": "code",
   "execution_count": 1,
   "metadata": {},
   "outputs": [
    {
     "name": "stdout",
     "output_type": "stream",
     "text": [
      "Requirement already satisfied: selenium in /Library/Frameworks/Python.framework/Versions/3.10/lib/python3.10/site-packages (4.14.0)\n",
      "Requirement already satisfied: urllib3<3,>=1.26 in /Library/Frameworks/Python.framework/Versions/3.10/lib/python3.10/site-packages (from urllib3[socks]<3,>=1.26->selenium) (1.26.15)\n",
      "Requirement already satisfied: trio~=0.17 in /Library/Frameworks/Python.framework/Versions/3.10/lib/python3.10/site-packages (from selenium) (0.22.2)\n",
      "Requirement already satisfied: trio-websocket~=0.9 in /Library/Frameworks/Python.framework/Versions/3.10/lib/python3.10/site-packages (from selenium) (0.11.1)\n",
      "Requirement already satisfied: certifi>=2021.10.8 in /Library/Frameworks/Python.framework/Versions/3.10/lib/python3.10/site-packages (from selenium) (2023.5.7)\n",
      "Requirement already satisfied: attrs>=20.1.0 in /Users/4rr311/Library/Python/3.10/lib/python/site-packages (from trio~=0.17->selenium) (22.2.0)\n",
      "Requirement already satisfied: sortedcontainers in /Library/Frameworks/Python.framework/Versions/3.10/lib/python3.10/site-packages (from trio~=0.17->selenium) (2.4.0)\n",
      "Requirement already satisfied: idna in /Users/4rr311/Library/Python/3.10/lib/python/site-packages (from trio~=0.17->selenium) (3.4)\n",
      "Requirement already satisfied: outcome in /Library/Frameworks/Python.framework/Versions/3.10/lib/python3.10/site-packages (from trio~=0.17->selenium) (1.3.0.post0)\n",
      "Requirement already satisfied: sniffio in /Users/4rr311/Library/Python/3.10/lib/python/site-packages (from trio~=0.17->selenium) (1.3.0)\n",
      "Requirement already satisfied: exceptiongroup>=1.0.0rc9 in /Library/Frameworks/Python.framework/Versions/3.10/lib/python3.10/site-packages (from trio~=0.17->selenium) (1.1.3)\n",
      "Requirement already satisfied: wsproto>=0.14 in /Library/Frameworks/Python.framework/Versions/3.10/lib/python3.10/site-packages (from trio-websocket~=0.9->selenium) (1.2.0)\n",
      "Requirement already satisfied: PySocks!=1.5.7,<2.0,>=1.5.6 in /Library/Frameworks/Python.framework/Versions/3.10/lib/python3.10/site-packages (from urllib3[socks]<3,>=1.26->selenium) (1.7.1)\n",
      "Requirement already satisfied: h11<1,>=0.9.0 in /Library/Frameworks/Python.framework/Versions/3.10/lib/python3.10/site-packages (from wsproto>=0.14->trio-websocket~=0.9->selenium) (0.14.0)\n"
     ]
    }
   ],
   "source": [
    "!pip install selenium"
   ]
  },
  {
   "cell_type": "markdown",
   "metadata": {},
   "source": [
    "## Import thư viện"
   ]
  },
  {
   "cell_type": "code",
   "execution_count": 2,
   "metadata": {},
   "outputs": [],
   "source": [
    "from selenium import webdriver\n",
    "from selenium.webdriver.common.keys import Keys\n",
    "from selenium.webdriver.common.by import By\n",
    "\n",
    "import datetime\n",
    "import os"
   ]
  },
  {
   "cell_type": "markdown",
   "metadata": {},
   "source": [
    "## Server IP & testing URL"
   ]
  },
  {
   "cell_type": "code",
   "execution_count": 3,
   "metadata": {},
   "outputs": [
    {
     "name": "stdout",
     "output_type": "stream",
     "text": [
      "http://34.16.184.203/login\n",
      "http://34.16.184.203/accounts/asset\n",
      "http://34.16.184.203/accounts/create/asset\n"
     ]
    }
   ],
   "source": [
    "# IP của server được deploy trên Google Cloud \n",
    "# (tài khoản deploy có thể hết ngân sách sau deadline nên có thể làm web không chạy được)\n",
    "server_ip = \"34.16.184.203\"\n",
    "\n",
    "# URL đến trang đăng nhập\n",
    "login_url = f\"http://{server_ip}/login\"\n",
    "\n",
    "# URL đến trang danh sách tài khoản dạng asset\n",
    "asset_account_list_url = f\"http://{server_ip}/accounts/asset\"\n",
    "\n",
    "# URL đến trang tạo tài khoản dạng asset\n",
    "create_asset_account_url = f\"http://{server_ip}/accounts/create/asset\"\n",
    "\n",
    "print(login_url)\n",
    "print(asset_account_list_url)\n",
    "print(create_asset_account_url)"
   ]
  },
  {
   "cell_type": "markdown",
   "metadata": {},
   "source": [
    "## Hàm đổi màu phần tử trên trang web"
   ]
  },
  {
   "cell_type": "code",
   "execution_count": 4,
   "metadata": {},
   "outputs": [],
   "source": [
    "def change_element_color(browser, element):\n",
    "    browser.execute_script(\n",
    "        \"arguments[0].style.backgroundColor = 'lightgreen';\", \n",
    "        element\n",
    "    )"
   ]
  },
  {
   "cell_type": "markdown",
   "metadata": {},
   "source": [
    "## Hàm đọc file văn bản"
   ]
  },
  {
   "cell_type": "code",
   "execution_count": 5,
   "metadata": {},
   "outputs": [],
   "source": [
    "def read_file(file_path):\n",
    "    try:\n",
    "        with open(file_path, 'r') as file:\n",
    "            file_contents = file.read()\n",
    "        return file_contents\n",
    "    except FileNotFoundError:\n",
    "        return f\"File not found: {file_path}\"\n",
    "    except Exception as e:\n",
    "        return f\"An error occurred: {str(e)}\""
   ]
  },
  {
   "cell_type": "markdown",
   "metadata": {},
   "source": [
    "## Tài khoản đăng nhập vào hệ thống"
   ]
  },
  {
   "cell_type": "code",
   "execution_count": 6,
   "metadata": {},
   "outputs": [],
   "source": [
    "# Tạo file lưu password (để không trình chiếu password khi demo)\n",
    "# !touch \"password.pass\" # Lệnh này không gây ảnh hưởng nếu file đã tồn tại\n",
    "\n",
    "email = \"20120406@student.hcmus.edu.vn\"\n",
    "password = read_file(\"password.pass\")"
   ]
  },
  {
   "cell_type": "markdown",
   "metadata": {},
   "source": [
    "## Microsoft Edge Remote Debugging Port (tránh bị nhận diện phần mềm automation)"
   ]
  },
  {
   "cell_type": "code",
   "execution_count": 7,
   "metadata": {},
   "outputs": [
    {
     "data": {
      "text/plain": [
       "0"
      ]
     },
     "execution_count": 7,
     "metadata": {},
     "output_type": "execute_result"
    }
   ],
   "source": [
    "browser_instance_data_dir = \"/Users/4rr311/Documents/VectorA/KHTN/Nam4/HKI/Kiem thu phan mem/Project/Final-Project/Performance Testing/Source/browser_instance_data\"\n",
    "port_to_run_browser = 40000\n",
    "\n",
    "command = f'''open -na \"Microsoft Edge.app\" --args\n",
    "            --remote-debugging-port={port_to_run_browser}\n",
    "            --user-data-dir=\"{browser_instance_data_dir}\"'''\n",
    "\n",
    "os.system(command.replace(\"\\n\", \" \"))"
   ]
  },
  {
   "cell_type": "markdown",
   "metadata": {},
   "source": [
    "## Kết nối Selenium đến trình duyệt Edge ở port được mở"
   ]
  },
  {
   "cell_type": "code",
   "execution_count": 8,
   "metadata": {},
   "outputs": [],
   "source": [
    "options = webdriver.EdgeOptions()\n",
    "options.add_experimental_option(\"debuggerAddress\", f\"localhost:{port_to_run_browser}\")\n",
    "# options.add_argument(\"headless\") # Chạy Selenium ở chế độ headless (không hiển thị giao diện browser)\n",
    "\n",
    "browser = webdriver.Edge(options=options)\n",
    "browser.maximize_window() # Phóng to cửa sổ trình duyệt"
   ]
  },
  {
   "cell_type": "markdown",
   "metadata": {},
   "source": [
    "## Đi đến trang đăng nhập"
   ]
  },
  {
   "cell_type": "code",
   "execution_count": 9,
   "metadata": {},
   "outputs": [],
   "source": [
    "def go_to_login_page(browser, login_url):\n",
    "    browser.get(login_url)\n",
    "\n",
    "go_to_login_page(browser, login_url)"
   ]
  },
  {
   "cell_type": "markdown",
   "metadata": {},
   "source": [
    "## Đăng nhập"
   ]
  },
  {
   "cell_type": "code",
   "execution_count": 10,
   "metadata": {},
   "outputs": [],
   "source": [
    "def enter_email_and_password(browser, email, password):\n",
    "    username_input_field = browser.find_element(\n",
    "        By.CSS_SELECTOR, 'input[name=\"email\"]'\n",
    "    )\n",
    "    change_element_color(browser, username_input_field)\n",
    "    username_input_field.send_keys(email)\n",
    "    \n",
    "    password_input_field = browser.find_element(\n",
    "        By.CSS_SELECTOR, 'input[name=\"password\"]'\n",
    "    )\n",
    "    change_element_color(browser, password_input_field)\n",
    "    password_input_field.send_keys(password)\n",
    "\n",
    "    sign_in_button = browser.find_element(\n",
    "        By.CSS_SELECTOR, \n",
    "        'button[type=\"submit\"]'\n",
    "    )\n",
    "    change_element_color(browser, sign_in_button)\n",
    "    sign_in_button.click()\n",
    "\n",
    "enter_email_and_password(browser, email, password)"
   ]
  },
  {
   "cell_type": "markdown",
   "metadata": {},
   "source": [
    "## Đi đến trang tạo Asset Account"
   ]
  },
  {
   "cell_type": "code",
   "execution_count": 11,
   "metadata": {},
   "outputs": [],
   "source": [
    "# Đi đến trang tạo Asset Account\n",
    "def go_to_create_asset_account_page(browser):\n",
    "    browser.get(create_asset_account_url)\n",
    "\n",
    "go_to_create_asset_account_page(browser)"
   ]
  },
  {
   "cell_type": "markdown",
   "metadata": {},
   "source": [
    "## Hàm tạo tên Asset Account"
   ]
  },
  {
   "cell_type": "code",
   "execution_count": 12,
   "metadata": {},
   "outputs": [
    {
     "name": "stdout",
     "output_type": "stream",
     "text": [
      "Example: Asset Account 21:38:24 09/01/2024\n"
     ]
    }
   ],
   "source": [
    "def create_asset_account_name():\n",
    "    # Lấy ngày giờ hiện tại\n",
    "    current_datetime = datetime.datetime.now()\n",
    "\n",
    "    # Format ngày giờ theo dạng \"hh:mm:ss dd/mm/yyyy\"\n",
    "    formatted_datetime = current_datetime.strftime(\"%H:%M:%S %d/%m/%Y\")\n",
    "\n",
    "    email = f'Asset Account {formatted_datetime}'\n",
    "\n",
    "    return email\n",
    "\n",
    "create_asset_account_name_example = create_asset_account_name()\n",
    "print(f\"Example: {create_asset_account_name_example}\")"
   ]
  },
  {
   "cell_type": "markdown",
   "metadata": {},
   "source": [
    "## Nhập thông tin Asset Account"
   ]
  },
  {
   "cell_type": "code",
   "execution_count": 13,
   "metadata": {},
   "outputs": [
    {
     "name": "stdout",
     "output_type": "stream",
     "text": [
      "Asset account name: Asset Account 21:38:28 09/01/2024\n"
     ]
    }
   ],
   "source": [
    "def enter_asset_account_name(browser, asset_account_name):\n",
    "    name_field = browser.find_element(\n",
    "        By.CSS_SELECTOR, 'input[placeholder=\"Name\"]'\n",
    "    )\n",
    "    change_element_color(browser, name_field)\n",
    "    name_field.send_keys(asset_account_name)\n",
    "\n",
    "asset_account_name = create_asset_account_name()\n",
    "print(f\"Asset account name: {asset_account_name}\")\n",
    "\n",
    "enter_asset_account_name(browser, asset_account_name)"
   ]
  },
  {
   "cell_type": "markdown",
   "metadata": {},
   "source": [
    "## Nhấn Store new asset account"
   ]
  },
  {
   "cell_type": "code",
   "execution_count": 14,
   "metadata": {},
   "outputs": [],
   "source": [
    "def store_new_asset_account(browser):\n",
    "    new_asset_account_button = browser.find_element(\n",
    "        By.XPATH,\n",
    "        '//button[contains(text(), \"Store new asset account\")]'\n",
    "    )\n",
    "    \n",
    "    change_element_color(browser, new_asset_account_button)\n",
    "    new_asset_account_button.click()\n",
    "\n",
    "store_new_asset_account(browser)"
   ]
  },
  {
   "cell_type": "markdown",
   "metadata": {},
   "source": [
    "## Kiểm tra tạo thành công"
   ]
  },
  {
   "cell_type": "code",
   "execution_count": 15,
   "metadata": {},
   "outputs": [
    {
     "name": "stdout",
     "output_type": "stream",
     "text": [
      "Test case: Asset Account 21:38:28 09/01/2024 - PASSED\n",
      "True\n"
     ]
    }
   ],
   "source": [
    "def was_asset_account_successfully_created(browser, asset_account_name):\n",
    "    # Đến trang danh sách asset account\n",
    "    browser.get(asset_account_list_url)\n",
    "\n",
    "    # Thử tìm trên trang danh sách asset account xem có asset account vừa tạo không\n",
    "    # Nếu có thì trả về True, không thì trả về False\n",
    "    try:\n",
    "        generated_account = browser.find_element(\n",
    "            By.XPATH,\n",
    "            f'//a[contains(text(), \"{asset_account_name}\")]'\n",
    "        )\n",
    "        \n",
    "        change_element_color(browser, generated_account)\n",
    "        \n",
    "        print(f\"Test case: {asset_account_name} - PASSED\")\n",
    "        return True\n",
    "    except:\n",
    "        print(f\"Test case: {asset_account_name} - FAILED\")\n",
    "        return False\n",
    "    \n",
    "print(was_asset_account_successfully_created(browser, asset_account_name))"
   ]
  }
 ],
 "metadata": {
  "kernelspec": {
   "display_name": "Python 3.10.8 64-bit",
   "language": "python",
   "name": "python3"
  },
  "language_info": {
   "codemirror_mode": {
    "name": "ipython",
    "version": 3
   },
   "file_extension": ".py",
   "mimetype": "text/x-python",
   "name": "python",
   "nbconvert_exporter": "python",
   "pygments_lexer": "ipython3",
   "version": "3.10.10"
  },
  "toc": {
   "nav_menu": {},
   "number_sections": false,
   "sideBar": true,
   "skip_h1_title": false,
   "title_cell": "Table of Contents",
   "title_sidebar": "Contents",
   "toc_cell": false,
   "toc_position": {
    "height": "calc(100% - 180px)",
    "left": "10px",
    "top": "150px",
    "width": "165px"
   },
   "toc_section_display": true,
   "toc_window_display": true
  },
  "vscode": {
   "interpreter": {
    "hash": "aee8b7b246df8f9039afb4144a1f6fd8d2ca17a180786b69acc140d282b71a49"
   }
  }
 },
 "nbformat": 4,
 "nbformat_minor": 2
}
