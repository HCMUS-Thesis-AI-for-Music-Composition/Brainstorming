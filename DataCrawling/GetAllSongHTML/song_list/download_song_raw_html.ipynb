{
 "cells": [
  {
   "cell_type": "code",
   "execution_count": 2,
   "metadata": {},
   "outputs": [],
   "source": [
    "root_directory = \"D:/Vector A/0. KHTN/Nam 4/HKII/Thesis/Brainstorming/DataCrawling\""
   ]
  },
  {
   "cell_type": "code",
   "execution_count": 3,
   "metadata": {},
   "outputs": [],
   "source": [
    "import sys\n",
    "sys.path.append(root_directory)\n",
    "\n",
    "import os\n",
    "from os.path import join, getsize\n",
    "\n",
    "import requests\n",
    "\n",
    "import file_utils as fu"
   ]
  },
  {
   "cell_type": "code",
   "execution_count": 6,
   "metadata": {},
   "outputs": [
    {
     "name": "stdout",
     "output_type": "stream",
     "text": [
      "D:/Vector A/0. KHTN/Nam 4/HKII/Thesis/Brainstorming/DataCrawling/GetAllSongHTML/song_list_link_by_artist/json\n"
     ]
    }
   ],
   "source": [
    "json_dir_path = fu.relative_to_absolute_path(\n",
    "    \"GetAllSongHTML/song_list_link_by_artist/json\",\n",
    "    root_path=root_directory\n",
    ")\n",
    "\n",
    "print(json_dir_path)"
   ]
  },
  {
   "cell_type": "code",
   "execution_count": 8,
   "metadata": {},
   "outputs": [
    {
     "name": "stdout",
     "output_type": "stream",
     "text": [
      "[{'letter': 'a', 'path': 'D:/Vector A/0. KHTN/Nam 4/HKII/Thesis/Brainstorming/DataCrawling/GetAllSongHTML/song_list_link_by_artist/json/a.json'}, {'letter': 'b', 'path': 'D:/Vector A/0. KHTN/Nam 4/HKII/Thesis/Brainstorming/DataCrawling/GetAllSongHTML/song_list_link_by_artist/json/b.json'}, {'letter': 'c', 'path': 'D:/Vector A/0. KHTN/Nam 4/HKII/Thesis/Brainstorming/DataCrawling/GetAllSongHTML/song_list_link_by_artist/json/c.json'}, {'letter': 'd', 'path': 'D:/Vector A/0. KHTN/Nam 4/HKII/Thesis/Brainstorming/DataCrawling/GetAllSongHTML/song_list_link_by_artist/json/d.json'}, {'letter': 'e', 'path': 'D:/Vector A/0. KHTN/Nam 4/HKII/Thesis/Brainstorming/DataCrawling/GetAllSongHTML/song_list_link_by_artist/json/e.json'}, {'letter': 'f', 'path': 'D:/Vector A/0. KHTN/Nam 4/HKII/Thesis/Brainstorming/DataCrawling/GetAllSongHTML/song_list_link_by_artist/json/f.json'}, {'letter': 'g', 'path': 'D:/Vector A/0. KHTN/Nam 4/HKII/Thesis/Brainstorming/DataCrawling/GetAllSongHTML/song_list_link_by_artist/json/g.json'}, {'letter': 'h', 'path': 'D:/Vector A/0. KHTN/Nam 4/HKII/Thesis/Brainstorming/DataCrawling/GetAllSongHTML/song_list_link_by_artist/json/h.json'}, {'letter': 'i', 'path': 'D:/Vector A/0. KHTN/Nam 4/HKII/Thesis/Brainstorming/DataCrawling/GetAllSongHTML/song_list_link_by_artist/json/i.json'}, {'letter': 'j', 'path': 'D:/Vector A/0. KHTN/Nam 4/HKII/Thesis/Brainstorming/DataCrawling/GetAllSongHTML/song_list_link_by_artist/json/j.json'}, {'letter': 'k', 'path': 'D:/Vector A/0. KHTN/Nam 4/HKII/Thesis/Brainstorming/DataCrawling/GetAllSongHTML/song_list_link_by_artist/json/k.json'}, {'letter': 'l', 'path': 'D:/Vector A/0. KHTN/Nam 4/HKII/Thesis/Brainstorming/DataCrawling/GetAllSongHTML/song_list_link_by_artist/json/l.json'}, {'letter': 'm', 'path': 'D:/Vector A/0. KHTN/Nam 4/HKII/Thesis/Brainstorming/DataCrawling/GetAllSongHTML/song_list_link_by_artist/json/m.json'}, {'letter': 'n', 'path': 'D:/Vector A/0. KHTN/Nam 4/HKII/Thesis/Brainstorming/DataCrawling/GetAllSongHTML/song_list_link_by_artist/json/n.json'}, {'letter': 'o', 'path': 'D:/Vector A/0. KHTN/Nam 4/HKII/Thesis/Brainstorming/DataCrawling/GetAllSongHTML/song_list_link_by_artist/json/o.json'}, {'letter': 'p', 'path': 'D:/Vector A/0. KHTN/Nam 4/HKII/Thesis/Brainstorming/DataCrawling/GetAllSongHTML/song_list_link_by_artist/json/p.json'}, {'letter': 'q', 'path': 'D:/Vector A/0. KHTN/Nam 4/HKII/Thesis/Brainstorming/DataCrawling/GetAllSongHTML/song_list_link_by_artist/json/q.json'}, {'letter': 'r', 'path': 'D:/Vector A/0. KHTN/Nam 4/HKII/Thesis/Brainstorming/DataCrawling/GetAllSongHTML/song_list_link_by_artist/json/r.json'}, {'letter': 's', 'path': 'D:/Vector A/0. KHTN/Nam 4/HKII/Thesis/Brainstorming/DataCrawling/GetAllSongHTML/song_list_link_by_artist/json/s.json'}, {'letter': 't', 'path': 'D:/Vector A/0. KHTN/Nam 4/HKII/Thesis/Brainstorming/DataCrawling/GetAllSongHTML/song_list_link_by_artist/json/t.json'}, {'letter': 'u', 'path': 'D:/Vector A/0. KHTN/Nam 4/HKII/Thesis/Brainstorming/DataCrawling/GetAllSongHTML/song_list_link_by_artist/json/u.json'}, {'letter': 'v', 'path': 'D:/Vector A/0. KHTN/Nam 4/HKII/Thesis/Brainstorming/DataCrawling/GetAllSongHTML/song_list_link_by_artist/json/v.json'}, {'letter': 'w', 'path': 'D:/Vector A/0. KHTN/Nam 4/HKII/Thesis/Brainstorming/DataCrawling/GetAllSongHTML/song_list_link_by_artist/json/w.json'}, {'letter': 'x', 'path': 'D:/Vector A/0. KHTN/Nam 4/HKII/Thesis/Brainstorming/DataCrawling/GetAllSongHTML/song_list_link_by_artist/json/x.json'}, {'letter': 'y', 'path': 'D:/Vector A/0. KHTN/Nam 4/HKII/Thesis/Brainstorming/DataCrawling/GetAllSongHTML/song_list_link_by_artist/json/y.json'}, {'letter': 'z', 'path': 'D:/Vector A/0. KHTN/Nam 4/HKII/Thesis/Brainstorming/DataCrawling/GetAllSongHTML/song_list_link_by_artist/json/z.json'}]\n"
     ]
    }
   ],
   "source": [
    "song_links_by_alphabet = fu.get_file_path_list_in_dir(json_dir_path)\n",
    "\n",
    "song_links_by_alphabet = [\n",
    "    {\n",
    "        \"letter\" : path.split(\"/\")[-1].split(\".\")[0],\n",
    "        \"path\": path\n",
    "    }\n",
    "    for path in song_links_by_alphabet\n",
    "]\n",
    "\n",
    "print(song_links_by_alphabet)"
   ]
  },
  {
   "cell_type": "code",
   "execution_count": 4,
   "metadata": {},
   "outputs": [
    {
     "name": "stdout",
     "output_type": "stream",
     "text": [
      "['https://www.hooktheory.com/theorytab/artists/a', 'https://www.hooktheory.com/theorytab/artists/b', 'https://www.hooktheory.com/theorytab/artists/c', 'https://www.hooktheory.com/theorytab/artists/d', 'https://www.hooktheory.com/theorytab/artists/e', 'https://www.hooktheory.com/theorytab/artists/f', 'https://www.hooktheory.com/theorytab/artists/g', 'https://www.hooktheory.com/theorytab/artists/h', 'https://www.hooktheory.com/theorytab/artists/i', 'https://www.hooktheory.com/theorytab/artists/j', 'https://www.hooktheory.com/theorytab/artists/k', 'https://www.hooktheory.com/theorytab/artists/l', 'https://www.hooktheory.com/theorytab/artists/m', 'https://www.hooktheory.com/theorytab/artists/n', 'https://www.hooktheory.com/theorytab/artists/o', 'https://www.hooktheory.com/theorytab/artists/p', 'https://www.hooktheory.com/theorytab/artists/q', 'https://www.hooktheory.com/theorytab/artists/r', 'https://www.hooktheory.com/theorytab/artists/s', 'https://www.hooktheory.com/theorytab/artists/t', 'https://www.hooktheory.com/theorytab/artists/u', 'https://www.hooktheory.com/theorytab/artists/v', 'https://www.hooktheory.com/theorytab/artists/w', 'https://www.hooktheory.com/theorytab/artists/x', 'https://www.hooktheory.com/theorytab/artists/y', 'https://www.hooktheory.com/theorytab/artists/z']\n"
     ]
    }
   ],
   "source": [
    "def get_song_raw_html_by_alphabet(letter):\n",
    "    json_folder = fu.relative_to_absolute_path(\n",
    "        \"DataCrawling/GetAllSongHTML/song_list_by_artist\",\n",
    "        root_path=root_directory\n",
    "    )\n",
    "    \n",
    "    response = requests.get(url)\n",
    "    return response.text"
   ]
  },
  {
   "cell_type": "code",
   "execution_count": 14,
   "metadata": {},
   "outputs": [],
   "source": [
    "\n",
    "def get_html_content(url, file_path):\n",
    "    response = requests.get(url)\n",
    "    with open(file_path, \"w\", encoding='utf-8') as f:\n",
    "        f.write(response.text)\n",
    "\n",
    "for link in artist_list_link_by_alphabet:\n",
    "    get_html_content(\n",
    "        link, \n",
    "        fu.relative_to_absolute_path(\n",
    "            f\"GetAllSongHTML/artist_list_link_by_alphabet/raw_html/artist_list_{link[-1]}.html\", \n",
    "            root_path=root_directory\n",
    "        )\n",
    "    )"
   ]
  },
  {
   "cell_type": "code",
   "execution_count": 5,
   "metadata": {},
   "outputs": [
    {
     "name": "stdout",
     "output_type": "stream",
     "text": [
      "artist_list_a.html -> size in byte: 379213\n",
      "artist_list_b.html -> size in byte: 377959\n",
      "artist_list_c.html -> size in byte: 377570\n",
      "artist_list_d.html -> size in byte: 363597\n",
      "artist_list_e.html -> size in byte: 212215\n",
      "artist_list_f.html -> size in byte: 215660\n",
      "artist_list_g.html -> size in byte: 233156\n",
      "artist_list_h.html -> size in byte: 225379\n",
      "artist_list_i.html -> size in byte: 136656\n",
      "artist_list_j.html -> size in byte: 380155\n",
      "artist_list_k.html -> size in byte: 288399\n",
      "artist_list_l.html -> size in byte: 299161\n",
      "artist_list_m.html -> size in byte: 381451\n",
      "artist_list_n.html -> size in byte: 238155\n",
      "artist_list_o.html -> size in byte: 120892\n",
      "artist_list_p.html -> size in byte: 257737\n",
      "artist_list_q.html -> size in byte: 53020\n",
      "artist_list_r.html -> size in byte: 287778\n",
      "artist_list_s.html -> size in byte: 378524\n",
      "artist_list_t.html -> size in byte: 381374\n",
      "artist_list_u.html -> size in byte: 75791\n",
      "artist_list_v.html -> size in byte: 107557\n",
      "artist_list_w.html -> size in byte: 152264\n",
      "artist_list_x.html -> size in byte: 50183\n",
      "artist_list_y.html -> size in byte: 138678\n",
      "artist_list_z.html -> size in byte: 74395\n"
     ]
    }
   ],
   "source": [
    "raw_html_folder = fu.relative_to_absolute_path(\n",
    "    \"GetAllSongHTML/artist_list_link_by_alphabet/raw_html\", \n",
    "    root_path=root_directory\n",
    ")\n",
    "\n",
    "for root, dirs, files in os.walk(raw_html_folder):\n",
    "    for file in files:\n",
    "        print(file, end=\" -> size in byte: \")\n",
    "        print(getsize(join(root, file)))"
   ]
  }
 ],
 "metadata": {
  "kernelspec": {
   "display_name": "Python 3",
   "language": "python",
   "name": "python3"
  },
  "language_info": {
   "codemirror_mode": {
    "name": "ipython",
    "version": 3
   },
   "file_extension": ".py",
   "mimetype": "text/x-python",
   "name": "python",
   "nbconvert_exporter": "python",
   "pygments_lexer": "ipython3",
   "version": "3.10.7"
  }
 },
 "nbformat": 4,
 "nbformat_minor": 2
}
