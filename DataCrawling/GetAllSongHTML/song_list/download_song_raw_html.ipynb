{
 "cells": [
  {
   "cell_type": "code",
   "execution_count": null,
   "metadata": {},
   "outputs": [],
   "source": [
    "class Platform:\n",
    "    WINDOWS = \"windows\"\n",
    "    MACOS = \"macos\""
   ]
  },
  {
   "cell_type": "code",
   "execution_count": null,
   "metadata": {},
   "outputs": [],
   "source": [
    "root_directory = \"D:/Vector A/0. KHTN/Nam 4/HKII/Thesis/Brainstorming/DataCrawling\"\n",
    "platform = Platform.WINDOWS"
   ]
  },
  {
   "cell_type": "code",
   "execution_count": null,
   "metadata": {},
   "outputs": [],
   "source": [
    "from selenium import webdriver\n",
    "from selenium.webdriver.common.keys import Keys\n",
    "from selenium.webdriver.common.by import By\n",
    "\n",
    "import sys\n",
    "sys.path.append(root_directory)\n",
    "\n",
    "import os\n",
    "from os.path import join, getsize\n",
    "import threading\n",
    "import time\n",
    "\n",
    "import file_utils as fu"
   ]
  },
  {
   "cell_type": "code",
   "execution_count": null,
   "metadata": {},
   "outputs": [],
   "source": [
    "json_dir_path = fu.relative_to_absolute_path(\n",
    "    \"GetAllSongHTML/song_list_link_by_artist/json\",\n",
    "    root_path=root_directory\n",
    ")\n",
    "\n",
    "print(json_dir_path)"
   ]
  },
  {
   "cell_type": "code",
   "execution_count": null,
   "metadata": {},
   "outputs": [],
   "source": [
    "song_links_by_alphabet = fu.get_file_path_list_in_dir(json_dir_path)\n",
    "\n",
    "song_links_by_alphabet = {\n",
    "    path.split(\"/\")[-1].split(\".\")[0].lower() : path\n",
    "    for path in song_links_by_alphabet\n",
    "}\n",
    "\n",
    "print(song_links_by_alphabet)"
   ]
  },
  {
   "cell_type": "code",
   "execution_count": null,
   "metadata": {},
   "outputs": [],
   "source": [
    "def song_link_to_relative_html_file_path(link):\n",
    "    artist_letter = link.split(\"/\")[-2][0]\n",
    "    artist = link.split(\"/\")[-2]\n",
    "    song = link.split(\"/\")[-1]\n",
    "\n",
    "    return f\"{artist_letter}/{artist}/{song}.html\"\n",
    "\n",
    "\n",
    "print(\n",
    "    song_link_to_relative_html_file_path(\n",
    "        fu.read_data_from_json_file(\n",
    "            song_links_by_alphabet[\"a\"])[0][\"link\"]\n",
    "        )\n",
    "    )"
   ]
  },
  {
   "cell_type": "code",
   "execution_count": null,
   "metadata": {},
   "outputs": [],
   "source": [
    "def scroll_to_bottom(browser, scroll_pause_time = 0.5):\n",
    "    # Get the screen height of the web\n",
    "    screen_height = browser.execute_script(\"return window.screen.height;\") \n",
    "    i = 1\n",
    "\n",
    "    while True:\n",
    "        # Scroll one screen height each time\n",
    "        browser.execute_script(f\"window.scrollTo(0, {screen_height}*{i});\")\n",
    "        time.sleep(scroll_pause_time)\n",
    "        \n",
    "        # Cập nhật scroll_height sau mỗi lần scroll, vì scroll_height có thể thay đổi sau khi scroll trang\n",
    "        scroll_height = browser.execute_script(\"return document.body.scrollHeight;\")\n",
    "\n",
    "        i += 1\n",
    "        if (screen_height) * i > scroll_height:\n",
    "            break"
   ]
  },
  {
   "cell_type": "code",
   "execution_count": null,
   "metadata": {},
   "outputs": [],
   "source": [
    "def scroll_and_get_html_content(url, webdriver_instance):\n",
    "    webdriver_instance.get(url)\n",
    "\n",
    "    scroll_to_bottom(webdriver_instance)\n",
    "    \n",
    "    contents = webdriver_instance.page_source\n",
    "\n",
    "    return contents"
   ]
  },
  {
   "cell_type": "code",
   "execution_count": null,
   "metadata": {},
   "outputs": [],
   "source": [
    "def get_song_raw_html(url, webdriver_instance):\n",
    "    print(f\"{url}: processing...\")\n",
    "    \n",
    "    page_source = scroll_and_get_html_content(url, webdriver_instance)\n",
    "\n",
    "    path_to_save_html = fu.relative_to_absolute_path(\n",
    "        song_link_to_relative_html_file_path(url),\n",
    "        root_path=fu.relative_to_absolute_path(\n",
    "            \"GetAllSongHTML/song_list/raw_html\",\n",
    "            root_path=root_directory\n",
    "        )\n",
    "    )\n",
    "    \n",
    "    fu.write_data_to_file(path_to_save_html, page_source)\n",
    "\n",
    "    print(f\"{url}: done\")\n",
    "\n",
    "    return None"
   ]
  },
  {
   "cell_type": "code",
   "execution_count": null,
   "metadata": {},
   "outputs": [],
   "source": [
    "def open_edge_in_remote_debugging_mode(port, platform, browser_instance_data_dir):\n",
    "    print(f\"Opening Edge in remote debugging mode on port {port}...\")\n",
    "\n",
    "    macos_command = f'''open -na \"Microsoft Edge.app\" --args\n",
    "                        --remote-debugging-port={port}\n",
    "                        --user-data-dir=\"{browser_instance_data_dir}\"'''\n",
    "\n",
    "    windows_command = f'''start msedge.exe \n",
    "                        --remote-debugging-port={port} \n",
    "                        --user-data-dir=\"{browser_instance_data_dir}'''\n",
    "\n",
    "    command = macos_command if platform == Platform.MACOS else windows_command\n",
    "    \n",
    "    os.system(command.replace(\"\\n\", \" \"))"
   ]
  },
  {
   "cell_type": "code",
   "execution_count": null,
   "metadata": {},
   "outputs": [],
   "source": [
    "def init_selenium_in_remote_debugging_mode(port):\n",
    "    options = webdriver.EdgeOptions()\n",
    "    options.add_experimental_option(\"debuggerAddress\", f\"localhost:{port}\")\n",
    "\n",
    "    browser = webdriver.Edge(options=options)\n",
    "    # browser.maximize_window()\n",
    "\n",
    "    return browser"
   ]
  },
  {
   "cell_type": "code",
   "execution_count": null,
   "metadata": {},
   "outputs": [],
   "source": [
    "class BrowserStatus:\n",
    "    AVAILABLE = \"available\"\n",
    "    BUSY = \"busy\""
   ]
  },
  {
   "cell_type": "code",
   "execution_count": null,
   "metadata": {},
   "outputs": [],
   "source": [
    "webdriver_pool = []\n",
    "\n",
    "def init_webdriver_pool(n_webdriver=5):\n",
    "    for i in range(n_webdriver):\n",
    "        port = 40000 + i\n",
    "        open_edge_in_remote_debugging_mode(\n",
    "            port,\n",
    "            platform,\n",
    "            fu.relative_to_absolute_path(\n",
    "                f\"GetAllSongHTML/song_list/browser_instance_data/{port}\",\n",
    "                root_path=root_directory\n",
    "            )\n",
    "        )\n",
    "\n",
    "        browser = init_selenium_in_remote_debugging_mode(port)\n",
    "\n",
    "        webdriver_pool.append(\n",
    "            {\n",
    "                \"port\": port,\n",
    "                \"browser\": browser,\n",
    "                \"browser_status\": BrowserStatus.AVAILABLE\n",
    "            }\n",
    "        )"
   ]
  },
  {
   "cell_type": "code",
   "execution_count": null,
   "metadata": {},
   "outputs": [],
   "source": [
    "def change_port_status(port, status):\n",
    "    for browser in webdriver_pool:\n",
    "        if browser[\"port\"] == port:\n",
    "            browser[\"browser_status\"] = status\n",
    "            break"
   ]
  },
  {
   "cell_type": "code",
   "execution_count": null,
   "metadata": {},
   "outputs": [],
   "source": [
    "def get_raw_html_with_webdriver_from_pool(url, webdriver_pool_item):\n",
    "    for browser in webdriver_pool:\n",
    "        if (browser[\"port\"] == webdriver_pool_item[\"port\"] \n",
    "            and browser[\"browser_status\"] == BrowserStatus.AVAILABLE):\n",
    "            change_port_status(browser[\"port\"], BrowserStatus.BUSY)\n",
    "            get_song_raw_html(url, browser[\"browser\"])\n",
    "            change_port_status(browser[\"port\"], BrowserStatus.AVAILABLE)\n",
    "            break"
   ]
  },
  {
   "cell_type": "code",
   "execution_count": null,
   "metadata": {},
   "outputs": [],
   "source": [
    "def get_song_raw_html_by_alphabet(letter, song_per_batch=5):\n",
    "    # Lấy danh sách link của letter\n",
    "    song_links = fu.read_data_from_json_file(song_links_by_alphabet[letter])\n",
    "\n",
    "    while(len(song_links) > 0):\n",
    "        current_song_per_batch = song_per_batch if song_per_batch <= len(song_links) else len(song_links)\n",
    "        song_batch = [song_links.pop(0) for _ in range(current_song_per_batch)]\n",
    "\n",
    "        threadBatch = []\n",
    "\n",
    "        for webdriver_pool_item in webdriver_pool:\n",
    "            if webdriver_pool_item[\"browser_status\"] == BrowserStatus.AVAILABLE:\n",
    "                threadBatch.insert(\n",
    "                    0,\n",
    "                    threading.Thread(\n",
    "                        target=get_raw_html_with_webdriver_from_pool,\n",
    "                        args=(song_batch.pop(0), webdriver_pool_item)\n",
    "                    )\n",
    "                )\n",
    "\n",
    "                threadBatch[0].start()\n",
    "        \n",
    "        for i in range(len(threadBatch)):\n",
    "            threadBatch[i].join()"
   ]
  },
  {
   "cell_type": "code",
   "execution_count": null,
   "metadata": {},
   "outputs": [],
   "source": [
    "song_per_batch = 5\n",
    "\n",
    "init_webdriver_pool(n_webdriver=song_per_batch)"
   ]
  },
  {
   "cell_type": "code",
   "execution_count": null,
   "metadata": {},
   "outputs": [],
   "source": [
    "# get_song_raw_html_by_alphabet('a', song_per_batch)"
   ]
  }
 ],
 "metadata": {
  "kernelspec": {
   "display_name": "Python 3",
   "language": "python",
   "name": "python3"
  },
  "language_info": {
   "codemirror_mode": {
    "name": "ipython",
    "version": 3
   },
   "file_extension": ".py",
   "mimetype": "text/x-python",
   "name": "python",
   "nbconvert_exporter": "python",
   "pygments_lexer": "ipython3",
   "version": "3.10.7"
  }
 },
 "nbformat": 4,
 "nbformat_minor": 2
}
