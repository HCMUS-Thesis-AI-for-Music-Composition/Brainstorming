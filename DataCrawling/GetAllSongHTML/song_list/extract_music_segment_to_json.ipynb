{
 "cells": [
  {
   "cell_type": "code",
   "execution_count": 2,
   "metadata": {},
   "outputs": [],
   "source": [
    "import platform as python_platform\n",
    "\n",
    "class Platform:\n",
    "    WINDOWS = \"Windows\"\n",
    "    MACOS = \"Darwin\"\n",
    "\n",
    "platform = python_platform.system()\n",
    "\n",
    "windows_root_directory = \"D:/Vector A/0. KHTN/Nam 4/HKII/Thesis/Brainstorming/DataCrawling\"\n",
    "mac_root_directory = \"/Users/4rr311/Documents/VectorA/KHTN/Nam4/HKII/Thesis/Brainstorming/DataCrawling\"\n",
    "\n",
    "root_directory = windows_root_directory if platform == Platform.WINDOWS else mac_root_directory"
   ]
  },
  {
   "cell_type": "code",
   "execution_count": 3,
   "metadata": {},
   "outputs": [],
   "source": [
    "import os\n",
    "from os.path import join, getsize\n",
    "import re\n",
    "\n",
    "import sys\n",
    "sys.path.append(root_directory)\n",
    "\n",
    "import matplotlib.pyplot as plt\n",
    "import pandas as pd\n",
    "\n",
    "import file_utils as fu"
   ]
  },
  {
   "cell_type": "code",
   "execution_count": 4,
   "metadata": {},
   "outputs": [],
   "source": [
    "def copy_structure(source, destination):\n",
    "    '''Copy the structure of the source directory to the destination directory'''\n",
    "    for root, dirs, files in os.walk(source):\n",
    "        for dir in dirs:\n",
    "            new_dir = f\"{destination}/{root.replace(source, '')}/{dir}\"\n",
    "            \n",
    "            regex_pattern = r\"\\/{2,}\"            \n",
    "            new_dir = re.sub(regex_pattern, \"/\", new_dir)\n",
    "\n",
    "            os.makedirs(new_dir, exist_ok=True)"
   ]
  },
  {
   "cell_type": "code",
   "execution_count": 5,
   "metadata": {},
   "outputs": [],
   "source": [
    "json_directory = fu.relative_to_absolute_path(\n",
    "    \"GetAllSongHTML/song_list/json\",\n",
    "    root_path=root_directory\n",
    ")\n",
    "\n",
    "raw_html_directory = fu.relative_to_absolute_path(\n",
    "    \"GetAllSongHTML/song_list/raw_html\",\n",
    "    root_path=root_directory\n",
    ")\n",
    "\n",
    "copy_structure(\n",
    "    source=raw_html_directory, \n",
    "    destination=json_directory\n",
    ")"
   ]
  },
  {
   "cell_type": "code",
   "execution_count": 6,
   "metadata": {},
   "outputs": [],
   "source": [
    "json_song_list_link_by_artist_dir = fu.relative_to_absolute_path(\n",
    "    \"GetAllSongHTML/song_list_link_by_artist/json\",\n",
    "    root_path=root_directory\n",
    ")"
   ]
  },
  {
   "cell_type": "code",
   "execution_count": 7,
   "metadata": {},
   "outputs": [],
   "source": [
    "# Đếm bài hát đã lấy (raw html) tương ứng với letter\n",
    "def count_raw_html_songs_by_letter(letter):\n",
    "    letter_directory = f\"{raw_html_directory}/{letter.lower()}\"\n",
    "\n",
    "    return sum([1 for root, dirs, files in os.walk(letter_directory) for file in files])"
   ]
  },
  {
   "cell_type": "code",
   "execution_count": 8,
   "metadata": {},
   "outputs": [],
   "source": [
    "# Đếm số bài hát cần lấy trong file json tương ứng với letter\n",
    "def count_songs_in_json_by_letter(letter):\n",
    "    letter_json_file_path = f\"{json_song_list_link_by_artist_dir}/{letter.lower()}.json\"\n",
    "    \n",
    "    n_song = len(fu.read_data_from_json_file(letter_json_file_path))\n",
    "\n",
    "    return n_song"
   ]
  },
  {
   "cell_type": "code",
   "execution_count": 10,
   "metadata": {},
   "outputs": [
    {
     "name": "stdout",
     "output_type": "stream",
     "text": [
      "0\n",
      "1590\n"
     ]
    }
   ],
   "source": [
    "letter = 'b'\n",
    "print(count_raw_html_songs_by_letter(letter))\n",
    "print(count_songs_in_json_by_letter(letter))"
   ]
  },
  {
   "cell_type": "code",
   "execution_count": null,
   "metadata": {},
   "outputs": [],
   "source": [
    "class "
   ]
  }
 ],
 "metadata": {
  "kernelspec": {
   "display_name": "Python 3",
   "language": "python",
   "name": "python3"
  },
  "language_info": {
   "codemirror_mode": {
    "name": "ipython",
    "version": 3
   },
   "file_extension": ".py",
   "mimetype": "text/x-python",
   "name": "python",
   "nbconvert_exporter": "python",
   "pygments_lexer": "ipython3",
   "version": "3.10.10"
  }
 },
 "nbformat": 4,
 "nbformat_minor": 2
}
