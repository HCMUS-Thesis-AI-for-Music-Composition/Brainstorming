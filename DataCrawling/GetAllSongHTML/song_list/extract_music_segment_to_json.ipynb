{
 "cells": [
  {
   "cell_type": "code",
   "execution_count": 22,
   "metadata": {},
   "outputs": [],
   "source": [
    "import platform as python_platform\n",
    "\n",
    "class Platform:\n",
    "    WINDOWS = \"Windows\"\n",
    "    MACOS = \"Darwin\"\n",
    "\n",
    "platform = python_platform.system()\n",
    "\n",
    "windows_root_directory = \"D:/Vector A/0. KHTN/Nam 4/HKII/Thesis/Brainstorming/DataCrawling\"\n",
    "mac_root_directory = \"/Users/4rr311/Documents/VectorA/KHTN/Nam4/HKII/Thesis/Brainstorming/DataCrawling\"\n",
    "\n",
    "root_directory = windows_root_directory if platform == Platform.WINDOWS else mac_root_directory"
   ]
  },
  {
   "cell_type": "code",
   "execution_count": 23,
   "metadata": {},
   "outputs": [],
   "source": [
    "import os\n",
    "from os.path import join, getsize\n",
    "import re\n",
    "\n",
    "import sys\n",
    "sys.path.append(root_directory)\n",
    "\n",
    "import matplotlib.pyplot as plt\n",
    "import pandas as pd\n",
    "\n",
    "import file_utils as fu"
   ]
  },
  {
   "cell_type": "code",
   "execution_count": 24,
   "metadata": {},
   "outputs": [],
   "source": [
    "def copy_structure(source, destination):\n",
    "    '''Copy the structure of the source directory to the destination directory'''\n",
    "    for root, dirs, files in os.walk(source):\n",
    "        for dir in dirs:\n",
    "            new_dir = f\"{destination}/{root.replace(source, '')}/{dir}\"\n",
    "            \n",
    "            regex_pattern = r\"\\/{2,}\"            \n",
    "            new_dir = re.sub(regex_pattern, \"/\", new_dir)\n",
    "\n",
    "            os.makedirs(new_dir, exist_ok=True)"
   ]
  },
  {
   "cell_type": "code",
   "execution_count": 25,
   "metadata": {},
   "outputs": [],
   "source": [
    "json_directory = fu.relative_to_absolute_path(\n",
    "    \"GetAllSongHTML/song_list/json\",\n",
    "    root_path=root_directory\n",
    ")\n",
    "\n",
    "raw_html_directory = fu.relative_to_absolute_path(\n",
    "    \"GetAllSongHTML/song_list/raw_html\",\n",
    "    root_path=root_directory\n",
    ")\n",
    "\n",
    "copy_structure(\n",
    "    source=raw_html_directory, \n",
    "    destination=json_directory\n",
    ")"
   ]
  },
  {
   "cell_type": "code",
   "execution_count": 26,
   "metadata": {},
   "outputs": [],
   "source": [
    "json_song_list_link_by_artist_dir = fu.relative_to_absolute_path(\n",
    "    \"GetAllSongHTML/song_list_link_by_artist/json\",\n",
    "    root_path=root_directory\n",
    ")"
   ]
  },
  {
   "cell_type": "code",
   "execution_count": 27,
   "metadata": {},
   "outputs": [],
   "source": [
    "# Đếm bài hát đã lấy (raw html) tương ứng với letter\n",
    "def count_raw_html_songs_by_letter(letter):\n",
    "    letter_directory = f\"{raw_html_directory}/{letter.lower()}\"\n",
    "\n",
    "    return sum([1 for root, dirs, files in os.walk(letter_directory) for file in files])"
   ]
  },
  {
   "cell_type": "code",
   "execution_count": 28,
   "metadata": {},
   "outputs": [],
   "source": [
    "# Đếm số bài hát cần lấy trong file json tương ứng với letter\n",
    "def count_songs_in_json_by_letter(letter):\n",
    "    letter_json_file_path = f\"{json_song_list_link_by_artist_dir}/{letter.lower()}.json\"\n",
    "    \n",
    "    n_song = len(fu.read_data_from_json_file(letter_json_file_path))\n",
    "\n",
    "    return n_song"
   ]
  },
  {
   "cell_type": "code",
   "execution_count": 29,
   "metadata": {},
   "outputs": [
    {
     "name": "stdout",
     "output_type": "stream",
     "text": [
      "1276\n",
      "1314\n"
     ]
    }
   ],
   "source": [
    "print(count_raw_html_songs_by_letter(\"a\"))\n",
    "print(count_songs_in_json_by_letter(\"a\"))"
   ]
  },
  {
   "cell_type": "code",
   "execution_count": 30,
   "metadata": {},
   "outputs": [],
   "source": [
    "# Thống kê kích thước các file trong thư mục raw_html\n",
    "def get_size_of_raw_html_files():\n",
    "    result = {}\n",
    "    \n",
    "    for root, dirs, files in os.walk(raw_html_directory):\n",
    "        for file in files:\n",
    "            file_path = join(root, file)\n",
    "            result.append({file_path : getsize(file_path)})\n",
    "\n",
    "    return result"
   ]
  },
  {
   "cell_type": "code",
   "execution_count": 31,
   "metadata": {},
   "outputs": [],
   "source": [
    "# Trực quan hoá kích thước các file trong thư mục raw_html\n",
    "def visualize_size_of_raw_html_files():\n",
    "    # df.T.rename(columns={0: \"size\"}, inplace=True)\n",
    "    # plt.plot(sizes)\n",
    "    # plt.show()\n",
    "    pass\n",
    "visualize_size_of_raw_html_files()"
   ]
  },
  {
   "cell_type": "code",
   "execution_count": 32,
   "metadata": {},
   "outputs": [
    {
     "ename": "AttributeError",
     "evalue": "'dict' object has no attribute 'append'",
     "output_type": "error",
     "traceback": [
      "\u001b[0;31m---------------------------------------------------------------------------\u001b[0m",
      "\u001b[0;31mAttributeError\u001b[0m                            Traceback (most recent call last)",
      "Cell \u001b[0;32mIn[32], line 1\u001b[0m\n\u001b[0;32m----> 1\u001b[0m files_size \u001b[38;5;241m=\u001b[39m \u001b[43mget_size_of_raw_html_files\u001b[49m\u001b[43m(\u001b[49m\u001b[43m)\u001b[49m\n\u001b[1;32m      2\u001b[0m df \u001b[38;5;241m=\u001b[39m pd\u001b[38;5;241m.\u001b[39mDataFrame(files_size)\n\u001b[1;32m      3\u001b[0m df\u001b[38;5;241m.\u001b[39mhead()\n",
      "Cell \u001b[0;32mIn[30], line 8\u001b[0m, in \u001b[0;36mget_size_of_raw_html_files\u001b[0;34m()\u001b[0m\n\u001b[1;32m      6\u001b[0m     \u001b[38;5;28;01mfor\u001b[39;00m file \u001b[38;5;129;01min\u001b[39;00m files:\n\u001b[1;32m      7\u001b[0m         file_path \u001b[38;5;241m=\u001b[39m join(root, file)\n\u001b[0;32m----> 8\u001b[0m         \u001b[43mresult\u001b[49m\u001b[38;5;241;43m.\u001b[39;49m\u001b[43mappend\u001b[49m({file_path : getsize(file_path)})\n\u001b[1;32m     10\u001b[0m \u001b[38;5;28;01mreturn\u001b[39;00m result\n",
      "\u001b[0;31mAttributeError\u001b[0m: 'dict' object has no attribute 'append'"
     ]
    }
   ],
   "source": [
    "files_size = get_size_of_raw_html_files()\n",
    "df = pd.DataFrame(files_size)\n",
    "df.head()"
   ]
  }
 ],
 "metadata": {
  "kernelspec": {
   "display_name": "Python 3",
   "language": "python",
   "name": "python3"
  },
  "language_info": {
   "codemirror_mode": {
    "name": "ipython",
    "version": 3
   },
   "file_extension": ".py",
   "mimetype": "text/x-python",
   "name": "python",
   "nbconvert_exporter": "python",
   "pygments_lexer": "ipython3",
   "version": "3.10.10"
  }
 },
 "nbformat": 4,
 "nbformat_minor": 2
}
