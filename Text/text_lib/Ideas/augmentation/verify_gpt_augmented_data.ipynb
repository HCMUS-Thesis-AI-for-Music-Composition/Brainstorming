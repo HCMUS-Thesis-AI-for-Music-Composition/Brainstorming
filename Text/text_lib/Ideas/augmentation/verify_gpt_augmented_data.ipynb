{
 "cells": [
  {
   "cell_type": "code",
   "execution_count": 1,
   "metadata": {},
   "outputs": [],
   "source": [
    "refined_template_from_gpt_path = \"/Users/4rr311/Documents/VectorA/KHTN/Nam4/HKII/Thesis/Brainstorming/Text/text_lib/Ideas/augmentation/data/gpt_refined_template_en.json\"   \n",
    "\n",
    "verified_data_dir = \"/Users/4rr311/Documents/VectorA/KHTN/Nam4/HKII/Thesis/Brainstorming/Text/text_lib/Ideas/augmentation/data/verified\""
   ]
  },
  {
   "cell_type": "code",
   "execution_count": 2,
   "metadata": {},
   "outputs": [],
   "source": [
    "midi_lib_path = \"/Users/4rr311/Documents/VectorA/KHTN/Nam4/HKII/Thesis/Brainstorming/MIDI/midi_lib\""
   ]
  },
  {
   "cell_type": "code",
   "execution_count": 3,
   "metadata": {},
   "outputs": [],
   "source": [
    "import sys\n",
    "\n",
    "sys.path.append(midi_lib_path)\n",
    "\n",
    "import const_lib.musecoco_const as mcc"
   ]
  },
  {
   "cell_type": "code",
   "execution_count": 4,
   "metadata": {},
   "outputs": [],
   "source": [
    "import json"
   ]
  },
  {
   "cell_type": "code",
   "execution_count": 5,
   "metadata": {},
   "outputs": [],
   "source": [
    "def load_json_file(file_path):\n",
    "    with open(file_path, \"r\") as f:\n",
    "        data = json.load(f)\n",
    "    return data"
   ]
  },
  {
   "cell_type": "code",
   "execution_count": 6,
   "metadata": {},
   "outputs": [
    {
     "name": "stdout",
     "output_type": "stream",
     "text": [
      "Total templates: 4300\n"
     ]
    }
   ],
   "source": [
    "gpt_refined_template = load_json_file(refined_template_from_gpt_path)\n",
    "\n",
    "print(f\"Total templates: {len(gpt_refined_template)}\")"
   ]
  },
  {
   "cell_type": "code",
   "execution_count": 7,
   "metadata": {},
   "outputs": [],
   "source": [
    "def does_response_contain_required_substring_for_attribute(\n",
    "    response: str, \n",
    "    attribute: str\n",
    ") -> bool:\n",
    "    \"\"\"\n",
    "        Check if the response contains the required substring for the attribute\n",
    "\n",
    "        Args:\n",
    "        - response (str): the response to check\n",
    "        - attribute (str): the attribute to check\n",
    "\n",
    "        Returns:\n",
    "        - bool: True if the response contains the required substring for the attribute, False otherwise\n",
    "    \"\"\"\n",
    "    result = False\n",
    "\n",
    "    if attribute in mcc.required_substring_for_attributes:\n",
    "        for substring in mcc.required_substring_for_attributes[attribute]:\n",
    "            if substring.lower() in response.lower():\n",
    "                result = True\n",
    "                break\n",
    "\n",
    "    if attribute in mcc.required_substring_for_positive_and_negative_attributes:\n",
    "        for substring in mcc.required_substring_for_positive_and_negative_attributes[attribute]:\n",
    "            if substring.lower() in response.lower():\n",
    "                result = True and result\n",
    "                break\n",
    "\n",
    "    return result"
   ]
  },
  {
   "cell_type": "code",
   "execution_count": 8,
   "metadata": {},
   "outputs": [],
   "source": [
    "def is_gpt_refined_template_acceptable(gpt_refined_template):\n",
    "    attrs = gpt_refined_template[\"attributes\"]  \n",
    "\n",
    "    response = gpt_refined_template[\"response\"]\n",
    "\n",
    "    for attr in attrs:\n",
    "        if not does_response_contain_required_substring_for_attribute(response, attr):\n",
    "            print(f\"Response does not contain required substring for attribute: {attr}, response: {response}\")\n",
    "            return False\n",
    "        \n",
    "    return True"
   ]
  },
  {
   "cell_type": "code",
   "execution_count": 9,
   "metadata": {},
   "outputs": [],
   "source": [
    "def filter_acceptable_gpt_refined_templates(\n",
    "    gpt_refined_templates: list\n",
    ") -> dict[str, list]:\n",
    "    acceptable_templates: list = []\n",
    "\n",
    "    ignored_templates: list = []\n",
    "\n",
    "    for gpt_refined_template in gpt_refined_templates:\n",
    "        if is_gpt_refined_template_acceptable(gpt_refined_template):\n",
    "            acceptable_templates.append(gpt_refined_template)\n",
    "        else:\n",
    "            ignored_templates.append(gpt_refined_template)\n",
    "\n",
    "    return {\n",
    "        \"acceptable_templates\": acceptable_templates,\n",
    "        \"ignored_templates\": ignored_templates\n",
    "    }"
   ]
  },
  {
   "cell_type": "code",
   "execution_count": 10,
   "metadata": {},
   "outputs": [
    {
     "name": "stdout",
     "output_type": "stream",
     "text": [
      "Response does not contain required substring for attribute: S2_1, response: The music resembles the style of The Beatles. The music is in 6/8 time signature. This music is perfect for dancing. Its pitch range covers 4 octaves.\n",
      "Response does not contain required substring for attribute: S4_0, response: The song doesn't fit the typical jazz style. The song doesn't include guitar and drums. The song doesn't match Mozart's usual sound. The song begins dark and eventually brightens up.\n",
      "Response does not contain required substring for attribute: I1_0, response: The song has a moderate tempo. The song doesn't include guitar and drums. This song carries a gloomy vibe from beginning to end. The music evokes happiness in the listener. This music isn't suited for dancing.\n",
      "Response does not contain required substring for attribute: B1_1, response: The song spans around 62 bars. This song maintains a bright feeling from start to finish. This song carries a gloomy vibe from beginning to end. The beat of this song is moderate. The song falls under the classical genre.\n",
      "Response does not contain required substring for attribute: S2_1, response: This song has a very calming beat. The music resembles the style of The Beatles. The song spans around 77 bars. This music is perfect for dancing. Its pitch range covers 2 octaves.\n",
      "Response does not contain required substring for attribute: EM1_1, response: This music is perfect for dancing. The beat of this song is very strong. The song begins dark and eventually brightens up. The song has a moderate tempo. The music evokes happiness in the listener.\n",
      "Response does not contain required substring for attribute: S2_1, response: This song carries a gloomy vibe from beginning to end. The song has a fast tempo. The music resembles the style of The Beatles. The beat of this song is moderate.\n",
      "Response does not contain required substring for attribute: S2_0, response: This song has a very calming beat. The song doesn't match Beyonce's usual sound. The song uses an uncommon time signature. The song starts off bright but then turns dark. This music is composed in the key of G major.\n",
      "Response does not contain required substring for attribute: S2_0, response: The song doesn't match Mozart's usual sound. The song doesn't include guitar and drums. The song spans around 77 bars.\n",
      "Response does not contain required substring for attribute: S2_0, response: The beat of this song is moderate. The song begins dark and eventually brightens up. This song maintains a bright feeling from start to finish. The song doesn't match The Beatles's usual sound.\n",
      "Response does not contain required substring for attribute: TM1_1, response: The song has a slow tempo. This song lasts for 150 seconds. The beat of this song is moderate. This music is composed in the key of A minor. This song has a very calming beat.\n",
      "Response does not contain required substring for attribute: S2_0, response: The song has a moderate tempo. The song starts off bright but then turns dark. The beat of this song is very strong. This song carries a gloomy vibe from beginning to end. The song doesn't match Beyonce's usual sound.\n",
      "Response does not contain required substring for attribute: K1_1, response: This music is composed in the key of A minor. The music resembles the style of Beyonce. The beat of this song is very strong. This music is perfect for dancing. This music isn't suited for dancing.\n",
      "Response does not contain required substring for attribute: TS1_1, response: The song has a slow tempo. This song maintains a bright feeling from start to finish. This music isn't suited for dancing. The music is in 3/4 time signature. The music evokes excitement in the listener.\n",
      "Response does not contain required substring for attribute: I1_0, response: The song doesn't include guitar and drums. The song has a slow tempo. This song has a very calming beat. The music evokes excitement in the listener. The song begins dark and eventually brightens up.\n",
      "Response does not contain required substring for attribute: I1_1, response: The song has a fast tempo. The beat of this song is very strong. The music features guitar and drums. The song falls under the rock genre.\n",
      "Response does not contain required substring for attribute: I1_1, response: The music features guitar and drums. This song carries a gloomy vibe from beginning to end. The music is in 6/8 time signature. The beat of this song is very strong.\n",
      "Response does not contain required substring for attribute: I1_1, response: The music features guitar and drums. The song spans around 69 bars. This song has a very calming beat. The beat of this song is moderate. The song doesn't match Beyonce's usual sound.\n",
      "Response does not contain required substring for attribute: TS1_1, response: The music is in 3/4 time signature. This music isn't suited for dancing. The song begins dark and eventually brightens up.\n",
      "Response does not contain required substring for attribute: S4_1, response: The song falls under the jazz genre. Its pitch range covers 4 octaves. This music isn't suited for dancing. The song doesn't include guitar and drums.\n",
      "Response does not contain required substring for attribute: I1_1, response: The beat of this song is very strong. The music features guitar and drums. This song lasts for 294 seconds.\n",
      "Response does not contain required substring for attribute: B1_1, response: The song spans around 70 bars. This song lasts for 228 seconds. The song doesn't fit the typical classical style.\n",
      "Response does not contain required substring for attribute: S4_0, response: This music isn't suited for dancing. This song carries a gloomy vibe from beginning to end. The song doesn't fit the typical jazz style.\n",
      "Response does not contain required substring for attribute: I1_1, response: This song maintains a bright feeling from start to finish. The music features guitar and drums. The music resembles the style of Beyonce. The song doesn't include guitar and drums.\n",
      "Response does not contain required substring for attribute: B1_1, response: The song spans around 62 bars. The song uses an uncommon time signature. The beat of this song is very strong. The beat of this song is moderate. The song has a slow tempo.\n",
      "Response does not contain required substring for attribute: I1_1, response: The music features guitar and drums. The beat of this song is moderate. This music is composed in the key of G major.\n",
      "Response does not contain required substring for attribute: B1_1, response: The song spans around 63 bars. Its pitch range covers 3 octaves. This song has a very calming beat. This song lasts for 150 seconds. The song uses an uncommon time signature.\n",
      "Response does not contain required substring for attribute: K1_1, response: This music is composed in the key of A minor. The music is in 6/8 time signature. This song maintains a bright feeling from start to finish.\n",
      "Response does not contain required substring for attribute: S2_0, response: The song doesn't match Beyonce's usual sound. The music resembles the style of Beyonce. This song has a very calming beat.\n",
      "Response does not contain required substring for attribute: TS1_1, response: The song begins dark and eventually brightens up. The music is in 6/8 time signature. The music evokes excitement in the listener. The beat of this song is very strong. The music features guitar and drums.\n",
      "Response does not contain required substring for attribute: TM1_1, response: This song maintains a bright feeling from start to finish. This song lasts for 260 seconds. The music is in 6/8 time signature. The song has a slow tempo.\n",
      "Response does not contain required substring for attribute: I1_1, response: The music features guitar and drums. The music evokes sadness in the listener. This music is perfect for dancing. The beat of this song is moderate.\n",
      "Response does not contain required substring for attribute: I1_1, response: This song maintains a bright feeling from start to finish. The song starts off bright but then turns dark. The song has a moderate tempo. The music features guitar and drums. The song uses an uncommon time signature.\n",
      "Response does not contain required substring for attribute: P4_1, response: Its pitch range covers 4 octaves. The song doesn't include guitar and drums. The song has a slow tempo. The song uses an uncommon time signature. This music is perfect for dancing.\n",
      "Response does not contain required substring for attribute: P4_1, response: The beat of this song is moderate. Its pitch range covers 3 octaves. This music isn't suited for dancing. The song doesn't include guitar and drums. The song begins dark and eventually brightens up.\n",
      "Response does not contain required substring for attribute: K1_1, response: This music is composed in the key of C major. The beat of this song is very strong. This song has a very calming beat. The music resembles the style of The Beatles.\n",
      "Response does not contain required substring for attribute: EM1_1, response: The music evokes sadness in the listener. The song has a fast tempo. The beat of this song is moderate.\n",
      "Response does not contain required substring for attribute: S2_1, response: The music resembles the style of The Beatles. This song has a very calming beat. The song uses an uncommon time signature. This music is composed in the key of C major.\n",
      "Response does not contain required substring for attribute: I1_0, response: The song begins dark and eventually brightens up. The song doesn't include guitar and drums. The music features guitar and drums. The music resembles the style of Mozart.\n",
      "Response does not contain required substring for attribute: K1_1, response: The song has a slow tempo. This music is composed in the key of C major. The music features guitar and drums. This song maintains a bright feeling from start to finish.\n",
      "Response does not contain required substring for attribute: S4_0, response: The song doesn't fit the typical pop style. The music is in 3/4 time signature. The song starts off bright but then turns dark. The song doesn't match Beyonce's usual sound.\n",
      "Response does not contain required substring for attribute: B1_1, response: The song has a slow tempo. The song spans around 59 bars. The song doesn't include guitar and drums. The song uses an uncommon time signature. The beat of this song is moderate.\n",
      "Response does not contain required substring for attribute: B1_1, response: The song spans around 83 bars. The song doesn't fit the typical pop style. The music evokes happiness in the listener. The song falls under the pop genre.\n",
      "Response does not contain required substring for attribute: S4_1, response: The beat of this song is moderate. The song falls under the rock genre. Its pitch range covers 3 octaves. This song carries a gloomy vibe from beginning to end. The song has a slow tempo.\n",
      "Response does not contain required substring for attribute: K1_1, response: This music is composed in the key of C major. This song maintains a bright feeling from start to finish. The song doesn't match Mozart's usual sound. The song begins dark and eventually brightens up. The song has a fast tempo.\n",
      "Response does not contain required substring for attribute: S2_0, response: The song begins dark and eventually brightens up. The song doesn't match Beyonce's usual sound. This song carries a gloomy vibe from beginning to end. The song has a moderate tempo.\n",
      "Response does not contain required substring for attribute: S2_1, response: The music resembles the style of Beyonce. The song has a slow tempo. The music evokes sadness in the listener.\n",
      "Response does not contain required substring for attribute: TS1_1, response: The music is in 6/8 time signature. The song uses an uncommon time signature. The beat of this song is very strong.\n",
      "Response does not contain required substring for attribute: I1_1, response: This song has a very calming beat. The music features guitar and drums. The song begins dark and eventually brightens up.\n",
      "Response does not contain required substring for attribute: I1_0, response: The song starts off bright but then turns dark. This song has a very calming beat. The song doesn't include guitar and drums. This song maintains a bright feeling from start to finish.\n",
      "Response does not contain required substring for attribute: S4_0, response: The song doesn't fit the typical pop style. The song spans around 84 bars. The song has a fast tempo.\n",
      "Response does not contain required substring for attribute: I1_0, response: This song carries a gloomy vibe from beginning to end. The song doesn't include guitar and drums. The beat of this song is moderate. The song spans around 94 bars.\n",
      "Response does not contain required substring for attribute: S2_0, response: The song doesn't match Beyonce's usual sound. The song uses an uncommon time signature. This music isn't suited for dancing.\n",
      "Response does not contain required substring for attribute: S4_0, response: The song uses an uncommon time signature. The song doesn't fit the typical rock style. This song has a very calming beat. Its pitch range covers 5 octaves.\n",
      "Response does not contain required substring for attribute: B1_1, response: The song starts off bright but then turns dark. This music isn't suited for dancing. The song spans around 55 bars.\n",
      "Response does not contain required substring for attribute: I1_0, response: The song doesn't include guitar and drums. The song has a moderate tempo. This music is perfect for dancing. The song starts off bright but then turns dark.\n",
      "Response does not contain required substring for attribute: EM1_1, response: The music evokes excitement in the listener. The song doesn't match Beyonce's usual sound. The song has a moderate tempo. The song starts off bright but then turns dark. The song begins dark and eventually brightens up.\n",
      "Response does not contain required substring for attribute: K1_1, response: This music is composed in the key of C major. Its pitch range covers 5 octaves. The song has a moderate tempo. The song starts off bright but then turns dark. The song has a slow tempo.\n",
      "Response does not contain required substring for attribute: TS1_1, response: The music is in 6/8 time signature. The song uses an uncommon time signature. This song has a very calming beat. The song has a moderate tempo.\n",
      "Response does not contain required substring for attribute: B1_1, response: The beat of this song is very strong. The song starts off bright but then turns dark. The beat of this song is moderate. The song spans around 94 bars.\n",
      "Response does not contain required substring for attribute: I1_1, response: The beat of this song is moderate. This song has a very calming beat. The music features guitar and drums. The song has a moderate tempo. The song starts off bright but then turns dark.\n",
      "Response does not contain required substring for attribute: S4_1, response: The song falls under the pop genre. The song spans around 65 bars. The song doesn't fit the typical pop style. The music is in 4/4 time signature. The song has a slow tempo.\n",
      "Response does not contain required substring for attribute: S2_1, response: The song starts off bright but then turns dark. The music resembles the style of Beyonce. The music evokes sadness in the listener.\n",
      "Response does not contain required substring for attribute: I1_1, response: The beat of this song is very strong. The song uses an uncommon time signature. The music features guitar and drums. The song doesn't include guitar and drums.\n",
      "Response does not contain required substring for attribute: K1_1, response: This music is perfect for dancing. This music is composed in the key of C major. This music isn't suited for dancing. This song maintains a bright feeling from start to finish. The song doesn't fit the typical rock style.\n",
      "Response does not contain required substring for attribute: S2_1, response: The music resembles the style of Mozart. The beat of this song is moderate. Its pitch range covers 3 octaves. The music features guitar and drums. The song falls under the rock genre.\n",
      "Response does not contain required substring for attribute: B1_1, response: The song has a moderate tempo. The song spans around 84 bars. The song doesn't fit the typical classical style. The song uses an uncommon time signature. This song maintains a bright feeling from start to finish.\n",
      "Response does not contain required substring for attribute: S2_1, response: The music resembles the style of The Beatles. The song falls under the pop genre. The song doesn't include guitar and drums. The song has a fast tempo.\n",
      "Response does not contain required substring for attribute: S4_0, response: The song uses an uncommon time signature. The song doesn't fit the typical jazz style. This music is perfect for dancing.\n",
      "Response does not contain required substring for attribute: S2_1, response: The music resembles the style of The Beatles. The music features guitar and drums. The song begins dark and eventually brightens up.\n",
      "Response does not contain required substring for attribute: I1_1, response: The music features guitar and drums. This song carries a gloomy vibe from beginning to end. The song has a slow tempo.\n",
      "Response does not contain required substring for attribute: K1_1, response: This music is composed in the key of G major. The song doesn't match Mozart's usual sound. The song uses an uncommon time signature. The song starts off bright but then turns dark.\n",
      "Response does not contain required substring for attribute: K1_1, response: The beat of this song is very strong. This music is composed in the key of A minor. The song doesn't include guitar and drums. This song lasts for 229 seconds.\n",
      "Response does not contain required substring for attribute: I1_0, response: This song maintains a bright feeling from start to finish. This music isn't suited for dancing. The song begins dark and eventually brightens up. The song doesn't include guitar and drums. The song uses an uncommon time signature.\n",
      "Response does not contain required substring for attribute: I1_1, response: The music features guitar and drums. The music evokes excitement in the listener. The song has a fast tempo.\n",
      "Response does not contain required substring for attribute: S4_0, response: The song doesn't fit the typical rock style. The song uses an uncommon time signature. The music is in 3/4 time signature.\n",
      "Response does not contain required substring for attribute: P4_1, response: This song maintains a bright feeling from start to finish. The song begins dark and eventually brightens up. Its pitch range covers 4 octaves.\n",
      "Response does not contain required substring for attribute: TM1_1, response: The song uses an uncommon time signature. This song lasts for 178 seconds. The song has a fast tempo. This song carries a gloomy vibe from beginning to end. This song maintains a bright feeling from start to finish.\n",
      "Response does not contain required substring for attribute: S2_1, response: The music resembles the style of Mozart. This music is composed in the key of C major. This song lasts for 241 seconds. This song has a very calming beat. This music isn't suited for dancing.\n",
      "Response does not contain required substring for attribute: I1_0, response: The song begins dark and eventually brightens up. The song has a moderate tempo. The song doesn't include guitar and drums.\n",
      "Response does not contain required substring for attribute: TM1_1, response: This song lasts for 271 seconds. The song uses an uncommon time signature. The beat of this song is very strong. The music evokes sadness in the listener.\n",
      "Response does not contain required substring for attribute: S2_0, response: This song maintains a bright feeling from start to finish. The song has a slow tempo. The song doesn't match The Beatles's usual sound. The music features guitar and drums. The beat of this song is moderate.\n",
      "Response does not contain required substring for attribute: S2_0, response: This song maintains a bright feeling from start to finish. The song doesn't match The Beatles's usual sound. Its pitch range covers 3 octaves. This song lasts for 170 seconds.\n",
      "Response does not contain required substring for attribute: I1_1, response: The music features guitar and drums. This song carries a gloomy vibe from beginning to end. The song falls under the pop genre.\n",
      "Response does not contain required substring for attribute: S2_0, response: The song doesn't match The Beatles's usual sound. This music is composed in the key of A minor. The music resembles the style of The Beatles.\n",
      "Response does not contain required substring for attribute: B1_1, response: The song spans around 53 bars. The song has a fast tempo. The song starts off bright but then turns dark. The beat of this song is very strong.\n",
      "Response does not contain required substring for attribute: S4_1, response: The song falls under the rock genre. The music features guitar and drums. The song begins dark and eventually brightens up. The beat of this song is moderate.\n",
      "Response does not contain required substring for attribute: S2_0, response: This music isn't suited for dancing. The song doesn't match Beyonce's usual sound. The song has a moderate tempo. This song has a very calming beat. The song doesn't include guitar and drums.\n",
      "Response does not contain required substring for attribute: P4_1, response: This song carries a gloomy vibe from beginning to end. Its pitch range covers 2 octaves. The music evokes happiness in the listener. This song lasts for 174 seconds.\n",
      "Response does not contain required substring for attribute: I1_0, response: The song starts off bright but then turns dark. The beat of this song is moderate. The song doesn't include guitar and drums. The song doesn't fit the typical rock style.\n",
      "Response does not contain required substring for attribute: S4_0, response: The song doesn't fit the typical pop style. The music resembles the style of Beyonce. The beat of this song is moderate. The song falls under the pop genre. This music is perfect for dancing.\n",
      "Response does not contain required substring for attribute: I1_1, response: The music features guitar and drums. The song falls under the rock genre. This song lasts for 144 seconds. This song has a very calming beat.\n",
      "Response does not contain required substring for attribute: TS1_1, response: The music is in 4/4 time signature. This song lasts for 265 seconds. This music is composed in the key of A minor. This music isn't suited for dancing. This song maintains a bright feeling from start to finish.\n",
      "Response does not contain required substring for attribute: I1_0, response: The song starts off bright but then turns dark. The song doesn't include guitar and drums. The song has a moderate tempo.\n",
      "Response does not contain required substring for attribute: C1_1, response: The track has a melancholic mood from start to end. This track is in the key of [KEY]. This track is [TM1] seconds long. The beat of this track is very soothing.\n",
      "Response does not contain required substring for attribute: C1_1, response: This track doesn't align with the [GENRE] genre. The track has a melancholic mood from start to end. This track has a very powerful beat. This track has a medium pace.\n",
      "Response does not contain required substring for attribute: C1_1, response: The track has a melancholic mood from start to end. This track has approximately [NUM_BARS] bars. This track has a medium pace. This track belongs to the [GENRE] genre.\n",
      "Response does not contain required substring for attribute: C1_1, response: The track has a melancholic mood from start to end. The range of its pitch spans [RANGE] octaves. This track lacks [INSTRUMENTS]. This track has a very powerful beat.\n",
      "Response does not contain required substring for attribute: C1_1, response: This track sounds like [ARTIST]'s style. This track has a very powerful beat. This track is in the key of [KEY]. The track has a melancholic mood from start to end. This track lacks [INSTRUMENTS].\n",
      "Response does not contain required substring for attribute: C1_1, response: This track has a moderate beat. This track has approximately [NUM_BARS] bars. This track is in [TIME_SIGNATURE] time signature. This track is in the key of [KEY]. The track has a melancholic mood from start to end.\n",
      "Response does not contain required substring for attribute: C1_1, response: This track is in the key of [KEY]. This track has a moderate beat. The track has a melancholic mood from start to end. This track has a rare time signature. This track belongs to the [GENRE] genre.\n",
      "Response does not contain required substring for attribute: C1_1, response: The track has a melancholic mood from start to end. This track is [TM1] seconds long. This track belongs to the [GENRE] genre. This track is in the key of [KEY]. This track has a slow beat.\n",
      "Response does not contain required substring for attribute: C1_1, response: The range of its pitch spans [RANGE] octaves. This track has a moderate beat. This track sounds like [ARTIST]'s style. The track has a melancholic mood from start to end. This track is in [TIME_SIGNATURE] time signature.\n",
      "Response does not contain required substring for attribute: C1_1, response: This track has a rare time signature. The track has a melancholic mood from start to end. This track has a moderate beat. This track brings out [EMOTION] in the listener. This track is in the key of [KEY].\n",
      "Response does not contain required substring for attribute: C1_1, response: This track is in the key of [KEY]. The track keeps a cheerful tone throughout. This track has a medium pace. This track belongs to the [GENRE] genre. The track has a melancholic mood from start to end.\n",
      "Response does not contain required substring for attribute: C1_1, response: This track is different from [ARTIST]'s typical sound. This track is ideal for dancing. This track brings out [EMOTION] in the listener. The track has a melancholic mood from start to end.\n",
      "Response does not contain required substring for attribute: C1_1, response: This track includes [INSTRUMENTS]. The track has a melancholic mood from start to end. This track is different from [ARTIST]'s typical sound. This track has a very powerful beat.\n",
      "Response does not contain required substring for attribute: C1_1, response: This track brings out [EMOTION] in the listener. This track has a medium pace. The track has a melancholic mood from start to end.\n",
      "Response does not contain required substring for attribute: C1_1, response: This track is in [TIME_SIGNATURE] time signature. This track has a quick tempo. The track has a melancholic mood from start to end.\n",
      "Response does not contain required substring for attribute: C1_1, response: This track is in [TIME_SIGNATURE] time signature. This track doesn't align with the [GENRE] genre. This track has a slow beat. The track has a melancholic mood from start to end. This track is [TM1] seconds long.\n",
      "Response does not contain required substring for attribute: C1_1, response: The track has a melancholic mood from start to end. This track isn't great for dancing. This track sounds like [ARTIST]'s style. This track brings out [EMOTION] in the listener. This track has a medium pace.\n",
      "Response does not contain required substring for attribute: C1_1, response: The track has a melancholic mood from start to end. This track lacks [INSTRUMENTS]. This track has a medium pace.\n",
      "Response does not contain required substring for attribute: C1_1, response: This track has a quick tempo. The track has a melancholic mood from start to end. This track is in the key of [KEY]. This track is in [TIME_SIGNATURE] time signature.\n",
      "Response does not contain required substring for attribute: C1_1, response: This track has a medium pace. This track lacks [INSTRUMENTS]. The track has a melancholic mood from start to end.\n",
      "Response does not contain required substring for attribute: C1_1, response: This track has a medium pace. This track has a quick tempo. The track has a melancholic mood from start to end.\n",
      "Response does not contain required substring for attribute: C1_1, response: This track has a quick tempo. This track has approximately [NUM_BARS] bars. The track has a melancholic mood from start to end.\n",
      "Response does not contain required substring for attribute: C1_1, response: This track is in [TIME_SIGNATURE] time signature. This track has a rare time signature. The track has a melancholic mood from start to end.\n",
      "Response does not contain required substring for attribute: C1_1, response: This track has a moderate beat. The track has a melancholic mood from start to end. This track brings out [EMOTION] in the listener. This track is in the key of [KEY].\n",
      "Response does not contain required substring for attribute: C1_1, response: This track is different from [ARTIST]'s typical sound. The track has a melancholic mood from start to end. This track has a moderate beat.\n",
      "Response does not contain required substring for attribute: C1_1, response: This track isn't great for dancing. The track has a melancholic mood from start to end. This track has a rare time signature. This track has a very powerful beat.\n",
      "Response does not contain required substring for attribute: C1_1, response: This track is ideal for dancing. This track is different from [ARTIST]'s typical sound. The track has a melancholic mood from start to end. This track has a very powerful beat.\n",
      "Response does not contain required substring for attribute: C1_1, response: This track is [TM1] seconds long. This track sounds like [ARTIST]'s style. The track has a melancholic mood from start to end. The track keeps a cheerful tone throughout.\n",
      "Response does not contain required substring for attribute: C1_1, response: This track has a quick tempo. This track has a very powerful beat. This track has a rare time signature. This track isn't great for dancing. The track has a melancholic mood from start to end.\n",
      "Response does not contain required substring for attribute: C1_1, response: This track brings out [EMOTION] in the listener. The track has a melancholic mood from start to end. This track is in the key of [KEY]. This track is [TM1] seconds long.\n",
      "Response does not contain required substring for attribute: C1_1, response: The beat of this track is very soothing. The track has a melancholic mood from start to end. The range of its pitch spans [RANGE] octaves.\n",
      "Response does not contain required substring for attribute: C1_1, response: This track isn't great for dancing. This track is in [TIME_SIGNATURE] time signature. This track has approximately [NUM_BARS] bars. The track has a melancholic mood from start to end.\n",
      "Response does not contain required substring for attribute: C1_1, response: The track has a melancholic mood from start to end. This track includes [INSTRUMENTS]. This track isn't great for dancing.\n",
      "Response does not contain required substring for attribute: C1_1, response: This track has a very powerful beat. This track is ideal for dancing. The track has a melancholic mood from start to end.\n",
      "Response does not contain required substring for attribute: C1_1, response: This track has a medium pace. The track has a melancholic mood from start to end. This track is in the key of [KEY].\n",
      "Response does not contain required substring for attribute: C1_1, response: The track has a melancholic mood from start to end. This track has a medium pace. This track has approximately [NUM_BARS] bars. This track sounds like [ARTIST]'s style. This track is in the key of [KEY].\n",
      "Response does not contain required substring for attribute: C1_1, response: This track has a rare time signature. This track includes [INSTRUMENTS]. This track has a medium pace. The track has a melancholic mood from start to end. This track belongs to the [GENRE] genre.\n",
      "Response does not contain required substring for attribute: C1_1, response: The track has a melancholic mood from start to end. This track has approximately [NUM_BARS] bars. This track brings out [EMOTION] in the listener. This track has a very powerful beat.\n",
      "Response does not contain required substring for attribute: C1_1, response: The track has a melancholic mood from start to end. This track has a medium pace. This track lacks [INSTRUMENTS]. This track includes [INSTRUMENTS].\n",
      "Response does not contain required substring for attribute: C1_1, response: This track has a moderate beat. The track has a melancholic mood from start to end. This track has a slow beat. This track isn't great for dancing.\n",
      "Response does not contain required substring for attribute: C1_1, response: The track has a melancholic mood from start to end. The range of its pitch spans [RANGE] octaves. This track has a quick tempo. This track doesn't align with the [GENRE] genre.\n",
      "Response does not contain required substring for attribute: C1_1, response: This track brings out [EMOTION] in the listener. The track has a melancholic mood from start to end. The track keeps a cheerful tone throughout. This track doesn't align with the [GENRE] genre.\n",
      "Response does not contain required substring for attribute: C1_1, response: This track is ideal for dancing. The track has a melancholic mood from start to end. This track includes [INSTRUMENTS]. This track has a moderate beat. This track is [TM1] seconds long.\n",
      "Response does not contain required substring for attribute: C1_1, response: The track has a melancholic mood from start to end. This track has a quick tempo. This track is in [TIME_SIGNATURE] time signature. This track has a rare time signature. This track is ideal for dancing.\n",
      "Response does not contain required substring for attribute: C1_1, response: This track has a moderate beat. This track is in the key of [KEY]. This track has a medium pace. The track has a melancholic mood from start to end.\n",
      "Response does not contain required substring for attribute: C1_1, response: The track has a melancholic mood from start to end. The track keeps a cheerful tone throughout. This track has a rare time signature.\n",
      "Response does not contain required substring for attribute: C1_1, response: This track is in [TIME_SIGNATURE] time signature. The track keeps a cheerful tone throughout. This track is [TM1] seconds long. The track has a melancholic mood from start to end. This track doesn't align with the [GENRE] genre.\n",
      "Response does not contain required substring for attribute: C1_1, response: This track has a quick tempo. The track has a melancholic mood from start to end. This track has a very powerful beat.\n",
      "Response does not contain required substring for attribute: C1_1, response: This track is [TM1] seconds long. The track has a melancholic mood from start to end. This track isn't great for dancing.\n",
      "Response does not contain required substring for attribute: C1_1, response: This track has a quick tempo. This track has a rare time signature. This track isn't great for dancing. The range of its pitch spans [RANGE] octaves. The track has a melancholic mood from start to end.\n",
      "Response does not contain required substring for attribute: C1_1, response: The track has a melancholic mood from start to end. This track has a moderate beat. This track is in [TIME_SIGNATURE] time signature.\n",
      "Response does not contain required substring for attribute: C1_1, response: The track has a melancholic mood from start to end. This track has a rare time signature. This track has approximately [NUM_BARS] bars. The range of its pitch spans [RANGE] octaves.\n",
      "Response does not contain required substring for attribute: C1_1, response: This track is in the key of [KEY]. The beat of this track is very soothing. This track lacks [INSTRUMENTS]. The track has a melancholic mood from start to end.\n",
      "Response does not contain required substring for attribute: C1_1, response: This track is in [TIME_SIGNATURE] time signature. This track is different from [ARTIST]'s typical sound. The track has a melancholic mood from start to end. This track belongs to the [GENRE] genre.\n",
      "Response does not contain required substring for attribute: C1_1, response: The track has a melancholic mood from start to end. This track is in the key of [KEY]. This track has a medium pace.\n",
      "Response does not contain required substring for attribute: C1_1, response: This track has a rare time signature. This track has approximately [NUM_BARS] bars. The track has a melancholic mood from start to end.\n",
      "Response does not contain required substring for attribute: C1_1, response: The track has a melancholic mood from start to end. This track is in [TIME_SIGNATURE] time signature. This track has a rare time signature. This track has a quick tempo. The track keeps a cheerful tone throughout.\n",
      "Response does not contain required substring for attribute: C1_1, response: This track is in the key of [KEY]. This track is in [TIME_SIGNATURE] time signature. The track has a melancholic mood from start to end. The beat of this track is very soothing. This track has a quick tempo.\n",
      "Response does not contain required substring for attribute: C1_1, response: This track has a rare time signature. This track has a very powerful beat. The track has a melancholic mood from start to end.\n",
      "Response does not contain required substring for attribute: C1_1, response: This track lacks [INSTRUMENTS]. The range of its pitch spans [RANGE] octaves. The track has a melancholic mood from start to end. This track brings out [EMOTION] in the listener. This track includes [INSTRUMENTS].\n",
      "Response does not contain required substring for attribute: C1_1, response: This track doesn't align with the [GENRE] genre. This track belongs to the [GENRE] genre. This track includes [INSTRUMENTS]. The track has a melancholic mood from start to end. This track isn't great for dancing.\n",
      "Response does not contain required substring for attribute: C1_1, response: This track isn't great for dancing. This track doesn't align with the [GENRE] genre. The track has a melancholic mood from start to end. This track includes [INSTRUMENTS]. The track keeps a cheerful tone throughout.\n",
      "Response does not contain required substring for attribute: C1_1, response: The beat of this track is very soothing. The track has a melancholic mood from start to end. This track sounds like [ARTIST]'s style.\n",
      "Response does not contain required substring for attribute: C1_1, response: This track is in the key of [KEY]. This track has a very powerful beat. This track has a quick tempo. The track has a melancholic mood from start to end.\n",
      "Response does not contain required substring for attribute: C1_1, response: This track is different from [ARTIST]'s typical sound. This track is in [TIME_SIGNATURE] time signature. The track has a melancholic mood from start to end.\n",
      "Response does not contain required substring for attribute: C1_1, response: This track is different from [ARTIST]'s typical sound. This track includes [INSTRUMENTS]. The track has a melancholic mood from start to end.\n",
      "Response does not contain required substring for attribute: C1_1, response: This track has a rare time signature. The track has a melancholic mood from start to end. The beat of this track is very soothing.\n",
      "Response does not contain required substring for attribute: C1_1, response: This track has a rare time signature. The track has a melancholic mood from start to end. This track sounds like [ARTIST]'s style. This track is in the key of [KEY]. The track keeps a cheerful tone throughout.\n",
      "Response does not contain required substring for attribute: C1_1, response: This track brings out [EMOTION] in the listener. The track has a melancholic mood from start to end. This track has a quick tempo.\n",
      "Response does not contain required substring for attribute: C1_1, response: The track has a melancholic mood from start to end. This track is in [TIME_SIGNATURE] time signature. This track is in the key of [KEY]. This track is [TM1] seconds long.\n",
      "Response does not contain required substring for attribute: C1_1, response: This track has a very powerful beat. This track has a quick tempo. This track is in [TIME_SIGNATURE] time signature. The track has a melancholic mood from start to end. The beat of this track is very soothing.\n",
      "Response does not contain required substring for attribute: C1_1, response: This track includes [INSTRUMENTS]. The range of its pitch spans [RANGE] octaves. The track has a melancholic mood from start to end.\n",
      "Response does not contain required substring for attribute: C1_1, response: This track doesn't align with the [GENRE] genre. This track has a slow beat. The range of its pitch spans [RANGE] octaves. The track has a melancholic mood from start to end. This track is in [TIME_SIGNATURE] time signature.\n",
      "Response does not contain required substring for attribute: C1_1, response: This track has a moderate beat. The track has a melancholic mood from start to end. This track is in the key of [KEY]. This track has a quick tempo.\n",
      "Response does not contain required substring for attribute: C1_1, response: The track has a melancholic mood from start to end. The range of its pitch spans [RANGE] octaves. This track belongs to the [GENRE] genre. This track includes [INSTRUMENTS].\n",
      "Response does not contain required substring for attribute: C1_1, response: This track has approximately [NUM_BARS] bars. This track is ideal for dancing. The track has a melancholic mood from start to end. This track brings out [EMOTION] in the listener.\n",
      "Response does not contain required substring for attribute: C1_1, response: The beat of this track is very soothing. This track includes [INSTRUMENTS]. The track has a melancholic mood from start to end. This track is in [TIME_SIGNATURE] time signature. This track brings out [EMOTION] in the listener.\n",
      "Response does not contain required substring for attribute: C1_1, response: This track belongs to the [GENRE] genre. The range of its pitch spans [RANGE] octaves. This track sounds like [ARTIST]'s style. This track is ideal for dancing. The track has a melancholic mood from start to end.\n",
      "Response does not contain required substring for attribute: C1_1, response: This track has a rare time signature. The track has a melancholic mood from start to end. The track keeps a cheerful tone throughout. This track has a quick tempo. This track has a very powerful beat.\n",
      "Response does not contain required substring for attribute: C1_1, response: The track keeps a cheerful tone throughout. This track has approximately [NUM_BARS] bars. This track doesn't align with the [GENRE] genre. The track has a melancholic mood from start to end. This track has a medium pace.\n",
      "Response does not contain required substring for attribute: C1_1, response: This track has approximately [NUM_BARS] bars. The range of its pitch spans [RANGE] octaves. This track doesn't align with the [GENRE] genre. This track has a quick tempo. The track has a melancholic mood from start to end.\n",
      "Response does not contain required substring for attribute: C1_1, response: This track has a very powerful beat. This track is in the key of [KEY]. This track isn't great for dancing. The track has a melancholic mood from start to end.\n",
      "Response does not contain required substring for attribute: C1_1, response: This track includes [INSTRUMENTS]. This track has a very powerful beat. The track has a melancholic mood from start to end.\n",
      "Response does not contain required substring for attribute: C1_1, response: This track is in the key of [KEY]. This track sounds like [ARTIST]'s style. The track has a melancholic mood from start to end. This track lacks [INSTRUMENTS]. This track includes [INSTRUMENTS].\n",
      "Response does not contain required substring for attribute: C1_1, response: This track includes [INSTRUMENTS]. This track lacks [INSTRUMENTS]. This track isn't great for dancing. The track has a melancholic mood from start to end.\n",
      "Response does not contain required substring for attribute: C1_1, response: This track is different from [ARTIST]'s typical sound. This track is [TM1] seconds long. The track has a melancholic mood from start to end.\n",
      "Response does not contain required substring for attribute: C1_1, response: This track isn't great for dancing. This track has a moderate beat. The range of its pitch spans [RANGE] octaves. The track has a melancholic mood from start to end. This track doesn't align with the [GENRE] genre.\n",
      "Response does not contain required substring for attribute: C1_1, response: The track has a melancholic mood from start to end. This track brings out [EMOTION] in the listener. This track is in [TIME_SIGNATURE] time signature. This track lacks [INSTRUMENTS]. This track has a very powerful beat.\n",
      "Response does not contain required substring for attribute: C1_1, response: The track keeps a cheerful tone throughout. This track is in the key of [KEY]. The track has a melancholic mood from start to end.\n",
      "Response does not contain required substring for attribute: C1_1, response: The track has a melancholic mood from start to end. This track is different from [ARTIST]'s typical sound. This track is in the key of [KEY]. The track keeps a cheerful tone throughout. This track is ideal for dancing.\n",
      "Response does not contain required substring for attribute: C1_1, response: This track lacks [INSTRUMENTS]. This track includes [INSTRUMENTS]. The track has a melancholic mood from start to end.\n",
      "Response does not contain required substring for attribute: C1_1, response: This track is [TM1] seconds long. The track has a melancholic mood from start to end. This track sounds like [ARTIST]'s style. This track has a very powerful beat. This track lacks [INSTRUMENTS].\n",
      "Response does not contain required substring for attribute: C1_1, response: This track doesn't align with the [GENRE] genre. This track has a moderate beat. This track has a rare time signature. The track has a melancholic mood from start to end. This track brings out [EMOTION] in the listener.\n",
      "Response does not contain required substring for attribute: C1_1, response: This track is ideal for dancing. This track is [TM1] seconds long. This track has a quick tempo. The track has a melancholic mood from start to end. This track lacks [INSTRUMENTS].\n",
      "Response does not contain required substring for attribute: C1_1, response: This track is in [TIME_SIGNATURE] time signature. This track has a medium pace. This track includes [INSTRUMENTS]. The track has a melancholic mood from start to end. This track is [TM1] seconds long.\n",
      "Response does not contain required substring for attribute: C1_1, response: This track is [TM1] seconds long. The track has a melancholic mood from start to end. The track keeps a cheerful tone throughout. This track has a very powerful beat.\n",
      "Response does not contain required substring for attribute: C1_1, response: This track sounds like [ARTIST]'s style. This track has a rare time signature. This track is ideal for dancing. The track has a melancholic mood from start to end. The range of its pitch spans [RANGE] octaves.\n",
      "Response does not contain required substring for attribute: C1_1, response: The track has a melancholic mood from start to end. The range of its pitch spans [RANGE] octaves. This track is different from [ARTIST]'s typical sound. This track has a rare time signature.\n",
      "Response does not contain required substring for attribute: C1_1, response: This track has a quick tempo. The track has a melancholic mood from start to end. This track is ideal for dancing. This track includes [INSTRUMENTS].\n",
      "Response does not contain required substring for attribute: C1_1, response: This track has a medium pace. The track has a melancholic mood from start to end. This track is in the key of [KEY]. The beat of this track is very soothing.\n",
      "Response does not contain required substring for attribute: C1_1, response: This track is ideal for dancing. The track has a melancholic mood from start to end. This track has a very powerful beat. This track belongs to the [GENRE] genre.\n",
      "Response does not contain required substring for attribute: C1_1, response: The track has a melancholic mood from start to end. This track is in [TIME_SIGNATURE] time signature. This track has a medium pace. This track includes [INSTRUMENTS]. This track brings out [EMOTION] in the listener.\n",
      "Response does not contain required substring for attribute: C1_1, response: This track is in [TIME_SIGNATURE] time signature. The track has a melancholic mood from start to end. This track brings out [EMOTION] in the listener.\n",
      "Response does not contain required substring for attribute: C1_1, response: The track has a melancholic mood from start to end. This track sounds like [ARTIST]'s style. This track belongs to the [GENRE] genre.\n",
      "Response does not contain required substring for attribute: C1_1, response: The track keeps a cheerful tone throughout. The track has a melancholic mood from start to end. This track has a very powerful beat.\n",
      "Response does not contain required substring for attribute: C1_1, response: This track belongs to the [GENRE] genre. The track has a melancholic mood from start to end. This track is ideal for dancing. This track has approximately [NUM_BARS] bars.\n",
      "Response does not contain required substring for attribute: C1_1, response: This track is ideal for dancing. The track has a melancholic mood from start to end. This track has a quick tempo.\n"
     ]
    }
   ],
   "source": [
    "acceptable_templates_file_path = f\"{verified_data_dir}/gpt_acceptable_templates_en.json\"\n",
    "ignored_templates_file_path = f\"{verified_data_dir}/gpt_ignored_templates_en.json\"\n",
    "\n",
    "filtered_gpt_refined_templates = filter_acceptable_gpt_refined_templates(gpt_refined_template)"
   ]
  },
  {
   "cell_type": "code",
   "execution_count": 11,
   "metadata": {},
   "outputs": [
    {
     "name": "stdout",
     "output_type": "stream",
     "text": [
      "Accept 4099 templates\n",
      "Ignore 201 templates\n"
     ]
    }
   ],
   "source": [
    "acceptable_templates = filtered_gpt_refined_templates[\"acceptable_templates\"]\n",
    "print(f\"Accept {len(acceptable_templates)} templates\")\n",
    "\n",
    "ignored_templates = filtered_gpt_refined_templates[\"ignored_templates\"]\n",
    "print(f\"Ignore {len(ignored_templates)} templates\")"
   ]
  },
  {
   "cell_type": "code",
   "execution_count": 12,
   "metadata": {},
   "outputs": [
    {
     "name": "stdout",
     "output_type": "stream",
     "text": [
      "Total acceptable templates with unique responses:  3121\n"
     ]
    }
   ],
   "source": [
    "acceptable_templates_with_unique_responses: list = []\n",
    "\n",
    "already_existing_responses: set = set()\n",
    "\n",
    "for acceptable_template in acceptable_templates:\n",
    "    response = acceptable_template[\"response\"]\n",
    "\n",
    "    if response not in already_existing_responses:\n",
    "        already_existing_responses.add(response)\n",
    "\n",
    "        acceptable_templates_with_unique_responses.append(acceptable_template)\n",
    "\n",
    "acceptable_templates = acceptable_templates_with_unique_responses\n",
    "\n",
    "print(\"Total acceptable templates with unique responses: \", len(acceptable_templates))"
   ]
  },
  {
   "cell_type": "code",
   "execution_count": 13,
   "metadata": {},
   "outputs": [
    {
     "name": "stdout",
     "output_type": "stream",
     "text": [
      "All acceptable templates: 3121\n",
      "File path: /Users/4rr311/Documents/VectorA/KHTN/Nam4/HKII/Thesis/Brainstorming/Text/text_lib/Ideas/augmentation/data/verified/gpt_acceptable_templates_en.json\n"
     ]
    }
   ],
   "source": [
    "with open(acceptable_templates_file_path, \"w\") as f:\n",
    "    json.dump(acceptable_templates, f, indent=4)\n",
    "\n",
    "print(f\"All acceptable templates: {len(acceptable_templates)}\")\n",
    "\n",
    "print(f\"File path: {acceptable_templates_file_path}\")"
   ]
  },
  {
   "cell_type": "code",
   "execution_count": 14,
   "metadata": {},
   "outputs": [
    {
     "name": "stdout",
     "output_type": "stream",
     "text": [
      "All ignored templates: 201\n",
      "File path: /Users/4rr311/Documents/VectorA/KHTN/Nam4/HKII/Thesis/Brainstorming/Text/text_lib/Ideas/augmentation/data/verified/gpt_ignored_templates_en.json\n"
     ]
    }
   ],
   "source": [
    "\n",
    "with open(ignored_templates_file_path, \"w\") as f:\n",
    "    json.dump(ignored_templates, f, indent=4)\n",
    "\n",
    "print(f\"All ignored templates: {len(ignored_templates)}\")\n",
    "\n",
    "print(f\"File path: {ignored_templates_file_path}\")"
   ]
  }
 ],
 "metadata": {
  "kernelspec": {
   "display_name": "Python 3",
   "language": "python",
   "name": "python3"
  },
  "language_info": {
   "codemirror_mode": {
    "name": "ipython",
    "version": 3
   },
   "file_extension": ".py",
   "mimetype": "text/x-python",
   "name": "python",
   "nbconvert_exporter": "python",
   "pygments_lexer": "ipython3",
   "version": "3.10.10"
  }
 },
 "nbformat": 4,
 "nbformat_minor": 2
}
