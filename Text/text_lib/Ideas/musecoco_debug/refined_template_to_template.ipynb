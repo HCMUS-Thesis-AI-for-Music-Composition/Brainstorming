{
 "cells": [
  {
   "cell_type": "code",
   "execution_count": null,
   "metadata": {},
   "outputs": [],
   "source": [
    "refined_template_path = \"/Users/4rr311/Documents/VectorA/KHTN/Nam4/HKII/Thesis/Brainstorming/Text/text_lib/Ideas/musecoco_debug/1-text2attribute_dataprepare/refined_template.json\"\n",
    "new_template_path = \"/Users/4rr311/Documents/VectorA/KHTN/Nam4/HKII/Thesis/Brainstorming/Text/text_lib/Ideas/musecoco_debug/1-text2attribute_dataprepare/new_template.json\""
   ]
  },
  {
   "cell_type": "code",
   "execution_count": null,
   "metadata": {},
   "outputs": [],
   "source": [
    "import json"
   ]
  },
  {
   "cell_type": "code",
   "execution_count": null,
   "metadata": {},
   "outputs": [],
   "source": [
    "refined_template = None\n",
    "\n",
    "with open(refined_template_path, \"r\") as f:\n",
    "    refined_template = json.load(f)"
   ]
  },
  {
   "cell_type": "code",
   "execution_count": null,
   "metadata": {},
   "outputs": [],
   "source": [
    "templates = dict()"
   ]
  },
  {
   "cell_type": "code",
   "execution_count": null,
   "metadata": {},
   "outputs": [],
   "source": [
    "char_to_remove = [\"[\", \"]\", \" \", \"'\", '\"']\n",
    "old_delim = \",\"\n",
    "new_delim = \";\"\n",
    "\n",
    "for t in refined_template:\n",
    "    attributes: str = t[\"attributes\"]\n",
    "    response: str = t[\"response\"]\n",
    "\n",
    "    for ch in char_to_remove:\n",
    "        attributes = attributes.replace(ch, \"\")\n",
    "\n",
    "    attributes = attributes.replace(old_delim, new_delim)\n",
    "\n",
    "    print(attributes)\n",
    "\n",
    "    if attributes not in templates:\n",
    "        templates[attributes] = response\n",
    "    else:\n",
    "        templates[attributes] += new_delim + response\n",
    "\n",
    "for k, v in templates.items():\n",
    "    print(k, v)\n",
    "    print()"
   ]
  },
  {
   "cell_type": "code",
   "execution_count": null,
   "metadata": {},
   "outputs": [],
   "source": [
    "with open(new_template_path, \"w\") as f:\n",
    "    json.dump(templates, f)"
   ]
  }
 ],
 "metadata": {
  "kernelspec": {
   "display_name": "Python 3",
   "language": "python",
   "name": "python3"
  },
  "language_info": {
   "codemirror_mode": {
    "name": "ipython",
    "version": 3
   },
   "file_extension": ".py",
   "mimetype": "text/x-python",
   "name": "python",
   "nbconvert_exporter": "python",
   "pygments_lexer": "ipython3",
   "version": "3.10.10"
  }
 },
 "nbformat": 4,
 "nbformat_minor": 2
}
