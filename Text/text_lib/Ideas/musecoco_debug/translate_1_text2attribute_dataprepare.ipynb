{
  "cells": [
    {
      "cell_type": "code",
      "execution_count": 1,
      "metadata": {
        "id": "CQc5s155CCSo"
      },
      "outputs": [],
      "source": [
        "# from google.colab import drive\n",
        "# drive.mount('/content/drive/')"
      ]
    },
    {
      "cell_type": "code",
      "execution_count": 2,
      "metadata": {
        "id": "eBV4l3h1E5R9"
      },
      "outputs": [],
      "source": [
        "# !ls \"./drive/MyDrive/ThesisData/1-text2attribute_dataprepare/\""
      ]
    },
    {
      "cell_type": "code",
      "execution_count": 3,
      "metadata": {
        "id": "xTG1vkmLcQ1O"
      },
      "outputs": [],
      "source": [
        "# %rm -R \"./1-text2attribute_dataprepare\""
      ]
    },
    {
      "cell_type": "code",
      "execution_count": 4,
      "metadata": {
        "id": "tUxz1zyyFQYt"
      },
      "outputs": [
        {
          "name": "stdout",
          "output_type": "stream",
          "text": [
            "/Users/4rr311/Documents/VectorA/KHTN/Nam4/HKII/Thesis/Brainstorming/Text/text_lib/Ideas/musecoco_debug/1-text2attribute_dataprepare\n"
          ]
        }
      ],
      "source": [
        "# !cp -R \"./drive/MyDrive/ThesisData/1-text2attribute_dataprepare/\" \".\"\n",
        "%cd 1-text2attribute_dataprepare"
      ]
    },
    {
      "cell_type": "code",
      "execution_count": 5,
      "metadata": {
        "id": "kK1wheHrHlh1"
      },
      "outputs": [],
      "source": [
        "# %pwd"
      ]
    },
    {
      "cell_type": "code",
      "execution_count": 6,
      "metadata": {
        "id": "VroTk9AcGwVU"
      },
      "outputs": [],
      "source": [
        "# %ls"
      ]
    },
    {
      "cell_type": "code",
      "execution_count": 7,
      "metadata": {
        "id": "EiXkrnJxQZLA"
      },
      "outputs": [],
      "source": [
        "# %pip install -r requirements.txt"
      ]
    },
    {
      "cell_type": "code",
      "execution_count": 8,
      "metadata": {
        "id": "u40G43tMcDxP"
      },
      "outputs": [],
      "source": [
        "# !pip install miditoolkit"
      ]
    },
    {
      "cell_type": "code",
      "execution_count": 9,
      "metadata": {
        "colab": {
          "base_uri": "https://localhost:8080/"
        },
        "id": "WiysrebqF23f",
        "outputId": "4df84a1b-e19f-4fc1-fe9c-6f0824c1c0cc"
      },
      "outputs": [
        {
          "name": "stdout",
          "output_type": "stream",
          "text": [
            "100%|████████████████████████████████████| 5000/5000 [00:00<00:00, 15529.58it/s]\n",
            "[]\n",
            "0.0\n",
            "Load data...\n",
            "Done\n",
            "100%|█████████████████████████████████████| 5000/5000 [00:00<00:00, 6089.06it/s]\n",
            "100%|█████████████████████████████████████| 5000/5000 [00:01<00:00, 3399.14it/s]\n"
          ]
        }
      ],
      "source": [
        "!bash ./run.sh"
      ]
    },
    {
      "cell_type": "code",
      "execution_count": 13,
      "metadata": {
        "colab": {
          "base_uri": "https://localhost:8080/"
        },
        "id": "JmMeL45vGBOr",
        "outputId": "09aecfd9-c403-43b4-ed03-d0ca62edba6a"
      },
      "outputs": [
        {
          "name": "stdout",
          "output_type": "stream",
          "text": [
            "676: {\"text\": \"Bài hát này là bài hát đồng quê và pop. Bài hát này có nhịp điệu rất mạnh mẽ. Bài hát dài khoảng khoảng 40 giây. Trong đoạn nhạc có piano, organ, bass, tiếng hát và trống. Giọng của bài hát này là major. Bài hát này có khoảng khoảng 14 bar(s). Tốc độ của bài hát này vừa phải. Khoảng cách cao độ giữa nốt có cao độ thấp nhất và nốt có cao độ cao nhất trong đoạn nhạc không vượt quá 5 quãng tám. Bài hát này có nhịp 4/4.\", \"labels\": [[1, 0, 0], [0, 0, 1], [0, 0, 1], [1, 0, 0], [0, 0, 1], [1, 0, 0], [0, 0, 1], [0, 0, 1], [0, 0, 1], [0, 0, 1], [0, 0, 1], [1, 0, 0], [0, 0, 1], [0, 0, 1], [0, 0, 1], [0, 0, 1], [0, 0, 1], [0, 0, 1], [0, 0, 1], [0, 0, 1], [0, 0, 1], [0, 0, 1], [0, 0, 1], [0, 0, 1], [0, 0, 1], [0, 0, 1], [0, 0, 1], [1, 0, 0], [0, 0, 1], [0, 0, 1, 0], [0, 0, 0, 0, 0, 0, 0, 0, 0, 0, 0, 0, 0, 0, 0, 0, 0, 1], [0, 0, 1], [0, 0, 1], [0, 0, 1], [0, 0, 1], [0, 0, 1], [0, 0, 1], [0, 0, 1], [0, 0, 1], [0, 0, 1], [0, 0, 1], [0, 0, 1], [0, 0, 1], [0, 0, 1], [1, 0, 0], [0, 0, 1], [0, 0, 1], [0, 0, 1], [0, 0, 1], [0, 0, 1], [0, 0, 1], [1, 0, 0], [0, 0, 1], [0, 0, 0, 1, 0], [1, 0, 0, 0, 0, 0, 0, 0], [1, 0, 0], [0, 1, 0, 0], [0, 0, 0, 0, 0, 1, 0, 0, 0, 0, 0, 0, 0], [0, 0, 0, 0, 1], [0, 0, 1, 0, 0, 0]]}\n",
            "761: {\"text\": \"Bài hát này có khoảng 9 ~ 12 bar(s) nhạc. Bài hát này truyền tải cảm xúc hân hoan. Bài hát này có độ dài khoảng 16 ~ 30 giây. Bài hát này có nhịp 4/4. Bài hát này được viết ở giọng major. Tốc độ của bài hát này vừa phải. Trong đoạn nhạc có piano và dàn dây xuất hiện. Bài hát này có nhịp điệu vừa phải. Giữa hai nốt bất kỳ trong đoạn nhạc luôn có khoảng cách cao độ không vượt quá 4 quãng tám.\", \"labels\": [[1, 0, 0], [0, 0, 1], [0, 0, 1], [0, 0, 1], [0, 0, 1], [0, 0, 1], [0, 0, 1], [0, 0, 1], [0, 0, 1], [0, 0, 1], [1, 0, 0], [0, 0, 1], [0, 0, 1], [0, 0, 1], [0, 0, 1], [0, 0, 1], [0, 0, 1], [0, 0, 1], [0, 0, 1], [0, 0, 1], [0, 0, 1], [0, 0, 1], [0, 0, 1], [0, 0, 1], [0, 0, 1], [0, 0, 1], [0, 0, 1], [0, 0, 1], [0, 0, 1], [0, 1, 0, 0], [0, 0, 0, 0, 0, 0, 0, 0, 0, 0, 0, 0, 0, 0, 0, 0, 0, 1], [0, 0, 1], [0, 0, 1], [0, 0, 1], [0, 0, 1], [0, 0, 1], [0, 0, 1], [0, 0, 1], [0, 0, 1], [0, 0, 1], [0, 0, 1], [0, 0, 1], [0, 0, 1], [0, 0, 1], [0, 0, 1], [0, 0, 1], [0, 0, 1], [0, 0, 1], [0, 0, 1], [0, 0, 1], [0, 0, 1], [0, 0, 1], [0, 0, 1], [0, 0, 1, 0, 0], [1, 0, 0, 0, 0, 0, 0, 0], [1, 0, 0], [0, 1, 0, 0], [0, 0, 0, 0, 1, 0, 0, 0, 0, 0, 0, 0, 0], [1, 0, 0, 0, 0], [0, 1, 0, 0, 0, 0]]}\n",
            "793: {\"text\": \"Bài hát này có độ dài khoảng khoảng 14 bar(s). Bài hát này có thể loại jazz. Khoảng cách cao độ giữa hai nốt bất kỳ trong đoạn nhạc luôn không vượt quá 4 quãng tám. Nhịp của bài hát này là 4/4. Bài hát này có giọng major. Bài hát này có tốc độ vừa phải. Trong đoạn nhạc có grand piano, guitar, bass, sáo và trống xuất hiện. Bài hát này có độ dài khoảng khoảng 40 giây.\", \"labels\": [[1, 0, 0], [0, 0, 1], [0, 0, 1], [0, 0, 1], [1, 0, 0], [1, 0, 0], [0, 0, 1], [0, 0, 1], [0, 0, 1], [0, 0, 1], [0, 0, 1], [0, 0, 1], [0, 0, 1], [0, 0, 1], [0, 0, 1], [0, 0, 1], [0, 0, 1], [0, 0, 1], [0, 0, 1], [0, 0, 1], [0, 0, 1], [0, 0, 1], [1, 0, 0], [0, 0, 1], [0, 0, 1], [0, 0, 1], [0, 0, 1], [1, 0, 0], [0, 0, 1], [0, 0, 0, 1], [0, 0, 0, 0, 0, 0, 0, 0, 0, 0, 0, 0, 0, 0, 0, 0, 0, 1], [0, 0, 1], [0, 0, 1], [0, 0, 1], [0, 0, 1], [0, 0, 1], [0, 0, 1], [0, 0, 1], [0, 0, 1], [0, 0, 1], [0, 0, 1], [1, 0, 0], [0, 0, 1], [0, 0, 1], [0, 0, 1], [0, 0, 1], [0, 0, 1], [0, 0, 1], [0, 0, 1], [0, 0, 1], [0, 0, 1], [0, 0, 1], [0, 0, 1], [0, 0, 0, 1, 0], [1, 0, 0, 0, 0, 0, 0, 0], [1, 0, 0], [0, 1, 0, 0], [0, 0, 0, 0, 1, 0, 0, 0, 0, 0, 0, 0, 0], [0, 0, 0, 0, 1], [0, 0, 1, 0, 0, 0]]}\n",
            "452: {\"text\": \"Bài hát này có giọng minor. Giữa hai nốt bất kỳ trong đoạn nhạc luôn có khoảng cách cao độ không vượt quá 4 quãng tám. Bài hát này có nhịp điệu khá êm ái. Bài hát này có tốc độ nhanh. Bài hát này dài khoảng 31 ~ 45 giây. Bài hát này có cảm xúc điềm tĩnh. Trong đoạn nhạc có nhạc cụ là grand piano, trống và bass xuất hiện. Bài hát này có nhịp 4/4.\", \"labels\": [[1, 0, 0], [0, 0, 1], [0, 0, 1], [0, 0, 1], [0, 0, 1], [1, 0, 0], [0, 0, 1], [0, 0, 1], [0, 0, 1], [0, 0, 1], [0, 0, 1], [0, 0, 1], [0, 0, 1], [0, 0, 1], [0, 0, 1], [0, 0, 1], [0, 0, 1], [0, 0, 1], [0, 0, 1], [0, 0, 1], [0, 0, 1], [0, 0, 1], [0, 0, 1], [0, 0, 1], [0, 0, 1], [0, 0, 1], [0, 0, 1], [1, 0, 0], [0, 0, 1], [1, 0, 0, 0], [0, 0, 0, 0, 0, 0, 0, 0, 0, 0, 0, 0, 0, 0, 0, 0, 0, 1], [0, 0, 1], [0, 0, 1], [0, 0, 1], [0, 0, 1], [0, 0, 1], [0, 0, 1], [0, 0, 1], [0, 0, 1], [0, 0, 1], [0, 0, 1], [0, 0, 1], [0, 0, 1], [0, 0, 1], [0, 0, 1], [0, 0, 1], [0, 0, 1], [0, 0, 1], [0, 0, 1], [0, 0, 1], [0, 0, 1], [0, 0, 1], [0, 0, 1], [0, 0, 0, 0, 1], [1, 0, 0, 0, 0, 0, 0, 0], [0, 1, 0], [0, 0, 1, 0], [0, 0, 0, 0, 1, 0, 0, 0, 0, 0, 0, 0, 0], [0, 0, 0, 1, 0], [0, 0, 1, 0, 0, 0]]}\n",
            "902: {\"text\": \"Khoảng cách cao độ giữa hai nốt bất kỳ trong đoạn nhạc luôn không vượt quá 4 quãng tám. Bài hát dài khoảng 46 ~ 60 giây. Bài hát này phù hợp với thể loại cổ điển. Nhịp điệu của bài hát này rất mạnh mẽ. Nhịp của bài hát này là 4/4. Có dàn dây và trumpet (một loại kèn thuộc bộ đồng) trong đoạn nhạc. Giọng của bài hát này là major. Bài hát này có tốc độ vừa phải.\", \"labels\": [[0, 0, 1], [0, 0, 1], [0, 0, 1], [0, 0, 1], [0, 0, 1], [0, 0, 1], [0, 0, 1], [0, 0, 1], [0, 0, 1], [0, 0, 1], [1, 0, 0], [0, 0, 1], [1, 0, 0], [0, 0, 1], [0, 0, 1], [0, 0, 1], [0, 0, 1], [0, 0, 1], [0, 0, 1], [0, 0, 1], [0, 0, 1], [0, 0, 1], [0, 0, 1], [0, 0, 1], [0, 0, 1], [0, 0, 1], [0, 0, 1], [0, 0, 1], [0, 0, 1], [0, 0, 1, 0], [0, 0, 0, 0, 0, 0, 0, 0, 0, 0, 0, 0, 0, 0, 0, 0, 0, 1], [0, 0, 1], [0, 0, 1], [0, 0, 1], [0, 0, 1], [0, 0, 1], [0, 0, 1], [0, 0, 1], [0, 0, 1], [0, 0, 1], [0, 0, 1], [0, 0, 1], [1, 0, 0], [0, 0, 1], [0, 0, 1], [0, 0, 1], [0, 0, 1], [0, 0, 1], [0, 0, 1], [0, 0, 1], [0, 0, 1], [0, 0, 1], [0, 0, 1], [0, 0, 0, 0, 1], [1, 0, 0, 0, 0, 0, 0, 0], [1, 0, 0], [0, 1, 0, 0], [0, 0, 0, 0, 1, 0, 0, 0, 0, 0, 0, 0, 0], [0, 0, 0, 0, 1], [0, 0, 0, 1, 0, 0]]}\n",
            "240: {\"text\": \"Giọng của bài hát này là minor. Nhịp của bài hát này là 4/4. Trong đoạn nhạc có nhạc cụ là grand piano và guitar xuất hiện. Bài hát này truyền tải cảm xúc nhiệt tình. Nhịp điệu của bài hát này rất mạnh mẽ.\", \"labels\": [[1, 0, 0], [0, 0, 1], [0, 0, 1], [0, 0, 1], [1, 0, 0], [0, 0, 1], [0, 0, 1], [0, 0, 1], [0, 0, 1], [0, 0, 1], [0, 0, 1], [0, 0, 1], [0, 0, 1], [0, 0, 1], [0, 0, 1], [0, 0, 1], [0, 0, 1], [0, 0, 1], [0, 0, 1], [0, 0, 1], [0, 0, 1], [0, 0, 1], [0, 0, 1], [0, 0, 1], [0, 0, 1], [0, 0, 1], [0, 0, 1], [0, 0, 1], [0, 0, 1], [0, 0, 1, 0], [0, 0, 0, 0, 0, 0, 0, 0, 0, 0, 0, 0, 0, 0, 0, 0, 0, 1], [0, 0, 1], [0, 0, 1], [0, 0, 1], [0, 0, 1], [0, 0, 1], [0, 0, 1], [0, 0, 1], [0, 0, 1], [0, 0, 1], [0, 0, 1], [0, 0, 1], [0, 0, 1], [0, 0, 1], [0, 0, 1], [0, 0, 1], [0, 0, 1], [0, 0, 1], [0, 0, 1], [0, 0, 1], [0, 0, 1], [0, 0, 1], [0, 0, 1], [0, 0, 0, 0, 1], [1, 0, 0, 0, 0, 0, 0, 0], [0, 1, 0], [0, 0, 0, 1], [0, 0, 0, 0, 0, 0, 0, 0, 0, 0, 0, 0, 1], [1, 0, 0, 0, 0], [0, 0, 0, 0, 0, 1]]}\n",
            "756: {\"text\": \"Bài hát này làm người nghe cảm thấy đau lòng. Trong đoạn nhạc có grand piano xuất hiện. Giữa hai nốt bất kỳ trong đoạn nhạc luôn có khoảng cách cao độ không vượt quá 4 quãng tám. Nhịp điệu của bài hát này vừa phải.\", \"labels\": [[1, 0, 0], [0, 0, 1], [0, 0, 1], [0, 0, 1], [0, 0, 1], [0, 0, 1], [0, 0, 1], [0, 0, 1], [0, 0, 1], [0, 0, 1], [0, 0, 1], [0, 0, 1], [0, 0, 1], [0, 0, 1], [0, 0, 1], [0, 0, 1], [0, 0, 1], [0, 0, 1], [0, 0, 1], [0, 0, 1], [0, 0, 1], [0, 0, 1], [0, 0, 1], [0, 0, 1], [0, 0, 1], [0, 0, 1], [0, 0, 1], [0, 0, 1], [0, 0, 1], [0, 1, 0, 0], [0, 0, 0, 0, 0, 0, 0, 0, 0, 0, 0, 0, 0, 0, 0, 0, 0, 1], [0, 0, 1], [0, 0, 1], [0, 0, 1], [0, 0, 1], [0, 0, 1], [0, 0, 1], [0, 0, 1], [0, 0, 1], [0, 0, 1], [0, 0, 1], [0, 0, 1], [0, 0, 1], [0, 0, 1], [0, 0, 1], [0, 0, 1], [0, 0, 1], [0, 0, 1], [0, 0, 1], [0, 0, 1], [0, 0, 1], [0, 0, 1], [0, 0, 1], [0, 0, 0, 0, 1], [0, 0, 0, 0, 0, 0, 0, 1], [0, 0, 1], [0, 0, 0, 1], [0, 0, 0, 0, 1, 0, 0, 0, 0, 0, 0, 0, 0], [0, 0, 1, 0, 0], [0, 0, 0, 0, 0, 1]]}\n",
            "367: {\"text\": \"Bài hát này có nhịp 4/4. Khoảng cách cao độ giữa nốt có cao độ thấp nhất và nốt có cao độ cao nhất trong đoạn nhạc không vượt quá 5 quãng tám. Bài hát này có tốc độ nhanh. Giọng của bài hát này là major. Bài hát này dài khoảng 31 ~ 45 giây. Trong đoạn nhạc có nhạc cụ là grand piano, trống, clarinet (một loại kèn thuộc bộ gỗ) và bass xuất hiện. Bài hát này có thể loại RnB. Nhịp điệu của bài hát này khá mạnh mẽ.\", \"labels\": [[1, 0, 0], [0, 0, 1], [0, 0, 1], [0, 0, 1], [0, 0, 1], [1, 0, 0], [0, 0, 1], [0, 0, 1], [0, 0, 1], [0, 0, 1], [0, 0, 1], [0, 0, 1], [0, 0, 1], [0, 0, 1], [0, 0, 1], [0, 0, 1], [0, 0, 1], [0, 0, 1], [0, 0, 1], [0, 0, 1], [1, 0, 0], [0, 0, 1], [0, 0, 1], [0, 0, 1], [0, 0, 1], [0, 0, 1], [0, 0, 1], [1, 0, 0], [0, 0, 1], [0, 0, 1, 0], [0, 0, 0, 0, 0, 0, 0, 0, 0, 0, 0, 0, 0, 0, 0, 0, 0, 1], [0, 0, 1], [0, 0, 1], [0, 0, 1], [0, 0, 1], [0, 0, 1], [0, 0, 1], [0, 0, 1], [1, 0, 0], [0, 0, 1], [0, 0, 1], [0, 0, 1], [0, 0, 1], [0, 0, 1], [0, 0, 1], [0, 0, 1], [0, 0, 1], [0, 0, 1], [0, 0, 1], [0, 0, 1], [0, 0, 1], [0, 0, 1], [0, 0, 1], [0, 0, 0, 0, 1], [1, 0, 0, 0, 0, 0, 0, 0], [1, 0, 0], [0, 0, 1, 0], [0, 0, 0, 0, 0, 1, 0, 0, 0, 0, 0, 0, 0], [0, 0, 0, 0, 1], [0, 0, 1, 0, 0, 0]]}\n",
            "253: {\"text\": \"Khoảng cách cao độ giữa hai nốt bất kỳ trong đoạn nhạc luôn không vượt quá 5 quãng tám. Bài hát này có độ dài khoảng khoảng 15 bar(s).\", \"labels\": [[0, 0, 1], [0, 0, 1], [0, 0, 1], [0, 0, 1], [0, 0, 1], [0, 0, 1], [0, 0, 1], [0, 0, 1], [0, 0, 1], [0, 0, 1], [0, 0, 1], [0, 0, 1], [0, 0, 1], [0, 0, 1], [0, 0, 1], [0, 0, 1], [0, 0, 1], [0, 0, 1], [0, 0, 1], [0, 0, 1], [0, 0, 1], [0, 0, 1], [0, 0, 1], [0, 0, 1], [0, 0, 1], [0, 0, 1], [0, 0, 1], [0, 0, 1], [0, 0, 1], [0, 0, 0, 1], [0, 0, 0, 0, 0, 0, 0, 0, 0, 0, 0, 0, 0, 0, 0, 0, 0, 1], [0, 0, 1], [0, 0, 1], [0, 0, 1], [0, 0, 1], [0, 0, 1], [0, 0, 1], [0, 0, 1], [0, 0, 1], [0, 0, 1], [0, 0, 1], [0, 0, 1], [0, 0, 1], [0, 0, 1], [0, 0, 1], [0, 0, 1], [0, 0, 1], [0, 0, 1], [0, 0, 1], [0, 0, 1], [0, 0, 1], [0, 0, 1], [0, 0, 1], [0, 0, 0, 1, 0], [0, 0, 0, 0, 0, 0, 0, 1], [0, 0, 1], [0, 0, 0, 1], [0, 0, 0, 0, 0, 1, 0, 0, 0, 0, 0, 0, 0], [0, 0, 0, 0, 1], [0, 0, 0, 0, 0, 1]]}\n",
            "301: {\"text\": \"Bài hát dài khoảng khoảng 10 giây. Bài hát này có nhịp 4/4. Tốc độ của bài hát này nhanh. Bài hát này có giọng minor. Khoảng cách cao độ giữa hai nốt bất kỳ trong đoạn nhạc luôn không vượt quá 6 quãng tám. Bài hát này có khoảng khoảng 7 bar(s) nhạc. Bài hát này làm người nghe cảm thấy lo lắng. Bài hát này có nhịp điệu vừa phải. Có trống, guitar và bass xuất hiện trong đoạn nhạc.\", \"labels\": [[0, 0, 1], [0, 0, 1], [0, 0, 1], [0, 0, 1], [1, 0, 0], [1, 0, 0], [0, 0, 1], [0, 0, 1], [0, 0, 1], [0, 0, 1], [0, 0, 1], [0, 0, 1], [0, 0, 1], [0, 0, 1], [0, 0, 1], [0, 0, 1], [0, 0, 1], [0, 0, 1], [0, 0, 1], [0, 0, 1], [0, 0, 1], [0, 0, 1], [0, 0, 1], [0, 0, 1], [0, 0, 1], [0, 0, 1], [0, 0, 1], [1, 0, 0], [0, 0, 1], [0, 1, 0, 0], [0, 0, 0, 0, 0, 0, 0, 0, 0, 0, 0, 0, 0, 0, 0, 0, 0, 1], [0, 0, 1], [0, 0, 1], [0, 0, 1], [0, 0, 1], [0, 0, 1], [0, 0, 1], [0, 0, 1], [0, 0, 1], [0, 0, 1], [0, 0, 1], [0, 0, 1], [0, 0, 1], [0, 0, 1], [0, 0, 1], [0, 0, 1], [0, 0, 1], [0, 0, 1], [0, 0, 1], [0, 0, 1], [0, 0, 1], [0, 0, 1], [0, 0, 1], [0, 1, 0, 0, 0], [1, 0, 0, 0, 0, 0, 0, 0], [0, 1, 0], [0, 0, 1, 0], [0, 0, 0, 0, 0, 0, 1, 0, 0, 0, 0, 0, 0], [0, 1, 0, 0, 0], [1, 0, 0, 0, 0, 0]]}\n",
            "\n",
            " CHECK YES:\n",
            "LAST:  {'text': 'Bài hát này được viết ở giọng major. Bài hát này dài khoảng 13 ~ 16 bar(s). Bài hát dài khoảng khoảng 40 giây. Bài hát này có nhịp điệu rất mạnh mẽ.', 'labels': [[0, 0, 1], [0, 0, 1], [0, 0, 1], [0, 0, 1], [0, 0, 1], [0, 0, 1], [0, 0, 1], [0, 0, 1], [0, 0, 1], [0, 0, 1], [0, 0, 1], [0, 0, 1], [0, 0, 1], [0, 0, 1], [0, 0, 1], [0, 0, 1], [0, 0, 1], [0, 0, 1], [0, 0, 1], [0, 0, 1], [0, 0, 1], [0, 0, 1], [0, 0, 1], [0, 0, 1], [0, 0, 1], [0, 0, 1], [0, 0, 1], [0, 0, 1], [0, 0, 1], [0, 0, 1, 0], [0, 0, 0, 0, 0, 0, 0, 0, 0, 0, 0, 0, 0, 0, 0, 0, 0, 1], [0, 0, 1], [0, 0, 1], [0, 0, 1], [0, 0, 1], [0, 0, 1], [0, 0, 1], [0, 0, 1], [0, 0, 1], [0, 0, 1], [0, 0, 1], [0, 0, 1], [0, 0, 1], [0, 0, 1], [0, 0, 1], [0, 0, 1], [0, 0, 1], [0, 0, 1], [0, 0, 1], [0, 0, 1], [0, 0, 1], [0, 0, 1], [0, 0, 1], [0, 0, 0, 1, 0], [0, 0, 0, 0, 0, 0, 0, 1], [1, 0, 0], [0, 0, 0, 1], [0, 0, 0, 0, 0, 0, 0, 0, 0, 0, 0, 0, 1], [0, 0, 0, 0, 1], [0, 0, 1, 0, 0, 0]]}\n"
          ]
        }
      ],
      "source": [
        "import json\n",
        "import random\n",
        "\n",
        "data = None\n",
        "\n",
        "with open(\"test.json\", \"r\") as f:\n",
        "    data = json.load(f)\n",
        "\n",
        "for i in range(0, 10):\n",
        "    idx = random.randint(0, 1000)\n",
        "    print(f\"{idx}:\", json.dumps(data[idx], ensure_ascii=False))\n",
        "\n",
        "print(\"\\n\", \"CHECK YES:\")\n",
        "for i in range(0, len(data)):\n",
        "    if i == len(data) - 1:\n",
        "        print(\"LAST:\", data[i])\n",
        "    if \"YES\" in str(data[i]):\n",
        "        print(f\"{i}:\", json.dumps(data[i], ensure_ascii=False))"
      ]
    },
    {
      "cell_type": "code",
      "execution_count": 11,
      "metadata": {
        "colab": {
          "base_uri": "https://localhost:8080/",
          "height": 35
        },
        "id": "Z4qcUrtrjqF8",
        "outputId": "daa37f3d-fbbc-440d-9e6d-32be36c43d39"
      },
      "outputs": [
        {
          "data": {
            "text/plain": [
              "'/Users/4rr311/Documents/VectorA/KHTN/Nam4/HKII/Thesis/Brainstorming/Text/text_lib/Ideas/musecoco_debug/1-text2attribute_dataprepare'"
            ]
          },
          "execution_count": 11,
          "metadata": {},
          "output_type": "execute_result"
        }
      ],
      "source": [
        "%pwd"
      ]
    },
    {
      "cell_type": "code",
      "execution_count": 12,
      "metadata": {
        "colab": {
          "base_uri": "https://localhost:8080/"
        },
        "id": "NSU-An_Jjr71",
        "outputId": "b7e6ff29-1a12-4d09-e1c5-3eb35295bbe9"
      },
      "outputs": [
        {
          "name": "stdout",
          "output_type": "stream",
          "text": [
            "/Users/4rr311/Documents/VectorA/KHTN/Nam4/HKII/Thesis/Brainstorming/Text/text_lib/Ideas/musecoco_debug/1-text2attribute_dataprepare\n"
          ]
        }
      ],
      "source": [
        "!pwd"
      ]
    }
  ],
  "metadata": {
    "colab": {
      "provenance": []
    },
    "kernelspec": {
      "display_name": "Python 3",
      "name": "python3"
    },
    "language_info": {
      "codemirror_mode": {
        "name": "ipython",
        "version": 3
      },
      "file_extension": ".py",
      "mimetype": "text/x-python",
      "name": "python",
      "nbconvert_exporter": "python",
      "pygments_lexer": "ipython3",
      "version": "3.10.10"
    }
  },
  "nbformat": 4,
  "nbformat_minor": 0
}
