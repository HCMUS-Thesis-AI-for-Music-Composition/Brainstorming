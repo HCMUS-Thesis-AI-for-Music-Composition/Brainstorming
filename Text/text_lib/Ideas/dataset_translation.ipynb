{
 "cells": [
  {
   "cell_type": "code",
   "execution_count": null,
   "metadata": {},
   "outputs": [],
   "source": [
    "import re\n",
    "import os"
   ]
  },
  {
   "cell_type": "markdown",
   "metadata": {},
   "source": [
    "# NOISE INJECTION for translation"
   ]
  },
  {
   "cell_type": "code",
   "execution_count": null,
   "metadata": {},
   "outputs": [],
   "source": [
    "def strings_to_be_replaced(input_string: str, regex: str = r\"\\[\\w+\\]\"):\n",
    "    return list(set(re.findall(regex, input_string)))"
   ]
  },
  {
   "cell_type": "code",
   "execution_count": null,
   "metadata": {},
   "outputs": [],
   "source": [
    "def read_file(file_path: str) -> str:\n",
    "    with open(file_path, \"r\") as file:\n",
    "        return file.read()"
   ]
  },
  {
   "cell_type": "code",
   "execution_count": null,
   "metadata": {},
   "outputs": [],
   "source": [
    "json_str = read_file(\"../refined_template.json\")\n",
    "\n",
    "print(json_str)"
   ]
  },
  {
   "cell_type": "code",
   "execution_count": null,
   "metadata": {},
   "outputs": [],
   "source": [
    "strs_to_be_replaced = strings_to_be_replaced(json_str)\n",
    "\n",
    "print(strs_to_be_replaced)"
   ]
  },
  {
   "cell_type": "code",
   "execution_count": null,
   "metadata": {},
   "outputs": [],
   "source": [
    "genres = {\n",
    "    'New Age': \"new age\",\n",
    "    'Electronic': \"điện tử\",\n",
    "    'Rap': 'rap',\n",
    "    'Religious': 'tôn giáo',\n",
    "    'International': 'quốc tế',\n",
    "    'Easy_Listening': 'dễ nghe',\n",
    "    'Avant_Garde': 'avant-garde',\n",
    "    'RnB': 'RnB',\n",
    "    'Latin': 'Latin',\n",
    "    'Children': 'trẻ em',\n",
    "    'Jazz': 'jazz',\n",
    "    'Classical': 'cổ điển',\n",
    "    'Comedy_Spoken': 'hài kịch',\n",
    "    'Pop_Rock': 'pop',\n",
    "    'Reggae': 'reggae',\n",
    "    'Stage': 'stage',\n",
    "    'Folk': 'dân ca',\n",
    "    'Blues': 'blues',\n",
    "    'Vocal': 'vocal',\n",
    "    'Holiday': 'holiday',\n",
    "    'Country': 'đồng quê',\n",
    "    \"Symphony\": 'giao hưởng'\n",
    "}\n",
    "\n",
    "strs_to_be_replaced.extend(set(genres.keys()))\n",
    "\n",
    "print(strs_to_be_replaced)"
   ]
  },
  {
   "cell_type": "code",
   "execution_count": null,
   "metadata": {},
   "outputs": [],
   "source": [
    "import itertools\n",
    "\n",
    "replacements = {\n",
    "    k : f\"\"\"[{\n",
    "        ''.join(\n",
    "            [\n",
    "                f\"{k[i]}{i % 10}\" for i in range(len(k))\n",
    "                if k[i] not in ['[', ']']\n",
    "            ]\n",
    "        )\n",
    "    }]\"\"\" for k in strs_to_be_replaced\n",
    "} \n",
    "\n",
    "print(len(strs_to_be_replaced))\n",
    "print(len(replacements))\n",
    "print(replacements)"
   ]
  },
  {
   "cell_type": "code",
   "execution_count": null,
   "metadata": {},
   "outputs": [],
   "source": [
    "reversed_replacements = {v : k for k, v in replacements.items()}\n",
    "print(reversed_replacements)"
   ]
  },
  {
   "cell_type": "code",
   "execution_count": null,
   "metadata": {},
   "outputs": [],
   "source": [
    "def replace_by_mapper(\n",
    "    text: str, \n",
    "    replacement_list: list[tuple],\n",
    "    pre_replacement_list: list[tuple] = []\n",
    ") -> str:\n",
    "    \"\"\"\n",
    "        Replace all values in replacement_list in text\n",
    "\n",
    "        Args:\n",
    "            text: str: The text to be replaced\n",
    "            replacement_list: list[tuple]: The list of tuples to replace\n",
    "            pre_replacement_list: list[tuple]: The list of tuples to replace before the main replacement_list\n",
    "    \"\"\"\n",
    "    for k, v in pre_replacement_list:\n",
    "        print(f\"replace_by_mapper: pre-replacements: Replacing {k} with {v}\")\n",
    "        text = text.replace(k, v)\n",
    "\n",
    "    for k, v in replacement_list:\n",
    "        print(f\"replace_by_mapper: Replacing {k} with {v}\")\n",
    "        text = text.replace(k, v)\n",
    "            \n",
    "    return text"
   ]
  },
  {
   "cell_type": "code",
   "execution_count": null,
   "metadata": {},
   "outputs": [],
   "source": [
    "import csv\n",
    "import json\n",
    "\n",
    "def json_str_to_csv_file(json_str: str, csv_file_path: str, func_to_apply = None, func_kwargs=None):\n",
    "    '''\n",
    "        Convert a JSON string to a CSV file\n",
    "    '''\n",
    "    if func_to_apply is not None:\n",
    "        json_str = func_to_apply(json_str, **func_kwargs)\n",
    "    else:\n",
    "        pass\n",
    "\n",
    "    json_str = json.loads(json_str)\n",
    "\n",
    "    with open(csv_file_path, \"w\") as csv_file:\n",
    "        csv_writer = csv.writer(csv_file)\n",
    "\n",
    "        count = 0\n",
    "        for item in json_str:\n",
    "            if count == 0:\n",
    "                header = item.keys()\n",
    "                csv_writer.writerow(header)\n",
    "                count += 1\n",
    "\n",
    "            csv_writer.writerow(item.values())"
   ]
  },
  {
   "cell_type": "code",
   "execution_count": null,
   "metadata": {},
   "outputs": [],
   "source": [
    "import pandas as pd\n",
    "\n",
    "def xlsx_file_to_json_file(\n",
    "    xlsx_file_path: str, \n",
    "    json_file_path: str, \n",
    "    func_to_apply = None, \n",
    "    func_kwargs=None\n",
    "):\n",
    "    '''\n",
    "        Convert a XLSX file to a JSON file\n",
    "    '''\n",
    "    df = pd.read_excel(xlsx_file_path)\n",
    "    \n",
    "    df = df[['attributes', 'translation']]\n",
    "    df.columns = ['attributes', 'response']\n",
    "\n",
    "    # Make the attributes column a list\n",
    "    # by remove ', [ and ] and split by ,\n",
    "    df['attributes'] = df['attributes'].apply(\n",
    "        lambda x: x.replace(\"'\", \"\").replace(\"[\", \"\").replace(\"]\", \"\").split()\n",
    "    )\n",
    "\n",
    "    if func_to_apply is not None:\n",
    "        df['response'] = df['response'].apply(func_to_apply, **func_kwargs)\n",
    "    else:\n",
    "        pass\n",
    "\n",
    "    with open(json_file_path, \"w\", encoding=\"utf-8\") as json_file:\n",
    "        df.to_json(json_file, orient='records', force_ascii=False)"
   ]
  },
  {
   "cell_type": "code",
   "execution_count": null,
   "metadata": {},
   "outputs": [],
   "source": [
    "attributes_with_academic_term = [\n",
    "    {\n",
    "        \"attribute\": \"[KEY]\",\n",
    "        \"prefix\": \"\",\n",
    "        \"postfix\": \"key\",\n",
    "        \"vietnamese_prefix\": \"\",\n",
    "        \"vietnamese_postfix\": \"giọng\"\n",
    "    },\n",
    "    {\n",
    "        \"attribute\": \"[TIME_SIGNATURE]\",\n",
    "        \"prefix\": \"\",\n",
    "        \"postfix\": \"time signature\",\n",
    "        \"vietnamese_prefix\": \"\",\n",
    "        \"vietnamese_postfix\": \"nhịp\"\n",
    "    },\n",
    "    {\n",
    "        \"attribute\": \"[NUM_BARS]\",\n",
    "        \"prefix\": \"\",\n",
    "        \"postfix\": \"bars\",\n",
    "        \"vietnamese_prefix\": \"ô nhịp\",\n",
    "        \"vietnamese_postfix\": \"\"\n",
    "    },\n",
    "    {\n",
    "        \"attribute\": \"[TIME_SIGNATURE]\",\n",
    "        \"prefix\": \"time signature of\",\n",
    "        \"postfix\": \"\",\n",
    "        \"vietnamese_prefix\": \"\",\n",
    "        \"vietnamese_postfix\": \"nhịp\"\n",
    "    },\n",
    "    {\n",
    "        \"attribute\": \"\",\n",
    "        \"prefix\": \"time signature\",\n",
    "        \"postfix\": \"\",\n",
    "        \"vietnamese_prefix\": \"nhịp\",\n",
    "        \"vietnamese_postfix\": \"\"\n",
    "    },\n",
    "    {\n",
    "        \"attribute\": \"\",\n",
    "        \"prefix\": \"octaves\",\n",
    "        \"postfix\": \"\",\n",
    "        \"vietnamese_prefix\": \"quãng tám\",\n",
    "        \"vietnamese_postfix\": \"\"\n",
    "    },\n",
    "    {\n",
    "        \"attribute\": \"\",\n",
    "        \"prefix\": \"octave\",\n",
    "        \"postfix\": \"\",\n",
    "        \"vietnamese_prefix\": \"quãng tám\",\n",
    "        \"vietnamese_postfix\": \"\"\n",
    "    },\n",
    "    {\n",
    "        \"attribute\": \"\",\n",
    "        \"prefix\": \"key\",\n",
    "        \"postfix\": \"\",\n",
    "        \"vietnamese_prefix\": \"giọng\",\n",
    "        \"vietnamese_postfix\": \"\"\n",
    "    },\n",
    "    {\n",
    "        \"attribute\": \"\",\n",
    "        \"prefix\": \"minor\",\n",
    "        \"postfix\": \"\",\n",
    "        \"vietnamese_prefix\": \"thứ\",\n",
    "        \"vietnamese_postfix\": \"\"\n",
    "    },\n",
    "    {\n",
    "        \"attribute\": \"\",\n",
    "        \"prefix\": \"major\",\n",
    "        \"postfix\": \"\",\n",
    "        \"vietnamese_prefix\": \"trưởng\",\n",
    "        \"vietnamese_postfix\": \"\"\n",
    "    },\n",
    "    {\n",
    "        \"attribute\": \"\",\n",
    "        \"prefix\": \"tempo\",\n",
    "        \"postfix\": \"\",\n",
    "        \"vietnamese_prefix\": \"tốc độ\",\n",
    "        \"vietnamese_postfix\": \"\"\n",
    "    }\n",
    "]"
   ]
  },
  {
   "cell_type": "code",
   "execution_count": null,
   "metadata": {},
   "outputs": [],
   "source": [
    "def academic_translation_encoder(attribute_item):\n",
    "    text = ' '.join([\n",
    "        attribute_item['prefix'],\n",
    "        replacements[\n",
    "            attribute_item['attribute']\n",
    "        ] if attribute_item['attribute'] in replacements else attribute_item['attribute'],\n",
    "        attribute_item['postfix']\n",
    "    ]).strip()\n",
    "\n",
    "    start = 0\n",
    "    stop = len(text)\n",
    "    step = 2\n",
    "    return text, f\"\"\"[{''.join(\n",
    "            [\n",
    "                f'{text[i:i+step]}{(i // 2)% 10}'\n",
    "                for i in range(start, stop, step)\n",
    "            ]\n",
    "        )}]\"\"\""
   ]
  },
  {
   "cell_type": "code",
   "execution_count": null,
   "metadata": {},
   "outputs": [],
   "source": [
    "def academic_translation_decoder(academic_replacements):\n",
    "    return {\n",
    "        v[\"encoded_data\"] : (\n",
    "            ' '.join([\n",
    "                attr_item[\"vietnamese_postfix\"],\n",
    "                reversed_replacements[\n",
    "                    attr_item[\"attribute\"]\n",
    "                ] if attr_item[\"attribute\"] in reversed_replacements else attr_item[\"attribute\"],\n",
    "                attr_item[\"vietnamese_prefix\"]\n",
    "            ])\n",
    "        ).strip()\n",
    "        for k, v in academic_replacements.items()\n",
    "        for attr_item in [v[\"attr_pair\"]]\n",
    "    }"
   ]
  },
  {
   "cell_type": "code",
   "execution_count": null,
   "metadata": {},
   "outputs": [],
   "source": [
    "academic_replacements = {\n",
    "    k[0] : {\"encoded_data\" : k[1], \"attr_pair\" : attr_pair}\n",
    "    for attr_pair in attributes_with_academic_term\n",
    "    for k in [academic_translation_encoder(attr_pair)]\n",
    "}\n",
    "\n",
    "print(academic_replacements)\n",
    "\n",
    "adcademic_replacement_list = [(k, v[\"encoded_data\"]) for k, v in academic_replacements.items()]\n",
    "\n",
    "print(adcademic_replacement_list)"
   ]
  },
  {
   "cell_type": "code",
   "execution_count": null,
   "metadata": {},
   "outputs": [],
   "source": [
    "reversed_academic_replacements = academic_translation_decoder(academic_replacements)\n",
    "print(reversed_academic_replacements)"
   ]
  },
  {
   "cell_type": "code",
   "execution_count": null,
   "metadata": {},
   "outputs": [],
   "source": [
    "json_str = read_file(\"../refined_template.json\")\n",
    "csv_file_path = \"../refined_template.csv\"\n",
    "\n",
    "replacement_list = [(k, v) for k, v in replacements.items()]\n",
    "replacement_list.extend(adcademic_replacement_list)\n",
    "\n",
    "print(replacement_list)"
   ]
  },
  {
   "cell_type": "code",
   "execution_count": null,
   "metadata": {},
   "outputs": [],
   "source": [
    "reversed_replacement_list = [(k, v) for k, v in reversed_replacements.items()]\n",
    "\n",
    "reversed_adcademic_replacement_list = [\n",
    "    (k, v) \n",
    "    for k, v in academic_translation_decoder(\n",
    "        academic_replacements\n",
    "    ).items()\n",
    "]\n",
    "\n",
    "reversed_replacement_list.extend(reversed_adcademic_replacement_list)\n",
    "\n",
    "print(reversed_replacement_list)"
   ]
  },
  {
   "cell_type": "code",
   "execution_count": null,
   "metadata": {},
   "outputs": [],
   "source": [
    "print(\"CONVERTING\", \"../refined_template.json\", \"TO\", csv_file_path)\n",
    "\n",
    "json_str_to_csv_file(\n",
    "    json_str, \n",
    "    csv_file_path, \n",
    "    replace_by_mapper, \n",
    "    func_kwargs={\"replacement_list\" : replacement_list}\n",
    ")"
   ]
  },
  {
   "cell_type": "code",
   "execution_count": null,
   "metadata": {},
   "outputs": [],
   "source": [
    "print(f\"CSV file path: {os.path.abspath(csv_file_path)}\")"
   ]
  },
  {
   "cell_type": "markdown",
   "metadata": {},
   "source": [
    "# DENOISING"
   ]
  },
  {
   "cell_type": "code",
   "execution_count": null,
   "metadata": {},
   "outputs": [],
   "source": [
    "print(reversed_replacement_list)\n",
    "\n",
    "pre_replacement_list = [\n",
    "    (\n",
    "        f\"{k[:-1]} \", \n",
    "        k\n",
    "    ) \n",
    "    for k, v in reversed_replacements.items()\n",
    "]\n",
    "\n",
    "pre_replacement_list.insert(0, (\"[key0y1]\", \"[ke0y1]\"))\n",
    "\n",
    "print(pre_replacement_list)"
   ]
  },
  {
   "cell_type": "code",
   "execution_count": null,
   "metadata": {},
   "outputs": [],
   "source": [
    "!pwd"
   ]
  },
  {
   "cell_type": "code",
   "execution_count": null,
   "metadata": {},
   "outputs": [],
   "source": [
    "xlsx_file_path = \"../refined_template_vn.xlsx\"\n",
    "\n",
    "print(\"CONVERTING\", xlsx_file_path, \"TO\", \"../refined_template_vn.json\")\n",
    "\n",
    "xlsx_file_to_json_file(\n",
    "    xlsx_file_path=xlsx_file_path, \n",
    "    json_file_path=\"../refined_template_vn.json\",\n",
    "    func_to_apply=replace_by_mapper,\n",
    "    func_kwargs={\n",
    "        \"replacement_list\" : reversed_replacement_list,\n",
    "        \"pre_replacement_list\" : pre_replacement_list\n",
    "    }\n",
    ")"
   ]
  },
  {
   "cell_type": "code",
   "execution_count": null,
   "metadata": {},
   "outputs": [],
   "source": [
    "print(f\"DENOISED file path: {os.path.abspath('../refined_template_vn.json')}\")"
   ]
  }
 ],
 "metadata": {
  "kernelspec": {
   "display_name": "Python 3",
   "language": "python",
   "name": "python3"
  },
  "language_info": {
   "codemirror_mode": {
    "name": "ipython",
    "version": 3
   },
   "file_extension": ".py",
   "mimetype": "text/x-python",
   "name": "python",
   "nbconvert_exporter": "python",
   "pygments_lexer": "ipython3",
   "version": "3.10.10"
  }
 },
 "nbformat": 4,
 "nbformat_minor": 2
}
