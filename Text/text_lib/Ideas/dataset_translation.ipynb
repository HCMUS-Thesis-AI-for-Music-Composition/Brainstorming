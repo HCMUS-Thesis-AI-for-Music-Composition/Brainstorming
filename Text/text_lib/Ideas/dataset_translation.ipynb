{
 "cells": [
  {
   "cell_type": "code",
   "execution_count": null,
   "metadata": {},
   "outputs": [],
   "source": [
    "import re\n",
    "\n",
    "def strings_to_be_replaced(input_string: str, regex: str = r\"\\[\\w+\\]\"):\n",
    "    return list(set(re.findall(regex, input_string)))"
   ]
  },
  {
   "cell_type": "code",
   "execution_count": null,
   "metadata": {},
   "outputs": [],
   "source": [
    "def read_file(file_path: str) -> str:\n",
    "    with open(file_path, \"r\") as file:\n",
    "        return file.read()"
   ]
  },
  {
   "cell_type": "code",
   "execution_count": null,
   "metadata": {},
   "outputs": [],
   "source": [
    "json_str = read_file(\"../refined_template_vn.json\")\n",
    "\n",
    "print(json_str)"
   ]
  },
  {
   "cell_type": "code",
   "execution_count": null,
   "metadata": {},
   "outputs": [],
   "source": [
    "strs_to_be_replaced = strings_to_be_replaced(json_str)\n",
    "\n",
    "print(strs_to_be_replaced)"
   ]
  },
  {
   "cell_type": "code",
   "execution_count": null,
   "metadata": {},
   "outputs": [],
   "source": [
    "genres = {\n",
    "    'New Age': \"new age\",\n",
    "    'Electronic': \"điện tử\",\n",
    "    'Rap': 'rap',\n",
    "    'Religious': 'tôn giáo',\n",
    "    'International': 'quốc tế',\n",
    "    'Easy_Listening': 'dễ nghe',\n",
    "    'Avant_Garde': 'avant-garde',\n",
    "    'RnB': 'RnB',\n",
    "    'Latin': 'Latin',\n",
    "    'Children': 'trẻ em',\n",
    "    'Jazz': 'jazz',\n",
    "    'Classical': 'cổ điển',\n",
    "    'Comedy_Spoken': 'hài kịch',\n",
    "    'Pop_Rock': 'pop',\n",
    "    'Reggae': 'reggae',\n",
    "    'Stage': 'stage',\n",
    "    'Folk': 'dân ca',\n",
    "    'Blues': 'blues',\n",
    "    'Vocal': 'vocal',\n",
    "    'Holiday': 'holiday',\n",
    "    'Country': 'đồng quê',\n",
    "    \"Symphony\": 'giao hưởng'\n",
    "}\n",
    "\n",
    "strs_to_be_replaced.extend(set(genres.keys()))\n",
    "\n",
    "print(strs_to_be_replaced)"
   ]
  },
  {
   "cell_type": "code",
   "execution_count": null,
   "metadata": {},
   "outputs": [],
   "source": [
    "import itertools\n",
    "\n",
    "replacements = {\n",
    "    k : f\"\"\"[{\n",
    "        ''.join(\n",
    "            [\n",
    "                f\"{k[i]}{i % 10}\" for i in range(len(k))\n",
    "                if k[i] not in ['[', ']']\n",
    "            ]\n",
    "        )\n",
    "    }]\"\"\" for k in strs_to_be_replaced\n",
    "} \n",
    "\n",
    "print(len(strs_to_be_replaced))\n",
    "print(len(replacements))\n",
    "print(replacements)"
   ]
  },
  {
   "cell_type": "code",
   "execution_count": null,
   "metadata": {},
   "outputs": [],
   "source": [
    "def replace_by_mapper(text: str, replacement_list: list[tuple]) -> str:\n",
    "    for k, v in replacement_list:\n",
    "        print(f\"Replacing {k} with {v}\")\n",
    "        text = text.replace(k, v)\n",
    "    return text"
   ]
  },
  {
   "cell_type": "code",
   "execution_count": null,
   "metadata": {},
   "outputs": [],
   "source": [
    "import csv\n",
    "import json\n",
    "\n",
    "def json_str_to_csv_file(json_str: str, csv_file_path: str, func_to_apply = None, func_kwargs=None):\n",
    "    '''\n",
    "        Convert a JSON string to a CSV file\n",
    "    '''\n",
    "    if func_to_apply is not None:\n",
    "        json_str = func_to_apply(json_str, **func_kwargs)\n",
    "    else:\n",
    "        pass\n",
    "\n",
    "    json_str = json.loads(json_str)\n",
    "\n",
    "    with open(csv_file_path, \"w\") as csv_file:\n",
    "        csv_writer = csv.writer(csv_file)\n",
    "\n",
    "        count = 0\n",
    "        for item in json_str:\n",
    "            if count == 0:\n",
    "                header = item.keys()\n",
    "                csv_writer.writerow(header)\n",
    "                count += 1\n",
    "\n",
    "            csv_writer.writerow(item.values())"
   ]
  },
  {
   "cell_type": "code",
   "execution_count": null,
   "metadata": {},
   "outputs": [],
   "source": [
    "attributes_with_academic_term = [\n",
    "    {\n",
    "        \"attribute\": \"[KEY]\",\n",
    "        \"prefix\": \"\",\n",
    "        \"postfix\": \"key\",\n",
    "        \"vietnamese\": \"giọng\"\n",
    "    },\n",
    "    {\n",
    "        \"attribute\": \"[TIME_SIGNATURE]\",\n",
    "        \"prefix\": \"\",\n",
    "        \"postfix\": \"time signature\",\n",
    "        \"vietnamese\": \"nhịp\"\n",
    "    }\n",
    "]"
   ]
  },
  {
   "cell_type": "code",
   "execution_count": null,
   "metadata": {},
   "outputs": [],
   "source": [
    "def academic_translation_encoder(attribute_item):\n",
    "    text = ' '.join([\n",
    "        attribute_item['prefix'],\n",
    "        replacements[attribute_item['attribute']],\n",
    "        attribute_item['postfix']\n",
    "    ]).strip()\n",
    "\n",
    "    start = 0\n",
    "    stop = len(text)\n",
    "    step = 2\n",
    "    return text, f\"\"\"[{''.join(\n",
    "            [\n",
    "                f'{text[i:i+step]}{(i // 2)% 10}'\n",
    "                for i in range(start, stop, step)\n",
    "            ]\n",
    "        )}]\"\"\""
   ]
  },
  {
   "cell_type": "code",
   "execution_count": null,
   "metadata": {},
   "outputs": [],
   "source": [
    "academic_replacements = {\n",
    "    k[0] : k[1]\n",
    "    for attr in attributes_with_academic_term\n",
    "    for k in [academic_translation_encoder(attr)]\n",
    "}\n",
    "\n",
    "adcademic_replacement_list = [(k, v) for k, v in academic_replacements.items()]\n",
    "\n",
    "print(academic_replacements)\n",
    "print(adcademic_replacement_list)"
   ]
  },
  {
   "cell_type": "code",
   "execution_count": null,
   "metadata": {},
   "outputs": [],
   "source": [
    "json_str = read_file(\"../refined_template_vn.json\")\n",
    "csv_file_path = \"../refined_template_vn.csv\"\n",
    "\n",
    "replacement_list = [(k, v) for k, v in replacements.items()]\n",
    "replacement_list.extend(adcademic_replacement_list)\n",
    "\n",
    "json_str_to_csv_file(json_str, csv_file_path, replace_by_mapper, func_kwargs={\"replacement_list\" : replacement_list})"
   ]
  }
 ],
 "metadata": {
  "kernelspec": {
   "display_name": "Python 3",
   "language": "python",
   "name": "python3"
  },
  "language_info": {
   "codemirror_mode": {
    "name": "ipython",
    "version": 3
   },
   "file_extension": ".py",
   "mimetype": "text/x-python",
   "name": "python",
   "nbconvert_exporter": "python",
   "pygments_lexer": "ipython3",
   "version": "3.10.10"
  }
 },
 "nbformat": 4,
 "nbformat_minor": 2
}
