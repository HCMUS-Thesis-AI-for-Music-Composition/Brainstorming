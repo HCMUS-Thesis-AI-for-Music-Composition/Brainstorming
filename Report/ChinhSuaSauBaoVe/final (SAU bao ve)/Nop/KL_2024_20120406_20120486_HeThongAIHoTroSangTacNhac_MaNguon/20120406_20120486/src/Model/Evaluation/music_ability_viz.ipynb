{
 "cells": [
  {
   "cell_type": "code",
   "execution_count": 1,
   "metadata": {},
   "outputs": [],
   "source": [
    "hooktheory_midi_dir = \"/Users/4rr311/Documents/VectorA/KHTN/Nam4/HKII/Thesis/Brainstorming/DataCrawling/ProcessedData/midi_from_json_songs\"\n",
    "\n",
    "model_output_dir = \"/Users/4rr311/Documents/VectorA/KHTN/Nam4/HKII/Thesis/Brainstorming/Evaluation/data_for_testing/model_output/data for visualization/musecoco arch/midi\"\n",
    "model_output_dir = \"/Users/4rr311/Documents/VectorA/KHTN/Nam4/HKII/Thesis/Brainstorming/Evaluation/data_for_testing/model_output/data for visualization/lora gpt2\""
   ]
  },
  {
   "cell_type": "code",
   "execution_count": 2,
   "metadata": {},
   "outputs": [],
   "source": [
    "import pretty_midi\n",
    "import numpy as np\n",
    "from collections import Counter\n",
    "import os\n",
    "import plotly.express as px"
   ]
  },
  {
   "cell_type": "code",
   "execution_count": 3,
   "metadata": {},
   "outputs": [],
   "source": [
    "# current_idx = 0\n",
    "\n",
    "# indices_to_analyze = [\n",
    "#     0, 1, 2, 3, 4, 5, 6, 7, 8, 9,\n",
    "#     # 10, 11, 12, 13, 14, 15, 16, 17, 18, 19,\n",
    "#     # 55, 56, 57, 58, 59, 60, 61, 62, 63, 64,\n",
    "#     # 100, 101, 102, 103, 104, 105, 106, 107, 108, 109\n",
    "# ]"
   ]
  },
  {
   "cell_type": "code",
   "execution_count": 4,
   "metadata": {},
   "outputs": [],
   "source": [
    "def load_midi(file_path):\n",
    "    return pretty_midi.PrettyMIDI(file_path)\n",
    "\n",
    "def get_notes(midi_data):\n",
    "    notes = []\n",
    "    for instrument in midi_data.instruments:\n",
    "        if not instrument.is_drum:\n",
    "            for note in instrument.notes:\n",
    "                notes.append(note)\n",
    "    return sorted(notes, key=lambda note: note.start)\n",
    "\n",
    "def pitch_counts(notes):\n",
    "    pitches = [note.pitch for note in notes]\n",
    "    return dict(Counter(pitches))\n",
    "\n",
    "def pitch_class_distribution(notes):\n",
    "    pitch_classes = [note.pitch % 12 for note in notes]\n",
    "    return dict(Counter(pitch_classes))\n",
    "\n",
    "def pitch_class_transition_matrix(notes):\n",
    "    pitch_classes = [note.pitch % 12 for note in notes]\n",
    "    transition_matrix = np.zeros((12, 12))\n",
    "    for i in range(len(pitch_classes) - 1):\n",
    "        transition_matrix[pitch_classes[i], pitch_classes[i + 1]] += 1\n",
    "    return transition_matrix / transition_matrix.sum(axis=1, keepdims=True)\n",
    "\n",
    "def pitch_range(notes):\n",
    "    pitches = [note.pitch for note in notes]\n",
    "    return max(pitches) - min(pitches)\n",
    "\n",
    "def average_pitch_intervals(notes):\n",
    "    pitch_intervals = [notes[i + 1].pitch - notes[i].pitch for i in range(len(notes) - 1)]\n",
    "    return np.mean(pitch_intervals), np.std(pitch_intervals)\n",
    "\n",
    "def average_inter_onset_intervals(notes):\n",
    "    inter_onset_intervals = [notes[i + 1].start - notes[i].start for i in range(len(notes) - 1)]\n",
    "    return np.mean(inter_onset_intervals), np.std(inter_onset_intervals)\n",
    "\n",
    "def note_count(notes):\n",
    "    return len(notes)\n",
    "\n",
    "def note_length_transition_matrix(notes):\n",
    "    note_lengths = [note.end - note.start for note in notes]\n",
    "    unique_lengths = sorted(set(note_lengths))\n",
    "    length_to_idx = {length: idx for idx, length in enumerate(unique_lengths)}\n",
    "    transition_matrix = np.zeros((len(unique_lengths), len(unique_lengths)))\n",
    "    \n",
    "    for i in range(len(note_lengths) - 1):\n",
    "        current_length = note_lengths[i]\n",
    "        next_length = note_lengths[i + 1]\n",
    "        transition_matrix[length_to_idx[current_length], length_to_idx[next_length]] += 1\n",
    "    \n",
    "    return transition_matrix / transition_matrix.sum(axis=1, keepdims=True)\n",
    "\n",
    "def analyze_midi(file_path):\n",
    "    midi_data = load_midi(file_path)\n",
    "    notes = get_notes(midi_data)\n",
    "\n",
    "    analysis = {}\n",
    "    \n",
    "    if len(notes) != 0:\n",
    "        analysis = {\n",
    "            'pitch_counts': pitch_counts(notes),\n",
    "            'pitch_class_distribution': pitch_class_distribution(notes),\n",
    "            # 'pitch_class_transition_matrix': pitch_class_transition_matrix(notes),\n",
    "            # 'pitch_range': pitch_range(notes),\n",
    "            # 'average_pitch_intervals': average_pitch_intervals(notes),\n",
    "            # 'average_inter_onset_intervals': average_inter_onset_intervals(notes),\n",
    "            'note_count': note_count(notes),\n",
    "            # 'note_length_transition_matrix': note_length_transition_matrix(notes)\n",
    "        }\n",
    "    else:\n",
    "        pass\n",
    "    return analysis\n",
    "\n",
    "def analyze_midi_folder(folder_path, max_file_count=10000):\n",
    "    results = {}\n",
    "\n",
    "    current_file_count = 0\n",
    "    # Walk recursively\n",
    "    # for file_name in os.listdir(folder_path):\n",
    "    #     if file_name.endswith('.mid') or file_name.endswith('.midi'):\n",
    "    #         current_file_count += 1\n",
    "    #         if current_file_count > max_file_count:\n",
    "    #             break\n",
    "    #         else:\n",
    "    #             file_path = os.path.join(folder_path, file_name)\n",
    "    #             print(f\"Analyzing file {current_file_count} of {max_file_count} - {file_name}\")\n",
    "    #             results[file_name] = analyze_midi(file_path)\n",
    "    global current_idx\n",
    "    global indices_to_analyze\n",
    "\n",
    "    for root, dirs, files in os.walk(folder_path):\n",
    "        for file_name in files:\n",
    "            # if current_idx not in indices_to_analyze:\n",
    "            #     current_idx += 1\n",
    "            #     continue\n",
    "            # else:\n",
    "            #     current_idx += 1\n",
    "                \n",
    "            if file_name.endswith('.mid') or file_name.endswith('.midi'):\n",
    "                current_file_count += 1\n",
    "                if current_file_count > max_file_count:\n",
    "                    break\n",
    "                else:\n",
    "                    file_path = os.path.join(root, file_name)\n",
    "                    print(f\"Analyzing file {current_file_count} of {max_file_count} - {file_name}\")\n",
    "                    results[file_name] = analyze_midi(file_path)\n",
    "    \n",
    "    current_idx = 0\n",
    "    \n",
    "    return results"
   ]
  },
  {
   "cell_type": "code",
   "execution_count": 5,
   "metadata": {},
   "outputs": [],
   "source": [
    "def average_analysis_results(analysis_results):\n",
    "    average_results = {\n",
    "        \"pitch_counts\": dict[int, float](),\n",
    "        \"pitch_class_distribution\": dict[int, float](),\n",
    "        \"note_count\": int(0)\n",
    "    }\n",
    "    \n",
    "    n_files = len(analysis_results)\n",
    "\n",
    "    for file_name, analysis in analysis_results.items():\n",
    "        for key, value in analysis.items():\n",
    "            if key == 'pitch_counts':\n",
    "                for pitch, v in value.items():\n",
    "                    if pitch not in average_results[\"pitch_counts\"]:\n",
    "                        average_results[\"pitch_counts\"][pitch] = v / n_files\n",
    "                    else:\n",
    "                        average_results[\"pitch_counts\"][pitch] += v / n_files\n",
    "            elif key == 'pitch_class_distribution':\n",
    "                for pitch_class, v in value.items():\n",
    "                    if pitch_class not in average_results[\"pitch_class_distribution\"]:\n",
    "                        average_results[\"pitch_class_distribution\"][pitch_class] = v / n_files\n",
    "                    else:\n",
    "                        average_results[\"pitch_class_distribution\"][pitch_class] += v / n_files\n",
    "            elif key == 'note_count':\n",
    "                average_results[key] += value / n_files\n",
    "            else:\n",
    "                pass\n",
    "    \n",
    "    return average_results"
   ]
  },
  {
   "cell_type": "markdown",
   "metadata": {},
   "source": [
    "# Hooktheory"
   ]
  },
  {
   "cell_type": "code",
   "execution_count": 6,
   "metadata": {},
   "outputs": [
    {
     "name": "stdout",
     "output_type": "stream",
     "text": [
      "Analyzing file 1 of 100 - d_deerhunter_back-to-the-middle_Solo_AQodPXyKoDl.mid\n",
      "Analyzing file 2 of 100 - t_the-beatles_a-hard-days-night_Intro_ZwxK_QNbxed.mid\n",
      "Analyzing file 3 of 100 - n_niall-horan_still_Bridge_jDgXdDVegKl.mid\n",
      "Analyzing file 4 of 100 - a_ashe_love-is-not-enough_Pre-Chorus_yvgPQdedxYq.mid\n",
      "Analyzing file 5 of 100 - b_bryan-scary_operaland_Chorus_DpgvRAkdgad.mid\n",
      "Analyzing file 6 of 100 - j_jimmy-fontanez_urban-lullaby_Verse_Wegl_wa-mrY.mid\n",
      "Analyzing file 7 of 100 - h_hirohiko-takayama_hudsons-adventure-island-iii---thunder-clash_Instrumental_yvmrLZGzxOW.mid\n",
      "Analyzing file 8 of 100 - h_hitomi-yaida_ashita-kara-no-tegami_Intro and Verse_AaoGbakPxeQ.mid\n",
      "Analyzing file 9 of 100 - b_billy-idol_white-wedding_Chorus_eWxLdzOpxaK.mid\n",
      "Analyzing file 10 of 100 - l_lawrence_the-heartburn-song_Verse_ROmNkROngNw.mid\n",
      "Analyzing file 11 of 100 - m_miguel_goingtohell_Verse_zngREQNMmJj.mid\n",
      "Analyzing file 12 of 100 - b_bensound_elevator-bossa-nova_Intro and Verse_d_gwnZ_QmGV.mid\n",
      "Analyzing file 13 of 100 - c_coralie-clement_samba-de-mon-coeur-qui-bat_Verse_AaoGyZvkgeQ.mid\n",
      "Analyzing file 14 of 100 - n_nintendo_tetris-attack---water-stage_Verse_kwxAnkRDoKG.mid\n",
      "Analyzing file 15 of 100 - g_glenn-miller_in-the-mood_Verse_RPxepXOLgb_.mid\n",
      "Analyzing file 16 of 100 - c_clean-bandit-ft-zara-larsson_symphony_Verse_QLgnwrZPx-V.mid\n",
      "Analyzing file 17 of 100 - y_yellow-magic-orchestra_rydeen_Verse_veoYaqPGodn.mid\n",
      "Analyzing file 18 of 100 - s_scott-joplin_peacherine-rag_Outro_kwxA-dAQxKG.mid\n",
      "Analyzing file 19 of 100 - j_jeff-rosenstock_festival-song_Verse_KexEyMzKx_B.mid\n",
      "Analyzing file 20 of 100 - s_santo-and-johnny_sleep-walk_Verse_JkmZBDKZmqn.mid\n",
      "Analyzing file 21 of 100 - r_rina-sawayama_snakeskin_Intro_JNgqkbdworz.mid\n",
      "Analyzing file 22 of 100 - b_bill-wurtz_hi-im-steve_Solo 2_eWxLykMEoaK.mid\n",
      "Analyzing file 23 of 100 - t_the-beatles_all-my-loving_Solo_AQod-KArmDl.mid\n",
      "Analyzing file 24 of 100 - t_taylor-swift_wouldve-couldve-shouldve_Outro_veoYArzyodn.mid\n",
      "Analyzing file 25 of 100 - k_kevin-macleod_mining-by-moonlight_Verse_nJmB_jekgAV.mid\n",
      "Analyzing file 26 of 100 - a_ashlee-simpson_pieces-of-me_Verse__NgbnvXbgQA.mid\n",
      "Analyzing file 27 of 100 - m_michiru-yamane_castlevania-por---gaze-up-at-the-darkness_Solo 1_ZwxK_MkZxed.mid\n",
      "Analyzing file 28 of 100 - k_katy-perry_california-gurls_Chorus_JkmZkDjbgqn.mid\n",
      "Analyzing file 29 of 100 - p_paul-mccartney_keep-under-cover_Chorus_kwxA_WbWmKG.mid\n",
      "Analyzing file 30 of 100 - h_hertzdevil_stage-50_Verse_yvmrlOEZxOW.mid\n",
      "Analyzing file 31 of 100 - e_etta-james_a-sunday-kind-of-love_Pre-Outro_VMgJDbRWoqK.mid\n",
      "Analyzing file 32 of 100 - o_of-montreal_its-a-very-starry-night_Verse_nLgaZza_xYp.mid\n",
      "Analyzing file 33 of 100 - p_paty-cantu_no-fue-suficiente_Chorus_nvgywa-OokA.mid\n",
      "Analyzing file 34 of 100 - c_czeslaw-niemen_pod-papugami_Chorus_yvmraNNaoOW.mid\n",
      "Analyzing file 35 of 100 - b_brian-chard_champd-up---create-3_Intro_nvgyllb-mkA.mid\n",
      "Analyzing file 36 of 100 - b_brian-tyler_formula-1-theme_Chorus_ANmprQQOxyM.mid\n",
      "Analyzing file 37 of 100 - m_mid-air-thief_these-chains_Chorus_QLgnAJJEm-V.mid\n",
      "Analyzing file 38 of 100 - e_eric-prydz_call-on-me_Chorus_lamkpZnegDM.mid\n",
      "Analyzing file 39 of 100 - k_kevin-macleod_brightly-fancy_Verse_veoYkB-agdn.mid\n",
      "Analyzing file 40 of 100 - g_genesis_seven-stones_Intro_RzojZlBQoDe.mid\n",
      "Analyzing file 41 of 100 - k_king-crimson_i-talk-to-the-wind_Verse_dPoD_bpdxnM.mid\n",
      "Analyzing file 42 of 100 - s_silent-partner_last-call_Chorus_AQodnMPqgDl.mid\n",
      "Analyzing file 43 of 100 - r_rhythm-heaven-fever_struck-by-the-rain_Chorus_LAgQezQEgyO.mid\n",
      "Analyzing file 44 of 100 - z_zach-bryan_something-in-the-orange_Chorus_nLgaKRd_oYp.mid\n",
      "Analyzing file 45 of 100 - l_lady-gaga_marry-the-night_Outro_LAgQqKyegyO.mid\n",
      "Analyzing file 46 of 100 - p_porter-robinson_get-your-wish_Pre-Chorus_ZwxKbXJjged.mid\n",
      "Analyzing file 47 of 100 - g_gold-motel_stealing-the-moonlight_Pre-Chorus_KexEpXwvg_B.mid\n",
      "Analyzing file 48 of 100 - y_yeule_pocky-boy_Verse_jDgXlMRqgKl.mid\n",
      "Analyzing file 49 of 100 - m_michael-jackson_the-way-you-make-me-feel_Pre-Chorus_kwxAn-kQoKG.mid\n",
      "Analyzing file 50 of 100 - f_fergie_a-little-party-never-killed-nobody_Verse_kygzVRZzgKB.mid\n",
      "Analyzing file 51 of 100 - m_megan-thee-stallion-and-dua-lipa_sweetest-pie_Bridge_Weglqnz-xrY.mid\n",
      "Analyzing file 52 of 100 - j_johnny-hates-jazz_shattered-dreams_Intro_Abm_dPEJgak.mid\n",
      "Analyzing file 53 of 100 - b_black-country-new-road_the-place-where-he-inserted-the-blade_Verse_WeglrWraorY.mid\n",
      "Analyzing file 54 of 100 - a_alexandra-burke_hallelujah_Verse_JkmZZLWJmqn.mid\n",
      "Analyzing file 55 of 100 - m_men-without-hats_the-safety-dance_Chorus_yvmrZ_yZmOW.mid\n",
      "Analyzing file 56 of 100 - n_nikolai-rimsky-korsakov_flight-of-the-bumblebee_Intro and Verse_Wegl_zEYmrY.mid\n",
      "Analyzing file 57 of 100 - j_jj-lin_back-to-back_Chorus_zngRyOQVmJj.mid\n",
      "Analyzing file 58 of 100 - p_paramore_looking-up_Intro_bWgMlXRXmlX.mid\n",
      "Analyzing file 59 of 100 - n_nintendo_green-tree-memories---super-kirby-clash_Intro_bWgMQAXXglX.mid\n",
      "Analyzing file 60 of 100 - o_of-montreal_good-morning-mr-edminton_Chorus_kygzJBJbgKB.mid\n",
      "Analyzing file 61 of 100 - t_the-hush-sound_as-you-cry_Bridge_ZwxKdXMGoed.mid\n",
      "Analyzing file 62 of 100 - t_the-knife_you-take-my-breath-away_Chorus_VMgJJQLAgqK.mid\n",
      "Analyzing file 63 of 100 - l_labrinth_dotted-line---juju-man_Chorus_d_gwpl-MxGV.mid\n",
      "Analyzing file 64 of 100 - h_hololive_usada-pekora-bgm_Chorus_zngRlvOAoJj.mid\n",
      "Analyzing file 65 of 100 - a_absofacto_dissolve_Chorus_d_gwaMNroGV.mid\n",
      "Analyzing file 66 of 100 - t_the-bucketheads_the-bomb-%28these-sound-fall-into-my-mind%29_Pre-Chorus_JNgqzWOXxrz.mid\n",
      "Analyzing file 67 of 100 - t_the-divine-comedy_lost-property_Chorus_yvgPAVAAxYq.mid\n",
      "Analyzing file 68 of 100 - b_bee-gees_how-deep-is-your-love_Pre-Chorus_nLgapljbmYp.mid\n",
      "Analyzing file 69 of 100 - r_roar_just-a-fan_Chorus Lead-Out_lamkleVegDM.mid\n",
      "Analyzing file 70 of 100 - m_mayday_donts-donts_Verse_nJmB-yaAoAV.mid\n",
      "Analyzing file 71 of 100 - j_josh-woodward_prelude-no-24_Verse_eWxLJaYqmaK.mid\n",
      "Analyzing file 72 of 100 - b_bjork_venus-as-a-boy_Bridge_VMgJlMjaoqK.mid\n",
      "Analyzing file 73 of 100 - b_billy-joel_this-is-the-time_Intro_nvgyKlerokA.mid\n",
      "Analyzing file 74 of 100 - g_gorillaz_doncamatic-ft-daley_Intro_QLgnnaPEg-V.mid\n",
      "Analyzing file 75 of 100 - a_area-11_%28break%29-in-case-of_Bridge_yvgPjVZBoYq.mid\n",
      "Analyzing file 76 of 100 - j_jukebox-the-ghost_everybody-knows_Verse_nvgyE_OXgkA.mid\n",
      "Analyzing file 77 of 100 - s_setsuna-yuuki_love-live---dive_Chorus Lead-Out_veoYv-Mnmdn.mid\n",
      "Analyzing file 78 of 100 - h_henrique-lorenzi_on-the-line-%28ninjin-opening-credits-theme%29_Instrumental_bWgMkYDPolX.mid\n",
      "Analyzing file 79 of 100 - b_bruno-major_easily_Chorus_RPxeE-qaxb_.mid\n",
      "Analyzing file 80 of 100 - m_miles-davis_blue-in-green_Intro_eWxLDeJkxaK.mid\n",
      "Analyzing file 81 of 100 - e_erik-satie_gnossienne-no-1_Chorus_JNgqRrJnxrz.mid\n",
      "Analyzing file 82 of 100 - a_ariana-grande_santa-tell-me_Verse and Pre-Chorus_nJmB-PrboAV.mid\n",
      "Analyzing file 83 of 100 - p_pippin-%28new-broadway-cast%29_corner-of-the-sky_Verse_WeglpedlgrY.mid\n",
      "Analyzing file 84 of 100 - t_the-mccoys_hang-on-sloopy_Chorus_nLgaPKWZmYp.mid\n",
      "Analyzing file 85 of 100 - k_kazuma-kiryu_baka-mitai_Chorus_ZOxVvjEAxdq.mid\n",
      "Analyzing file 86 of 100 - z_zun_retrospective-kyoto_Intro and Verse_eWxLylGqoaK.mid\n",
      "Analyzing file 87 of 100 - m_magdalena-bay_you-lose_Chorus_WeglQBV-xrY.mid\n",
      "Analyzing file 88 of 100 - b_bryan-scary_dgo_Chorus_ZbgODENbxnY.mid\n",
      "Analyzing file 89 of 100 - f_fullmetal-alchemist-brotherhood_trishas-lullaby_Verse_WeglQ_bAxrY.mid\n",
      "Analyzing file 90 of 100 - g_garbage_big-bright-world_Verse_VMgJjZXDgqK.mid\n",
      "Analyzing file 91 of 100 - h_hozier_take-me-to-church_Chorus_nLgaPkrBmYp.mid\n",
      "Analyzing file 92 of 100 - b_ben-folds_the-luckiest_Verse_AQodpGJBoDl.mid\n",
      "Analyzing file 93 of 100 - m_maison-ware_save-my-soul_Chorus_yvgPjMpAoYq.mid\n",
      "Analyzing file 94 of 100 - y_yazoo_dont-go_Pre-Chorus and Chorus_nvgyjyzexkA.mid\n",
      "Analyzing file 95 of 100 - k_kali-uchis_miami_Bridge_ZbgOpQpQxnY.mid\n",
      "Analyzing file 96 of 100 - e_eisley_go-away_Intro_ZwxKbNawged.mid\n",
      "Analyzing file 97 of 100 - b_bananarama_love-truth-and-honesty_Chorus_nLgadYyEmYp.mid\n",
      "Analyzing file 98 of 100 - s_silent-partner_country-blues_Verse_YAg-P_wPmle.mid\n",
      "Analyzing file 99 of 100 - n_nintendo_versus-victory---dr-mario_Intro and Verse_LAgQenBvgyO.mid\n",
      "Analyzing file 100 of 100 - c_christopher-cross_arthurs-theme-%28best-that-you-can-do%29_Chorus_Wegl_WYJmrY.mid\n"
     ]
    }
   ],
   "source": [
    "folder_path = hooktheory_midi_dir\n",
    "n_file_to_analyze = 29038\n",
    "n_file_to_analyze = 100\n",
    "\n",
    "analysis_results = analyze_midi_folder(folder_path, n_file_to_analyze)"
   ]
  },
  {
   "cell_type": "code",
   "execution_count": 7,
   "metadata": {},
   "outputs": [
    {
     "name": "stdout",
     "output_type": "stream",
     "text": [
      "1 of 100 result - d_deerhunter_back-to-the-middle_Solo_AQodPXyKoDl.mid:\n",
      "  pitch_counts: {71: 14, 59: 2, 62: 2, 66: 16, 35: 2, 73: 6, 68: 24, 57: 2, 61: 12, 64: 14, 33: 2, 69: 2, 42: 2, 40: 2, 37: 2}\n",
      "  pitch_class_distribution: {11: 18, 2: 2, 6: 18, 1: 20, 8: 24, 9: 6, 4: 16}\n",
      "  note_count: 104\n"
     ]
    }
   ],
   "source": [
    "n_file_to_print = 1\n",
    "\n",
    "current_file = 0\n",
    "\n",
    "# Print results\n",
    "for file_name, analysis in analysis_results.items():\n",
    "    if current_file < n_file_to_print:\n",
    "        current_file += 1\n",
    "        print(f\"{current_file} of {n_file_to_analyze} result - {file_name}:\")\n",
    "\n",
    "        for key, value in analysis.items():\n",
    "            print(f\"  {key}: {value}\")\n",
    "    else:\n",
    "        break"
   ]
  },
  {
   "cell_type": "code",
   "execution_count": 8,
   "metadata": {},
   "outputs": [
    {
     "name": "stdout",
     "output_type": "stream",
     "text": [
      "Average results:\n",
      "  pitch_counts: {71: 4.09, 59: 4.319999999999999, 62: 7.209999999999999, 66: 5.18, 35: 1.4400000000000004, 73: 2.08, 68: 4.749999999999999, 57: 3.4499999999999984, 61: 4.339999999999998, 64: 5.969999999999999, 33: 1.3500000000000005, 69: 5.6099999999999985, 42: 0.39999999999999997, 40: 0.6300000000000001, 37: 0.9000000000000001, 65: 6.089999999999997, 67: 7.349999999999999, 72: 3.4899999999999993, 38: 1.0800000000000005, 60: 4.889999999999995, 77: 1.1900000000000004, 75: 1.5600000000000005, 44: 0.21000000000000002, 56: 1.6000000000000003, 63: 4.509999999999997, 32: 0.6800000000000002, 58: 3.549999999999999, 51: 0.6700000000000002, 55: 2.6399999999999992, 27: 0.48, 34: 1.3600000000000005, 36: 1.0500000000000003, 76: 1.4200000000000006, 74: 2.609999999999999, 78: 1.0900000000000003, 79: 0.9400000000000003, 81: 0.37, 82: 0.3800000000000001, 70: 3.3299999999999987, 45: 0.25, 80: 0.4700000000000001, 83: 0.19999999999999998, 85: 0.21000000000000002, 87: 0.07, 39: 0.48000000000000004, 53: 1.3300000000000005, 29: 0.76, 31: 1.3400000000000005, 41: 0.5900000000000001, 50: 0.7300000000000002, 54: 1.3300000000000003, 26: 0.6200000000000001, 52: 0.9000000000000001, 28: 0.39999999999999997, 47: 0.04, 48: 0.28, 24: 0.26, 30: 0.5800000000000001, 84: 0.26, 86: 0.08, 46: 0.14, 43: 0.3800000000000001, 88: 0.09, 89: 0.09, 91: 0.02, 49: 0.16999999999999998, 25: 0.09999999999999999, 93: 0.01}\n",
      "  pitch_class_distribution: {11: 10.089999999999996, 2: 12.329999999999995, 6: 8.58, 1: 7.799999999999995, 8: 7.709999999999996, 9: 11.039999999999997, 4: 9.410000000000002, 5: 10.049999999999997, 7: 12.669999999999995, 0: 10.229999999999999, 3: 7.769999999999999, 10: 8.759999999999996}\n",
      "  note_count: 116.44000000000007\n"
     ]
    }
   ],
   "source": [
    "average_results = average_analysis_results(analysis_results)\n",
    "\n",
    "# Print average results\n",
    "print(\"Average results:\")\n",
    "for key, value in average_results.items():\n",
    "    print(f\"  {key}: {value}\")\n",
    "\n",
    "# Save average results to file\n",
    "# with open('average_results.json', 'w') as f:\n",
    "#     json.dump(average_results, f, indent=4)\n",
    "\n",
    "# Save analysis results to file\n",
    "# with open('analysis_results.json', 'w') as f:\n",
    "#     json.dump(analysis_results, f, indent=4)"
   ]
  },
  {
   "cell_type": "code",
   "execution_count": 9,
   "metadata": {},
   "outputs": [
    {
     "data": {
      "application/vnd.plotly.v1+json": {
       "config": {
        "plotlyServerURL": "https://plot.ly"
       },
       "data": [
        {
         "alignmentgroup": "True",
         "hovertemplate": "x=%{x}<br>y=%{y}<extra></extra>",
         "legendgroup": "",
         "marker": {
          "color": "rgb(158,202,225)",
          "line": {
           "color": "rgb(8,48,107)",
           "width": 1.5
          },
          "pattern": {
           "shape": ""
          }
         },
         "name": "",
         "offsetgroup": "",
         "opacity": 0.6,
         "orientation": "h",
         "showlegend": false,
         "textposition": "auto",
         "type": "bar",
         "x": [
          4.09,
          4.319999999999999,
          7.209999999999999,
          5.18,
          1.4400000000000004,
          2.08,
          4.749999999999999,
          3.4499999999999984,
          4.339999999999998,
          5.969999999999999,
          1.3500000000000005,
          5.6099999999999985,
          0.39999999999999997,
          0.6300000000000001,
          0.9000000000000001,
          6.089999999999997,
          7.349999999999999,
          3.4899999999999993,
          1.0800000000000005,
          4.889999999999995,
          1.1900000000000004,
          1.5600000000000005,
          0.21000000000000002,
          1.6000000000000003,
          4.509999999999997,
          0.6800000000000002,
          3.549999999999999,
          0.6700000000000002,
          2.6399999999999992,
          0.48,
          1.3600000000000005,
          1.0500000000000003,
          1.4200000000000006,
          2.609999999999999,
          1.0900000000000003,
          0.9400000000000003,
          0.37,
          0.3800000000000001,
          3.3299999999999987,
          0.25,
          0.4700000000000001,
          0.19999999999999998,
          0.21000000000000002,
          0.07,
          0.48000000000000004,
          1.3300000000000005,
          0.76,
          1.3400000000000005,
          0.5900000000000001,
          0.7300000000000002,
          1.3300000000000003,
          0.6200000000000001,
          0.9000000000000001,
          0.39999999999999997,
          0.04,
          0.28,
          0.26,
          0.5800000000000001,
          0.26,
          0.08,
          0.14,
          0.3800000000000001,
          0.09,
          0.09,
          0.02,
          0.16999999999999998,
          0.09999999999999999,
          0.01
         ],
         "xaxis": "x",
         "y": [
          71,
          59,
          62,
          66,
          35,
          73,
          68,
          57,
          61,
          64,
          33,
          69,
          42,
          40,
          37,
          65,
          67,
          72,
          38,
          60,
          77,
          75,
          44,
          56,
          63,
          32,
          58,
          51,
          55,
          27,
          34,
          36,
          76,
          74,
          78,
          79,
          81,
          82,
          70,
          45,
          80,
          83,
          85,
          87,
          39,
          53,
          29,
          31,
          41,
          50,
          54,
          26,
          52,
          28,
          47,
          48,
          24,
          30,
          84,
          86,
          46,
          43,
          88,
          89,
          91,
          49,
          25,
          93
         ],
         "yaxis": "y"
        }
       ],
       "layout": {
        "autosize": false,
        "barmode": "overlay",
        "font": {
         "size": 13
        },
        "height": 1200,
        "legend": {
         "tracegroupgap": 0
        },
        "margin": {
         "t": 60
        },
        "plot_bgcolor": "white",
        "template": {
         "data": {
          "bar": [
           {
            "error_x": {
             "color": "#2a3f5f"
            },
            "error_y": {
             "color": "#2a3f5f"
            },
            "marker": {
             "line": {
              "color": "#E5ECF6",
              "width": 0.5
             },
             "pattern": {
              "fillmode": "overlay",
              "size": 10,
              "solidity": 0.2
             }
            },
            "type": "bar"
           }
          ],
          "barpolar": [
           {
            "marker": {
             "line": {
              "color": "#E5ECF6",
              "width": 0.5
             },
             "pattern": {
              "fillmode": "overlay",
              "size": 10,
              "solidity": 0.2
             }
            },
            "type": "barpolar"
           }
          ],
          "carpet": [
           {
            "aaxis": {
             "endlinecolor": "#2a3f5f",
             "gridcolor": "white",
             "linecolor": "white",
             "minorgridcolor": "white",
             "startlinecolor": "#2a3f5f"
            },
            "baxis": {
             "endlinecolor": "#2a3f5f",
             "gridcolor": "white",
             "linecolor": "white",
             "minorgridcolor": "white",
             "startlinecolor": "#2a3f5f"
            },
            "type": "carpet"
           }
          ],
          "choropleth": [
           {
            "colorbar": {
             "outlinewidth": 0,
             "ticks": ""
            },
            "type": "choropleth"
           }
          ],
          "contour": [
           {
            "colorbar": {
             "outlinewidth": 0,
             "ticks": ""
            },
            "colorscale": [
             [
              0,
              "#0d0887"
             ],
             [
              0.1111111111111111,
              "#46039f"
             ],
             [
              0.2222222222222222,
              "#7201a8"
             ],
             [
              0.3333333333333333,
              "#9c179e"
             ],
             [
              0.4444444444444444,
              "#bd3786"
             ],
             [
              0.5555555555555556,
              "#d8576b"
             ],
             [
              0.6666666666666666,
              "#ed7953"
             ],
             [
              0.7777777777777778,
              "#fb9f3a"
             ],
             [
              0.8888888888888888,
              "#fdca26"
             ],
             [
              1,
              "#f0f921"
             ]
            ],
            "type": "contour"
           }
          ],
          "contourcarpet": [
           {
            "colorbar": {
             "outlinewidth": 0,
             "ticks": ""
            },
            "type": "contourcarpet"
           }
          ],
          "heatmap": [
           {
            "colorbar": {
             "outlinewidth": 0,
             "ticks": ""
            },
            "colorscale": [
             [
              0,
              "#0d0887"
             ],
             [
              0.1111111111111111,
              "#46039f"
             ],
             [
              0.2222222222222222,
              "#7201a8"
             ],
             [
              0.3333333333333333,
              "#9c179e"
             ],
             [
              0.4444444444444444,
              "#bd3786"
             ],
             [
              0.5555555555555556,
              "#d8576b"
             ],
             [
              0.6666666666666666,
              "#ed7953"
             ],
             [
              0.7777777777777778,
              "#fb9f3a"
             ],
             [
              0.8888888888888888,
              "#fdca26"
             ],
             [
              1,
              "#f0f921"
             ]
            ],
            "type": "heatmap"
           }
          ],
          "heatmapgl": [
           {
            "colorbar": {
             "outlinewidth": 0,
             "ticks": ""
            },
            "colorscale": [
             [
              0,
              "#0d0887"
             ],
             [
              0.1111111111111111,
              "#46039f"
             ],
             [
              0.2222222222222222,
              "#7201a8"
             ],
             [
              0.3333333333333333,
              "#9c179e"
             ],
             [
              0.4444444444444444,
              "#bd3786"
             ],
             [
              0.5555555555555556,
              "#d8576b"
             ],
             [
              0.6666666666666666,
              "#ed7953"
             ],
             [
              0.7777777777777778,
              "#fb9f3a"
             ],
             [
              0.8888888888888888,
              "#fdca26"
             ],
             [
              1,
              "#f0f921"
             ]
            ],
            "type": "heatmapgl"
           }
          ],
          "histogram": [
           {
            "marker": {
             "pattern": {
              "fillmode": "overlay",
              "size": 10,
              "solidity": 0.2
             }
            },
            "type": "histogram"
           }
          ],
          "histogram2d": [
           {
            "colorbar": {
             "outlinewidth": 0,
             "ticks": ""
            },
            "colorscale": [
             [
              0,
              "#0d0887"
             ],
             [
              0.1111111111111111,
              "#46039f"
             ],
             [
              0.2222222222222222,
              "#7201a8"
             ],
             [
              0.3333333333333333,
              "#9c179e"
             ],
             [
              0.4444444444444444,
              "#bd3786"
             ],
             [
              0.5555555555555556,
              "#d8576b"
             ],
             [
              0.6666666666666666,
              "#ed7953"
             ],
             [
              0.7777777777777778,
              "#fb9f3a"
             ],
             [
              0.8888888888888888,
              "#fdca26"
             ],
             [
              1,
              "#f0f921"
             ]
            ],
            "type": "histogram2d"
           }
          ],
          "histogram2dcontour": [
           {
            "colorbar": {
             "outlinewidth": 0,
             "ticks": ""
            },
            "colorscale": [
             [
              0,
              "#0d0887"
             ],
             [
              0.1111111111111111,
              "#46039f"
             ],
             [
              0.2222222222222222,
              "#7201a8"
             ],
             [
              0.3333333333333333,
              "#9c179e"
             ],
             [
              0.4444444444444444,
              "#bd3786"
             ],
             [
              0.5555555555555556,
              "#d8576b"
             ],
             [
              0.6666666666666666,
              "#ed7953"
             ],
             [
              0.7777777777777778,
              "#fb9f3a"
             ],
             [
              0.8888888888888888,
              "#fdca26"
             ],
             [
              1,
              "#f0f921"
             ]
            ],
            "type": "histogram2dcontour"
           }
          ],
          "mesh3d": [
           {
            "colorbar": {
             "outlinewidth": 0,
             "ticks": ""
            },
            "type": "mesh3d"
           }
          ],
          "parcoords": [
           {
            "line": {
             "colorbar": {
              "outlinewidth": 0,
              "ticks": ""
             }
            },
            "type": "parcoords"
           }
          ],
          "pie": [
           {
            "automargin": true,
            "type": "pie"
           }
          ],
          "scatter": [
           {
            "fillpattern": {
             "fillmode": "overlay",
             "size": 10,
             "solidity": 0.2
            },
            "type": "scatter"
           }
          ],
          "scatter3d": [
           {
            "line": {
             "colorbar": {
              "outlinewidth": 0,
              "ticks": ""
             }
            },
            "marker": {
             "colorbar": {
              "outlinewidth": 0,
              "ticks": ""
             }
            },
            "type": "scatter3d"
           }
          ],
          "scattercarpet": [
           {
            "marker": {
             "colorbar": {
              "outlinewidth": 0,
              "ticks": ""
             }
            },
            "type": "scattercarpet"
           }
          ],
          "scattergeo": [
           {
            "marker": {
             "colorbar": {
              "outlinewidth": 0,
              "ticks": ""
             }
            },
            "type": "scattergeo"
           }
          ],
          "scattergl": [
           {
            "marker": {
             "colorbar": {
              "outlinewidth": 0,
              "ticks": ""
             }
            },
            "type": "scattergl"
           }
          ],
          "scattermapbox": [
           {
            "marker": {
             "colorbar": {
              "outlinewidth": 0,
              "ticks": ""
             }
            },
            "type": "scattermapbox"
           }
          ],
          "scatterpolar": [
           {
            "marker": {
             "colorbar": {
              "outlinewidth": 0,
              "ticks": ""
             }
            },
            "type": "scatterpolar"
           }
          ],
          "scatterpolargl": [
           {
            "marker": {
             "colorbar": {
              "outlinewidth": 0,
              "ticks": ""
             }
            },
            "type": "scatterpolargl"
           }
          ],
          "scatterternary": [
           {
            "marker": {
             "colorbar": {
              "outlinewidth": 0,
              "ticks": ""
             }
            },
            "type": "scatterternary"
           }
          ],
          "surface": [
           {
            "colorbar": {
             "outlinewidth": 0,
             "ticks": ""
            },
            "colorscale": [
             [
              0,
              "#0d0887"
             ],
             [
              0.1111111111111111,
              "#46039f"
             ],
             [
              0.2222222222222222,
              "#7201a8"
             ],
             [
              0.3333333333333333,
              "#9c179e"
             ],
             [
              0.4444444444444444,
              "#bd3786"
             ],
             [
              0.5555555555555556,
              "#d8576b"
             ],
             [
              0.6666666666666666,
              "#ed7953"
             ],
             [
              0.7777777777777778,
              "#fb9f3a"
             ],
             [
              0.8888888888888888,
              "#fdca26"
             ],
             [
              1,
              "#f0f921"
             ]
            ],
            "type": "surface"
           }
          ],
          "table": [
           {
            "cells": {
             "fill": {
              "color": "#EBF0F8"
             },
             "line": {
              "color": "white"
             }
            },
            "header": {
             "fill": {
              "color": "#C8D4E3"
             },
             "line": {
              "color": "white"
             }
            },
            "type": "table"
           }
          ]
         },
         "layout": {
          "annotationdefaults": {
           "arrowcolor": "#2a3f5f",
           "arrowhead": 0,
           "arrowwidth": 1
          },
          "autotypenumbers": "strict",
          "coloraxis": {
           "colorbar": {
            "outlinewidth": 0,
            "ticks": ""
           }
          },
          "colorscale": {
           "diverging": [
            [
             0,
             "#8e0152"
            ],
            [
             0.1,
             "#c51b7d"
            ],
            [
             0.2,
             "#de77ae"
            ],
            [
             0.3,
             "#f1b6da"
            ],
            [
             0.4,
             "#fde0ef"
            ],
            [
             0.5,
             "#f7f7f7"
            ],
            [
             0.6,
             "#e6f5d0"
            ],
            [
             0.7,
             "#b8e186"
            ],
            [
             0.8,
             "#7fbc41"
            ],
            [
             0.9,
             "#4d9221"
            ],
            [
             1,
             "#276419"
            ]
           ],
           "sequential": [
            [
             0,
             "#0d0887"
            ],
            [
             0.1111111111111111,
             "#46039f"
            ],
            [
             0.2222222222222222,
             "#7201a8"
            ],
            [
             0.3333333333333333,
             "#9c179e"
            ],
            [
             0.4444444444444444,
             "#bd3786"
            ],
            [
             0.5555555555555556,
             "#d8576b"
            ],
            [
             0.6666666666666666,
             "#ed7953"
            ],
            [
             0.7777777777777778,
             "#fb9f3a"
            ],
            [
             0.8888888888888888,
             "#fdca26"
            ],
            [
             1,
             "#f0f921"
            ]
           ],
           "sequentialminus": [
            [
             0,
             "#0d0887"
            ],
            [
             0.1111111111111111,
             "#46039f"
            ],
            [
             0.2222222222222222,
             "#7201a8"
            ],
            [
             0.3333333333333333,
             "#9c179e"
            ],
            [
             0.4444444444444444,
             "#bd3786"
            ],
            [
             0.5555555555555556,
             "#d8576b"
            ],
            [
             0.6666666666666666,
             "#ed7953"
            ],
            [
             0.7777777777777778,
             "#fb9f3a"
            ],
            [
             0.8888888888888888,
             "#fdca26"
            ],
            [
             1,
             "#f0f921"
            ]
           ]
          },
          "colorway": [
           "#636efa",
           "#EF553B",
           "#00cc96",
           "#ab63fa",
           "#FFA15A",
           "#19d3f3",
           "#FF6692",
           "#B6E880",
           "#FF97FF",
           "#FECB52"
          ],
          "font": {
           "color": "#2a3f5f"
          },
          "geo": {
           "bgcolor": "white",
           "lakecolor": "white",
           "landcolor": "#E5ECF6",
           "showlakes": true,
           "showland": true,
           "subunitcolor": "white"
          },
          "hoverlabel": {
           "align": "left"
          },
          "hovermode": "closest",
          "mapbox": {
           "style": "light"
          },
          "paper_bgcolor": "white",
          "plot_bgcolor": "#E5ECF6",
          "polar": {
           "angularaxis": {
            "gridcolor": "white",
            "linecolor": "white",
            "ticks": ""
           },
           "bgcolor": "#E5ECF6",
           "radialaxis": {
            "gridcolor": "white",
            "linecolor": "white",
            "ticks": ""
           }
          },
          "scene": {
           "xaxis": {
            "backgroundcolor": "#E5ECF6",
            "gridcolor": "white",
            "gridwidth": 2,
            "linecolor": "white",
            "showbackground": true,
            "ticks": "",
            "zerolinecolor": "white"
           },
           "yaxis": {
            "backgroundcolor": "#E5ECF6",
            "gridcolor": "white",
            "gridwidth": 2,
            "linecolor": "white",
            "showbackground": true,
            "ticks": "",
            "zerolinecolor": "white"
           },
           "zaxis": {
            "backgroundcolor": "#E5ECF6",
            "gridcolor": "white",
            "gridwidth": 2,
            "linecolor": "white",
            "showbackground": true,
            "ticks": "",
            "zerolinecolor": "white"
           }
          },
          "shapedefaults": {
           "line": {
            "color": "#2a3f5f"
           }
          },
          "ternary": {
           "aaxis": {
            "gridcolor": "white",
            "linecolor": "white",
            "ticks": ""
           },
           "baxis": {
            "gridcolor": "white",
            "linecolor": "white",
            "ticks": ""
           },
           "bgcolor": "#E5ECF6",
           "caxis": {
            "gridcolor": "white",
            "linecolor": "white",
            "ticks": ""
           }
          },
          "title": {
           "x": 0.05
          },
          "xaxis": {
           "automargin": true,
           "gridcolor": "white",
           "linecolor": "white",
           "ticks": "",
           "title": {
            "standoff": 15
           },
           "zerolinecolor": "white",
           "zerolinewidth": 2
          },
          "yaxis": {
           "automargin": true,
           "gridcolor": "white",
           "linecolor": "white",
           "ticks": "",
           "title": {
            "standoff": 15
           },
           "zerolinecolor": "white",
           "zerolinewidth": 2
          }
         }
        },
        "title": {
         "text": "Hooktheory (n = 100)"
        },
        "width": 450,
        "xaxis": {
         "anchor": "y",
         "domain": [
          0,
          1
         ],
         "gridcolor": "rgb(158,202,225)",
         "gridwidth": 1,
         "showgrid": true,
         "tickvals": [
          0,
          1,
          2,
          3,
          4,
          5,
          6,
          7,
          8
         ],
         "title": {
          "text": "Số lần xuất hiện trung bình"
         }
        },
        "yaxis": {
         "anchor": "x",
         "domain": [
          0,
          1
         ],
         "tickvals": [
          0,
          5,
          10,
          15,
          20,
          25,
          30,
          35,
          40,
          45,
          50,
          55,
          60,
          65,
          70,
          75,
          80,
          85,
          90
         ],
         "title": {
          "text": "Cao độ"
         }
        }
       }
      }
     },
     "metadata": {},
     "output_type": "display_data"
    },
    {
     "data": {
      "application/vnd.plotly.v1+json": {
       "config": {
        "plotlyServerURL": "https://plot.ly"
       },
       "data": [
        {
         "alignmentgroup": "True",
         "hovertemplate": "x=%{x}<br>y=%{y}<extra></extra>",
         "legendgroup": "",
         "marker": {
          "color": "rgb(158,202,225)",
          "line": {
           "color": "rgb(8,48,107)",
           "width": 1.5
          },
          "pattern": {
           "shape": ""
          }
         },
         "name": "",
         "offsetgroup": "",
         "opacity": 0.6,
         "orientation": "v",
         "showlegend": false,
         "textposition": "auto",
         "type": "bar",
         "x": [
          11,
          2,
          6,
          1,
          8,
          9,
          4,
          5,
          7,
          0,
          3,
          10
         ],
         "xaxis": "x",
         "y": [
          10.089999999999996,
          12.329999999999995,
          8.58,
          7.799999999999995,
          7.709999999999996,
          11.039999999999997,
          9.410000000000002,
          10.049999999999997,
          12.669999999999995,
          10.229999999999999,
          7.769999999999999,
          8.759999999999996
         ],
         "yaxis": "y"
        }
       ],
       "layout": {
        "autosize": false,
        "barmode": "relative",
        "font": {
         "size": 13
        },
        "height": 400,
        "legend": {
         "tracegroupgap": 0
        },
        "margin": {
         "t": 60
        },
        "plot_bgcolor": "white",
        "template": {
         "data": {
          "bar": [
           {
            "error_x": {
             "color": "#2a3f5f"
            },
            "error_y": {
             "color": "#2a3f5f"
            },
            "marker": {
             "line": {
              "color": "#E5ECF6",
              "width": 0.5
             },
             "pattern": {
              "fillmode": "overlay",
              "size": 10,
              "solidity": 0.2
             }
            },
            "type": "bar"
           }
          ],
          "barpolar": [
           {
            "marker": {
             "line": {
              "color": "#E5ECF6",
              "width": 0.5
             },
             "pattern": {
              "fillmode": "overlay",
              "size": 10,
              "solidity": 0.2
             }
            },
            "type": "barpolar"
           }
          ],
          "carpet": [
           {
            "aaxis": {
             "endlinecolor": "#2a3f5f",
             "gridcolor": "white",
             "linecolor": "white",
             "minorgridcolor": "white",
             "startlinecolor": "#2a3f5f"
            },
            "baxis": {
             "endlinecolor": "#2a3f5f",
             "gridcolor": "white",
             "linecolor": "white",
             "minorgridcolor": "white",
             "startlinecolor": "#2a3f5f"
            },
            "type": "carpet"
           }
          ],
          "choropleth": [
           {
            "colorbar": {
             "outlinewidth": 0,
             "ticks": ""
            },
            "type": "choropleth"
           }
          ],
          "contour": [
           {
            "colorbar": {
             "outlinewidth": 0,
             "ticks": ""
            },
            "colorscale": [
             [
              0,
              "#0d0887"
             ],
             [
              0.1111111111111111,
              "#46039f"
             ],
             [
              0.2222222222222222,
              "#7201a8"
             ],
             [
              0.3333333333333333,
              "#9c179e"
             ],
             [
              0.4444444444444444,
              "#bd3786"
             ],
             [
              0.5555555555555556,
              "#d8576b"
             ],
             [
              0.6666666666666666,
              "#ed7953"
             ],
             [
              0.7777777777777778,
              "#fb9f3a"
             ],
             [
              0.8888888888888888,
              "#fdca26"
             ],
             [
              1,
              "#f0f921"
             ]
            ],
            "type": "contour"
           }
          ],
          "contourcarpet": [
           {
            "colorbar": {
             "outlinewidth": 0,
             "ticks": ""
            },
            "type": "contourcarpet"
           }
          ],
          "heatmap": [
           {
            "colorbar": {
             "outlinewidth": 0,
             "ticks": ""
            },
            "colorscale": [
             [
              0,
              "#0d0887"
             ],
             [
              0.1111111111111111,
              "#46039f"
             ],
             [
              0.2222222222222222,
              "#7201a8"
             ],
             [
              0.3333333333333333,
              "#9c179e"
             ],
             [
              0.4444444444444444,
              "#bd3786"
             ],
             [
              0.5555555555555556,
              "#d8576b"
             ],
             [
              0.6666666666666666,
              "#ed7953"
             ],
             [
              0.7777777777777778,
              "#fb9f3a"
             ],
             [
              0.8888888888888888,
              "#fdca26"
             ],
             [
              1,
              "#f0f921"
             ]
            ],
            "type": "heatmap"
           }
          ],
          "heatmapgl": [
           {
            "colorbar": {
             "outlinewidth": 0,
             "ticks": ""
            },
            "colorscale": [
             [
              0,
              "#0d0887"
             ],
             [
              0.1111111111111111,
              "#46039f"
             ],
             [
              0.2222222222222222,
              "#7201a8"
             ],
             [
              0.3333333333333333,
              "#9c179e"
             ],
             [
              0.4444444444444444,
              "#bd3786"
             ],
             [
              0.5555555555555556,
              "#d8576b"
             ],
             [
              0.6666666666666666,
              "#ed7953"
             ],
             [
              0.7777777777777778,
              "#fb9f3a"
             ],
             [
              0.8888888888888888,
              "#fdca26"
             ],
             [
              1,
              "#f0f921"
             ]
            ],
            "type": "heatmapgl"
           }
          ],
          "histogram": [
           {
            "marker": {
             "pattern": {
              "fillmode": "overlay",
              "size": 10,
              "solidity": 0.2
             }
            },
            "type": "histogram"
           }
          ],
          "histogram2d": [
           {
            "colorbar": {
             "outlinewidth": 0,
             "ticks": ""
            },
            "colorscale": [
             [
              0,
              "#0d0887"
             ],
             [
              0.1111111111111111,
              "#46039f"
             ],
             [
              0.2222222222222222,
              "#7201a8"
             ],
             [
              0.3333333333333333,
              "#9c179e"
             ],
             [
              0.4444444444444444,
              "#bd3786"
             ],
             [
              0.5555555555555556,
              "#d8576b"
             ],
             [
              0.6666666666666666,
              "#ed7953"
             ],
             [
              0.7777777777777778,
              "#fb9f3a"
             ],
             [
              0.8888888888888888,
              "#fdca26"
             ],
             [
              1,
              "#f0f921"
             ]
            ],
            "type": "histogram2d"
           }
          ],
          "histogram2dcontour": [
           {
            "colorbar": {
             "outlinewidth": 0,
             "ticks": ""
            },
            "colorscale": [
             [
              0,
              "#0d0887"
             ],
             [
              0.1111111111111111,
              "#46039f"
             ],
             [
              0.2222222222222222,
              "#7201a8"
             ],
             [
              0.3333333333333333,
              "#9c179e"
             ],
             [
              0.4444444444444444,
              "#bd3786"
             ],
             [
              0.5555555555555556,
              "#d8576b"
             ],
             [
              0.6666666666666666,
              "#ed7953"
             ],
             [
              0.7777777777777778,
              "#fb9f3a"
             ],
             [
              0.8888888888888888,
              "#fdca26"
             ],
             [
              1,
              "#f0f921"
             ]
            ],
            "type": "histogram2dcontour"
           }
          ],
          "mesh3d": [
           {
            "colorbar": {
             "outlinewidth": 0,
             "ticks": ""
            },
            "type": "mesh3d"
           }
          ],
          "parcoords": [
           {
            "line": {
             "colorbar": {
              "outlinewidth": 0,
              "ticks": ""
             }
            },
            "type": "parcoords"
           }
          ],
          "pie": [
           {
            "automargin": true,
            "type": "pie"
           }
          ],
          "scatter": [
           {
            "fillpattern": {
             "fillmode": "overlay",
             "size": 10,
             "solidity": 0.2
            },
            "type": "scatter"
           }
          ],
          "scatter3d": [
           {
            "line": {
             "colorbar": {
              "outlinewidth": 0,
              "ticks": ""
             }
            },
            "marker": {
             "colorbar": {
              "outlinewidth": 0,
              "ticks": ""
             }
            },
            "type": "scatter3d"
           }
          ],
          "scattercarpet": [
           {
            "marker": {
             "colorbar": {
              "outlinewidth": 0,
              "ticks": ""
             }
            },
            "type": "scattercarpet"
           }
          ],
          "scattergeo": [
           {
            "marker": {
             "colorbar": {
              "outlinewidth": 0,
              "ticks": ""
             }
            },
            "type": "scattergeo"
           }
          ],
          "scattergl": [
           {
            "marker": {
             "colorbar": {
              "outlinewidth": 0,
              "ticks": ""
             }
            },
            "type": "scattergl"
           }
          ],
          "scattermapbox": [
           {
            "marker": {
             "colorbar": {
              "outlinewidth": 0,
              "ticks": ""
             }
            },
            "type": "scattermapbox"
           }
          ],
          "scatterpolar": [
           {
            "marker": {
             "colorbar": {
              "outlinewidth": 0,
              "ticks": ""
             }
            },
            "type": "scatterpolar"
           }
          ],
          "scatterpolargl": [
           {
            "marker": {
             "colorbar": {
              "outlinewidth": 0,
              "ticks": ""
             }
            },
            "type": "scatterpolargl"
           }
          ],
          "scatterternary": [
           {
            "marker": {
             "colorbar": {
              "outlinewidth": 0,
              "ticks": ""
             }
            },
            "type": "scatterternary"
           }
          ],
          "surface": [
           {
            "colorbar": {
             "outlinewidth": 0,
             "ticks": ""
            },
            "colorscale": [
             [
              0,
              "#0d0887"
             ],
             [
              0.1111111111111111,
              "#46039f"
             ],
             [
              0.2222222222222222,
              "#7201a8"
             ],
             [
              0.3333333333333333,
              "#9c179e"
             ],
             [
              0.4444444444444444,
              "#bd3786"
             ],
             [
              0.5555555555555556,
              "#d8576b"
             ],
             [
              0.6666666666666666,
              "#ed7953"
             ],
             [
              0.7777777777777778,
              "#fb9f3a"
             ],
             [
              0.8888888888888888,
              "#fdca26"
             ],
             [
              1,
              "#f0f921"
             ]
            ],
            "type": "surface"
           }
          ],
          "table": [
           {
            "cells": {
             "fill": {
              "color": "#EBF0F8"
             },
             "line": {
              "color": "white"
             }
            },
            "header": {
             "fill": {
              "color": "#C8D4E3"
             },
             "line": {
              "color": "white"
             }
            },
            "type": "table"
           }
          ]
         },
         "layout": {
          "annotationdefaults": {
           "arrowcolor": "#2a3f5f",
           "arrowhead": 0,
           "arrowwidth": 1
          },
          "autotypenumbers": "strict",
          "coloraxis": {
           "colorbar": {
            "outlinewidth": 0,
            "ticks": ""
           }
          },
          "colorscale": {
           "diverging": [
            [
             0,
             "#8e0152"
            ],
            [
             0.1,
             "#c51b7d"
            ],
            [
             0.2,
             "#de77ae"
            ],
            [
             0.3,
             "#f1b6da"
            ],
            [
             0.4,
             "#fde0ef"
            ],
            [
             0.5,
             "#f7f7f7"
            ],
            [
             0.6,
             "#e6f5d0"
            ],
            [
             0.7,
             "#b8e186"
            ],
            [
             0.8,
             "#7fbc41"
            ],
            [
             0.9,
             "#4d9221"
            ],
            [
             1,
             "#276419"
            ]
           ],
           "sequential": [
            [
             0,
             "#0d0887"
            ],
            [
             0.1111111111111111,
             "#46039f"
            ],
            [
             0.2222222222222222,
             "#7201a8"
            ],
            [
             0.3333333333333333,
             "#9c179e"
            ],
            [
             0.4444444444444444,
             "#bd3786"
            ],
            [
             0.5555555555555556,
             "#d8576b"
            ],
            [
             0.6666666666666666,
             "#ed7953"
            ],
            [
             0.7777777777777778,
             "#fb9f3a"
            ],
            [
             0.8888888888888888,
             "#fdca26"
            ],
            [
             1,
             "#f0f921"
            ]
           ],
           "sequentialminus": [
            [
             0,
             "#0d0887"
            ],
            [
             0.1111111111111111,
             "#46039f"
            ],
            [
             0.2222222222222222,
             "#7201a8"
            ],
            [
             0.3333333333333333,
             "#9c179e"
            ],
            [
             0.4444444444444444,
             "#bd3786"
            ],
            [
             0.5555555555555556,
             "#d8576b"
            ],
            [
             0.6666666666666666,
             "#ed7953"
            ],
            [
             0.7777777777777778,
             "#fb9f3a"
            ],
            [
             0.8888888888888888,
             "#fdca26"
            ],
            [
             1,
             "#f0f921"
            ]
           ]
          },
          "colorway": [
           "#636efa",
           "#EF553B",
           "#00cc96",
           "#ab63fa",
           "#FFA15A",
           "#19d3f3",
           "#FF6692",
           "#B6E880",
           "#FF97FF",
           "#FECB52"
          ],
          "font": {
           "color": "#2a3f5f"
          },
          "geo": {
           "bgcolor": "white",
           "lakecolor": "white",
           "landcolor": "#E5ECF6",
           "showlakes": true,
           "showland": true,
           "subunitcolor": "white"
          },
          "hoverlabel": {
           "align": "left"
          },
          "hovermode": "closest",
          "mapbox": {
           "style": "light"
          },
          "paper_bgcolor": "white",
          "plot_bgcolor": "#E5ECF6",
          "polar": {
           "angularaxis": {
            "gridcolor": "white",
            "linecolor": "white",
            "ticks": ""
           },
           "bgcolor": "#E5ECF6",
           "radialaxis": {
            "gridcolor": "white",
            "linecolor": "white",
            "ticks": ""
           }
          },
          "scene": {
           "xaxis": {
            "backgroundcolor": "#E5ECF6",
            "gridcolor": "white",
            "gridwidth": 2,
            "linecolor": "white",
            "showbackground": true,
            "ticks": "",
            "zerolinecolor": "white"
           },
           "yaxis": {
            "backgroundcolor": "#E5ECF6",
            "gridcolor": "white",
            "gridwidth": 2,
            "linecolor": "white",
            "showbackground": true,
            "ticks": "",
            "zerolinecolor": "white"
           },
           "zaxis": {
            "backgroundcolor": "#E5ECF6",
            "gridcolor": "white",
            "gridwidth": 2,
            "linecolor": "white",
            "showbackground": true,
            "ticks": "",
            "zerolinecolor": "white"
           }
          },
          "shapedefaults": {
           "line": {
            "color": "#2a3f5f"
           }
          },
          "ternary": {
           "aaxis": {
            "gridcolor": "white",
            "linecolor": "white",
            "ticks": ""
           },
           "baxis": {
            "gridcolor": "white",
            "linecolor": "white",
            "ticks": ""
           },
           "bgcolor": "#E5ECF6",
           "caxis": {
            "gridcolor": "white",
            "linecolor": "white",
            "ticks": ""
           }
          },
          "title": {
           "x": 0.05
          },
          "xaxis": {
           "automargin": true,
           "gridcolor": "white",
           "linecolor": "white",
           "ticks": "",
           "title": {
            "standoff": 15
           },
           "zerolinecolor": "white",
           "zerolinewidth": 2
          },
          "yaxis": {
           "automargin": true,
           "gridcolor": "white",
           "linecolor": "white",
           "ticks": "",
           "title": {
            "standoff": 15
           },
           "zerolinecolor": "white",
           "zerolinewidth": 2
          }
         }
        },
        "title": {
         "text": "Hooktheory (n = 100)"
        },
        "width": 650,
        "xaxis": {
         "anchor": "y",
         "domain": [
          0,
          1
         ],
         "tickvals": [
          0,
          1,
          2,
          3,
          4,
          5,
          6,
          7,
          8,
          9,
          10,
          11
         ],
         "title": {
          "text": "Cao độ cơ bản"
         }
        },
        "yaxis": {
         "anchor": "x",
         "domain": [
          0,
          1
         ],
         "gridcolor": "rgb(158,202,225)",
         "gridwidth": 1,
         "showgrid": true,
         "title": {
          "text": "Số lần xuất hiện trung bình"
         }
        }
       }
      }
     },
     "metadata": {},
     "output_type": "display_data"
    },
    {
     "name": "stdout",
     "output_type": "stream",
     "text": [
      "Số lượng nốt nhạc trung bình trong một đoạn nhạc từ Hooktheory (n = 100): 116.44000000000007\n"
     ]
    }
   ],
   "source": [
    "# Horizontal bar chart for pitch counts using plotly express (with y is the pitch and x is the count)\n",
    "fig = px.bar(\n",
    "    x=list(average_results['pitch_counts'].values()), \n",
    "    y=list(average_results['pitch_counts'].keys()), \n",
    "    orientation='h'\n",
    ")\n",
    "\n",
    "fig.update_layout(\n",
    "    title=f'Hooktheory (n = {n_file_to_analyze})', \n",
    "    xaxis_title='Số lần xuất hiện trung bình',\n",
    "    yaxis_title='Cao độ'\n",
    ")\n",
    "\n",
    "# Show labels 0, 5, 10, 15, ... in y-axis\n",
    "y_axis_tickvals = list(range(0, max(average_results['pitch_counts'].keys()) + 1, 5))\n",
    "fig.update_yaxes(tickvals=y_axis_tickvals)\n",
    "\n",
    "# Show labels 0, 1, 2, 3, ... in x-axis\n",
    "x_axis_tickvals = list(range(\n",
    "    0, \n",
    "    int(max(average_results['pitch_counts'].values())) + 1 + 1\n",
    "))\n",
    "fig.update_xaxes(tickvals=x_axis_tickvals)\n",
    "\n",
    "# Change the color set to make it easier to see when printed in black and white\n",
    "fig.update_traces(marker_color='rgb(158,202,225)', marker_line_color='rgb(8,48,107)', marker_line_width=1.5, opacity=0.6)\n",
    "\n",
    "# Change the background color to make it easier to see when printed in black and white\n",
    "fig.update_layout(plot_bgcolor='white')\n",
    "\n",
    "# Show the vertical grid lines\n",
    "fig.update_layout(xaxis=dict(showgrid=True, gridwidth=1, gridcolor='rgb(158,202,225)'))\n",
    "\n",
    "# Make the colums overlay the grid lines\n",
    "fig.update_layout(barmode='overlay')\n",
    "\n",
    "# Make the font size bigger\n",
    "fig.update_layout(font=dict(size=13))\n",
    "\n",
    "# Make the plot ratio x:y\n",
    "fig.update_layout(\n",
    "    autosize=False,\n",
    "    width=450,\n",
    "    height=1200,\n",
    ")\n",
    "\n",
    "fig.show()\n",
    "\n",
    "\n",
    "# Pitch class distribution\n",
    "fig = px.bar(x=list(average_results['pitch_class_distribution'].keys()), y=list(average_results['pitch_class_distribution'].values()))\n",
    "fig.update_layout(\n",
    "    title=f'Hooktheory (n = {n_file_to_analyze})', \n",
    "    yaxis_title='Số lần xuất hiện trung bình',\n",
    "    xaxis_title='Cao độ cơ bản'\n",
    ")\n",
    "\n",
    "# Show labels 0, 1, 2, 3, ... in x-axis\n",
    "x_axis_tickvals = list(range(0, max(average_results['pitch_class_distribution'].keys()) + 1))\n",
    "fig.update_xaxes(tickvals=x_axis_tickvals)\n",
    "\n",
    "# Change the color set to make it easier to see when printed in black and white\n",
    "fig.update_traces(marker_color='rgb(158,202,225)', marker_line_color='rgb(8,48,107)', marker_line_width=1.5, opacity=0.6)\n",
    "\n",
    "# Change the background color to make it easier to see when printed in black and white\n",
    "fig.update_layout(plot_bgcolor='white')\n",
    "\n",
    "# Show the horizontal grid lines\n",
    "fig.update_layout(yaxis=dict(showgrid=True, gridwidth=1, gridcolor='rgb(158,202,225)'))\n",
    "\n",
    "# Make the font size bigger\n",
    "fig.update_layout(font=dict(size=13))\n",
    "\n",
    "# Make the plot ratio x:y\n",
    "fig.update_layout(\n",
    "    autosize=False,\n",
    "    width=650,\n",
    "    height=400,\n",
    ")\n",
    "\n",
    "fig.show()\n",
    "\n",
    "# Note count\n",
    "print(f\"Số lượng nốt nhạc trung bình trong một đoạn nhạc từ Hooktheory (n = {n_file_to_analyze}): {average_results['note_count']}\")"
   ]
  },
  {
   "cell_type": "markdown",
   "metadata": {},
   "source": [
    "# Model Output"
   ]
  },
  {
   "cell_type": "code",
   "execution_count": 10,
   "metadata": {},
   "outputs": [
    {
     "name": "stdout",
     "output_type": "stream",
     "text": [
      "Analyzing file 1 of 906 - 166_2024_07_28_11_pm_164.mid\n",
      "Analyzing file 2 of 906 - 257_2024_07_29_10_am_82.mid\n",
      "Analyzing file 3 of 906 - 71_2024_07_28_09_am_69.mid\n",
      "Analyzing file 4 of 906 - 258_2024_07_29_10_am_83.mid\n",
      "Analyzing file 5 of 906 - 230_2024_07_29_06_am_55.mid\n",
      "Analyzing file 6 of 906 - 107_2024_07_28_03_pm_105.mid\n",
      "Analyzing file 7 of 906 - 52_2024_07_28_06_am_50.mid\n",
      "Analyzing file 8 of 906 - 118_2024_07_28_04_pm_116.mid\n",
      "Analyzing file 9 of 906 - 210_2024_07_29_04_am_35.mid\n",
      "Analyzing file 10 of 906 - 97_2024_07_28_01_pm_95.mid\n",
      "Analyzing file 11 of 906 - 249_2024_07_29_09_am_74.mid\n",
      "Analyzing file 12 of 906 - 0_2024_07_27_11_pm_2.mid\n",
      "Analyzing file 13 of 906 - 55_2024_07_28_07_am_53.mid\n",
      "Analyzing file 14 of 906 - 244_2024_07_29_09_am_69.mid\n",
      "Analyzing file 15 of 906 - 263_2024_07_29_11_am_88.mid\n",
      "Analyzing file 16 of 906 - 189_2024_07_29_01_am_14.mid\n",
      "Analyzing file 17 of 906 - 161_2024_07_28_10_pm_159.mid\n",
      "Analyzing file 18 of 906 - 235_2024_07_29_07_am_60.mid\n",
      "Analyzing file 19 of 906 - 101_2024_07_28_02_pm_99.mid\n",
      "Analyzing file 20 of 906 - 223_2024_07_29_05_am_48.mid\n",
      "Analyzing file 21 of 906 - 180_2024_07_29_00_am_5.mid\n",
      "Analyzing file 22 of 906 - 271_2024_07_29_01_pm_96.mid\n",
      "Analyzing file 23 of 906 - 98_2024_07_28_01_pm_96.mid\n",
      "Analyzing file 24 of 906 - 14_2024_07_28_01_am_11.mid\n",
      "Analyzing file 25 of 906 - 0_2024_07_27_11_pm_1.mid\n",
      "Analyzing file 26 of 906 - 227_2024_07_29_06_am_52.mid\n",
      "Analyzing file 27 of 906 - 136_2024_07_28_06_pm_134.mid\n",
      "Analyzing file 28 of 906 - 265_2024_07_29_11_am_90.mid\n",
      "Analyzing file 29 of 906 - 228_2024_07_29_06_am_53.mid\n",
      "Analyzing file 30 of 906 - 253_2024_07_29_10_am_78.mid\n",
      "Analyzing file 31 of 906 - 93_2024_07_28_01_pm_91.mid\n",
      "Analyzing file 32 of 906 - 36_2024_07_28_04_am_34.mid\n",
      "Analyzing file 33 of 906 - 195_2024_07_29_02_am_20.mid\n",
      "Analyzing file 34 of 906 - 208_2024_07_29_04_am_33.mid\n",
      "Analyzing file 35 of 906 - 121_2024_07_28_04_pm_119.mid\n",
      "Analyzing file 36 of 906 - 78_2024_07_28_10_am_76.mid\n",
      "Analyzing file 37 of 906 - 91_2024_07_28_01_pm_89.mid\n",
      "Analyzing file 38 of 906 - 177_2024_07_29_00_am_2.mid\n",
      "Analyzing file 39 of 906 - 179_2024_07_29_00_am_4.mid\n",
      "Analyzing file 40 of 906 - 297_2024_07_29_08_pm_11.mid\n",
      "Analyzing file 41 of 906 - 83_2024_07_28_11_am_81.mid\n",
      "Analyzing file 42 of 906 - 191_2024_07_29_01_am_16.mid\n",
      "Analyzing file 43 of 906 - 63_2024_07_28_08_am_61.mid\n",
      "Analyzing file 44 of 906 - 73_2024_07_28_10_am_71.mid\n",
      "Analyzing file 45 of 906 - 43_2024_07_28_05_am_41.mid\n",
      "Analyzing file 46 of 906 - 145_2024_07_28_08_pm_143.mid\n",
      "Analyzing file 47 of 906 - 132_2024_07_28_06_pm_130.mid\n",
      "Analyzing file 48 of 906 - 295_2024_07_29_07_pm_9.mid\n",
      "Analyzing file 49 of 906 - 261_2024_07_29_11_am_86.mid\n",
      "Analyzing file 50 of 906 - 154_2024_07_28_09_pm_152.mid\n",
      "Analyzing file 51 of 906 - 126_2024_07_28_05_pm_124.mid\n",
      "Analyzing file 52 of 906 - 221_2024_07_29_05_am_46.mid\n",
      "Analyzing file 53 of 906 - 186_2024_07_29_01_am_11.mid\n",
      "Analyzing file 54 of 906 - 275_2024_07_29_02_pm_100.mid\n",
      "Analyzing file 55 of 906 - 21_2024_07_28_02_am_19.mid\n",
      "Analyzing file 56 of 906 - 87_2024_07_28_11_am_85.mid\n",
      "Analyzing file 57 of 906 - 269_2024_07_29_01_pm_94.mid\n",
      "Analyzing file 58 of 906 - 158_2024_07_28_10_pm_156.mid\n",
      "Analyzing file 59 of 906 - 246_2024_07_29_09_am_71.mid\n",
      "Analyzing file 60 of 906 - 90_2024_07_28_12_am_88.mid\n",
      "Analyzing file 61 of 906 - 290_2024_07_29_05_pm_4.mid\n",
      "Analyzing file 62 of 906 - 298_2024_07_29_08_pm_12.mid\n",
      "Analyzing file 63 of 906 - 251_2024_07_29_10_am_76.mid\n",
      "Analyzing file 64 of 906 - 200_2024_07_29_03_am_25.mid\n",
      "Analyzing file 65 of 906 - 25_2024_07_28_02_am_23.mid\n",
      "Analyzing file 66 of 906 - 174_2024_07_28_11_pm_172.mid\n",
      "Analyzing file 67 of 906 - 241_2024_07_29_08_am_66.mid\n",
      "Analyzing file 68 of 906 - 50_2024_07_28_06_am_48.mid\n",
      "Analyzing file 69 of 906 - 104_2024_07_28_02_pm_102.mid\n",
      "Analyzing file 70 of 906 - 29_2024_07_28_03_am_27.mid\n",
      "Analyzing file 71 of 906 - 77_2024_07_28_10_am_75.mid\n",
      "Analyzing file 72 of 906 - 115_2024_07_28_03_pm_113.mid\n",
      "Analyzing file 73 of 906 - 13_2024_07_28_01_am_10.mid\n",
      "Analyzing file 74 of 906 - 120_2024_07_28_04_pm_118.mid\n",
      "Analyzing file 75 of 906 - 182_2024_07_29_00_am_7.mid\n",
      "Analyzing file 76 of 906 - 35_2024_07_28_04_am_33.mid\n",
      "Analyzing file 77 of 906 - 46_2024_07_28_06_am_44.mid\n",
      "Analyzing file 78 of 906 - 18_2024_07_28_01_am_16.mid\n",
      "Analyzing file 79 of 906 - 39_2024_07_28_05_am_37.mid\n",
      "Analyzing file 80 of 906 - 252_2024_07_29_10_am_77.mid\n",
      "Analyzing file 81 of 906 - 41_2024_07_28_05_am_39.mid\n",
      "Analyzing file 82 of 906 - 242_2024_07_29_08_am_67.mid\n",
      "Analyzing file 83 of 906 - 176_2024_07_29_00_am_1.mid\n",
      "Analyzing file 84 of 906 - 282_2024_07_29_04_pm_107.mid\n",
      "Analyzing file 85 of 906 - 245_2024_07_29_09_am_70.mid\n",
      "Analyzing file 86 of 906 - 254_2024_07_29_10_am_79.mid\n",
      "Analyzing file 87 of 906 - 133_2024_07_28_06_pm_131.mid\n",
      "Analyzing file 88 of 906 - 185_2024_07_29_01_am_10.mid\n",
      "Analyzing file 89 of 906 - 222_2024_07_29_05_am_47.mid\n",
      "Analyzing file 90 of 906 - 144_2024_07_28_08_pm_142.mid\n",
      "Analyzing file 91 of 906 - 155_2024_07_28_09_pm_153.mid\n",
      "Analyzing file 92 of 906 - 89_2024_07_28_12_am_87.mid\n",
      "Analyzing file 93 of 906 - 239_2024_07_29_07_am_64.mid\n",
      "Analyzing file 94 of 906 - 127_2024_07_28_05_pm_125.mid\n",
      "Analyzing file 95 of 906 - 262_2024_07_29_11_am_87.mid\n",
      "Analyzing file 96 of 906 - 18_2024_07_28_01_am_15.mid\n",
      "Analyzing file 97 of 906 - 94_2024_07_28_01_pm_92.mid\n",
      "Analyzing file 98 of 906 - 17_2024_07_28_01_am_14.mid\n",
      "Analyzing file 99 of 906 - 277_2024_07_29_03_pm_102.mid\n",
      "Analyzing file 100 of 906 - 56_2024_07_28_07_am_54.mid\n",
      "Analyzing file 101 of 906 - 159_2024_07_28_10_pm_157.mid\n",
      "Analyzing file 102 of 906 - 164_2024_07_28_10_pm_162.mid\n",
      "Analyzing file 103 of 906 - 30_2024_07_28_03_am_28.mid\n",
      "Analyzing file 104 of 906 - 218_2024_07_29_05_am_43.mid\n",
      "Analyzing file 105 of 906 - 217_2024_07_29_05_am_42.mid\n",
      "Analyzing file 106 of 906 - 264_2024_07_29_11_am_89.mid\n",
      "Analyzing file 107 of 906 - 49_2024_07_28_06_am_47.mid\n",
      "Analyzing file 108 of 906 - 243_2024_07_29_09_am_68.mid\n",
      "Analyzing file 109 of 906 - 105_2024_07_28_02_pm_103.mid\n",
      "Analyzing file 110 of 906 - 11_2024_07_28_00_am_8.mid\n",
      "Analyzing file 111 of 906 - 199_2024_07_29_02_am_24.mid\n",
      "Analyzing file 112 of 906 - 114_2024_07_28_03_pm_112.mid\n",
      "Analyzing file 113 of 906 - 294_2024_07_29_07_pm_8.mid\n",
      "Analyzing file 114 of 906 - 167_2024_07_28_11_pm_165.mid\n",
      "Analyzing file 115 of 906 - 64_2024_07_28_08_am_62.mid\n",
      "Analyzing file 116 of 906 - 74_2024_07_28_10_am_72.mid\n",
      "Analyzing file 117 of 906 - 196_2024_07_29_02_am_21.mid\n",
      "Analyzing file 118 of 906 - 2_2024_07_27_11_pm_4.mid\n",
      "Analyzing file 119 of 906 - 44_2024_07_28_05_am_42.mid\n",
      "Analyzing file 120 of 906 - 12_2024_07_28_00_am_9.mid\n",
      "Analyzing file 121 of 906 - 32_2024_07_28_03_am_30.mid\n",
      "Analyzing file 122 of 906 - 26_2024_07_28_02_am_24.mid\n",
      "Analyzing file 123 of 906 - 68_2024_07_28_09_am_66.mid\n",
      "Analyzing file 124 of 906 - 119_2024_07_28_04_pm_117.mid\n",
      "Analyzing file 125 of 906 - 148_2024_07_28_08_pm_146.mid\n",
      "Analyzing file 126 of 906 - 60_2024_07_28_08_am_58.mid\n",
      "Analyzing file 127 of 906 - 99_2024_07_28_02_pm_97.mid\n",
      "Analyzing file 128 of 906 - 236_2024_07_29_07_am_61.mid\n",
      "Analyzing file 129 of 906 - 84_2024_07_28_11_am_82.mid\n",
      "Analyzing file 130 of 906 - 160_2024_07_28_10_pm_158.mid\n",
      "Analyzing file 131 of 906 - 22_2024_07_28_02_am_20.mid\n",
      "Analyzing file 132 of 906 - 175_2024_07_29_00_am_0.mid\n",
      "Analyzing file 133 of 906 - 207_2024_07_29_03_am_32.mid\n",
      "Analyzing file 134 of 906 - 284_2024_07_29_04_pm_109.mid\n",
      "Analyzing file 135 of 906 - 80_2024_07_28_11_am_78.mid\n",
      "Analyzing file 136 of 906 - 178_2024_07_29_00_am_3.mid\n",
      "Analyzing file 137 of 906 - 181_2024_07_29_00_am_6.mid\n",
      "Analyzing file 138 of 906 - 67_2024_07_28_09_am_65.mid\n",
      "Analyzing file 139 of 906 - 1_2024_07_27_11_pm_3.mid\n",
      "Analyzing file 140 of 906 - 137_2024_07_28_06_pm_135.mid\n",
      "Analyzing file 141 of 906 - 260_2024_07_29_11_am_85.mid\n",
      "Analyzing file 142 of 906 - 86_2024_07_28_11_am_84.mid\n",
      "Analyzing file 143 of 906 - 20_2024_07_28_02_am_18.mid\n",
      "Analyzing file 144 of 906 - 153_2024_07_28_09_pm_151.mid\n",
      "Analyzing file 145 of 906 - 190_2024_07_29_01_am_15.mid\n",
      "Analyzing file 146 of 906 - 135_2024_07_28_06_pm_133.mid\n",
      "Analyzing file 147 of 906 - 142_2024_07_28_08_pm_140.mid\n",
      "Analyzing file 148 of 906 - 24_2024_07_28_02_am_22.mid\n",
      "Analyzing file 149 of 906 - 129_2024_07_28_05_pm_127.mid\n",
      "Analyzing file 150 of 906 - 299_2024_07_29_08_pm_13.mid\n",
      "Analyzing file 151 of 906 - 281_2024_07_29_03_pm_106.mid\n",
      "Analyzing file 152 of 906 - 224_2024_07_29_06_am_49.mid\n",
      "Analyzing file 153 of 906 - 213_2024_07_29_04_am_38.mid\n",
      "Analyzing file 154 of 906 - 51_2024_07_28_06_am_49.mid\n",
      "Analyzing file 155 of 906 - 8_2024_07_28_00_am_5.mid\n",
      "Analyzing file 156 of 906 - 6_2024_07_28_00_am_3.mid\n",
      "Analyzing file 157 of 906 - 229_2024_07_29_06_am_54.mid\n",
      "Analyzing file 158 of 906 - 276_2024_07_29_02_pm_101.mid\n",
      "Analyzing file 159 of 906 - 131_2024_07_28_05_pm_129.mid\n",
      "Analyzing file 160 of 906 - 209_2024_07_29_04_am_34.mid\n",
      "Analyzing file 161 of 906 - 28_2024_07_28_03_am_26.mid\n",
      "Analyzing file 162 of 906 - 76_2024_07_28_10_am_74.mid\n",
      "Analyzing file 163 of 906 - 194_2024_07_29_02_am_19.mid\n",
      "Analyzing file 164 of 906 - 79_2024_07_28_10_am_77.mid\n",
      "Analyzing file 165 of 906 - 27_2024_07_28_03_am_25.mid\n",
      "Analyzing file 166 of 906 - 173_2024_07_28_11_pm_171.mid\n",
      "Analyzing file 167 of 906 - 162_2024_07_28_10_pm_160.mid\n",
      "Analyzing file 168 of 906 - 112_2024_07_28_03_pm_110.mid\n",
      "Analyzing file 169 of 906 - 65_2024_07_28_09_am_63.mid\n",
      "Analyzing file 170 of 906 - 240_2024_07_29_08_am_65.mid\n",
      "Analyzing file 171 of 906 - 232_2024_07_29_07_am_57.mid\n",
      "Analyzing file 172 of 906 - 82_2024_07_28_11_am_80.mid\n",
      "Analyzing file 173 of 906 - 103_2024_07_28_02_pm_101.mid\n",
      "Analyzing file 174 of 906 - 250_2024_07_29_10_am_75.mid\n",
      "Analyzing file 175 of 906 - 296_2024_07_29_08_pm_10.mid\n",
      "Analyzing file 176 of 906 - 201_2024_07_29_03_am_26.mid\n",
      "Analyzing file 177 of 906 - 248_2024_07_29_09_am_73.mid\n",
      "Analyzing file 178 of 906 - 62_2024_07_28_08_am_60.mid\n",
      "Analyzing file 179 of 906 - 247_2024_07_29_09_am_72.mid\n",
      "Analyzing file 180 of 906 - 192_2024_07_29_02_am_17.mid\n",
      "Analyzing file 181 of 906 - 289_2024_07_29_05_pm_3.mid\n",
      "Analyzing file 182 of 906 - 141_2024_07_28_08_pm_139.mid\n",
      "Analyzing file 183 of 906 - 42_2024_07_28_05_am_40.mid\n",
      "Analyzing file 184 of 906 - 72_2024_07_28_10_am_70.mid\n",
      "Analyzing file 185 of 906 - 234_2024_07_29_07_am_59.mid\n",
      "Analyzing file 186 of 906 - 220_2024_07_29_05_am_45.mid\n",
      "Analyzing file 187 of 906 - 187_2024_07_29_01_am_12.mid\n",
      "Analyzing file 188 of 906 - 188_2024_07_29_01_am_13.mid\n",
      "Analyzing file 189 of 906 - 268_2024_07_29_01_pm_93.mid\n",
      "Analyzing file 190 of 906 - 139_2024_07_28_06_pm_137.mid\n",
      "Analyzing file 191 of 906 - 100_2024_07_28_02_pm_98.mid\n",
      "Analyzing file 192 of 906 - 122_2024_07_28_04_pm_120.mid\n",
      "Analyzing file 193 of 906 - 267_2024_07_29_01_pm_92.mid\n",
      "Analyzing file 194 of 906 - 205_2024_07_29_03_am_30.mid\n",
      "Analyzing file 195 of 906 - 272_2024_07_29_02_pm_97.mid\n",
      "Analyzing file 196 of 906 - 140_2024_07_28_07_pm_138.mid\n",
      "Analyzing file 197 of 906 - 287_2024_07_29_05_pm_1.mid\n",
      "Analyzing file 198 of 906 - 151_2024_07_28_09_pm_149.mid\n",
      "Analyzing file 199 of 906 - 211_2024_07_29_04_am_36.mid\n",
      "Analyzing file 200 of 906 - 266_2024_07_29_12_am_91.mid\n",
      "Analyzing file 201 of 906 - 92_2024_07_28_01_pm_90.mid\n",
      "Analyzing file 202 of 906 - 149_2024_07_28_09_pm_147.mid\n",
      "Analyzing file 203 of 906 - 125_2024_07_28_05_pm_123.mid\n",
      "Analyzing file 204 of 906 - 274_2024_07_29_02_pm_99.mid\n",
      "Analyzing file 205 of 906 - 231_2024_07_29_06_am_56.mid\n",
      "Analyzing file 206 of 906 - 293_2024_07_29_07_pm_7.mid\n",
      "Analyzing file 207 of 906 - 256_2024_07_29_10_am_81.mid\n",
      "Analyzing file 208 of 906 - 37_2024_07_28_04_am_35.mid\n",
      "Analyzing file 209 of 906 - 70_2024_07_28_09_am_68.mid\n",
      "Analyzing file 210 of 906 - 38_2024_07_28_04_am_36.mid\n",
      "Analyzing file 211 of 906 - 279_2024_07_29_03_pm_104.mid\n",
      "Analyzing file 212 of 906 - 146_2024_07_28_08_pm_144.mid\n",
      "Analyzing file 213 of 906 - 157_2024_07_28_09_pm_155.mid\n",
      "Analyzing file 214 of 906 - 5_2024_07_28_00_am_2.mid\n",
      "Analyzing file 215 of 906 - 226_2024_07_29_06_am_51.mid\n",
      "Analyzing file 216 of 906 - 203_2024_07_29_03_am_28.mid\n",
      "Analyzing file 217 of 906 - 110_2024_07_28_03_pm_108.mid\n",
      "Analyzing file 218 of 906 - 169_2024_07_28_11_pm_167.mid\n",
      "Analyzing file 219 of 906 - 15_2024_07_28_01_am_12.mid\n",
      "Analyzing file 220 of 906 - 96_2024_07_28_01_pm_94.mid\n",
      "Analyzing file 221 of 906 - 33_2024_07_28_04_am_31.mid\n",
      "Analyzing file 222 of 906 - 270_2024_07_29_01_pm_95.mid\n",
      "Analyzing file 223 of 906 - 54_2024_07_28_07_am_52.mid\n",
      "Analyzing file 224 of 906 - 108_2024_07_28_03_pm_106.mid\n",
      "Analyzing file 225 of 906 - 171_2024_07_28_11_pm_169.mid\n",
      "Analyzing file 226 of 906 - 117_2024_07_28_04_pm_115.mid\n",
      "Analyzing file 227 of 906 - 3_2024_07_28_00_am_0.mid\n",
      "Analyzing file 228 of 906 - 106_2024_07_28_02_pm_104.mid\n",
      "Analyzing file 229 of 906 - 237_2024_07_29_07_am_62.mid\n",
      "Analyzing file 230 of 906 - 10_2024_07_28_00_am_7.mid\n",
      "Analyzing file 231 of 906 - 23_2024_07_28_02_am_21.mid\n",
      "Analyzing file 232 of 906 - 238_2024_07_29_07_am_63.mid\n",
      "Analyzing file 233 of 906 - 123_2024_07_28_04_pm_121.mid\n",
      "Analyzing file 234 of 906 - 184_2024_07_29_01_am_9.mid\n",
      "Analyzing file 235 of 906 - 138_2024_07_28_06_pm_136.mid\n",
      "Analyzing file 236 of 906 - 81_2024_07_28_11_am_79.mid\n",
      "Analyzing file 237 of 906 - 16_2024_07_28_01_am_13.mid\n",
      "Analyzing file 238 of 906 - 283_2024_07_29_04_pm_108.mid\n",
      "Analyzing file 239 of 906 - 193_2024_07_29_02_am_18.mid\n",
      "Analyzing file 240 of 906 - 225_2024_07_29_06_am_50.mid\n",
      "Analyzing file 241 of 906 - 66_2024_07_28_09_am_64.mid\n",
      "Analyzing file 242 of 906 - 150_2024_07_28_09_pm_148.mid\n",
      "Analyzing file 243 of 906 - 300_2024_07_29_08_pm_14.mid\n",
      "Analyzing file 244 of 906 - 219_2024_07_29_05_am_44.mid\n",
      "Analyzing file 245 of 906 - 233_2024_07_29_07_am_58.mid\n",
      "Analyzing file 246 of 906 - 197_2024_07_29_02_am_22.mid\n",
      "Analyzing file 247 of 906 - 215_2024_07_29_04_am_40.mid\n",
      "Analyzing file 248 of 906 - 198_2024_07_29_02_am_23.mid\n",
      "Analyzing file 249 of 906 - 124_2024_07_28_05_pm_122.mid\n",
      "Analyzing file 250 of 906 - 147_2024_07_28_08_pm_145.mid\n",
      "Analyzing file 251 of 906 - 59_2024_07_28_08_am_57.mid\n",
      "Analyzing file 252 of 906 - 45_2024_07_28_05_am_43.mid\n",
      "Analyzing file 253 of 906 - 255_2024_07_29_10_am_80.mid\n",
      "Analyzing file 254 of 906 - 75_2024_07_28_10_am_73.mid\n",
      "Analyzing file 255 of 906 - 156_2024_07_28_09_pm_154.mid\n",
      "Analyzing file 256 of 906 - 259_2024_07_29_11_am_84.mid\n",
      "Analyzing file 257 of 906 - 212_2024_07_29_04_am_37.mid\n",
      "Analyzing file 258 of 906 - 286_2024_07_29_05_pm_0.mid\n",
      "Analyzing file 259 of 906 - 69_2024_07_28_09_am_67.mid\n",
      "Analyzing file 260 of 906 - 168_2024_07_28_11_pm_166.mid\n",
      "Analyzing file 261 of 906 - 7_2024_07_28_00_am_4.mid\n",
      "Analyzing file 262 of 906 - 111_2024_07_28_03_pm_109.mid\n",
      "Analyzing file 263 of 906 - 61_2024_07_28_08_am_59.mid\n",
      "Analyzing file 264 of 906 - 170_2024_07_28_11_pm_168.mid\n",
      "Analyzing file 265 of 906 - 109_2024_07_28_03_pm_107.mid\n",
      "Analyzing file 266 of 906 - 183_2024_07_29_01_am_8.mid\n",
      "Analyzing file 267 of 906 - 214_2024_07_29_04_am_39.mid\n",
      "Analyzing file 268 of 906 - 292_2024_07_29_07_pm_6.mid\n",
      "Analyzing file 269 of 906 - 85_2024_07_28_11_am_83.mid\n",
      "Analyzing file 270 of 906 - 206_2024_07_29_03_am_31.mid\n",
      "Analyzing file 271 of 906 - 4_2024_07_28_00_am_1.mid\n",
      "Analyzing file 272 of 906 - 116_2024_07_28_04_pm_114.mid\n",
      "Analyzing file 273 of 906 - 88_2024_07_28_12_am_86.mid\n",
      "Analyzing file 274 of 906 - 204_2024_07_29_03_am_29.mid\n",
      "Analyzing file 275 of 906 - 285_2024_07_29_04_pm_110.mid\n",
      "Analyzing file 276 of 906 - 152_2024_07_28_09_pm_150.mid\n",
      "Analyzing file 277 of 906 - 95_2024_07_28_01_pm_93.mid\n",
      "Analyzing file 278 of 906 - 9_2024_07_28_00_am_6.mid\n",
      "Analyzing file 279 of 906 - 143_2024_07_28_08_pm_141.mid\n",
      "Analyzing file 280 of 906 - 134_2024_07_28_06_pm_132.mid\n",
      "Analyzing file 281 of 906 - 57_2024_07_28_07_am_55.mid\n",
      "Analyzing file 282 of 906 - 31_2024_07_28_03_am_29.mid\n",
      "Analyzing file 283 of 906 - 128_2024_07_28_05_pm_126.mid\n",
      "Analyzing file 284 of 906 - 202_2024_07_29_03_am_27.mid\n",
      "Analyzing file 285 of 906 - 288_2024_07_29_05_pm_2.mid\n",
      "Analyzing file 286 of 906 - 130_2024_07_28_05_pm_128.mid\n",
      "Analyzing file 287 of 906 - 48_2024_07_28_06_am_46.mid\n",
      "Analyzing file 288 of 906 - 172_2024_07_28_11_pm_170.mid\n",
      "Analyzing file 289 of 906 - 278_2024_07_29_03_pm_103.mid\n",
      "Analyzing file 290 of 906 - 47_2024_07_28_06_am_45.mid\n",
      "Analyzing file 291 of 906 - 53_2024_07_28_07_am_51.mid\n",
      "Analyzing file 292 of 906 - 163_2024_07_28_10_pm_161.mid\n",
      "Analyzing file 293 of 906 - 34_2024_07_28_04_am_32.mid\n",
      "Analyzing file 294 of 906 - 216_2024_07_29_05_am_41.mid\n",
      "Analyzing file 295 of 906 - 113_2024_07_28_03_pm_111.mid\n",
      "Analyzing file 296 of 906 - 19_2024_07_28_01_am_17.mid\n",
      "Analyzing file 297 of 906 - 102_2024_07_28_02_pm_100.mid\n",
      "Analyzing file 298 of 906 - 280_2024_07_29_03_pm_105.mid\n",
      "Analyzing file 299 of 906 - 40_2024_07_28_05_am_38.mid\n",
      "Analyzing file 300 of 906 - 58_2024_07_28_07_am_56.mid\n",
      "Analyzing file 301 of 906 - 273_2024_07_29_02_pm_98.mid\n",
      "Analyzing file 302 of 906 - 291_2024_07_29_06_pm_5.mid\n",
      "Analyzing file 303 of 906 - 0.mid\n",
      "Analyzing file 304 of 906 - 0.mid\n",
      "Analyzing file 305 of 906 - 0.mid\n",
      "Analyzing file 306 of 906 - 0.mid\n",
      "Analyzing file 307 of 906 - 0.mid\n",
      "Analyzing file 308 of 906 - 0.mid\n",
      "Analyzing file 309 of 906 - 0.mid\n",
      "Analyzing file 310 of 906 - 0.mid\n",
      "Analyzing file 311 of 906 - 0.mid\n",
      "Analyzing file 312 of 906 - 0.mid\n",
      "Analyzing file 313 of 906 - 0.mid\n",
      "Analyzing file 314 of 906 - 0.mid\n",
      "Analyzing file 315 of 906 - 0.mid\n",
      "Analyzing file 316 of 906 - 0.mid\n",
      "Analyzing file 317 of 906 - 0.mid\n",
      "Analyzing file 318 of 906 - 0.mid\n",
      "Analyzing file 319 of 906 - 0.mid\n",
      "Analyzing file 320 of 906 - 0.mid\n",
      "Analyzing file 321 of 906 - 0.mid\n",
      "Analyzing file 322 of 906 - 0.mid\n",
      "Analyzing file 323 of 906 - 0.mid\n",
      "Analyzing file 324 of 906 - 0.mid\n",
      "Analyzing file 325 of 906 - 0.mid\n",
      "Analyzing file 326 of 906 - 0.mid\n",
      "Analyzing file 327 of 906 - 0.mid\n",
      "Analyzing file 328 of 906 - 0.mid\n",
      "Analyzing file 329 of 906 - 0.mid\n",
      "Analyzing file 330 of 906 - 0.mid\n",
      "Analyzing file 331 of 906 - 0.mid\n",
      "Analyzing file 332 of 906 - 0.mid\n",
      "Analyzing file 333 of 906 - 0.mid\n",
      "Analyzing file 334 of 906 - 0.mid\n",
      "Analyzing file 335 of 906 - 0.mid\n",
      "Analyzing file 336 of 906 - 0.mid\n",
      "Analyzing file 337 of 906 - 0.mid\n",
      "Analyzing file 338 of 906 - 0.mid\n",
      "Analyzing file 339 of 906 - 0.mid\n",
      "Analyzing file 340 of 906 - 0.mid\n",
      "Analyzing file 341 of 906 - 0.mid\n",
      "Analyzing file 342 of 906 - 0.mid\n",
      "Analyzing file 343 of 906 - 0.mid\n",
      "Analyzing file 344 of 906 - 0.mid\n",
      "Analyzing file 345 of 906 - 0.mid\n",
      "Analyzing file 346 of 906 - 0.mid\n",
      "Analyzing file 347 of 906 - 0.mid\n",
      "Analyzing file 348 of 906 - 0.mid\n",
      "Analyzing file 349 of 906 - 0.mid\n",
      "Analyzing file 350 of 906 - 0.mid\n",
      "Analyzing file 351 of 906 - 0.mid\n",
      "Analyzing file 352 of 906 - 0.mid\n",
      "Analyzing file 353 of 906 - 0.mid\n",
      "Analyzing file 354 of 906 - 0.mid\n",
      "Analyzing file 355 of 906 - 0.mid\n",
      "Analyzing file 356 of 906 - 0.mid\n",
      "Analyzing file 357 of 906 - 0.mid\n",
      "Analyzing file 358 of 906 - 0.mid\n",
      "Analyzing file 359 of 906 - 0.mid\n",
      "Analyzing file 360 of 906 - 0.mid\n",
      "Analyzing file 361 of 906 - 0.mid\n",
      "Analyzing file 362 of 906 - 0.mid\n",
      "Analyzing file 363 of 906 - 0.mid\n",
      "Analyzing file 364 of 906 - 0.mid\n",
      "Analyzing file 365 of 906 - 0.mid\n",
      "Analyzing file 366 of 906 - 0.mid\n",
      "Analyzing file 367 of 906 - 0.mid\n",
      "Analyzing file 368 of 906 - 0.mid\n",
      "Analyzing file 369 of 906 - 0.mid\n",
      "Analyzing file 370 of 906 - 0.mid\n",
      "Analyzing file 371 of 906 - 0.mid\n",
      "Analyzing file 372 of 906 - 0.mid\n",
      "Analyzing file 373 of 906 - 0.mid\n",
      "Analyzing file 374 of 906 - 0.mid\n",
      "Analyzing file 375 of 906 - 0.mid\n",
      "Analyzing file 376 of 906 - 0.mid\n",
      "Analyzing file 377 of 906 - 0.mid\n",
      "Analyzing file 378 of 906 - 0.mid\n",
      "Analyzing file 379 of 906 - 0.mid\n",
      "Analyzing file 380 of 906 - 0.mid\n",
      "Analyzing file 381 of 906 - 0.mid\n",
      "Analyzing file 382 of 906 - 0.mid\n",
      "Analyzing file 383 of 906 - 0.mid\n",
      "Analyzing file 384 of 906 - 0.mid\n",
      "Analyzing file 385 of 906 - 0.mid\n",
      "Analyzing file 386 of 906 - 0.mid\n",
      "Analyzing file 387 of 906 - 0.mid\n",
      "Analyzing file 388 of 906 - 0.mid\n",
      "Analyzing file 389 of 906 - 0.mid\n",
      "Analyzing file 390 of 906 - 0.mid\n",
      "Analyzing file 391 of 906 - 0.mid\n",
      "Analyzing file 392 of 906 - 0.mid\n",
      "Analyzing file 393 of 906 - 0.mid\n",
      "Analyzing file 394 of 906 - 0.mid\n",
      "Analyzing file 395 of 906 - 0.mid\n",
      "Analyzing file 396 of 906 - 0.mid\n",
      "Analyzing file 397 of 906 - 0.mid\n",
      "Analyzing file 398 of 906 - 0.mid\n",
      "Analyzing file 399 of 906 - 0.mid\n",
      "Analyzing file 400 of 906 - 0.mid\n",
      "Analyzing file 401 of 906 - 0.mid\n",
      "Analyzing file 402 of 906 - 0.mid\n",
      "Analyzing file 403 of 906 - 0.mid\n",
      "Analyzing file 404 of 906 - 0.mid\n",
      "Analyzing file 405 of 906 - 0.mid\n",
      "Analyzing file 406 of 906 - 0.mid\n",
      "Analyzing file 407 of 906 - 0.mid\n",
      "Analyzing file 408 of 906 - 0.mid\n",
      "Analyzing file 409 of 906 - 0.mid\n",
      "Analyzing file 410 of 906 - 0.mid\n",
      "Analyzing file 411 of 906 - 0.mid\n",
      "Analyzing file 412 of 906 - 0.mid\n",
      "Analyzing file 413 of 906 - 0.mid\n",
      "Analyzing file 414 of 906 - 0.mid\n",
      "Analyzing file 415 of 906 - 0.mid\n",
      "Analyzing file 416 of 906 - 0.mid\n",
      "Analyzing file 417 of 906 - 0.mid\n",
      "Analyzing file 418 of 906 - 0.mid\n",
      "Analyzing file 419 of 906 - 0.mid\n",
      "Analyzing file 420 of 906 - 0.mid\n",
      "Analyzing file 421 of 906 - 0.mid\n",
      "Analyzing file 422 of 906 - 0.mid\n",
      "Analyzing file 423 of 906 - 0.mid\n",
      "Analyzing file 424 of 906 - 0.mid\n",
      "Analyzing file 425 of 906 - 0.mid\n",
      "Analyzing file 426 of 906 - 0.mid\n",
      "Analyzing file 427 of 906 - 0.mid\n",
      "Analyzing file 428 of 906 - 0.mid\n",
      "Analyzing file 429 of 906 - 0.mid\n",
      "Analyzing file 430 of 906 - 0.mid\n",
      "Analyzing file 431 of 906 - 0.mid\n",
      "Analyzing file 432 of 906 - 0.mid\n",
      "Analyzing file 433 of 906 - 0.mid\n",
      "Analyzing file 434 of 906 - 0.mid\n",
      "Analyzing file 435 of 906 - 0.mid\n",
      "Analyzing file 436 of 906 - 0.mid\n",
      "Analyzing file 437 of 906 - 0.mid\n",
      "Analyzing file 438 of 906 - 0.mid\n",
      "Analyzing file 439 of 906 - 0.mid\n",
      "Analyzing file 440 of 906 - 0.mid\n",
      "Analyzing file 441 of 906 - 0.mid\n",
      "Analyzing file 442 of 906 - 0.mid\n",
      "Analyzing file 443 of 906 - 0.mid\n",
      "Analyzing file 444 of 906 - 0.mid\n",
      "Analyzing file 445 of 906 - 0.mid\n",
      "Analyzing file 446 of 906 - 0.mid\n",
      "Analyzing file 447 of 906 - 0.mid\n",
      "Analyzing file 448 of 906 - 0.mid\n",
      "Analyzing file 449 of 906 - 0.mid\n",
      "Analyzing file 450 of 906 - 0.mid\n",
      "Analyzing file 451 of 906 - 0.mid\n",
      "Analyzing file 452 of 906 - 0.mid\n",
      "Analyzing file 453 of 906 - 0.mid\n",
      "Analyzing file 454 of 906 - 0.mid\n",
      "Analyzing file 455 of 906 - 0.mid\n",
      "Analyzing file 456 of 906 - 0.mid\n",
      "Analyzing file 457 of 906 - 0.mid\n",
      "Analyzing file 458 of 906 - 0.mid\n",
      "Analyzing file 459 of 906 - 0.mid\n",
      "Analyzing file 460 of 906 - 0.mid\n",
      "Analyzing file 461 of 906 - 0.mid\n",
      "Analyzing file 462 of 906 - 0.mid\n",
      "Analyzing file 463 of 906 - 0.mid\n",
      "Analyzing file 464 of 906 - 0.mid\n",
      "Analyzing file 465 of 906 - 0.mid\n",
      "Analyzing file 466 of 906 - 0.mid\n",
      "Analyzing file 467 of 906 - 0.mid\n",
      "Analyzing file 468 of 906 - 0.mid\n",
      "Analyzing file 469 of 906 - 0.mid\n",
      "Analyzing file 470 of 906 - 0.mid\n",
      "Analyzing file 471 of 906 - 0.mid\n",
      "Analyzing file 472 of 906 - 0.mid\n",
      "Analyzing file 473 of 906 - 0.mid\n",
      "Analyzing file 474 of 906 - 0.mid\n",
      "Analyzing file 475 of 906 - 0.mid\n",
      "Analyzing file 476 of 906 - 0.mid\n",
      "Analyzing file 477 of 906 - 0.mid\n",
      "Analyzing file 478 of 906 - 0.mid\n",
      "Analyzing file 479 of 906 - 0.mid\n",
      "Analyzing file 480 of 906 - 0.mid\n",
      "Analyzing file 481 of 906 - 0.mid\n",
      "Analyzing file 482 of 906 - 0.mid\n",
      "Analyzing file 483 of 906 - 0.mid\n",
      "Analyzing file 484 of 906 - 0.mid\n",
      "Analyzing file 485 of 906 - 0.mid\n",
      "Analyzing file 486 of 906 - 0.mid\n",
      "Analyzing file 487 of 906 - 0.mid\n",
      "Analyzing file 488 of 906 - 0.mid\n",
      "Analyzing file 489 of 906 - 0.mid\n",
      "Analyzing file 490 of 906 - 0.mid\n",
      "Analyzing file 491 of 906 - 0.mid\n",
      "Analyzing file 492 of 906 - 0.mid\n",
      "Analyzing file 493 of 906 - 0.mid\n",
      "Analyzing file 494 of 906 - 0.mid\n",
      "Analyzing file 495 of 906 - 0.mid\n",
      "Analyzing file 496 of 906 - 0.mid\n",
      "Analyzing file 497 of 906 - 0.mid\n",
      "Analyzing file 498 of 906 - 0.mid\n",
      "Analyzing file 499 of 906 - 0.mid\n",
      "Analyzing file 500 of 906 - 0.mid\n",
      "Analyzing file 501 of 906 - 0.mid\n",
      "Analyzing file 502 of 906 - 0.mid\n",
      "Analyzing file 503 of 906 - 0.mid\n",
      "Analyzing file 504 of 906 - 0.mid\n",
      "Analyzing file 505 of 906 - 0.mid\n",
      "Analyzing file 506 of 906 - 0.mid\n",
      "Analyzing file 507 of 906 - 0.mid\n",
      "Analyzing file 508 of 906 - 0.mid\n",
      "Analyzing file 509 of 906 - 0.mid\n",
      "Analyzing file 510 of 906 - 0.mid\n",
      "Analyzing file 511 of 906 - 0.mid\n",
      "Analyzing file 512 of 906 - 0.mid\n",
      "Analyzing file 513 of 906 - 0.mid\n",
      "Analyzing file 514 of 906 - 0.mid\n",
      "Analyzing file 515 of 906 - 0.mid\n",
      "Analyzing file 516 of 906 - 0.mid\n",
      "Analyzing file 517 of 906 - 0.mid\n",
      "Analyzing file 518 of 906 - 0.mid\n",
      "Analyzing file 519 of 906 - 0.mid\n",
      "Analyzing file 520 of 906 - 0.mid\n",
      "Analyzing file 521 of 906 - 0.mid\n",
      "Analyzing file 522 of 906 - 0.mid\n",
      "Analyzing file 523 of 906 - 0.mid\n",
      "Analyzing file 524 of 906 - 0.mid\n",
      "Analyzing file 525 of 906 - 0.mid\n",
      "Analyzing file 526 of 906 - 0.mid\n",
      "Analyzing file 527 of 906 - 0.mid\n",
      "Analyzing file 528 of 906 - 0.mid\n",
      "Analyzing file 529 of 906 - 0.mid\n",
      "Analyzing file 530 of 906 - 0.mid\n",
      "Analyzing file 531 of 906 - 0.mid\n",
      "Analyzing file 532 of 906 - 0.mid\n",
      "Analyzing file 533 of 906 - 0.mid\n",
      "Analyzing file 534 of 906 - 0.mid\n",
      "Analyzing file 535 of 906 - 0.mid\n",
      "Analyzing file 536 of 906 - 0.mid\n",
      "Analyzing file 537 of 906 - 0.mid\n",
      "Analyzing file 538 of 906 - 0.mid\n",
      "Analyzing file 539 of 906 - 0.mid\n",
      "Analyzing file 540 of 906 - 0.mid\n",
      "Analyzing file 541 of 906 - 0.mid\n",
      "Analyzing file 542 of 906 - 0.mid\n",
      "Analyzing file 543 of 906 - 0.mid\n",
      "Analyzing file 544 of 906 - 0.mid\n",
      "Analyzing file 545 of 906 - 0.mid\n",
      "Analyzing file 546 of 906 - 0.mid\n",
      "Analyzing file 547 of 906 - 0.mid\n",
      "Analyzing file 548 of 906 - 0.mid\n",
      "Analyzing file 549 of 906 - 0.mid\n",
      "Analyzing file 550 of 906 - 0.mid\n",
      "Analyzing file 551 of 906 - 0.mid\n",
      "Analyzing file 552 of 906 - 0.mid\n",
      "Analyzing file 553 of 906 - 0.mid\n",
      "Analyzing file 554 of 906 - 0.mid\n",
      "Analyzing file 555 of 906 - 0.mid\n",
      "Analyzing file 556 of 906 - 0.mid\n",
      "Analyzing file 557 of 906 - 0.mid\n",
      "Analyzing file 558 of 906 - 0.mid\n",
      "Analyzing file 559 of 906 - 0.mid\n",
      "Analyzing file 560 of 906 - 0.mid\n",
      "Analyzing file 561 of 906 - 0.mid\n",
      "Analyzing file 562 of 906 - 0.mid\n",
      "Analyzing file 563 of 906 - 0.mid\n",
      "Analyzing file 564 of 906 - 0.mid\n",
      "Analyzing file 565 of 906 - 0.mid\n",
      "Analyzing file 566 of 906 - 0.mid\n",
      "Analyzing file 567 of 906 - 0.mid\n",
      "Analyzing file 568 of 906 - 0.mid\n",
      "Analyzing file 569 of 906 - 0.mid\n",
      "Analyzing file 570 of 906 - 0.mid\n",
      "Analyzing file 571 of 906 - 0.mid\n",
      "Analyzing file 572 of 906 - 0.mid\n",
      "Analyzing file 573 of 906 - 0.mid\n",
      "Analyzing file 574 of 906 - 0.mid\n",
      "Analyzing file 575 of 906 - 0.mid\n",
      "Analyzing file 576 of 906 - 0.mid\n",
      "Analyzing file 577 of 906 - 0.mid\n",
      "Analyzing file 578 of 906 - 0.mid\n",
      "Analyzing file 579 of 906 - 0.mid\n",
      "Analyzing file 580 of 906 - 0.mid\n",
      "Analyzing file 581 of 906 - 0.mid\n",
      "Analyzing file 582 of 906 - 0.mid\n",
      "Analyzing file 583 of 906 - 0.mid\n",
      "Analyzing file 584 of 906 - 0.mid\n",
      "Analyzing file 585 of 906 - 0.mid\n",
      "Analyzing file 586 of 906 - 0.mid\n",
      "Analyzing file 587 of 906 - 0.mid\n",
      "Analyzing file 588 of 906 - 0.mid\n",
      "Analyzing file 589 of 906 - 0.mid\n",
      "Analyzing file 590 of 906 - 0.mid\n",
      "Analyzing file 591 of 906 - 0.mid\n",
      "Analyzing file 592 of 906 - 0.mid\n",
      "Analyzing file 593 of 906 - 0.mid\n",
      "Analyzing file 594 of 906 - 0.mid\n",
      "Analyzing file 595 of 906 - 0.mid\n",
      "Analyzing file 596 of 906 - 0.mid\n",
      "Analyzing file 597 of 906 - 0.mid\n",
      "Analyzing file 598 of 906 - 0.mid\n",
      "Analyzing file 599 of 906 - 0.mid\n",
      "Analyzing file 600 of 906 - 0.mid\n",
      "Analyzing file 601 of 906 - 0.mid\n",
      "Analyzing file 602 of 906 - 0.mid\n",
      "Analyzing file 603 of 906 - 0.mid\n",
      "Analyzing file 604 of 906 - 0.mid\n",
      "Analyzing file 605 of 906 - 166_2024_07_28_11_pm_164.mid\n",
      "Analyzing file 606 of 906 - 257_2024_07_29_10_am_82.mid\n",
      "Analyzing file 607 of 906 - 71_2024_07_28_09_am_69.mid\n",
      "Analyzing file 608 of 906 - 258_2024_07_29_10_am_83.mid\n",
      "Analyzing file 609 of 906 - 230_2024_07_29_06_am_55.mid\n",
      "Analyzing file 610 of 906 - 107_2024_07_28_03_pm_105.mid\n",
      "Analyzing file 611 of 906 - 52_2024_07_28_06_am_50.mid\n",
      "Analyzing file 612 of 906 - 118_2024_07_28_04_pm_116.mid\n",
      "Analyzing file 613 of 906 - 210_2024_07_29_04_am_35.mid\n",
      "Analyzing file 614 of 906 - 97_2024_07_28_01_pm_95.mid\n",
      "Analyzing file 615 of 906 - 249_2024_07_29_09_am_74.mid\n",
      "Analyzing file 616 of 906 - 0_2024_07_27_11_pm_2.mid\n",
      "Analyzing file 617 of 906 - 55_2024_07_28_07_am_53.mid\n",
      "Analyzing file 618 of 906 - 244_2024_07_29_09_am_69.mid\n",
      "Analyzing file 619 of 906 - 263_2024_07_29_11_am_88.mid\n",
      "Analyzing file 620 of 906 - 189_2024_07_29_01_am_14.mid\n",
      "Analyzing file 621 of 906 - 161_2024_07_28_10_pm_159.mid\n",
      "Analyzing file 622 of 906 - 235_2024_07_29_07_am_60.mid\n",
      "Analyzing file 623 of 906 - 101_2024_07_28_02_pm_99.mid\n",
      "Analyzing file 624 of 906 - 223_2024_07_29_05_am_48.mid\n",
      "Analyzing file 625 of 906 - 180_2024_07_29_00_am_5.mid\n",
      "Analyzing file 626 of 906 - 271_2024_07_29_01_pm_96.mid\n",
      "Analyzing file 627 of 906 - 98_2024_07_28_01_pm_96.mid\n",
      "Analyzing file 628 of 906 - 14_2024_07_28_01_am_11.mid\n",
      "Analyzing file 629 of 906 - 0_2024_07_27_11_pm_1.mid\n",
      "Analyzing file 630 of 906 - 227_2024_07_29_06_am_52.mid\n",
      "Analyzing file 631 of 906 - 136_2024_07_28_06_pm_134.mid\n",
      "Analyzing file 632 of 906 - 265_2024_07_29_11_am_90.mid\n",
      "Analyzing file 633 of 906 - 228_2024_07_29_06_am_53.mid\n",
      "Analyzing file 634 of 906 - 253_2024_07_29_10_am_78.mid\n",
      "Analyzing file 635 of 906 - 93_2024_07_28_01_pm_91.mid\n",
      "Analyzing file 636 of 906 - 36_2024_07_28_04_am_34.mid\n",
      "Analyzing file 637 of 906 - 195_2024_07_29_02_am_20.mid\n",
      "Analyzing file 638 of 906 - 208_2024_07_29_04_am_33.mid\n",
      "Analyzing file 639 of 906 - 121_2024_07_28_04_pm_119.mid\n",
      "Analyzing file 640 of 906 - 78_2024_07_28_10_am_76.mid\n",
      "Analyzing file 641 of 906 - 91_2024_07_28_01_pm_89.mid\n",
      "Analyzing file 642 of 906 - 177_2024_07_29_00_am_2.mid\n",
      "Analyzing file 643 of 906 - 179_2024_07_29_00_am_4.mid\n",
      "Analyzing file 644 of 906 - 297_2024_07_29_08_pm_11.mid\n",
      "Analyzing file 645 of 906 - 83_2024_07_28_11_am_81.mid\n",
      "Analyzing file 646 of 906 - 191_2024_07_29_01_am_16.mid\n",
      "Analyzing file 647 of 906 - 63_2024_07_28_08_am_61.mid\n",
      "Analyzing file 648 of 906 - 73_2024_07_28_10_am_71.mid\n",
      "Analyzing file 649 of 906 - 43_2024_07_28_05_am_41.mid\n",
      "Analyzing file 650 of 906 - 145_2024_07_28_08_pm_143.mid\n",
      "Analyzing file 651 of 906 - 132_2024_07_28_06_pm_130.mid\n",
      "Analyzing file 652 of 906 - 295_2024_07_29_07_pm_9.mid\n",
      "Analyzing file 653 of 906 - 261_2024_07_29_11_am_86.mid\n",
      "Analyzing file 654 of 906 - 154_2024_07_28_09_pm_152.mid\n",
      "Analyzing file 655 of 906 - 126_2024_07_28_05_pm_124.mid\n",
      "Analyzing file 656 of 906 - 221_2024_07_29_05_am_46.mid\n",
      "Analyzing file 657 of 906 - 186_2024_07_29_01_am_11.mid\n",
      "Analyzing file 658 of 906 - 275_2024_07_29_02_pm_100.mid\n",
      "Analyzing file 659 of 906 - 21_2024_07_28_02_am_19.mid\n",
      "Analyzing file 660 of 906 - 87_2024_07_28_11_am_85.mid\n",
      "Analyzing file 661 of 906 - 269_2024_07_29_01_pm_94.mid\n",
      "Analyzing file 662 of 906 - 158_2024_07_28_10_pm_156.mid\n",
      "Analyzing file 663 of 906 - 246_2024_07_29_09_am_71.mid\n",
      "Analyzing file 664 of 906 - 90_2024_07_28_12_am_88.mid\n",
      "Analyzing file 665 of 906 - 290_2024_07_29_05_pm_4.mid\n",
      "Analyzing file 666 of 906 - 298_2024_07_29_08_pm_12.mid\n",
      "Analyzing file 667 of 906 - 251_2024_07_29_10_am_76.mid\n",
      "Analyzing file 668 of 906 - 200_2024_07_29_03_am_25.mid\n",
      "Analyzing file 669 of 906 - 25_2024_07_28_02_am_23.mid\n",
      "Analyzing file 670 of 906 - 174_2024_07_28_11_pm_172.mid\n",
      "Analyzing file 671 of 906 - 241_2024_07_29_08_am_66.mid\n",
      "Analyzing file 672 of 906 - 50_2024_07_28_06_am_48.mid\n",
      "Analyzing file 673 of 906 - 104_2024_07_28_02_pm_102.mid\n",
      "Analyzing file 674 of 906 - 29_2024_07_28_03_am_27.mid\n",
      "Analyzing file 675 of 906 - 77_2024_07_28_10_am_75.mid\n",
      "Analyzing file 676 of 906 - 115_2024_07_28_03_pm_113.mid\n",
      "Analyzing file 677 of 906 - 13_2024_07_28_01_am_10.mid\n",
      "Analyzing file 678 of 906 - 120_2024_07_28_04_pm_118.mid\n",
      "Analyzing file 679 of 906 - 182_2024_07_29_00_am_7.mid\n",
      "Analyzing file 680 of 906 - 35_2024_07_28_04_am_33.mid\n",
      "Analyzing file 681 of 906 - 46_2024_07_28_06_am_44.mid\n",
      "Analyzing file 682 of 906 - 18_2024_07_28_01_am_16.mid\n",
      "Analyzing file 683 of 906 - 39_2024_07_28_05_am_37.mid\n",
      "Analyzing file 684 of 906 - 252_2024_07_29_10_am_77.mid\n",
      "Analyzing file 685 of 906 - 41_2024_07_28_05_am_39.mid\n",
      "Analyzing file 686 of 906 - 242_2024_07_29_08_am_67.mid\n",
      "Analyzing file 687 of 906 - 176_2024_07_29_00_am_1.mid\n",
      "Analyzing file 688 of 906 - 282_2024_07_29_04_pm_107.mid\n",
      "Analyzing file 689 of 906 - 245_2024_07_29_09_am_70.mid\n",
      "Analyzing file 690 of 906 - 254_2024_07_29_10_am_79.mid\n",
      "Analyzing file 691 of 906 - 133_2024_07_28_06_pm_131.mid\n",
      "Analyzing file 692 of 906 - 185_2024_07_29_01_am_10.mid\n",
      "Analyzing file 693 of 906 - 222_2024_07_29_05_am_47.mid\n",
      "Analyzing file 694 of 906 - 144_2024_07_28_08_pm_142.mid\n",
      "Analyzing file 695 of 906 - 155_2024_07_28_09_pm_153.mid\n",
      "Analyzing file 696 of 906 - 89_2024_07_28_12_am_87.mid\n",
      "Analyzing file 697 of 906 - 239_2024_07_29_07_am_64.mid\n",
      "Analyzing file 698 of 906 - 127_2024_07_28_05_pm_125.mid\n",
      "Analyzing file 699 of 906 - 262_2024_07_29_11_am_87.mid\n",
      "Analyzing file 700 of 906 - 18_2024_07_28_01_am_15.mid\n",
      "Analyzing file 701 of 906 - 94_2024_07_28_01_pm_92.mid\n",
      "Analyzing file 702 of 906 - 17_2024_07_28_01_am_14.mid\n",
      "Analyzing file 703 of 906 - 277_2024_07_29_03_pm_102.mid\n",
      "Analyzing file 704 of 906 - 56_2024_07_28_07_am_54.mid\n",
      "Analyzing file 705 of 906 - 159_2024_07_28_10_pm_157.mid\n",
      "Analyzing file 706 of 906 - 164_2024_07_28_10_pm_162.mid\n",
      "Analyzing file 707 of 906 - 30_2024_07_28_03_am_28.mid\n",
      "Analyzing file 708 of 906 - 218_2024_07_29_05_am_43.mid\n",
      "Analyzing file 709 of 906 - 217_2024_07_29_05_am_42.mid\n",
      "Analyzing file 710 of 906 - 264_2024_07_29_11_am_89.mid\n",
      "Analyzing file 711 of 906 - 49_2024_07_28_06_am_47.mid\n",
      "Analyzing file 712 of 906 - 243_2024_07_29_09_am_68.mid\n",
      "Analyzing file 713 of 906 - 105_2024_07_28_02_pm_103.mid\n",
      "Analyzing file 714 of 906 - 11_2024_07_28_00_am_8.mid\n",
      "Analyzing file 715 of 906 - 199_2024_07_29_02_am_24.mid\n",
      "Analyzing file 716 of 906 - 114_2024_07_28_03_pm_112.mid\n",
      "Analyzing file 717 of 906 - 294_2024_07_29_07_pm_8.mid\n",
      "Analyzing file 718 of 906 - 167_2024_07_28_11_pm_165.mid\n",
      "Analyzing file 719 of 906 - 64_2024_07_28_08_am_62.mid\n",
      "Analyzing file 720 of 906 - 74_2024_07_28_10_am_72.mid\n",
      "Analyzing file 721 of 906 - 196_2024_07_29_02_am_21.mid\n",
      "Analyzing file 722 of 906 - 2_2024_07_27_11_pm_4.mid\n",
      "Analyzing file 723 of 906 - 44_2024_07_28_05_am_42.mid\n",
      "Analyzing file 724 of 906 - 12_2024_07_28_00_am_9.mid\n",
      "Analyzing file 725 of 906 - 32_2024_07_28_03_am_30.mid\n",
      "Analyzing file 726 of 906 - 26_2024_07_28_02_am_24.mid\n",
      "Analyzing file 727 of 906 - 68_2024_07_28_09_am_66.mid\n",
      "Analyzing file 728 of 906 - 119_2024_07_28_04_pm_117.mid\n",
      "Analyzing file 729 of 906 - 148_2024_07_28_08_pm_146.mid\n",
      "Analyzing file 730 of 906 - 60_2024_07_28_08_am_58.mid\n",
      "Analyzing file 731 of 906 - 99_2024_07_28_02_pm_97.mid\n",
      "Analyzing file 732 of 906 - 236_2024_07_29_07_am_61.mid\n",
      "Analyzing file 733 of 906 - 84_2024_07_28_11_am_82.mid\n",
      "Analyzing file 734 of 906 - 160_2024_07_28_10_pm_158.mid\n",
      "Analyzing file 735 of 906 - 22_2024_07_28_02_am_20.mid\n",
      "Analyzing file 736 of 906 - 175_2024_07_29_00_am_0.mid\n",
      "Analyzing file 737 of 906 - 207_2024_07_29_03_am_32.mid\n",
      "Analyzing file 738 of 906 - 284_2024_07_29_04_pm_109.mid\n",
      "Analyzing file 739 of 906 - 80_2024_07_28_11_am_78.mid\n",
      "Analyzing file 740 of 906 - 178_2024_07_29_00_am_3.mid\n",
      "Analyzing file 741 of 906 - 181_2024_07_29_00_am_6.mid\n",
      "Analyzing file 742 of 906 - 67_2024_07_28_09_am_65.mid\n",
      "Analyzing file 743 of 906 - 1_2024_07_27_11_pm_3.mid\n",
      "Analyzing file 744 of 906 - 137_2024_07_28_06_pm_135.mid\n",
      "Analyzing file 745 of 906 - 260_2024_07_29_11_am_85.mid\n",
      "Analyzing file 746 of 906 - 86_2024_07_28_11_am_84.mid\n",
      "Analyzing file 747 of 906 - 20_2024_07_28_02_am_18.mid\n",
      "Analyzing file 748 of 906 - 153_2024_07_28_09_pm_151.mid\n",
      "Analyzing file 749 of 906 - 190_2024_07_29_01_am_15.mid\n",
      "Analyzing file 750 of 906 - 135_2024_07_28_06_pm_133.mid\n",
      "Analyzing file 751 of 906 - 142_2024_07_28_08_pm_140.mid\n",
      "Analyzing file 752 of 906 - 24_2024_07_28_02_am_22.mid\n",
      "Analyzing file 753 of 906 - 129_2024_07_28_05_pm_127.mid\n",
      "Analyzing file 754 of 906 - 299_2024_07_29_08_pm_13.mid\n",
      "Analyzing file 755 of 906 - 281_2024_07_29_03_pm_106.mid\n",
      "Analyzing file 756 of 906 - 224_2024_07_29_06_am_49.mid\n",
      "Analyzing file 757 of 906 - 213_2024_07_29_04_am_38.mid\n",
      "Analyzing file 758 of 906 - 51_2024_07_28_06_am_49.mid\n",
      "Analyzing file 759 of 906 - 8_2024_07_28_00_am_5.mid\n",
      "Analyzing file 760 of 906 - 6_2024_07_28_00_am_3.mid\n",
      "Analyzing file 761 of 906 - 229_2024_07_29_06_am_54.mid\n",
      "Analyzing file 762 of 906 - 276_2024_07_29_02_pm_101.mid\n",
      "Analyzing file 763 of 906 - 131_2024_07_28_05_pm_129.mid\n",
      "Analyzing file 764 of 906 - 209_2024_07_29_04_am_34.mid\n",
      "Analyzing file 765 of 906 - 28_2024_07_28_03_am_26.mid\n",
      "Analyzing file 766 of 906 - 76_2024_07_28_10_am_74.mid\n",
      "Analyzing file 767 of 906 - 194_2024_07_29_02_am_19.mid\n",
      "Analyzing file 768 of 906 - 79_2024_07_28_10_am_77.mid\n",
      "Analyzing file 769 of 906 - 27_2024_07_28_03_am_25.mid\n",
      "Analyzing file 770 of 906 - 173_2024_07_28_11_pm_171.mid\n",
      "Analyzing file 771 of 906 - 162_2024_07_28_10_pm_160.mid\n",
      "Analyzing file 772 of 906 - 112_2024_07_28_03_pm_110.mid\n",
      "Analyzing file 773 of 906 - 65_2024_07_28_09_am_63.mid\n",
      "Analyzing file 774 of 906 - 240_2024_07_29_08_am_65.mid\n",
      "Analyzing file 775 of 906 - 232_2024_07_29_07_am_57.mid\n",
      "Analyzing file 776 of 906 - 82_2024_07_28_11_am_80.mid\n",
      "Analyzing file 777 of 906 - 103_2024_07_28_02_pm_101.mid\n",
      "Analyzing file 778 of 906 - 250_2024_07_29_10_am_75.mid\n",
      "Analyzing file 779 of 906 - 296_2024_07_29_08_pm_10.mid\n",
      "Analyzing file 780 of 906 - 201_2024_07_29_03_am_26.mid\n",
      "Analyzing file 781 of 906 - 248_2024_07_29_09_am_73.mid\n",
      "Analyzing file 782 of 906 - 62_2024_07_28_08_am_60.mid\n",
      "Analyzing file 783 of 906 - 247_2024_07_29_09_am_72.mid\n",
      "Analyzing file 784 of 906 - 192_2024_07_29_02_am_17.mid\n",
      "Analyzing file 785 of 906 - 289_2024_07_29_05_pm_3.mid\n",
      "Analyzing file 786 of 906 - 141_2024_07_28_08_pm_139.mid\n",
      "Analyzing file 787 of 906 - 42_2024_07_28_05_am_40.mid\n",
      "Analyzing file 788 of 906 - 72_2024_07_28_10_am_70.mid\n",
      "Analyzing file 789 of 906 - 234_2024_07_29_07_am_59.mid\n",
      "Analyzing file 790 of 906 - 220_2024_07_29_05_am_45.mid\n",
      "Analyzing file 791 of 906 - 187_2024_07_29_01_am_12.mid\n",
      "Analyzing file 792 of 906 - 188_2024_07_29_01_am_13.mid\n",
      "Analyzing file 793 of 906 - 268_2024_07_29_01_pm_93.mid\n",
      "Analyzing file 794 of 906 - 139_2024_07_28_06_pm_137.mid\n",
      "Analyzing file 795 of 906 - 100_2024_07_28_02_pm_98.mid\n",
      "Analyzing file 796 of 906 - 122_2024_07_28_04_pm_120.mid\n",
      "Analyzing file 797 of 906 - 267_2024_07_29_01_pm_92.mid\n",
      "Analyzing file 798 of 906 - 205_2024_07_29_03_am_30.mid\n",
      "Analyzing file 799 of 906 - 272_2024_07_29_02_pm_97.mid\n",
      "Analyzing file 800 of 906 - 140_2024_07_28_07_pm_138.mid\n",
      "Analyzing file 801 of 906 - 287_2024_07_29_05_pm_1.mid\n",
      "Analyzing file 802 of 906 - 151_2024_07_28_09_pm_149.mid\n",
      "Analyzing file 803 of 906 - 211_2024_07_29_04_am_36.mid\n",
      "Analyzing file 804 of 906 - 266_2024_07_29_12_am_91.mid\n",
      "Analyzing file 805 of 906 - 92_2024_07_28_01_pm_90.mid\n",
      "Analyzing file 806 of 906 - 149_2024_07_28_09_pm_147.mid\n",
      "Analyzing file 807 of 906 - 125_2024_07_28_05_pm_123.mid\n",
      "Analyzing file 808 of 906 - 274_2024_07_29_02_pm_99.mid\n",
      "Analyzing file 809 of 906 - 231_2024_07_29_06_am_56.mid\n",
      "Analyzing file 810 of 906 - 293_2024_07_29_07_pm_7.mid\n",
      "Analyzing file 811 of 906 - 256_2024_07_29_10_am_81.mid\n",
      "Analyzing file 812 of 906 - 37_2024_07_28_04_am_35.mid\n",
      "Analyzing file 813 of 906 - 70_2024_07_28_09_am_68.mid\n",
      "Analyzing file 814 of 906 - 38_2024_07_28_04_am_36.mid\n",
      "Analyzing file 815 of 906 - 279_2024_07_29_03_pm_104.mid\n",
      "Analyzing file 816 of 906 - 146_2024_07_28_08_pm_144.mid\n",
      "Analyzing file 817 of 906 - 157_2024_07_28_09_pm_155.mid\n",
      "Analyzing file 818 of 906 - 5_2024_07_28_00_am_2.mid\n",
      "Analyzing file 819 of 906 - 226_2024_07_29_06_am_51.mid\n",
      "Analyzing file 820 of 906 - 203_2024_07_29_03_am_28.mid\n",
      "Analyzing file 821 of 906 - 110_2024_07_28_03_pm_108.mid\n",
      "Analyzing file 822 of 906 - 169_2024_07_28_11_pm_167.mid\n",
      "Analyzing file 823 of 906 - 15_2024_07_28_01_am_12.mid\n",
      "Analyzing file 824 of 906 - 96_2024_07_28_01_pm_94.mid\n",
      "Analyzing file 825 of 906 - 33_2024_07_28_04_am_31.mid\n",
      "Analyzing file 826 of 906 - 270_2024_07_29_01_pm_95.mid\n",
      "Analyzing file 827 of 906 - 54_2024_07_28_07_am_52.mid\n",
      "Analyzing file 828 of 906 - 108_2024_07_28_03_pm_106.mid\n",
      "Analyzing file 829 of 906 - 171_2024_07_28_11_pm_169.mid\n",
      "Analyzing file 830 of 906 - 117_2024_07_28_04_pm_115.mid\n",
      "Analyzing file 831 of 906 - 3_2024_07_28_00_am_0.mid\n",
      "Analyzing file 832 of 906 - 106_2024_07_28_02_pm_104.mid\n",
      "Analyzing file 833 of 906 - 237_2024_07_29_07_am_62.mid\n",
      "Analyzing file 834 of 906 - 10_2024_07_28_00_am_7.mid\n",
      "Analyzing file 835 of 906 - 23_2024_07_28_02_am_21.mid\n",
      "Analyzing file 836 of 906 - 238_2024_07_29_07_am_63.mid\n",
      "Analyzing file 837 of 906 - 123_2024_07_28_04_pm_121.mid\n",
      "Analyzing file 838 of 906 - 184_2024_07_29_01_am_9.mid\n",
      "Analyzing file 839 of 906 - 138_2024_07_28_06_pm_136.mid\n",
      "Analyzing file 840 of 906 - 81_2024_07_28_11_am_79.mid\n",
      "Analyzing file 841 of 906 - 16_2024_07_28_01_am_13.mid\n",
      "Analyzing file 842 of 906 - 283_2024_07_29_04_pm_108.mid\n",
      "Analyzing file 843 of 906 - 193_2024_07_29_02_am_18.mid\n",
      "Analyzing file 844 of 906 - 225_2024_07_29_06_am_50.mid\n",
      "Analyzing file 845 of 906 - 66_2024_07_28_09_am_64.mid\n",
      "Analyzing file 846 of 906 - 150_2024_07_28_09_pm_148.mid\n",
      "Analyzing file 847 of 906 - 300_2024_07_29_08_pm_14.mid\n",
      "Analyzing file 848 of 906 - 219_2024_07_29_05_am_44.mid\n",
      "Analyzing file 849 of 906 - 233_2024_07_29_07_am_58.mid\n",
      "Analyzing file 850 of 906 - 197_2024_07_29_02_am_22.mid\n",
      "Analyzing file 851 of 906 - 215_2024_07_29_04_am_40.mid\n",
      "Analyzing file 852 of 906 - 198_2024_07_29_02_am_23.mid\n",
      "Analyzing file 853 of 906 - 124_2024_07_28_05_pm_122.mid\n",
      "Analyzing file 854 of 906 - 147_2024_07_28_08_pm_145.mid\n",
      "Analyzing file 855 of 906 - 59_2024_07_28_08_am_57.mid\n",
      "Analyzing file 856 of 906 - 45_2024_07_28_05_am_43.mid\n",
      "Analyzing file 857 of 906 - 255_2024_07_29_10_am_80.mid\n",
      "Analyzing file 858 of 906 - 75_2024_07_28_10_am_73.mid\n",
      "Analyzing file 859 of 906 - 156_2024_07_28_09_pm_154.mid\n",
      "Analyzing file 860 of 906 - 259_2024_07_29_11_am_84.mid\n",
      "Analyzing file 861 of 906 - 212_2024_07_29_04_am_37.mid\n",
      "Analyzing file 862 of 906 - 286_2024_07_29_05_pm_0.mid\n",
      "Analyzing file 863 of 906 - 69_2024_07_28_09_am_67.mid\n",
      "Analyzing file 864 of 906 - 168_2024_07_28_11_pm_166.mid\n",
      "Analyzing file 865 of 906 - 7_2024_07_28_00_am_4.mid\n",
      "Analyzing file 866 of 906 - 111_2024_07_28_03_pm_109.mid\n",
      "Analyzing file 867 of 906 - 61_2024_07_28_08_am_59.mid\n",
      "Analyzing file 868 of 906 - 170_2024_07_28_11_pm_168.mid\n",
      "Analyzing file 869 of 906 - 109_2024_07_28_03_pm_107.mid\n",
      "Analyzing file 870 of 906 - 183_2024_07_29_01_am_8.mid\n",
      "Analyzing file 871 of 906 - 214_2024_07_29_04_am_39.mid\n",
      "Analyzing file 872 of 906 - 292_2024_07_29_07_pm_6.mid\n",
      "Analyzing file 873 of 906 - 85_2024_07_28_11_am_83.mid\n",
      "Analyzing file 874 of 906 - 206_2024_07_29_03_am_31.mid\n",
      "Analyzing file 875 of 906 - 4_2024_07_28_00_am_1.mid\n",
      "Analyzing file 876 of 906 - 116_2024_07_28_04_pm_114.mid\n",
      "Analyzing file 877 of 906 - 88_2024_07_28_12_am_86.mid\n",
      "Analyzing file 878 of 906 - 204_2024_07_29_03_am_29.mid\n",
      "Analyzing file 879 of 906 - 285_2024_07_29_04_pm_110.mid\n",
      "Analyzing file 880 of 906 - 152_2024_07_28_09_pm_150.mid\n",
      "Analyzing file 881 of 906 - 95_2024_07_28_01_pm_93.mid\n",
      "Analyzing file 882 of 906 - 9_2024_07_28_00_am_6.mid\n",
      "Analyzing file 883 of 906 - 143_2024_07_28_08_pm_141.mid\n",
      "Analyzing file 884 of 906 - 134_2024_07_28_06_pm_132.mid\n",
      "Analyzing file 885 of 906 - 57_2024_07_28_07_am_55.mid\n",
      "Analyzing file 886 of 906 - 31_2024_07_28_03_am_29.mid\n",
      "Analyzing file 887 of 906 - 128_2024_07_28_05_pm_126.mid\n",
      "Analyzing file 888 of 906 - 202_2024_07_29_03_am_27.mid\n",
      "Analyzing file 889 of 906 - 288_2024_07_29_05_pm_2.mid\n",
      "Analyzing file 890 of 906 - 130_2024_07_28_05_pm_128.mid\n",
      "Analyzing file 891 of 906 - 48_2024_07_28_06_am_46.mid\n",
      "Analyzing file 892 of 906 - 172_2024_07_28_11_pm_170.mid\n",
      "Analyzing file 893 of 906 - 278_2024_07_29_03_pm_103.mid\n",
      "Analyzing file 894 of 906 - 47_2024_07_28_06_am_45.mid\n",
      "Analyzing file 895 of 906 - 53_2024_07_28_07_am_51.mid\n",
      "Analyzing file 896 of 906 - 163_2024_07_28_10_pm_161.mid\n",
      "Analyzing file 897 of 906 - 34_2024_07_28_04_am_32.mid\n",
      "Analyzing file 898 of 906 - 216_2024_07_29_05_am_41.mid\n",
      "Analyzing file 899 of 906 - 113_2024_07_28_03_pm_111.mid\n",
      "Analyzing file 900 of 906 - 19_2024_07_28_01_am_17.mid\n",
      "Analyzing file 901 of 906 - 102_2024_07_28_02_pm_100.mid\n",
      "Analyzing file 902 of 906 - 280_2024_07_29_03_pm_105.mid\n",
      "Analyzing file 903 of 906 - 40_2024_07_28_05_am_38.mid\n",
      "Analyzing file 904 of 906 - 58_2024_07_28_07_am_56.mid\n",
      "Analyzing file 905 of 906 - 273_2024_07_29_02_pm_98.mid\n",
      "Analyzing file 906 of 906 - 291_2024_07_29_06_pm_5.mid\n"
     ]
    }
   ],
   "source": [
    "folder_path = model_output_dir\n",
    "\n",
    "# Count midi files in the folder path\n",
    "n_file_to_analyze = 0\n",
    "for root, dirs, files in os.walk(folder_path):\n",
    "    for file_name in files:\n",
    "        if file_name.endswith('.mid') or file_name.endswith('.midi'):\n",
    "            n_file_to_analyze += 1\n",
    "\n",
    "analysis_results = analyze_midi_folder(folder_path, n_file_to_analyze)"
   ]
  },
  {
   "cell_type": "code",
   "execution_count": 11,
   "metadata": {},
   "outputs": [
    {
     "name": "stdout",
     "output_type": "stream",
     "text": [
      "1 of 906 result - 166_2024_07_28_11_pm_164.mid:\n",
      "  pitch_counts: {57: 15, 50: 20, 69: 10, 53: 7, 62: 11, 60: 21, 67: 24, 72: 17, 74: 14, 59: 9, 65: 14, 52: 16, 48: 11, 45: 6, 55: 5, 36: 1, 43: 2, 77: 4, 64: 49, 70: 2, 76: 46, 38: 1, 58: 1, 44: 1, 40: 1, 56: 1, 41: 2, 93: 1, 79: 1}\n",
      "  pitch_class_distribution: {9: 32, 2: 46, 5: 27, 0: 50, 7: 32, 11: 9, 4: 112, 10: 3, 8: 2}\n",
      "  note_count: 313\n"
     ]
    }
   ],
   "source": [
    "n_file_to_print = 1\n",
    "\n",
    "current_file = 0\n",
    "\n",
    "# Print results\n",
    "for file_name, analysis in analysis_results.items():\n",
    "    if current_file < n_file_to_print:\n",
    "        current_file += 1\n",
    "        print(f\"{current_file} of {n_file_to_analyze} result - {file_name}:\")\n",
    "\n",
    "        for key, value in analysis.items():\n",
    "            print(f\"  {key}: {value}\")\n",
    "    else:\n",
    "        break"
   ]
  },
  {
   "cell_type": "code",
   "execution_count": 12,
   "metadata": {},
   "outputs": [
    {
     "name": "stdout",
     "output_type": "stream",
     "text": [
      "Average results:\n",
      "  pitch_counts: {57: 12.963696369636967, 50: 12.23102310231022, 69: 21.930693069306898, 53: 7.93729372937295, 62: 16.27722772277226, 60: 18.06270627062703, 67: 16.584158415841575, 72: 12.834983498349825, 74: 12.88778877887788, 59: 10.867986798679858, 65: 8.511551155115509, 52: 14.168316831683168, 48: 11.244224422442231, 45: 5.537953795379538, 55: 14.029702970296999, 36: 5.607260726072607, 43: 5.419141914191417, 77: 4.29042904290429, 64: 24.21452145214518, 70: 0.74917491749175, 76: 19.369636963696355, 38: 2.132013201320132, 58: 0.5379537953795379, 44: 0.7029702970297037, 40: 2.5940594059405964, 56: 1.0330033003300332, 41: 4.366336633663371, 93: 0.029702970297029698, 79: 3.9966996699669988, 75: 0.7194719471947201, 51: 1.772277227722772, 46: 1.478547854785479, 63: 0.5808580858085812, 87: 0.17821782178217815, 66: 1.4389438943894393, 47: 2.412541254125413, 71: 5.8580858085808645, 54: 1.0792079207920795, 61: 0.7590759075907597, 49: 0.7953795379537953, 81: 1.7029702970297018, 78: 0.3795379537953795, 42: 1.8481848184818481, 73: 0.7953795379537958, 68: 1.0693069306930703, 33: 2.419141914191421, 35: 1.402640264026402, 83: 0.4983498349834985, 84: 0.623762376237624, 86: 1.191419141914191, 88: 0.3531353135313531, 37: 0.34653465346534673, 25: 0.11551155115511547, 26: 0.07260726072607258, 29: 0.04950495049504951, 39: 0.21122112211221125, 80: 0.8052805280528053, 82: 0.3102310231023102, 91: 0.12871287128712872, 32: 0.1419141914191419, 34: 0.0429042904290429, 31: 0.13531353135313534, 24: 0.056105610561056105, 85: 0.039603960396039604, 28: 0.029702970297029695, 89: 0.11551155115511551, 90: 0.056105610561056105}\n",
      "  pitch_class_distribution: {9: 44.58415841584158, 2: 44.79207920792077, 5: 25.270627062706264, 0: 48.42904290429046, 7: 40.29372937293727, 11: 21.039603960396068, 4: 60.72937293729373, 10: 3.1188118811881207, 8: 3.7524752475247563, 3: 3.462046204620461, 6: 4.801980198019806, 1: 2.8514851485148496}\n",
      "  note_count: 303.1254125412542\n"
     ]
    }
   ],
   "source": [
    "average_results = average_analysis_results(analysis_results)\n",
    "\n",
    "# Print average results\n",
    "print(\"Average results:\")\n",
    "for key, value in average_results.items():\n",
    "    print(f\"  {key}: {value}\")\n",
    "\n",
    "# Save average results to file\n",
    "# with open('average_results.json', 'w') as f:\n",
    "#     json.dump(average_results, f, indent=4)\n",
    "\n",
    "# Save analysis results to file\n",
    "# with open('analysis_results.json', 'w') as f:\n",
    "#     json.dump(analysis_results, f, indent=4)"
   ]
  },
  {
   "cell_type": "code",
   "execution_count": 13,
   "metadata": {},
   "outputs": [
    {
     "data": {
      "application/vnd.plotly.v1+json": {
       "config": {
        "plotlyServerURL": "https://plot.ly"
       },
       "data": [
        {
         "alignmentgroup": "True",
         "hovertemplate": "x=%{x}<br>y=%{y}<extra></extra>",
         "legendgroup": "",
         "marker": {
          "color": "rgb(158,202,225)",
          "line": {
           "color": "rgb(8,48,107)",
           "width": 1.5
          },
          "pattern": {
           "shape": ""
          }
         },
         "name": "",
         "offsetgroup": "",
         "opacity": 0.6,
         "orientation": "h",
         "showlegend": false,
         "textposition": "auto",
         "type": "bar",
         "x": [
          12.963696369636967,
          12.23102310231022,
          21.930693069306898,
          7.93729372937295,
          16.27722772277226,
          18.06270627062703,
          16.584158415841575,
          12.834983498349825,
          12.88778877887788,
          10.867986798679858,
          8.511551155115509,
          14.168316831683168,
          11.244224422442231,
          5.537953795379538,
          14.029702970296999,
          5.607260726072607,
          5.419141914191417,
          4.29042904290429,
          24.21452145214518,
          0.74917491749175,
          19.369636963696355,
          2.132013201320132,
          0.5379537953795379,
          0.7029702970297037,
          2.5940594059405964,
          1.0330033003300332,
          4.366336633663371,
          0.029702970297029698,
          3.9966996699669988,
          0.7194719471947201,
          1.772277227722772,
          1.478547854785479,
          0.5808580858085812,
          0.17821782178217815,
          1.4389438943894393,
          2.412541254125413,
          5.8580858085808645,
          1.0792079207920795,
          0.7590759075907597,
          0.7953795379537953,
          1.7029702970297018,
          0.3795379537953795,
          1.8481848184818481,
          0.7953795379537958,
          1.0693069306930703,
          2.419141914191421,
          1.402640264026402,
          0.4983498349834985,
          0.623762376237624,
          1.191419141914191,
          0.3531353135313531,
          0.34653465346534673,
          0.11551155115511547,
          0.07260726072607258,
          0.04950495049504951,
          0.21122112211221125,
          0.8052805280528053,
          0.3102310231023102,
          0.12871287128712872,
          0.1419141914191419,
          0.0429042904290429,
          0.13531353135313534,
          0.056105610561056105,
          0.039603960396039604,
          0.029702970297029695,
          0.11551155115511551,
          0.056105610561056105
         ],
         "xaxis": "x",
         "y": [
          57,
          50,
          69,
          53,
          62,
          60,
          67,
          72,
          74,
          59,
          65,
          52,
          48,
          45,
          55,
          36,
          43,
          77,
          64,
          70,
          76,
          38,
          58,
          44,
          40,
          56,
          41,
          93,
          79,
          75,
          51,
          46,
          63,
          87,
          66,
          47,
          71,
          54,
          61,
          49,
          81,
          78,
          42,
          73,
          68,
          33,
          35,
          83,
          84,
          86,
          88,
          37,
          25,
          26,
          29,
          39,
          80,
          82,
          91,
          32,
          34,
          31,
          24,
          85,
          28,
          89,
          90
         ],
         "yaxis": "y"
        }
       ],
       "layout": {
        "autosize": false,
        "barmode": "overlay",
        "font": {
         "size": 13
        },
        "height": 1200,
        "legend": {
         "tracegroupgap": 0
        },
        "margin": {
         "t": 60
        },
        "plot_bgcolor": "white",
        "template": {
         "data": {
          "bar": [
           {
            "error_x": {
             "color": "#2a3f5f"
            },
            "error_y": {
             "color": "#2a3f5f"
            },
            "marker": {
             "line": {
              "color": "#E5ECF6",
              "width": 0.5
             },
             "pattern": {
              "fillmode": "overlay",
              "size": 10,
              "solidity": 0.2
             }
            },
            "type": "bar"
           }
          ],
          "barpolar": [
           {
            "marker": {
             "line": {
              "color": "#E5ECF6",
              "width": 0.5
             },
             "pattern": {
              "fillmode": "overlay",
              "size": 10,
              "solidity": 0.2
             }
            },
            "type": "barpolar"
           }
          ],
          "carpet": [
           {
            "aaxis": {
             "endlinecolor": "#2a3f5f",
             "gridcolor": "white",
             "linecolor": "white",
             "minorgridcolor": "white",
             "startlinecolor": "#2a3f5f"
            },
            "baxis": {
             "endlinecolor": "#2a3f5f",
             "gridcolor": "white",
             "linecolor": "white",
             "minorgridcolor": "white",
             "startlinecolor": "#2a3f5f"
            },
            "type": "carpet"
           }
          ],
          "choropleth": [
           {
            "colorbar": {
             "outlinewidth": 0,
             "ticks": ""
            },
            "type": "choropleth"
           }
          ],
          "contour": [
           {
            "colorbar": {
             "outlinewidth": 0,
             "ticks": ""
            },
            "colorscale": [
             [
              0,
              "#0d0887"
             ],
             [
              0.1111111111111111,
              "#46039f"
             ],
             [
              0.2222222222222222,
              "#7201a8"
             ],
             [
              0.3333333333333333,
              "#9c179e"
             ],
             [
              0.4444444444444444,
              "#bd3786"
             ],
             [
              0.5555555555555556,
              "#d8576b"
             ],
             [
              0.6666666666666666,
              "#ed7953"
             ],
             [
              0.7777777777777778,
              "#fb9f3a"
             ],
             [
              0.8888888888888888,
              "#fdca26"
             ],
             [
              1,
              "#f0f921"
             ]
            ],
            "type": "contour"
           }
          ],
          "contourcarpet": [
           {
            "colorbar": {
             "outlinewidth": 0,
             "ticks": ""
            },
            "type": "contourcarpet"
           }
          ],
          "heatmap": [
           {
            "colorbar": {
             "outlinewidth": 0,
             "ticks": ""
            },
            "colorscale": [
             [
              0,
              "#0d0887"
             ],
             [
              0.1111111111111111,
              "#46039f"
             ],
             [
              0.2222222222222222,
              "#7201a8"
             ],
             [
              0.3333333333333333,
              "#9c179e"
             ],
             [
              0.4444444444444444,
              "#bd3786"
             ],
             [
              0.5555555555555556,
              "#d8576b"
             ],
             [
              0.6666666666666666,
              "#ed7953"
             ],
             [
              0.7777777777777778,
              "#fb9f3a"
             ],
             [
              0.8888888888888888,
              "#fdca26"
             ],
             [
              1,
              "#f0f921"
             ]
            ],
            "type": "heatmap"
           }
          ],
          "heatmapgl": [
           {
            "colorbar": {
             "outlinewidth": 0,
             "ticks": ""
            },
            "colorscale": [
             [
              0,
              "#0d0887"
             ],
             [
              0.1111111111111111,
              "#46039f"
             ],
             [
              0.2222222222222222,
              "#7201a8"
             ],
             [
              0.3333333333333333,
              "#9c179e"
             ],
             [
              0.4444444444444444,
              "#bd3786"
             ],
             [
              0.5555555555555556,
              "#d8576b"
             ],
             [
              0.6666666666666666,
              "#ed7953"
             ],
             [
              0.7777777777777778,
              "#fb9f3a"
             ],
             [
              0.8888888888888888,
              "#fdca26"
             ],
             [
              1,
              "#f0f921"
             ]
            ],
            "type": "heatmapgl"
           }
          ],
          "histogram": [
           {
            "marker": {
             "pattern": {
              "fillmode": "overlay",
              "size": 10,
              "solidity": 0.2
             }
            },
            "type": "histogram"
           }
          ],
          "histogram2d": [
           {
            "colorbar": {
             "outlinewidth": 0,
             "ticks": ""
            },
            "colorscale": [
             [
              0,
              "#0d0887"
             ],
             [
              0.1111111111111111,
              "#46039f"
             ],
             [
              0.2222222222222222,
              "#7201a8"
             ],
             [
              0.3333333333333333,
              "#9c179e"
             ],
             [
              0.4444444444444444,
              "#bd3786"
             ],
             [
              0.5555555555555556,
              "#d8576b"
             ],
             [
              0.6666666666666666,
              "#ed7953"
             ],
             [
              0.7777777777777778,
              "#fb9f3a"
             ],
             [
              0.8888888888888888,
              "#fdca26"
             ],
             [
              1,
              "#f0f921"
             ]
            ],
            "type": "histogram2d"
           }
          ],
          "histogram2dcontour": [
           {
            "colorbar": {
             "outlinewidth": 0,
             "ticks": ""
            },
            "colorscale": [
             [
              0,
              "#0d0887"
             ],
             [
              0.1111111111111111,
              "#46039f"
             ],
             [
              0.2222222222222222,
              "#7201a8"
             ],
             [
              0.3333333333333333,
              "#9c179e"
             ],
             [
              0.4444444444444444,
              "#bd3786"
             ],
             [
              0.5555555555555556,
              "#d8576b"
             ],
             [
              0.6666666666666666,
              "#ed7953"
             ],
             [
              0.7777777777777778,
              "#fb9f3a"
             ],
             [
              0.8888888888888888,
              "#fdca26"
             ],
             [
              1,
              "#f0f921"
             ]
            ],
            "type": "histogram2dcontour"
           }
          ],
          "mesh3d": [
           {
            "colorbar": {
             "outlinewidth": 0,
             "ticks": ""
            },
            "type": "mesh3d"
           }
          ],
          "parcoords": [
           {
            "line": {
             "colorbar": {
              "outlinewidth": 0,
              "ticks": ""
             }
            },
            "type": "parcoords"
           }
          ],
          "pie": [
           {
            "automargin": true,
            "type": "pie"
           }
          ],
          "scatter": [
           {
            "fillpattern": {
             "fillmode": "overlay",
             "size": 10,
             "solidity": 0.2
            },
            "type": "scatter"
           }
          ],
          "scatter3d": [
           {
            "line": {
             "colorbar": {
              "outlinewidth": 0,
              "ticks": ""
             }
            },
            "marker": {
             "colorbar": {
              "outlinewidth": 0,
              "ticks": ""
             }
            },
            "type": "scatter3d"
           }
          ],
          "scattercarpet": [
           {
            "marker": {
             "colorbar": {
              "outlinewidth": 0,
              "ticks": ""
             }
            },
            "type": "scattercarpet"
           }
          ],
          "scattergeo": [
           {
            "marker": {
             "colorbar": {
              "outlinewidth": 0,
              "ticks": ""
             }
            },
            "type": "scattergeo"
           }
          ],
          "scattergl": [
           {
            "marker": {
             "colorbar": {
              "outlinewidth": 0,
              "ticks": ""
             }
            },
            "type": "scattergl"
           }
          ],
          "scattermapbox": [
           {
            "marker": {
             "colorbar": {
              "outlinewidth": 0,
              "ticks": ""
             }
            },
            "type": "scattermapbox"
           }
          ],
          "scatterpolar": [
           {
            "marker": {
             "colorbar": {
              "outlinewidth": 0,
              "ticks": ""
             }
            },
            "type": "scatterpolar"
           }
          ],
          "scatterpolargl": [
           {
            "marker": {
             "colorbar": {
              "outlinewidth": 0,
              "ticks": ""
             }
            },
            "type": "scatterpolargl"
           }
          ],
          "scatterternary": [
           {
            "marker": {
             "colorbar": {
              "outlinewidth": 0,
              "ticks": ""
             }
            },
            "type": "scatterternary"
           }
          ],
          "surface": [
           {
            "colorbar": {
             "outlinewidth": 0,
             "ticks": ""
            },
            "colorscale": [
             [
              0,
              "#0d0887"
             ],
             [
              0.1111111111111111,
              "#46039f"
             ],
             [
              0.2222222222222222,
              "#7201a8"
             ],
             [
              0.3333333333333333,
              "#9c179e"
             ],
             [
              0.4444444444444444,
              "#bd3786"
             ],
             [
              0.5555555555555556,
              "#d8576b"
             ],
             [
              0.6666666666666666,
              "#ed7953"
             ],
             [
              0.7777777777777778,
              "#fb9f3a"
             ],
             [
              0.8888888888888888,
              "#fdca26"
             ],
             [
              1,
              "#f0f921"
             ]
            ],
            "type": "surface"
           }
          ],
          "table": [
           {
            "cells": {
             "fill": {
              "color": "#EBF0F8"
             },
             "line": {
              "color": "white"
             }
            },
            "header": {
             "fill": {
              "color": "#C8D4E3"
             },
             "line": {
              "color": "white"
             }
            },
            "type": "table"
           }
          ]
         },
         "layout": {
          "annotationdefaults": {
           "arrowcolor": "#2a3f5f",
           "arrowhead": 0,
           "arrowwidth": 1
          },
          "autotypenumbers": "strict",
          "coloraxis": {
           "colorbar": {
            "outlinewidth": 0,
            "ticks": ""
           }
          },
          "colorscale": {
           "diverging": [
            [
             0,
             "#8e0152"
            ],
            [
             0.1,
             "#c51b7d"
            ],
            [
             0.2,
             "#de77ae"
            ],
            [
             0.3,
             "#f1b6da"
            ],
            [
             0.4,
             "#fde0ef"
            ],
            [
             0.5,
             "#f7f7f7"
            ],
            [
             0.6,
             "#e6f5d0"
            ],
            [
             0.7,
             "#b8e186"
            ],
            [
             0.8,
             "#7fbc41"
            ],
            [
             0.9,
             "#4d9221"
            ],
            [
             1,
             "#276419"
            ]
           ],
           "sequential": [
            [
             0,
             "#0d0887"
            ],
            [
             0.1111111111111111,
             "#46039f"
            ],
            [
             0.2222222222222222,
             "#7201a8"
            ],
            [
             0.3333333333333333,
             "#9c179e"
            ],
            [
             0.4444444444444444,
             "#bd3786"
            ],
            [
             0.5555555555555556,
             "#d8576b"
            ],
            [
             0.6666666666666666,
             "#ed7953"
            ],
            [
             0.7777777777777778,
             "#fb9f3a"
            ],
            [
             0.8888888888888888,
             "#fdca26"
            ],
            [
             1,
             "#f0f921"
            ]
           ],
           "sequentialminus": [
            [
             0,
             "#0d0887"
            ],
            [
             0.1111111111111111,
             "#46039f"
            ],
            [
             0.2222222222222222,
             "#7201a8"
            ],
            [
             0.3333333333333333,
             "#9c179e"
            ],
            [
             0.4444444444444444,
             "#bd3786"
            ],
            [
             0.5555555555555556,
             "#d8576b"
            ],
            [
             0.6666666666666666,
             "#ed7953"
            ],
            [
             0.7777777777777778,
             "#fb9f3a"
            ],
            [
             0.8888888888888888,
             "#fdca26"
            ],
            [
             1,
             "#f0f921"
            ]
           ]
          },
          "colorway": [
           "#636efa",
           "#EF553B",
           "#00cc96",
           "#ab63fa",
           "#FFA15A",
           "#19d3f3",
           "#FF6692",
           "#B6E880",
           "#FF97FF",
           "#FECB52"
          ],
          "font": {
           "color": "#2a3f5f"
          },
          "geo": {
           "bgcolor": "white",
           "lakecolor": "white",
           "landcolor": "#E5ECF6",
           "showlakes": true,
           "showland": true,
           "subunitcolor": "white"
          },
          "hoverlabel": {
           "align": "left"
          },
          "hovermode": "closest",
          "mapbox": {
           "style": "light"
          },
          "paper_bgcolor": "white",
          "plot_bgcolor": "#E5ECF6",
          "polar": {
           "angularaxis": {
            "gridcolor": "white",
            "linecolor": "white",
            "ticks": ""
           },
           "bgcolor": "#E5ECF6",
           "radialaxis": {
            "gridcolor": "white",
            "linecolor": "white",
            "ticks": ""
           }
          },
          "scene": {
           "xaxis": {
            "backgroundcolor": "#E5ECF6",
            "gridcolor": "white",
            "gridwidth": 2,
            "linecolor": "white",
            "showbackground": true,
            "ticks": "",
            "zerolinecolor": "white"
           },
           "yaxis": {
            "backgroundcolor": "#E5ECF6",
            "gridcolor": "white",
            "gridwidth": 2,
            "linecolor": "white",
            "showbackground": true,
            "ticks": "",
            "zerolinecolor": "white"
           },
           "zaxis": {
            "backgroundcolor": "#E5ECF6",
            "gridcolor": "white",
            "gridwidth": 2,
            "linecolor": "white",
            "showbackground": true,
            "ticks": "",
            "zerolinecolor": "white"
           }
          },
          "shapedefaults": {
           "line": {
            "color": "#2a3f5f"
           }
          },
          "ternary": {
           "aaxis": {
            "gridcolor": "white",
            "linecolor": "white",
            "ticks": ""
           },
           "baxis": {
            "gridcolor": "white",
            "linecolor": "white",
            "ticks": ""
           },
           "bgcolor": "#E5ECF6",
           "caxis": {
            "gridcolor": "white",
            "linecolor": "white",
            "ticks": ""
           }
          },
          "title": {
           "x": 0.05
          },
          "xaxis": {
           "automargin": true,
           "gridcolor": "white",
           "linecolor": "white",
           "ticks": "",
           "title": {
            "standoff": 15
           },
           "zerolinecolor": "white",
           "zerolinewidth": 2
          },
          "yaxis": {
           "automargin": true,
           "gridcolor": "white",
           "linecolor": "white",
           "ticks": "",
           "title": {
            "standoff": 15
           },
           "zerolinecolor": "white",
           "zerolinewidth": 2
          }
         }
        },
        "title": {
         "text": "Model output (n = 906)"
        },
        "width": 450,
        "xaxis": {
         "anchor": "y",
         "domain": [
          0,
          1
         ],
         "gridcolor": "rgb(158,202,225)",
         "gridwidth": 1,
         "showgrid": true,
         "tickvals": [
          0,
          1,
          2,
          3,
          4,
          5,
          6,
          7,
          8,
          9,
          10,
          11,
          12,
          13,
          14,
          15,
          16,
          17,
          18,
          19,
          20,
          21,
          22,
          23,
          24,
          25
         ],
         "title": {
          "text": "Số lần xuất hiện trung bình"
         }
        },
        "yaxis": {
         "anchor": "x",
         "domain": [
          0,
          1
         ],
         "tickvals": [
          0,
          5,
          10,
          15,
          20,
          25,
          30,
          35,
          40,
          45,
          50,
          55,
          60,
          65,
          70,
          75,
          80,
          85,
          90
         ],
         "title": {
          "text": "Cao độ"
         }
        }
       }
      }
     },
     "metadata": {},
     "output_type": "display_data"
    },
    {
     "data": {
      "application/vnd.plotly.v1+json": {
       "config": {
        "plotlyServerURL": "https://plot.ly"
       },
       "data": [
        {
         "alignmentgroup": "True",
         "hovertemplate": "x=%{x}<br>y=%{y}<extra></extra>",
         "legendgroup": "",
         "marker": {
          "color": "rgb(158,202,225)",
          "line": {
           "color": "rgb(8,48,107)",
           "width": 1.5
          },
          "pattern": {
           "shape": ""
          }
         },
         "name": "",
         "offsetgroup": "",
         "opacity": 0.6,
         "orientation": "v",
         "showlegend": false,
         "textposition": "auto",
         "type": "bar",
         "x": [
          9,
          2,
          5,
          0,
          7,
          11,
          4,
          10,
          8,
          3,
          6,
          1
         ],
         "xaxis": "x",
         "y": [
          44.58415841584158,
          44.79207920792077,
          25.270627062706264,
          48.42904290429046,
          40.29372937293727,
          21.039603960396068,
          60.72937293729373,
          3.1188118811881207,
          3.7524752475247563,
          3.462046204620461,
          4.801980198019806,
          2.8514851485148496
         ],
         "yaxis": "y"
        }
       ],
       "layout": {
        "autosize": false,
        "barmode": "relative",
        "font": {
         "size": 13
        },
        "height": 400,
        "legend": {
         "tracegroupgap": 0
        },
        "margin": {
         "t": 60
        },
        "plot_bgcolor": "white",
        "template": {
         "data": {
          "bar": [
           {
            "error_x": {
             "color": "#2a3f5f"
            },
            "error_y": {
             "color": "#2a3f5f"
            },
            "marker": {
             "line": {
              "color": "#E5ECF6",
              "width": 0.5
             },
             "pattern": {
              "fillmode": "overlay",
              "size": 10,
              "solidity": 0.2
             }
            },
            "type": "bar"
           }
          ],
          "barpolar": [
           {
            "marker": {
             "line": {
              "color": "#E5ECF6",
              "width": 0.5
             },
             "pattern": {
              "fillmode": "overlay",
              "size": 10,
              "solidity": 0.2
             }
            },
            "type": "barpolar"
           }
          ],
          "carpet": [
           {
            "aaxis": {
             "endlinecolor": "#2a3f5f",
             "gridcolor": "white",
             "linecolor": "white",
             "minorgridcolor": "white",
             "startlinecolor": "#2a3f5f"
            },
            "baxis": {
             "endlinecolor": "#2a3f5f",
             "gridcolor": "white",
             "linecolor": "white",
             "minorgridcolor": "white",
             "startlinecolor": "#2a3f5f"
            },
            "type": "carpet"
           }
          ],
          "choropleth": [
           {
            "colorbar": {
             "outlinewidth": 0,
             "ticks": ""
            },
            "type": "choropleth"
           }
          ],
          "contour": [
           {
            "colorbar": {
             "outlinewidth": 0,
             "ticks": ""
            },
            "colorscale": [
             [
              0,
              "#0d0887"
             ],
             [
              0.1111111111111111,
              "#46039f"
             ],
             [
              0.2222222222222222,
              "#7201a8"
             ],
             [
              0.3333333333333333,
              "#9c179e"
             ],
             [
              0.4444444444444444,
              "#bd3786"
             ],
             [
              0.5555555555555556,
              "#d8576b"
             ],
             [
              0.6666666666666666,
              "#ed7953"
             ],
             [
              0.7777777777777778,
              "#fb9f3a"
             ],
             [
              0.8888888888888888,
              "#fdca26"
             ],
             [
              1,
              "#f0f921"
             ]
            ],
            "type": "contour"
           }
          ],
          "contourcarpet": [
           {
            "colorbar": {
             "outlinewidth": 0,
             "ticks": ""
            },
            "type": "contourcarpet"
           }
          ],
          "heatmap": [
           {
            "colorbar": {
             "outlinewidth": 0,
             "ticks": ""
            },
            "colorscale": [
             [
              0,
              "#0d0887"
             ],
             [
              0.1111111111111111,
              "#46039f"
             ],
             [
              0.2222222222222222,
              "#7201a8"
             ],
             [
              0.3333333333333333,
              "#9c179e"
             ],
             [
              0.4444444444444444,
              "#bd3786"
             ],
             [
              0.5555555555555556,
              "#d8576b"
             ],
             [
              0.6666666666666666,
              "#ed7953"
             ],
             [
              0.7777777777777778,
              "#fb9f3a"
             ],
             [
              0.8888888888888888,
              "#fdca26"
             ],
             [
              1,
              "#f0f921"
             ]
            ],
            "type": "heatmap"
           }
          ],
          "heatmapgl": [
           {
            "colorbar": {
             "outlinewidth": 0,
             "ticks": ""
            },
            "colorscale": [
             [
              0,
              "#0d0887"
             ],
             [
              0.1111111111111111,
              "#46039f"
             ],
             [
              0.2222222222222222,
              "#7201a8"
             ],
             [
              0.3333333333333333,
              "#9c179e"
             ],
             [
              0.4444444444444444,
              "#bd3786"
             ],
             [
              0.5555555555555556,
              "#d8576b"
             ],
             [
              0.6666666666666666,
              "#ed7953"
             ],
             [
              0.7777777777777778,
              "#fb9f3a"
             ],
             [
              0.8888888888888888,
              "#fdca26"
             ],
             [
              1,
              "#f0f921"
             ]
            ],
            "type": "heatmapgl"
           }
          ],
          "histogram": [
           {
            "marker": {
             "pattern": {
              "fillmode": "overlay",
              "size": 10,
              "solidity": 0.2
             }
            },
            "type": "histogram"
           }
          ],
          "histogram2d": [
           {
            "colorbar": {
             "outlinewidth": 0,
             "ticks": ""
            },
            "colorscale": [
             [
              0,
              "#0d0887"
             ],
             [
              0.1111111111111111,
              "#46039f"
             ],
             [
              0.2222222222222222,
              "#7201a8"
             ],
             [
              0.3333333333333333,
              "#9c179e"
             ],
             [
              0.4444444444444444,
              "#bd3786"
             ],
             [
              0.5555555555555556,
              "#d8576b"
             ],
             [
              0.6666666666666666,
              "#ed7953"
             ],
             [
              0.7777777777777778,
              "#fb9f3a"
             ],
             [
              0.8888888888888888,
              "#fdca26"
             ],
             [
              1,
              "#f0f921"
             ]
            ],
            "type": "histogram2d"
           }
          ],
          "histogram2dcontour": [
           {
            "colorbar": {
             "outlinewidth": 0,
             "ticks": ""
            },
            "colorscale": [
             [
              0,
              "#0d0887"
             ],
             [
              0.1111111111111111,
              "#46039f"
             ],
             [
              0.2222222222222222,
              "#7201a8"
             ],
             [
              0.3333333333333333,
              "#9c179e"
             ],
             [
              0.4444444444444444,
              "#bd3786"
             ],
             [
              0.5555555555555556,
              "#d8576b"
             ],
             [
              0.6666666666666666,
              "#ed7953"
             ],
             [
              0.7777777777777778,
              "#fb9f3a"
             ],
             [
              0.8888888888888888,
              "#fdca26"
             ],
             [
              1,
              "#f0f921"
             ]
            ],
            "type": "histogram2dcontour"
           }
          ],
          "mesh3d": [
           {
            "colorbar": {
             "outlinewidth": 0,
             "ticks": ""
            },
            "type": "mesh3d"
           }
          ],
          "parcoords": [
           {
            "line": {
             "colorbar": {
              "outlinewidth": 0,
              "ticks": ""
             }
            },
            "type": "parcoords"
           }
          ],
          "pie": [
           {
            "automargin": true,
            "type": "pie"
           }
          ],
          "scatter": [
           {
            "fillpattern": {
             "fillmode": "overlay",
             "size": 10,
             "solidity": 0.2
            },
            "type": "scatter"
           }
          ],
          "scatter3d": [
           {
            "line": {
             "colorbar": {
              "outlinewidth": 0,
              "ticks": ""
             }
            },
            "marker": {
             "colorbar": {
              "outlinewidth": 0,
              "ticks": ""
             }
            },
            "type": "scatter3d"
           }
          ],
          "scattercarpet": [
           {
            "marker": {
             "colorbar": {
              "outlinewidth": 0,
              "ticks": ""
             }
            },
            "type": "scattercarpet"
           }
          ],
          "scattergeo": [
           {
            "marker": {
             "colorbar": {
              "outlinewidth": 0,
              "ticks": ""
             }
            },
            "type": "scattergeo"
           }
          ],
          "scattergl": [
           {
            "marker": {
             "colorbar": {
              "outlinewidth": 0,
              "ticks": ""
             }
            },
            "type": "scattergl"
           }
          ],
          "scattermapbox": [
           {
            "marker": {
             "colorbar": {
              "outlinewidth": 0,
              "ticks": ""
             }
            },
            "type": "scattermapbox"
           }
          ],
          "scatterpolar": [
           {
            "marker": {
             "colorbar": {
              "outlinewidth": 0,
              "ticks": ""
             }
            },
            "type": "scatterpolar"
           }
          ],
          "scatterpolargl": [
           {
            "marker": {
             "colorbar": {
              "outlinewidth": 0,
              "ticks": ""
             }
            },
            "type": "scatterpolargl"
           }
          ],
          "scatterternary": [
           {
            "marker": {
             "colorbar": {
              "outlinewidth": 0,
              "ticks": ""
             }
            },
            "type": "scatterternary"
           }
          ],
          "surface": [
           {
            "colorbar": {
             "outlinewidth": 0,
             "ticks": ""
            },
            "colorscale": [
             [
              0,
              "#0d0887"
             ],
             [
              0.1111111111111111,
              "#46039f"
             ],
             [
              0.2222222222222222,
              "#7201a8"
             ],
             [
              0.3333333333333333,
              "#9c179e"
             ],
             [
              0.4444444444444444,
              "#bd3786"
             ],
             [
              0.5555555555555556,
              "#d8576b"
             ],
             [
              0.6666666666666666,
              "#ed7953"
             ],
             [
              0.7777777777777778,
              "#fb9f3a"
             ],
             [
              0.8888888888888888,
              "#fdca26"
             ],
             [
              1,
              "#f0f921"
             ]
            ],
            "type": "surface"
           }
          ],
          "table": [
           {
            "cells": {
             "fill": {
              "color": "#EBF0F8"
             },
             "line": {
              "color": "white"
             }
            },
            "header": {
             "fill": {
              "color": "#C8D4E3"
             },
             "line": {
              "color": "white"
             }
            },
            "type": "table"
           }
          ]
         },
         "layout": {
          "annotationdefaults": {
           "arrowcolor": "#2a3f5f",
           "arrowhead": 0,
           "arrowwidth": 1
          },
          "autotypenumbers": "strict",
          "coloraxis": {
           "colorbar": {
            "outlinewidth": 0,
            "ticks": ""
           }
          },
          "colorscale": {
           "diverging": [
            [
             0,
             "#8e0152"
            ],
            [
             0.1,
             "#c51b7d"
            ],
            [
             0.2,
             "#de77ae"
            ],
            [
             0.3,
             "#f1b6da"
            ],
            [
             0.4,
             "#fde0ef"
            ],
            [
             0.5,
             "#f7f7f7"
            ],
            [
             0.6,
             "#e6f5d0"
            ],
            [
             0.7,
             "#b8e186"
            ],
            [
             0.8,
             "#7fbc41"
            ],
            [
             0.9,
             "#4d9221"
            ],
            [
             1,
             "#276419"
            ]
           ],
           "sequential": [
            [
             0,
             "#0d0887"
            ],
            [
             0.1111111111111111,
             "#46039f"
            ],
            [
             0.2222222222222222,
             "#7201a8"
            ],
            [
             0.3333333333333333,
             "#9c179e"
            ],
            [
             0.4444444444444444,
             "#bd3786"
            ],
            [
             0.5555555555555556,
             "#d8576b"
            ],
            [
             0.6666666666666666,
             "#ed7953"
            ],
            [
             0.7777777777777778,
             "#fb9f3a"
            ],
            [
             0.8888888888888888,
             "#fdca26"
            ],
            [
             1,
             "#f0f921"
            ]
           ],
           "sequentialminus": [
            [
             0,
             "#0d0887"
            ],
            [
             0.1111111111111111,
             "#46039f"
            ],
            [
             0.2222222222222222,
             "#7201a8"
            ],
            [
             0.3333333333333333,
             "#9c179e"
            ],
            [
             0.4444444444444444,
             "#bd3786"
            ],
            [
             0.5555555555555556,
             "#d8576b"
            ],
            [
             0.6666666666666666,
             "#ed7953"
            ],
            [
             0.7777777777777778,
             "#fb9f3a"
            ],
            [
             0.8888888888888888,
             "#fdca26"
            ],
            [
             1,
             "#f0f921"
            ]
           ]
          },
          "colorway": [
           "#636efa",
           "#EF553B",
           "#00cc96",
           "#ab63fa",
           "#FFA15A",
           "#19d3f3",
           "#FF6692",
           "#B6E880",
           "#FF97FF",
           "#FECB52"
          ],
          "font": {
           "color": "#2a3f5f"
          },
          "geo": {
           "bgcolor": "white",
           "lakecolor": "white",
           "landcolor": "#E5ECF6",
           "showlakes": true,
           "showland": true,
           "subunitcolor": "white"
          },
          "hoverlabel": {
           "align": "left"
          },
          "hovermode": "closest",
          "mapbox": {
           "style": "light"
          },
          "paper_bgcolor": "white",
          "plot_bgcolor": "#E5ECF6",
          "polar": {
           "angularaxis": {
            "gridcolor": "white",
            "linecolor": "white",
            "ticks": ""
           },
           "bgcolor": "#E5ECF6",
           "radialaxis": {
            "gridcolor": "white",
            "linecolor": "white",
            "ticks": ""
           }
          },
          "scene": {
           "xaxis": {
            "backgroundcolor": "#E5ECF6",
            "gridcolor": "white",
            "gridwidth": 2,
            "linecolor": "white",
            "showbackground": true,
            "ticks": "",
            "zerolinecolor": "white"
           },
           "yaxis": {
            "backgroundcolor": "#E5ECF6",
            "gridcolor": "white",
            "gridwidth": 2,
            "linecolor": "white",
            "showbackground": true,
            "ticks": "",
            "zerolinecolor": "white"
           },
           "zaxis": {
            "backgroundcolor": "#E5ECF6",
            "gridcolor": "white",
            "gridwidth": 2,
            "linecolor": "white",
            "showbackground": true,
            "ticks": "",
            "zerolinecolor": "white"
           }
          },
          "shapedefaults": {
           "line": {
            "color": "#2a3f5f"
           }
          },
          "ternary": {
           "aaxis": {
            "gridcolor": "white",
            "linecolor": "white",
            "ticks": ""
           },
           "baxis": {
            "gridcolor": "white",
            "linecolor": "white",
            "ticks": ""
           },
           "bgcolor": "#E5ECF6",
           "caxis": {
            "gridcolor": "white",
            "linecolor": "white",
            "ticks": ""
           }
          },
          "title": {
           "x": 0.05
          },
          "xaxis": {
           "automargin": true,
           "gridcolor": "white",
           "linecolor": "white",
           "ticks": "",
           "title": {
            "standoff": 15
           },
           "zerolinecolor": "white",
           "zerolinewidth": 2
          },
          "yaxis": {
           "automargin": true,
           "gridcolor": "white",
           "linecolor": "white",
           "ticks": "",
           "title": {
            "standoff": 15
           },
           "zerolinecolor": "white",
           "zerolinewidth": 2
          }
         }
        },
        "title": {
         "text": "Model output (n = 906)"
        },
        "width": 650,
        "xaxis": {
         "anchor": "y",
         "domain": [
          0,
          1
         ],
         "tickvals": [
          0,
          1,
          2,
          3,
          4,
          5,
          6,
          7,
          8,
          9,
          10,
          11
         ],
         "title": {
          "text": "Cao độ cơ bản"
         }
        },
        "yaxis": {
         "anchor": "x",
         "domain": [
          0,
          1
         ],
         "gridcolor": "rgb(158,202,225)",
         "gridwidth": 1,
         "showgrid": true,
         "title": {
          "text": "Số lần xuất hiện trung bình"
         }
        }
       }
      }
     },
     "metadata": {},
     "output_type": "display_data"
    },
    {
     "name": "stdout",
     "output_type": "stream",
     "text": [
      "Số lượng nốt nhạc trung bình trong một đoạn nhạc từ Model output (n = 906): 303.1254125412542\n"
     ]
    }
   ],
   "source": [
    "# Horizontal bar chart for pitch counts using plotly express (with y is the pitch and x is the count)\n",
    "fig = px.bar(\n",
    "    x=list(average_results['pitch_counts'].values()), \n",
    "    y=list(average_results['pitch_counts'].keys()), \n",
    "    orientation='h'\n",
    ")\n",
    "\n",
    "fig.update_layout(\n",
    "    title=f'Model output (n = {n_file_to_analyze})', \n",
    "    xaxis_title='Số lần xuất hiện trung bình',\n",
    "    yaxis_title='Cao độ'\n",
    ")\n",
    "\n",
    "# Show labels 0, 5, 10, 15, ... in y-axis\n",
    "y_axis_tickvals = list(range(0, max(average_results['pitch_counts'].keys()) + 1, 5))\n",
    "fig.update_yaxes(tickvals=y_axis_tickvals)\n",
    "\n",
    "# Show labels 0, 1, 2, 3, ... in x-axis\n",
    "x_axis_tickvals = list(range(\n",
    "    0, \n",
    "    int(max(average_results['pitch_counts'].values())) + 1 + 1\n",
    "))\n",
    "fig.update_xaxes(tickvals=x_axis_tickvals)\n",
    "\n",
    "# Change the color set to make it easier to see when printed in black and white\n",
    "fig.update_traces(marker_color='rgb(158,202,225)', marker_line_color='rgb(8,48,107)', marker_line_width=1.5, opacity=0.6)\n",
    "\n",
    "# Change the background color to make it easier to see when printed in black and white\n",
    "fig.update_layout(plot_bgcolor='white')\n",
    "\n",
    "# Show the vertical grid lines\n",
    "fig.update_layout(xaxis=dict(showgrid=True, gridwidth=1, gridcolor='rgb(158,202,225)'))\n",
    "\n",
    "# Make the colums overlay the grid lines\n",
    "fig.update_layout(barmode='overlay')\n",
    "\n",
    "# Make the font size bigger\n",
    "fig.update_layout(font=dict(size=13))\n",
    "\n",
    "# Make the plot ratio x:y\n",
    "fig.update_layout(\n",
    "    autosize=False,\n",
    "    width=450,\n",
    "    height=1200,\n",
    ")\n",
    "\n",
    "fig.show()\n",
    "\n",
    "\n",
    "# Pitch class distribution\n",
    "fig = px.bar(x=list(average_results['pitch_class_distribution'].keys()), y=list(average_results['pitch_class_distribution'].values()))\n",
    "fig.update_layout(\n",
    "    title=f'Model output (n = {n_file_to_analyze})', \n",
    "    yaxis_title='Số lần xuất hiện trung bình',\n",
    "    xaxis_title='Cao độ cơ bản'\n",
    ")\n",
    "\n",
    "# Show labels 0, 1, 2, 3, ... in x-axis\n",
    "x_axis_tickvals = list(range(0, max(average_results['pitch_class_distribution'].keys()) + 1))\n",
    "fig.update_xaxes(tickvals=x_axis_tickvals)\n",
    "\n",
    "# Change the color set to make it easier to see when printed in black and white\n",
    "fig.update_traces(marker_color='rgb(158,202,225)', marker_line_color='rgb(8,48,107)', marker_line_width=1.5, opacity=0.6)\n",
    "\n",
    "# Change the background color to make it easier to see when printed in black and white\n",
    "fig.update_layout(plot_bgcolor='white')\n",
    "\n",
    "# Show the horizontal grid lines\n",
    "fig.update_layout(yaxis=dict(showgrid=True, gridwidth=1, gridcolor='rgb(158,202,225)'))\n",
    "\n",
    "# Make the font size bigger\n",
    "fig.update_layout(font=dict(size=13))\n",
    "\n",
    "# Make the plot ratio x:y\n",
    "fig.update_layout(\n",
    "    autosize=False,\n",
    "    width=650,\n",
    "    height=400,\n",
    ")\n",
    "\n",
    "fig.show()\n",
    "\n",
    "# Note count\n",
    "print(f\"Số lượng nốt nhạc trung bình trong một đoạn nhạc từ Model output (n = {n_file_to_analyze}): {average_results['note_count']}\")"
   ]
  },
  {
   "cell_type": "markdown",
   "metadata": {},
   "source": [
    "# Model Output (C major & A minor key only)"
   ]
  },
  {
   "cell_type": "code",
   "execution_count": 14,
   "metadata": {},
   "outputs": [
    {
     "name": "stdout",
     "output_type": "stream",
     "text": [
      "{24: 0.056105610561056105, 25: 0.11551155115511547, 26: 0.07260726072607258, 28: 0.029702970297029695, 29: 0.04950495049504951, 31: 0.13531353135313534, 32: 0.1419141914191419, 33: 2.419141914191421, 34: 0.0429042904290429, 35: 1.402640264026402, 36: 5.607260726072607, 37: 0.34653465346534673, 38: 2.132013201320132, 39: 0.21122112211221125, 40: 2.5940594059405964, 41: 4.366336633663371, 42: 1.8481848184818481, 43: 5.419141914191417, 44: 0.7029702970297037, 45: 5.537953795379538, 46: 1.478547854785479, 47: 2.412541254125413, 48: 11.244224422442231, 49: 0.7953795379537953, 50: 12.23102310231022, 51: 1.772277227722772, 52: 14.168316831683168, 53: 7.93729372937295, 54: 1.0792079207920795, 55: 14.029702970296999, 56: 1.0330033003300332, 57: 12.963696369636967, 58: 0.5379537953795379, 59: 10.867986798679858, 60: 18.06270627062703, 61: 0.7590759075907597, 62: 16.27722772277226, 63: 0.5808580858085812, 64: 24.21452145214518, 65: 8.511551155115509, 66: 1.4389438943894393, 67: 16.584158415841575, 68: 1.0693069306930703, 69: 21.930693069306898, 70: 0.74917491749175, 71: 5.8580858085808645, 72: 12.834983498349825, 73: 0.7953795379537958, 74: 12.88778877887788, 75: 0.7194719471947201, 76: 19.369636963696355, 77: 4.29042904290429, 78: 0.3795379537953795, 79: 3.9966996699669988, 80: 0.8052805280528053, 81: 1.7029702970297018, 82: 0.3102310231023102, 83: 0.4983498349834985, 84: 0.623762376237624, 85: 0.039603960396039604, 86: 1.191419141914191, 87: 0.17821782178217815, 88: 0.3531353135313531, 89: 0.11551155115511551, 90: 0.056105610561056105, 91: 0.12871287128712872, 93: 0.029702970297029698}\n",
      "{'24': 0.056105610561056105, '26': 0.07260726072607258, '28': 0.029702970297029695, '29': 0.04950495049504951, '31': 0.13531353135313534, '33': 2.419141914191421, '35': 1.402640264026402, '36': 5.607260726072607, '38': 2.132013201320132, '40': 2.5940594059405964, '41': 4.366336633663371, '43': 5.419141914191417, '45': 5.537953795379538, '47': 2.412541254125413, '48': 11.244224422442231, '50': 12.23102310231022, '52': 14.168316831683168, '53': 7.93729372937295, '55': 14.029702970296999, '57': 12.963696369636967, '59': 10.867986798679858, '60': 18.06270627062703, '62': 16.27722772277226, '64': 24.21452145214518, '65': 8.511551155115509, '67': 16.584158415841575, '69': 21.930693069306898, '71': 5.8580858085808645, '72': 12.834983498349825, '74': 12.88778877887788, '76': 19.369636963696355, '77': 4.29042904290429, '79': 3.9966996699669988, '81': 1.7029702970297018, '83': 0.4983498349834985, '84': 0.623762376237624, '86': 1.191419141914191, '88': 0.3531353135313531, '89': 0.11551155115511551, '91': 0.12871287128712872, '93': 0.029702970297029698}\n",
      "{0: 48.42904290429046, 1: 2.8514851485148496, 2: 44.79207920792077, 3: 3.462046204620461, 4: 60.72937293729373, 5: 25.270627062706264, 6: 4.801980198019806, 7: 40.29372937293727, 8: 3.7524752475247563, 9: 44.58415841584158, 10: 3.1188118811881207, 11: 21.039603960396068}\n",
      "{'0': 48.42904290429046, '2': 44.79207920792077, '4': 60.72937293729373, '5': 25.270627062706264, '7': 40.29372937293727, '9': 44.58415841584158, '11': 21.039603960396068}\n"
     ]
    }
   ],
   "source": [
    "# Select the pitches to analyze (C major scale and A minor scale)\n",
    "selected_pitchs = [\n",
    "    0, # C\n",
    "    2, # D\n",
    "    4, # E\n",
    "    5, # F\n",
    "    7, # G\n",
    "    9, # A\n",
    "    11 # B\n",
    "]\n",
    "\n",
    "# AVARAGE PITCH COUNTS\n",
    "# Sort average_results['pitch_counts'] by pitch\n",
    "average_results['pitch_counts'] = dict(sorted(average_results['pitch_counts'].items()))\n",
    "\n",
    "print(average_results['pitch_counts'])\n",
    "\n",
    "# Filter the pitch that pitch mod any of the selected pitches equals 0\n",
    "filtered_pitch_counts = {\n",
    "    str(pitch): count \n",
    "    for pitch, count in average_results['pitch_counts'].items() \n",
    "    if pitch % 12 in selected_pitchs\n",
    "}\n",
    "\n",
    "print(filtered_pitch_counts)\n",
    "\n",
    "# AVARAGE PITCH CLASS DISTRIBUTION\n",
    "# Sort average_results['pitch_class_distribution'] by pitch class\n",
    "average_results['pitch_class_distribution'] = dict(sorted(average_results['pitch_class_distribution'].items()))\n",
    "\n",
    "print(average_results['pitch_class_distribution'])\n",
    "\n",
    "# Filter the pitch class that is in the selected pitch classes\n",
    "filtered_pitch_class_distribution = {\n",
    "    str(pitch_class): count \n",
    "    for pitch_class, count in average_results['pitch_class_distribution'].items() \n",
    "    if pitch_class in selected_pitchs\n",
    "}\n",
    "\n",
    "print(filtered_pitch_class_distribution)"
   ]
  },
  {
   "cell_type": "code",
   "execution_count": 15,
   "metadata": {},
   "outputs": [
    {
     "data": {
      "application/vnd.plotly.v1+json": {
       "config": {
        "plotlyServerURL": "https://plot.ly"
       },
       "data": [
        {
         "alignmentgroup": "True",
         "hovertemplate": "x=%{x}<br>y=%{y}<extra></extra>",
         "legendgroup": "",
         "marker": {
          "color": "rgb(158,202,225)",
          "line": {
           "color": "rgb(8,48,107)",
           "width": 1.5
          },
          "pattern": {
           "shape": ""
          }
         },
         "name": "",
         "offsetgroup": "",
         "opacity": 0.6,
         "orientation": "h",
         "showlegend": false,
         "textposition": "auto",
         "type": "bar",
         "x": [
          0.056105610561056105,
          0.07260726072607258,
          0.029702970297029695,
          0.04950495049504951,
          0.13531353135313534,
          2.419141914191421,
          1.402640264026402,
          5.607260726072607,
          2.132013201320132,
          2.5940594059405964,
          4.366336633663371,
          5.419141914191417,
          5.537953795379538,
          2.412541254125413,
          11.244224422442231,
          12.23102310231022,
          14.168316831683168,
          7.93729372937295,
          14.029702970296999,
          12.963696369636967,
          10.867986798679858,
          18.06270627062703,
          16.27722772277226,
          24.21452145214518,
          8.511551155115509,
          16.584158415841575,
          21.930693069306898,
          5.8580858085808645,
          12.834983498349825,
          12.88778877887788,
          19.369636963696355,
          4.29042904290429,
          3.9966996699669988,
          1.7029702970297018,
          0.4983498349834985,
          0.623762376237624,
          1.191419141914191,
          0.3531353135313531,
          0.11551155115511551,
          0.12871287128712872,
          0.029702970297029698
         ],
         "xaxis": "x",
         "y": [
          "24",
          "26",
          "28",
          "29",
          "31",
          "33",
          "35",
          "36",
          "38",
          "40",
          "41",
          "43",
          "45",
          "47",
          "48",
          "50",
          "52",
          "53",
          "55",
          "57",
          "59",
          "60",
          "62",
          "64",
          "65",
          "67",
          "69",
          "71",
          "72",
          "74",
          "76",
          "77",
          "79",
          "81",
          "83",
          "84",
          "86",
          "88",
          "89",
          "91",
          "93"
         ],
         "yaxis": "y"
        }
       ],
       "layout": {
        "autosize": false,
        "barmode": "overlay",
        "font": {
         "size": 13
        },
        "height": 850,
        "legend": {
         "tracegroupgap": 0
        },
        "margin": {
         "t": 60
        },
        "plot_bgcolor": "white",
        "template": {
         "data": {
          "bar": [
           {
            "error_x": {
             "color": "#2a3f5f"
            },
            "error_y": {
             "color": "#2a3f5f"
            },
            "marker": {
             "line": {
              "color": "#E5ECF6",
              "width": 0.5
             },
             "pattern": {
              "fillmode": "overlay",
              "size": 10,
              "solidity": 0.2
             }
            },
            "type": "bar"
           }
          ],
          "barpolar": [
           {
            "marker": {
             "line": {
              "color": "#E5ECF6",
              "width": 0.5
             },
             "pattern": {
              "fillmode": "overlay",
              "size": 10,
              "solidity": 0.2
             }
            },
            "type": "barpolar"
           }
          ],
          "carpet": [
           {
            "aaxis": {
             "endlinecolor": "#2a3f5f",
             "gridcolor": "white",
             "linecolor": "white",
             "minorgridcolor": "white",
             "startlinecolor": "#2a3f5f"
            },
            "baxis": {
             "endlinecolor": "#2a3f5f",
             "gridcolor": "white",
             "linecolor": "white",
             "minorgridcolor": "white",
             "startlinecolor": "#2a3f5f"
            },
            "type": "carpet"
           }
          ],
          "choropleth": [
           {
            "colorbar": {
             "outlinewidth": 0,
             "ticks": ""
            },
            "type": "choropleth"
           }
          ],
          "contour": [
           {
            "colorbar": {
             "outlinewidth": 0,
             "ticks": ""
            },
            "colorscale": [
             [
              0,
              "#0d0887"
             ],
             [
              0.1111111111111111,
              "#46039f"
             ],
             [
              0.2222222222222222,
              "#7201a8"
             ],
             [
              0.3333333333333333,
              "#9c179e"
             ],
             [
              0.4444444444444444,
              "#bd3786"
             ],
             [
              0.5555555555555556,
              "#d8576b"
             ],
             [
              0.6666666666666666,
              "#ed7953"
             ],
             [
              0.7777777777777778,
              "#fb9f3a"
             ],
             [
              0.8888888888888888,
              "#fdca26"
             ],
             [
              1,
              "#f0f921"
             ]
            ],
            "type": "contour"
           }
          ],
          "contourcarpet": [
           {
            "colorbar": {
             "outlinewidth": 0,
             "ticks": ""
            },
            "type": "contourcarpet"
           }
          ],
          "heatmap": [
           {
            "colorbar": {
             "outlinewidth": 0,
             "ticks": ""
            },
            "colorscale": [
             [
              0,
              "#0d0887"
             ],
             [
              0.1111111111111111,
              "#46039f"
             ],
             [
              0.2222222222222222,
              "#7201a8"
             ],
             [
              0.3333333333333333,
              "#9c179e"
             ],
             [
              0.4444444444444444,
              "#bd3786"
             ],
             [
              0.5555555555555556,
              "#d8576b"
             ],
             [
              0.6666666666666666,
              "#ed7953"
             ],
             [
              0.7777777777777778,
              "#fb9f3a"
             ],
             [
              0.8888888888888888,
              "#fdca26"
             ],
             [
              1,
              "#f0f921"
             ]
            ],
            "type": "heatmap"
           }
          ],
          "heatmapgl": [
           {
            "colorbar": {
             "outlinewidth": 0,
             "ticks": ""
            },
            "colorscale": [
             [
              0,
              "#0d0887"
             ],
             [
              0.1111111111111111,
              "#46039f"
             ],
             [
              0.2222222222222222,
              "#7201a8"
             ],
             [
              0.3333333333333333,
              "#9c179e"
             ],
             [
              0.4444444444444444,
              "#bd3786"
             ],
             [
              0.5555555555555556,
              "#d8576b"
             ],
             [
              0.6666666666666666,
              "#ed7953"
             ],
             [
              0.7777777777777778,
              "#fb9f3a"
             ],
             [
              0.8888888888888888,
              "#fdca26"
             ],
             [
              1,
              "#f0f921"
             ]
            ],
            "type": "heatmapgl"
           }
          ],
          "histogram": [
           {
            "marker": {
             "pattern": {
              "fillmode": "overlay",
              "size": 10,
              "solidity": 0.2
             }
            },
            "type": "histogram"
           }
          ],
          "histogram2d": [
           {
            "colorbar": {
             "outlinewidth": 0,
             "ticks": ""
            },
            "colorscale": [
             [
              0,
              "#0d0887"
             ],
             [
              0.1111111111111111,
              "#46039f"
             ],
             [
              0.2222222222222222,
              "#7201a8"
             ],
             [
              0.3333333333333333,
              "#9c179e"
             ],
             [
              0.4444444444444444,
              "#bd3786"
             ],
             [
              0.5555555555555556,
              "#d8576b"
             ],
             [
              0.6666666666666666,
              "#ed7953"
             ],
             [
              0.7777777777777778,
              "#fb9f3a"
             ],
             [
              0.8888888888888888,
              "#fdca26"
             ],
             [
              1,
              "#f0f921"
             ]
            ],
            "type": "histogram2d"
           }
          ],
          "histogram2dcontour": [
           {
            "colorbar": {
             "outlinewidth": 0,
             "ticks": ""
            },
            "colorscale": [
             [
              0,
              "#0d0887"
             ],
             [
              0.1111111111111111,
              "#46039f"
             ],
             [
              0.2222222222222222,
              "#7201a8"
             ],
             [
              0.3333333333333333,
              "#9c179e"
             ],
             [
              0.4444444444444444,
              "#bd3786"
             ],
             [
              0.5555555555555556,
              "#d8576b"
             ],
             [
              0.6666666666666666,
              "#ed7953"
             ],
             [
              0.7777777777777778,
              "#fb9f3a"
             ],
             [
              0.8888888888888888,
              "#fdca26"
             ],
             [
              1,
              "#f0f921"
             ]
            ],
            "type": "histogram2dcontour"
           }
          ],
          "mesh3d": [
           {
            "colorbar": {
             "outlinewidth": 0,
             "ticks": ""
            },
            "type": "mesh3d"
           }
          ],
          "parcoords": [
           {
            "line": {
             "colorbar": {
              "outlinewidth": 0,
              "ticks": ""
             }
            },
            "type": "parcoords"
           }
          ],
          "pie": [
           {
            "automargin": true,
            "type": "pie"
           }
          ],
          "scatter": [
           {
            "fillpattern": {
             "fillmode": "overlay",
             "size": 10,
             "solidity": 0.2
            },
            "type": "scatter"
           }
          ],
          "scatter3d": [
           {
            "line": {
             "colorbar": {
              "outlinewidth": 0,
              "ticks": ""
             }
            },
            "marker": {
             "colorbar": {
              "outlinewidth": 0,
              "ticks": ""
             }
            },
            "type": "scatter3d"
           }
          ],
          "scattercarpet": [
           {
            "marker": {
             "colorbar": {
              "outlinewidth": 0,
              "ticks": ""
             }
            },
            "type": "scattercarpet"
           }
          ],
          "scattergeo": [
           {
            "marker": {
             "colorbar": {
              "outlinewidth": 0,
              "ticks": ""
             }
            },
            "type": "scattergeo"
           }
          ],
          "scattergl": [
           {
            "marker": {
             "colorbar": {
              "outlinewidth": 0,
              "ticks": ""
             }
            },
            "type": "scattergl"
           }
          ],
          "scattermapbox": [
           {
            "marker": {
             "colorbar": {
              "outlinewidth": 0,
              "ticks": ""
             }
            },
            "type": "scattermapbox"
           }
          ],
          "scatterpolar": [
           {
            "marker": {
             "colorbar": {
              "outlinewidth": 0,
              "ticks": ""
             }
            },
            "type": "scatterpolar"
           }
          ],
          "scatterpolargl": [
           {
            "marker": {
             "colorbar": {
              "outlinewidth": 0,
              "ticks": ""
             }
            },
            "type": "scatterpolargl"
           }
          ],
          "scatterternary": [
           {
            "marker": {
             "colorbar": {
              "outlinewidth": 0,
              "ticks": ""
             }
            },
            "type": "scatterternary"
           }
          ],
          "surface": [
           {
            "colorbar": {
             "outlinewidth": 0,
             "ticks": ""
            },
            "colorscale": [
             [
              0,
              "#0d0887"
             ],
             [
              0.1111111111111111,
              "#46039f"
             ],
             [
              0.2222222222222222,
              "#7201a8"
             ],
             [
              0.3333333333333333,
              "#9c179e"
             ],
             [
              0.4444444444444444,
              "#bd3786"
             ],
             [
              0.5555555555555556,
              "#d8576b"
             ],
             [
              0.6666666666666666,
              "#ed7953"
             ],
             [
              0.7777777777777778,
              "#fb9f3a"
             ],
             [
              0.8888888888888888,
              "#fdca26"
             ],
             [
              1,
              "#f0f921"
             ]
            ],
            "type": "surface"
           }
          ],
          "table": [
           {
            "cells": {
             "fill": {
              "color": "#EBF0F8"
             },
             "line": {
              "color": "white"
             }
            },
            "header": {
             "fill": {
              "color": "#C8D4E3"
             },
             "line": {
              "color": "white"
             }
            },
            "type": "table"
           }
          ]
         },
         "layout": {
          "annotationdefaults": {
           "arrowcolor": "#2a3f5f",
           "arrowhead": 0,
           "arrowwidth": 1
          },
          "autotypenumbers": "strict",
          "coloraxis": {
           "colorbar": {
            "outlinewidth": 0,
            "ticks": ""
           }
          },
          "colorscale": {
           "diverging": [
            [
             0,
             "#8e0152"
            ],
            [
             0.1,
             "#c51b7d"
            ],
            [
             0.2,
             "#de77ae"
            ],
            [
             0.3,
             "#f1b6da"
            ],
            [
             0.4,
             "#fde0ef"
            ],
            [
             0.5,
             "#f7f7f7"
            ],
            [
             0.6,
             "#e6f5d0"
            ],
            [
             0.7,
             "#b8e186"
            ],
            [
             0.8,
             "#7fbc41"
            ],
            [
             0.9,
             "#4d9221"
            ],
            [
             1,
             "#276419"
            ]
           ],
           "sequential": [
            [
             0,
             "#0d0887"
            ],
            [
             0.1111111111111111,
             "#46039f"
            ],
            [
             0.2222222222222222,
             "#7201a8"
            ],
            [
             0.3333333333333333,
             "#9c179e"
            ],
            [
             0.4444444444444444,
             "#bd3786"
            ],
            [
             0.5555555555555556,
             "#d8576b"
            ],
            [
             0.6666666666666666,
             "#ed7953"
            ],
            [
             0.7777777777777778,
             "#fb9f3a"
            ],
            [
             0.8888888888888888,
             "#fdca26"
            ],
            [
             1,
             "#f0f921"
            ]
           ],
           "sequentialminus": [
            [
             0,
             "#0d0887"
            ],
            [
             0.1111111111111111,
             "#46039f"
            ],
            [
             0.2222222222222222,
             "#7201a8"
            ],
            [
             0.3333333333333333,
             "#9c179e"
            ],
            [
             0.4444444444444444,
             "#bd3786"
            ],
            [
             0.5555555555555556,
             "#d8576b"
            ],
            [
             0.6666666666666666,
             "#ed7953"
            ],
            [
             0.7777777777777778,
             "#fb9f3a"
            ],
            [
             0.8888888888888888,
             "#fdca26"
            ],
            [
             1,
             "#f0f921"
            ]
           ]
          },
          "colorway": [
           "#636efa",
           "#EF553B",
           "#00cc96",
           "#ab63fa",
           "#FFA15A",
           "#19d3f3",
           "#FF6692",
           "#B6E880",
           "#FF97FF",
           "#FECB52"
          ],
          "font": {
           "color": "#2a3f5f"
          },
          "geo": {
           "bgcolor": "white",
           "lakecolor": "white",
           "landcolor": "#E5ECF6",
           "showlakes": true,
           "showland": true,
           "subunitcolor": "white"
          },
          "hoverlabel": {
           "align": "left"
          },
          "hovermode": "closest",
          "mapbox": {
           "style": "light"
          },
          "paper_bgcolor": "white",
          "plot_bgcolor": "#E5ECF6",
          "polar": {
           "angularaxis": {
            "gridcolor": "white",
            "linecolor": "white",
            "ticks": ""
           },
           "bgcolor": "#E5ECF6",
           "radialaxis": {
            "gridcolor": "white",
            "linecolor": "white",
            "ticks": ""
           }
          },
          "scene": {
           "xaxis": {
            "backgroundcolor": "#E5ECF6",
            "gridcolor": "white",
            "gridwidth": 2,
            "linecolor": "white",
            "showbackground": true,
            "ticks": "",
            "zerolinecolor": "white"
           },
           "yaxis": {
            "backgroundcolor": "#E5ECF6",
            "gridcolor": "white",
            "gridwidth": 2,
            "linecolor": "white",
            "showbackground": true,
            "ticks": "",
            "zerolinecolor": "white"
           },
           "zaxis": {
            "backgroundcolor": "#E5ECF6",
            "gridcolor": "white",
            "gridwidth": 2,
            "linecolor": "white",
            "showbackground": true,
            "ticks": "",
            "zerolinecolor": "white"
           }
          },
          "shapedefaults": {
           "line": {
            "color": "#2a3f5f"
           }
          },
          "ternary": {
           "aaxis": {
            "gridcolor": "white",
            "linecolor": "white",
            "ticks": ""
           },
           "baxis": {
            "gridcolor": "white",
            "linecolor": "white",
            "ticks": ""
           },
           "bgcolor": "#E5ECF6",
           "caxis": {
            "gridcolor": "white",
            "linecolor": "white",
            "ticks": ""
           }
          },
          "title": {
           "x": 0.05
          },
          "xaxis": {
           "automargin": true,
           "gridcolor": "white",
           "linecolor": "white",
           "ticks": "",
           "title": {
            "standoff": 15
           },
           "zerolinecolor": "white",
           "zerolinewidth": 2
          },
          "yaxis": {
           "automargin": true,
           "gridcolor": "white",
           "linecolor": "white",
           "ticks": "",
           "title": {
            "standoff": 15
           },
           "zerolinecolor": "white",
           "zerolinewidth": 2
          }
         }
        },
        "title": {
         "text": "Model output (n = 906)"
        },
        "width": 450,
        "xaxis": {
         "anchor": "y",
         "domain": [
          0,
          1
         ],
         "gridcolor": "rgb(158,202,225)",
         "gridwidth": 1,
         "showgrid": true,
         "tickvals": [
          0,
          2,
          4,
          6,
          8,
          10,
          12,
          14,
          16,
          18,
          20,
          22,
          24
         ],
         "title": {
          "text": "Average count"
         }
        },
        "yaxis": {
         "anchor": "x",
         "domain": [
          0,
          1
         ],
         "tickvals": [
          "24",
          "26",
          "28",
          "29",
          "31",
          "33",
          "35",
          "36",
          "38",
          "40",
          "41",
          "43",
          "45",
          "47",
          "48",
          "50",
          "52",
          "53",
          "55",
          "57",
          "59",
          "60",
          "62",
          "64",
          "65",
          "67",
          "69",
          "71",
          "72",
          "74",
          "76",
          "77",
          "79",
          "81",
          "83",
          "84",
          "86",
          "88",
          "89",
          "91",
          "93"
         ],
         "title": {
          "text": "Pitch"
         }
        }
       }
      }
     },
     "metadata": {},
     "output_type": "display_data"
    },
    {
     "data": {
      "application/vnd.plotly.v1+json": {
       "config": {
        "plotlyServerURL": "https://plot.ly"
       },
       "data": [
        {
         "alignmentgroup": "True",
         "hovertemplate": "x=%{x}<br>y=%{y}<extra></extra>",
         "legendgroup": "",
         "marker": {
          "color": "rgb(158,202,225)",
          "line": {
           "color": "rgb(8,48,107)",
           "width": 1.5
          },
          "pattern": {
           "shape": ""
          }
         },
         "name": "",
         "offsetgroup": "",
         "opacity": 0.6,
         "orientation": "v",
         "showlegend": false,
         "textposition": "auto",
         "type": "bar",
         "x": [
          "0",
          "2",
          "4",
          "5",
          "7",
          "9",
          "11"
         ],
         "xaxis": "x",
         "y": [
          48.42904290429046,
          44.79207920792077,
          60.72937293729373,
          25.270627062706264,
          40.29372937293727,
          44.58415841584158,
          21.039603960396068
         ],
         "yaxis": "y"
        }
       ],
       "layout": {
        "autosize": false,
        "barmode": "relative",
        "font": {
         "size": 13
        },
        "height": 400,
        "legend": {
         "tracegroupgap": 0
        },
        "margin": {
         "t": 60
        },
        "plot_bgcolor": "white",
        "template": {
         "data": {
          "bar": [
           {
            "error_x": {
             "color": "#2a3f5f"
            },
            "error_y": {
             "color": "#2a3f5f"
            },
            "marker": {
             "line": {
              "color": "#E5ECF6",
              "width": 0.5
             },
             "pattern": {
              "fillmode": "overlay",
              "size": 10,
              "solidity": 0.2
             }
            },
            "type": "bar"
           }
          ],
          "barpolar": [
           {
            "marker": {
             "line": {
              "color": "#E5ECF6",
              "width": 0.5
             },
             "pattern": {
              "fillmode": "overlay",
              "size": 10,
              "solidity": 0.2
             }
            },
            "type": "barpolar"
           }
          ],
          "carpet": [
           {
            "aaxis": {
             "endlinecolor": "#2a3f5f",
             "gridcolor": "white",
             "linecolor": "white",
             "minorgridcolor": "white",
             "startlinecolor": "#2a3f5f"
            },
            "baxis": {
             "endlinecolor": "#2a3f5f",
             "gridcolor": "white",
             "linecolor": "white",
             "minorgridcolor": "white",
             "startlinecolor": "#2a3f5f"
            },
            "type": "carpet"
           }
          ],
          "choropleth": [
           {
            "colorbar": {
             "outlinewidth": 0,
             "ticks": ""
            },
            "type": "choropleth"
           }
          ],
          "contour": [
           {
            "colorbar": {
             "outlinewidth": 0,
             "ticks": ""
            },
            "colorscale": [
             [
              0,
              "#0d0887"
             ],
             [
              0.1111111111111111,
              "#46039f"
             ],
             [
              0.2222222222222222,
              "#7201a8"
             ],
             [
              0.3333333333333333,
              "#9c179e"
             ],
             [
              0.4444444444444444,
              "#bd3786"
             ],
             [
              0.5555555555555556,
              "#d8576b"
             ],
             [
              0.6666666666666666,
              "#ed7953"
             ],
             [
              0.7777777777777778,
              "#fb9f3a"
             ],
             [
              0.8888888888888888,
              "#fdca26"
             ],
             [
              1,
              "#f0f921"
             ]
            ],
            "type": "contour"
           }
          ],
          "contourcarpet": [
           {
            "colorbar": {
             "outlinewidth": 0,
             "ticks": ""
            },
            "type": "contourcarpet"
           }
          ],
          "heatmap": [
           {
            "colorbar": {
             "outlinewidth": 0,
             "ticks": ""
            },
            "colorscale": [
             [
              0,
              "#0d0887"
             ],
             [
              0.1111111111111111,
              "#46039f"
             ],
             [
              0.2222222222222222,
              "#7201a8"
             ],
             [
              0.3333333333333333,
              "#9c179e"
             ],
             [
              0.4444444444444444,
              "#bd3786"
             ],
             [
              0.5555555555555556,
              "#d8576b"
             ],
             [
              0.6666666666666666,
              "#ed7953"
             ],
             [
              0.7777777777777778,
              "#fb9f3a"
             ],
             [
              0.8888888888888888,
              "#fdca26"
             ],
             [
              1,
              "#f0f921"
             ]
            ],
            "type": "heatmap"
           }
          ],
          "heatmapgl": [
           {
            "colorbar": {
             "outlinewidth": 0,
             "ticks": ""
            },
            "colorscale": [
             [
              0,
              "#0d0887"
             ],
             [
              0.1111111111111111,
              "#46039f"
             ],
             [
              0.2222222222222222,
              "#7201a8"
             ],
             [
              0.3333333333333333,
              "#9c179e"
             ],
             [
              0.4444444444444444,
              "#bd3786"
             ],
             [
              0.5555555555555556,
              "#d8576b"
             ],
             [
              0.6666666666666666,
              "#ed7953"
             ],
             [
              0.7777777777777778,
              "#fb9f3a"
             ],
             [
              0.8888888888888888,
              "#fdca26"
             ],
             [
              1,
              "#f0f921"
             ]
            ],
            "type": "heatmapgl"
           }
          ],
          "histogram": [
           {
            "marker": {
             "pattern": {
              "fillmode": "overlay",
              "size": 10,
              "solidity": 0.2
             }
            },
            "type": "histogram"
           }
          ],
          "histogram2d": [
           {
            "colorbar": {
             "outlinewidth": 0,
             "ticks": ""
            },
            "colorscale": [
             [
              0,
              "#0d0887"
             ],
             [
              0.1111111111111111,
              "#46039f"
             ],
             [
              0.2222222222222222,
              "#7201a8"
             ],
             [
              0.3333333333333333,
              "#9c179e"
             ],
             [
              0.4444444444444444,
              "#bd3786"
             ],
             [
              0.5555555555555556,
              "#d8576b"
             ],
             [
              0.6666666666666666,
              "#ed7953"
             ],
             [
              0.7777777777777778,
              "#fb9f3a"
             ],
             [
              0.8888888888888888,
              "#fdca26"
             ],
             [
              1,
              "#f0f921"
             ]
            ],
            "type": "histogram2d"
           }
          ],
          "histogram2dcontour": [
           {
            "colorbar": {
             "outlinewidth": 0,
             "ticks": ""
            },
            "colorscale": [
             [
              0,
              "#0d0887"
             ],
             [
              0.1111111111111111,
              "#46039f"
             ],
             [
              0.2222222222222222,
              "#7201a8"
             ],
             [
              0.3333333333333333,
              "#9c179e"
             ],
             [
              0.4444444444444444,
              "#bd3786"
             ],
             [
              0.5555555555555556,
              "#d8576b"
             ],
             [
              0.6666666666666666,
              "#ed7953"
             ],
             [
              0.7777777777777778,
              "#fb9f3a"
             ],
             [
              0.8888888888888888,
              "#fdca26"
             ],
             [
              1,
              "#f0f921"
             ]
            ],
            "type": "histogram2dcontour"
           }
          ],
          "mesh3d": [
           {
            "colorbar": {
             "outlinewidth": 0,
             "ticks": ""
            },
            "type": "mesh3d"
           }
          ],
          "parcoords": [
           {
            "line": {
             "colorbar": {
              "outlinewidth": 0,
              "ticks": ""
             }
            },
            "type": "parcoords"
           }
          ],
          "pie": [
           {
            "automargin": true,
            "type": "pie"
           }
          ],
          "scatter": [
           {
            "fillpattern": {
             "fillmode": "overlay",
             "size": 10,
             "solidity": 0.2
            },
            "type": "scatter"
           }
          ],
          "scatter3d": [
           {
            "line": {
             "colorbar": {
              "outlinewidth": 0,
              "ticks": ""
             }
            },
            "marker": {
             "colorbar": {
              "outlinewidth": 0,
              "ticks": ""
             }
            },
            "type": "scatter3d"
           }
          ],
          "scattercarpet": [
           {
            "marker": {
             "colorbar": {
              "outlinewidth": 0,
              "ticks": ""
             }
            },
            "type": "scattercarpet"
           }
          ],
          "scattergeo": [
           {
            "marker": {
             "colorbar": {
              "outlinewidth": 0,
              "ticks": ""
             }
            },
            "type": "scattergeo"
           }
          ],
          "scattergl": [
           {
            "marker": {
             "colorbar": {
              "outlinewidth": 0,
              "ticks": ""
             }
            },
            "type": "scattergl"
           }
          ],
          "scattermapbox": [
           {
            "marker": {
             "colorbar": {
              "outlinewidth": 0,
              "ticks": ""
             }
            },
            "type": "scattermapbox"
           }
          ],
          "scatterpolar": [
           {
            "marker": {
             "colorbar": {
              "outlinewidth": 0,
              "ticks": ""
             }
            },
            "type": "scatterpolar"
           }
          ],
          "scatterpolargl": [
           {
            "marker": {
             "colorbar": {
              "outlinewidth": 0,
              "ticks": ""
             }
            },
            "type": "scatterpolargl"
           }
          ],
          "scatterternary": [
           {
            "marker": {
             "colorbar": {
              "outlinewidth": 0,
              "ticks": ""
             }
            },
            "type": "scatterternary"
           }
          ],
          "surface": [
           {
            "colorbar": {
             "outlinewidth": 0,
             "ticks": ""
            },
            "colorscale": [
             [
              0,
              "#0d0887"
             ],
             [
              0.1111111111111111,
              "#46039f"
             ],
             [
              0.2222222222222222,
              "#7201a8"
             ],
             [
              0.3333333333333333,
              "#9c179e"
             ],
             [
              0.4444444444444444,
              "#bd3786"
             ],
             [
              0.5555555555555556,
              "#d8576b"
             ],
             [
              0.6666666666666666,
              "#ed7953"
             ],
             [
              0.7777777777777778,
              "#fb9f3a"
             ],
             [
              0.8888888888888888,
              "#fdca26"
             ],
             [
              1,
              "#f0f921"
             ]
            ],
            "type": "surface"
           }
          ],
          "table": [
           {
            "cells": {
             "fill": {
              "color": "#EBF0F8"
             },
             "line": {
              "color": "white"
             }
            },
            "header": {
             "fill": {
              "color": "#C8D4E3"
             },
             "line": {
              "color": "white"
             }
            },
            "type": "table"
           }
          ]
         },
         "layout": {
          "annotationdefaults": {
           "arrowcolor": "#2a3f5f",
           "arrowhead": 0,
           "arrowwidth": 1
          },
          "autotypenumbers": "strict",
          "coloraxis": {
           "colorbar": {
            "outlinewidth": 0,
            "ticks": ""
           }
          },
          "colorscale": {
           "diverging": [
            [
             0,
             "#8e0152"
            ],
            [
             0.1,
             "#c51b7d"
            ],
            [
             0.2,
             "#de77ae"
            ],
            [
             0.3,
             "#f1b6da"
            ],
            [
             0.4,
             "#fde0ef"
            ],
            [
             0.5,
             "#f7f7f7"
            ],
            [
             0.6,
             "#e6f5d0"
            ],
            [
             0.7,
             "#b8e186"
            ],
            [
             0.8,
             "#7fbc41"
            ],
            [
             0.9,
             "#4d9221"
            ],
            [
             1,
             "#276419"
            ]
           ],
           "sequential": [
            [
             0,
             "#0d0887"
            ],
            [
             0.1111111111111111,
             "#46039f"
            ],
            [
             0.2222222222222222,
             "#7201a8"
            ],
            [
             0.3333333333333333,
             "#9c179e"
            ],
            [
             0.4444444444444444,
             "#bd3786"
            ],
            [
             0.5555555555555556,
             "#d8576b"
            ],
            [
             0.6666666666666666,
             "#ed7953"
            ],
            [
             0.7777777777777778,
             "#fb9f3a"
            ],
            [
             0.8888888888888888,
             "#fdca26"
            ],
            [
             1,
             "#f0f921"
            ]
           ],
           "sequentialminus": [
            [
             0,
             "#0d0887"
            ],
            [
             0.1111111111111111,
             "#46039f"
            ],
            [
             0.2222222222222222,
             "#7201a8"
            ],
            [
             0.3333333333333333,
             "#9c179e"
            ],
            [
             0.4444444444444444,
             "#bd3786"
            ],
            [
             0.5555555555555556,
             "#d8576b"
            ],
            [
             0.6666666666666666,
             "#ed7953"
            ],
            [
             0.7777777777777778,
             "#fb9f3a"
            ],
            [
             0.8888888888888888,
             "#fdca26"
            ],
            [
             1,
             "#f0f921"
            ]
           ]
          },
          "colorway": [
           "#636efa",
           "#EF553B",
           "#00cc96",
           "#ab63fa",
           "#FFA15A",
           "#19d3f3",
           "#FF6692",
           "#B6E880",
           "#FF97FF",
           "#FECB52"
          ],
          "font": {
           "color": "#2a3f5f"
          },
          "geo": {
           "bgcolor": "white",
           "lakecolor": "white",
           "landcolor": "#E5ECF6",
           "showlakes": true,
           "showland": true,
           "subunitcolor": "white"
          },
          "hoverlabel": {
           "align": "left"
          },
          "hovermode": "closest",
          "mapbox": {
           "style": "light"
          },
          "paper_bgcolor": "white",
          "plot_bgcolor": "#E5ECF6",
          "polar": {
           "angularaxis": {
            "gridcolor": "white",
            "linecolor": "white",
            "ticks": ""
           },
           "bgcolor": "#E5ECF6",
           "radialaxis": {
            "gridcolor": "white",
            "linecolor": "white",
            "ticks": ""
           }
          },
          "scene": {
           "xaxis": {
            "backgroundcolor": "#E5ECF6",
            "gridcolor": "white",
            "gridwidth": 2,
            "linecolor": "white",
            "showbackground": true,
            "ticks": "",
            "zerolinecolor": "white"
           },
           "yaxis": {
            "backgroundcolor": "#E5ECF6",
            "gridcolor": "white",
            "gridwidth": 2,
            "linecolor": "white",
            "showbackground": true,
            "ticks": "",
            "zerolinecolor": "white"
           },
           "zaxis": {
            "backgroundcolor": "#E5ECF6",
            "gridcolor": "white",
            "gridwidth": 2,
            "linecolor": "white",
            "showbackground": true,
            "ticks": "",
            "zerolinecolor": "white"
           }
          },
          "shapedefaults": {
           "line": {
            "color": "#2a3f5f"
           }
          },
          "ternary": {
           "aaxis": {
            "gridcolor": "white",
            "linecolor": "white",
            "ticks": ""
           },
           "baxis": {
            "gridcolor": "white",
            "linecolor": "white",
            "ticks": ""
           },
           "bgcolor": "#E5ECF6",
           "caxis": {
            "gridcolor": "white",
            "linecolor": "white",
            "ticks": ""
           }
          },
          "title": {
           "x": 0.05
          },
          "xaxis": {
           "automargin": true,
           "gridcolor": "white",
           "linecolor": "white",
           "ticks": "",
           "title": {
            "standoff": 15
           },
           "zerolinecolor": "white",
           "zerolinewidth": 2
          },
          "yaxis": {
           "automargin": true,
           "gridcolor": "white",
           "linecolor": "white",
           "ticks": "",
           "title": {
            "standoff": 15
           },
           "zerolinecolor": "white",
           "zerolinewidth": 2
          }
         }
        },
        "title": {
         "text": "Model output (n = 906)"
        },
        "width": 550,
        "xaxis": {
         "anchor": "y",
         "domain": [
          0,
          1
         ],
         "title": {
          "text": "Pitch class"
         }
        },
        "yaxis": {
         "anchor": "x",
         "domain": [
          0,
          1
         ],
         "gridcolor": "rgb(158,202,225)",
         "gridwidth": 1,
         "showgrid": true,
         "title": {
          "text": "Average count"
         }
        }
       }
      }
     },
     "metadata": {},
     "output_type": "display_data"
    }
   ],
   "source": [
    "# Horizontal bar chart for filtered pitch counts using plotly express (with y is the pitch and x is the count)\n",
    "fig = px.bar(\n",
    "    x=list(filtered_pitch_counts.values()), \n",
    "    y=list(filtered_pitch_counts.keys()), \n",
    "    orientation='h'\n",
    ")\n",
    "\n",
    "fig.update_layout(\n",
    "    title=f'Model output (n = {n_file_to_analyze})', \n",
    "    xaxis_title='Average count',\n",
    "    yaxis_title='Pitch'\n",
    ")\n",
    "\n",
    "# Show labels 0, 5, 10, 15, ... in y-axis in string format\n",
    "# y_axis_tickvals = list(range(0, max(filtered_pitch_counts.keys()) + 1, 5))\n",
    "y_axis_tickvals = list(map(str, [x for x in filtered_pitch_counts.keys()]))\n",
    "\n",
    "fig.update_yaxes(tickvals=y_axis_tickvals)\n",
    "\n",
    "# Show labels 0, 1, 2, 3, ... in x-axis\n",
    "# x_axis_tickvals = list(range(\n",
    "#     0, \n",
    "#     int(max(filtered_pitch_counts.values())) + 1 + 1\n",
    "# ))\n",
    "# Show 0, 5, 10, 15, ... in x-axis\n",
    "# x_axis_tickvals = list(range(0, int(max(filtered_pitch_counts.values())) + 2, 5))\n",
    "x_axis_tickvals = list(range(0, int(max(filtered_pitch_counts.values())) + 2, 2))\n",
    "\n",
    "fig.update_xaxes(tickvals=x_axis_tickvals)\n",
    "\n",
    "# Change the color set to make it easier to see when printed in black and white\n",
    "fig.update_traces(marker_color='rgb(158,202,225)', marker_line_color='rgb(8,48,107)', marker_line_width=1.5, opacity=0.6)\n",
    "\n",
    "# Change the background color to make it easier to see when printed in black and white\n",
    "fig.update_layout(plot_bgcolor='white')\n",
    "\n",
    "# Show the vertical grid lines\n",
    "fig.update_layout(xaxis=dict(showgrid=True, gridwidth=1, gridcolor='rgb(158,202,225)'))\n",
    "\n",
    "# Make the columns overlay the grid lines\n",
    "fig.update_layout(barmode='overlay')\n",
    "\n",
    "# Make the font size bigger\n",
    "fig.update_layout(font=dict(size=13))\n",
    "\n",
    "# Make the plot ratio x:y\n",
    "fig.update_layout(\n",
    "    autosize=False,\n",
    "    width=450,\n",
    "    height=850,\n",
    ")\n",
    "\n",
    "fig.show()\n",
    "\n",
    "# Filtered pitch class distribution\n",
    "fig = px.bar(\n",
    "    x=list(filtered_pitch_class_distribution.keys()),\n",
    "    y=list(filtered_pitch_class_distribution.values())\n",
    ")\n",
    "\n",
    "fig.update_layout(\n",
    "    title=f'Model output (n = {n_file_to_analyze})', \n",
    "    # yaxis_title='Số lần xuất hiện trung bình',\n",
    "    yaxis_title='Average count',\n",
    "    xaxis_title='Pitch class'\n",
    ")\n",
    "\n",
    "# Show labels 0, 1, 2, 3, ... in x-axis\n",
    "# x_axis_tickvals = list(range(0, max(filtered_pitch_class_distribution.keys()) + 1))\n",
    "\n",
    "# fig.update_xaxes(tickvals=x_axis_tickvals)\n",
    "\n",
    "# Change the color set to make it easier to see when printed in black and white\n",
    "fig.update_traces(marker_color='rgb(158,202,225)', marker_line_color='rgb(8,48,107)', marker_line_width=1.5, opacity=0.6)\n",
    "\n",
    "# Change the background color to make it easier to see when printed in black and white\n",
    "fig.update_layout(plot_bgcolor='white')\n",
    "\n",
    "# Show the horizontal grid lines\n",
    "fig.update_layout(yaxis=dict(showgrid=True, gridwidth=1, gridcolor='rgb(158,202,225)'))\n",
    "\n",
    "# Make the font size bigger\n",
    "fig.update_layout(font=dict(size=13))\n",
    "\n",
    "# Make the plot ratio x:y\n",
    "fig.update_layout(\n",
    "    autosize=False,\n",
    "    width=550,\n",
    "    height=400,\n",
    ")\n",
    "\n",
    "fig.show()"
   ]
  }
 ],
 "metadata": {
  "kernelspec": {
   "display_name": "Python 3",
   "language": "python",
   "name": "python3"
  },
  "language_info": {
   "codemirror_mode": {
    "name": "ipython",
    "version": 3
   },
   "file_extension": ".py",
   "mimetype": "text/x-python",
   "name": "python",
   "nbconvert_exporter": "python",
   "pygments_lexer": "ipython3",
   "version": "3.10.10"
  }
 },
 "nbformat": 4,
 "nbformat_minor": 2
}
