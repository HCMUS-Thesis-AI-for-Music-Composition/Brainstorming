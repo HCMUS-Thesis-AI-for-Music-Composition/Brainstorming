{
 "cells": [
  {
   "cell_type": "code",
   "execution_count": 1,
   "metadata": {},
   "outputs": [],
   "source": [
    "root_directory = \"D:/Vector A/0. KHTN/Nam 4/HKII/Thesis/Brainstorming/DataCrawling\""
   ]
  },
  {
   "cell_type": "code",
   "execution_count": 2,
   "metadata": {},
   "outputs": [],
   "source": [
    "import sys\n",
    "sys.path.append(root_directory)\n",
    "\n",
    "import bs4 as bs\n",
    "\n",
    "import file_utils as fu\n",
    "\n",
    "import json"
   ]
  },
  {
   "cell_type": "code",
   "execution_count": 3,
   "metadata": {},
   "outputs": [],
   "source": [
    "# Lấy nội dung của file html và đưa vào beautifulsoup\n",
    "def get_html_content(file_path):\n",
    "    html_content = \"\"\n",
    "    with open(file_path, 'r', encoding='utf-8') as f:\n",
    "        html_content = f.read()\n",
    "\n",
    "    soup = bs.BeautifulSoup(html_content, 'html.parser')\n",
    "    return soup"
   ]
  },
  {
   "cell_type": "code",
   "execution_count": 4,
   "metadata": {},
   "outputs": [],
   "source": [
    "raw_html_dir = f\"{root_directory}/GetAllSongHTML/song_list_link_by_artist/raw_html\""
   ]
  },
  {
   "cell_type": "code",
   "execution_count": 5,
   "metadata": {},
   "outputs": [],
   "source": [
    "# Lấy danh sách link đến bài hát của từng nghệ sĩ\n",
    "def get_song_links_list(folder_path):\n",
    "    file_list = fu.get_file_path_list_in_dir(folder_path)\n",
    "\n",
    "    file_list = [f for f in file_list if f.endswith(\".html\")]\n",
    "\n",
    "    link_list = []\n",
    "\n",
    "    for file_path in file_list:\n",
    "        soup = get_html_content(file_path)\n",
    "\n",
    "        # Lấy thẻ ul có class là chuỗi chứa cụm \"yt-list\"\n",
    "        ul_tag = soup.find('ul', class_=lambda x: x and 'yt-list' in x)\n",
    "\n",
    "        # Lấy danh sách các thẻ li trong thẻ ul\n",
    "        li_tag_list = ul_tag.find_all('li')\n",
    "\n",
    "        # Lấy danh sách các thẻ a trong thẻ li\n",
    "        a_tag_list = [li_tag.find('a') for li_tag in li_tag_list]\n",
    "\n",
    "        artist_name = file_path.split('/')[-1].split('.')[0]\n",
    "        artist_link = f\"https://www.hooktheory.com/theorytab/artists/{artist_name[0].lower()}/{artist_name}\"\n",
    "\n",
    "        artist_name = soup.find('h1').text\n",
    "\n",
    "        # Lấy danh sách link\n",
    "        links = [\n",
    "            {\n",
    "                'artist_name' : artist_name,\n",
    "                'artist_link' : artist_link,\n",
    "                'song_name' : a_tag.find('p', class_='song').text,\n",
    "                'link' : f\"https://www.hooktheory.com{a_tag['href']}\"\n",
    "            }\n",
    "            for a_tag in a_tag_list\n",
    "        ]\n",
    "\n",
    "        link_list.extend(links)\n",
    "\n",
    "    return link_list"
   ]
  },
  {
   "cell_type": "code",
   "execution_count": 13,
   "metadata": {},
   "outputs": [
    {
     "name": "stdout",
     "output_type": "stream",
     "text": [
      "Processing D:/Vector A/0. KHTN/Nam 4/HKII/Thesis/Brainstorming/DataCrawling/GetAllSongHTML/song_list_link_by_artist/raw_html/r...\n",
      "Processing D:/Vector A/0. KHTN/Nam 4/HKII/Thesis/Brainstorming/DataCrawling/GetAllSongHTML/song_list_link_by_artist/raw_html/s...\n",
      "Processing D:/Vector A/0. KHTN/Nam 4/HKII/Thesis/Brainstorming/DataCrawling/GetAllSongHTML/song_list_link_by_artist/raw_html/t...\n",
      "Processing D:/Vector A/0. KHTN/Nam 4/HKII/Thesis/Brainstorming/DataCrawling/GetAllSongHTML/song_list_link_by_artist/raw_html/u...\n",
      "Processing D:/Vector A/0. KHTN/Nam 4/HKII/Thesis/Brainstorming/DataCrawling/GetAllSongHTML/song_list_link_by_artist/raw_html/v...\n",
      "Processing D:/Vector A/0. KHTN/Nam 4/HKII/Thesis/Brainstorming/DataCrawling/GetAllSongHTML/song_list_link_by_artist/raw_html/w...\n",
      "Processing D:/Vector A/0. KHTN/Nam 4/HKII/Thesis/Brainstorming/DataCrawling/GetAllSongHTML/song_list_link_by_artist/raw_html/x...\n",
      "Processing D:/Vector A/0. KHTN/Nam 4/HKII/Thesis/Brainstorming/DataCrawling/GetAllSongHTML/song_list_link_by_artist/raw_html/y...\n",
      "Processing D:/Vector A/0. KHTN/Nam 4/HKII/Thesis/Brainstorming/DataCrawling/GetAllSongHTML/song_list_link_by_artist/raw_html/z...\n"
     ]
    }
   ],
   "source": [
    "start_letter = 'a'\n",
    "end_letter = 'j'\n",
    "\n",
    "start_letter = 'k'\n",
    "end_letter = 'm'\n",
    "\n",
    "start_letter = 'n'\n",
    "end_letter = 'q'\n",
    "\n",
    "start_letter = 'r'\n",
    "end_letter = 'z'\n",
    "\n",
    "for i in range(ord(start_letter), ord(end_letter) + 1):\n",
    "    letter = chr(i)\n",
    "    folder_path = f\"{raw_html_dir}/{letter}\"\n",
    "\n",
    "    print(f\"Processing {folder_path}...\")\n",
    "\n",
    "    artist_links_list = get_song_links_list(folder_path)\n",
    "    \n",
    "    file_path = fu.relative_to_absolute_path(\n",
    "        f\"GetAllSongHTML/song_list_link_by_artist/json/{letter}.json\",\n",
    "        root_path=root_directory\n",
    "    )\n",
    "\n",
    "    fu.write_data_to_json_file(artist_links_list, file_path)"
   ]
  },
  {
   "cell_type": "code",
   "execution_count": 16,
   "metadata": {},
   "outputs": [
    {
     "name": "stdout",
     "output_type": "stream",
     "text": [
      "a: 1314\n",
      "b: 1590\n",
      "c: 1349\n",
      "d: 1275\n",
      "e: 671\n",
      "f: 679\n",
      "g: 903\n",
      "h: 714\n",
      "i: 307\n",
      "j: 1496\n",
      "k: 1522\n",
      "l: 1121\n",
      "m: 1472\n",
      "n: 1176\n",
      "o: 379\n",
      "p: 1069\n",
      "q: 63\n",
      "r: 973\n",
      "s: 1436\n",
      "t: 1772\n",
      "u: 139\n",
      "v: 190\n",
      "w: 514\n",
      "x: 29\n",
      "y: 386\n",
      "z: 291\n",
      "Total song: 22830\n"
     ]
    }
   ],
   "source": [
    "total_song = 0\n",
    "\n",
    "# In số lượng bài hát của từng nghệ sĩ trong mỗi file json\n",
    "for i in range(ord('a'), ord(end_letter) + 1):\n",
    "    letter = chr(i)\n",
    "    file_path = fu.relative_to_absolute_path(\n",
    "        f\"GetAllSongHTML/song_list_link_by_artist/json/{letter}.json\",\n",
    "        root_path=root_directory\n",
    "    )\n",
    "\n",
    "    data = fu.read_data_from_json_file(file_path)\n",
    "\n",
    "    total_song += len(data)\n",
    "    print(f\"{letter}: {len(data)}\")\n",
    "\n",
    "print(f\"Total song: {total_song}\")"
   ]
  }
 ],
 "metadata": {
  "kernelspec": {
   "display_name": "Python 3",
   "language": "python",
   "name": "python3"
  },
  "language_info": {
   "codemirror_mode": {
    "name": "ipython",
    "version": 3
   },
   "file_extension": ".py",
   "mimetype": "text/x-python",
   "name": "python",
   "nbconvert_exporter": "python",
   "pygments_lexer": "ipython3",
   "version": "3.10.7"
  }
 },
 "nbformat": 4,
 "nbformat_minor": 2
}
