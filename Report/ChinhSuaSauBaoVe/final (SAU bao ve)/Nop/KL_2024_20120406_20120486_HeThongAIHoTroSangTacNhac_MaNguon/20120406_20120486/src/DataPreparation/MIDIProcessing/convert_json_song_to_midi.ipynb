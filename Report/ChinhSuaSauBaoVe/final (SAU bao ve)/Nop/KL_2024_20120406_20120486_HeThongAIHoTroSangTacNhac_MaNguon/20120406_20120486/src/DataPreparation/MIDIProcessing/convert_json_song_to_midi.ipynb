{
 "cells": [
  {
   "cell_type": "code",
   "execution_count": null,
   "metadata": {},
   "outputs": [],
   "source": [
    "song_parts_from_ids_path = \"/Users/4rr311/Documents/VectorA/KHTN/Nam4/HKII/Thesis/Brainstorming/DataCrawling/DataPreprocessing/song_parts_from_ids\"\n",
    "path_to_save_preprocessed_data = \"/Users/4rr311/Documents/VectorA/KHTN/Nam4/HKII/Thesis/Brainstorming/DataCrawling/ProcessedData/midi_from_json_songs\""
   ]
  },
  {
   "cell_type": "code",
   "execution_count": null,
   "metadata": {},
   "outputs": [],
   "source": [
    "midi_source_path = \"/Users/4rr311/Documents/VectorA/KHTN/Nam4/HKII/Thesis/Brainstorming/MIDI\"\n",
    "midi_lib_path = \"/Users/4rr311/Documents/VectorA/KHTN/Nam4/HKII/Thesis/Brainstorming/MIDI/midi_lib\""
   ]
  },
  {
   "cell_type": "code",
   "execution_count": null,
   "metadata": {},
   "outputs": [],
   "source": [
    "import sys\n",
    "sys.path.append(midi_lib_path)\n",
    "\n",
    "import pandas as pd\n",
    "import json\n",
    "import os\n",
    "\n",
    "import converter.hooktheory_utils as htu\n",
    "from converter.hooktheory_json_song_part_to_midi_dto import hooktheory_json_song_part_to_midi_dto_converter\n",
    "from converter.midi_dto_to_midi_file import midi_dto_to_midi_file_converter\n",
    "from converter.chord_dto_to_note_dtos import chord_dto_to_note_dtos_converter\n",
    "from converter.hooktheory_json_chord_to_chord_dto import hooktheory_json_chord_to_chord_dto_converter\n",
    "\n",
    "from dto.KeySignature import KeySignatureDTO\n",
    "\n",
    "import const.midi as mc\n",
    "\n",
    "import midi_utils as mu"
   ]
  },
  {
   "cell_type": "code",
   "execution_count": null,
   "metadata": {},
   "outputs": [],
   "source": [
    "json_files = []\n",
    "\n",
    "# List all json file in song_parts_from_ids_path (recursively)\n",
    "for root, dirs, files in os.walk(song_parts_from_ids_path):\n",
    "    for file in files:\n",
    "        if file.endswith(\".json\"):\n",
    "            json_files.append(os.path.join(root, file))\n",
    "\n",
    "print(len(json_files))"
   ]
  },
  {
   "cell_type": "code",
   "execution_count": null,
   "metadata": {},
   "outputs": [],
   "source": [
    "json_song_paths = []\n",
    "\n",
    "# List all song that has at least 1 part having main_data_type = \"json\"\n",
    "for json_file in json_files:\n",
    "    with open(json_file) as f:\n",
    "        data = json.load(f)\n",
    "        for part in data[\"song_parts\"]:\n",
    "            if part[\"main_data_type\"] == \"json\":\n",
    "                json_song_paths.append(json_file)\n",
    "                break\n",
    "\n",
    "print(len(json_song_paths))"
   ]
  },
  {
   "cell_type": "code",
   "execution_count": null,
   "metadata": {},
   "outputs": [],
   "source": [
    "class JSONSongPartProcessingLog:\n",
    "    def __init__(\n",
    "        self, \n",
    "        json_file_path,\n",
    "        song_link,\n",
    "        song_part_id, \n",
    "        song_part_section, \n",
    "        midi_file_path\n",
    "    ):\n",
    "        self.json_file_path = json_file_path\n",
    "        self.song_link = song_link\n",
    "        self.song_part_id = song_part_id\n",
    "        self.song_part_section = song_part_section\n",
    "        self.midi_file_path = midi_file_path\n",
    "    \n",
    "    def to_dict(self):\n",
    "        return {\n",
    "            \"json_file_path\": self.json_file_path,\n",
    "            \"song_link\": self.song_link,\n",
    "            \"song_part_id\": self.song_part_id,\n",
    "            \"song_part_section\": self.song_part_section,\n",
    "            \"midi_file_path\": self.midi_file_path\n",
    "        }"
   ]
  },
  {
   "cell_type": "code",
   "execution_count": null,
   "metadata": {},
   "outputs": [],
   "source": [
    "logs = {}\n",
    "\n",
    "current_idx = 0\n",
    "n_json_files = len(json_song_paths)\n",
    "\n",
    "# Convert json song parts to midi\n",
    "for json_song_path in json_song_paths:\n",
    "    current_idx += 1\n",
    "    print(f\"Processing {current_idx}/{n_json_files} json files\")\n",
    "\n",
    "    with open(json_song_path) as f:\n",
    "        data = json.load(f)\n",
    "        \n",
    "        json_song_parts = [part for part in data[\"song_parts\"] if part[\"main_data_type\"] == \"json\"]\n",
    "        \n",
    "        for part in json_song_parts:\n",
    "            # Config path to save midi file\n",
    "            song_relative_path: str = json_song_path.replace(song_parts_from_ids_path, \"\")\n",
    "\n",
    "            processed_song_file_name = song_relative_path.replace(\"/\", \"_\").replace(\".json\", \"\")\n",
    "\n",
    "            song_part_section = part[\"metadata\"][\"section\"]\n",
    "            \n",
    "            song_part_id = part[\"song_part_id\"]\n",
    "\n",
    "            processed_song_file_name = f\"{processed_song_file_name}_{song_part_section}_{song_part_id}.mid\"\n",
    "\n",
    "            if processed_song_file_name[0] == \"_\":\n",
    "                processed_song_file_name = processed_song_file_name[1:]\n",
    "            else:\n",
    "                pass\n",
    "\n",
    "            midi_file_path = os.path.join(path_to_save_preprocessed_data, processed_song_file_name)\n",
    "\n",
    "            song_link = data[\"link\"]\n",
    "            \n",
    "            print(f\"CONVERTING: {json_song_path}\")\n",
    "            print(f\"   section: {song_part_section}\")\n",
    "            print(f\"      link: {song_link}\")\n",
    "            \n",
    "            # Convert json song part to midi dto\n",
    "            midi_dto = hooktheory_json_song_part_to_midi_dto_converter(part)\n",
    "\n",
    "            # Convert midi dto to midi file\n",
    "            midi_dto_to_midi_file_converter(midi_dto, midi_file_path)\n",
    "            \n",
    "            print(f\"-----> SONG CONVERTED: {midi_file_path}\")\n",
    "            print(f\"                 from: {json_song_path}\")\n",
    "            print(f\"              section: {song_part_section}\")\n",
    "            print(f\"                 link: {song_link}\")\n",
    "\n",
    "            if song_part_id not in logs:\n",
    "                logs[song_part_id] = JSONSongPartProcessingLog(\n",
    "                    json_file_path=json_song_path,\n",
    "                    song_link=song_link,\n",
    "                    song_part_id=song_part_id,\n",
    "                    song_part_section=song_part_section,\n",
    "                    midi_file_path=midi_file_path\n",
    "                ).to_dict()\n",
    "            else:\n",
    "                print(f\"ERROR: {song_part_id} already exists in logs\")\n",
    "            \n",
    "            print(\"\")"
   ]
  },
  {
   "cell_type": "code",
   "execution_count": null,
   "metadata": {},
   "outputs": [],
   "source": [
    "# Save logs as json\n",
    "log_json_path = os.path.join(path_to_save_preprocessed_data, \"logs.json\")\n",
    "with open(log_json_path, \"w\") as f:\n",
    "    json.dump(logs, f)"
   ]
  },
  {
   "cell_type": "code",
   "execution_count": null,
   "metadata": {},
   "outputs": [],
   "source": [
    "notify_file_path = \"/Users/4rr311/Documents/VectorA/KHTN/Nam4/HKII/Thesis/Brainstorming/MIDI/Ideas/hooktheory/output/logs/notify.txt\"\n",
    "\n",
    "with open(notify_file_path, \"w\") as f:\n",
    "    f.write(f\"DONE\")"
   ]
  }
 ],
 "metadata": {
  "kernelspec": {
   "display_name": "Python 3",
   "language": "python",
   "name": "python3"
  },
  "language_info": {
   "codemirror_mode": {
    "name": "ipython",
    "version": 3
   },
   "file_extension": ".py",
   "mimetype": "text/x-python",
   "name": "python",
   "nbconvert_exporter": "python",
   "pygments_lexer": "ipython3",
   "version": "3.10.10"
  }
 },
 "nbformat": 4,
 "nbformat_minor": 2
}
