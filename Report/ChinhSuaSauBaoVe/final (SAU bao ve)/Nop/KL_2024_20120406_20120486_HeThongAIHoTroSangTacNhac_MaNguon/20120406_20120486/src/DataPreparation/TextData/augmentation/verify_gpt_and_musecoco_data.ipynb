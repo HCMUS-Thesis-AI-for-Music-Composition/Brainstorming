{
 "cells": [
  {
   "cell_type": "code",
   "execution_count": 1,
   "metadata": {},
   "outputs": [],
   "source": [
    "refined_template_path = \"/Users/4rr311/Documents/VectorA/KHTN/Nam4/HKII/Thesis/Brainstorming/Text/text_lib/Ideas/augmentation/data/musecoco_x_gpt_refined_template_en.json\"   \n",
    "\n",
    "verified_data_dir = \"/Users/4rr311/Documents/VectorA/KHTN/Nam4/HKII/Thesis/Brainstorming/Text/text_lib/Ideas/augmentation/data/verified\""
   ]
  },
  {
   "cell_type": "code",
   "execution_count": 2,
   "metadata": {},
   "outputs": [],
   "source": [
    "gpt_refined_template_path = \"/Users/4rr311/Documents/VectorA/KHTN/Nam4/HKII/Thesis/Brainstorming/Text/text_lib/Ideas/augmentation/data/gpt_refined_template_en.json\"\n",
    "\n",
    "musecoco_refined_template_path = \"/Users/4rr311/Documents/VectorA/KHTN/Nam4/HKII/Thesis/Brainstorming/Text/text_lib/Ideas/augmentation/data/musecoco_refined_template_en.json\""
   ]
  },
  {
   "cell_type": "code",
   "execution_count": 3,
   "metadata": {},
   "outputs": [],
   "source": [
    "midi_lib_path = \"/Users/4rr311/Documents/VectorA/KHTN/Nam4/HKII/Thesis/Brainstorming/MIDI/midi_lib\""
   ]
  },
  {
   "cell_type": "code",
   "execution_count": 4,
   "metadata": {},
   "outputs": [],
   "source": [
    "import sys\n",
    "\n",
    "sys.path.append(midi_lib_path)\n",
    "\n",
    "import const_lib.musecoco_const as mcc"
   ]
  },
  {
   "cell_type": "code",
   "execution_count": 5,
   "metadata": {},
   "outputs": [],
   "source": [
    "import json"
   ]
  },
  {
   "cell_type": "code",
   "execution_count": 6,
   "metadata": {},
   "outputs": [],
   "source": [
    "def load_json_file(file_path):\n",
    "    with open(file_path, \"r\") as f:\n",
    "        data = json.load(f)\n",
    "    return data"
   ]
  },
  {
   "cell_type": "code",
   "execution_count": 7,
   "metadata": {},
   "outputs": [
    {
     "name": "stdout",
     "output_type": "stream",
     "text": [
      "MuseCoco refined template data loaded from:  /Users/4rr311/Documents/VectorA/KHTN/Nam4/HKII/Thesis/Brainstorming/Text/text_lib/Ideas/augmentation/data/musecoco_refined_template_en.json\n",
      "MuseCoco refined template data:  4856\n",
      "\n",
      "GPT refined template data loaded from:  /Users/4rr311/Documents/VectorA/KHTN/Nam4/HKII/Thesis/Brainstorming/Text/text_lib/Ideas/augmentation/data/gpt_refined_template_en.json\n",
      "GPT refined template data:  11300\n",
      "\n",
      "Concatenated data:  16156\n",
      "Concatenated data saved to:  /Users/4rr311/Documents/VectorA/KHTN/Nam4/HKII/Thesis/Brainstorming/Text/text_lib/Ideas/augmentation/data/musecoco_x_gpt_refined_template_en.json\n"
     ]
    }
   ],
   "source": [
    "# Concatenate all refined templates from MuseCoco and augmented data from GPT\n",
    "musecoco_refined_template_data: list = load_json_file(musecoco_refined_template_path)\n",
    "\n",
    "gpt_refined_template_data: list = load_json_file(gpt_refined_template_path)\n",
    "\n",
    "\n",
    "print(\"MuseCoco refined template data loaded from: \", musecoco_refined_template_path)\n",
    "print(\"MuseCoco refined template data: \", len(musecoco_refined_template_data))\n",
    "print()\n",
    "print(\"GPT refined template data loaded from: \", gpt_refined_template_path)\n",
    "print(\"GPT refined template data: \", len(gpt_refined_template_data))\n",
    "print()\n",
    "\n",
    "concatenated_data = musecoco_refined_template_data + gpt_refined_template_data\n",
    "print(\"Concatenated data: \", len(concatenated_data))\n",
    "\n",
    "# Save the concatenated data to refined_template_path\n",
    "with open(refined_template_path, \"w\") as f:\n",
    "    json.dump(concatenated_data, f)\n",
    "\n",
    "print(\"Concatenated data saved to: \", refined_template_path)"
   ]
  },
  {
   "cell_type": "code",
   "execution_count": 8,
   "metadata": {},
   "outputs": [
    {
     "name": "stdout",
     "output_type": "stream",
     "text": [
      "Total templates: 16156\n"
     ]
    }
   ],
   "source": [
    "gpt_refined_template = load_json_file(refined_template_path)\n",
    "\n",
    "print(f\"Total templates: {len(gpt_refined_template)}\")"
   ]
  },
  {
   "cell_type": "code",
   "execution_count": 9,
   "metadata": {},
   "outputs": [],
   "source": [
    "def does_response_contain_required_substring_for_attribute(\n",
    "    response: str, \n",
    "    attribute: str\n",
    ") -> bool:\n",
    "    \"\"\"\n",
    "        Check if the response contains the required substring for the attribute\n",
    "\n",
    "        Args:\n",
    "        - response (str): the response to check\n",
    "        - attribute (str): the attribute to check\n",
    "\n",
    "        Returns:\n",
    "        - bool: True if the response contains the required substring for the attribute, False otherwise\n",
    "    \"\"\"\n",
    "    result = False\n",
    "\n",
    "    if attribute in mcc.required_substring_for_attributes:\n",
    "        for substring in mcc.required_substring_for_attributes[attribute]:\n",
    "            if substring.lower() in response.lower():\n",
    "                result = True\n",
    "                break\n",
    "\n",
    "    if attribute in mcc.required_substring_for_positive_and_negative_attributes:\n",
    "        for substring in mcc.required_substring_for_positive_and_negative_attributes[attribute]:\n",
    "            if substring.lower() in response.lower():\n",
    "                result = True and result\n",
    "                break\n",
    "\n",
    "    return result"
   ]
  },
  {
   "cell_type": "code",
   "execution_count": 10,
   "metadata": {},
   "outputs": [],
   "source": [
    "def is_gpt_refined_template_acceptable(gpt_refined_template):\n",
    "    attrs = gpt_refined_template[\"attributes\"]  \n",
    "\n",
    "    response = gpt_refined_template[\"response\"]\n",
    "\n",
    "    for attr in attrs:\n",
    "        if not does_response_contain_required_substring_for_attribute(response, attr):\n",
    "            print(f\"Response does not contain required substring for attribute: {attr}, response: {response}\")\n",
    "            return False\n",
    "        \n",
    "    return True"
   ]
  },
  {
   "cell_type": "code",
   "execution_count": 11,
   "metadata": {},
   "outputs": [],
   "source": [
    "def filter_acceptable_gpt_refined_templates(\n",
    "    gpt_refined_templates: list\n",
    ") -> dict[str, list]:\n",
    "    acceptable_templates: list = []\n",
    "\n",
    "    ignored_templates: list = []\n",
    "\n",
    "    for gpt_refined_template in gpt_refined_templates:\n",
    "        if is_gpt_refined_template_acceptable(gpt_refined_template):\n",
    "            acceptable_templates.append(gpt_refined_template)\n",
    "        else:\n",
    "            ignored_templates.append(gpt_refined_template)\n",
    "\n",
    "    return {\n",
    "        \"acceptable_templates\": acceptable_templates,\n",
    "        \"ignored_templates\": ignored_templates\n",
    "    }"
   ]
  },
  {
   "cell_type": "markdown",
   "metadata": {},
   "source": [
    "| **Ký hiệu** | **Mô tả**              |\n",
    "|-------------|------------------------|\n",
    "| I1s2        | Instrument             |\n",
    "| I4          | Main Instrument        |\n",
    "| R3          | Rhythm Intensity       |\n",
    "| B1s1        | Bar                    |\n",
    "| TS1s1       | Time Signature         |\n",
    "| K1          | Key                    |\n",
    "| T1s1        | Tempo                  |\n",
    "| P4          | Pitch Range            |\n",
    "| TM1         | Time                   |\n"
   ]
  },
  {
   "cell_type": "code",
   "execution_count": 12,
   "metadata": {},
   "outputs": [],
   "source": [
    "# {\n",
    "#     \"I1_1\": \"[INSTRUMENTS] should be included in the music.\", \n",
    "#     \"I1_0\": \"[INSTRUMENTS] are not featured in this song.\", \n",
    "#     \"P4_1\": \"Its pitch range is within [RANGE] octaves.\", \n",
    "#     \"C1_0\": \"This is a song that has a bright feeling from the beginning to the end.\", \n",
    "#     \"C1_1\": \"This is a song that has a very gloomy feeling from the beginning to the end.\", \n",
    "#     \"C1_2\": \"The song begins bright and then turns dark.\", \n",
    "#     \"C1_3\": \"The song begins dark and then brightens up.\", \n",
    "#     \"R1_1\": \"This music is suitable for dancing.\", \n",
    "#     \"R1_0\": \"This music is not suitable for dancing.\", \n",
    "#     \"R3_1\": \"The beat of this song is extremely strong.\", \n",
    "#     \"R3_0\": \"This song has a very peaceful beat.\", \n",
    "#     \"R3_2\": \"This song has a moderate beat.\", \n",
    "#     \"S4_1\": \"The song belongs to the [GENRE] genre.\", \n",
    "#     \"S4_0\": \"The song does not fit into the conventions of [GENRE] style.\", \n",
    "#     \"S2_1\": \"The music is in the vein of [ARTIST].\",\n",
    "#     \"S2_0\": \"The song does not conform to [ARTIST]'s typical sound.\", \n",
    "#     \"B1_1\": \"The song spans approximately [NUM_BARS] bars.\", \n",
    "#     \"TS1_1\": \"The music is in [TIME_SIGNATURE].\", \n",
    "#     \"TS1_o\": \"The time signature of this song is not commonly used.\", \n",
    "#     \"K1_1\": \"This music is composed in the [KEY] key.\", \n",
    "#     \"T1_0\": \"The tempo of this song is rapid.\", \n",
    "#     \"T1_1\": \"The tempo of this song is slow.\", \n",
    "#     \"T1_2\": \"The tempo of this song is moderate.\", \n",
    "#     \"EM1_1\": \"The music conveys [EMOTION].\", \n",
    "#     \"TM1_1\": \"This song has a duration of [TM1] seconds.\"\n",
    "# }"
   ]
  },
  {
   "cell_type": "code",
   "execution_count": 13,
   "metadata": {},
   "outputs": [
    {
     "name": "stdout",
     "output_type": "stream",
     "text": [
      "Response does not contain required substring for attribute: I4_0, response: This music is characterized by its limited pitch range of [RANGE] octaves, which allows for a greater emphasis on the nuances of tone and phrasing. The use of the [KEY] key in this music provides a powerful and memorable sound that is complemented by the calming and soothing beat, as the song plays for [TM1] seconds. The music is brought to life through the use of [INSTRUMENTS], while the meter of the music is [TIME_SIGNATURE]. It's worth noting that the melody track does not incorporate the use of [INSTRUMENT]. Despite its slow pace, this music has a unique and distinct quality that is sure to captivate its listeners.\n",
      "Response does not contain required substring for attribute: I4_0, response: The [RANGE]-octave pitch range in this [GENRE]-style music delivers a powerful and focused performance that is further enhanced by the rich and dynamic sonic palette of the [KEY] key. The rhythm of this [TM1]-second track is tranquil and relaxing, with various [INSTRUMENTS] contributing to its overall impact. The song follows a [TIME_SIGNATURE] time signature and although [INSTRUMENT] is not the dominant sound in the melody, the music's fast-paced tempo and [NUM_BARS] bars create a sound that defies traditional genre conventions.\n",
      "Response does not contain required substring for attribute: I4_0, response: The meter of the music is indicated by the time signature. While [INSTRUMENT] is not the primary instrument used to create the melody in this track, the [KEY] key gives the music a special emotional quality. Interestingly, [INSTRUMENTS] are not featured in this song.\n",
      "Response does not contain required substring for attribute: I4_0, response: The melody track of this song does not use [INSTRUMENT], but instead emphasizes the nuances of tone and phrasing through a limited pitch range of [RANGE] octaves. The lively rhythm of the song can be heard across [NUM_BARS] bars, creating a dynamic and engaging listening experience.\n",
      "Response does not contain required substring for attribute: I4_0, response: The key of this music gives it a special emotional quality, and it progresses over a total of [NUM_BARS] bars. Despite the deliberately excluded [INSTRUMENTS], you won't find [INSTRUMENT] used for the melody in this track. Additionally, the length of the song is [TM1] seconds, and its tempo is very soft and smooth.\n",
      "Response does not contain required substring for attribute: I4_0, response: With a pitch range spanning [RANGE] octaves and a highly intense rhythm, this music offers a diverse and dynamic listening experience. The song lasts [TM1] seconds and is played at a rapid pace. Interestingly, the melody track does not incorporate the use of [INSTRUMENT]. Overall, this music is sure to captivate listeners with its energetic and engaging sound.\n",
      "Response does not contain required substring for attribute: I4_0, response: This track does not use [INSTRUMENT] for the melody. However, the music offers a diverse and dynamic listening experience with a pitch range spanning [RANGE] octaves. The song has a duration of [TM1] seconds and follows the time signature of [TIME_SIGNATURE].\n",
      "Response does not contain required substring for attribute: I4_0, response: In this track, you won't find [INSTRUMENT] used for the melody. However, the [KEY] key adds a unique flavor to the music, which has a very serene rhythm.\n",
      "Response does not contain required substring for attribute: TM1_1, response: The key of this music gives it a special emotional quality that is further enhanced by its atypical time signature [TIME_SIGNATURE]. The track has a moderate tempo and an easy-going rhythm that is supported by the featured instruments. The music is imbued with [EMOTION] and is structured with roughly [NUM_BARS] bars. Overall, this song is a unique blend of key, rhythm, tempo, and emotion that creates a captivating musical experience.\n",
      "Response does not contain required substring for attribute: TM1_1, response: With a pitch range spanning [RANGE] octaves, this music offers a diverse and dynamic listening experience. Its choice of [KEY] key results in a captivating and memorable experience, complemented by a moderate tempo. The incorporation of [INSTRUMENTS] adds depth and richness to the musical composition. Although the time signature of this song is not standard, its quick pace enhances the overall energy. Through its expressive performance, the music projects [EMOTION] to engage and resonate with the listeners.\n",
      "Response does not contain required substring for attribute: I4_0, response: The melody track of this song is played quickly and is devoid of any [INSTRUMENT]. Therefore, you won't hear any [INSTRUMENTS] in this musical composition.\n",
      "Response does not contain required substring for attribute: I4_0, response: This song features music with a limited pitch range of [RANGE] octaves, which allows for a greater emphasis on the nuances of tone and phrasing. The rhythm of the song is comfortably moderate, and it is based on a [TIME_SIGNATURE] time signature. The melody track does not incorporate the use of [INSTRUMENT]. Additionally, the song has a length of [TM1] seconds, providing ample time for the listener to appreciate the subtleties of the music. Overall, this composition showcases a carefully crafted balance of melody, rhythm, and tonal variation that is sure to captivate audiences with its understated yet expressive qualities.\n",
      "Response does not contain required substring for attribute: I4_0, response: This music offers a diverse and dynamic listening experience with a pitch range spanning [RANGE] octaves. The [KEY] key provides a powerful and memorable sound, while the rhythm is very gentle and easy. Notably absent in this song are [INSTRUMENTS], which distinguishes the melody track by their absence. Overall, this combination creates a unique and distinct musical style that is sure to captivate and engage listeners.\n",
      "Response does not contain required substring for attribute: I4_0, response: This track features a time signature of [TIME_SIGNATURE] and the melody is not created using [INSTRUMENT]. The song maintains a moderate tempo throughout its duration, and the overall musical composition is enhanced by the presence of [INSTRUMENTS].\n",
      "Response does not contain required substring for attribute: I4_0, response: In this track, [INSTRUMENT] is not the primary instrument used to create the melody. However, the music in [KEY] key gives the song a special emotional quality. The track is [TM1] seconds long and has a non-typical [TIME_SIGNATURE] time signature.\n",
      "Response does not contain required substring for attribute: I4_0, response: The music in question has a rapid tempo and a powerful and memorable sound, thanks to its use of the [KEY] key. Interestingly, the melody track intentionally omits the use of [INSTRUMENT], and this decision contributes to the unique character of the song. Additionally, the song has opted not to incorporate other instruments, further emphasizing the importance of the chosen key and creating a distinctive musical experience.\n",
      "Response does not contain required substring for attribute: I4_0, response: The melody track in the song is fast-paced and comprises [NUM_BARS] bars. Although [INSTRUMENT] is present in the track, it is not the primary sound that is heard. The track has a length of [TM1] seconds.\n",
      "Response does not contain required substring for attribute: TM1_1, response: The music in this song offers a unique and captivating experience with distinct emotional depth, emphasized by the pitch range of [RANGE] octaves. The choice of [KEY] key adds to its memorability, while the gentle rhythm creates a soothing atmosphere. In opting not to incorporate [INSTRUMENTS], the song offers a refreshing departure from conventional musical arrangements. Its unusual [TIME_SIGNATURE] time signature and quick pace contribute to its dynamic nature. The music's [EMOTION] feeling further enhances the song's overall impact. Overall, this song presents a creative and memorable musical journey for the listener.\n",
      "Response does not contain required substring for attribute: I4_0, response: This music, composed in the [KEY] key with a limited pitch range of [RANGE] octaves, allows for a greater emphasis on the nuances of tone and phrasing. The comforting rhythm adds to the overall atmosphere of the piece, while the melody track, which does not center around the sound of [INSTRUMENT], contributes to the low-speed nature of the music.\n",
      "Response does not contain required substring for attribute: I4_0, response: The melody track of this song is not centered around the sound of [INSTRUMENT]. However, the compact pitch range of [RANGE] octaves contributes to a focused and impactful musical performance. The leisurely pace at which this music is played, combined with its smooth and steady rhythm, further enhances its overall effect.\n",
      "Response does not contain required substring for attribute: I4_0, response: The melody track, which is [TM1] seconds in length, does not revolve around the sound of [INSTRUMENT]. In fact, this song has deliberately chosen not to include [INSTRUMENTS] in its arrangement.\n",
      "Response does not contain required substring for attribute: I4_0, response: This means that the focus of the melody is on the vocal or instrumental line that carries the main tune. Other instruments may be used to provide accompaniment or counterpoint, but they do not play the primary melody. The choice of instruments for the melody track can have a significant impact on the overall sound and feel of the music, as well as on how it is perceived by listeners. By omitting certain instruments from the melody track, composers and producers can create a distinctive sonic signature that sets their music apart from others.\n",
      "Response does not contain required substring for attribute: I4_0, response: This music offers a unique and captivating listening experience with its pitch range of [RANGE] octaves and choice of [KEY] key. The song's length is [TM1] seconds and features an unusual time signature of [TIME_SIGNATURE]. The intentional absence of [INSTRUMENT] in the melody track adds to the song's overall memorability. With around [NUM_BARS] bars, this music offers a truly distinct and memorable musical experience.\n",
      "Response does not contain required substring for attribute: I4_0, response: The cohesive and unified sound throughout the musical piece is achieved through the use of a specific pitch range of [RANGE] octaves. This [TM1]-second song is composed in the [KEY] key and features a moderate and easy-to-follow beat. The meter of the music is [TIME_SIGNATURE], and it should be played using [INSTRUMENTS]. However, it's worth noting that the melody in this track is not created using [INSTRUMENT]. Overall, these elements come together to create a distinct and unique musical composition.\n",
      "Response does not contain required substring for attribute: TM1_1, response: The given sentence is incomplete and does not provide enough context to form a coherent paragraph. Please provide additional information or context so that I may assist you in creating a proper paragraph.\n",
      "Response does not contain required substring for attribute: I4_0, response: In the melody track of this musical piece, you won't hear the [INSTRUMENT]. The song showcases a pitch range within [RANGE] octaves and features a consistent and moderate beat throughout.\n",
      "Response does not contain required substring for attribute: TS1_1, response: The track is TM1 seconds long and has a slow rhythm. The rhythm in this song is very harmonious, and the TIME_SIGNATURE is the meter of the music. The INSTRUMENTS used add to the musical composition, creating a cohesive sound that enhances the overall listening experience.\n",
      "Response does not contain required substring for attribute: I4_0, response: The song's rhythm is highly vigorous and employs an unusual time signature. Despite the absence of instruments, the melody track doesn't rely on their use and is played slowly. The song's length is determined by the number of bars, which is [NUM_BARS].\n",
      "Response does not contain required substring for attribute: R3_2, response: This song is a calm and moderate piece of music that utilizes [INSTRUMENTS] in its musical performance. The music is comprised of [NUM_BARS] bars and has a duration of [TM1] seconds.\n",
      "Response does not contain required substring for attribute: TM1_1, response: This is a TM1-second song with a moderate and consistent rhythm that follows a [TIME_SIGNATURE] meter. The instrumentation in this song does not include [INSTRUMENTS], but the music is evocative of the classic [GENRE] sound.\n",
      "Response does not contain required substring for attribute: I4_0, response: The melody track for this song is intentionally free of any instruments. Instead, the pitch range of [RANGE] octaves is used to create a distinctive character that emphasizes the emotional depth of the music. The song consists of [NUM_BARS] bars in total, and the beat is very calming and soothing. Together, these elements create a unique and emotionally rich musical experience that is sure to captivate listeners.\n",
      "Response does not contain required substring for attribute: I4_0, response: The melody track for this song is crafted without the use of a specific instrument. The song's pace is set at a moderate tempo, and you can count [NUM_BARS] bars in it. However, the music comes to life through the use of various instruments. These instruments work together to create a vibrant and dynamic sound that complements the melody and enhances the overall listening experience.\n",
      "Response does not contain required substring for attribute: I4_0, response: The time signature of this song is not conventional, and the melody track doesn't incorporate the use of [INSTRUMENT]. Despite being of moderate speed, this song doesn't feature [INSTRUMENTS].\n",
      "Response does not contain required substring for attribute: R3_0, response: The music's pitch range spans [RANGE] octaves, contributing to its unique character and highlighting its emotional depth. The use of the [KEY] key also creates a distinct atmosphere. This tranquil and peaceful song lasts [TM1] seconds and features [INSTRUMENTS]. It is a prime example of the [GENRE] style, comprised of [NUM_BARS] bars.\n",
      "Response does not contain required substring for attribute: I4_0, response: The unconventional time signature of this song is accompanied by a notable absence of certain instruments. In particular, [INSTRUMENTS] are not featured in the piece, and the [INSTRUMENT] is notably absent from the melody track. Despite these omissions, the music is played at a rapid pace, driving the song forward as it progresses through [NUM_BARS] bars. Overall, the unique composition of this piece challenges traditional musical expectations and offers a distinct listening experience.\n",
      "Response does not contain required substring for attribute: I4_0, response: In this track, the melody is not played using [INSTRUMENT]. The music is in [KEY], which adds a special emotional quality to it. It covers [NUM_BARS] bars and has a meter of [TIME_SIGNATURE].\n",
      "Response does not contain required substring for attribute: I4_0, response: Although [INSTRUMENT] is not the predominant sound heard in the melody track, the compact pitch range of [RANGE] octaves results in a focused and impactful musical performance. Furthermore, the beat in this song is very tranquilizing, creating a relaxing atmosphere.\n",
      "Response does not contain required substring for attribute: I4_0, response: The music's compact pitch range spans [RANGE] octaves and produces a focused and impactful performance, while its use of the [KEY] key establishes a distinct atmosphere. Clocking in at [TM1] seconds, the song maintains a moderate beat and does not incorporate [INSTRUMENTS] in its instrumentation. Additionally, it features an uncommon [TIME_SIGNATURE] time signature and the [INSTRUMENT] does not play a primary role in creating the melody. The song's speedy tempo and [NUM_BARS] bars mark it as a work of the [GENRE] genre.\n",
      "Response does not contain required substring for attribute: TM1_1, response: The music in this song has several distinct features that contribute to its emotional depth and character. Firstly, the pitch range spans [RANGE] octaves, which adds a unique quality to the music and emphasizes its emotional depth. Additionally, the use of the [KEY] key adds a special emotional quality to the song. The rhythm in the song is also very lively, further enhancing the overall impact of the music. Interestingly, the arrangement omits the use of [INSTRUMENTS], adding a unique quality to the sound. The time signature used in the song is also unusual, providing an additional layer of complexity to the music. Despite the complex arrangement, the music is played at a high tempo, contributing to its energetic and lively nature. Overall, the music is [EMOTION] in nature, evoking powerful emotions in the listener.\n",
      "Response does not contain required substring for attribute: I4_0, response: The melody track in this music has a moderate tempo and does not rely on the use of any particular instrument. Additionally, [INSTRUMENTS] are not included in the instrumentation of this song.\n",
      "Response does not contain required substring for attribute: I4_0, response: The melody track of this music does not incorporate the use of [INSTRUMENT]. However, with a pitch range spanning [RANGE] octaves, this song offers a diverse and dynamic listening experience. The song's beat is slow-paced, and it has a duration of [NUM_BARS] bars.\n",
      "Response does not contain required substring for attribute: TM1_1, response: This is a TM1-second-long song with a time signature that is out of the ordinary. Despite its brevity, the song's unique time signature adds an interesting twist to its composition, setting it apart from more traditional musical arrangements. Whether intentional or not, the departure from conventional time signatures may contribute to the song's overall impact and appeal, drawing in listeners who appreciate music that challenges their expectations and expands their horizons.\n",
      "Response does not contain required substring for attribute: I4_0, response: In this song, the melody track does not use [INSTRUMENT]. The music spans [NUM_BARS] bars and employs a time signature that is atypical, namely [TIME_SIGNATURE].\n",
      "Response does not contain required substring for attribute: K1_1, response: The [GENRE] sound is perfectly exemplified in this music, which has a rapid tempo and a very smooth and relaxing beat. The [TIME_SIGNATURE] meter adds to its unique quality, while the absence of [INSTRUMENTS] as part of the instrumentation gives it a special emotional touch. Overall, this song showcases a combination of elements that make it truly captivating.\n",
      "Response does not contain required substring for attribute: R1_0, response: The tempo of this music is not conducive to moving your body, and this song is [TM1] seconds long with a non-standard time signature. You won't hear any [INSTRUMENTS] in this song, which is composed of approximately [NUM_BARS] bars.\n",
      "Response does not contain required substring for attribute: I4_0, response: The music in this song has several notable characteristics. First, its pitch range spans [RANGE] octaves, which adds a distinctive character and emphasizes its emotional depth. Second, the song has a runtime of [TM1] seconds and features a [TIME_SIGNATURE] meter. Third, the melody track does not include the signature sound of [INSTRUMENT]. Finally, the music has a sluggish tempo, contributing to its overall mood and atmosphere.\n",
      "Response does not contain required substring for attribute: I4_0, response: The musical piece in question showcases a pitch range that spans [RANGE] octaves and lasts for [TM1] seconds. Interestingly, the composition does not make use of [INSTRUMENTS] at any point, and the melody track is also devoid of [INSTRUMENT]. Despite this, the song is still able to offer a rich listening experience, as it contains [NUM_BARS] bars that are sure to captivate the listener's attention.\n",
      "Response does not contain required substring for attribute: I4_0, response: The melody track in this music doesn't feature [INSTRUMENT] as the predominant sound. However, the use of [KEY] key creates a strong and memorable sound. The tempo of the song is also well-suited and feels just right. Additionally, the time signature used in this song is not ordinary, featuring [TIME_SIGNATURE].\n",
      "Response does not contain required substring for attribute: I4_0, response: This song has a running time of [TM1] seconds and a pitch range within [RANGE] octaves. The rhythm is easy-going, while the melody track is not dominated by the sound of [INSTRUMENT]. Despite this, the song's structure is fast-paced, with [NUM_BARS] bars in total.\n",
      "Response does not contain required substring for attribute: I4_0, response: This track features a melody that is not created using [INSTRUMENT]. Despite the absence of this particular instrument, the song still maintains a slow rhythm and is [NUM_BARS] bars in length. However, the tempo in this song is notably fast, creating a sense of urgency and energy throughout.\n",
      "Response does not contain required substring for attribute: EM1_1, response: This music offers a unique and captivating listening experience with its pitch range of [RANGE] octaves and choice of [KEY] key. Its fast-paced tempo and emotive quality further enhance the overall experience. The song structure, comprising of [NUM_BARS] bars, adds an additional layer of complexity to the music, making it a memorable and well-crafted piece.\n",
      "Response does not contain required substring for attribute: I4_0, response: This song falls into the category of [GENRE] music, offering a diverse and dynamic listening experience with a pitch range spanning [RANGE] octaves. The [KEY] key adds a unique flavor, and the song's length is [TM1] seconds, consisting of [NUM_BARS] bars with a swift pace. The rhythm of the song is moderate, neither too fast nor too slow. The melody track doesn't feature any [INSTRUMENTS], while the meter of the music is [TIME_SIGNATURE].\n",
      "Response does not contain required substring for attribute: I4_0, response: This track features a melody that is not created using a specific instrument. It has a length of approximately [NUM_BARS] bars and intentionally omits the incorporation of certain instruments.\n",
      "Response does not contain required substring for attribute: I4_0, response: In this track, [INSTRUMENT] is not the main instrument used for the melody. Despite this, the musical piece showcases a pitch range within [RANGE] octaves and comprises [NUM_BARS] bars.\n",
      "Response does not contain required substring for attribute: I4_0, response: The melody in this track is not created using [INSTRUMENT], but it still manages to offer a unique and memorable listening experience with its pitch range of [RANGE] octaves. This music is composed in the [KEY] key and has a song length of [TM1] seconds, making it a distinctive and noteworthy composition. Despite the absence of [INSTRUMENT] in the melody, the composition's use of pitch range and key signature contribute to its overall sound and style, showcasing the creativity and skill of its composer.\n",
      "Response does not contain required substring for attribute: B1_1, response: Additionally, the tempo is [TEMPO] beats per minute and the key signature is [KEY_SIGNATURE]. The piece features a variety of instruments including [INSTRUMENTS_USED]. The composer of the music is [COMPOSER_NAME]. The music itself has a [MOOD/GENRE] feel to it and is often played in [OCCASIONS/SETTINGS]. Overall, the music is a complex and well-crafted piece that showcases the composer's talent and skill.\n",
      "Response does not contain required substring for attribute: R1_0, response: The song's rhythm is moderate, and there are roughly [NUM_BARS] bars in this song. However, despite its beat, you won't be able to move your feet to this song, as you won't hear any [INSTRUMENTS] in it.\n",
      "Response does not contain required substring for attribute: TM1_1, response: The given sentence is incomplete and doesn't contain any information that can be combined with other sentences to form a paragraph. I would need more context or additional sentences to create a coherent paragraph. Please provide me with more details or information so that I can assist you better.\n",
      "Response does not contain required substring for attribute: I4_0, response: This music provides a diverse and dynamic listening experience with a pitch range spanning [RANGE] octaves. Its use of [KEY] key creates a distinct atmosphere, and it is in [TIME_SIGNATURE]. The melody track does not incorporate the use of [INSTRUMENT], and the song moves at a moderate pace. Overall, the combination of these elements results in a unique and engaging musical composition.\n",
      "Response does not contain required substring for attribute: TM1_1, response: This music has a unique and resonant sound due to its use of [KEY] key and limited pitch range of [RANGE] octaves, which allows for a greater emphasis on the nuances of tone and phrasing. The song has a very powerful and driving beat, enriched by the use of [INSTRUMENTS], and is played at a high tempo. Additionally, this song deviates from the norm in terms of its time signature, which is [TIME_SIGNATURE], and its style is not reflective of the usual features of the [GENRE] genre. Overall, this music offers a distinct and captivating listening experience that stands out from traditional expectations.\n",
      "Response does not contain required substring for attribute: I4_0, response: The melody track in this music does not rely on the use of a specific instrument. Instead, it conveys a unique and resonant sound through its use of the [KEY] key. The song is composed of a total of [NUM_BARS] bars. Interestingly, the deliberate exclusion of certain instruments in this piece has resulted in a distinct and intentional sound.\n",
      "Response does not contain required substring for attribute: K1_1, response: This [TM1]-second-long track features a powerful and driving beat with a composition that doesn't involve the use of [INSTRUMENTS]. The music is played slowly in [TIME_SIGNATURE], which contributes to its focused and impactful performance. Additionally, the compact pitch range of [RANGE] octaves adds to the intensity of the song's emotional quality. The music is defined by [EMOTION] and can be heard across [NUM_BARS] bars, giving listeners a unique and memorable experience.\n",
      "Response does not contain required substring for attribute: I4_0, response: The music is composed in the [KEY] key and has a limited pitch range of [RANGE] octaves, which allows for a greater emphasis on the nuances of tone and phrasing. This song features an unconventional time signature of [TIME_SIGNATURE], and the melody is not created using [INSTRUMENT]. The tempo of the song is moderate, and listeners can hear [NUM_BARS] bars throughout the track. Together, these elements create a unique musical experience that showcases the creativity and artistry of the composer.\n",
      "Response does not contain required substring for attribute: TM1_1, response: This is a TM1-second-long song with a slow rhythm but a very powerful and driving beat.\n",
      "Response does not contain required substring for attribute: K1_1, response: The rhythm of this song is neither too fast nor too slow, and the tempo is slow, adding a unique flavor to this music. It does not fall squarely within the conventions of the [GENRE] sound, as the song progresses over [NUM_BARS] bars.\n",
      "Response does not contain required substring for attribute: I4_0, response: The track's melody is not produced using [INSTRUMENT], but the musical piece still manages to showcase a pitch range spanning [RANGE] octaves. The song is composed of around [NUM_BARS] bars and follows a [TIME_SIGNATURE] meter. Despite the absence of [INSTRUMENT], the music in this track manages to deliver an impressive range of pitch and rhythmic complexity, evident through the use of [RANGE] octaves and [TIME_SIGNATURE] meter respectively.\n",
      "Response does not contain required substring for attribute: I4_0, response: This song has an exceptionally energetic beat and is [TM1] seconds long. Deliberately excluded [INSTRUMENTS] are not utilized to create the melody in this track, which consists of [NUM_BARS] bars.\n",
      "Response does not contain required substring for attribute: K1_1, response: The [INSTRUMENTS] used in this musical performance create a slow-paced song with a pronounced rhythm, while the [TIME_SIGNATURE], which is not commonly used, adds a unique flavor to the music.\n",
      "Response does not contain required substring for attribute: R3_0, response: The [RANGE]-octave pitch range of this musical piece produces a focused and impactful performance, particularly when played in the [KEY] key, which gives it a special emotional quality. Clocking in at [TM1] seconds, this tranquil and peaceful song features [INSTRUMENTS] and has an atypical [TIME_SIGNATURE]. The song moves gently, radiating [EMOTION], and is composed of [NUM_BARS] bars in its structure.\n",
      "Response does not contain required substring for attribute: I4_0, response: The melody track in question intentionally excludes the use of a particular instrument. By limiting the pitch range to [RANGE] octaves, the resulting musical performance is focused and impactful. Additionally, the use of [KEY] key contributes a unique emotional quality to the music. The song has a duration of [TM1] seconds.\n",
      "Response does not contain required substring for attribute: I4_0, response: This music provides a one-of-a-kind and unforgettable listening experience with its pitch range of [RANGE] octaves. The use of the [KEY] key creates a distinct atmosphere that enhances the overall vibe. The track has a duration of [TM1] seconds, and interestingly, the melody track does not incorporate [INSTRUMENT]. The composition itself comprises of [NUM_BARS] bars, which further adds to its unique and complex structure.\n",
      "Response does not contain required substring for attribute: I4_0, response: This song's arrangement has omitted the use of [INSTRUMENT], which is not featured in the melody track. You can hear [NUM_BARS] bars in this song.\n",
      "Response does not contain required substring for attribute: TM1_1, response: This is a TM1-second song that progresses through NUM_BARS bars, and features a rhythm that is very comforting. However, the time signature of this song is unconventional and differs from the typical meter found in most popular music, as it is indicated by TIME_SIGNATURE. Despite the unconventional time signature, the song's comforting rhythm creates a unique listening experience that is both soothing and engaging.\n",
      "Response does not contain required substring for attribute: K1_1, response: The tempo in this song is very laid-back, with an unusual time signature [TIME_SIGNATURE], while [INSTRUMENTS] play an important role in adding a unique flavor to the music. Overall, the music is imbued with [EMOTION].\n",
      "Response does not contain required substring for attribute: I4_0, response: The musical performance employs various instruments, but the melody track is distinguished by the absence of a particular instrument. This song plays for TM1 seconds and has a very soothing and peaceful tempo. Overall, the combination of instruments and tempo creates a unique musical experience for the listener.\n",
      "Response does not contain required substring for attribute: I4_0, response: The musical performance of this song utilizes instruments to create a very peaceful beat. However, you won't find the specific instrument used for the melody in this track. Despite that, the song itself is fast-paced and composed of [NUM_BARS] bars of music.\n",
      "Response does not contain required substring for attribute: R3_1, response: This highly vigorous song lasts for TM1 seconds, but despite its energy, it does not embody the essence of the [GENRE] genre.\n",
      "Response does not contain required substring for attribute: I4_0, response: The melody track of this song is devoid of [INSTRUMENT], but it is played at a moderate speed and consists of [NUM_BARS] bars. Despite the lack of the [INSTRUMENT], the relaxed and moderate rhythm of the song still makes it enjoyable to listen to.\n",
      "Response does not contain required substring for attribute: I4_0, response: In this music, the melody track intentionally lacks any specific instrument, while the rhythm is very gentle. The tempo of the song is moderate, and while the instruments used in the composition play an important role, they are not featured prominently in the melody.\n",
      "Response does not contain required substring for attribute: I4_0, response: This song has a running time of [TM1] seconds and features a moderate beat. The music follows a [TIME_SIGNATURE] meter and while [INSTRUMENT] is not the primary sound heard in the melody track, the song is divided into [NUM_BARS] bars.\n",
      "Response does not contain required substring for attribute: I4_0, response: The melody track of this music does not incorporate the use of [INSTRUMENT]. Despite this, the choice of [KEY] key results in a captivating and memorable experience for the listener. This song has a duration of [TM1] seconds and features an atypical time signature of [TIME_SIGNATURE].\n",
      "Response does not contain required substring for attribute: TM1_1, response: This music offers a captivating and memorable experience through various elements that contribute to its unique style. The compact pitch range of [RANGE] octaves provides a focused and impactful musical performance. The choice of [KEY] key complements this effect, enhancing the music's overall impact. Additionally, the steady and moderate rhythm, played by [INSTRUMENTS], ensures the track's consistency and musical coherence. The music's [TIME_SIGNATURE] time signature and moderate tempo further enhance its rhythmical characteristics. Furthermore, the music does not adhere to the traditions of [GENRE] style, creating a fresh and innovative sound that sets it apart from traditional genre conventions. Overall, this music offers a distinct and captivating listening experience, characterized by its unique combination of various musical elements.\n",
      "Response does not contain required substring for attribute: I4_0, response: In this musical piece, the use of a specific pitch range spanning [RANGE] octaves creates a cohesive and unified sound that is sustained throughout the song's running time of [TM1] seconds. Despite its slow tempo, the music exudes a highly intense rhythm that keeps the listeners engaged. Although [INSTRUMENT] is not the primary instrument used for the melody in this track, its presence adds depth and texture to the overall composition.\n",
      "Response does not contain required substring for attribute: TM1_1, response: I'm sorry, but there seems to be some missing information in your request. Could you please provide me with more context and additional sentences that you would like me to combine into a paragraph? This will help me better understand what you are looking for and enable me to provide a more accurate response.\n",
      "Response does not contain required substring for attribute: I4_0, response: The song is [NUM_BARS] bars long and has a playtime of [TM1] seconds. However, the melody track is devoid of [INSTRUMENT].\n",
      "Response does not contain required substring for attribute: TS1_o, response: The cohesive and unified sound throughout the musical piece is created by using a specific pitch range of [RANGE] octaves. This song lasts [TM1] seconds and has an irregular time signature of [TIME_SIGNATURE]. There are no [INSTRUMENTS] present in this music, which is played at a high tempo. The music is filled with [EMOTION], resulting in a powerful and intense listening experience.\n",
      "Response does not contain required substring for attribute: I4_0, response: The melody in this track is not created using [INSTRUMENT], but despite this, the song is performed at a rapid pace with a meter of [TIME_SIGNATURE]. Despite the absence of [INSTRUMENT] in the melody, the track still manages to maintain a lively tempo, which is matched by the [TIME_SIGNATURE] meter of the music. Overall, the track showcases a unique blend of elements that come together to create an enjoyable listening experience.\n",
      "Response does not contain required substring for attribute: I4_0, response: The melody track, which lacks [INSTRUMENT], offers a diverse and dynamic listening experience with a pitch range spanning [RANGE] octaves. The song features a quick beat and has a length of [TM1] seconds.\n",
      "Response does not contain required substring for attribute: I4_0, response: The compact pitch range of [RANGE] octaves in [KEY] key creates a focused and impactful musical performance that carries a special emotional quality. Despite its unusual time signature of [TIME_SIGNATURE], this song deliberately excludes [INSTRUMENTS] to achieve a particular effect. The melody track also purposefully omits the use of [INSTRUMENT]. Played at a high tempo, this music exudes a distinctive character that sets it apart.\n",
      "Response does not contain required substring for attribute: I4_0, response: The track features a melody that was not created using any specific instrument. The pitch range of the melody spans across [RANGE] octaves. Additionally, the music is composed in the key of [KEY], which contributes to the creation of a unique atmosphere.\n",
      "Response does not contain required substring for attribute: I4_0, response: The music in question features a compact pitch range of [RANGE] octaves, resulting in a focused and impactful performance. Additionally, the use of the [KEY] key creates a distinct atmosphere. The track has a duration of [TM1] seconds and is intended to feature [INSTRUMENTS]. However, it is worth noting that [INSTRUMENT] is not present in the melody track.\n",
      "Response does not contain required substring for attribute: I4_0, response: While [INSTRUMENT] is not the primary instrument used to create the melody in this track, the music should feature [INSTRUMENTS]. In other words, while [INSTRUMENT] may not be the lead instrument, it still has a role to play in the overall sound and should be included in the arrangement alongside other instruments. By incorporating a variety of instruments, the music can achieve a more dynamic and interesting composition, with each instrument contributing its own unique qualities to the mix. Therefore, it's important to consider how [INSTRUMENT] can complement and enhance the other instruments in the arrangement to create a cohesive and compelling musical piece.\n",
      "Response does not contain required substring for attribute: I4_0, response: The song's melody track is intentionally free of a particular instrument, creating a unique sound. The tempo of the song is moderate, setting a steady pace. Spanning across [NUM_BARS] bars, the music has ample time to develop and evolve. The duration of the entire song is [TM1] seconds, providing a satisfying listening experience from start to finish.\n",
      "Response does not contain required substring for attribute: T1_2, response: The music in question showcases a balanced beat and a rich and dynamic sonic palette through the use of the [KEY] key. It also conveys [EMOTION] through its performance, with a variety of [INSTRUMENTS] adding depth and complexity to the overall sound.\n",
      "Response does not contain required substring for attribute: I4_0, response: The pitch range of [RANGE] octaves adds a distinctive character to the music, emphasizing its emotional depth, while the inclusion of [INSTRUMENTS] adds to its overall composition. However, the melody track does not incorporate the use of [INSTRUMENT]. Despite the absence of this particular instrument, the song has a very fast and lively rhythm, creating a vibrant and dynamic musical experience. Additionally, the song features [NUM_BARS] bars in its composition, which contributes to its structure and organization. Although the tempo of the music is sluggish, the combination of these elements results in a unique and engaging musical piece.\n",
      "Response does not contain required substring for attribute: I4_0, response: This [TM1]-second-long music with a pitch range of [RANGE] octaves offers a unique and memorable listening experience. It is composed with [INSTRUMENTS] included in most of the bars, except for the melody track which is devoid of [INSTRUMENT]. The music moves at a fast rate and is comprised of [NUM_BARS] bars, delivering a dynamic and energetic performance. Whether you are a music enthusiast or just looking for a catchy tune, this piece is sure to keep you engaged from start to finish.\n",
      "Response does not contain required substring for attribute: TS1_1, response: This song plays for TM1 seconds and has a moderate beat. The music follows a TIME_SIGNATURE meter, giving it a consistent rhythmic feel.\n",
      "Response does not contain required substring for attribute: I4_0, response: The musical piece showcases a pitch range within [RANGE] octaves and features a soothing and peaceful tempo. The song's composition doesn't involve the use of [INSTRUMENTS], as [INSTRUMENT] is not the primary instrument used to create the melody in this track. With a length of [NUM_BARS] bars, this song offers a unique listening experience that highlights the pitch range and calming tempo.\n",
      "Response does not contain required substring for attribute: I4_0, response: In this track, the melody is not created using [INSTRUMENT]. The musical piece features a pitch range that spans [RANGE] octaves, and has a duration of [TM1] seconds.\n",
      "Response does not contain required substring for attribute: I4_0, response: The song has a pitch range of [RANGE] octaves and follows a [TIME_SIGNATURE] meter. Its tempo is moderate and it progresses over [NUM_BARS] bars. Although [INSTRUMENT] is used in the melody track, it's not the predominant sound heard.\n",
      "Response does not contain required substring for attribute: I4_0, response: The music has a gentle tempo and the melody track is created without the use of an instrument. The use of the [KEY] key gives this music a special emotional quality, which projects [EMOTION] to the listener.\n",
      "Response does not contain required substring for attribute: I4_0, response: The melody track in this song does not incorporate the use of [INSTRUMENT], yet it has a quick beat and a rhythm that is very easy on the ears. In fact, the composition of this song does not involve the use of [INSTRUMENTS] at all.\n",
      "Response does not contain required substring for attribute: I4_0, response: The melody track of this music intentionally excludes a specific instrument and offers a diverse and dynamic listening experience with a pitch range spanning [RANGE] octaves. The length of this song is [TM1] seconds, and it is completely devoid of [INSTRUMENTS], giving it a unique sound that sets it apart from other music.\n",
      "Response does not contain required substring for attribute: I4_0, response: The music creates a distinct atmosphere through its use of the [KEY] key. Although the tempo is not too fast or too slow, the song's time signature is out of the ordinary, marked by [TIME_SIGNATURE]. The music is brought to life through the use of [INSTRUMENTS], but interestingly, the melody track doesn't feature [INSTRUMENT]. Overall, the music is played at a medium tempo, combining unique elements to create a captivating auditory experience.\n",
      "Response does not contain required substring for attribute: R1_0, response: This song has a duration of [TM1] seconds and features a moderate beat in [TIME_SIGNATURE] meter. [INSTRUMENTS] are utilized in the musical performance. However, the tempo of this music is not conducive to moving your body, and it does not fall squarely within the conventions of the [GENRE] sound.\n",
      "Response does not contain required substring for attribute: I4_0, response: The distinct atmosphere of this music is created by its use of [KEY] key. The song's playtime lasts [TM1] seconds and its rhythm is very easy on the ears. Interestingly, the melody track does not incorporate the use of [INSTRUMENT]. Overall, the song consists of [NUM_BARS] bars, contributing to its overall structure and composition.\n",
      "Response does not contain required substring for attribute: TM1_1, response: The music in this song features a distinctive character, emphasized by its pitch range of [RANGE] octaves, which adds depth to its emotional impact. Additionally, the use of the [KEY] key conveys a unique and resonant sound, further contributing to its overall effect. The song's serene rhythm, slow pace, and [TIME_SIGNATURE] meter all work together to create a tranquil atmosphere. The use of [INSTRUMENTS] is vital to the music, adding to the emotional depth and resonance of the piece. Overall, this music conveys a powerful sense of [EMOTION] that is sure to resonate with listeners.\n",
      "Response does not contain required substring for attribute: I4_0, response: The main instrument used for the melody in this track is not [INSTRUMENT]. However, the music's pitch range of [RANGE] octaves creates a unique and memorable listening experience. Additionally, the song's time signature is atypical, adding to its distinctive quality.\n",
      "Response does not contain required substring for attribute: I4_0, response: The music in question presents a diverse and dynamic listening experience with its pitch range spanning [RANGE] octaves. It also features a rich and dynamic sonic palette due to its use of [KEY] key. The time signature of the music is [TIME_SIGNATURE]. However, the arrangement of this song has omitted the use of [INSTRUMENTS]. Despite this, the melody track is able to stand on its own without relying on the use of [INSTRUMENT].\n",
      "Response does not contain required substring for attribute: TM1_1, response: \n",
      "\n",
      "I'm sorry, but there doesn't seem to be enough context to create a coherent paragraph with just that one sentence. Please provide additional information or details about the topic you are referring to.\n",
      "Response does not contain required substring for attribute: I4_0, response: Despite its presence in the mix, [INSTRUMENT] is not the predominant sound heard in the melody track of this song, which has a runtime of [TM1] seconds.\n",
      "Response does not contain required substring for attribute: I4_0, response: The melody track intentionally omits the use of a particular instrument. With a pitch range of [RANGE] octaves, this music delivers a distinct and unforgettable listening experience. The tempo is fast-paced, and the rhythm is highly energetic, creating an intense and lively atmosphere.\n",
      "Response does not contain required substring for attribute: T1_0, response: The music featuring [INSTRUMENTS] should be played quickly.\n",
      "Response does not contain required substring for attribute: I4_0, response: The music's melody track is intentionally free of any specific instrument, allowing for a more versatile and adaptable sound. The time signature of the music is indicated as [TIME_SIGNATURE], providing a rhythmic framework for the piece. Together, the absence of a specific instrument and the time signature work in tandem to create a unique musical experience that is open to interpretation and experimentation.\n",
      "Response does not contain required substring for attribute: I4_0, response: This high-tempo music has a pitch range of [RANGE] octaves and is played in the [KEY] key, adding a unique flavor to the track. The instrumentation for this song does not include [INSTRUMENTS], and you won't find [INSTRUMENT] used for the melody during its [TM1] seconds duration.\n",
      "Response does not contain required substring for attribute: I4_0, response: The music composition consists of a fast-paced beat that spans [NUM_BARS] bars. The melody track, devoid of [INSTRUMENT], plays a prominent role in the composition. Additionally, the [INSTRUMENTS] contribute to the overall sound of the song, enhancing its musical quality.\n",
      "Response does not contain required substring for attribute: I4_0, response: The music being played is at a medium tempo, and the melody track does not feature [INSTRUMENT]. However, the choice of [KEY] key in this music creates a captivating and memorable experience for the listeners.\n",
      "Response does not contain required substring for attribute: R3_0, response: This laid-back song has a duration of [TM1] seconds and consists of [NUM_BARS] bars. The use of [INSTRUMENTS] is vital to the music, which radiates [EMOTION].\n",
      "Response does not contain required substring for attribute: TM1_1, response: This music offers a diverse and dynamic listening experience with a pitch range spanning [RANGE] octaves. The choice of [KEY] key results in a captivating and memorable experience, while the song's smooth and relaxing beat creates a pleasant atmosphere. Despite the absence of [INSTRUMENTS], the unconventional [TIME_SIGNATURE] time signature and fast-paced tempo make for an exciting composition. The song's [GENRE] influences define its style, and the [NUM_BARS] bars in total ensure a complete musical experience.\n",
      "Response does not contain required substring for attribute: TS1_o, response: The pitch range of [RANGE] octaves adds a distinctive character to the music, emphasizing its emotional depth, which is composed in the [KEY] key and plays for [TM1] seconds. With a relaxing tempo, this song intentionally avoids incorporating [INSTRUMENTS], while opting for a less common [TIME_SIGNATURE] time signature. Despite its quick beat, the music evokes a [EMOTION] feeling.\n",
      "Response does not contain required substring for attribute: I4_0, response: In the melody track, [INSTRUMENT] is not the predominant sound heard. This is due to the compact pitch range of [RANGE] octaves, which results in a focused and impactful musical performance. Additionally, the meter of the music is [TIME_SIGNATURE].\n",
      "Response does not contain required substring for attribute: I4_0, response: The captivating and memorable experience of this music is a result of its choice of [KEY] key. The song has a very fast-paced tempo and is based on a [TIME_SIGNATURE] time signature. It should include [INSTRUMENTS] to enhance the overall sound, although the melody track is missing the sound of [INSTRUMENT]. The song's length is determined by [NUM_BARS] bars.\n",
      "Response does not contain required substring for attribute: I4_0, response: The meter of the music is defined by its time signature. Although [INSTRUMENT] is not the primary instrument used to create the melody in this track, the music is brought to life through the use of various other instruments. Together, these instruments create a rich and complex texture, adding depth and complexity to the overall sound. Through the interplay of different timbres and rhythms, the music takes on a life of its own, drawing the listener into its world and creating an immersive and engaging experience.\n",
      "Response does not contain required substring for attribute: I4_0, response: This song has a runtime of [TM1] seconds and comprises [NUM_BARS] bars with a dynamic rhythm in [TIME_SIGNATURE] time signature. Interestingly, the melody track does not rely on the use of [INSTRUMENT].\n",
      "Response does not contain required substring for attribute: I4_0, response: This song has a unique emotional quality due to the use of the [KEY] key, despite the fact that the melody track is not focused on the sound of [INSTRUMENT]. The song plays for [TM1] seconds, allowing listeners to fully experience the emotional depth of the music.\n",
      "Response does not contain required substring for attribute: I4_0, response: This song has a duration of [TM1] seconds and features a time signature that is not commonly found. The rhythm is very gentle and easy, and the melody track does not include the sound of [INSTRUMENT]. The music is played at a moderate pace, creating a unique and distinctive sound that sets it apart from other songs.\n",
      "Response does not contain required substring for attribute: I4_0, response: This high-speed music track features a melody that doesn't use [INSTRUMENT]. The [KEY] key used in the song creates a powerful and memorable sound. The song structure is composed of [NUM_BARS] bars, providing a unique musical experience.\n",
      "Response does not contain required substring for attribute: I4_0, response: In this song, the melody track intentionally lacks any specific instrument, while still offering a balanced rhythm. The track spans [NUM_BARS] bars and runs for [TM1] seconds. Despite the absence of a specific instrument, the melody track blends well with the rest of the song, resulting in a cohesive musical experience.\n",
      "Response does not contain required substring for attribute: I4_0, response: In this track, the melody is not created using [INSTRUMENT]. Instead, the music relies on a pitch range of [RANGE] octaves to offer a unique and memorable listening experience. The meter of the music is [TIME_SIGNATURE], contributing to the overall rhythmic structure of the composition.\n",
      "Response does not contain required substring for attribute: R1_0, response: The pitch range of [RANGE] octaves adds a distinctive character to the music, emphasizing its emotional depth, while the choice of [KEY] key results in a captivating and memorable experience. With a runtime of [TM1] seconds, this song showcases a very powerful and driving beat that will make it impossible for you to resist grooving to its rhythm. Firmly rooted in the traditions of [GENRE] music, the song's style further enhances its overall impact.\n",
      "Response does not contain required substring for attribute: I4_0, response: This song is characterized by several unique musical elements. Firstly, the melody track intentionally omits a particular instrument, which adds to its distinctive sound. Additionally, the song has a very mellow rhythm that creates a relaxed and calming atmosphere. Another notable aspect of the song is its time signature, which deviates from the norm and gives it an unusual and captivating feel. Overall, these features come together to create a truly unique and memorable musical experience.\n",
      "Response does not contain required substring for attribute: I4_0, response: The music in this track has a pitch range of [RANGE] octaves and is played in the [KEY] key, which adds a unique flavor to the composition. The melody is not created using [INSTRUMENT], and instead, the rhythm in the song is highly vigorous. The tempo of the track is fast, making for an energetic listening experience overall.\n",
      "Response does not contain required substring for attribute: K1_1, response: The track, with a duration of [TM1] seconds, has opted not to incorporate [INSTRUMENTS], giving this music a special emotional quality. It is a low-speed song that evokes a [EMOTION] feeling.\n",
      "Response does not contain required substring for attribute: I4_0, response: In this track, [INSTRUMENT] is not the main instrument used for the melody despite being among the instruments that give the music its sound. The song has a playtime of [TM1] seconds and is characterized by a very serene rhythm. The overall sound of the music is produced through the combination of various [INSTRUMENTS].\n",
      "Response does not contain required substring for attribute: I4_0, response: The tranquilizing beat of this track moves gently through its non-standard time signature. Clocking in at [TM1] seconds long, this song's melody is not created using [INSTRUMENT]. Despite this departure from convention, the overall effect is calming and soothing to the listener.\n",
      "Response does not contain required substring for attribute: I4_0, response: The melody track of this musical piece does not feature [INSTRUMENT]. The song showcases a pitch range spanning [RANGE] octaves and is played at a fast tempo. However, this song's time signature is not conventional and features [TIME_SIGNATURE].\n",
      "Response does not contain required substring for attribute: I4_0, response: The unconventional time signature of this song sets it apart. Additionally, the absence of a particular instrument in the melody track distinguishes it even further. The use of the [KEY] key contributes to the unique atmosphere created by this music. Finally, the inclusion of [INSTRUMENTS] in the musical composition adds depth and richness to the overall sound.\n",
      "Response does not contain required substring for attribute: TM1_1, response: The music in this song is characterized by several unique elements. Firstly, the pitch range covers [RANGE] octaves, adding a distinct emotional depth to the music. Additionally, the use of the [KEY] key creates a specific atmosphere, while the absence of [INSTRUMENTS] further shapes the song's instrumentation. The music is played at a moderate tempo, using the [TIME_SIGNATURE] time signature, and [NUM_BARS] bars can be counted in the track. Overall, this song's sound is steeped in the conventions of [GENRE] style, making it a notable example of the genre.\n",
      "Response does not contain required substring for attribute: I4_0, response: This music offers a diverse and dynamic listening experience with a pitch range spanning [RANGE] octaves. The [KEY] key used in the composition gives the music a special emotional quality. The duration of the song is [TM1] seconds, and it doesn't feature [INSTRUMENTS]. As a result, the signature sound of [INSTRUMENT] is absent from the melody track.\n",
      "Response does not contain required substring for attribute: I4_0, response: The musical piece utilizes a specific pitch range of [RANGE] octaves, which creates a cohesive and unified sound throughout the composition. Additionally, the [KEY] key provides a powerful and memorable sound. Although [INSTRUMENTS] are not featured in this song, [INSTRUMENT] is not the primary instrument used to create the melody in this track. With a playtime of [TM1] seconds, the song showcases a unique sound that is both cohesive and memorable.\n",
      "Response does not contain required substring for attribute: I4_0, response: This track's music is enriched by various instruments, although [INSTRUMENT] is not the main instrument used for the melody. It features a [TIME_SIGNATURE] meter and utilizes the [KEY] key to create a distinct atmosphere. The overall effect of the music is enhanced by the use of multiple instruments.\n",
      "Response does not contain required substring for attribute: R1_0, response: This song, with a running time of [TM1] seconds and played at a swift pace, might not let you groove to its rhythm. However, the time signature of the music is [TIME_SIGNATURE], and it is [EMOTION] in nature.\n",
      "Response does not contain required substring for attribute: I4_0, response: Instead, the focus is on the rhythm and harmony of the accompanying instruments. The absence of [INSTRUMENT] allows other instruments to shine and create a unique sound for the track. The choice to omit [INSTRUMENT] also adds to the overall atmosphere and mood of the music. By prioritizing the rhythm and harmony, the listener is drawn into a different aspect of the music and can appreciate the complexity and interplay of the accompanying instruments.\n",
      "Response does not contain required substring for attribute: I4_0, response: The [KEY] key in this music provides a powerful and memorable sound, accompanied by a fast tempo. The song has [TIME_SIGNATURE] as its time signature and features a melody track that notably excludes the sound of [INSTRUMENT]. Counting [NUM_BARS] bars in this song can be a helpful way to stay on beat and fully appreciate its musical composition.\n",
      "Response does not contain required substring for attribute: I4_0, response: The melody track in this song does not primarily feature the sound of [INSTRUMENT]. However, there are approximately [NUM_BARS] bars in the song, which contribute to its overall structure and rhythm.\n",
      "Response does not contain required substring for attribute: I4_0, response: In this track, [INSTRUMENT] is not the primary instrument used to create the melody, even though it is present in the arrangement. Instead, the melody progresses through [NUM_BARS] bars using other instruments or musical elements.\n",
      "Response does not contain required substring for attribute: S2_1, response: The music resembles the style of The Beatles. The music is in 6/8 time signature. This music is perfect for dancing. Its pitch range covers 4 octaves.\n",
      "Response does not contain required substring for attribute: S4_0, response: The song doesn't fit the typical jazz style. The song doesn't include guitar and drums. The song doesn't match Mozart's usual sound. The song begins dark and eventually brightens up.\n",
      "Response does not contain required substring for attribute: I1_0, response: The song has a moderate tempo. The song doesn't include guitar and drums. This song carries a gloomy vibe from beginning to end. The music evokes happiness in the listener. This music isn't suited for dancing.\n",
      "Response does not contain required substring for attribute: S2_1, response: This song has a very calming beat. The music resembles the style of The Beatles. The song spans around 77 bars. This music is perfect for dancing. Its pitch range covers 2 octaves.\n",
      "Response does not contain required substring for attribute: EM1_1, response: This music is perfect for dancing. The beat of this song is very strong. The song begins dark and eventually brightens up. The song has a moderate tempo. The music evokes happiness in the listener.\n",
      "Response does not contain required substring for attribute: S2_1, response: This song carries a gloomy vibe from beginning to end. The song has a fast tempo. The music resembles the style of The Beatles. The beat of this song is moderate.\n",
      "Response does not contain required substring for attribute: S2_0, response: This song has a very calming beat. The song doesn't match Beyonce's usual sound. The song uses an uncommon time signature. The song starts off bright but then turns dark. This music is composed in the key of G major.\n",
      "Response does not contain required substring for attribute: S2_0, response: The song doesn't match Mozart's usual sound. The song doesn't include guitar and drums. The song spans around 77 bars.\n",
      "Response does not contain required substring for attribute: S2_0, response: The beat of this song is moderate. The song begins dark and eventually brightens up. This song maintains a bright feeling from start to finish. The song doesn't match The Beatles's usual sound.\n",
      "Response does not contain required substring for attribute: S2_0, response: The song has a moderate tempo. The song starts off bright but then turns dark. The beat of this song is very strong. This song carries a gloomy vibe from beginning to end. The song doesn't match Beyonce's usual sound.\n",
      "Response does not contain required substring for attribute: S2_1, response: This music is composed in the key of A minor. The music resembles the style of Beyonce. The beat of this song is very strong. This music is perfect for dancing. This music isn't suited for dancing.\n",
      "Response does not contain required substring for attribute: EM1_1, response: The song has a slow tempo. This song maintains a bright feeling from start to finish. This music isn't suited for dancing. The music is in 3/4 time signature. The music evokes excitement in the listener.\n",
      "Response does not contain required substring for attribute: I1_0, response: The song doesn't include guitar and drums. The song has a slow tempo. This song has a very calming beat. The music evokes excitement in the listener. The song begins dark and eventually brightens up.\n",
      "Response does not contain required substring for attribute: I1_1, response: The song has a fast tempo. The beat of this song is very strong. The music features guitar and drums. The song falls under the rock genre.\n",
      "Response does not contain required substring for attribute: I1_1, response: The music features guitar and drums. This song carries a gloomy vibe from beginning to end. The music is in 6/8 time signature. The beat of this song is very strong.\n",
      "Response does not contain required substring for attribute: I1_1, response: The music features guitar and drums. The song spans around 69 bars. This song has a very calming beat. The beat of this song is moderate. The song doesn't match Beyonce's usual sound.\n",
      "Response does not contain required substring for attribute: I1_0, response: The song falls under the jazz genre. Its pitch range covers 4 octaves. This music isn't suited for dancing. The song doesn't include guitar and drums.\n",
      "Response does not contain required substring for attribute: I1_1, response: The beat of this song is very strong. The music features guitar and drums. This song lasts for 294 seconds.\n",
      "Response does not contain required substring for attribute: S4_0, response: The song spans around 70 bars. This song lasts for 228 seconds. The song doesn't fit the typical classical style.\n",
      "Response does not contain required substring for attribute: S4_0, response: This music isn't suited for dancing. This song carries a gloomy vibe from beginning to end. The song doesn't fit the typical jazz style.\n",
      "Response does not contain required substring for attribute: I1_1, response: This song maintains a bright feeling from start to finish. The music features guitar and drums. The music resembles the style of Beyonce. The song doesn't include guitar and drums.\n",
      "Response does not contain required substring for attribute: I1_1, response: The music features guitar and drums. The beat of this song is moderate. This music is composed in the key of G major.\n",
      "Response does not contain required substring for attribute: S2_0, response: The song doesn't match Beyonce's usual sound. The music resembles the style of Beyonce. This song has a very calming beat.\n",
      "Response does not contain required substring for attribute: EM1_1, response: The song begins dark and eventually brightens up. The music is in 6/8 time signature. The music evokes excitement in the listener. The beat of this song is very strong. The music features guitar and drums.\n",
      "Response does not contain required substring for attribute: I1_1, response: The music features guitar and drums. The music evokes sadness in the listener. This music is perfect for dancing. The beat of this song is moderate.\n",
      "Response does not contain required substring for attribute: I1_1, response: This song maintains a bright feeling from start to finish. The song starts off bright but then turns dark. The song has a moderate tempo. The music features guitar and drums. The song uses an uncommon time signature.\n",
      "Response does not contain required substring for attribute: I1_0, response: Its pitch range covers 4 octaves. The song doesn't include guitar and drums. The song has a slow tempo. The song uses an uncommon time signature. This music is perfect for dancing.\n",
      "Response does not contain required substring for attribute: I1_0, response: The beat of this song is moderate. Its pitch range covers 3 octaves. This music isn't suited for dancing. The song doesn't include guitar and drums. The song begins dark and eventually brightens up.\n",
      "Response does not contain required substring for attribute: S2_1, response: This music is composed in the key of C major. The beat of this song is very strong. This song has a very calming beat. The music resembles the style of The Beatles.\n",
      "Response does not contain required substring for attribute: EM1_1, response: The music evokes sadness in the listener. The song has a fast tempo. The beat of this song is moderate.\n",
      "Response does not contain required substring for attribute: S2_1, response: The music resembles the style of The Beatles. This song has a very calming beat. The song uses an uncommon time signature. This music is composed in the key of C major.\n",
      "Response does not contain required substring for attribute: I1_0, response: The song begins dark and eventually brightens up. The song doesn't include guitar and drums. The music features guitar and drums. The music resembles the style of Mozart.\n",
      "Response does not contain required substring for attribute: I1_1, response: The song has a slow tempo. This music is composed in the key of C major. The music features guitar and drums. This song maintains a bright feeling from start to finish.\n",
      "Response does not contain required substring for attribute: S4_0, response: The song doesn't fit the typical pop style. The music is in 3/4 time signature. The song starts off bright but then turns dark. The song doesn't match Beyonce's usual sound.\n",
      "Response does not contain required substring for attribute: I1_0, response: The song has a slow tempo. The song spans around 59 bars. The song doesn't include guitar and drums. The song uses an uncommon time signature. The beat of this song is moderate.\n",
      "Response does not contain required substring for attribute: EM1_1, response: The song spans around 83 bars. The song doesn't fit the typical pop style. The music evokes happiness in the listener. The song falls under the pop genre.\n",
      "Response does not contain required substring for attribute: S2_0, response: This music is composed in the key of C major. This song maintains a bright feeling from start to finish. The song doesn't match Mozart's usual sound. The song begins dark and eventually brightens up. The song has a fast tempo.\n",
      "Response does not contain required substring for attribute: S2_0, response: The song begins dark and eventually brightens up. The song doesn't match Beyonce's usual sound. This song carries a gloomy vibe from beginning to end. The song has a moderate tempo.\n",
      "Response does not contain required substring for attribute: S2_1, response: The music resembles the style of Beyonce. The song has a slow tempo. The music evokes sadness in the listener.\n",
      "Response does not contain required substring for attribute: I1_1, response: This song has a very calming beat. The music features guitar and drums. The song begins dark and eventually brightens up.\n",
      "Response does not contain required substring for attribute: I1_0, response: The song starts off bright but then turns dark. This song has a very calming beat. The song doesn't include guitar and drums. This song maintains a bright feeling from start to finish.\n",
      "Response does not contain required substring for attribute: S4_0, response: The song doesn't fit the typical pop style. The song spans around 84 bars. The song has a fast tempo.\n",
      "Response does not contain required substring for attribute: I1_0, response: This song carries a gloomy vibe from beginning to end. The song doesn't include guitar and drums. The beat of this song is moderate. The song spans around 94 bars.\n",
      "Response does not contain required substring for attribute: S2_0, response: The song doesn't match Beyonce's usual sound. The song uses an uncommon time signature. This music isn't suited for dancing.\n",
      "Response does not contain required substring for attribute: S4_0, response: The song uses an uncommon time signature. The song doesn't fit the typical rock style. This song has a very calming beat. Its pitch range covers 5 octaves.\n",
      "Response does not contain required substring for attribute: I1_0, response: The song doesn't include guitar and drums. The song has a moderate tempo. This music is perfect for dancing. The song starts off bright but then turns dark.\n",
      "Response does not contain required substring for attribute: EM1_1, response: The music evokes excitement in the listener. The song doesn't match Beyonce's usual sound. The song has a moderate tempo. The song starts off bright but then turns dark. The song begins dark and eventually brightens up.\n",
      "Response does not contain required substring for attribute: I1_1, response: The beat of this song is moderate. This song has a very calming beat. The music features guitar and drums. The song has a moderate tempo. The song starts off bright but then turns dark.\n",
      "Response does not contain required substring for attribute: S2_1, response: The song starts off bright but then turns dark. The music resembles the style of Beyonce. The music evokes sadness in the listener.\n",
      "Response does not contain required substring for attribute: I1_1, response: The beat of this song is very strong. The song uses an uncommon time signature. The music features guitar and drums. The song doesn't include guitar and drums.\n",
      "Response does not contain required substring for attribute: S4_0, response: This music is perfect for dancing. This music is composed in the key of C major. This music isn't suited for dancing. This song maintains a bright feeling from start to finish. The song doesn't fit the typical rock style.\n",
      "Response does not contain required substring for attribute: S2_1, response: The music resembles the style of Mozart. The beat of this song is moderate. Its pitch range covers 3 octaves. The music features guitar and drums. The song falls under the rock genre.\n",
      "Response does not contain required substring for attribute: S4_0, response: The song has a moderate tempo. The song spans around 84 bars. The song doesn't fit the typical classical style. The song uses an uncommon time signature. This song maintains a bright feeling from start to finish.\n",
      "Response does not contain required substring for attribute: S2_1, response: The music resembles the style of The Beatles. The song falls under the pop genre. The song doesn't include guitar and drums. The song has a fast tempo.\n",
      "Response does not contain required substring for attribute: S4_0, response: The song uses an uncommon time signature. The song doesn't fit the typical jazz style. This music is perfect for dancing.\n",
      "Response does not contain required substring for attribute: S2_1, response: The music resembles the style of The Beatles. The music features guitar and drums. The song begins dark and eventually brightens up.\n",
      "Response does not contain required substring for attribute: I1_1, response: The music features guitar and drums. This song carries a gloomy vibe from beginning to end. The song has a slow tempo.\n",
      "Response does not contain required substring for attribute: S2_0, response: This music is composed in the key of G major. The song doesn't match Mozart's usual sound. The song uses an uncommon time signature. The song starts off bright but then turns dark.\n",
      "Response does not contain required substring for attribute: I1_0, response: The beat of this song is very strong. This music is composed in the key of A minor. The song doesn't include guitar and drums. This song lasts for 229 seconds.\n",
      "Response does not contain required substring for attribute: I1_0, response: This song maintains a bright feeling from start to finish. This music isn't suited for dancing. The song begins dark and eventually brightens up. The song doesn't include guitar and drums. The song uses an uncommon time signature.\n",
      "Response does not contain required substring for attribute: I1_1, response: The music features guitar and drums. The music evokes excitement in the listener. The song has a fast tempo.\n",
      "Response does not contain required substring for attribute: S4_0, response: The song doesn't fit the typical rock style. The song uses an uncommon time signature. The music is in 3/4 time signature.\n",
      "Response does not contain required substring for attribute: S2_1, response: The music resembles the style of Mozart. This music is composed in the key of C major. This song lasts for 241 seconds. This song has a very calming beat. This music isn't suited for dancing.\n",
      "Response does not contain required substring for attribute: I1_0, response: The song begins dark and eventually brightens up. The song has a moderate tempo. The song doesn't include guitar and drums.\n",
      "Response does not contain required substring for attribute: EM1_1, response: This song lasts for 271 seconds. The song uses an uncommon time signature. The beat of this song is very strong. The music evokes sadness in the listener.\n",
      "Response does not contain required substring for attribute: S2_0, response: This song maintains a bright feeling from start to finish. The song has a slow tempo. The song doesn't match The Beatles's usual sound. The music features guitar and drums. The beat of this song is moderate.\n",
      "Response does not contain required substring for attribute: S2_0, response: This song maintains a bright feeling from start to finish. The song doesn't match The Beatles's usual sound. Its pitch range covers 3 octaves. This song lasts for 170 seconds.\n",
      "Response does not contain required substring for attribute: I1_1, response: The music features guitar and drums. This song carries a gloomy vibe from beginning to end. The song falls under the pop genre.\n",
      "Response does not contain required substring for attribute: S2_0, response: The song doesn't match The Beatles's usual sound. This music is composed in the key of A minor. The music resembles the style of The Beatles.\n",
      "Response does not contain required substring for attribute: I1_1, response: The song falls under the rock genre. The music features guitar and drums. The song begins dark and eventually brightens up. The beat of this song is moderate.\n",
      "Response does not contain required substring for attribute: S2_0, response: This music isn't suited for dancing. The song doesn't match Beyonce's usual sound. The song has a moderate tempo. This song has a very calming beat. The song doesn't include guitar and drums.\n",
      "Response does not contain required substring for attribute: EM1_1, response: This song carries a gloomy vibe from beginning to end. Its pitch range covers 2 octaves. The music evokes happiness in the listener. This song lasts for 174 seconds.\n",
      "Response does not contain required substring for attribute: I1_0, response: The song starts off bright but then turns dark. The beat of this song is moderate. The song doesn't include guitar and drums. The song doesn't fit the typical rock style.\n",
      "Response does not contain required substring for attribute: S2_1, response: The song doesn't fit the typical pop style. The music resembles the style of Beyonce. The beat of this song is moderate. The song falls under the pop genre. This music is perfect for dancing.\n",
      "Response does not contain required substring for attribute: I1_1, response: The music features guitar and drums. The song falls under the rock genre. This song lasts for 144 seconds. This song has a very calming beat.\n",
      "Response does not contain required substring for attribute: I1_0, response: The song starts off bright but then turns dark. The song doesn't include guitar and drums. The song has a moderate tempo.\n"
     ]
    }
   ],
   "source": [
    "acceptable_templates_file_path = f\"{verified_data_dir}/musecoco_x_gpt_acceptable_templates_en.json\"\n",
    "ignored_templates_file_path = f\"{verified_data_dir}/musecoco_x_gpt_ignored_templates_en.json\"\n",
    "\n",
    "filtered_gpt_refined_templates = filter_acceptable_gpt_refined_templates(gpt_refined_template)"
   ]
  },
  {
   "cell_type": "code",
   "execution_count": 14,
   "metadata": {},
   "outputs": [
    {
     "name": "stdout",
     "output_type": "stream",
     "text": [
      "Accept 15934 templates\n",
      "Ignore 222 templates\n"
     ]
    }
   ],
   "source": [
    "acceptable_templates = filtered_gpt_refined_templates[\"acceptable_templates\"]\n",
    "print(f\"Accept {len(acceptable_templates)} templates\")\n",
    "\n",
    "ignored_templates = filtered_gpt_refined_templates[\"ignored_templates\"]\n",
    "print(f\"Ignore {len(ignored_templates)} templates\")"
   ]
  },
  {
   "cell_type": "code",
   "execution_count": 15,
   "metadata": {},
   "outputs": [
    {
     "name": "stdout",
     "output_type": "stream",
     "text": [
      "Total templates: 16156\n",
      "Total acceptable templates with unique responses:  14932\n"
     ]
    }
   ],
   "source": [
    "acceptable_templates_with_unique_responses: list = []\n",
    "\n",
    "already_existing_responses: set = set()\n",
    "\n",
    "for acceptable_template in acceptable_templates:\n",
    "    response = acceptable_template[\"response\"]\n",
    "\n",
    "    if response not in already_existing_responses:\n",
    "        already_existing_responses.add(response)\n",
    "\n",
    "        acceptable_templates_with_unique_responses.append(acceptable_template)\n",
    "\n",
    "acceptable_templates = acceptable_templates_with_unique_responses\n",
    "\n",
    "print(f\"Total templates: {len(gpt_refined_template)}\")\n",
    "print(\"Total acceptable templates with unique responses: \", len(acceptable_templates))"
   ]
  },
  {
   "cell_type": "code",
   "execution_count": 16,
   "metadata": {},
   "outputs": [
    {
     "name": "stdout",
     "output_type": "stream",
     "text": [
      "All acceptable templates: 14932\n",
      "File path: /Users/4rr311/Documents/VectorA/KHTN/Nam4/HKII/Thesis/Brainstorming/Text/text_lib/Ideas/augmentation/data/verified/musecoco_x_gpt_acceptable_templates_en.json\n"
     ]
    }
   ],
   "source": [
    "with open(acceptable_templates_file_path, \"w\") as f:\n",
    "    json.dump(acceptable_templates, f, indent=4)\n",
    "\n",
    "print(f\"All acceptable templates: {len(acceptable_templates)}\")\n",
    "\n",
    "print(f\"File path: {acceptable_templates_file_path}\")"
   ]
  },
  {
   "cell_type": "code",
   "execution_count": 17,
   "metadata": {},
   "outputs": [
    {
     "name": "stdout",
     "output_type": "stream",
     "text": [
      "Ignored templates (except duplicated): 222\n",
      "File path: /Users/4rr311/Documents/VectorA/KHTN/Nam4/HKII/Thesis/Brainstorming/Text/text_lib/Ideas/augmentation/data/verified/musecoco_x_gpt_ignored_templates_en.json\n"
     ]
    }
   ],
   "source": [
    "\n",
    "with open(ignored_templates_file_path, \"w\") as f:\n",
    "    json.dump(ignored_templates, f, indent=4)\n",
    "\n",
    "print(f\"Ignored templates (except duplicated): {len(ignored_templates)}\")\n",
    "\n",
    "print(f\"File path: {ignored_templates_file_path}\")"
   ]
  }
 ],
 "metadata": {
  "kernelspec": {
   "display_name": "Python 3",
   "language": "python",
   "name": "python3"
  },
  "language_info": {
   "codemirror_mode": {
    "name": "ipython",
    "version": 3
   },
   "file_extension": ".py",
   "mimetype": "text/x-python",
   "name": "python",
   "nbconvert_exporter": "python",
   "pygments_lexer": "ipython3",
   "version": "3.10.10"
  }
 },
 "nbformat": 4,
 "nbformat_minor": 2
}
