{
 "cells": [
  {
   "cell_type": "code",
   "execution_count": 1,
   "metadata": {},
   "outputs": [],
   "source": [
    "json_song_musecoco_lines_paths = [\n",
    "    \"/Users/4rr311/Documents/VectorA/KHTN/Nam4/HKII/Thesis/Brainstorming/MIDI/Ideas/data/json_song_musecoco_lines_1.txt\",\n",
    "    \"/Users/4rr311/Documents/VectorA/KHTN/Nam4/HKII/Thesis/Brainstorming/MIDI/Ideas/data/json_song_musecoco_lines_2.txt\",\n",
    "    # \"/Users/4rr311/Documents/VectorA/KHTN/Nam4/HKII/Thesis/Brainstorming/MIDI/Ideas/data/train.txt\"\n",
    "    \"/Users/4rr311/Documents/VectorA/KHTN/Nam4/HKII/Thesis/Brainstorming/DebugOnlineSource/musecoco/muzic/musecoco/2-attribute2music_model/data/truncated_2560/train.txt\",\n",
    "    \"/Users/4rr311/Documents/VectorA/KHTN/Nam4/HKII/Thesis/Brainstorming/DebugOnlineSource/musecoco/muzic/musecoco/2-attribute2music_model/data/truncated_2560/valid.txt\",\n",
    "    \"/Users/4rr311/Documents/VectorA/KHTN/Nam4/HKII/Thesis/Brainstorming/DebugOnlineSource/musecoco/muzic/musecoco/2-attribute2music_model/data/truncated_2560/test.txt\"\n",
    "]"
   ]
  },
  {
   "cell_type": "code",
   "execution_count": 2,
   "metadata": {},
   "outputs": [
    {
     "name": "stdout",
     "output_type": "stream",
     "text": [
      "/Users/4rr311/Documents/VectorA/KHTN/Nam4/HKII/Thesis/Brainstorming/MIDI/Ideas/data/json_song_musecoco_lines_1.txt\n",
      "/Users/4rr311/Documents/VectorA/KHTN/Nam4/HKII/Thesis/Brainstorming/MIDI/Ideas/data/json_song_musecoco_lines_2.txt\n",
      "/Users/4rr311/Documents/VectorA/KHTN/Nam4/HKII/Thesis/Brainstorming/DebugOnlineSource/musecoco/muzic/musecoco/2-attribute2music_model/data/truncated_2560/train.txt\n",
      "/Users/4rr311/Documents/VectorA/KHTN/Nam4/HKII/Thesis/Brainstorming/DebugOnlineSource/musecoco/muzic/musecoco/2-attribute2music_model/data/truncated_2560/valid.txt\n",
      "/Users/4rr311/Documents/VectorA/KHTN/Nam4/HKII/Thesis/Brainstorming/DebugOnlineSource/musecoco/muzic/musecoco/2-attribute2music_model/data/truncated_2560/test.txt\n"
     ]
    }
   ],
   "source": [
    "for file_path in json_song_musecoco_lines_paths:    \n",
    "    print(file_path)"
   ]
  },
  {
   "cell_type": "code",
   "execution_count": 3,
   "metadata": {},
   "outputs": [],
   "source": [
    "# {key: set([next_key1, next_key2, ...])}\n",
    "next_acceptable_keys: dict = dict()"
   ]
  },
  {
   "cell_type": "code",
   "execution_count": 4,
   "metadata": {},
   "outputs": [
    {
     "name": "stdout",
     "output_type": "stream",
     "text": [
      "PROCESSING /Users/4rr311/Documents/VectorA/KHTN/Nam4/HKII/Thesis/Brainstorming/MIDI/Ideas/data/json_song_musecoco_lines_1.txt\n",
      "PROCESSING line number 0\n",
      "PROCESSING line number 500\n",
      "PROCESSING line number 1000\n",
      "PROCESSING line number 1500\n",
      "PROCESSING line number 2000\n",
      "PROCESSING line number 2500\n",
      "PROCESSING line number 3000\n",
      "PROCESSING line number 3500\n",
      "PROCESSING line number 4000\n",
      "PROCESSING line number 4500\n",
      "PROCESSING line number 5000\n",
      "PROCESSING line number 5500\n",
      "PROCESSING line number 6000\n",
      "PROCESSING line number 6500\n",
      "PROCESSING line number 7000\n",
      "PROCESSING line number 7500\n",
      "PROCESSING line number 8000\n",
      "PROCESSING line number 8500\n",
      "PROCESSING line number 9000\n",
      "PROCESSING line number 9500\n",
      "PROCESSING line number 10000\n",
      "PROCESSING line number 10500\n",
      "PROCESSING line number 11000\n",
      "PROCESSING line number 11500\n",
      "PROCESSING line number 12000\n",
      "PROCESSING line number 12500\n",
      "PROCESSING line number 13000\n",
      "PROCESSING line number 13500\n",
      "PROCESSING line number 14000\n",
      "PROCESSING line number 14500\n",
      "PROCESSING /Users/4rr311/Documents/VectorA/KHTN/Nam4/HKII/Thesis/Brainstorming/MIDI/Ideas/data/json_song_musecoco_lines_2.txt\n",
      "PROCESSING line number 15000\n",
      "PROCESSING line number 15500\n",
      "PROCESSING line number 16000\n",
      "PROCESSING line number 16500\n",
      "PROCESSING line number 17000\n",
      "PROCESSING line number 17500\n",
      "PROCESSING line number 18000\n",
      "PROCESSING line number 18500\n",
      "PROCESSING line number 19000\n",
      "PROCESSING line number 19500\n",
      "PROCESSING line number 20000\n",
      "PROCESSING line number 20500\n",
      "PROCESSING line number 21000\n",
      "PROCESSING line number 21500\n",
      "PROCESSING line number 22000\n",
      "PROCESSING line number 22500\n",
      "PROCESSING line number 23000\n",
      "PROCESSING line number 23500\n",
      "PROCESSING line number 24000\n",
      "PROCESSING line number 24500\n",
      "PROCESSING line number 25000\n",
      "PROCESSING line number 25500\n",
      "PROCESSING line number 26000\n",
      "PROCESSING line number 26500\n",
      "PROCESSING line number 27000\n",
      "PROCESSING line number 27500\n",
      "PROCESSING line number 28000\n",
      "PROCESSING line number 28500\n",
      "PROCESSING line number 29000\n",
      "PROCESSING /Users/4rr311/Documents/VectorA/KHTN/Nam4/HKII/Thesis/Brainstorming/DebugOnlineSource/musecoco/muzic/musecoco/2-attribute2music_model/data/truncated_2560/train.txt\n",
      "PROCESSING /Users/4rr311/Documents/VectorA/KHTN/Nam4/HKII/Thesis/Brainstorming/DebugOnlineSource/musecoco/muzic/musecoco/2-attribute2music_model/data/truncated_2560/valid.txt\n",
      "PROCESSING /Users/4rr311/Documents/VectorA/KHTN/Nam4/HKII/Thesis/Brainstorming/DebugOnlineSource/musecoco/muzic/musecoco/2-attribute2music_model/data/truncated_2560/test.txt\n"
     ]
    }
   ],
   "source": [
    "current_line = 0\n",
    "\n",
    "for file_path in json_song_musecoco_lines_paths:\n",
    "    print(f\"PROCESSING {file_path}\")\n",
    "\n",
    "    with open(file_path, \"r\") as f:\n",
    "        json_song_musecoco_lines = f.readlines()\n",
    "    \n",
    "    for line in json_song_musecoco_lines:\n",
    "        if current_line % 500 == 0:\n",
    "            print(f\"PROCESSING line number {current_line}\")\n",
    "        else:\n",
    "            pass\n",
    "\n",
    "        line = line.strip()\n",
    "            \n",
    "        tokens = line.split(\" \")\n",
    "        tokens = list(filter(lambda x: \"-\" in x, tokens))\n",
    "        tokens = list(map(lambda x: tuple([x.split(\"-\")[0], int(x.split(\"-\")[1])]), tokens))\n",
    "\n",
    "        for i in range(len(tokens) - 1):\n",
    "            key = tokens[i][0]\n",
    "            next_key = tokens[i + 1][0]\n",
    "\n",
    "            if key not in next_acceptable_keys:\n",
    "                next_acceptable_keys[key] = set()\n",
    "            else:\n",
    "                pass\n",
    "\n",
    "            next_acceptable_keys[key].add(next_key)\n",
    "\n",
    "        current_line += 1\n"
   ]
  },
  {
   "cell_type": "code",
   "execution_count": 5,
   "metadata": {},
   "outputs": [],
   "source": [
    "# old_next_acceptable_keys = {'s': ['b', 'o'], 'o': ['t'], 't': ['i'], 'i': ['p'], 'p': ['d'], 'd': ['v'], 'v': ['i', 'b', 'p', 'o'], 'b': ['s']}"
   ]
  },
  {
   "cell_type": "code",
   "execution_count": 6,
   "metadata": {},
   "outputs": [
    {
     "name": "stdout",
     "output_type": "stream",
     "text": [
      "{'s': ['o', 'b'], 'o': ['t'], 't': ['i'], 'i': ['p'], 'p': ['d'], 'd': ['v'], 'v': ['i', 'p', 'o', 'b'], 'b': ['s']}\n"
     ]
    }
   ],
   "source": [
    "next_acceptable_keys: dict = {k: list(v) for k, v in next_acceptable_keys.items()}\n",
    "\n",
    "print(next_acceptable_keys)"
   ]
  }
 ],
 "metadata": {
  "kernelspec": {
   "display_name": "Python 3",
   "language": "python",
   "name": "python3"
  },
  "language_info": {
   "codemirror_mode": {
    "name": "ipython",
    "version": 3
   },
   "file_extension": ".py",
   "mimetype": "text/x-python",
   "name": "python",
   "nbconvert_exporter": "python",
   "pygments_lexer": "ipython3",
   "version": "3.10.10"
  }
 },
 "nbformat": 4,
 "nbformat_minor": 2
}
