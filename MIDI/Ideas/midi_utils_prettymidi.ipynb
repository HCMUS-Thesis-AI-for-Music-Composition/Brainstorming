{
 "cells": [
  {
   "cell_type": "code",
   "execution_count": 21,
   "metadata": {},
   "outputs": [
    {
     "name": "stdout",
     "output_type": "stream",
     "text": [
      "Requirement already satisfied: pretty_midi==0.2.10 in /Library/Frameworks/Python.framework/Versions/3.10/lib/python3.10/site-packages (0.2.10)\n",
      "Requirement already satisfied: numpy>=1.7.0 in /Library/Frameworks/Python.framework/Versions/3.10/lib/python3.10/site-packages (from pretty_midi==0.2.10) (1.24.2)\n",
      "Requirement already satisfied: mido>=1.1.16 in /Library/Frameworks/Python.framework/Versions/3.10/lib/python3.10/site-packages (from pretty_midi==0.2.10) (1.3.0)\n",
      "Requirement already satisfied: six in /Users/4rr311/Library/Python/3.10/lib/python/site-packages (from pretty_midi==0.2.10) (1.16.0)\n",
      "Requirement already satisfied: packaging~=23.1 in /Library/Frameworks/Python.framework/Versions/3.10/lib/python3.10/site-packages (from mido>=1.1.16->pretty_midi==0.2.10) (23.2)\n"
     ]
    }
   ],
   "source": [
    "!pip install pretty_midi==0.2.10"
   ]
  },
  {
   "cell_type": "code",
   "execution_count": 22,
   "metadata": {},
   "outputs": [],
   "source": [
    "import pretty_midi\n",
    "\n",
    "import json"
   ]
  },
  {
   "cell_type": "code",
   "execution_count": 23,
   "metadata": {},
   "outputs": [],
   "source": [
    "def read_midi_file(file_path):\n",
    "    try:\n",
    "        midi_data = pretty_midi.PrettyMIDI(file_path)\n",
    "        return midi_data\n",
    "    except Exception as e:\n",
    "        print(\"Error:\", e)\n",
    "        return None\n",
    "\n",
    "def create_midi_file(midi_data, output_file):\n",
    "    try:\n",
    "        midi_data.write(output_file)\n",
    "        print(\"MIDI file saved successfully.\")\n",
    "    except Exception as e:\n",
    "        print(\"Error saving MIDI file:\", e)"
   ]
  },
  {
   "cell_type": "code",
   "execution_count": 24,
   "metadata": {},
   "outputs": [
    {
     "name": "stdout",
     "output_type": "stream",
     "text": [
      "<pretty_midi.pretty_midi.PrettyMIDI object at 0x10e95fc40>\n"
     ]
    }
   ],
   "source": [
    "# Sử dụng hàm để đọc file MIDI\n",
    "midi_data = read_midi_file('/Users/4rr311/Documents/VectorA/KHTN/Nam4/HKII/Thesis/Brainstorming/MIDI/data_for_testing/Stickz - Sentio Synth Loop 001 - 90BPM Amin - MIDI.mid')\n",
    "\n",
    "print(midi_data)"
   ]
  },
  {
   "cell_type": "code",
   "execution_count": 25,
   "metadata": {},
   "outputs": [],
   "source": [
    "import pretty_midi\n",
    "\n",
    "def midi_data_to_dict(midi_data):\n",
    "    midi_dict = {\n",
    "        'tempo_changes': [],\n",
    "        'key_signature_changes': [],\n",
    "        'time_signature_changes': [],\n",
    "        'instruments': []\n",
    "    }\n",
    "\n",
    "    # Lấy thông tin về các thay đổi tempo\n",
    "    for tempo_change in midi_data.get_tempo_changes():\n",
    "        print(tempo_change)\n",
    "        midi_dict['tempo_changes'].append({\n",
    "            'time': tempo_change[0],\n",
    "            'tempo': tempo_change[1]\n",
    "        })\n",
    "\n",
    "    # Lấy thông tin về các thay đổi chữ ký âm\n",
    "    for key_signature_change in midi_data.key_signature_changes:\n",
    "        midi_dict['key_signature_changes'].append({\n",
    "            'time': key_signature_change.time,\n",
    "            'key_number': key_signature_change.key_number,\n",
    "            'scale': key_signature_change.scale\n",
    "        })\n",
    "\n",
    "    # Lấy thông tin về các thay đổi dấu thời gian\n",
    "    for time_signature_change in midi_data.time_signature_changes:\n",
    "        midi_dict['time_signature_changes'].append({\n",
    "            'time': time_signature_change.time,\n",
    "            'numerator': time_signature_change.numerator,\n",
    "            'denominator': time_signature_change.denominator\n",
    "        })\n",
    "\n",
    "    # Lấy thông tin về các nhạc cụ và các nốt trong từng nhạc cụ\n",
    "    for instrument in midi_data.instruments:\n",
    "        instrument_info = {\n",
    "            'name': instrument.name,\n",
    "            'program': instrument.program,\n",
    "            'notes': []\n",
    "        }\n",
    "        for note in instrument.notes:\n",
    "            instrument_info['notes'].append({\n",
    "                'start': note.start,\n",
    "                'end': note.end,\n",
    "                'pitch': note.pitch,\n",
    "                'velocity': note.velocity\n",
    "            })\n",
    "        midi_dict['instruments'].append(instrument_info)\n",
    "\n",
    "    return midi_dict\n",
    "\n",
    "def dict_to_midi_data(midi_dict):\n",
    "    # Tạo đối tượng PrettyMIDI mới\n",
    "    midi_data = pretty_midi.PrettyMIDI()\n",
    "\n",
    "    # Thêm thông tin tempo từ dictionary vào PrettyMIDI object\n",
    "    for tempo_change in midi_dict['tempo_changes']:\n",
    "        midi_data.add_tempo(tempo_change['time'], tempo_change['tempo'])\n",
    "\n",
    "    # Thêm thông tin key signature từ dictionary vào PrettyMIDI object\n",
    "    for key_signature_change in midi_dict['key_signature_changes']:\n",
    "        midi_data.key_signature_changes.append(pretty_midi.KeySignature(\n",
    "            key_number=key_signature_change['key_number'],\n",
    "            time=key_signature_change['time'],\n",
    "            scale=key_signature_change['scale']\n",
    "        ))\n",
    "\n",
    "    # Thêm thông tin time signature từ dictionary vào PrettyMIDI object\n",
    "    for time_signature_change in midi_dict['time_signature_changes']:\n",
    "        midi_data.time_signature_changes.append(pretty_midi.TimeSignature(\n",
    "            numerator=time_signature_change['numerator'],\n",
    "            denominator=time_signature_change['denominator'],\n",
    "            time=time_signature_change['time']\n",
    "        ))\n",
    "\n",
    "    # Thêm thông tin về các nhạc cụ và nốt nhạc từ dictionary vào PrettyMIDI object\n",
    "    for instrument_info in midi_dict['instruments']:\n",
    "        instrument = pretty_midi.Instrument(program=instrument_info['program'], name=instrument_info['name'])\n",
    "        for note_info in instrument_info['notes']:\n",
    "            note = pretty_midi.Note(start=note_info['start'], end=note_info['end'],\n",
    "                                    pitch=note_info['pitch'], velocity=note_info['velocity'])\n",
    "            instrument.notes.append(note)\n",
    "        midi_data.instruments.append(instrument)\n",
    "\n",
    "    return midi_data"
   ]
  },
  {
   "cell_type": "code",
   "execution_count": 26,
   "metadata": {},
   "outputs": [
    {
     "name": "stdout",
     "output_type": "stream",
     "text": [
      "[0.]\n"
     ]
    },
    {
     "ename": "IndexError",
     "evalue": "index 1 is out of bounds for axis 0 with size 1",
     "output_type": "error",
     "traceback": [
      "\u001b[0;31m---------------------------------------------------------------------------\u001b[0m",
      "\u001b[0;31mIndexError\u001b[0m                                Traceback (most recent call last)",
      "Cell \u001b[0;32mIn[26], line 2\u001b[0m\n\u001b[1;32m      1\u001b[0m \u001b[38;5;66;03m# Chuyển đổi từ MIDI data sang dictionary\u001b[39;00m\n\u001b[0;32m----> 2\u001b[0m midi_dict \u001b[38;5;241m=\u001b[39m \u001b[43mmidi_data_to_dict\u001b[49m\u001b[43m(\u001b[49m\u001b[43mmidi_data\u001b[49m\u001b[43m)\u001b[49m\n\u001b[1;32m      4\u001b[0m \u001b[38;5;28mprint\u001b[39m(json\u001b[38;5;241m.\u001b[39mdumps(midi_dict, indent\u001b[38;5;241m=\u001b[39m\u001b[38;5;241m4\u001b[39m))\n",
      "Cell \u001b[0;32mIn[25], line 16\u001b[0m, in \u001b[0;36mmidi_data_to_dict\u001b[0;34m(midi_data)\u001b[0m\n\u001b[1;32m     12\u001b[0m \u001b[38;5;28;01mfor\u001b[39;00m tempo_change \u001b[38;5;129;01min\u001b[39;00m midi_data\u001b[38;5;241m.\u001b[39mget_tempo_changes():\n\u001b[1;32m     13\u001b[0m     \u001b[38;5;28mprint\u001b[39m(tempo_change)\n\u001b[1;32m     14\u001b[0m     midi_dict[\u001b[38;5;124m'\u001b[39m\u001b[38;5;124mtempo_changes\u001b[39m\u001b[38;5;124m'\u001b[39m]\u001b[38;5;241m.\u001b[39mappend({\n\u001b[1;32m     15\u001b[0m         \u001b[38;5;124m'\u001b[39m\u001b[38;5;124mtime\u001b[39m\u001b[38;5;124m'\u001b[39m: tempo_change[\u001b[38;5;241m0\u001b[39m],\n\u001b[0;32m---> 16\u001b[0m         \u001b[38;5;124m'\u001b[39m\u001b[38;5;124mtempo\u001b[39m\u001b[38;5;124m'\u001b[39m: \u001b[43mtempo_change\u001b[49m\u001b[43m[\u001b[49m\u001b[38;5;241;43m1\u001b[39;49m\u001b[43m]\u001b[49m\n\u001b[1;32m     17\u001b[0m     })\n\u001b[1;32m     19\u001b[0m \u001b[38;5;66;03m# Lấy thông tin về các thay đổi chữ ký âm\u001b[39;00m\n\u001b[1;32m     20\u001b[0m \u001b[38;5;28;01mfor\u001b[39;00m key_signature_change \u001b[38;5;129;01min\u001b[39;00m midi_data\u001b[38;5;241m.\u001b[39mkey_signature_changes:\n",
      "\u001b[0;31mIndexError\u001b[0m: index 1 is out of bounds for axis 0 with size 1"
     ]
    }
   ],
   "source": [
    "# Chuyển đổi từ MIDI data sang dictionary\n",
    "midi_dict = midi_data_to_dict(midi_data)\n",
    "\n",
    "print(json.dumps(midi_dict, indent=4))"
   ]
  },
  {
   "cell_type": "code",
   "execution_count": null,
   "metadata": {},
   "outputs": [
    {
     "name": "stdout",
     "output_type": "stream",
     "text": [
      "MIDI file saved successfully.\n"
     ]
    }
   ],
   "source": [
    "# Chuyển đổi từ dictionary sang MIDI data\n",
    "new_midi_data = dict_to_midi_data(midi_dict)\n",
    "\n",
    "# Sử dụng hàm để ghi file MIDI\n",
    "create_midi_file(new_midi_data, '/Users/4rr311/Documents/VectorA/KHTN/Nam4/HKII/Thesis/Brainstorming/MIDI/data_for_testing/output/2way - prettymidi - Stickz - Sentio Synth Loop 001 - 90BPM Amin - MIDI.mid')"
   ]
  },
  {
   "cell_type": "code",
   "execution_count": null,
   "metadata": {},
   "outputs": [
    {
     "name": "stdout",
     "output_type": "stream",
     "text": [
      "MIDI file saved successfully.\n"
     ]
    }
   ],
   "source": [
    "# Sử dụng hàm để ghi file MIDI\n",
    "create_midi_file(midi_data, '/Users/4rr311/Documents/VectorA/KHTN/Nam4/HKII/Thesis/Brainstorming/MIDI/data_for_testing/output/prettymidi - Stickz - Sentio Synth Loop 001 - 90BPM Amin - MIDI.mid')"
   ]
  }
 ],
 "metadata": {
  "kernelspec": {
   "display_name": "Python 3",
   "language": "python",
   "name": "python3"
  },
  "language_info": {
   "codemirror_mode": {
    "name": "ipython",
    "version": 3
   },
   "file_extension": ".py",
   "mimetype": "text/x-python",
   "name": "python",
   "nbconvert_exporter": "python",
   "pygments_lexer": "ipython3",
   "version": "3.10.10"
  }
 },
 "nbformat": 4,
 "nbformat_minor": 2
}
