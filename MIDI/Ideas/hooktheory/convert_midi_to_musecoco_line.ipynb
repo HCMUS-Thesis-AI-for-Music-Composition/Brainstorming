{
 "cells": [
  {
   "cell_type": "code",
   "execution_count": null,
   "metadata": {},
   "outputs": [],
   "source": [
    "midi_path = \"/Users/4rr311/Documents/VectorA/KHTN/Nam4/HKII/Thesis/Brainstorming/DataCrawling/ProcessedData/midi_from_json_songs\"\n",
    "musecoco_line_path = \"/Users/4rr311/Documents/VectorA/KHTN/Nam4/HKII/Thesis/Brainstorming/DataCrawling/ProcessedData/musecoco_lines\""
   ]
  },
  {
   "cell_type": "code",
   "execution_count": null,
   "metadata": {},
   "outputs": [],
   "source": [
    "midi_lib_path = \"/Users/4rr311/Documents/VectorA/KHTN/Nam4/HKII/Thesis/Brainstorming/MIDI/midi_lib\""
   ]
  },
  {
   "cell_type": "code",
   "execution_count": null,
   "metadata": {},
   "outputs": [],
   "source": [
    "import os\n",
    "import sys\n",
    "sys.path.append(midi_lib_path)\n",
    "\n",
    "from converter.musecoco_line_to_musecoco_line_string import musecoco_line_to_musecoco_line_string_converter\n",
    "from converter.midi_file_object_to_midi_dto import midi_file_object_to_midi_dto_converter\n",
    "from converter.midi_dto_to_musecoco_line import midi_dto_to_musecoco_line_converter\n",
    "from musecoco_original_libs.vocab_manager import VocabManager\n",
    "\n",
    "import midi_file_utils as mfu"
   ]
  },
  {
   "cell_type": "code",
   "execution_count": null,
   "metadata": {},
   "outputs": [],
   "source": [
    "# List all .mid files in the directory\n",
    "midi_files = [f for f in os.listdir(midi_path) if f.endswith('.mid')]\n",
    "\n",
    "n_midi_file = len(midi_files)\n",
    "\n",
    "print(n_midi_file)"
   ]
  },
  {
   "cell_type": "code",
   "execution_count": null,
   "metadata": {},
   "outputs": [],
   "source": [
    "musecoco_lines = []\n",
    "\n",
    "current_idx = 0\n",
    "for midi_file in midi_files:\n",
    "    print(f\"Processing {current_idx}/{n_midi_file}\")\n",
    "    \n",
    "    current_idx += 1\n",
    "    \n",
    "    midi_obj = mfu.read_midi_file(os.path.join(midi_path, midi_file))\n",
    "    \n",
    "    midi_dto = midi_file_object_to_midi_dto_converter(midi_obj)\n",
    "    \n",
    "    musecoco_line = midi_dto_to_musecoco_line_converter(\n",
    "        midi_dto,\n",
    "        VocabManager(\n",
    "            pos_resolution=1\n",
    "            # max_ts_denominator_power=vocab_config.max_ts_denominator_power,\n",
    "            # max_notes_per_bar=vocab_config.max_notes_per_bar,\n",
    "            # tempo_quant=vocab_config.tempo_quant,\n",
    "            # min_tempo=vocab_config.min_tempo,\n",
    "            # max_tempo=vocab_config.max_tempo,\n",
    "            # velocity_quant=vocab_config.velocity_quant,\n",
    "            # max_duration=vocab_config.max_duration,\n",
    "            # max_bar_num=vocab_config.max_bar_num\n",
    "        )\n",
    "    )\n",
    "    \n",
    "    musecoco_lines.append(musecoco_line)\n",
    "    print()"
   ]
  },
  {
   "cell_type": "code",
   "execution_count": null,
   "metadata": {},
   "outputs": [],
   "source": [
    "current_idx = 0\n",
    "\n",
    "file_path = f\"{musecoco_line_path}/json_song_musecoco_lines.txt\"\n",
    "\n",
    "min_line_length = 100\n",
    "\n",
    "# Write each element in musecoco_lines as a line in a file\n",
    "with open(file_path, 'w') as f:\n",
    "    for musecoco_line in musecoco_lines:\n",
    "        print(f\"Writing {current_idx}/{n_midi_file}\")\n",
    "\n",
    "        current_idx += 1\n",
    "\n",
    "        musecoco_line = musecoco_line_to_musecoco_line_string_converter(musecoco_line)\n",
    "\n",
    "        if len(musecoco_line) < min_line_length:\n",
    "            print(f\"Line is too short, skipping: {musecoco_line}\")\n",
    "            continue\n",
    "        else:\n",
    "            line_ending = '\\n' if current_idx < n_midi_file else ''\n",
    "\n",
    "            f.write(f\"{musecoco_line}{line_ending}\")\n",
    "\n",
    "            print()\n",
    "\n",
    "print()\n",
    "print(\"-----> DONE\")"
   ]
  }
 ],
 "metadata": {
  "kernelspec": {
   "display_name": "Python 3",
   "language": "python",
   "name": "python3"
  },
  "language_info": {
   "codemirror_mode": {
    "name": "ipython",
    "version": 3
   },
   "file_extension": ".py",
   "mimetype": "text/x-python",
   "name": "python",
   "nbconvert_exporter": "python",
   "pygments_lexer": "ipython3",
   "version": "3.10.10"
  }
 },
 "nbformat": 4,
 "nbformat_minor": 2
}
