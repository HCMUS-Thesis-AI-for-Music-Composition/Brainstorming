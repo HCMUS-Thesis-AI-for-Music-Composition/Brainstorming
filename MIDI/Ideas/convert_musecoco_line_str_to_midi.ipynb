{
 "cells": [
  {
   "cell_type": "code",
   "execution_count": 1,
   "metadata": {},
   "outputs": [],
   "source": [
    "midi_lib_path = \"/Users/4rr311/Documents/VectorA/KHTN/Nam4/HKII/Thesis/Brainstorming/MIDI/midi_lib\"\n",
    "\n",
    "output_dir = \"/Users/4rr311/Documents/VectorA/KHTN/Nam4/HKII/Thesis/Brainstorming/MIDI/Ideas/data/output\""
   ]
  },
  {
   "cell_type": "code",
   "execution_count": 2,
   "metadata": {},
   "outputs": [],
   "source": [
    "import sys\n",
    "\n",
    "sys.path.append(midi_lib_path)"
   ]
  },
  {
   "cell_type": "code",
   "execution_count": 3,
   "metadata": {},
   "outputs": [],
   "source": [
    "from converter.midi_dto_to_midi_file_object import midi_dto_to_midi_file_object_converter\n",
    "from converter.musecoco_line_to_midi_dto import musecoco_line_to_midi_dto_converter\n",
    "\n",
    "from midi_file_utils import write_midi_file"
   ]
  },
  {
   "cell_type": "code",
   "execution_count": 4,
   "metadata": {},
   "outputs": [],
   "source": [
    "model_result_str = \"s-9 o-0 t-35 i-0 p-37 d-17 v-20 p-52 d-6 v-20 o-42 t-35 i-12 v-20 o-12 t-35 i-0 p-55 d-6 v-20 o-6 t-35 i-0 p-71 d-6 v-20 o-24 t-35 o-18 t-35 i-0 p-62 d-6 v-20 p-62 d-6 v-20 p-55 d-6 v-20 p-64 d-6 v-20 p-52 d-18 v-20 o-24 t-35 i-0 p-62 d-6 v-20 o-36 t-35 i-0 p-81 d-11 v-20 p-43 d-6 v-20 o-6 t-35 i-0 p-64 d-11 v-20 o-12 t-35 i-0 p-67 d-6 v-20 o-24 t-35 i-42 p-67 d-12 v-16 o-18 t-35 i-52 p-57 d-15 v-20 o-24 t-35 i-0 p-77 d-6 v-20 p-65 d-6 v-20 b-1 s-9 o-0 t-35 i-42 p-67 d-6 v-20 o-36 t-35 i-0 p-67 d-6 v-20 o-18 t-35 i-0 p-64 d-6 v-20 o-18 t-35 i-0 p-62 d-6 v-20 o-6 t-35 i-0 p-67 d-12 v-20 b-1 s-8 o-0 t-35 i-0 p-69 d-12 v-20 o-6 t-35 i-0 p-67 d-6 v-20 o-12 t-35 p-56 d-12 v-16 p-55 d-6 v-20 b-1 s-9 o-0 t-35 i-0 p-74 d-17 v-20 o-9 t-35 i-0 p-64 d-17 v-20 b-1 s-8 o-0 t-35 i-0 p-67 d-11 v-20 o-12 t-35 i-0 p-76 d-6 v-20 p-57 d-17 v-20 o-36 t-35 i-0 p-59 d-12 v-20 o-6 t-35 i-0 p-79 d-6 v-20 o-18 t-35 i-56 o-12 t-35 i-11 p-43 d-12 v-20 o-24 t-35 i-52 p-45 d-6 v-20 o-6 t-35 i-0 p-59 d-3 v-20 o-12 t-35 i-0 p-76 d-23 v-20 i-60 p-62 d-24 v-20 o-18 t-35 i-0 p-59 d-6 v-20 o-6 t-35 i-0 p-59 d-17 v-20 o-6 t-35 i-0 p-72 d-17 v-20 p-52 d-6 v-20 p-48 d-6 v-20 o-24 t-35 i-0 p-36 d-6 v-20 p-48 d-6 v-20 b-1 s-8 o-0 t-35 i-0 p-64 d-11 v-20 p-43 d-11 v-20 p-48 d-6 v-20 i-60 p-67 d-12 v-20 p-52 d-12 v-20 o-12 t-35 i-0 p-77 d-6 v-20 o-18 t-35 i-0 p-58 d-20 v-20 p-59 d-6 v-20 p-53 d-3 v-20 p-50 d-12 v-20 o-24 t-35 i-0 p-86 d-14 v-20 o-15 t-35 i-0 p-76 d-6 v-20 o-6 t-35 i-0 p-76 d-6 v-20 p-65 d-3 v-20 p-36 d-6 v-20 o-6 t-35 i-0 p-43 d-6 v-20 o-9 t-35 i-0 p-60 d-3 v-20 o-6 t-35 i-0 p-60 d-6 v-20 o-12 t-35 i-0 p-45 d-6 v-20 o-12 t-35 i-0 p-43 d-6 v-20 b-1 s-8 o-0 t-35 i-0 p-77 d-6 v-20 p-36 d-6 v-20 o-6 t-35 i-0 p-59 d-6 v-20 o-24 t-35 i-0 p-74 d-3 v-20 p-52 d-24 v-20 b-1 s-9 o-0 t-35 i-0 p-67 d-17 v-20 o-18 t-35 i-0 p-60 d-3 v-20 o-18 t-35 i-0 p-55 d-17 v-20 p-52 d-6 v-20 o-24 t-35 i-52 p-62 d-6 v-20 o-36 t-35 i-0 p-59 d-11 v-20 i-58 p-48 d-12 v-20 o-24 t-35 i-0 p-74 d-6 v-20 b-1 s-8 o-0 t-35 i-58 p-46 d-12 v-20 o-12 t-35 i-0 p-74 d-6 v-20 o-9 t-35 i-0 p-75 d-3 v-20 o-18 t-35 i-0 p-59 d-12 v-20 p-50 d-17 v-20 p-43 d-6 v-20 b-1 s-8 o-0 t-35 i-0 p-77 d-23 v-20 o-42 t-35 i-0 b-1 s-9 o-0 t-35 i-0 p-79 d-14 v-20 i-60 p-60 d-6 v-20 p-52 d-17 v-20 o-18 t-35 i-0 p-72 d-11 v-20 o-21 t-35 i-0 p-57 d-3 v-20 b-1 s-9 o-0 t-35 i-0 p-72 d-6 v-20 p-36 d-17 v-20 o-6 t-35 i-0 p-52 d-11 v-20 o-9 t-35 i-0 p-60 d-3 v-20 b-1 s-8 o-0 t-35 i-0 p-62 d-15 v-20 p-47 d-17 v-20 i-58 p-41 d-6 v-20 o-6 t-35 i-0 p-59 d-12 v-20 b-1 s-8 o-0 t-35 i-0 p-60 d-6 v-20 o-24 t-35 i-0 p-59 d-6 v-20 o-6 t-35 i-57 p-54 d-3 v-20 p-60 d-6 v-20 o-12 t-35 i-0 p-84 d-1 v-20 p-52 d-17 v-20 o-27 t-35 i-0 p-57 d-6 v-20 o-18 t-35 i-57 p-64 d-6 v-20 o-18 t-35 i-57 p-41 d-12 v-20 p-52 d-12 v-20 b-1 s-9 o-0 t-35 i-11 p-88 d-12 v-20 p-60 d-17 v-20 p-41 d-17 v-20 i-58 p-41 d-6 v-20 o-42 t-35 p-49 d-17 v-20 o-24 t-35 i-0 p-71 d-14 v-20 o-18 t-35 i-0 p-77 d-6 v-20 o-18 t-35 i-0 p-71 d-12 v-20 p-48 d-6 v-20 b-1\""
   ]
  },
  {
   "cell_type": "code",
   "execution_count": 5,
   "metadata": {},
   "outputs": [],
   "source": [
    "# BAR_ABBR = 'b'\n",
    "# POS_ABBR = 'o'\n",
    "# TS_ABBR = 's'\n",
    "# TEMPO_ABBR = 't'\n",
    "# INST_ABBR = 'i'\n",
    "# PITCH_ABBR = 'p'\n",
    "# DURATION_ABBR = 'd'\n",
    "# VELOCITY_ABBR = 'v'\n",
    "# PITCH_NAME_ABBR = 'n'\n",
    "# PITCH_OCTAVE_ABBR = 'c'\n",
    "# FAMILY_ABBR = 'f'\n",
    "# SPECIAL_ABBR = 'e'\n",
    "abbreviations = {\n",
    "    \"b\": \"bar\",\n",
    "    \"o\": \"position\",\n",
    "    \"s\": \"time_signature\",\n",
    "    \"t\": \"tempo\",\n",
    "    \"i\": \"instrument\",\n",
    "    \"p\": \"pitch\",\n",
    "    \"d\": \"duration\",\n",
    "    \"v\": \"velocity\",\n",
    "    \"n\": \"pitch_name\",\n",
    "    \"c\": \"pitch_octave\",\n",
    "    \"f\": \"family\",\n",
    "    \"e\": \"special\"\n",
    "}"
   ]
  },
  {
   "cell_type": "code",
   "execution_count": 6,
   "metadata": {},
   "outputs": [],
   "source": [
    "def midi_number_to_note_name(midi_number):\n",
    "    '''\n",
    "        Convert a midi number to a note name\n",
    "    '''\n",
    "    notes = [\n",
    "        \"C\", \"C#\", \"D\", \"D#\", \"E\", \"F\", \"F#\", \"G\", \"G#\", \"A\", \"A#\", \"B\"\n",
    "    ]\n",
    "\n",
    "    note = notes[midi_number % 12]\n",
    "    octave = midi_number // 12 - 1\n",
    "\n",
    "    return f\"{note}{octave}\""
   ]
  },
  {
   "cell_type": "code",
   "execution_count": 7,
   "metadata": {},
   "outputs": [],
   "source": [
    "def print_key_value_line(key_value_line):\n",
    "    if key_value_line == None or key_value_line == []:\n",
    "        print(\"None or Empty\")\n",
    "        print(key_value_line)\n",
    "        return\n",
    "    \n",
    "    n_space_for_digits = 5\n",
    "\n",
    "    n_letter_per_print_time_for_abbrs = {\n",
    "        x : len(abbreviations[x]) + n_space_for_digits\n",
    "        for x in abbreviations\n",
    "    }\n",
    "\n",
    "    for pair in key_value_line:\n",
    "        key, value = pair\n",
    "\n",
    "        converted_value = None\n",
    "\n",
    "        if abbreviations[key] == 'pitch':\n",
    "            converted_value = int(value)\n",
    "            converted_value = midi_number_to_note_name(int(value))\n",
    "        else:\n",
    "            converted_value = ''\n",
    "\n",
    "        abbr_meaning = abbreviations[key]\n",
    "\n",
    "        pair_str = f\"{abbr_meaning}: {value} {converted_value}\"\n",
    "        end_spaces = ' ' * (n_letter_per_print_time_for_abbrs[key] - len(abbr_meaning) - len(str(value)))\n",
    "\n",
    "        if abbr_meaning in ['position', 'time_signature']:\n",
    "            print()\n",
    "\n",
    "        print(pair_str, end=end_spaces)"
   ]
  },
  {
   "cell_type": "code",
   "execution_count": 8,
   "metadata": {},
   "outputs": [
    {
     "name": "stdout",
     "output_type": "stream",
     "text": [
      "[('s', 9), ('o', 0), ('t', 35), ('i', 0), ('p', 37), ('d', 17), ('v', 20), ('p', 52), ('d', 6), ('v', 20), ('o', 42), ('t', 35), ('i', 12), ('v', 20), ('o', 12), ('t', 35), ('i', 0), ('p', 55), ('d', 6), ('v', 20), ('o', 6), ('t', 35), ('i', 0), ('p', 71), ('d', 6), ('v', 20), ('o', 24), ('t', 35), ('o', 18), ('t', 35), ('i', 0), ('p', 62), ('d', 6), ('v', 20), ('p', 62), ('d', 6), ('v', 20), ('p', 55), ('d', 6), ('v', 20), ('p', 64), ('d', 6), ('v', 20), ('p', 52), ('d', 18), ('v', 20), ('o', 24), ('t', 35), ('i', 0), ('p', 62), ('d', 6), ('v', 20), ('o', 36), ('t', 35), ('i', 0), ('p', 81), ('d', 11), ('v', 20), ('p', 43), ('d', 6), ('v', 20), ('o', 6), ('t', 35), ('i', 0), ('p', 64), ('d', 11), ('v', 20), ('o', 12), ('t', 35), ('i', 0), ('p', 67), ('d', 6), ('v', 20), ('o', 24), ('t', 35), ('i', 42), ('p', 67), ('d', 12), ('v', 16), ('o', 18), ('t', 35), ('i', 52), ('p', 57), ('d', 15), ('v', 20), ('o', 24), ('t', 35), ('i', 0), ('p', 77), ('d', 6), ('v', 20), ('p', 65), ('d', 6), ('v', 20), ('b', 1), ('s', 9), ('o', 0), ('t', 35), ('i', 42), ('p', 67), ('d', 6), ('v', 20), ('o', 36), ('t', 35), ('i', 0), ('p', 67), ('d', 6), ('v', 20), ('o', 18), ('t', 35), ('i', 0), ('p', 64), ('d', 6), ('v', 20), ('o', 18), ('t', 35), ('i', 0), ('p', 62), ('d', 6), ('v', 20), ('o', 6), ('t', 35), ('i', 0), ('p', 67), ('d', 12), ('v', 20), ('b', 1), ('s', 8), ('o', 0), ('t', 35), ('i', 0), ('p', 69), ('d', 12), ('v', 20), ('o', 6), ('t', 35), ('i', 0), ('p', 67), ('d', 6), ('v', 20), ('o', 12), ('t', 35), ('p', 56), ('d', 12), ('v', 16), ('p', 55), ('d', 6), ('v', 20), ('b', 1), ('s', 9), ('o', 0), ('t', 35), ('i', 0), ('p', 74), ('d', 17), ('v', 20), ('o', 9), ('t', 35), ('i', 0), ('p', 64), ('d', 17), ('v', 20), ('b', 1), ('s', 8), ('o', 0), ('t', 35), ('i', 0), ('p', 67), ('d', 11), ('v', 20), ('o', 12), ('t', 35), ('i', 0), ('p', 76), ('d', 6), ('v', 20), ('p', 57), ('d', 17), ('v', 20), ('o', 36), ('t', 35), ('i', 0), ('p', 59), ('d', 12), ('v', 20), ('o', 6), ('t', 35), ('i', 0), ('p', 79), ('d', 6), ('v', 20), ('o', 18), ('t', 35), ('i', 56), ('o', 12), ('t', 35), ('i', 11), ('p', 43), ('d', 12), ('v', 20), ('o', 24), ('t', 35), ('i', 52), ('p', 45), ('d', 6), ('v', 20), ('o', 6), ('t', 35), ('i', 0), ('p', 59), ('d', 3), ('v', 20), ('o', 12), ('t', 35), ('i', 0), ('p', 76), ('d', 23), ('v', 20), ('i', 60), ('p', 62), ('d', 24), ('v', 20), ('o', 18), ('t', 35), ('i', 0), ('p', 59), ('d', 6), ('v', 20), ('o', 6), ('t', 35), ('i', 0), ('p', 59), ('d', 17), ('v', 20), ('o', 6), ('t', 35), ('i', 0), ('p', 72), ('d', 17), ('v', 20), ('p', 52), ('d', 6), ('v', 20), ('p', 48), ('d', 6), ('v', 20), ('o', 24), ('t', 35), ('i', 0), ('p', 36), ('d', 6), ('v', 20), ('p', 48), ('d', 6), ('v', 20), ('b', 1), ('s', 8), ('o', 0), ('t', 35), ('i', 0), ('p', 64), ('d', 11), ('v', 20), ('p', 43), ('d', 11), ('v', 20), ('p', 48), ('d', 6), ('v', 20), ('i', 60), ('p', 67), ('d', 12), ('v', 20), ('p', 52), ('d', 12), ('v', 20), ('o', 12), ('t', 35), ('i', 0), ('p', 77), ('d', 6), ('v', 20), ('o', 18), ('t', 35), ('i', 0), ('p', 58), ('d', 20), ('v', 20), ('p', 59), ('d', 6), ('v', 20), ('p', 53), ('d', 3), ('v', 20), ('p', 50), ('d', 12), ('v', 20), ('o', 24), ('t', 35), ('i', 0), ('p', 86), ('d', 14), ('v', 20), ('o', 15), ('t', 35), ('i', 0), ('p', 76), ('d', 6), ('v', 20), ('o', 6), ('t', 35), ('i', 0), ('p', 76), ('d', 6), ('v', 20), ('p', 65), ('d', 3), ('v', 20), ('p', 36), ('d', 6), ('v', 20), ('o', 6), ('t', 35), ('i', 0), ('p', 43), ('d', 6), ('v', 20), ('o', 9), ('t', 35), ('i', 0), ('p', 60), ('d', 3), ('v', 20), ('o', 6), ('t', 35), ('i', 0), ('p', 60), ('d', 6), ('v', 20), ('o', 12), ('t', 35), ('i', 0), ('p', 45), ('d', 6), ('v', 20), ('o', 12), ('t', 35), ('i', 0), ('p', 43), ('d', 6), ('v', 20), ('b', 1), ('s', 8), ('o', 0), ('t', 35), ('i', 0), ('p', 77), ('d', 6), ('v', 20), ('p', 36), ('d', 6), ('v', 20), ('o', 6), ('t', 35), ('i', 0), ('p', 59), ('d', 6), ('v', 20), ('o', 24), ('t', 35), ('i', 0), ('p', 74), ('d', 3), ('v', 20), ('p', 52), ('d', 24), ('v', 20), ('b', 1), ('s', 9), ('o', 0), ('t', 35), ('i', 0), ('p', 67), ('d', 17), ('v', 20), ('o', 18), ('t', 35), ('i', 0), ('p', 60), ('d', 3), ('v', 20), ('o', 18), ('t', 35), ('i', 0), ('p', 55), ('d', 17), ('v', 20), ('p', 52), ('d', 6), ('v', 20), ('o', 24), ('t', 35), ('i', 52), ('p', 62), ('d', 6), ('v', 20), ('o', 36), ('t', 35), ('i', 0), ('p', 59), ('d', 11), ('v', 20), ('i', 58), ('p', 48), ('d', 12), ('v', 20), ('o', 24), ('t', 35), ('i', 0), ('p', 74), ('d', 6), ('v', 20), ('b', 1), ('s', 8), ('o', 0), ('t', 35), ('i', 58), ('p', 46), ('d', 12), ('v', 20), ('o', 12), ('t', 35), ('i', 0), ('p', 74), ('d', 6), ('v', 20), ('o', 9), ('t', 35), ('i', 0), ('p', 75), ('d', 3), ('v', 20), ('o', 18), ('t', 35), ('i', 0), ('p', 59), ('d', 12), ('v', 20), ('p', 50), ('d', 17), ('v', 20), ('p', 43), ('d', 6), ('v', 20), ('b', 1), ('s', 8), ('o', 0), ('t', 35), ('i', 0), ('p', 77), ('d', 23), ('v', 20), ('o', 42), ('t', 35), ('i', 0), ('b', 1), ('s', 9), ('o', 0), ('t', 35), ('i', 0), ('p', 79), ('d', 14), ('v', 20), ('i', 60), ('p', 60), ('d', 6), ('v', 20), ('p', 52), ('d', 17), ('v', 20), ('o', 18), ('t', 35), ('i', 0), ('p', 72), ('d', 11), ('v', 20), ('o', 21), ('t', 35), ('i', 0), ('p', 57), ('d', 3), ('v', 20), ('b', 1), ('s', 9), ('o', 0), ('t', 35), ('i', 0), ('p', 72), ('d', 6), ('v', 20), ('p', 36), ('d', 17), ('v', 20), ('o', 6), ('t', 35), ('i', 0), ('p', 52), ('d', 11), ('v', 20), ('o', 9), ('t', 35), ('i', 0), ('p', 60), ('d', 3), ('v', 20), ('b', 1), ('s', 8), ('o', 0), ('t', 35), ('i', 0), ('p', 62), ('d', 15), ('v', 20), ('p', 47), ('d', 17), ('v', 20), ('i', 58), ('p', 41), ('d', 6), ('v', 20), ('o', 6), ('t', 35), ('i', 0), ('p', 59), ('d', 12), ('v', 20), ('b', 1), ('s', 8), ('o', 0), ('t', 35), ('i', 0), ('p', 60), ('d', 6), ('v', 20), ('o', 24), ('t', 35), ('i', 0), ('p', 59), ('d', 6), ('v', 20), ('o', 6), ('t', 35), ('i', 57), ('p', 54), ('d', 3), ('v', 20), ('p', 60), ('d', 6), ('v', 20), ('o', 12), ('t', 35), ('i', 0), ('p', 84), ('d', 1), ('v', 20), ('p', 52), ('d', 17), ('v', 20), ('o', 27), ('t', 35), ('i', 0), ('p', 57), ('d', 6), ('v', 20), ('o', 18), ('t', 35), ('i', 57), ('p', 64), ('d', 6), ('v', 20), ('o', 18), ('t', 35), ('i', 57), ('p', 41), ('d', 12), ('v', 20), ('p', 52), ('d', 12), ('v', 20), ('b', 1), ('s', 9), ('o', 0), ('t', 35), ('i', 11), ('p', 88), ('d', 12), ('v', 20), ('p', 60), ('d', 17), ('v', 20), ('p', 41), ('d', 17), ('v', 20), ('i', 58), ('p', 41), ('d', 6), ('v', 20), ('o', 42), ('t', 35), ('p', 49), ('d', 17), ('v', 20), ('o', 24), ('t', 35), ('i', 0), ('p', 71), ('d', 14), ('v', 20), ('o', 18), ('t', 35), ('i', 0), ('p', 77), ('d', 6), ('v', 20), ('o', 18), ('t', 35), ('i', 0), ('p', 71), ('d', 12), ('v', 20), ('p', 48), ('d', 6), ('v', 20), ('b', 1)]\n"
     ]
    }
   ],
   "source": [
    "model_result_tokens_list = model_result_str.split(\" \")\n",
    "\n",
    "model_result_tokens_list = list(filter(lambda x: \"-\" in x, model_result_tokens_list))\n",
    "\n",
    "model_result_tokens_list = list(map(lambda x: tuple([x.split(\"-\")[0], int(x.split(\"-\")[1])]), model_result_tokens_list))\n",
    "\n",
    "print(model_result_tokens_list)"
   ]
  },
  {
   "cell_type": "code",
   "execution_count": 9,
   "metadata": {},
   "outputs": [
    {
     "name": "stdout",
     "output_type": "stream",
     "text": [
      "\n",
      "time_signature: 9     \n",
      "position: 0     tempo: 35    instrument: 0     pitch: 37 C#2   duration: 17    velocity: 20    pitch: 52 E3   duration: 6     velocity: 20    \n",
      "position: 42    tempo: 35    instrument: 12    velocity: 20    \n",
      "position: 12    tempo: 35    instrument: 0     pitch: 55 G3   duration: 6     velocity: 20    \n",
      "position: 6     tempo: 35    instrument: 0     pitch: 71 B4   duration: 6     velocity: 20    \n",
      "position: 24    tempo: 35    \n",
      "position: 18    tempo: 35    instrument: 0     pitch: 62 D4   duration: 6     velocity: 20    pitch: 62 D4   duration: 6     velocity: 20    pitch: 55 G3   duration: 6     velocity: 20    pitch: 64 E4   duration: 6     velocity: 20    pitch: 52 E3   duration: 18    velocity: 20    \n",
      "position: 24    tempo: 35    instrument: 0     pitch: 62 D4   duration: 6     velocity: 20    \n",
      "position: 36    tempo: 35    instrument: 0     pitch: 81 A5   duration: 11    velocity: 20    pitch: 43 G2   duration: 6     velocity: 20    \n",
      "position: 6     tempo: 35    instrument: 0     pitch: 64 E4   duration: 11    velocity: 20    \n",
      "position: 12    tempo: 35    instrument: 0     pitch: 67 G4   duration: 6     velocity: 20    \n",
      "position: 24    tempo: 35    instrument: 42    pitch: 67 G4   duration: 12    velocity: 16    \n",
      "position: 18    tempo: 35    instrument: 52    pitch: 57 A3   duration: 15    velocity: 20    \n",
      "position: 24    tempo: 35    instrument: 0     pitch: 77 F5   duration: 6     velocity: 20    pitch: 65 F4   duration: 6     velocity: 20    bar: 1     \n",
      "time_signature: 9     \n",
      "position: 0     tempo: 35    instrument: 42    pitch: 67 G4   duration: 6     velocity: 20    \n",
      "position: 36    tempo: 35    instrument: 0     pitch: 67 G4   duration: 6     velocity: 20    \n",
      "position: 18    tempo: 35    instrument: 0     pitch: 64 E4   duration: 6     velocity: 20    \n",
      "position: 18    tempo: 35    instrument: 0     pitch: 62 D4   duration: 6     velocity: 20    \n",
      "position: 6     tempo: 35    instrument: 0     pitch: 67 G4   duration: 12    velocity: 20    bar: 1     \n",
      "time_signature: 8     \n",
      "position: 0     tempo: 35    instrument: 0     pitch: 69 A4   duration: 12    velocity: 20    \n",
      "position: 6     tempo: 35    instrument: 0     pitch: 67 G4   duration: 6     velocity: 20    \n",
      "position: 12    tempo: 35    pitch: 56 G#3   duration: 12    velocity: 16    pitch: 55 G3   duration: 6     velocity: 20    bar: 1     \n",
      "time_signature: 9     \n",
      "position: 0     tempo: 35    instrument: 0     pitch: 74 D5   duration: 17    velocity: 20    \n",
      "position: 9     tempo: 35    instrument: 0     pitch: 64 E4   duration: 17    velocity: 20    bar: 1     \n",
      "time_signature: 8     \n",
      "position: 0     tempo: 35    instrument: 0     pitch: 67 G4   duration: 11    velocity: 20    \n",
      "position: 12    tempo: 35    instrument: 0     pitch: 76 E5   duration: 6     velocity: 20    pitch: 57 A3   duration: 17    velocity: 20    \n",
      "position: 36    tempo: 35    instrument: 0     pitch: 59 B3   duration: 12    velocity: 20    \n",
      "position: 6     tempo: 35    instrument: 0     pitch: 79 G5   duration: 6     velocity: 20    \n",
      "position: 18    tempo: 35    instrument: 56    \n",
      "position: 12    tempo: 35    instrument: 11    pitch: 43 G2   duration: 12    velocity: 20    \n",
      "position: 24    tempo: 35    instrument: 52    pitch: 45 A2   duration: 6     velocity: 20    \n",
      "position: 6     tempo: 35    instrument: 0     pitch: 59 B3   duration: 3     velocity: 20    \n",
      "position: 12    tempo: 35    instrument: 0     pitch: 76 E5   duration: 23    velocity: 20    instrument: 60    pitch: 62 D4   duration: 24    velocity: 20    \n",
      "position: 18    tempo: 35    instrument: 0     pitch: 59 B3   duration: 6     velocity: 20    \n",
      "position: 6     tempo: 35    instrument: 0     pitch: 59 B3   duration: 17    velocity: 20    \n",
      "position: 6     tempo: 35    instrument: 0     pitch: 72 C5   duration: 17    velocity: 20    pitch: 52 E3   duration: 6     velocity: 20    pitch: 48 C3   duration: 6     velocity: 20    \n",
      "position: 24    tempo: 35    instrument: 0     pitch: 36 C2   duration: 6     velocity: 20    pitch: 48 C3   duration: 6     velocity: 20    bar: 1     \n",
      "time_signature: 8     \n",
      "position: 0     tempo: 35    instrument: 0     pitch: 64 E4   duration: 11    velocity: 20    pitch: 43 G2   duration: 11    velocity: 20    pitch: 48 C3   duration: 6     velocity: 20    instrument: 60    pitch: 67 G4   duration: 12    velocity: 20    pitch: 52 E3   duration: 12    velocity: 20    \n",
      "position: 12    tempo: 35    instrument: 0     pitch: 77 F5   duration: 6     velocity: 20    \n",
      "position: 18    tempo: 35    instrument: 0     pitch: 58 A#3   duration: 20    velocity: 20    pitch: 59 B3   duration: 6     velocity: 20    pitch: 53 F3   duration: 3     velocity: 20    pitch: 50 D3   duration: 12    velocity: 20    \n",
      "position: 24    tempo: 35    instrument: 0     pitch: 86 D6   duration: 14    velocity: 20    \n",
      "position: 15    tempo: 35    instrument: 0     pitch: 76 E5   duration: 6     velocity: 20    \n",
      "position: 6     tempo: 35    instrument: 0     pitch: 76 E5   duration: 6     velocity: 20    pitch: 65 F4   duration: 3     velocity: 20    pitch: 36 C2   duration: 6     velocity: 20    \n",
      "position: 6     tempo: 35    instrument: 0     pitch: 43 G2   duration: 6     velocity: 20    \n",
      "position: 9     tempo: 35    instrument: 0     pitch: 60 C4   duration: 3     velocity: 20    \n",
      "position: 6     tempo: 35    instrument: 0     pitch: 60 C4   duration: 6     velocity: 20    \n",
      "position: 12    tempo: 35    instrument: 0     pitch: 45 A2   duration: 6     velocity: 20    \n",
      "position: 12    tempo: 35    instrument: 0     pitch: 43 G2   duration: 6     velocity: 20    bar: 1     \n",
      "time_signature: 8     \n",
      "position: 0     tempo: 35    instrument: 0     pitch: 77 F5   duration: 6     velocity: 20    pitch: 36 C2   duration: 6     velocity: 20    \n",
      "position: 6     tempo: 35    instrument: 0     pitch: 59 B3   duration: 6     velocity: 20    \n",
      "position: 24    tempo: 35    instrument: 0     pitch: 74 D5   duration: 3     velocity: 20    pitch: 52 E3   duration: 24    velocity: 20    bar: 1     \n",
      "time_signature: 9     \n",
      "position: 0     tempo: 35    instrument: 0     pitch: 67 G4   duration: 17    velocity: 20    \n",
      "position: 18    tempo: 35    instrument: 0     pitch: 60 C4   duration: 3     velocity: 20    \n",
      "position: 18    tempo: 35    instrument: 0     pitch: 55 G3   duration: 17    velocity: 20    pitch: 52 E3   duration: 6     velocity: 20    \n",
      "position: 24    tempo: 35    instrument: 52    pitch: 62 D4   duration: 6     velocity: 20    \n",
      "position: 36    tempo: 35    instrument: 0     pitch: 59 B3   duration: 11    velocity: 20    instrument: 58    pitch: 48 C3   duration: 12    velocity: 20    \n",
      "position: 24    tempo: 35    instrument: 0     pitch: 74 D5   duration: 6     velocity: 20    bar: 1     \n",
      "time_signature: 8     \n",
      "position: 0     tempo: 35    instrument: 58    pitch: 46 A#2   duration: 12    velocity: 20    \n",
      "position: 12    tempo: 35    instrument: 0     pitch: 74 D5   duration: 6     velocity: 20    \n",
      "position: 9     tempo: 35    instrument: 0     pitch: 75 D#5   duration: 3     velocity: 20    \n",
      "position: 18    tempo: 35    instrument: 0     pitch: 59 B3   duration: 12    velocity: 20    pitch: 50 D3   duration: 17    velocity: 20    pitch: 43 G2   duration: 6     velocity: 20    bar: 1     \n",
      "time_signature: 8     \n",
      "position: 0     tempo: 35    instrument: 0     pitch: 77 F5   duration: 23    velocity: 20    \n",
      "position: 42    tempo: 35    instrument: 0     bar: 1     \n",
      "time_signature: 9     \n",
      "position: 0     tempo: 35    instrument: 0     pitch: 79 G5   duration: 14    velocity: 20    instrument: 60    pitch: 60 C4   duration: 6     velocity: 20    pitch: 52 E3   duration: 17    velocity: 20    \n",
      "position: 18    tempo: 35    instrument: 0     pitch: 72 C5   duration: 11    velocity: 20    \n",
      "position: 21    tempo: 35    instrument: 0     pitch: 57 A3   duration: 3     velocity: 20    bar: 1     \n",
      "time_signature: 9     \n",
      "position: 0     tempo: 35    instrument: 0     pitch: 72 C5   duration: 6     velocity: 20    pitch: 36 C2   duration: 17    velocity: 20    \n",
      "position: 6     tempo: 35    instrument: 0     pitch: 52 E3   duration: 11    velocity: 20    \n",
      "position: 9     tempo: 35    instrument: 0     pitch: 60 C4   duration: 3     velocity: 20    bar: 1     \n",
      "time_signature: 8     \n",
      "position: 0     tempo: 35    instrument: 0     pitch: 62 D4   duration: 15    velocity: 20    pitch: 47 B2   duration: 17    velocity: 20    instrument: 58    pitch: 41 F2   duration: 6     velocity: 20    \n",
      "position: 6     tempo: 35    instrument: 0     pitch: 59 B3   duration: 12    velocity: 20    bar: 1     \n",
      "time_signature: 8     \n",
      "position: 0     tempo: 35    instrument: 0     pitch: 60 C4   duration: 6     velocity: 20    \n",
      "position: 24    tempo: 35    instrument: 0     pitch: 59 B3   duration: 6     velocity: 20    \n",
      "position: 6     tempo: 35    instrument: 57    pitch: 54 F#3   duration: 3     velocity: 20    pitch: 60 C4   duration: 6     velocity: 20    \n",
      "position: 12    tempo: 35    instrument: 0     pitch: 84 C6   duration: 1     velocity: 20    pitch: 52 E3   duration: 17    velocity: 20    \n",
      "position: 27    tempo: 35    instrument: 0     pitch: 57 A3   duration: 6     velocity: 20    \n",
      "position: 18    tempo: 35    instrument: 57    pitch: 64 E4   duration: 6     velocity: 20    \n",
      "position: 18    tempo: 35    instrument: 57    pitch: 41 F2   duration: 12    velocity: 20    pitch: 52 E3   duration: 12    velocity: 20    bar: 1     \n",
      "time_signature: 9     \n",
      "position: 0     tempo: 35    instrument: 11    pitch: 88 E6   duration: 12    velocity: 20    pitch: 60 C4   duration: 17    velocity: 20    pitch: 41 F2   duration: 17    velocity: 20    instrument: 58    pitch: 41 F2   duration: 6     velocity: 20    \n",
      "position: 42    tempo: 35    pitch: 49 C#3   duration: 17    velocity: 20    \n",
      "position: 24    tempo: 35    instrument: 0     pitch: 71 B4   duration: 14    velocity: 20    \n",
      "position: 18    tempo: 35    instrument: 0     pitch: 77 F5   duration: 6     velocity: 20    \n",
      "position: 18    tempo: 35    instrument: 0     pitch: 71 B4   duration: 12    velocity: 20    pitch: 48 C3   duration: 6     velocity: 20    bar: 1     "
     ]
    }
   ],
   "source": [
    "print_key_value_line(model_result_tokens_list)"
   ]
  },
  {
   "cell_type": "code",
   "execution_count": 10,
   "metadata": {},
   "outputs": [
    {
     "name": "stdout",
     "output_type": "stream",
     "text": [
      "item: ('v', 20)\n"
     ]
    },
    {
     "ename": "AssertionError",
     "evalue": "",
     "output_type": "error",
     "traceback": [
      "\u001b[0;31m---------------------------------------------------------------------------\u001b[0m",
      "\u001b[0;31mAssertionError\u001b[0m                            Traceback (most recent call last)",
      "Cell \u001b[0;32mIn[10], line 5\u001b[0m\n\u001b[1;32m      1\u001b[0m output_midi_file_name \u001b[38;5;241m=\u001b[39m \u001b[38;5;124m\"\u001b[39m\u001b[38;5;124mmusecoco_result.mid\u001b[39m\u001b[38;5;124m\"\u001b[39m\n\u001b[1;32m      3\u001b[0m output_midi_file_path \u001b[38;5;241m=\u001b[39m \u001b[38;5;124mf\u001b[39m\u001b[38;5;124m\"\u001b[39m\u001b[38;5;132;01m{\u001b[39;00moutput_dir\u001b[38;5;132;01m}\u001b[39;00m\u001b[38;5;124m/\u001b[39m\u001b[38;5;132;01m{\u001b[39;00moutput_midi_file_name\u001b[38;5;132;01m}\u001b[39;00m\u001b[38;5;124m\"\u001b[39m\n\u001b[0;32m----> 5\u001b[0m midi_dto \u001b[38;5;241m=\u001b[39m \u001b[43mmusecoco_line_to_midi_dto_converter\u001b[49m\u001b[43m(\u001b[49m\n\u001b[1;32m      6\u001b[0m \u001b[43m    \u001b[49m\u001b[43mmodel_result_tokens_list\u001b[49m\u001b[43m,\u001b[49m\n\u001b[1;32m      7\u001b[0m \u001b[43m    \u001b[49m\u001b[43mtick_per_beat\u001b[49m\u001b[38;5;241;43m=\u001b[39;49m\u001b[38;5;241;43m480\u001b[39;49m\n\u001b[1;32m      8\u001b[0m \u001b[43m)\u001b[49m\n\u001b[1;32m     10\u001b[0m midi_obj \u001b[38;5;241m=\u001b[39m midi_dto_to_midi_file_object_converter(midi_dto)\n\u001b[1;32m     12\u001b[0m write_midi_file(midi_obj, output_midi_file_path)\n",
      "File \u001b[0;32m~/Documents/VectorA/KHTN/Nam4/HKII/Thesis/Brainstorming/MIDI/midi_lib/converter/musecoco_line_to_midi_dto.py:12\u001b[0m, in \u001b[0;36mmusecoco_line_to_midi_dto_converter\u001b[0;34m(musecoco_line, tick_per_beat, vocab_manager)\u001b[0m\n\u001b[1;32m      7\u001b[0m \u001b[38;5;28;01mdef\u001b[39;00m \u001b[38;5;21mmusecoco_line_to_midi_dto_converter\u001b[39m(\n\u001b[1;32m      8\u001b[0m     musecoco_line: \u001b[38;5;28mlist\u001b[39m,\n\u001b[1;32m      9\u001b[0m     tick_per_beat,\n\u001b[1;32m     10\u001b[0m     vocab_manager: VocabManager \u001b[38;5;241m=\u001b[39m VocabManager()\n\u001b[1;32m     11\u001b[0m ) \u001b[38;5;241m-\u001b[39m\u001b[38;5;241m>\u001b[39m MidiDTO:\n\u001b[0;32m---> 12\u001b[0m     midi_obj \u001b[38;5;241m=\u001b[39m \u001b[43menc_remigen2_utils\u001b[49m\u001b[38;5;241;43m.\u001b[39;49m\u001b[43mgenerate_midi_obj_from_remigen_token_list\u001b[49m\u001b[43m(\u001b[49m\n\u001b[1;32m     13\u001b[0m \u001b[43m        \u001b[49m\u001b[43mtoken_list\u001b[49m\u001b[38;5;241;43m=\u001b[39;49m\u001b[43mmusecoco_line\u001b[49m\u001b[43m,\u001b[49m\n\u001b[1;32m     14\u001b[0m \u001b[43m        \u001b[49m\u001b[43mvocab_manager\u001b[49m\u001b[38;5;241;43m=\u001b[39;49m\u001b[43mvocab_manager\u001b[49m\u001b[43m,\u001b[49m\n\u001b[1;32m     15\u001b[0m \u001b[43m        \u001b[49m\u001b[43mticks_per_beat\u001b[49m\u001b[38;5;241;43m=\u001b[39;49m\u001b[43mtick_per_beat\u001b[49m\n\u001b[1;32m     16\u001b[0m \u001b[43m    \u001b[49m\u001b[43m)\u001b[49m\n\u001b[1;32m     18\u001b[0m     midi_dto \u001b[38;5;241m=\u001b[39m midi_file_object_to_midi_dto_converter(midi_obj)\n\u001b[1;32m     19\u001b[0m     \u001b[38;5;28;01mreturn\u001b[39;00m midi_dto\n",
      "File \u001b[0;32m~/Documents/VectorA/KHTN/Nam4/HKII/Thesis/Brainstorming/MIDI/midi_lib/musecoco_original_libs/midiprocessor/enc_remigen2_utils.py:259\u001b[0m, in \u001b[0;36mgenerate_midi_obj_from_remigen_token_list\u001b[0;34m(token_list, vocab_manager, ignore_velocity, ticks_per_beat, ts, tempo, inst_id, velocity)\u001b[0m\n\u001b[1;32m    257\u001b[0m     \u001b[38;5;28mprint\u001b[39m(\u001b[38;5;124mf\u001b[39m\u001b[38;5;124m\"\u001b[39m\u001b[38;5;124mitem: \u001b[39m\u001b[38;5;132;01m{\u001b[39;00mitem\u001b[38;5;132;01m}\u001b[39;00m\u001b[38;5;124m\"\u001b[39m)\n\u001b[1;32m    258\u001b[0m     \u001b[38;5;66;03m# print(f\"token_list: {token_list}\")\u001b[39;00m\n\u001b[0;32m--> 259\u001b[0m     \u001b[38;5;28;01mraise\u001b[39;00m e\n\u001b[1;32m    261\u001b[0m cur_velocity \u001b[38;5;241m=\u001b[39m vocab_manager\u001b[38;5;241m.\u001b[39mconvert_id_to_vel(item_value)\n\u001b[1;32m    263\u001b[0m start_pos \u001b[38;5;241m=\u001b[39m cur_global_pos\n",
      "File \u001b[0;32m~/Documents/VectorA/KHTN/Nam4/HKII/Thesis/Brainstorming/MIDI/midi_lib/musecoco_original_libs/midiprocessor/enc_remigen2_utils.py:252\u001b[0m, in \u001b[0;36mgenerate_midi_obj_from_remigen_token_list\u001b[0;34m(token_list, vocab_manager, ignore_velocity, ticks_per_beat, ts, tempo, inst_id, velocity)\u001b[0m\n\u001b[1;32m    248\u001b[0m     \u001b[38;5;28;01mraise\u001b[39;00m \u001b[38;5;167;01mValueError\u001b[39;00m(\n\u001b[1;32m    249\u001b[0m         \u001b[38;5;124m\"\u001b[39m\u001b[38;5;124mInvalid token for velocity (\u001b[39m\u001b[38;5;132;01m%s\u001b[39;00m\u001b[38;5;124m) while setting ignore_velocity=True\u001b[39m\u001b[38;5;124m\"\u001b[39m \u001b[38;5;241m%\u001b[39m (\u001b[38;5;124m'\u001b[39m\u001b[38;5;132;01m%s\u001b[39;00m\u001b[38;5;124m-\u001b[39m\u001b[38;5;132;01m%s\u001b[39;00m\u001b[38;5;124m'\u001b[39m \u001b[38;5;241m%\u001b[39m item)\n\u001b[1;32m    250\u001b[0m     )\n\u001b[1;32m    251\u001b[0m \u001b[38;5;28;01mtry\u001b[39;00m:\n\u001b[0;32m--> 252\u001b[0m     \u001b[38;5;28;01massert\u001b[39;00m last_item_type \u001b[38;5;241m==\u001b[39m const\u001b[38;5;241m.\u001b[39mDURATION_ABBR\n\u001b[1;32m    253\u001b[0m \u001b[38;5;28;01mexcept\u001b[39;00m \u001b[38;5;167;01mException\u001b[39;00m \u001b[38;5;28;01mas\u001b[39;00m e:\n\u001b[1;32m    254\u001b[0m     \u001b[38;5;66;03m# print(f\"last_item_type: {last_item_type}\")\u001b[39;00m\n\u001b[1;32m    255\u001b[0m     \u001b[38;5;66;03m# print(f\"item_type: {item_type}\")\u001b[39;00m\n\u001b[1;32m    256\u001b[0m     \u001b[38;5;66;03m# print(f\"item_value: {item_value}\")\u001b[39;00m\n\u001b[1;32m    257\u001b[0m     \u001b[38;5;28mprint\u001b[39m(\u001b[38;5;124mf\u001b[39m\u001b[38;5;124m\"\u001b[39m\u001b[38;5;124mitem: \u001b[39m\u001b[38;5;132;01m{\u001b[39;00mitem\u001b[38;5;132;01m}\u001b[39;00m\u001b[38;5;124m\"\u001b[39m)\n",
      "\u001b[0;31mAssertionError\u001b[0m: "
     ]
    }
   ],
   "source": [
    "output_midi_file_name = \"musecoco_result.mid\"\n",
    "\n",
    "output_midi_file_path = f\"{output_dir}/{output_midi_file_name}\"\n",
    "\n",
    "midi_dto = musecoco_line_to_midi_dto_converter(\n",
    "    model_result_tokens_list,\n",
    "    tick_per_beat=480\n",
    ")\n",
    "\n",
    "midi_obj = midi_dto_to_midi_file_object_converter(midi_dto)\n",
    "\n",
    "write_midi_file(midi_obj, output_midi_file_path)"
   ]
  }
 ],
 "metadata": {
  "kernelspec": {
   "display_name": "Python 3",
   "language": "python",
   "name": "python3"
  },
  "language_info": {
   "codemirror_mode": {
    "name": "ipython",
    "version": 3
   },
   "file_extension": ".py",
   "mimetype": "text/x-python",
   "name": "python",
   "nbconvert_exporter": "python",
   "pygments_lexer": "ipython3",
   "version": "3.10.10"
  }
 },
 "nbformat": 4,
 "nbformat_minor": 2
}
