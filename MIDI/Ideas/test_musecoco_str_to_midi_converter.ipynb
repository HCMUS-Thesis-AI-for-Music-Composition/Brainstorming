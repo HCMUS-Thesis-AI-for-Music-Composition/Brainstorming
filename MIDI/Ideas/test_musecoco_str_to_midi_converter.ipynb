{
 "cells": [
  {
   "cell_type": "code",
   "execution_count": 1,
   "metadata": {},
   "outputs": [
    {
     "name": "stdout",
     "output_type": "stream",
     "text": [
      "remove_structure_errors: NO STRUCTURE ERRORS FOUND\n",
      "MIDI file saved successfully: /Users/4rr311/Documents/VectorA/KHTN/Nam4/HKII/Thesis/Brainstorming/MIDI/Ideas/data/output/result_2024_07_07_08_pm_42.mid\n",
      "\n",
      "MIDI file path: /Users/4rr311/Documents/VectorA/KHTN/Nam4/HKII/Thesis/Brainstorming/MIDI/Ideas/data/output/result_2024_07_07_08_pm_42.mid\n",
      "Original structure log path: /Users/4rr311/Documents/VectorA/KHTN/Nam4/HKII/Thesis/Brainstorming/MIDI/Ideas/hooktheory/output/logs/model_result_log/2024_07_07/08_pm/42/original_structure.txt\n",
      "Wrong structure log path: /Users/4rr311/Documents/VectorA/KHTN/Nam4/HKII/Thesis/Brainstorming/MIDI/Ideas/hooktheory/output/logs/model_result_log/2024_07_07/08_pm/42/wrong_structure_log.txt\n"
     ]
    }
   ],
   "source": [
    "midi_lib_path = \"/Users/4rr311/Documents/VectorA/KHTN/Nam4/HKII/Thesis/Brainstorming/MIDI/midi_lib\"\n",
    "\n",
    "import sys\n",
    "\n",
    "sys.path.append(midi_lib_path)\n",
    "\n",
    "from converter.musecoco_line_str_to_midi import musecoco_line_str_to_midi_converter\n",
    "\n",
    "model_result_str = \"s-19 o-0 t-44 i-0 p-62 d-6 v-20 p-50 d-11 v-20 o-6 t-44 i-0 p-69 d-6 v-20\"\n",
    "\n",
    "(\n",
    "    midi_file_path, \n",
    "    original_structure_log_path, \n",
    "    wrong_structure_log_path\n",
    ") = musecoco_line_str_to_midi_converter(\n",
    "    model_result_str,\n",
    "    should_fill_missing=True\n",
    ")\n",
    "\n",
    "print()\n",
    "print(\"MIDI file path:\", midi_file_path)\n",
    "print(\"Original structure log path:\", original_structure_log_path)\n",
    "print(\"Wrong structure log path:\", wrong_structure_log_path)"
   ]
  }
 ],
 "metadata": {
  "kernelspec": {
   "display_name": "Python 3",
   "language": "python",
   "name": "python3"
  },
  "language_info": {
   "codemirror_mode": {
    "name": "ipython",
    "version": 3
   },
   "file_extension": ".py",
   "mimetype": "text/x-python",
   "name": "python",
   "nbconvert_exporter": "python",
   "pygments_lexer": "ipython3",
   "version": "3.10.10"
  }
 },
 "nbformat": 4,
 "nbformat_minor": 2
}
