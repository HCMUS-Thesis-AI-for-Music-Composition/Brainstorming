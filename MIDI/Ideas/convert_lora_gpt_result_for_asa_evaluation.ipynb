{
 "cells": [
  {
   "cell_type": "code",
   "execution_count": 1,
   "metadata": {},
   "outputs": [],
   "source": [
    "top_k_dir = \"/Users/4rr311/Documents/VectorA/KHTN/Nam4/HKII/Thesis/Brainstorming/Evaluation/data_for_testing/model_output/data for visualization/lora gpt2/top k folder construction/top k\"\n",
    "source_data_dir = \"/Users/4rr311/Documents/VectorA/KHTN/Nam4/HKII/Thesis/Brainstorming/Evaluation/data_for_testing/model_output/data for visualization/lora gpt2/top k folder construction/source data/300_2024_07_29_08_pm_14\"\n",
    "promt_file_path = \"/Users/4rr311/Documents/VectorA/KHTN/Nam4/HKII/Thesis/Brainstorming/Evaluation/data_for_testing/model_output/data for visualization/lora gpt2/top k folder construction/source data/message.txt\""
   ]
  },
  {
   "cell_type": "code",
   "execution_count": 2,
   "metadata": {},
   "outputs": [],
   "source": [
    "midi_lib_path = \"/Users/4rr311/Documents/VectorA/KHTN/Nam4/HKII/Thesis/Brainstorming/MIDI/midi_lib\""
   ]
  },
  {
   "cell_type": "code",
   "execution_count": 3,
   "metadata": {},
   "outputs": [],
   "source": [
    "import sys\n",
    "\n",
    "sys.path.append(midi_lib_path)\n",
    "\n",
    "import json\n",
    "import os\n",
    "\n",
    "import converter.musecoco_line_str_to_midi  as text_to_midi"
   ]
  },
  {
   "cell_type": "code",
   "execution_count": 4,
   "metadata": {},
   "outputs": [],
   "source": [
    "def create_dir_if_not_exists(dir_path):\n",
    "    if not os.path.exists(dir_path):\n",
    "        os.makedirs(dir_path)"
   ]
  },
  {
   "cell_type": "code",
   "execution_count": 5,
   "metadata": {},
   "outputs": [
    {
     "name": "stdout",
     "output_type": "stream",
     "text": [
      "Number of midi files:  302\n",
      "/Users/4rr311/Documents/VectorA/KHTN/Nam4/HKII/Thesis/Brainstorming/Evaluation/data_for_testing/model_output/data for visualization/lora gpt2/top k folder construction/source data/300_2024_07_29_08_pm_14/166_2024_07_28_11_pm_164.mid\n",
      "/Users/4rr311/Documents/VectorA/KHTN/Nam4/HKII/Thesis/Brainstorming/Evaluation/data_for_testing/model_output/data for visualization/lora gpt2/top k folder construction/source data/300_2024_07_29_08_pm_14/257_2024_07_29_10_am_82.mid\n",
      "/Users/4rr311/Documents/VectorA/KHTN/Nam4/HKII/Thesis/Brainstorming/Evaluation/data_for_testing/model_output/data for visualization/lora gpt2/top k folder construction/source data/300_2024_07_29_08_pm_14/71_2024_07_28_09_am_69.mid\n",
      "/Users/4rr311/Documents/VectorA/KHTN/Nam4/HKII/Thesis/Brainstorming/Evaluation/data_for_testing/model_output/data for visualization/lora gpt2/top k folder construction/source data/300_2024_07_29_08_pm_14/258_2024_07_29_10_am_83.mid\n",
      "/Users/4rr311/Documents/VectorA/KHTN/Nam4/HKII/Thesis/Brainstorming/Evaluation/data_for_testing/model_output/data for visualization/lora gpt2/top k folder construction/source data/300_2024_07_29_08_pm_14/230_2024_07_29_06_am_55.mid\n"
     ]
    }
   ],
   "source": [
    "# List all midi files in the source data directory\n",
    "file_paths: list[str] = []\n",
    "\n",
    "for root, dirs, files in os.walk(source_data_dir):\n",
    "    for file in files:\n",
    "        if file.endswith(\".mid\"):\n",
    "            file_paths.append(os.path.join(root, file))\n",
    "\n",
    "print(\"Number of midi files: \", len(file_paths))\n",
    "for file in file_paths[:5]:\n",
    "    print(file)"
   ]
  },
  {
   "cell_type": "code",
   "execution_count": 6,
   "metadata": {},
   "outputs": [
    {
     "name": "stdout",
     "output_type": "stream",
     "text": [
      "Number of prompts:  302\n",
      "This music has a meter of 4/4 and a balanced beat. Its playtime is about 40 seconds. The use of grand piano, guitar, bass, violin, synthesizer and drum is vital to the musics overall sound and performance. The song spans approximately 13 ~ 16 bars.,\n",
      "This music has a meter of 4/4 and a balanced beat. Its playtime is about 40 seconds. The use of grand piano, guitar, bass, violin, synthesizer and drum is vital to the musics overall sound and performance. The song spans approximately 13 ~ 16 bars.,\n",
      "The musics limited pitch range of 5 octaves allows for a greater emphasis on the nuances of tone and phrasing, while its use of major key creates a distinct atmosphere. With a runtime of 31 ~ 45 seconds, this song showcases a highly vigorous rhythm and features grand piano, guitar, bass, violin, synthesizer and drum. It is played at a moderate speed, adhering to a 4/4 meter, and is characterized by its religious and pop sound.,\n",
      "The music being described here has a limited pitch range of 5 octaves, which creates a focus on the nuances of tone and phrasing. It is played in the minor key, giving it a distinct and resonant sound. The songs length is about 40 seconds, but despite its brevity, it boasts an exceptionally energetic beat. The music is further enriched by the use of grand piano, drum and voice, and its 4/4 time signature gives it a unique structure. This music is played at a moderate tempo and is imbued with a strong sense of contentment. Overall, it is a captivating piece that showcases the skillful composition and performance of its creators.,\n",
      "The tempo in this song is very fast-paced, and the music is based on a 4/4 time signature. piano, drum and voice should be included in the music, creating a vibrant and dynamic sound. The music is defined by delight, evoking a powerful and intense atmosphere. With a structure consisting of about 14 bars, the song carries its energetic momentum throughout. This song has a duration of about 40 seconds.,\n"
     ]
    }
   ],
   "source": [
    "# Read the prompt\n",
    "with open(promt_file_path, \"r\") as f:\n",
    "    prompt = f.read().replace(\"[\", \" \").replace(\"]\", \" \")\n",
    "\n",
    "prompts = prompt.split(\"\\n\")\n",
    "\n",
    "prompts = [\n",
    "    p.replace(\"'\", \"\").replace('\"', \"\").strip() \n",
    "    for p in prompts\n",
    "]\n",
    "\n",
    "print(\"Number of prompts: \", len(prompts))\n",
    "for p in prompts[:5]:\n",
    "    print(p)"
   ]
  },
  {
   "cell_type": "code",
   "execution_count": 7,
   "metadata": {},
   "outputs": [],
   "source": [
    "# Reconstruction\n",
    "current_folder_idx = 0\n",
    "\n",
    "for i in range(len(file_paths)):\n",
    "    midi_file_path = file_paths[i]\n",
    "\n",
    "    # Copy the midi file to the new folder\n",
    "    new_midi_dir = os.path.join(\n",
    "        top_k_dir, \n",
    "        str(current_folder_idx),\n",
    "        \"midi\"\n",
    "    )\n",
    "\n",
    "    create_dir_if_not_exists(new_midi_dir)\n",
    "\n",
    "    new_midi_file_path = os.path.join(\n",
    "        new_midi_dir,\n",
    "        \"0.mid\"\n",
    "    )\n",
    "\n",
    "    os.rename(midi_file_path, new_midi_file_path)\n",
    "\n",
    "    # Create remi folder\n",
    "    new_remi_dir = os.path.join(\n",
    "        top_k_dir, \n",
    "        str(current_folder_idx),\n",
    "        \"remi\"\n",
    "    )\n",
    "\n",
    "    create_dir_if_not_exists(new_remi_dir)\n",
    "\n",
    "    # Copy the prompt to the new file\n",
    "    new_prompt_file_path = os.path.join(\n",
    "        top_k_dir, \n",
    "        str(current_folder_idx),\n",
    "        \"prompt.txt\"\n",
    "    )\n",
    "\n",
    "    prompt = prompts[i]\n",
    "\n",
    "    with open(new_prompt_file_path, \"w\") as f:\n",
    "        f.write(prompt)\n",
    "\n",
    "    current_folder_idx += 1"
   ]
  }
 ],
 "metadata": {
  "kernelspec": {
   "display_name": "Python 3",
   "language": "python",
   "name": "python3"
  },
  "language_info": {
   "codemirror_mode": {
    "name": "ipython",
    "version": 3
   },
   "file_extension": ".py",
   "mimetype": "text/x-python",
   "name": "python",
   "nbconvert_exporter": "python",
   "pygments_lexer": "ipython3",
   "version": "3.10.10"
  }
 },
 "nbformat": 4,
 "nbformat_minor": 2
}
