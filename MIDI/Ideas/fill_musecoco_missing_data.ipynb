{
 "cells": [
  {
   "cell_type": "code",
   "execution_count": 1,
   "metadata": {},
   "outputs": [],
   "source": [
    "# CHANGE YOUR PATH HERE\n",
    "midi_lib_path = \"/Users/4rr311/Documents/VectorA/KHTN/Nam4/HKII/Thesis/Brainstorming/MIDI/midi_lib\"\n",
    "\n",
    "output_dir = \"/Users/4rr311/Documents/VectorA/KHTN/Nam4/HKII/Thesis/Brainstorming/MIDI/Ideas/data/output\"\n",
    "\n",
    "log_dir = \"/Users/4rr311/Documents/VectorA/KHTN/Nam4/HKII/Thesis/Brainstorming/MIDI/Ideas/hooktheory/output/logs/model_result_log\""
   ]
  },
  {
   "cell_type": "code",
   "execution_count": 2,
   "metadata": {},
   "outputs": [],
   "source": [
    "import sys\n",
    "\n",
    "sys.path.append(midi_lib_path)"
   ]
  },
  {
   "cell_type": "code",
   "execution_count": 3,
   "metadata": {},
   "outputs": [],
   "source": [
    "from datetime import datetime\n",
    "import json\n",
    "\n",
    "from const_lib import musecoco_const as mcc"
   ]
  },
  {
   "cell_type": "code",
   "execution_count": 4,
   "metadata": {},
   "outputs": [
    {
     "name": "stdout",
     "output_type": "stream",
     "text": [
      "s: ['b', 'o']\n",
      "o: ['t']\n",
      "t: ['i']\n",
      "i: ['p']\n",
      "p: ['d']\n",
      "d: ['v']\n",
      "v: ['i', 'b', 'p', 'o']\n",
      "b: ['s']\n"
     ]
    }
   ],
   "source": [
    "for k, v in mcc.next_acceptable_keys.items():\n",
    "    print(f\"{k}: {v}\")"
   ]
  },
  {
   "cell_type": "code",
   "execution_count": 5,
   "metadata": {},
   "outputs": [],
   "source": [
    "def all_available_structure(next_acceptable_keys):\n",
    "    '''\n",
    "        List all possible paths in the graph (if a path meets the start of itself, stop searching on that path)\n",
    "        Return a list of all possible paths\n",
    "\n",
    "        next_acceptable_keys: a adjacency list of all possible next keys. Example:\n",
    "            {\n",
    "                's': ['b', 'o'],\n",
    "                'o': ['t'],\n",
    "                't': ['i'],\n",
    "                'i': ['p'],\n",
    "                'p': ['d'],\n",
    "                'd': ['v'],\n",
    "                'v': ['i', 'b', 'p', 'o'],\n",
    "                'b': ['s']\n",
    "            }\n",
    "\n",
    "        Return: a list of all possible paths. Example:\n",
    "            [\n",
    "                ['s', 'b'],\n",
    "                ['s', 'o', 't', 'i', 'p', 'd', 'v'],\n",
    "                ...\n",
    "            ]\n",
    "    '''\n",
    "    paths = []\n",
    "\n",
    "    def dfs(node: str, path: list):\n",
    "        if node in path:\n",
    "            paths.append(path)\n",
    "            return\n",
    "        else:\n",
    "            pass\n",
    "\n",
    "        path.append(node)\n",
    "        \n",
    "        for next_node in next_acceptable_keys[node]:\n",
    "            dfs(next_node, path.copy())\n",
    "\n",
    "    for k in next_acceptable_keys.keys():\n",
    "        dfs(k, [])\n",
    "\n",
    "    return paths"
   ]
  },
  {
   "cell_type": "code",
   "execution_count": 6,
   "metadata": {},
   "outputs": [
    {
     "name": "stdout",
     "output_type": "stream",
     "text": [
      "['s', 'b']\n",
      "['s', 'o', 't', 'i', 'p', 'd', 'v']\n",
      "['s', 'o', 't', 'i', 'p', 'd', 'v', 'b']\n",
      "['s', 'o', 't', 'i', 'p', 'd', 'v']\n",
      "['s', 'o', 't', 'i', 'p', 'd', 'v']\n",
      "['o', 't', 'i', 'p', 'd', 'v']\n",
      "['o', 't', 'i', 'p', 'd', 'v', 'b', 's']\n",
      "['o', 't', 'i', 'p', 'd', 'v', 'b', 's']\n",
      "['o', 't', 'i', 'p', 'd', 'v']\n",
      "['o', 't', 'i', 'p', 'd', 'v']\n",
      "['t', 'i', 'p', 'd', 'v']\n",
      "['t', 'i', 'p', 'd', 'v', 'b', 's']\n",
      "['t', 'i', 'p', 'd', 'v', 'b', 's', 'o']\n",
      "['t', 'i', 'p', 'd', 'v']\n",
      "['t', 'i', 'p', 'd', 'v', 'o']\n",
      "['i', 'p', 'd', 'v']\n",
      "['i', 'p', 'd', 'v', 'b', 's']\n",
      "['i', 'p', 'd', 'v', 'b', 's', 'o', 't']\n",
      "['i', 'p', 'd', 'v']\n",
      "['i', 'p', 'd', 'v', 'o', 't']\n",
      "['p', 'd', 'v', 'i']\n",
      "['p', 'd', 'v', 'b', 's']\n",
      "['p', 'd', 'v', 'b', 's', 'o', 't', 'i']\n",
      "['p', 'd', 'v']\n",
      "['p', 'd', 'v', 'o', 't', 'i']\n",
      "['d', 'v', 'i', 'p']\n",
      "['d', 'v', 'b', 's']\n",
      "['d', 'v', 'b', 's', 'o', 't', 'i', 'p']\n",
      "['d', 'v', 'p']\n",
      "['d', 'v', 'o', 't', 'i', 'p']\n",
      "['v', 'i', 'p', 'd']\n",
      "['v', 'b', 's']\n",
      "['v', 'b', 's', 'o', 't', 'i', 'p', 'd']\n",
      "['v', 'p', 'd']\n",
      "['v', 'o', 't', 'i', 'p', 'd']\n",
      "['b', 's']\n",
      "['b', 's', 'o', 't', 'i', 'p', 'd', 'v']\n",
      "['b', 's', 'o', 't', 'i', 'p', 'd', 'v']\n",
      "['b', 's', 'o', 't', 'i', 'p', 'd', 'v']\n",
      "['b', 's', 'o', 't', 'i', 'p', 'd', 'v']\n"
     ]
    }
   ],
   "source": [
    "structures = all_available_structure(mcc.next_acceptable_keys)\n",
    "\n",
    "for path in structures:\n",
    "    print(path)"
   ]
  },
  {
   "cell_type": "code",
   "execution_count": 7,
   "metadata": {},
   "outputs": [],
   "source": [
    "def unique_structures(\n",
    "    structures, \n",
    "    should_sort_by_length=True, \n",
    "    descending_length=True\n",
    "):\n",
    "    '''\n",
    "        Remove duplicate structures in the list of structures\n",
    "        Return a list of unique structures\n",
    "\n",
    "        structures: a list of structures. Example:\n",
    "            [\n",
    "                ['s', 'b'],\n",
    "                ['s', 'b'],\n",
    "                ['s', 'o', 't', 'i', 'p', 'd', 'v'],\n",
    "                ...\n",
    "            ]\n",
    "        \n",
    "        should_sort_by_length: a boolean value to sort the list of unique structures by length or not. Default is True.\n",
    "\n",
    "        descending_length: a boolean value to sort the list of unique structures by descending length or not. Default is True.\n",
    "\n",
    "        Return: a list of unique structures. Example:\n",
    "            [\n",
    "                ['s', 'b'],\n",
    "                ['s', 'o', 't', 'i', 'p', 'd', 'v'],\n",
    "                ...\n",
    "            ]\n",
    "    '''\n",
    "    # Unique structure\n",
    "    unique_structures = set([tuple(structure) for structure in structures])\n",
    "    unique_structures = [list(structure) for structure in unique_structures]\n",
    "\n",
    "    if should_sort_by_length:\n",
    "        unique_structures = sorted(\n",
    "            unique_structures, \n",
    "            key=lambda x: len(x), reverse=descending_length\n",
    "        )\n",
    "    else:\n",
    "        pass\n",
    "\n",
    "    return unique_structures"
   ]
  },
  {
   "cell_type": "code",
   "execution_count": 8,
   "metadata": {},
   "outputs": [
    {
     "name": "stdout",
     "output_type": "stream",
     "text": [
      "['s', 'o', 't', 'i', 'p', 'd', 'v', 'b']\n",
      "['v', 'b', 's', 'o', 't', 'i', 'p', 'd']\n",
      "['t', 'i', 'p', 'd', 'v', 'b', 's', 'o']\n",
      "['o', 't', 'i', 'p', 'd', 'v', 'b', 's']\n",
      "['d', 'v', 'b', 's', 'o', 't', 'i', 'p']\n",
      "['p', 'd', 'v', 'b', 's', 'o', 't', 'i']\n",
      "['i', 'p', 'd', 'v', 'b', 's', 'o', 't']\n",
      "['b', 's', 'o', 't', 'i', 'p', 'd', 'v']\n",
      "['t', 'i', 'p', 'd', 'v', 'b', 's']\n",
      "['s', 'o', 't', 'i', 'p', 'd', 'v']\n",
      "['p', 'd', 'v', 'o', 't', 'i']\n",
      "['v', 'o', 't', 'i', 'p', 'd']\n",
      "['i', 'p', 'd', 'v', 'b', 's']\n",
      "['i', 'p', 'd', 'v', 'o', 't']\n",
      "['t', 'i', 'p', 'd', 'v', 'o']\n",
      "['o', 't', 'i', 'p', 'd', 'v']\n",
      "['d', 'v', 'o', 't', 'i', 'p']\n",
      "['t', 'i', 'p', 'd', 'v']\n",
      "['p', 'd', 'v', 'b', 's']\n",
      "['v', 'i', 'p', 'd']\n",
      "['d', 'v', 'i', 'p']\n",
      "['i', 'p', 'd', 'v']\n",
      "['p', 'd', 'v', 'i']\n",
      "['d', 'v', 'b', 's']\n",
      "['v', 'b', 's']\n",
      "['v', 'p', 'd']\n",
      "['d', 'v', 'p']\n",
      "['p', 'd', 'v']\n",
      "['s', 'b']\n",
      "['b', 's']\n"
     ]
    }
   ],
   "source": [
    "unique_structures = unique_structures(structures)\n",
    "\n",
    "for path in unique_structures:\n",
    "    print(path)\n"
   ]
  },
  {
   "cell_type": "code",
   "execution_count": null,
   "metadata": {},
   "outputs": [],
   "source": []
  }
 ],
 "metadata": {
  "kernelspec": {
   "display_name": "Python 3",
   "language": "python",
   "name": "python3"
  },
  "language_info": {
   "codemirror_mode": {
    "name": "ipython",
    "version": 3
   },
   "file_extension": ".py",
   "mimetype": "text/x-python",
   "name": "python",
   "nbconvert_exporter": "python",
   "pygments_lexer": "ipython3",
   "version": "3.10.10"
  }
 },
 "nbformat": 4,
 "nbformat_minor": 2
}
