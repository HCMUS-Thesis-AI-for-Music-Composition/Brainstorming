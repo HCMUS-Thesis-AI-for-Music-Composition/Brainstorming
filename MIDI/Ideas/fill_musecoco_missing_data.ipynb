{
 "cells": [
  {
   "cell_type": "code",
   "execution_count": 1,
   "metadata": {},
   "outputs": [],
   "source": [
    "# CHANGE YOUR PATH HERE\n",
    "midi_lib_path = \"/Users/4rr311/Documents/VectorA/KHTN/Nam4/HKII/Thesis/Brainstorming/MIDI/midi_lib\"\n",
    "\n",
    "output_dir = \"/Users/4rr311/Documents/VectorA/KHTN/Nam4/HKII/Thesis/Brainstorming/MIDI/Ideas/data/output\"\n",
    "\n",
    "log_dir = \"/Users/4rr311/Documents/VectorA/KHTN/Nam4/HKII/Thesis/Brainstorming/MIDI/Ideas/hooktheory/output/logs/model_result_log\""
   ]
  },
  {
   "cell_type": "code",
   "execution_count": 2,
   "metadata": {},
   "outputs": [],
   "source": [
    "import sys\n",
    "\n",
    "sys.path.append(midi_lib_path)"
   ]
  },
  {
   "cell_type": "code",
   "execution_count": 3,
   "metadata": {},
   "outputs": [],
   "source": [
    "from datetime import datetime\n",
    "import json\n",
    "\n",
    "from const_lib import musecoco_const as mcc"
   ]
  },
  {
   "cell_type": "code",
   "execution_count": 4,
   "metadata": {},
   "outputs": [
    {
     "name": "stdout",
     "output_type": "stream",
     "text": [
      "s: ['b', 'o']\n",
      "o: ['t']\n",
      "t: ['i']\n",
      "i: ['p']\n",
      "p: ['d']\n",
      "d: ['v']\n",
      "v: ['i', 'b', 'p', 'o']\n",
      "b: ['s']\n"
     ]
    }
   ],
   "source": [
    "for k, v in mcc.next_acceptable_keys.items():\n",
    "    print(f\"{k}: {v}\")"
   ]
  },
  {
   "cell_type": "code",
   "execution_count": 5,
   "metadata": {},
   "outputs": [],
   "source": [
    "def all_available_structure(next_acceptable_keys):\n",
    "    # next_acceptable_keys: a adjacency list of all possible next keys:\n",
    "    # s: ['b', 'o']\n",
    "    # o: ['t']\n",
    "    # t: ['i']\n",
    "    # i: ['p']\n",
    "    # p: ['d']\n",
    "    # d: ['v']\n",
    "    # v: ['i', 'b', 'p', 'o']\n",
    "    # b: ['s']\n",
    "    # List all possible paths in the graph\n",
    "    # Return a list of all possible paths\n",
    "\n",
    "    def dfs(node, path, paths):\n",
    "        if node not in next_acceptable_keys:\n",
    "            paths.append(path)\n",
    "            return\n",
    "\n",
    "        for next_node in next_acceptable_keys[node]:\n",
    "            dfs(next_node, path + next_node, paths)\n",
    "\n",
    "    paths = []\n",
    "    dfs('s', 's', paths)\n",
    "    return paths"
   ]
  },
  {
   "cell_type": "code",
   "execution_count": 6,
   "metadata": {},
   "outputs": [
    {
     "ename": "RecursionError",
     "evalue": "maximum recursion depth exceeded",
     "output_type": "error",
     "traceback": [
      "\u001b[0;31m---------------------------------------------------------------------------\u001b[0m",
      "\u001b[0;31mRecursionError\u001b[0m                            Traceback (most recent call last)",
      "Cell \u001b[0;32mIn[6], line 1\u001b[0m\n\u001b[0;32m----> 1\u001b[0m structures \u001b[38;5;241m=\u001b[39m \u001b[43mall_available_structure\u001b[49m\u001b[43m(\u001b[49m\u001b[43mmcc\u001b[49m\u001b[38;5;241;43m.\u001b[39;49m\u001b[43mnext_acceptable_keys\u001b[49m\u001b[43m)\u001b[49m\n\u001b[1;32m      3\u001b[0m \u001b[38;5;28mprint\u001b[39m(structures)\n",
      "Cell \u001b[0;32mIn[5], line 23\u001b[0m, in \u001b[0;36mall_available_structure\u001b[0;34m(next_acceptable_keys)\u001b[0m\n\u001b[1;32m     20\u001b[0m         dfs(next_node, path \u001b[38;5;241m+\u001b[39m next_node, paths)\n\u001b[1;32m     22\u001b[0m paths \u001b[38;5;241m=\u001b[39m []\n\u001b[0;32m---> 23\u001b[0m \u001b[43mdfs\u001b[49m\u001b[43m(\u001b[49m\u001b[38;5;124;43m'\u001b[39;49m\u001b[38;5;124;43ms\u001b[39;49m\u001b[38;5;124;43m'\u001b[39;49m\u001b[43m,\u001b[49m\u001b[43m \u001b[49m\u001b[38;5;124;43m'\u001b[39;49m\u001b[38;5;124;43ms\u001b[39;49m\u001b[38;5;124;43m'\u001b[39;49m\u001b[43m,\u001b[49m\u001b[43m \u001b[49m\u001b[43mpaths\u001b[49m\u001b[43m)\u001b[49m\n\u001b[1;32m     24\u001b[0m \u001b[38;5;28;01mreturn\u001b[39;00m paths\n",
      "Cell \u001b[0;32mIn[5], line 20\u001b[0m, in \u001b[0;36mall_available_structure.<locals>.dfs\u001b[0;34m(node, path, paths)\u001b[0m\n\u001b[1;32m     17\u001b[0m     \u001b[38;5;28;01mreturn\u001b[39;00m\n\u001b[1;32m     19\u001b[0m \u001b[38;5;28;01mfor\u001b[39;00m next_node \u001b[38;5;129;01min\u001b[39;00m next_acceptable_keys[node]:\n\u001b[0;32m---> 20\u001b[0m     \u001b[43mdfs\u001b[49m\u001b[43m(\u001b[49m\u001b[43mnext_node\u001b[49m\u001b[43m,\u001b[49m\u001b[43m \u001b[49m\u001b[43mpath\u001b[49m\u001b[43m \u001b[49m\u001b[38;5;241;43m+\u001b[39;49m\u001b[43m \u001b[49m\u001b[43mnext_node\u001b[49m\u001b[43m,\u001b[49m\u001b[43m \u001b[49m\u001b[43mpaths\u001b[49m\u001b[43m)\u001b[49m\n",
      "Cell \u001b[0;32mIn[5], line 20\u001b[0m, in \u001b[0;36mall_available_structure.<locals>.dfs\u001b[0;34m(node, path, paths)\u001b[0m\n\u001b[1;32m     17\u001b[0m     \u001b[38;5;28;01mreturn\u001b[39;00m\n\u001b[1;32m     19\u001b[0m \u001b[38;5;28;01mfor\u001b[39;00m next_node \u001b[38;5;129;01min\u001b[39;00m next_acceptable_keys[node]:\n\u001b[0;32m---> 20\u001b[0m     \u001b[43mdfs\u001b[49m\u001b[43m(\u001b[49m\u001b[43mnext_node\u001b[49m\u001b[43m,\u001b[49m\u001b[43m \u001b[49m\u001b[43mpath\u001b[49m\u001b[43m \u001b[49m\u001b[38;5;241;43m+\u001b[39;49m\u001b[43m \u001b[49m\u001b[43mnext_node\u001b[49m\u001b[43m,\u001b[49m\u001b[43m \u001b[49m\u001b[43mpaths\u001b[49m\u001b[43m)\u001b[49m\n",
      "    \u001b[0;31m[... skipping similar frames: all_available_structure.<locals>.dfs at line 20 (2969 times)]\u001b[0m\n",
      "Cell \u001b[0;32mIn[5], line 20\u001b[0m, in \u001b[0;36mall_available_structure.<locals>.dfs\u001b[0;34m(node, path, paths)\u001b[0m\n\u001b[1;32m     17\u001b[0m     \u001b[38;5;28;01mreturn\u001b[39;00m\n\u001b[1;32m     19\u001b[0m \u001b[38;5;28;01mfor\u001b[39;00m next_node \u001b[38;5;129;01min\u001b[39;00m next_acceptable_keys[node]:\n\u001b[0;32m---> 20\u001b[0m     \u001b[43mdfs\u001b[49m\u001b[43m(\u001b[49m\u001b[43mnext_node\u001b[49m\u001b[43m,\u001b[49m\u001b[43m \u001b[49m\u001b[43mpath\u001b[49m\u001b[43m \u001b[49m\u001b[38;5;241;43m+\u001b[39;49m\u001b[43m \u001b[49m\u001b[43mnext_node\u001b[49m\u001b[43m,\u001b[49m\u001b[43m \u001b[49m\u001b[43mpaths\u001b[49m\u001b[43m)\u001b[49m\n",
      "\u001b[0;31mRecursionError\u001b[0m: maximum recursion depth exceeded"
     ]
    }
   ],
   "source": [
    "\n",
    "\n",
    "structures = all_available_structure(mcc.next_acceptable_keys)\n",
    "\n",
    "print(structures)"
   ]
  }
 ],
 "metadata": {
  "kernelspec": {
   "display_name": "Python 3",
   "language": "python",
   "name": "python3"
  },
  "language_info": {
   "codemirror_mode": {
    "name": "ipython",
    "version": 3
   },
   "file_extension": ".py",
   "mimetype": "text/x-python",
   "name": "python",
   "nbconvert_exporter": "python",
   "pygments_lexer": "ipython3",
   "version": "3.10.10"
  }
 },
 "nbformat": 4,
 "nbformat_minor": 2
}
