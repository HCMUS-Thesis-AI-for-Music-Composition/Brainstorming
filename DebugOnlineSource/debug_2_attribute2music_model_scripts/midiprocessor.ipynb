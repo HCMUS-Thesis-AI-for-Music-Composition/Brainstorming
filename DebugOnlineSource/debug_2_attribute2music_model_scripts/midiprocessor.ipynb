{
 "cells": [
  {
   "cell_type": "code",
   "execution_count": 2,
   "metadata": {},
   "outputs": [],
   "source": [
    "source_folder = '/Users/4rr311/Documents/VectorA/KHTN/Nam4/HKII/Thesis/Brainstorming/DebugOnlineSource/musecoco/muzic/musecoco/2-attribute2music_model'\n",
    "\n",
    "import sys\n",
    "\n",
    "sys.path.append(source_folder)"
   ]
  },
  {
   "cell_type": "code",
   "execution_count": 3,
   "metadata": {},
   "outputs": [
    {
     "ename": "ImportError",
     "evalue": "cannot import name 'MidiProcessor' from 'midiprocessor' (/Users/4rr311/Documents/VectorA/KHTN/Nam4/HKII/Thesis/Brainstorming/DebugOnlineSource/musecoco/muzic/musecoco/2-attribute2music_model/midiprocessor/__init__.py)",
     "output_type": "error",
     "traceback": [
      "\u001b[0;31m---------------------------------------------------------------------------\u001b[0m",
      "\u001b[0;31mImportError\u001b[0m                               Traceback (most recent call last)",
      "Cell \u001b[0;32mIn[3], line 1\u001b[0m\n\u001b[0;32m----> 1\u001b[0m \u001b[38;5;28;01mfrom\u001b[39;00m \u001b[38;5;21;01mmidiprocessor\u001b[39;00m \u001b[38;5;28;01mimport\u001b[39;00m MidiProcessor\n",
      "\u001b[0;31mImportError\u001b[0m: cannot import name 'MidiProcessor' from 'midiprocessor' (/Users/4rr311/Documents/VectorA/KHTN/Nam4/HKII/Thesis/Brainstorming/DebugOnlineSource/musecoco/muzic/musecoco/2-attribute2music_model/midiprocessor/__init__.py)"
     ]
    }
   ],
   "source": [
    "from midiprocessor import MidiProcessor"
   ]
  },
  {
   "cell_type": "code",
   "execution_count": null,
   "metadata": {},
   "outputs": [],
   "source": [
    "mp = MidiProcessor()"
   ]
  }
 ],
 "metadata": {
  "kernelspec": {
   "display_name": "Python 3",
   "language": "python",
   "name": "python3"
  },
  "language_info": {
   "codemirror_mode": {
    "name": "ipython",
    "version": 3
   },
   "file_extension": ".py",
   "mimetype": "text/x-python",
   "name": "python",
   "nbconvert_exporter": "python",
   "pygments_lexer": "ipython3",
   "version": "3.10.10"
  }
 },
 "nbformat": 4,
 "nbformat_minor": 2
}
