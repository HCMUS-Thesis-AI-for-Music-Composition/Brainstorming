{
 "cells": [
  {
   "cell_type": "code",
   "execution_count": 1,
   "metadata": {},
   "outputs": [],
   "source": [
    "json_file_path = \"/Users/4rr311/Documents/VectorA/KHTN/Nam4/HKII/Thesis/Brainstorming/Text/text_lib/Ideas/augmentation/data/gpt_refined_template_en.json\"   "
   ]
  },
  {
   "cell_type": "code",
   "execution_count": 2,
   "metadata": {},
   "outputs": [],
   "source": [
    "import json\n",
    "import re"
   ]
  },
  {
   "cell_type": "code",
   "execution_count": 3,
   "metadata": {},
   "outputs": [
    {
     "name": "stdout",
     "output_type": "stream",
     "text": [
      "11300\n"
     ]
    }
   ],
   "source": [
    "# Load the json file\n",
    "with open(json_file_path) as f:\n",
    "    data = json.load(f)\n",
    "\n",
    "# Print the length of the data\n",
    "print(len(data))"
   ]
  },
  {
   "cell_type": "code",
   "execution_count": 4,
   "metadata": {},
   "outputs": [],
   "source": [
    "# Make all characters inside the square brackets uppercase\n",
    "for i in range(len(data)):\n",
    "    # [ATTRIBUTE_NAME]\n",
    "    regex = r\"\\[[a-zA-Z_]+\\]\"\n",
    "\n",
    "    # Find all matches\n",
    "    matches = re.findall(regex, data[i][\"response\"])\n",
    "\n",
    "    matched_strings: list[str] = list(set(matches))\n",
    "\n",
    "    for match in matched_strings:\n",
    "        data[i][\"response\"] = data[i][\"response\"].replace(match, match.upper())"
   ]
  },
  {
   "cell_type": "code",
   "execution_count": 5,
   "metadata": {},
   "outputs": [
    {
     "name": "stdout",
     "output_type": "stream",
     "text": [
      "/Users/4rr311/Documents/VectorA/KHTN/Nam4/HKII/Thesis/Brainstorming/Text/text_lib/Ideas/augmentation/data/gpt_refined_template_en.json\n"
     ]
    }
   ],
   "source": [
    "with open(json_file_path, 'w') as f:\n",
    "    json.dump(data, f, indent=4)\n",
    "\n",
    "print(json_file_path)"
   ]
  }
 ],
 "metadata": {
  "kernelspec": {
   "display_name": "Python 3",
   "language": "python",
   "name": "python3"
  },
  "language_info": {
   "codemirror_mode": {
    "name": "ipython",
    "version": 3
   },
   "file_extension": ".py",
   "mimetype": "text/x-python",
   "name": "python",
   "nbconvert_exporter": "python",
   "pygments_lexer": "ipython3",
   "version": "3.10.10"
  }
 },
 "nbformat": 4,
 "nbformat_minor": 2
}
