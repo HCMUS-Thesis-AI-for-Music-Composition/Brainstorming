{
 "cells": [
  {
   "cell_type": "code",
   "execution_count": 1,
   "metadata": {},
   "outputs": [],
   "source": [
    "refined_template_from_musecoco_path = \"/Users/4rr311/Documents/VectorA/KHTN/Nam4/HKII/Thesis/Brainstorming/Text/text_lib/Ideas/augmentation/data/musecoco_refined_template_en.json\"   \n",
    "\n",
    "verified_data_dir = \"/Users/4rr311/Documents/VectorA/KHTN/Nam4/HKII/Thesis/Brainstorming/Text/text_lib/Ideas/augmentation/data/verified\""
   ]
  },
  {
   "cell_type": "code",
   "execution_count": 2,
   "metadata": {},
   "outputs": [],
   "source": [
    "midi_lib_path = \"/Users/4rr311/Documents/VectorA/KHTN/Nam4/HKII/Thesis/Brainstorming/MIDI/midi_lib\""
   ]
  },
  {
   "cell_type": "code",
   "execution_count": 3,
   "metadata": {},
   "outputs": [],
   "source": [
    "import sys\n",
    "\n",
    "sys.path.append(midi_lib_path)\n",
    "\n",
    "import const_lib.musecoco_const as mcc"
   ]
  },
  {
   "cell_type": "code",
   "execution_count": 4,
   "metadata": {},
   "outputs": [],
   "source": [
    "import json"
   ]
  },
  {
   "cell_type": "code",
   "execution_count": 5,
   "metadata": {},
   "outputs": [],
   "source": [
    "def load_json_file(file_path):\n",
    "    with open(file_path, \"r\") as f:\n",
    "        data = json.load(f)\n",
    "    return data"
   ]
  },
  {
   "cell_type": "code",
   "execution_count": 6,
   "metadata": {},
   "outputs": [
    {
     "name": "stdout",
     "output_type": "stream",
     "text": [
      "File path: /Users/4rr311/Documents/VectorA/KHTN/Nam4/HKII/Thesis/Brainstorming/Text/text_lib/Ideas/augmentation/data/musecoco_refined_template_en.json\n",
      "Total templates: 4856\n"
     ]
    }
   ],
   "source": [
    "musecoco_refined_template: list = load_json_file(refined_template_from_musecoco_path)\n",
    "\n",
    "print(f\"File path: {refined_template_from_musecoco_path}\")\n",
    "print(f\"Total templates: {len(musecoco_refined_template)}\")"
   ]
  },
  {
   "cell_type": "code",
   "execution_count": 7,
   "metadata": {},
   "outputs": [],
   "source": [
    "def does_response_contain_required_substring_for_attribute(\n",
    "    response: str, \n",
    "    attribute: str\n",
    ") -> bool:\n",
    "    \"\"\"\n",
    "        Check if the response contains the required substring for the attribute\n",
    "\n",
    "        Args:\n",
    "        - response (str): the response to check\n",
    "        - attribute (str): the attribute to check\n",
    "\n",
    "        Returns:\n",
    "        - bool: True if the response contains the required substring for the attribute, False otherwise\n",
    "    \"\"\"\n",
    "    result = False\n",
    "\n",
    "    # Main instrument is not specified\n",
    "    if attribute == \"I4_0\": \n",
    "        return True\n",
    "    \n",
    "    if attribute in mcc.required_substring_for_attributes:\n",
    "        for substring in mcc.required_substring_for_attributes[attribute]:\n",
    "            if substring.lower() in response.lower():\n",
    "                result = True\n",
    "                break\n",
    "\n",
    "    if attribute in mcc.required_substring_for_positive_and_negative_attributes:\n",
    "        for substring in mcc.required_substring_for_positive_and_negative_attributes[attribute]:\n",
    "            if substring.lower() in response.lower():\n",
    "                result = True and result\n",
    "                break\n",
    "\n",
    "    return result"
   ]
  },
  {
   "cell_type": "code",
   "execution_count": 8,
   "metadata": {},
   "outputs": [],
   "source": [
    "def is_gpt_refined_template_acceptable(gpt_refined_template):\n",
    "    attrs = gpt_refined_template[\"attributes\"]  \n",
    "\n",
    "    response = gpt_refined_template[\"response\"]\n",
    "\n",
    "    for attr in attrs:\n",
    "        if not does_response_contain_required_substring_for_attribute(response, attr):\n",
    "            print(f\"Response does not contain required substring for attribute: {attr}, response: {response}\")\n",
    "            return False\n",
    "        \n",
    "    return True"
   ]
  },
  {
   "cell_type": "code",
   "execution_count": 9,
   "metadata": {},
   "outputs": [],
   "source": [
    "def filter_acceptable_gpt_refined_templates(\n",
    "    gpt_refined_templates: list\n",
    ") -> dict[str, list]:\n",
    "    acceptable_templates: list = []\n",
    "\n",
    "    ignored_templates: list = []\n",
    "\n",
    "    for gpt_refined_template in gpt_refined_templates:\n",
    "        if is_gpt_refined_template_acceptable(gpt_refined_template):\n",
    "            acceptable_templates.append(gpt_refined_template)\n",
    "        else:\n",
    "            ignored_templates.append(gpt_refined_template)\n",
    "\n",
    "    return {\n",
    "        \"acceptable_templates\": acceptable_templates,\n",
    "        \"ignored_templates\": ignored_templates\n",
    "    }"
   ]
  },
  {
   "cell_type": "markdown",
   "metadata": {},
   "source": [
    "| **Ký hiệu** | **Mô tả**              |\n",
    "|-------------|------------------------|\n",
    "| I1s2        | Instrument             |\n",
    "| I4          | Main Instrument        |\n",
    "| R3          | Rhythm Intensity       |\n",
    "| B1s1        | Bar                    |\n",
    "| TS1s1       | Time Signature         |\n",
    "| K1          | Key                    |\n",
    "| T1s1        | Tempo                  |\n",
    "| P4          | Pitch Range            |\n",
    "| TM1         | Time                   |\n"
   ]
  },
  {
   "cell_type": "code",
   "execution_count": 10,
   "metadata": {},
   "outputs": [],
   "source": [
    "# {\n",
    "#     \"I1_1\": \"[INSTRUMENTS] should be included in the music.\", \n",
    "#     \"I1_0\": \"[INSTRUMENTS] are not featured in this song.\", \n",
    "#     \"P4_1\": \"Its pitch range is within [RANGE] octaves.\", \n",
    "#     \"C1_0\": \"This is a song that has a bright feeling from the beginning to the end.\", \n",
    "#     \"C1_1\": \"This is a song that has a very gloomy feeling from the beginning to the end.\", \n",
    "#     \"C1_2\": \"The song begins bright and then turns dark.\", \n",
    "#     \"C1_3\": \"The song begins dark and then brightens up.\", \n",
    "#     \"R1_1\": \"This music is suitable for dancing.\", \n",
    "#     \"R1_0\": \"This music is not suitable for dancing.\", \n",
    "#     \"R3_1\": \"The beat of this song is extremely strong.\", \n",
    "#     \"R3_0\": \"This song has a very peaceful beat.\", \n",
    "#     \"R3_2\": \"This song has a moderate beat.\", \n",
    "#     \"S4_1\": \"The song belongs to the [GENRE] genre.\", \n",
    "#     \"S4_0\": \"The song does not fit into the conventions of [GENRE] style.\", \n",
    "#     \"S2_1\": \"The music is in the vein of [ARTIST].\",\n",
    "#     \"S2_0\": \"The song does not conform to [ARTIST]'s typical sound.\", \n",
    "#     \"B1_1\": \"The song spans approximately [NUM_BARS] bars.\", \n",
    "#     \"TS1_1\": \"The music is in [TIME_SIGNATURE].\", \n",
    "#     \"TS1_o\": \"The time signature of this song is not commonly used.\", \n",
    "#     \"K1_1\": \"This music is composed in the [KEY] key.\", \n",
    "#     \"T1_0\": \"The tempo of this song is rapid.\", \n",
    "#     \"T1_1\": \"The tempo of this song is slow.\", \n",
    "#     \"T1_2\": \"The tempo of this song is moderate.\", \n",
    "#     \"EM1_1\": \"The music conveys [EMOTION].\", \n",
    "#     \"TM1_1\": \"This song has a duration of [TM1] seconds.\"\n",
    "# }"
   ]
  },
  {
   "cell_type": "code",
   "execution_count": 11,
   "metadata": {},
   "outputs": [
    {
     "name": "stdout",
     "output_type": "stream",
     "text": [
      "Response does not contain required substring for attribute: TM1_1, response: The key of this music gives it a special emotional quality that is further enhanced by its atypical time signature [TIME_SIGNATURE]. The track has a moderate tempo and an easy-going rhythm that is supported by the featured instruments. The music is imbued with [EMOTION] and is structured with roughly [NUM_BARS] bars. Overall, this song is a unique blend of key, rhythm, tempo, and emotion that creates a captivating musical experience.\n",
      "Response does not contain required substring for attribute: TM1_1, response: With a pitch range spanning [RANGE] octaves, this music offers a diverse and dynamic listening experience. Its choice of [KEY] key results in a captivating and memorable experience, complemented by a moderate tempo. The incorporation of [INSTRUMENTS] adds depth and richness to the musical composition. Although the time signature of this song is not standard, its quick pace enhances the overall energy. Through its expressive performance, the music projects [EMOTION] to engage and resonate with the listeners.\n",
      "Response does not contain required substring for attribute: TM1_1, response: The music in this song offers a unique and captivating experience with distinct emotional depth, emphasized by the pitch range of [RANGE] octaves. The choice of [KEY] key adds to its memorability, while the gentle rhythm creates a soothing atmosphere. In opting not to incorporate [INSTRUMENTS], the song offers a refreshing departure from conventional musical arrangements. Its unusual [TIME_SIGNATURE] time signature and quick pace contribute to its dynamic nature. The music's [EMOTION] feeling further enhances the song's overall impact. Overall, this song presents a creative and memorable musical journey for the listener.\n",
      "Response does not contain required substring for attribute: TM1_1, response: The given sentence is incomplete and does not provide enough context to form a coherent paragraph. Please provide additional information or context so that I may assist you in creating a proper paragraph.\n",
      "Response does not contain required substring for attribute: TS1_1, response: The track is TM1 seconds long and has a slow rhythm. The rhythm in this song is very harmonious, and the TIME_SIGNATURE is the meter of the music. The INSTRUMENTS used add to the musical composition, creating a cohesive sound that enhances the overall listening experience.\n",
      "Response does not contain required substring for attribute: R3_2, response: This song is a calm and moderate piece of music that utilizes [INSTRUMENTS] in its musical performance. The music is comprised of [NUM_BARS] bars and has a duration of [TM1] seconds.\n",
      "Response does not contain required substring for attribute: TM1_1, response: This is a TM1-second song with a moderate and consistent rhythm that follows a [TIME_SIGNATURE] meter. The instrumentation in this song does not include [INSTRUMENTS], but the music is evocative of the classic [GENRE] sound.\n",
      "Response does not contain required substring for attribute: R3_0, response: The music's pitch range spans [RANGE] octaves, contributing to its unique character and highlighting its emotional depth. The use of the [KEY] key also creates a distinct atmosphere. This tranquil and peaceful song lasts [TM1] seconds and features [INSTRUMENTS]. It is a prime example of the [GENRE] style, comprised of [NUM_BARS] bars.\n",
      "Response does not contain required substring for attribute: TM1_1, response: The music in this song has several distinct features that contribute to its emotional depth and character. Firstly, the pitch range spans [RANGE] octaves, which adds a unique quality to the music and emphasizes its emotional depth. Additionally, the use of the [KEY] key adds a special emotional quality to the song. The rhythm in the song is also very lively, further enhancing the overall impact of the music. Interestingly, the arrangement omits the use of [INSTRUMENTS], adding a unique quality to the sound. The time signature used in the song is also unusual, providing an additional layer of complexity to the music. Despite the complex arrangement, the music is played at a high tempo, contributing to its energetic and lively nature. Overall, the music is [EMOTION] in nature, evoking powerful emotions in the listener.\n",
      "Response does not contain required substring for attribute: TM1_1, response: This is a TM1-second-long song with a time signature that is out of the ordinary. Despite its brevity, the song's unique time signature adds an interesting twist to its composition, setting it apart from more traditional musical arrangements. Whether intentional or not, the departure from conventional time signatures may contribute to the song's overall impact and appeal, drawing in listeners who appreciate music that challenges their expectations and expands their horizons.\n",
      "Response does not contain required substring for attribute: K1_1, response: The [GENRE] sound is perfectly exemplified in this music, which has a rapid tempo and a very smooth and relaxing beat. The [TIME_SIGNATURE] meter adds to its unique quality, while the absence of [INSTRUMENTS] as part of the instrumentation gives it a special emotional touch. Overall, this song showcases a combination of elements that make it truly captivating.\n",
      "Response does not contain required substring for attribute: R1_0, response: The tempo of this music is not conducive to moving your body, and this song is [TM1] seconds long with a non-standard time signature. You won't hear any [INSTRUMENTS] in this song, which is composed of approximately [NUM_BARS] bars.\n",
      "Response does not contain required substring for attribute: EM1_1, response: This music offers a unique and captivating listening experience with its pitch range of [RANGE] octaves and choice of [KEY] key. Its fast-paced tempo and emotive quality further enhance the overall experience. The song structure, comprising of [NUM_BARS] bars, adds an additional layer of complexity to the music, making it a memorable and well-crafted piece.\n",
      "Response does not contain required substring for attribute: B1_1, response: Additionally, the tempo is [TEMPO] beats per minute and the key signature is [KEY_SIGNATURE]. The piece features a variety of instruments including [INSTRUMENTS_USED]. The composer of the music is [COMPOSER_NAME]. The music itself has a [MOOD/GENRE] feel to it and is often played in [OCCASIONS/SETTINGS]. Overall, the music is a complex and well-crafted piece that showcases the composer's talent and skill.\n",
      "Response does not contain required substring for attribute: R1_0, response: The song's rhythm is moderate, and there are roughly [NUM_BARS] bars in this song. However, despite its beat, you won't be able to move your feet to this song, as you won't hear any [INSTRUMENTS] in it.\n",
      "Response does not contain required substring for attribute: TM1_1, response: The given sentence is incomplete and doesn't contain any information that can be combined with other sentences to form a paragraph. I would need more context or additional sentences to create a coherent paragraph. Please provide me with more details or information so that I can assist you better.\n",
      "Response does not contain required substring for attribute: TM1_1, response: This music has a unique and resonant sound due to its use of [KEY] key and limited pitch range of [RANGE] octaves, which allows for a greater emphasis on the nuances of tone and phrasing. The song has a very powerful and driving beat, enriched by the use of [INSTRUMENTS], and is played at a high tempo. Additionally, this song deviates from the norm in terms of its time signature, which is [TIME_SIGNATURE], and its style is not reflective of the usual features of the [GENRE] genre. Overall, this music offers a distinct and captivating listening experience that stands out from traditional expectations.\n",
      "Response does not contain required substring for attribute: K1_1, response: This [TM1]-second-long track features a powerful and driving beat with a composition that doesn't involve the use of [INSTRUMENTS]. The music is played slowly in [TIME_SIGNATURE], which contributes to its focused and impactful performance. Additionally, the compact pitch range of [RANGE] octaves adds to the intensity of the song's emotional quality. The music is defined by [EMOTION] and can be heard across [NUM_BARS] bars, giving listeners a unique and memorable experience.\n",
      "Response does not contain required substring for attribute: TM1_1, response: This is a TM1-second-long song with a slow rhythm but a very powerful and driving beat.\n",
      "Response does not contain required substring for attribute: K1_1, response: The rhythm of this song is neither too fast nor too slow, and the tempo is slow, adding a unique flavor to this music. It does not fall squarely within the conventions of the [GENRE] sound, as the song progresses over [NUM_BARS] bars.\n",
      "Response does not contain required substring for attribute: K1_1, response: The [INSTRUMENTS] used in this musical performance create a slow-paced song with a pronounced rhythm, while the [TIME_SIGNATURE], which is not commonly used, adds a unique flavor to the music.\n",
      "Response does not contain required substring for attribute: R3_0, response: The [RANGE]-octave pitch range of this musical piece produces a focused and impactful performance, particularly when played in the [KEY] key, which gives it a special emotional quality. Clocking in at [TM1] seconds, this tranquil and peaceful song features [INSTRUMENTS] and has an atypical [TIME_SIGNATURE]. The song moves gently, radiating [EMOTION], and is composed of [NUM_BARS] bars in its structure.\n",
      "Response does not contain required substring for attribute: TM1_1, response: This is a TM1-second song that progresses through NUM_BARS bars, and features a rhythm that is very comforting. However, the time signature of this song is unconventional and differs from the typical meter found in most popular music, as it is indicated by TIME_SIGNATURE. Despite the unconventional time signature, the song's comforting rhythm creates a unique listening experience that is both soothing and engaging.\n",
      "Response does not contain required substring for attribute: K1_1, response: The tempo in this song is very laid-back, with an unusual time signature [TIME_SIGNATURE], while [INSTRUMENTS] play an important role in adding a unique flavor to the music. Overall, the music is imbued with [EMOTION].\n",
      "Response does not contain required substring for attribute: R3_1, response: This highly vigorous song lasts for TM1 seconds, but despite its energy, it does not embody the essence of the [GENRE] genre.\n",
      "Response does not contain required substring for attribute: TM1_1, response: This music offers a captivating and memorable experience through various elements that contribute to its unique style. The compact pitch range of [RANGE] octaves provides a focused and impactful musical performance. The choice of [KEY] key complements this effect, enhancing the music's overall impact. Additionally, the steady and moderate rhythm, played by [INSTRUMENTS], ensures the track's consistency and musical coherence. The music's [TIME_SIGNATURE] time signature and moderate tempo further enhance its rhythmical characteristics. Furthermore, the music does not adhere to the traditions of [GENRE] style, creating a fresh and innovative sound that sets it apart from traditional genre conventions. Overall, this music offers a distinct and captivating listening experience, characterized by its unique combination of various musical elements.\n",
      "Response does not contain required substring for attribute: TM1_1, response: I'm sorry, but there seems to be some missing information in your request. Could you please provide me with more context and additional sentences that you would like me to combine into a paragraph? This will help me better understand what you are looking for and enable me to provide a more accurate response.\n",
      "Response does not contain required substring for attribute: TS1_o, response: The cohesive and unified sound throughout the musical piece is created by using a specific pitch range of [RANGE] octaves. This song lasts [TM1] seconds and has an irregular time signature of [TIME_SIGNATURE]. There are no [INSTRUMENTS] present in this music, which is played at a high tempo. The music is filled with [EMOTION], resulting in a powerful and intense listening experience.\n",
      "Response does not contain required substring for attribute: T1_2, response: The music in question showcases a balanced beat and a rich and dynamic sonic palette through the use of the [KEY] key. It also conveys [EMOTION] through its performance, with a variety of [INSTRUMENTS] adding depth and complexity to the overall sound.\n",
      "Response does not contain required substring for attribute: TS1_1, response: This song plays for TM1 seconds and has a moderate beat. The music follows a TIME_SIGNATURE meter, giving it a consistent rhythmic feel.\n",
      "Response does not contain required substring for attribute: R1_0, response: This song has a duration of [TM1] seconds and features a moderate beat in [TIME_SIGNATURE] meter. [INSTRUMENTS] are utilized in the musical performance. However, the tempo of this music is not conducive to moving your body, and it does not fall squarely within the conventions of the [GENRE] sound.\n",
      "Response does not contain required substring for attribute: TM1_1, response: The music in this song features a distinctive character, emphasized by its pitch range of [RANGE] octaves, which adds depth to its emotional impact. Additionally, the use of the [KEY] key conveys a unique and resonant sound, further contributing to its overall effect. The song's serene rhythm, slow pace, and [TIME_SIGNATURE] meter all work together to create a tranquil atmosphere. The use of [INSTRUMENTS] is vital to the music, adding to the emotional depth and resonance of the piece. Overall, this music conveys a powerful sense of [EMOTION] that is sure to resonate with listeners.\n",
      "Response does not contain required substring for attribute: TM1_1, response: \n",
      "\n",
      "I'm sorry, but there doesn't seem to be enough context to create a coherent paragraph with just that one sentence. Please provide additional information or details about the topic you are referring to.\n",
      "Response does not contain required substring for attribute: T1_0, response: The music featuring [INSTRUMENTS] should be played quickly.\n",
      "Response does not contain required substring for attribute: R3_0, response: This laid-back song has a duration of [TM1] seconds and consists of [NUM_BARS] bars. The use of [INSTRUMENTS] is vital to the music, which radiates [EMOTION].\n",
      "Response does not contain required substring for attribute: TM1_1, response: This music offers a diverse and dynamic listening experience with a pitch range spanning [RANGE] octaves. The choice of [KEY] key results in a captivating and memorable experience, while the song's smooth and relaxing beat creates a pleasant atmosphere. Despite the absence of [INSTRUMENTS], the unconventional [TIME_SIGNATURE] time signature and fast-paced tempo make for an exciting composition. The song's [GENRE] influences define its style, and the [NUM_BARS] bars in total ensure a complete musical experience.\n",
      "Response does not contain required substring for attribute: TS1_o, response: The pitch range of [RANGE] octaves adds a distinctive character to the music, emphasizing its emotional depth, which is composed in the [KEY] key and plays for [TM1] seconds. With a relaxing tempo, this song intentionally avoids incorporating [INSTRUMENTS], while opting for a less common [TIME_SIGNATURE] time signature. Despite its quick beat, the music evokes a [EMOTION] feeling.\n",
      "Response does not contain required substring for attribute: R1_0, response: The pitch range of [RANGE] octaves adds a distinctive character to the music, emphasizing its emotional depth, while the choice of [KEY] key results in a captivating and memorable experience. With a runtime of [TM1] seconds, this song showcases a very powerful and driving beat that will make it impossible for you to resist grooving to its rhythm. Firmly rooted in the traditions of [GENRE] music, the song's style further enhances its overall impact.\n",
      "Response does not contain required substring for attribute: K1_1, response: The track, with a duration of [TM1] seconds, has opted not to incorporate [INSTRUMENTS], giving this music a special emotional quality. It is a low-speed song that evokes a [EMOTION] feeling.\n",
      "Response does not contain required substring for attribute: TM1_1, response: The music in this song is characterized by several unique elements. Firstly, the pitch range covers [RANGE] octaves, adding a distinct emotional depth to the music. Additionally, the use of the [KEY] key creates a specific atmosphere, while the absence of [INSTRUMENTS] further shapes the song's instrumentation. The music is played at a moderate tempo, using the [TIME_SIGNATURE] time signature, and [NUM_BARS] bars can be counted in the track. Overall, this song's sound is steeped in the conventions of [GENRE] style, making it a notable example of the genre.\n",
      "Response does not contain required substring for attribute: R1_0, response: This song, with a running time of [TM1] seconds and played at a swift pace, might not let you groove to its rhythm. However, the time signature of the music is [TIME_SIGNATURE], and it is [EMOTION] in nature.\n"
     ]
    }
   ],
   "source": [
    "acceptable_templates_file_path = f\"{verified_data_dir}/musecoco_acceptable_templates_en.json\"\n",
    "ignored_templates_file_path = f\"{verified_data_dir}/musecoco_ignored_templates_en.json\"\n",
    "\n",
    "filtered_gpt_refined_templates = filter_acceptable_gpt_refined_templates(musecoco_refined_template)"
   ]
  },
  {
   "cell_type": "code",
   "execution_count": 12,
   "metadata": {},
   "outputs": [
    {
     "name": "stdout",
     "output_type": "stream",
     "text": [
      "Accept 4815 templates\n",
      "Ignore 41 templates\n"
     ]
    }
   ],
   "source": [
    "acceptable_templates = filtered_gpt_refined_templates[\"acceptable_templates\"]\n",
    "print(f\"Accept {len(acceptable_templates)} templates\")\n",
    "\n",
    "ignored_templates = filtered_gpt_refined_templates[\"ignored_templates\"]\n",
    "print(f\"Ignore {len(ignored_templates)} templates\")"
   ]
  },
  {
   "cell_type": "code",
   "execution_count": 13,
   "metadata": {},
   "outputs": [
    {
     "name": "stdout",
     "output_type": "stream",
     "text": [
      "Total templates: 4856\n",
      "Total acceptable templates with unique responses:  4815\n"
     ]
    }
   ],
   "source": [
    "acceptable_templates_with_unique_responses: list = []\n",
    "\n",
    "already_existing_responses: set = set()\n",
    "\n",
    "for acceptable_template in acceptable_templates:\n",
    "    response = acceptable_template[\"response\"]\n",
    "\n",
    "    if response not in already_existing_responses:\n",
    "        already_existing_responses.add(response)\n",
    "\n",
    "        acceptable_templates_with_unique_responses.append(acceptable_template)\n",
    "    else:\n",
    "        print(f\"Response already exists: {response}\")\n",
    "\n",
    "acceptable_templates = acceptable_templates_with_unique_responses\n",
    "\n",
    "print(f\"Total templates: {len(musecoco_refined_template)}\")\n",
    "print(\"Total acceptable templates with unique responses: \", len(acceptable_templates))"
   ]
  },
  {
   "cell_type": "code",
   "execution_count": 14,
   "metadata": {},
   "outputs": [
    {
     "name": "stdout",
     "output_type": "stream",
     "text": [
      "All acceptable templates: 4815\n",
      "File path: /Users/4rr311/Documents/VectorA/KHTN/Nam4/HKII/Thesis/Brainstorming/Text/text_lib/Ideas/augmentation/data/verified/musecoco_acceptable_templates_en.json\n"
     ]
    }
   ],
   "source": [
    "with open(acceptable_templates_file_path, \"w\") as f:\n",
    "    json.dump(acceptable_templates, f, indent=4)\n",
    "\n",
    "print(f\"All acceptable templates: {len(acceptable_templates)}\")\n",
    "\n",
    "print(f\"File path: {acceptable_templates_file_path}\")"
   ]
  },
  {
   "cell_type": "code",
   "execution_count": 15,
   "metadata": {},
   "outputs": [
    {
     "name": "stdout",
     "output_type": "stream",
     "text": [
      "Ignored templates (except duplicated): 41\n",
      "File path: /Users/4rr311/Documents/VectorA/KHTN/Nam4/HKII/Thesis/Brainstorming/Text/text_lib/Ideas/augmentation/data/verified/musecoco_ignored_templates_en.json\n"
     ]
    }
   ],
   "source": [
    "\n",
    "with open(ignored_templates_file_path, \"w\") as f:\n",
    "    json.dump(ignored_templates, f, indent=4)\n",
    "\n",
    "print(f\"Ignored templates (except duplicated): {len(ignored_templates)}\")\n",
    "\n",
    "print(f\"File path: {ignored_templates_file_path}\")"
   ]
  }
 ],
 "metadata": {
  "kernelspec": {
   "display_name": "Python 3",
   "language": "python",
   "name": "python3"
  },
  "language_info": {
   "codemirror_mode": {
    "name": "ipython",
    "version": 3
   },
   "file_extension": ".py",
   "mimetype": "text/x-python",
   "name": "python",
   "nbconvert_exporter": "python",
   "pygments_lexer": "ipython3",
   "version": "3.10.10"
  }
 },
 "nbformat": 4,
 "nbformat_minor": 2
}
